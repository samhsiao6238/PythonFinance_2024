{
 "cells": [
  {
   "cell_type": "markdown",
   "metadata": {},
   "source": [
    "測試 Chrom Driver"
   ]
  },
  {
   "cell_type": "code",
   "execution_count": 2,
   "metadata": {},
   "outputs": [],
   "source": [
    "# 導入庫\n",
    "from selenium import webdriver\n",
    "from selenium.webdriver.chrome.service import Service\n",
    "from selenium.webdriver.common.by import By\n",
    "from selenium.webdriver.chrome.options import Options\n",
    "import time\n",
    "\n",
    "# 指定 chromedriver 的路徑\n",
    "chromedriver_path = \"./node_modules/chromedriver/bin/chromedriver\"  \n",
    "\n",
    "# 選項\n",
    "options = Options()\n",
    "# 無頭模式，沒有瀏覽器介面啟動\n",
    "options.headless = True\n",
    "\n",
    "# 設定 WebDriver\n",
    "service = Service(chromedriver_path)\n",
    "driver = webdriver.Chrome(service=service, options=options)\n",
    "\n",
    "# 定義 URL 及要查詢的主題\n",
    "_SUBJECT = ''\n",
    "_URL = f'https://news.google.com/home?hl=zh-TW&gl=TW&ceid=TW:zh-Hant'\n",
    "# 造訪網頁\n",
    "driver.get(_URL)\n",
    "\n",
    "# 等待頁面載入\n",
    "time.sleep(5)\n",
    "\n",
    "# 取得頁面原始碼\n",
    "page_source = driver.page_source\n",
    "\n",
    "# 關閉瀏覽器\n",
    "driver.quit()"
   ]
  }
 ],
 "metadata": {
  "kernelspec": {
   "display_name": "envDash",
   "language": "python",
   "name": "python3"
  },
  "language_info": {
   "codemirror_mode": {
    "name": "ipython",
    "version": 3
   },
   "file_extension": ".py",
   "mimetype": "text/x-python",
   "name": "python",
   "nbconvert_exporter": "python",
   "pygments_lexer": "ipython3",
   "version": "3.10.11"
  }
 },
 "nbformat": 4,
 "nbformat_minor": 2
}
