{
 "cells": [
  {
   "cell_type": "code",
   "execution_count": null,
   "metadata": {},
   "outputs": [],
   "source": [
    "import gradio as gr\n",
    "from transformers import pipeline\n",
    "from PIL import Image\n",
    "\n",
    "# 建立影像分類的 pipeline\n",
    "classifier = pipeline(\n",
    "    \"image-classification\",\n",
    "    model=\"google/vit-base-patch16-224\"\n",
    ")\n",
    "\n",
    "\n",
    "# 定義分類函數，確保影像以PIL格式傳遞\n",
    "def classify_image(image):\n",
    "    # 如果影像不是PIL格式，轉換為PIL格式\n",
    "    if not isinstance(image, Image.Image):\n",
    "        image = Image.fromarray(image)\n",
    "    result = classifier(image)\n",
    "    return {item[\"label\"]: item[\"score\"] for item in result}\n",
    "\n",
    "\n",
    "# 使用 Gradio 建立 Web 介面\n",
    "gr.Interface(\n",
    "    fn=classify_image,\n",
    "    inputs=gr.Image(type=\"numpy\"),\n",
    "    outputs=gr.Label()\n",
    ").launch()"
   ]
  },
  {
   "cell_type": "markdown",
   "metadata": {},
   "source": [
    "產生公鏈"
   ]
  },
  {
   "cell_type": "code",
   "execution_count": 4,
   "metadata": {},
   "outputs": [
    {
     "name": "stdout",
     "output_type": "stream",
     "text": [
      "Running on local URL:  http://127.0.0.1:7864\n",
      "Running on public URL: https://7dd4310ed55e789e15.gradio.live\n",
      "\n",
      "This share link expires in 72 hours. For free permanent hosting and GPU upgrades, run `gradio deploy` from Terminal to deploy to Spaces (https://huggingface.co/spaces)\n"
     ]
    },
    {
     "data": {
      "text/html": [
       "<div><iframe src=\"https://7dd4310ed55e789e15.gradio.live\" width=\"100%\" height=\"500\" allow=\"autoplay; camera; microphone; clipboard-read; clipboard-write;\" frameborder=\"0\" allowfullscreen></iframe></div>"
      ],
      "text/plain": [
       "<IPython.core.display.HTML object>"
      ]
     },
     "metadata": {},
     "output_type": "display_data"
    },
    {
     "data": {
      "text/plain": []
     },
     "execution_count": 4,
     "metadata": {},
     "output_type": "execute_result"
    }
   ],
   "source": [
    "import gradio as gr\n",
    "from transformers import pipeline\n",
    "from PIL import Image\n",
    "\n",
    "# 建立影像分類的 pipeline\n",
    "classifier = pipeline(\n",
    "    \"image-classification\",\n",
    "    model=\"google/vit-base-patch16-224\"\n",
    ")\n",
    "\n",
    "\n",
    "# 定義分類函數，確保影像以PIL格式傳遞\n",
    "def classify_image(image):\n",
    "    # 如果影像不是PIL格式，轉換為PIL格式\n",
    "    if not isinstance(image, Image.Image):\n",
    "        image = Image.fromarray(image)\n",
    "    result = classifier(image)\n",
    "    return {item[\"label\"]: item[\"score\"] for item in result}\n",
    "\n",
    "\n",
    "# 使用 Gradio 建立 Web 介面\n",
    "gr.Interface(\n",
    "    fn=classify_image,\n",
    "    inputs=gr.Image(type=\"numpy\"),\n",
    "    outputs=gr.Label()\n",
    ").launch(share=True)"
   ]
  }
 ],
 "metadata": {
  "kernelspec": {
   "display_name": "envllmChatBot",
   "language": "python",
   "name": "python3"
  },
  "language_info": {
   "codemirror_mode": {
    "name": "ipython",
    "version": 3
   },
   "file_extension": ".py",
   "mimetype": "text/x-python",
   "name": "python",
   "nbconvert_exporter": "python",
   "pygments_lexer": "ipython3",
   "version": "3.11.7"
  }
 },
 "nbformat": 4,
 "nbformat_minor": 2
}
