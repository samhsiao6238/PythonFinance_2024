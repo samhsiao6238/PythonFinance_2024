{
 "cells": [
  {
   "cell_type": "markdown",
   "metadata": {},
   "source": [
    "台銀 API"
   ]
  },
  {
   "cell_type": "code",
   "execution_count": null,
   "metadata": {},
   "outputs": [],
   "source": [
    "import pandas as pd\n",
    "\n",
    "url = \"https://rate.bot.com.tw/xrt/flcsv/0/day\"\n",
    "\n",
    "# 改用 UTF-8 讀取\n",
    "df = pd.read_csv(url, encoding=\"utf-8\")\n",
    "\n",
    "# 顯示前幾筆資料\n",
    "print(df.head())"
   ]
  },
  {
   "cell_type": "code",
   "execution_count": null,
   "metadata": {},
   "outputs": [],
   "source": [
    "import requests\n",
    "\n",
    "# API Key\n",
    "API_KEY = \"e65ffbaf012aae79987e8b0b\"\n",
    "base_currency = \"USD\"\n",
    "target_currency = \"TWD\"\n",
    "\n",
    "# API URL (使用最新匯率 API)\n",
    "url = f\"https://v6.exchangerate-api.com/v6/{API_KEY}/latest/{base_currency}\"\n",
    "\n",
    "# 發送請求\n",
    "response = requests.get(url)\n",
    "\n",
    "# 確保 API 回應成功\n",
    "if response.status_code == 200:\n",
    "    data = response.json()\n",
    "\n",
    "    # 取得 USD -> TWD 匯率\n",
    "    rate = data[\"conversion_rates\"].get(target_currency)\n",
    "\n",
    "    if rate:\n",
    "        print(f\"{base_currency} 兌換 {target_currency} 的最新匯率為: {rate}\")\n",
    "    else:\n",
    "        print(f\"無法取得 {target_currency} 的匯率\")\n",
    "else:\n",
    "    print(f\"API 錯誤，狀態碼: {response.status_code}, 錯誤訊息: {response.text}\")\n"
   ]
  },
  {
   "cell_type": "code",
   "execution_count": 1,
   "metadata": {},
   "outputs": [
    {
     "name": "stdout",
     "output_type": "stream",
     "text": [
      "錯誤：TWD is not a supported currency\n"
     ]
    }
   ],
   "source": [
    "from currency_converter import CurrencyConverter\n",
    "\n",
    "# 初始化 CurrencyConverter\n",
    "c = CurrencyConverter()\n",
    "\n",
    "# 查詢 USD 對 TWD 的匯率\n",
    "try:\n",
    "    usd_to_twd_rate = c.convert(1, 'USD', 'TWD')\n",
    "    print(f\"1 美元 = {usd_to_twd_rate:.2f} 新台幣\")\n",
    "except ValueError as e:\n",
    "    print(f\"錯誤：{e}\")"
   ]
  }
 ],
 "metadata": {
  "kernelspec": {
   "display_name": "envStock",
   "language": "python",
   "name": "python3"
  },
  "language_info": {
   "codemirror_mode": {
    "name": "ipython",
    "version": 3
   },
   "file_extension": ".py",
   "mimetype": "text/x-python",
   "name": "python",
   "nbconvert_exporter": "python",
   "pygments_lexer": "ipython3",
   "version": "3.10.11"
  }
 },
 "nbformat": 4,
 "nbformat_minor": 2
}
