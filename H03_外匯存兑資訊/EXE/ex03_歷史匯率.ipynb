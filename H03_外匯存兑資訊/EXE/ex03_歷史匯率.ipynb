{
 "cells": [
  {
   "cell_type": "markdown",
   "metadata": {},
   "source": [
    "台銀 API"
   ]
  },
  {
   "cell_type": "code",
   "execution_count": 6,
   "metadata": {},
   "outputs": [
    {
     "name": "stdout",
     "output_type": "stream",
     "text": [
      "       幣別      匯率      現金      即期   遠期10天   遠期30天   遠期60天   遠期90天  遠期120天  \\\n",
      "USD  本行買入  32.350  32.700  32.677  32.615  32.517  32.438  32.348  32.258   \n",
      "HKD  本行買入   4.058   4.184   4.181   4.175   4.166   4.159   4.150   4.141   \n",
      "GBP  本行買入  40.300  41.310  41.268  41.185  41.069  40.969  40.861  40.753   \n",
      "AUD  本行買入  20.490  20.780  20.741  20.664  20.609  20.564  20.514  20.465   \n",
      "CAD  本行買入  22.570  22.970  22.958  22.933  22.896  22.872  22.841  22.809   \n",
      "\n",
      "     遠期150天  ...    匯率.1    現金.1    即期.1  遠期10天.1  遠期30天.1  遠期60天.1  遠期90天.1  \\\n",
      "USD  32.175  ...  33.020  32.800  32.783   32.731   32.647   32.575   32.496   \n",
      "HKD   4.132  ...   4.262   4.244   4.242    4.238    4.229    4.222    4.214   \n",
      "GBP  40.645  ...  42.420  41.710  41.684   41.632   41.514   41.417   41.322   \n",
      "AUD  20.414  ...  21.270  20.980  20.987   21.002   20.946   20.903   20.858   \n",
      "CAD  22.777  ...  23.480  23.170  23.165   23.155   23.117   23.096   23.071   \n",
      "\n",
      "     遠期120天.1  遠期150天.1  遠期180天.1  \n",
      "USD    32.420    32.350       NaN  \n",
      "HKD     4.206     4.199       NaN  \n",
      "GBP    41.226    41.130       NaN  \n",
      "AUD    20.815    20.771       NaN  \n",
      "CAD    23.047    23.023       NaN  \n",
      "\n",
      "[5 rows x 21 columns]\n"
     ]
    }
   ],
   "source": [
    "import pandas as pd\n",
    "\n",
    "url = \"https://rate.bot.com.tw/xrt/flcsv/0/day\"\n",
    "\n",
    "# 改用 UTF-8 讀取\n",
    "df = pd.read_csv(url, encoding=\"utf-8\")\n",
    "\n",
    "# 顯示前幾筆資料\n",
    "print(df.head())"
   ]
  },
  {
   "cell_type": "markdown",
   "metadata": {},
   "source": [
    "使用 ExchangeRate-API"
   ]
  },
  {
   "cell_type": "code",
   "execution_count": 8,
   "metadata": {},
   "outputs": [
    {
     "name": "stdout",
     "output_type": "stream",
     "text": [
      "USD 兌換 TWD 的最新匯率為: 32.7538\n"
     ]
    }
   ],
   "source": [
    "import requests\n",
    "\n",
    "# API Key\n",
    "API_KEY = \"e65ffbaf012aae79987e8b0b\"\n",
    "base_currency = \"USD\"\n",
    "target_currency = \"TWD\"\n",
    "\n",
    "# API URL (使用最新匯率 API)\n",
    "url = f\"https://v6.exchangerate-api.com/v6/{API_KEY}/latest/{base_currency}\"\n",
    "\n",
    "# 發送請求\n",
    "response = requests.get(url)\n",
    "\n",
    "# 確保 API 回應成功\n",
    "if response.status_code == 200:\n",
    "    data = response.json()\n",
    "\n",
    "    # 取得 USD -> TWD 匯率\n",
    "    rate = data[\"conversion_rates\"].get(target_currency)\n",
    "\n",
    "    if rate:\n",
    "        print(f\"{base_currency} 兌換 {target_currency} 的最新匯率為: {rate}\")\n",
    "    else:\n",
    "        print(f\"無法取得 {target_currency} 的匯率\")\n",
    "else:\n",
    "    print(f\"API 錯誤，狀態碼: {response.status_code}, 錯誤訊息: {response.text}\")\n"
   ]
  },
  {
   "cell_type": "markdown",
   "metadata": {},
   "source": [
    "TWDER"
   ]
  },
  {
   "cell_type": "code",
   "execution_count": 4,
   "metadata": {},
   "outputs": [
    {
     "name": "stdout",
     "output_type": "stream",
     "text": [
      "美元兌新台幣匯率：\n",
      "現金買入：32.35\n",
      "現金賣出：33.02\n",
      "即期買入：32.7\n",
      "即期賣出：32.8\n"
     ]
    }
   ],
   "source": [
    "import twder\n",
    "\n",
    "# 取得所有幣別的即時匯率\n",
    "rates = twder.now_all()\n",
    "\n",
    "# 取得美元 (USD) 的即時匯率\n",
    "usd_rates = rates.get('USD')\n",
    "\n",
    "if usd_rates:\n",
    "    cash_buying = usd_rates[1]   # 現金買入\n",
    "    cash_selling = usd_rates[2]  # 現金賣出\n",
    "    spot_buying = usd_rates[3]   # 即期買入\n",
    "    spot_selling = usd_rates[4]  # 即期賣出\n",
    "\n",
    "    print(f\"美元兌新台幣匯率：\")\n",
    "    print(f\"現金買入：{cash_buying}\")\n",
    "    print(f\"現金賣出：{cash_selling}\")\n",
    "    print(f\"即期買入：{spot_buying}\")\n",
    "    print(f\"即期賣出：{spot_selling}\")\n",
    "else:\n",
    "    print(\"無法取得美元兌新台幣的匯率資料。\")\n"
   ]
  }
 ],
 "metadata": {
  "kernelspec": {
   "display_name": "envStock",
   "language": "python",
   "name": "python3"
  },
  "language_info": {
   "codemirror_mode": {
    "name": "ipython",
    "version": 3
   },
   "file_extension": ".py",
   "mimetype": "text/x-python",
   "name": "python",
   "nbconvert_exporter": "python",
   "pygments_lexer": "ipython3",
   "version": "3.10.11"
  }
 },
 "nbformat": 4,
 "nbformat_minor": 2
}
