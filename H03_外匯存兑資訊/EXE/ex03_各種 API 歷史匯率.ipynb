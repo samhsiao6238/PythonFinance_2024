{
 "cells": [
  {
   "cell_type": "markdown",
   "metadata": {},
   "source": [
    "# 台銀 API"
   ]
  },
  {
   "cell_type": "code",
   "execution_count": 2,
   "metadata": {},
   "outputs": [
    {
     "name": "stdout",
     "output_type": "stream",
     "text": [
      "       幣別      匯率      現金      即期   遠期10天   遠期30天   遠期60天   遠期90天  遠期120天  \\\n",
      "USD  本行買入  32.420  32.745  32.747  32.685  32.587  32.508  32.418  32.328   \n",
      "HKD  本行買入   4.064   4.185   4.187   4.180   4.172   4.164   4.155   4.146   \n",
      "GBP  本行買入  40.140  41.035  41.334  41.242  41.143  41.042  40.936  40.831   \n",
      "AUD  本行買入  20.040  20.255  20.550  20.509  20.466  20.421  20.373  20.326   \n",
      "CAD  本行買入  22.240  22.570  22.777  22.750  22.729  22.704  22.677  22.650   \n",
      "\n",
      "     遠期150天  ...    匯率.1    現金.1    即期.1  遠期10天.1  遠期30天.1  遠期60天.1  遠期90天.1  \\\n",
      "USD  32.245  ...  33.090  32.895  32.853   32.801   32.717   32.645   32.566   \n",
      "HKD   4.137  ...   4.268   4.255   4.248    4.243    4.235    4.227    4.219   \n",
      "GBP  40.726  ...  42.260  41.665  41.748   41.683   41.586   41.488   41.395   \n",
      "AUD  20.278  ...  20.820  20.600  20.756   20.728   20.686   20.640   20.598   \n",
      "CAD  22.623  ...  23.150  22.900  22.982   22.965   22.945   22.921   22.901   \n",
      "\n",
      "     遠期120天.1  遠期150天.1  遠期180天.1  \n",
      "USD    32.490    32.420       NaN  \n",
      "HKD     4.211     4.203       NaN  \n",
      "GBP    41.302    41.208       NaN  \n",
      "AUD    20.557    20.515       NaN  \n",
      "CAD    22.880    22.859       NaN  \n",
      "\n",
      "[5 rows x 21 columns]\n"
     ]
    }
   ],
   "source": [
    "import pandas as pd\n",
    "\n",
    "url = \"https://rate.bot.com.tw/xrt/flcsv/0/day\"\n",
    "\n",
    "# 改用 UTF-8 讀取\n",
    "df = pd.read_csv(url, encoding=\"utf-8\")\n",
    "\n",
    "# 顯示前幾筆資料\n",
    "print(df.head())"
   ]
  },
  {
   "cell_type": "markdown",
   "metadata": {},
   "source": [
    "# ExchangeRate-API"
   ]
  },
  {
   "cell_type": "code",
   "execution_count": null,
   "metadata": {},
   "outputs": [
    {
     "name": "stdout",
     "output_type": "stream",
     "text": [
      "USD 兌換 TWD 的最新匯率為: 32.8892\n"
     ]
    }
   ],
   "source": [
    "import requests\n",
    "import os\n",
    "from dotenv import load_dotenv\n",
    "\n",
    "# 讀取 `.env` 檔案\n",
    "load_dotenv()\n",
    "\n",
    "# 取得 API Key\n",
    "API_KEY = os.getenv(\"API_KEY\")\n",
    "# 幣別\n",
    "base_currency = \"USD\"\n",
    "target_currency = \"TWD\"\n",
    "\n",
    "# 最新匯率 API\n",
    "url = f\"https://v6.exchangerate-api.com/v6/{API_KEY}/latest/{base_currency}\"\n",
    "\n",
    "# 發送請求\n",
    "response = requests.get(url)\n",
    "\n",
    "# 確保 API 回應成功\n",
    "if response.status_code == 200:\n",
    "    data = response.json()\n",
    "\n",
    "    # 取得 USD -> TWD 匯率\n",
    "    rate = data[\"conversion_rates\"].get(target_currency)\n",
    "\n",
    "    if rate:\n",
    "        print(\n",
    "            f\"{base_currency} 兌換 {target_currency} \"\n",
    "            f\"的最新匯率為: {rate}\"\n",
    "        )\n",
    "    else:\n",
    "        print(f\"無法取得 {target_currency} 的匯率\")\n",
    "else:\n",
    "    print(\n",
    "        f\"API 錯誤，狀態碼: {response.status_code}, \"\n",
    "        f\"錯誤訊息: {response.text}\"\n",
    "    )\n"
   ]
  },
  {
   "cell_type": "markdown",
   "metadata": {},
   "source": [
    "TWDER"
   ]
  },
  {
   "cell_type": "code",
   "execution_count": null,
   "metadata": {},
   "outputs": [],
   "source": [
    "import twder\n",
    "\n",
    "# 取得所有幣別的即時匯率\n",
    "rates = twder.now_all()\n",
    "\n",
    "# 取得美元 (USD) 的即時匯率\n",
    "usd_rates = rates.get('USD')\n",
    "\n",
    "if usd_rates:\n",
    "    cash_buying = usd_rates[1]   # 現金買入\n",
    "    cash_selling = usd_rates[2]  # 現金賣出\n",
    "    spot_buying = usd_rates[3]   # 即期買入\n",
    "    spot_selling = usd_rates[4]  # 即期賣出\n",
    "\n",
    "    print(f\"美元兌新台幣匯率：\")\n",
    "    print(f\"現金買入：{cash_buying}\")\n",
    "    print(f\"現金賣出：{cash_selling}\")\n",
    "    print(f\"即期買入：{spot_buying}\")\n",
    "    print(f\"即期賣出：{spot_selling}\")\n",
    "else:\n",
    "    print(\"無法取得美元兌新台幣的匯率資料。\")\n"
   ]
  }
 ],
 "metadata": {
  "kernelspec": {
   "display_name": "envStock",
   "language": "python",
   "name": "python3"
  },
  "language_info": {
   "codemirror_mode": {
    "name": "ipython",
    "version": 3
   },
   "file_extension": ".py",
   "mimetype": "text/x-python",
   "name": "python",
   "nbconvert_exporter": "python",
   "pygments_lexer": "ipython3",
   "version": "3.10.11"
  }
 },
 "nbformat": 4,
 "nbformat_minor": 2
}
