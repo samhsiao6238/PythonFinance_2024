{
 "cells": [
  {
   "cell_type": "markdown",
   "metadata": {},
   "source": [
    "進入指定網頁後先螢幕截圖"
   ]
  },
  {
   "cell_type": "code",
   "execution_count": 5,
   "metadata": {},
   "outputs": [],
   "source": [
    "from selenium import webdriver\n",
    "from selenium.webdriver.chrome.service import Service\n",
    "from selenium.webdriver.chrome.options import Options\n",
    "import time\n",
    "\n",
    "# 初始化 WebDriver\n",
    "options = Options()\n",
    "options.headless = True  # 使用無頭模式\n",
    "service = Service('./node_modules/chromedriver/bin/chromedriver')  # 指定 chromedriver 的路徑\n",
    "driver = webdriver.Chrome(service=service, options=options)\n",
    "\n",
    "# 訪問目標網頁\n",
    "url = 'https://www.boerse-frankfurt.de/bond/us872898aj06-tsmc-arizona-corp-4-5-22-52'\n",
    "driver.get(url)\n",
    "\n",
    "# 確保頁面充分加載\n",
    "time.sleep(5)  # 根據實際情況可能需要調整等待時間\n",
    "\n",
    "# 截取整個頁面的圖片\n",
    "driver.save_screenshot('screenshot.png')\n",
    "\n",
    "# 關閉 WebDriver\n",
    "driver.quit()\n"
   ]
  },
  {
   "cell_type": "markdown",
   "metadata": {},
   "source": [
    "嘗試定位點擊可能出現的 Accept 按鈕"
   ]
  },
  {
   "cell_type": "code",
   "execution_count": 8,
   "metadata": {},
   "outputs": [],
   "source": [
    "from selenium import webdriver\n",
    "from selenium.webdriver.chrome.service import Service\n",
    "from selenium.webdriver.common.by import By\n",
    "from selenium.webdriver.common.action_chains import ActionChains\n",
    "import time\n",
    "\n",
    "# 初始化 WebDriver\n",
    "options = webdriver.ChromeOptions()\n",
    "# 或設置為 False 以便於觀察過程\n",
    "options.headless = True\n",
    "# 指定 chromedriver 的路徑\n",
    "service = Service(\"./node_modules/chromedriver/bin/chromedriver\")\n",
    "driver = webdriver.Chrome(service=service, options=options)\n",
    "\n",
    "# 訪問目標網頁\n",
    "url = \"https://www.boerse-frankfurt.de/bond/us872898aj06-tsmc-arizona-corp-4-5-22-52\"\n",
    "driver.get(url)\n",
    "\n",
    "# 等待 Cookie 提示出現，根據實際情況可能需要調整等待時間\n",
    "time.sleep(5)  \n",
    "\n",
    "# 使用 ActionChains 進行定位點擊\n",
    "cookie_accept_button = driver.find_element(By.ID, \"cookie-hint-btn-accept\")\n",
    "ActionChains(driver).move_to_element(cookie_accept_button).click().perform()\n",
    "\n",
    "# 等待頁面更新\n",
    "time.sleep(5)\n",
    "\n",
    "# 截取頁面的圖片\n",
    "driver.save_screenshot(\"screenshot.png\")\n",
    "\n",
    "# 關閉 WebDriver\n",
    "driver.quit()"
   ]
  }
 ],
 "metadata": {
  "kernelspec": {
   "display_name": "envDash",
   "language": "python",
   "name": "python3"
  },
  "language_info": {
   "codemirror_mode": {
    "name": "ipython",
    "version": 3
   },
   "file_extension": ".py",
   "mimetype": "text/x-python",
   "name": "python",
   "nbconvert_exporter": "python",
   "pygments_lexer": "ipython3",
   "version": "3.10.11"
  }
 },
 "nbformat": 4,
 "nbformat_minor": 2
}
