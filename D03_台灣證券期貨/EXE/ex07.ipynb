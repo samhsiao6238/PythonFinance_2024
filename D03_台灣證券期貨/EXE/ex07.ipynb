{
 "cells": [
  {
   "cell_type": "code",
   "execution_count": 22,
   "metadata": {},
   "outputs": [
    {
     "name": "stdout",
     "output_type": "stream",
     "text": [
      "   股票代號 交易類型        買入時間 買入價格         賣出時間 賣出價格 單位\n",
      "0  2330  Buy  2023-01-01  100  2023- 01-02  110  1\n"
     ]
    }
   ],
   "source": [
    "import pandas as pd\n",
    "\n",
    "# 建立一個空的 DataFrame\n",
    "trade = pd.DataFrame(columns=['股票代號', '交易類型', '買入時間', '買入價格', '賣出時間', '賣出價格', '單位'])\n",
    "\n",
    "# 建立一個 Series 物件表示新的行\n",
    "new_trade = pd.Series(\n",
    "     {'股票代號': '2330', '交易類型': 'Buy', '買入時間': '2023-01-01', '買入價格': 100, '賣出時間': '2023- 01-02', '賣出價格': 110, '單位': 1}\n",
    ")\n",
    "\n",
    "# 將 Series 轉換為 DataFrame 並進行轉置，使其成為一行\n",
    "new_trade_df = new_trade.to_frame().T\n",
    "\n",
    "# 使用 concat 方法將新的 DataFrame 物件新增至原有 DataFrame 中\n",
    "trade = pd.concat([trade, new_trade_df], ignore_index=True)\n",
    "\n",
    "# 列印新的 DataFrame\n",
    "print(trade)"
   ]
  },
  {
   "cell_type": "markdown",
   "metadata": {},
   "source": [
    "在新版本 pandas 使用 append 時要改用 _append"
   ]
  },
  {
   "cell_type": "code",
   "execution_count": 21,
   "metadata": {},
   "outputs": [
    {
     "name": "stdout",
     "output_type": "stream",
     "text": [
      "   股票代號 交易類型        買入時間 買入價格         賣出時間 賣出價格 單位\n",
      "0  2330  Buy  2023-01-01  100  2023- 01-02  110  1\n"
     ]
    }
   ],
   "source": [
    "import pandas as pd\n",
    "\n",
    "# 建立一個空的 DataFrame\n",
    "trade = pd.DataFrame(columns=['股票代號', '交易類型', '買入時間', '買入價格', '賣出時間', '賣出價格', '單位'])\n",
    "\n",
    "# 建立一個 Series 物件表示新的行\n",
    "new_trade = pd.Series(\n",
    "     {'股票代號': '2330', '交易類型': 'Buy', '買入時間': '2023-01-01', '買入價格': 100, '賣出時間': '2023- 01-02', '賣出價格': 110, '單位': 1}\n",
    ")\n",
    "\n",
    "# 使用 append 方法將新的 Series 物件新增至 DataFrame 中\n",
    "trade = trade._append(new_trade, ignore_index=True)\n",
    "\n",
    "# 列印新的 DataFrame\n",
    "print(trade)"
   ]
  },
  {
   "cell_type": "code",
   "execution_count": null,
   "metadata": {},
   "outputs": [],
   "source": [
    "import yfinance as yf\n",
    "import os\n",
    "import pandas as pd\n",
    "import mplfinance as mpf\n",
    "\n",
    "\n",
    "# 更新資料源為 yahoo finance\n",
    "def getDataFM(prod, st, en):\n",
    "    # 下載檔案\n",
    "    _file = \"data//YF_%s_%s_%s_stock_daily_adj.csv\" % (prod, st, en)\n",
    "    if os.path.exists(_file):\n",
    "        data = pd.read_csv(_file)\n",
    "        data[\"Date\"] = pd.to_datetime(data[\"Date\"])\n",
    "        data = data.set_index(\"Date\")\n",
    "    else:\n",
    "        data = yf.download(f\"{prod}.TW\", start=st, end=en)\n",
    "        data.columns = [i.lower() for i in data.columns]\n",
    "        # 除錯 如果沒有資料\n",
    "        if data.shape[0] == 0:\n",
    "            print(\"沒有資料\")\n",
    "            return pd.DataFrame()\n",
    "        # 將資料寫入備份檔\n",
    "        data.to_csv(_file)\n",
    "    return data"
   ]
  },
  {
   "cell_type": "code",
   "execution_count": null,
   "metadata": {},
   "outputs": [],
   "source": [
    "# 取得回測資料\n",
    "prod = \"2330\"\n",
    "data = getDataFM(prod, \"2013-01-01\", \"2023-12-15\")"
   ]
  },
  {
   "cell_type": "code",
   "execution_count": null,
   "metadata": {},
   "outputs": [],
   "source": [
    "# 繪製交易記錄圖\n",
    "def ChartTrade(data, trade=pd.DataFrame(), addp=[], v_enable=True):\n",
    "    addp = addp.copy()\n",
    "    data1 = data.copy()\n",
    "    # 如果有交易紀錄，則把交易紀錄與K線彙整\n",
    "    if trade.shape[0] > 0:\n",
    "        # 將物件複製出來，不影響原本的交易明細變數\n",
    "        trade1 = trade.copy()\n",
    "        # 取出進場明細，透過時間索引將資料合併\n",
    "        buy_order_trade = trade1[[2, 3]]\n",
    "        buy_order_trade = buy_order_trade.set_index(2)\n",
    "        buy_order_trade.columns = [\"buy_order\"]\n",
    "        buy_order_trade = buy_order_trade.drop_duplicates()\n",
    "        # 取出出場明細，透過時間索引將資料合併\n",
    "        buy_cover_trade = trade1[[4, 5]]\n",
    "        buy_cover_trade = buy_cover_trade.set_index(4)\n",
    "        buy_cover_trade.columns = [\"buy_cover\"]\n",
    "        buy_cover_trade = buy_cover_trade.drop_duplicates()\n",
    "        # 將交易紀錄與K線資料彙整\n",
    "        data1 = pd.concat([data1, buy_order_trade, buy_cover_trade], axis=1)\n",
    "\n",
    "        # 將交易紀錄透過副圖的方式繪製\n",
    "        addp.append(\n",
    "            mpf.make_addplot(\n",
    "                data1[\"buy_order\"],\n",
    "                type=\"scatter\",\n",
    "                color=\"#FF4500\",\n",
    "                marker=\"^\",\n",
    "                markersize=50,\n",
    "            )\n",
    "        )\n",
    "        addp.append(\n",
    "            mpf.make_addplot(\n",
    "                data1[\"buy_cover\"],\n",
    "                type=\"scatter\",\n",
    "                color=\"#16982B\",\n",
    "                marker=\"v\",\n",
    "                markersize=50,\n",
    "            )\n",
    "        )\n",
    "    # 繪製圖表\n",
    "    mcolor = mpf.make_marketcolors(up=\"r\", down=\"g\", inherit=True)\n",
    "    mstyle = mpf.make_mpf_style(base_mpf_style=\"yahoo\", marketcolors=mcolor)\n",
    "    mpf.plot(data1, addplot=addp, style=mstyle, type=\"candle\", volume=v_enable)\n"
   ]
  },
  {
   "cell_type": "code",
   "execution_count": null,
   "metadata": {},
   "outputs": [],
   "source": [
    "# 初始部位\n",
    "position = 0\n",
    "trade = pd.DataFrame()\n",
    "print(\"***********************\")\n",
    "print(type(trade))"
   ]
  },
  {
   "cell_type": "code",
   "execution_count": null,
   "metadata": {},
   "outputs": [],
   "source": [
    "# 開始回測\n",
    "for i in range(data.shape[0] - 1):\n",
    "    # 取得策略會應用到的變數\n",
    "    c_time = data.index[i]\n",
    "    c_low = data.loc[c_time, \"low\"]\n",
    "    c_high = data.loc[c_time, \"high\"]\n",
    "    c_close = data.loc[c_time, \"close\"]\n",
    "    c_open = data.loc[c_time, \"open\"]\n",
    "    # 取下一期資料做為進場資料\n",
    "    n_time = data.index[i + 1]\n",
    "    n_open = data.loc[n_time, \"open\"]\n",
    "\n",
    "    # 進場程序\n",
    "    if position == 0:\n",
    "        # 進場邏輯\n",
    "        if c_close > c_open and (c_close - c_open) * 2 < (c_open - c_low):\n",
    "            position = 1\n",
    "            order_i = i\n",
    "            order_time = n_time\n",
    "            order_price = n_open\n",
    "            order_unit = 1\n",
    "    # 出場程序\n",
    "    elif position == 1:\n",
    "        # 出場邏輯\n",
    "        if i > order_i + 3 and c_close > c_open:\n",
    "            position = 0\n",
    "            cover_time = n_time\n",
    "            cover_price = n_open\n",
    "            # 交易紀錄\n",
    "            # trade = trade._append(\n",
    "            trade = trade.concat(\n",
    "                pd.Series(\n",
    "                    [\n",
    "                        prod,\n",
    "                        \"Buy\",\n",
    "                        order_time,\n",
    "                        order_price,\n",
    "                        cover_time,\n",
    "                        cover_price,\n",
    "                        order_unit,\n",
    "                    ]\n",
    "                ),\n",
    "                ignore_index=True,\n",
    "            )\n",
    "\n",
    "\n",
    "# 繪製K線圖與交易明細\n",
    "ChartTrade(data, trade)"
   ]
  }
 ],
 "metadata": {
  "kernelspec": {
   "display_name": "envDash",
   "language": "python",
   "name": "python3"
  },
  "language_info": {
   "codemirror_mode": {
    "name": "ipython",
    "version": 3
   },
   "file_extension": ".py",
   "mimetype": "text/x-python",
   "name": "python",
   "nbconvert_exporter": "python",
   "pygments_lexer": "ipython3",
   "version": "3.10.11"
  }
 },
 "nbformat": 4,
 "nbformat_minor": 2
}
