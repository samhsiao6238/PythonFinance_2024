{
 "cells": [
  {
   "cell_type": "code",
   "execution_count": null,
   "metadata": {},
   "outputs": [],
   "source": [
    "%pip install pandas_datareader"
   ]
  },
  {
   "cell_type": "code",
   "execution_count": 4,
   "metadata": {},
   "outputs": [
    {
     "name": "stdout",
     "output_type": "stream",
     "text": [
      "Found existing installation: nbformat 5.9.2\n",
      "Uninstalling nbformat-5.9.2:\n",
      "  Would remove:\n",
      "    /Users/samhsiao/Documents/PythonVenv/envDash/bin/jupyter-trust\n",
      "    /Users/samhsiao/Documents/PythonVenv/envDash/lib/python3.10/site-packages/nbformat-5.9.2.dist-info/*\n",
      "    /Users/samhsiao/Documents/PythonVenv/envDash/lib/python3.10/site-packages/nbformat/*\n",
      "Proceed (Y/n)? "
     ]
    }
   ],
   "source": [
    "%pip uninstall nbformat"
   ]
  },
  {
   "cell_type": "code",
   "execution_count": 3,
   "metadata": {},
   "outputs": [
    {
     "name": "stdout",
     "output_type": "stream",
     "text": [
      "[*********************100%%**********************]  1 of 1 completed\n",
      "                            Open   High    Low  Close  Adj Close  Volume\n",
      "Datetime                                                                \n",
      "2023-12-13 09:00:00+08:00  576.0  578.0  576.0  577.0      577.0       0\n",
      "2023-12-13 09:01:00+08:00  578.0  578.0  577.0  578.0      578.0  120000\n",
      "2023-12-13 09:02:00+08:00  578.0  578.0  577.0  578.0      578.0  139000\n",
      "2023-12-13 09:03:00+08:00  577.0  578.0  577.0  577.0      577.0  180000\n",
      "2023-12-13 09:04:00+08:00  577.0  578.0  577.0  577.0      577.0   57000\n",
      "...                          ...    ...    ...    ...        ...     ...\n",
      "2023-12-13 13:20:00+08:00  576.0  577.0  576.0  577.0      577.0   62810\n",
      "2023-12-13 13:21:00+08:00  577.0  577.0  576.0  576.0      576.0   97262\n",
      "2023-12-13 13:22:00+08:00  577.0  577.0  576.0  576.0      576.0   81968\n",
      "2023-12-13 13:23:00+08:00  577.0  577.0  576.0  576.0      576.0  117809\n",
      "2023-12-13 13:24:00+08:00  576.0  578.0  576.0  578.0      578.0  487658\n",
      "\n",
      "[265 rows x 6 columns]\n"
     ]
    },
    {
     "ename": "ValueError",
     "evalue": "Mime type rendering requires nbformat>=4.2.0 but it is not installed",
     "output_type": "error",
     "traceback": [
      "\u001b[0;31m---------------------------------------------------------------------------\u001b[0m",
      "\u001b[0;31mValueError\u001b[0m                                Traceback (most recent call last)",
      "Cell \u001b[0;32mIn[3], line 71\u001b[0m\n\u001b[1;32m     55\u001b[0m fig\u001b[38;5;241m.\u001b[39mupdate_xaxes(\n\u001b[1;32m     56\u001b[0m     rangeslider_visible\u001b[38;5;241m=\u001b[39m\u001b[38;5;28;01mTrue\u001b[39;00m,\n\u001b[1;32m     57\u001b[0m     rangeselector\u001b[38;5;241m=\u001b[39m\u001b[38;5;28mdict\u001b[39m(\n\u001b[0;32m   (...)\u001b[0m\n\u001b[1;32m     67\u001b[0m     ),\n\u001b[1;32m     68\u001b[0m )\n\u001b[1;32m     70\u001b[0m \u001b[38;5;66;03m# 顯示圖表\u001b[39;00m\n\u001b[0;32m---> 71\u001b[0m \u001b[43mfig\u001b[49m\u001b[38;5;241;43m.\u001b[39;49m\u001b[43mshow\u001b[49m\u001b[43m(\u001b[49m\u001b[43m)\u001b[49m\n",
      "File \u001b[0;32m~/Documents/PythonVenv/envDash/lib/python3.10/site-packages/plotly/basedatatypes.py:3410\u001b[0m, in \u001b[0;36mBaseFigure.show\u001b[0;34m(self, *args, **kwargs)\u001b[0m\n\u001b[1;32m   3377\u001b[0m \u001b[38;5;250m\u001b[39m\u001b[38;5;124;03m\"\"\"\u001b[39;00m\n\u001b[1;32m   3378\u001b[0m \u001b[38;5;124;03mShow a figure using either the default renderer(s) or the renderer(s)\u001b[39;00m\n\u001b[1;32m   3379\u001b[0m \u001b[38;5;124;03mspecified by the renderer argument\u001b[39;00m\n\u001b[0;32m   (...)\u001b[0m\n\u001b[1;32m   3406\u001b[0m \u001b[38;5;124;03mNone\u001b[39;00m\n\u001b[1;32m   3407\u001b[0m \u001b[38;5;124;03m\"\"\"\u001b[39;00m\n\u001b[1;32m   3408\u001b[0m \u001b[38;5;28;01mimport\u001b[39;00m \u001b[38;5;21;01mplotly\u001b[39;00m\u001b[38;5;21;01m.\u001b[39;00m\u001b[38;5;21;01mio\u001b[39;00m \u001b[38;5;28;01mas\u001b[39;00m \u001b[38;5;21;01mpio\u001b[39;00m\n\u001b[0;32m-> 3410\u001b[0m \u001b[38;5;28;01mreturn\u001b[39;00m \u001b[43mpio\u001b[49m\u001b[38;5;241;43m.\u001b[39;49m\u001b[43mshow\u001b[49m\u001b[43m(\u001b[49m\u001b[38;5;28;43mself\u001b[39;49m\u001b[43m,\u001b[49m\u001b[43m \u001b[49m\u001b[38;5;241;43m*\u001b[39;49m\u001b[43margs\u001b[49m\u001b[43m,\u001b[49m\u001b[43m \u001b[49m\u001b[38;5;241;43m*\u001b[39;49m\u001b[38;5;241;43m*\u001b[39;49m\u001b[43mkwargs\u001b[49m\u001b[43m)\u001b[49m\n",
      "File \u001b[0;32m~/Documents/PythonVenv/envDash/lib/python3.10/site-packages/plotly/io/_renderers.py:394\u001b[0m, in \u001b[0;36mshow\u001b[0;34m(fig, renderer, validate, **kwargs)\u001b[0m\n\u001b[1;32m    389\u001b[0m         \u001b[38;5;28;01mraise\u001b[39;00m \u001b[38;5;167;01mValueError\u001b[39;00m(\n\u001b[1;32m    390\u001b[0m             \u001b[38;5;124m\"\u001b[39m\u001b[38;5;124mMime type rendering requires ipython but it is not installed\u001b[39m\u001b[38;5;124m\"\u001b[39m\n\u001b[1;32m    391\u001b[0m         )\n\u001b[1;32m    393\u001b[0m     \u001b[38;5;28;01mif\u001b[39;00m \u001b[38;5;129;01mnot\u001b[39;00m nbformat \u001b[38;5;129;01mor\u001b[39;00m Version(nbformat\u001b[38;5;241m.\u001b[39m__version__) \u001b[38;5;241m<\u001b[39m Version(\u001b[38;5;124m\"\u001b[39m\u001b[38;5;124m4.2.0\u001b[39m\u001b[38;5;124m\"\u001b[39m):\n\u001b[0;32m--> 394\u001b[0m         \u001b[38;5;28;01mraise\u001b[39;00m \u001b[38;5;167;01mValueError\u001b[39;00m(\n\u001b[1;32m    395\u001b[0m             \u001b[38;5;124m\"\u001b[39m\u001b[38;5;124mMime type rendering requires nbformat>=4.2.0 but it is not installed\u001b[39m\u001b[38;5;124m\"\u001b[39m\n\u001b[1;32m    396\u001b[0m         )\n\u001b[1;32m    398\u001b[0m     ipython_display\u001b[38;5;241m.\u001b[39mdisplay(bundle, raw\u001b[38;5;241m=\u001b[39m\u001b[38;5;28;01mTrue\u001b[39;00m)\n\u001b[1;32m    400\u001b[0m \u001b[38;5;66;03m# external renderers\u001b[39;00m\n",
      "\u001b[0;31mValueError\u001b[0m: Mime type rendering requires nbformat>=4.2.0 but it is not installed"
     ]
    }
   ],
   "source": [
    "\"\"\"引入庫\"\"\"\n",
    "# 用於數值運算\n",
    "import numpy as np\n",
    "\n",
    "# 用於數據處理\n",
    "import pandas as pd\n",
    "\n",
    "# 從 pandas_datareader 引入 data\n",
    "from pandas_datareader import data as pdr\n",
    "\n",
    "\"\"\"引入市場數據\"\"\"\n",
    "# 從 yfinance 獲取股票市場數據\n",
    "import yfinance as yf\n",
    "\n",
    "\"\"\"引入繪圖/可視化工具\"\"\"\n",
    "# 引入 datetime 處理日期和時間\n",
    "import datetime as dt\n",
    "\n",
    "# 引入 plotly 進行圖形繪製\n",
    "import plotly.graph_objs as go\n",
    "\n",
    "# 覆蓋 Yahoo Finance 的默認設置\n",
    "yf.pdr_override()\n",
    "\n",
    "# 獲取用戶輸入的股票代號\n",
    "stock = input(\"輸入要查詢的股票簡稱 symbol：\")\n",
    "\n",
    "# 從 yfinance API 獲取股票數據，時間範圍為1天，間隔為1分鐘\n",
    "df = yf.download(tickers=stock, period=\"1d\", interval=\"1m\")\n",
    "\n",
    "# 打印獲取的股票數據\n",
    "print(df)\n",
    "\n",
    "# 宣告 plotly 圖表\n",
    "fig = go.Figure()\n",
    "\n",
    "# 向圖表添加蠟燭圖軌跡\n",
    "fig.add_trace(\n",
    "    go.Candlestick(\n",
    "        x=df.index,\n",
    "        open=df[\"Open\"],\n",
    "        high=df[\"High\"],\n",
    "        low=df[\"Low\"],\n",
    "        close=df[\"Close\"],\n",
    "        name=\"market data\",\n",
    "    )\n",
    ")\n",
    "\n",
    "# 更新圖表的佈局\n",
    "fig.update_layout(\n",
    "    title=str(stock) + \" Live Share Price:\", yaxis_title=\"Stock Price (USD per Shares)\"\n",
    ")\n",
    "\n",
    "# 更新 x 軸的設置，包括範圍滑塊和範圍選擇器\n",
    "fig.update_xaxes(\n",
    "    rangeslider_visible=True,\n",
    "    rangeselector=dict(\n",
    "        buttons=list(\n",
    "            [\n",
    "                dict(count=15, label=\"15m\", step=\"minute\", stepmode=\"backward\"),\n",
    "                dict(count=45, label=\"45m\", step=\"minute\", stepmode=\"backward\"),\n",
    "                dict(count=1, label=\"HTD\", step=\"hour\", stepmode=\"todate\"),\n",
    "                dict(count=3, label=\"3h\", step=\"hour\", stepmode=\"backward\"),\n",
    "                dict(step=\"all\"),\n",
    "            ]\n",
    "        )\n",
    "    ),\n",
    ")\n",
    "\n",
    "# 顯示圖表\n",
    "fig.show()"
   ]
  },
  {
   "cell_type": "markdown",
   "metadata": {},
   "source": [
    "添加移動平均線"
   ]
  },
  {
   "cell_type": "code",
   "execution_count": null,
   "metadata": {},
   "outputs": [],
   "source": [
    "# 從 yfinance API 獲取股票數據，時間範圍為1天，間隔為5分鐘\n",
    "df = yf.download(tickers=stock, period=\"1d\", interval=\"5m\")\n",
    "# add Moving Averages (5day and 20day) to df \n",
    "df['MA5'] = df['Close'].rolling(window=5).mean()\n",
    "df['MA20'] = df['Close'].rolling(window=20).mean()\n",
    "# Add 5-day Moving Average Trace\n",
    "fig.add_trace(go.Scatter(x=df.index, \n",
    "                         y=df['MA5'], \n",
    "                         opacity=0.7, \n",
    "                         line=dict(color='blue', width=2), \n",
    "                         name='MA 5'))\n",
    "# Add 20-day Moving Average Trace\n",
    "fig.add_trace(go.Scatter(x=df.index, \n",
    "                         y=df['MA20'], \n",
    "                         opacity=0.7, \n",
    "                         line=dict(color='orange', width=2), \n",
    "                         name='MA 20'))"
   ]
  }
 ],
 "metadata": {
  "kernelspec": {
   "display_name": "envDash",
   "language": "python",
   "name": "python3"
  },
  "language_info": {
   "codemirror_mode": {
    "name": "ipython",
    "version": 3
   },
   "file_extension": ".py",
   "mimetype": "text/x-python",
   "name": "python",
   "nbconvert_exporter": "python",
   "pygments_lexer": "ipython3",
   "version": "3.10.11"
  }
 },
 "nbformat": 4,
 "nbformat_minor": 2
}
