{
 "cells": [
  {
   "cell_type": "code",
   "execution_count": 1,
   "metadata": {},
   "outputs": [
    {
     "name": "stdout",
     "output_type": "stream",
     "text": [
      "股市資料 (含 Volume) 已儲存到 data/股市資料_V2_20240101-20250516.xlsx\n"
     ]
    }
   ],
   "source": [
    "import pandas as pd\n",
    "import numpy as np\n",
    "import openpyxl\n",
    "import datetime\n",
    "\n",
    "# 設定隨機數種子以保持數據一致性\n",
    "np.random.seed(0)\n",
    "\n",
    "# 模擬 360 天的股市資料，僅包含工作日\n",
    "dates = pd.date_range(\n",
    "    start=\"2024-01-01\", periods=360, freq='B'\n",
    ")\n",
    "\n",
    "# 產生股市數據\n",
    "open_prices = np.random.uniform(low=100, high=200, size=len(dates))\n",
    "high_prices = open_prices + np.random.uniform(low=0, high=10, size=len(dates))\n",
    "low_prices = open_prices - np.random.uniform(low=0, high=10, size=len(dates))\n",
    "close_prices = np.random.uniform(low=low_prices, high=high_prices)\n",
    "\n",
    "# 隨機生成成交量 (Volume)，假設範圍為 100 萬到 500 萬\n",
    "volume = np.random.randint(1_000_000, 5_000_000, size=len(dates))\n",
    "\n",
    "# 建立 DataFrame\n",
    "stock_data = pd.DataFrame({\n",
    "    # 只保留 \"YYYY-MM-DD\"\n",
    "    'Date': dates.strftime('%Y-%m-%d'),\n",
    "    'Open': open_prices,\n",
    "    'High': high_prices,\n",
    "    'Low': low_prices,\n",
    "    'Close': close_prices,\n",
    "    # 新增 Volume (成交量)\n",
    "    'Volume': volume\n",
    "})\n",
    "\n",
    "# 設定存檔名稱 (使用日期範圍作為尾綴)\n",
    "start_date = stock_data['Date'].iloc[0].replace('-', '')\n",
    "end_date = stock_data['Date'].iloc[-1].replace('-', '')\n",
    "excel_file_path = f'data/股市資料_V2_{start_date}-{end_date}.xlsx'\n",
    "\n",
    "# 儲存數據到 Excel (設定 sheet 名稱)\n",
    "with pd.ExcelWriter(excel_file_path, engine='openpyxl') as writer:\n",
    "    stock_data.to_excel(writer, index=False, sheet_name=\"Stock Data\")\n",
    "\n",
    "print(f\"股市資料 (含 Volume) 已儲存到 {excel_file_path}\")"
   ]
  },
  {
   "cell_type": "code",
   "execution_count": 2,
   "metadata": {},
   "outputs": [
    {
     "name": "stdout",
     "output_type": "stream",
     "text": [
      "OBV 計算結果已儲存到 data/股市資料_OBV.xlsx\n"
     ]
    }
   ],
   "source": [
    "import talib\n",
    "\n",
    "# 讀取 Excel 檔案\n",
    "df = pd.read_excel(excel_file_path)\n",
    "\n",
    "# 確保轉換為 NumPy 陣列\n",
    "close = df[\"Close\"].values.astype(np.float64)\n",
    "volume = df[\"Volume\"].values.astype(np.float64)\n",
    "\n",
    "# 計算 OBV\n",
    "df[\"OBV\"] = talib.OBV(close, volume)\n",
    "\n",
    "# 儲存結果\n",
    "output_file = \"data/股市資料_OBV.xlsx\"\n",
    "df.to_excel(output_file, index=False)\n",
    "print(f\"OBV 計算結果已儲存到 {output_file}\")"
   ]
  }
 ],
 "metadata": {
  "kernelspec": {
   "display_name": "envStock",
   "language": "python",
   "name": "python3"
  },
  "language_info": {
   "codemirror_mode": {
    "name": "ipython",
    "version": 3
   },
   "file_extension": ".py",
   "mimetype": "text/x-python",
   "name": "python",
   "nbconvert_exporter": "python",
   "pygments_lexer": "ipython3",
   "version": "3.10.11"
  }
 },
 "nbformat": 4,
 "nbformat_minor": 2
}
