{
 "cells": [
  {
   "cell_type": "code",
   "execution_count": 2,
   "metadata": {},
   "outputs": [
    {
     "name": "stdout",
     "output_type": "stream",
     "text": [
      "content='台灣當前局勢為何？'\n"
     ]
    }
   ],
   "source": [
    "from langchain_core.messages import HumanMessage\n",
    "\n",
    "user_input = \"台灣當前局勢為何？\"\n",
    "\n",
    "message = HumanMessage(content=user_input)\n",
    "print(message)"
   ]
  },
  {
   "cell_type": "markdown",
   "metadata": {},
   "source": [
    "擴展 HumanMessage 類的例子"
   ]
  },
  {
   "cell_type": "code",
   "execution_count": 4,
   "metadata": {},
   "outputs": [],
   "source": [
    "# 擴展的 HumanMessage 類\n",
    "class HumanMessage:\n",
    "    def __init__(self, content, user_id=None, timestamp=None):\n",
    "        self.content = content\n",
    "        self.user_id = user_id\n",
    "        self.timestamp = timestamp\n",
    "\n",
    "    def __repr__(self):\n",
    "        return f\"HumanMessage(content={self.content}, user_id={self.user_id}, timestamp={self.timestamp})\"\n",
    "\n",
    "    def validate(self):\n",
    "        if not self.content:\n",
    "            raise ValueError(\"Message content cannot be empty.\")\n",
    "        # 可以添加更多的驗證邏輯\n"
   ]
  },
  {
   "cell_type": "markdown",
   "metadata": {},
   "source": [
    "使用擴展的 HumanMessage 類"
   ]
  },
  {
   "cell_type": "code",
   "execution_count": 5,
   "metadata": {},
   "outputs": [
    {
     "name": "stdout",
     "output_type": "stream",
     "text": [
      "HumanMessage(content=台灣當前局勢為何？, user_id=user123, timestamp=2024-07-07T02:20:13.997630)\n",
      "Message is valid.\n"
     ]
    }
   ],
   "source": [
    "from datetime import datetime\n",
    "\n",
    "user_input = \"台灣當前局勢為何？\"\n",
    "user_id = \"user123\"\n",
    "timestamp = datetime.now().isoformat()\n",
    "\n",
    "message = HumanMessage(content=user_input, user_id=user_id, timestamp=timestamp)\n",
    "print(message)  # 這裡的輸出將包含更多的訊息\n",
    "\n",
    "# 執行驗證方法\n",
    "try:\n",
    "    message.validate()\n",
    "    print(\"Message is valid.\")\n",
    "except ValueError as e:\n",
    "    print(f\"Message validation failed: {e}\")\n"
   ]
  }
 ],
 "metadata": {
  "kernelspec": {
   "display_name": "envLCG",
   "language": "python",
   "name": "python3"
  },
  "language_info": {
   "codemirror_mode": {
    "name": "ipython",
    "version": 3
   },
   "file_extension": ".py",
   "mimetype": "text/x-python",
   "name": "python",
   "nbconvert_exporter": "python",
   "pygments_lexer": "ipython3",
   "version": "3.10.11"
  }
 },
 "nbformat": 4,
 "nbformat_minor": 2
}
