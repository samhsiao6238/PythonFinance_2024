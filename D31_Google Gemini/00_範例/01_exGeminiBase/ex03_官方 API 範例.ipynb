{
 "cells": [
  {
   "cell_type": "markdown",
   "metadata": {},
   "source": [
    "# 緊接著 API 總覽"
   ]
  },
  {
   "cell_type": "markdown",
   "metadata": {},
   "source": [
    "使用模型進行多模態提示"
   ]
  },
  {
   "cell_type": "code",
   "execution_count": 1,
   "metadata": {},
   "outputs": [
    {
     "name": "stderr",
     "output_type": "stream",
     "text": [
      "/Users/samhsiao/Documents/PythonVenv/envGemini/lib/python3.10/site-packages/tqdm/auto.py:21: TqdmWarning: IProgress not found. Please update jupyter and ipywidgets. See https://ipywidgets.readthedocs.io/en/stable/user_install.html\n",
      "  from .autonotebook import tqdm as notebook_tqdm\n"
     ]
    },
    {
     "name": "stdout",
     "output_type": "stream",
     "text": [
      "這些看起來是買來的。\n"
     ]
    }
   ],
   "source": [
    "# 用於處理文件路徑\n",
    "import pathlib\n",
    "# 導入 Google Gemini API 的 SDK\n",
    "import google.generativeai as genai\n",
    "import PIL.Image  # 用於讀取圖片\n",
    "import os\n",
    "from dotenv import load_dotenv\n",
    "\n",
    "load_dotenv()\n",
    "\n",
    "# 設置 API 金鑰，請更改為自己的實際金鑰\n",
    "GOOGLE_API_KEY = os.getenv(\"GEMINI_API_KEY\")\n",
    "# 配置 Google API 使用自己的金鑰\n",
    "genai.configure(api_key=GOOGLE_API_KEY)\n",
    "\n",
    "# 初始化模型，這裡使用 'gemini-1.5-flash'\n",
    "model = genai.GenerativeModel('gemini-1.5-flash')\n",
    "\n",
    "# 讀取圖片文件並建立一個 PIL Image 對象\n",
    "image_path = 'cookie.png'\n",
    "image = PIL.Image.open(image_path)\n",
    "\n",
    "# 提示文本，說明你希望模型進行的操作\n",
    "prompt = \"這些看起來是買來的還是自製的？\"\n",
    "\n",
    "# 使用多模態輸入生成內容\n",
    "response = model.generate_content(\n",
    "    # 包含文本和圖片的內容\n",
    "    contents=[prompt, image],\n",
    "    # 啟用流式輸出，允許逐步生成回應\n",
    "    stream=True\n",
    ")\n",
    "\n",
    "# 確保所有流式回應塊都已處理完畢\n",
    "full_text = \"\"\n",
    "for chunk in response:\n",
    "    # 累積生成的文本塊\n",
    "    full_text += chunk.text\n",
    "\n",
    "# 輸出最終生成的文本\n",
    "print(full_text)"
   ]
  },
  {
   "cell_type": "markdown",
   "metadata": {},
   "source": [
    "#### 換一張相片"
   ]
  },
  {
   "cell_type": "code",
   "execution_count": 2,
   "metadata": {},
   "outputs": [
    {
     "name": "stdout",
     "output_type": "stream",
     "text": [
      "這些餅乾看起來是自製的。\n"
     ]
    }
   ],
   "source": [
    "# 讀取圖片文件並建立一個 PIL Image 對象\n",
    "image_path = 'cookie2.png'\n",
    "image = PIL.Image.open(image_path)\n",
    "\n",
    "# 提示文本，說明你希望模型進行的操作\n",
    "prompt = \"這些看起來是買來的還是自製的？\"\n",
    "\n",
    "# 使用多模態輸入生成內容\n",
    "response = model.generate_content(\n",
    "    # 包含文本和圖片的內容\n",
    "    contents=[prompt, image],\n",
    "    # 啟用流式輸出，允許逐步生成回應\n",
    "    stream=True\n",
    ")\n",
    "\n",
    "# 確保所有流式回應塊都已處理完畢\n",
    "full_text = \"\"\n",
    "for chunk in response:\n",
    "    # 累積生成的文本塊\n",
    "    full_text += chunk.text\n",
    "\n",
    "# 輸出最終生成的文本\n",
    "print(full_text)"
   ]
  },
  {
   "cell_type": "markdown",
   "metadata": {},
   "source": [
    "使用流式方式取得生成內容"
   ]
  },
  {
   "cell_type": "code",
   "execution_count": 3,
   "metadata": {},
   "outputs": [
    {
     "name": "stdout",
     "output_type": "stream",
     "text": [
      "話\n",
      "說江湖上有一位名叫「背包俠」的奇人，他背\n",
      "上永遠背著一個平凡無奇的帆布背包。但這個背包\n",
      "卻有著不平凡的秘密，它有著「七十二變」的奇特能力！ \n",
      "\n",
      "背包俠是個愛好旅行的浪子，走到\n",
      "哪就背著它到哪。有一天，他來到一個荒涼的沙漠，口渴難耐，眼看就要渴死。正當他\n",
      "絕望之際，他拍了拍背包，輕輕地說：「給我一杯清涼的泉水。」話音剛落，背包裡竟然就冒出一個精緻的玉杯，盛滿了晶瑩剔透的\n",
      "泉水！背包俠欣喜若狂，一飲而盡，顿时神清氣爽。\n",
      "\n",
      "他又繼續向前走，遇見了一條湍急的河流。他想要過河，卻沒有船隻。這時\n",
      "，他再次拍了拍背包，說：「給我一條堅固的木橋。」眨眼間，背包裡竟伸出了一條精緻的木橋，跨越了河流。背包俠順利地走過了河流，心中充滿了驚奇。\n",
      "\n",
      "他還用背包變出過金銀財寶，\n",
      "用它治癒過病人，甚至用它從凶猛的野獸手中救過人！他一路行俠仗義，用背包幫助了無數人，成為江湖上傳奇般的存在。\n",
      "\n",
      "後來，背包俠漸漸老去，他將背包交給了一個善良的少年，\n",
      "希望他也能像自己一樣，用背包幫助更多的人。少年接過背包，懷著滿腔熱血，踏上了新的旅程。\n",
      "\n",
      "背包俠的故事就這樣一代代流傳下來，成為了一個充滿奇幻色彩的傳說。它告訴我們，看似平凡的事物，可能蘊藏\n",
      "著無限的可能，只要你用心去發現，就會有驚喜出現。\n",
      "\n",
      "當然，這個故事也讓我們明白，擁有神奇的背包固然重要，但更重要的是擁有善良的心和樂於助人的精神，才能真正地幫助他人，讓世界變得更美好。\n",
      "\n",
      "完整生成內容：\n",
      "話說江湖上有一位名叫「背包俠」的奇人，他背上永遠背著一個平凡無奇的帆布背包。但這個背包卻有著不平凡的秘密，它有著「七十二變」的奇特能力！ \n",
      "\n",
      "背包俠是個愛好旅行的浪子，走到哪就背著它到哪。有一天，他來到一個荒涼的沙漠，口渴難耐，眼看就要渴死。正當他絕望之際，他拍了拍背包，輕輕地說：「給我一杯清涼的泉水。」話音剛落，背包裡竟然就冒出一個精緻的玉杯，盛滿了晶瑩剔透的泉水！背包俠欣喜若狂，一飲而盡，顿时神清氣爽。\n",
      "\n",
      "他又繼續向前走，遇見了一條湍急的河流。他想要過河，卻沒有船隻。這時，他再次拍了拍背包，說：「給我一條堅固的木橋。」眨眼間，背包裡竟伸出了一條精緻的木橋，跨越了河流。背包俠順利地走過了河流，心中充滿了驚奇。\n",
      "\n",
      "他還用背包變出過金銀財寶，用它治癒過病人，甚至用它從凶猛的野獸手中救過人！他一路行俠仗義，用背包幫助了無數人，成為江湖上傳奇般的存在。\n",
      "\n",
      "後來，背包俠漸漸老去，他將背包交給了一個善良的少年，希望他也能像自己一樣，用背包幫助更多的人。少年接過背包，懷著滿腔熱血，踏上了新的旅程。\n",
      "\n",
      "背包俠的故事就這樣一代代流傳下來，成為了一個充滿奇幻色彩的傳說。它告訴我們，看似平凡的事物，可能蘊藏著無限的可能，只要你用心去發現，就會有驚喜出現。\n",
      "\n",
      "當然，這個故事也讓我們明白，擁有神奇的背包固然重要，但更重要的是擁有善良的心和樂於助人的精神，才能真正地幫助他人，讓世界變得更美好。\n",
      "\n"
     ]
    }
   ],
   "source": [
    "# 定義提示文本\n",
    "prompt = \"\"\"\n",
    "你是一個風趣的文學大師。\n",
    "請以繁體中文講一個關於神奇背包的故事。\n",
    "\"\"\"\n",
    "\n",
    "# 使用流式方式取得生成內容\n",
    "response = model.generate_content(\n",
    "    # 傳遞提示文本\n",
    "    contents=prompt,\n",
    "    # 啟用流式輸出，允許逐步生成回應\n",
    "    stream=True\n",
    ")\n",
    "\n",
    "# 確保所有流式回應塊都已處理完畢\n",
    "full_text = \"\"\n",
    "for chunk in response:\n",
    "    # 累積生成的文本塊\n",
    "    full_text += chunk.text\n",
    "    # 輸出每個內容塊的文本\n",
    "    print(chunk.text)\n",
    "\n",
    "# 輸出最終生成的文本\n",
    "print(\"完整生成內容：\")\n",
    "print(full_text)"
   ]
  },
  {
   "cell_type": "markdown",
   "metadata": {},
   "source": [
    "設定返回 JSON 格式回應"
   ]
  },
  {
   "cell_type": "code",
   "execution_count": 6,
   "metadata": {},
   "outputs": [
    {
     "name": "stdout",
     "output_type": "stream",
     "text": [
      "[{\"recipe_name\": \"巧克力餅乾\"}, {\"recipe_name\": \"燕麥餅乾\"}, {\"recipe_name\": \"花生醬餅乾\"}, {\"recipe_name\": \"薑餅\"}, {\"recipe_name\": \"杏仁餅乾\"}]\n",
      "\n",
      "\n",
      "格式化後的 JSON 數據:\n",
      "[\n",
      "    {\n",
      "        \"recipe_name\": \"巧克力餅乾\"\n",
      "    },\n",
      "    {\n",
      "        \"recipe_name\": \"燕麥餅乾\"\n",
      "    },\n",
      "    {\n",
      "        \"recipe_name\": \"花生醬餅乾\"\n",
      "    },\n",
      "    {\n",
      "        \"recipe_name\": \"薑餅\"\n",
      "    },\n",
      "    {\n",
      "        \"recipe_name\": \"杏仁餅乾\"\n",
      "    }\n",
      "]\n"
     ]
    }
   ],
   "source": [
    "# 用於解析 JSON\n",
    "import json\n",
    "\n",
    "# 設定回應為 JSON 格式\n",
    "model = genai.GenerativeModel(\n",
    "    'gemini-1.5-flash',\n",
    "    generation_config={\n",
    "        \"response_mime_type\": \"application/json\"\n",
    "    }\n",
    ")\n",
    "# 定義提示文本，指定返回 JSON 結構\n",
    "prompt = \"\"\"\n",
    "    列出5個熱門的餅乾食譜。\n",
    "    使用這個 JSON 結構：\n",
    "        Recipe = {\"recipe_name\": str}\n",
    "    return `list[Recipe]`\n",
    "\"\"\"\n",
    "# 使用模型生成內容\n",
    "response = model.generate_content(prompt)\n",
    "# 輸出生成的 JSON 文本\n",
    "print(response.text)\n",
    "# 解析生成的 JSON 文本\n",
    "try:\n",
    "    # 將 JSON 文本轉換為 Python 對象\n",
    "    json_data = json.loads(response.text)\n",
    "    print(\"\\n格式化後的 JSON 數據:\")\n",
    "    # 格式化並輸出 JSON 數據\n",
    "    print(json.dumps(\n",
    "        json_data,\n",
    "        indent=4,\n",
    "        ensure_ascii=False\n",
    "    ))\n",
    "except json.JSONDecodeError as e:\n",
    "    print(f\"無法解析 JSON: {e}\")"
   ]
  },
  {
   "cell_type": "markdown",
   "metadata": {},
   "source": [
    "使用受控生成進行 JSON 返回"
   ]
  },
  {
   "cell_type": "code",
   "execution_count": 7,
   "metadata": {},
   "outputs": [
    {
     "name": "stdout",
     "output_type": "stream",
     "text": [
      "[{\"recipe_name\": \"經典巧克力豆餅乾🍪 (無敵美味！😋😋😋！)  🔥最受歡迎的餅乾食譜！🔥  🍪🍪🍪  試試看，你會愛上它！ 💖 💖 💖 💖 💖  #餅乾 #巧克力 #食譜  https://www.example.com/chocolate-chip-cookies\"}, {\"recipe_name\": \"酥脆燕麥葡萄乾餅乾 🍇  ✨簡單又美味！✨  💪健康又營養！💪  #餅乾 #燕麥 #葡萄乾 #食譜  https://www.example.com/oatmeal-raisin-cookies\"}, {\"recipe_name\": \"奶油花生醬餅乾 🥜  🥜🥜🥜  經典美式風味！🇺🇸  保證讓你一口接一口！😋  #餅乾 #花生醬 #食譜  https://www.example.com/peanut-butter-cookies\"}, {\"recipe_name\": \"雙重巧克力餅乾 🍫🍫  🍫🍫🍫  巧克力愛好者的最愛！💖  濃郁的巧克力風味！🤤  #餅乾 #巧克力 #食譜  https://www.example.com/double-chocolate-cookies\"}, {\"recipe_name\": \"抹茶白巧克力餅乾 💚🤍  🌿🍵  獨特的日式風味！🇯🇵  香濃的抹茶與香甜的白巧克力完美結合！😍  #餅乾 #抹茶 #白巧克力 #食譜  https://www.example.com/matcha-white-chocolate-cookies\"}] \n",
      "\n",
      "格式化後的 JSON 數據:\n",
      "[\n",
      "    {\n",
      "        \"recipe_name\": \"經典巧克力豆餅乾🍪 (無敵美味！😋😋😋！)  🔥最受歡迎的餅乾食譜！🔥  🍪🍪🍪  試試看，你會愛上它！ 💖 💖 💖 💖 💖  #餅乾 #巧克力 #食譜  https://www.example.com/chocolate-chip-cookies\"\n",
      "    },\n",
      "    {\n",
      "        \"recipe_name\": \"酥脆燕麥葡萄乾餅乾 🍇  ✨簡單又美味！✨  💪健康又營養！💪  #餅乾 #燕麥 #葡萄乾 #食譜  https://www.example.com/oatmeal-raisin-cookies\"\n",
      "    },\n",
      "    {\n",
      "        \"recipe_name\": \"奶油花生醬餅乾 🥜  🥜🥜🥜  經典美式風味！🇺🇸  保證讓你一口接一口！😋  #餅乾 #花生醬 #食譜  https://www.example.com/peanut-butter-cookies\"\n",
      "    },\n",
      "    {\n",
      "        \"recipe_name\": \"雙重巧克力餅乾 🍫🍫  🍫🍫🍫  巧克力愛好者的最愛！💖  濃郁的巧克力風味！🤤  #餅乾 #巧克力 #食譜  https://www.example.com/double-chocolate-cookies\"\n",
      "    },\n",
      "    {\n",
      "        \"recipe_name\": \"抹茶白巧克力餅乾 💚🤍  🌿🍵  獨特的日式風味！🇯🇵  香濃的抹茶與香甜的白巧克力完美結合！😍  #餅乾 #抹茶 #白巧克力 #食譜  https://www.example.com/matcha-white-chocolate-cookies\"\n",
      "    }\n",
      "]\n"
     ]
    }
   ],
   "source": [
    "# 導入 typing_extensions 用於定義型別\n",
    "import typing_extensions as typing\n",
    "\n",
    "# 定義 JSON 結構\n",
    "class Recipe(typing.TypedDict):\n",
    "    # 定義食譜名稱欄位\n",
    "    recipe_name: str\n",
    "\n",
    "# 初始化高級模型\n",
    "model = genai.GenerativeModel(\n",
    "    model_name=\"models/gemini-1.5-pro\"\n",
    ")\n",
    "\n",
    "result = model.generate_content(\n",
    "    # 提示文本\n",
    "    \"以繁體中文列出5個熱門的餅乾食譜\",  \n",
    "    # 設定返回的 JSON 結構\n",
    "    generation_config=genai.GenerationConfig(\n",
    "        response_mime_type=\"application/json\",\n",
    "        response_schema=list[Recipe]\n",
    "    )\n",
    ")\n",
    "# 輸出生成的 JSON 文本\n",
    "print(result.text)\n",
    "\n",
    "# 解析生成的 JSON 文本\n",
    "try:\n",
    "    # 將 JSON 文本轉換為 Python 對象\n",
    "    json_data = json.loads(result.text)\n",
    "    print(\"\\n格式化後的 JSON 數據:\")\n",
    "    # 格式化並輸出 JSON 數據\n",
    "    print(json.dumps(\n",
    "        json_data,\n",
    "        indent=4,\n",
    "        ensure_ascii=False\n",
    "    ))\n",
    "except json.JSONDecodeError as e:\n",
    "    print(f\"無法解析 JSON: {e}\")"
   ]
  }
 ],
 "metadata": {
  "kernelspec": {
   "display_name": "envGemini",
   "language": "python",
   "name": "python3"
  },
  "language_info": {
   "codemirror_mode": {
    "name": "ipython",
    "version": 3
   },
   "file_extension": ".py",
   "mimetype": "text/x-python",
   "name": "python",
   "nbconvert_exporter": "python",
   "pygments_lexer": "ipython3",
   "version": "3.10.11"
  }
 },
 "nbformat": 4,
 "nbformat_minor": 2
}
