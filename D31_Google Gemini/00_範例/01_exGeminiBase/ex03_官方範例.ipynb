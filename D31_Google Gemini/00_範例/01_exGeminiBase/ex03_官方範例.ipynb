{
 "cells": [
  {
   "cell_type": "markdown",
   "metadata": {},
   "source": [
    "# 教學課程：開始使用 Gemini API"
   ]
  },
  {
   "cell_type": "markdown",
   "metadata": {},
   "source": [
    "匯入必要的套件"
   ]
  },
  {
   "cell_type": "code",
   "execution_count": null,
   "metadata": {},
   "outputs": [],
   "source": [
    "# 用於處理文件路徑\n",
    "import pathlib\n",
    "# 用於格式化文本\n",
    "import textwrap\n",
    "# 導入 google.generativeai 套件並簡化名稱為 genai\n",
    "import google.generativeai as genai\n",
    "# 用於顯示格式化的文本和 Markdown\n",
    "from IPython.display import display, Markdown"
   ]
  },
  {
   "cell_type": "markdown",
   "metadata": {},
   "source": [
    "將 Gemini API 新增至環境變數中"
   ]
  },
  {
   "cell_type": "code",
   "execution_count": null,
   "metadata": {},
   "outputs": [],
   "source": [
    "import os\n",
    "from dotenv import load_dotenv\n",
    "\n",
    "load_dotenv()\n",
    "GOOGLE_API_KEY = os.getenv(\"GEMINI_API_KEY\")\n",
    "genai.configure(api_key=GOOGLE_API_KEY)"
   ]
  },
  {
   "cell_type": "markdown",
   "metadata": {},
   "source": [
    "查看可用的 Gemini 模型"
   ]
  },
  {
   "cell_type": "code",
   "execution_count": null,
   "metadata": {},
   "outputs": [],
   "source": [
    "# 遍歷所有可用模型\n",
    "for m in genai.list_models():\n",
    "    # 檢查模型是否支持 generateContent 方法\n",
    "    if 'generateContent' in m.supported_generation_methods:\n",
    "        # 輸出模型名稱\n",
    "        print(m.name)"
   ]
  },
  {
   "cell_type": "markdown",
   "metadata": {},
   "source": [
    "進行文本生成"
   ]
  },
  {
   "cell_type": "code",
   "execution_count": null,
   "metadata": {},
   "outputs": [],
   "source": [
    "model = genai.GenerativeModel('gemini-1.5-flash')\n",
    "response = model.generate_content(\"人生的意義是什麼？\")\n",
    "print(response.text)"
   ]
  },
  {
   "cell_type": "markdown",
   "metadata": {},
   "source": [
    "顯示格式化的 Markdown 文字"
   ]
  },
  {
   "cell_type": "code",
   "execution_count": null,
   "metadata": {},
   "outputs": [],
   "source": [
    "# 定義將文本轉換為 Markdown 格式的函數\n",
    "def to_markdown(text):\n",
    "    # 替換符號以適應 Markdown 語法\n",
    "    text = text.replace('•', '  *')\n",
    "    # 返回格式化的 Markdown 文本\n",
    "    return Markdown(\n",
    "        textwrap.indent(\n",
    "            text, '> ',\n",
    "            predicate=lambda _: True\n",
    "        )\n",
    "    )\n",
    "# 顯示格式化的文本\n",
    "display(to_markdown(response.text))"
   ]
  },
  {
   "cell_type": "markdown",
   "metadata": {},
   "source": [
    "如果 API 無法傳回結果，查看原因"
   ]
  },
  {
   "cell_type": "code",
   "execution_count": null,
   "metadata": {},
   "outputs": [],
   "source": [
    "print(response.prompt_feedback)"
   ]
  },
  {
   "cell_type": "markdown",
   "metadata": {},
   "source": [
    "多模態"
   ]
  },
  {
   "cell_type": "code",
   "execution_count": null,
   "metadata": {},
   "outputs": [],
   "source": [
    "# 導入 PIL 用於圖像處理\n",
    "import PIL.Image\n",
    "# 打開圖片\n",
    "img = PIL.Image.open('image.png')\n",
    "\n",
    "model = genai.GenerativeModel('gemini-1.5-flash')\n",
    "# 使用多模態輸入生成內容\n",
    "# 若要指定使用繁體中文，務必在提示中具體指出\n",
    "response = model.generate_content([\n",
    "    # 提示文本\n",
    "    \"基於這張圖片，用繁體中文寫一篇有趣且引人入勝的博客。\"\n",
    "    \"這張圖片展示了一道美食，我想要一篇中文的描述和背景故事。\",\n",
    "    # 圖片對象\n",
    "    img\n",
    "    ],\n",
    "    # 啟用流式輸出\n",
    "    stream=True\n",
    ")\n",
    "# 遍歷生成的內容塊\n",
    "for chunk in response:\n",
    "    print(chunk.text)"
   ]
  },
  {
   "cell_type": "markdown",
   "metadata": {},
   "source": [
    "即時通訊對話"
   ]
  },
  {
   "cell_type": "code",
   "execution_count": null,
   "metadata": {},
   "outputs": [],
   "source": [
    "model = genai.GenerativeModel('gemini-1.5-flash')\n",
    "# 開始一個新的聊天會話\n",
    "chat = model.start_chat(history=[])\n",
    "\n",
    "# 發送訊息取得回答\n",
    "response = chat.send_message(\n",
    "    \"請用一句話解釋電腦是怎麼運作的，給小孩聽。\"\n",
    ")\n",
    "# 輸出回答\n",
    "print(response.text)\n",
    "\n",
    "# 流式\n",
    "# 發送新的訊息並啟用流式輸出\n",
    "for chunk in chat.send_message(\n",
    "    \"那麼給高中生的詳細解釋呢？\",\n",
    "    stream=True\n",
    "):\n",
    "    print(chunk.text)"
   ]
  },
  {
   "cell_type": "markdown",
   "metadata": {},
   "source": [
    "使用嵌入"
   ]
  },
  {
   "cell_type": "code",
   "execution_count": null,
   "metadata": {},
   "outputs": [],
   "source": [
    "# 使用嵌入功能\n",
    "result = genai.embed_content(\n",
    "    # 指定模型\n",
    "    model=\"models/embedding-001\",\n",
    "    # 提示文本\n",
    "    content=\"什麼是人生的意義？\",\n",
    "    # 指定任務類型\n",
    "    task_type=\"retrieval_document\",\n",
    "    # 指定標題\n",
    "    title=\"單一字串的嵌入\"\n",
    ")\n",
    "# 輸出嵌入向量的前50個值\n",
    "print(result['embedding'][:50], '... TRIMMED]')"
   ]
  },
  {
   "cell_type": "markdown",
   "metadata": {},
   "source": [
    "設定模型安全性參數"
   ]
  },
  {
   "cell_type": "code",
   "execution_count": null,
   "metadata": {},
   "outputs": [],
   "source": [
    "# 使用安全性設定生成內容\n",
    "response = model.generate_content(\n",
    "    # 提示文本\n",
    "    '[疑似有問題的提示]',\n",
    "    # 設定安全性參數\n",
    "    safety_settings={'HARASSMENT':'block_none'}\n",
    ")\n",
    "print(response.text)"
   ]
  },
  {
   "cell_type": "markdown",
   "metadata": {},
   "source": [
    "使用 `genai.protos.Content` 類型進行訊息編碼"
   ]
  },
  {
   "cell_type": "code",
   "execution_count": null,
   "metadata": {},
   "outputs": [],
   "source": [
    "response = model.generate_content(\n",
    "    genai.protos.Content(\n",
    "        parts=[\n",
    "            genai.protos.Part(\n",
    "                text=\"請基於這張圖片，使用繁體中文寫一篇有趣的博客。\"\n",
    "            ),\n",
    "            genai.protos.Part(\n",
    "                inline_data=genai.protos.Blob(\n",
    "                    mime_type='image/jpeg',\n",
    "                    data=pathlib.Path('image.png').read_bytes()\n",
    "                )\n",
    "            ),\n",
    "        ]\n",
    "    ), \n",
    "    stream=True\n",
    ")\n",
    "\n",
    "response.resolve()\n",
    "# 之後才可以訪問 response 的屬性\n",
    "print(response.text[:100], \"... [TRIMMED] ...\")\n"
   ]
  },
  {
   "cell_type": "markdown",
   "metadata": {},
   "source": [
    "多輪對話"
   ]
  },
  {
   "cell_type": "markdown",
   "metadata": {},
   "source": [
    "使用 `ChatSession` 管理對話"
   ]
  },
  {
   "cell_type": "code",
   "execution_count": null,
   "metadata": {},
   "outputs": [],
   "source": [
    "model = genai.GenerativeModel('gemini-1.5-flash')\n",
    "chat = model.start_chat(history=[])\n",
    "\n",
    "response = chat.send_message(\n",
    "    \"請使用繁體中文，用一段話簡單介紹 Gemini 是怎麼運作的給大學生理解。\"\n",
    ")\n",
    "print(response.text)"
   ]
  },
  {
   "cell_type": "markdown",
   "metadata": {},
   "source": [
    "延續對話並使用流式輸出"
   ]
  },
  {
   "cell_type": "code",
   "execution_count": null,
   "metadata": {},
   "outputs": [],
   "source": [
    "_message = \"如果是要解釋給研究生及博士生理解呢？\"\n",
    "for chunk in chat.send_message(_message, stream=True):\n",
    "    print(chunk.text)"
   ]
  },
  {
   "cell_type": "code",
   "execution_count": null,
   "metadata": {},
   "outputs": [],
   "source": [
    "_message = \"如果是要小學生理解呢？\"\n",
    "for chunk in chat.send_message(_message, stream=True):\n",
    "    print(chunk.text)"
   ]
  },
  {
   "cell_type": "markdown",
   "metadata": {},
   "source": [
    "延續對話"
   ]
  },
  {
   "cell_type": "code",
   "execution_count": null,
   "metadata": {},
   "outputs": [],
   "source": [
    "# 初始訊息\n",
    "messages = [{\n",
    "    'role': 'user',\n",
    "    'parts': [\"請簡短解釋電腦是如何運作的給小學三年級學生聽。\"]\n",
    "}]\n",
    "# 使用模型生成內容\n",
    "response = model.generate_content(messages)\n",
    "# 回覆\n",
    "print(response.text)\n",
    "\n",
    "# 添加模型回覆到對話記錄\n",
    "messages.append({\n",
    "    'role': 'model',\n",
    "    'parts': [response.text]\n",
    "})\n",
    "\n",
    "# 繼續對話\n",
    "messages.append({\n",
    "    'role': 'user',\n",
    "    'parts': [\"接著進一步詳細解釋給大學生聽。\"]\n",
    "})\n",
    "# 使用模型生成新的內容\n",
    "response = model.generate_content(messages)\n",
    "# 回覆\n",
    "print(response.text)"
   ]
  },
  {
   "cell_type": "markdown",
   "metadata": {},
   "source": [
    "產生設定"
   ]
  },
  {
   "cell_type": "code",
   "execution_count": null,
   "metadata": {},
   "outputs": [],
   "source": [
    "model = genai.GenerativeModel('gemini-1.5-flash')\n",
    "response = model.generate_content(\n",
    "    # 提示文本\n",
    "    '講一個關於神奇背包的故事。',\n",
    "    generation_config=genai.types.GenerationConfig(\n",
    "        # 設定生成候選數量\n",
    "        candidate_count=1,\n",
    "        # 設定停止序列\n",
    "        stop_sequences=['x'],\n",
    "        # 設定最大輸出權杖數\n",
    "        max_output_tokens=20,\n",
    "        # 設定溫度參數\n",
    "        temperature=1.0\n",
    "    )\n",
    ")\n",
    "# 取得生成的文本\n",
    "text = response.text\n",
    "# 檢查生成是否達到最大權杖數\n",
    "if response.candidates[0].finish_reason.name == \"MAX_TOKENS\":\n",
    "    # 添加省略號表示未完成的內容\n",
    "    text += '...'\n",
    "# 輸出\n",
    "print(text)"
   ]
  },
  {
   "cell_type": "markdown",
   "metadata": {},
   "source": [
    "嵌入功能"
   ]
  },
  {
   "cell_type": "code",
   "execution_count": null,
   "metadata": {},
   "outputs": [],
   "source": [
    "result = genai.embed_content(\n",
    "    model=\"models/embedding-001\",\n",
    "    content=\"什麼是人生的意義？\",\n",
    "    task_type=\"retrieval_document\",\n",
    "    title=\"單一字串的嵌入\"\n",
    ")\n",
    "print(result['embedding'][:50], '... TRIMMED]')"
   ]
  },
  {
   "cell_type": "markdown",
   "metadata": {},
   "source": [
    "處理一批字串的嵌入"
   ]
  },
  {
   "cell_type": "code",
   "execution_count": null,
   "metadata": {},
   "outputs": [],
   "source": [
    "result = genai.embed_content(\n",
    "    model=\"models/embedding-001\",\n",
    "    content=[\n",
    "        '什麼是人生的意義？',\n",
    "        '一隻木頭做的狗能吃多少木頭？',\n",
    "        '大腦是如何運作的？'\n",
    "    ],\n",
    "    task_type=\"retrieval_document\",\n",
    "    title=\"字串清單的嵌入\"\n",
    ")\n",
    "\n",
    "for v in result['embedding']:\n",
    "    print(str(v)[:50], '... TRIMMED ...')"
   ]
  },
  {
   "cell_type": "markdown",
   "metadata": {},
   "source": [
    "安全性設定"
   ]
  },
  {
   "cell_type": "code",
   "execution_count": null,
   "metadata": {},
   "outputs": [],
   "source": [
    "response = model.generate_content(\n",
    "    '[疑似有問題的提示]',\n",
    "    safety_settings={'HARASSMENT': 'block_none'}\n",
    ")\n",
    "print(response.text)"
   ]
  }
 ],
 "metadata": {
  "kernelspec": {
   "display_name": "envHaystack",
   "language": "python",
   "name": "python3"
  },
  "language_info": {
   "codemirror_mode": {
    "name": "ipython",
    "version": 3
   },
   "file_extension": ".py",
   "mimetype": "text/x-python",
   "name": "python",
   "nbconvert_exporter": "python",
   "pygments_lexer": "ipython3",
   "version": "3.10.11"
  }
 },
 "nbformat": 4,
 "nbformat_minor": 2
}
