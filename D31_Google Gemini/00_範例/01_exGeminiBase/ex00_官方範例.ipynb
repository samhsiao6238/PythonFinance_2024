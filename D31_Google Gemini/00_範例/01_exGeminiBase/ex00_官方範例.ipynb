{
 "cells": [
  {
   "cell_type": "markdown",
   "metadata": {},
   "source": [
    "匯入必要的套件"
   ]
  },
  {
   "cell_type": "code",
   "execution_count": 1,
   "metadata": {},
   "outputs": [
    {
     "name": "stderr",
     "output_type": "stream",
     "text": [
      "/Users/samhsiao/Documents/PythonVenv/envGemini/lib/python3.10/site-packages/tqdm/auto.py:21: TqdmWarning: IProgress not found. Please update jupyter and ipywidgets. See https://ipywidgets.readthedocs.io/en/stable/user_install.html\n",
      "  from .autonotebook import tqdm as notebook_tqdm\n"
     ]
    }
   ],
   "source": [
    "import pathlib\n",
    "import textwrap\n",
    "import google.generativeai as genai\n",
    "from IPython.display import display, Markdown"
   ]
  },
  {
   "cell_type": "markdown",
   "metadata": {},
   "source": [
    "將 Gemini API 新增至環境變數中"
   ]
  },
  {
   "cell_type": "code",
   "execution_count": 2,
   "metadata": {},
   "outputs": [],
   "source": [
    "import os\n",
    "from dotenv import load_dotenv\n",
    "\n",
    "load_dotenv()\n",
    "GOOGLE_API_KEY = os.getenv(\"GEMINI_API_KEY\")\n",
    "genai.configure(api_key=GOOGLE_API_KEY)"
   ]
  },
  {
   "cell_type": "markdown",
   "metadata": {},
   "source": [
    "查看可用的 Gemini 模型"
   ]
  },
  {
   "cell_type": "code",
   "execution_count": 3,
   "metadata": {},
   "outputs": [
    {
     "name": "stdout",
     "output_type": "stream",
     "text": [
      "models/gemini-1.0-pro\n",
      "models/gemini-1.0-pro-001\n",
      "models/gemini-1.0-pro-latest\n",
      "models/gemini-1.0-pro-vision-latest\n",
      "models/gemini-1.5-flash\n",
      "models/gemini-1.5-flash-001\n",
      "models/gemini-1.5-flash-latest\n",
      "models/gemini-1.5-pro\n",
      "models/gemini-1.5-pro-001\n",
      "models/gemini-1.5-pro-latest\n",
      "models/gemini-pro\n",
      "models/gemini-pro-vision\n"
     ]
    }
   ],
   "source": [
    "for m in genai.list_models():\n",
    "    if 'generateContent' in m.supported_generation_methods:\n",
    "        print(m.name)"
   ]
  },
  {
   "cell_type": "markdown",
   "metadata": {},
   "source": [
    "進行文本生成"
   ]
  },
  {
   "cell_type": "code",
   "execution_count": 4,
   "metadata": {},
   "outputs": [
    {
     "name": "stdout",
     "output_type": "stream",
     "text": [
      "人生的意義是一個深奧且個人化的問題，沒有單一的答案。每個人都需要自行探索和定義。然而，我可以提供一些角度和思考方向：\n",
      "\n",
      "**常見觀點:**\n",
      "\n",
      "* **發現自我:** 透過探索興趣、價值觀和人生目標，找到自我並活出最真實的自己。\n",
      "* **創造價值:** 為世界做出貢獻，留下自己的印記，例如幫助他人、貢獻社會、創造藝術或科技等。\n",
      "* **追尋快樂:** 追求幸福和滿足，體驗生活中的美好事物，並享受人際關係和情感連結。\n",
      "* **學習成長:** 不斷學習新事物、挑戰自我，提升自我能力和知識，讓人生更豐富充實。\n",
      "* **體驗人生:** 勇敢嘗試各種體驗，感受不同的生活方式和文化，開拓眼界和視野。\n",
      "\n",
      "**思考方向:**\n",
      "\n",
      "* **你的人生目標是什麼？** 你想達成什麼？\n",
      "* **你的價值觀是什麼？** 你重視什麼？\n",
      "* **你想要如何影響世界？** 你想為世界做出什麼貢獻？\n",
      "* **你想要過什麼樣的生活？** 你想要過上什麼樣的人生？\n",
      "* **什麼讓你感到充實和滿足？**\n",
      "\n",
      "**結論:**\n",
      "\n",
      "人生的意義並非單一答案，而是不斷探索和定義的過程。重要的是找到屬於自己的價值觀和目標，並活出自己的意義。\n",
      "\n",
      "**以下是一些額外的思考：**\n",
      "\n",
      "* 閱讀哲學書籍，例如尼采的《查拉圖斯特拉如是說》、叔本華的《作為意志和表象的世界》等。\n",
      "* 觀察和學習你敬佩的人，他們的人生觀和價值觀可能給你啟發。\n",
      "* 嘗試不同的活動和體驗，例如旅行、藝術創作、志願服務等，找到讓你感到充實和有意義的事情。\n",
      "* 和朋友、家人或心理諮詢師交流，分享你的想法和感受，獲得不同的觀點和支持。\n",
      "\n",
      "最終，人生的意義是你自己定義的。不要害怕去探索和尋找，找到讓你感到充實和有意義的答案。\n"
     ]
    }
   ],
   "source": [
    "model = genai.GenerativeModel('gemini-1.5-flash')\n",
    "response = model.generate_content(\"人生的意義是什麼？\")\n",
    "print(response.text)"
   ]
  },
  {
   "cell_type": "markdown",
   "metadata": {},
   "source": [
    "顯示格式化的 Markdown 文字"
   ]
  },
  {
   "cell_type": "code",
   "execution_count": 5,
   "metadata": {},
   "outputs": [
    {
     "data": {
      "text/markdown": [
       "> 人生的意義是一個深奧且個人化的問題，沒有單一的答案。每個人都需要自行探索和定義。然而，我可以提供一些角度和思考方向：\n",
       "> \n",
       "> **常見觀點:**\n",
       "> \n",
       "> * **發現自我:** 透過探索興趣、價值觀和人生目標，找到自我並活出最真實的自己。\n",
       "> * **創造價值:** 為世界做出貢獻，留下自己的印記，例如幫助他人、貢獻社會、創造藝術或科技等。\n",
       "> * **追尋快樂:** 追求幸福和滿足，體驗生活中的美好事物，並享受人際關係和情感連結。\n",
       "> * **學習成長:** 不斷學習新事物、挑戰自我，提升自我能力和知識，讓人生更豐富充實。\n",
       "> * **體驗人生:** 勇敢嘗試各種體驗，感受不同的生活方式和文化，開拓眼界和視野。\n",
       "> \n",
       "> **思考方向:**\n",
       "> \n",
       "> * **你的人生目標是什麼？** 你想達成什麼？\n",
       "> * **你的價值觀是什麼？** 你重視什麼？\n",
       "> * **你想要如何影響世界？** 你想為世界做出什麼貢獻？\n",
       "> * **你想要過什麼樣的生活？** 你想要過上什麼樣的人生？\n",
       "> * **什麼讓你感到充實和滿足？**\n",
       "> \n",
       "> **結論:**\n",
       "> \n",
       "> 人生的意義並非單一答案，而是不斷探索和定義的過程。重要的是找到屬於自己的價值觀和目標，並活出自己的意義。\n",
       "> \n",
       "> **以下是一些額外的思考：**\n",
       "> \n",
       "> * 閱讀哲學書籍，例如尼采的《查拉圖斯特拉如是說》、叔本華的《作為意志和表象的世界》等。\n",
       "> * 觀察和學習你敬佩的人，他們的人生觀和價值觀可能給你啟發。\n",
       "> * 嘗試不同的活動和體驗，例如旅行、藝術創作、志願服務等，找到讓你感到充實和有意義的事情。\n",
       "> * 和朋友、家人或心理諮詢師交流，分享你的想法和感受，獲得不同的觀點和支持。\n",
       "> \n",
       "> 最終，人生的意義是你自己定義的。不要害怕去探索和尋找，找到讓你感到充實和有意義的答案。"
      ],
      "text/plain": [
       "<IPython.core.display.Markdown object>"
      ]
     },
     "metadata": {},
     "output_type": "display_data"
    }
   ],
   "source": [
    "def to_markdown(text):\n",
    "    text = text.replace('•', '  *')\n",
    "    return Markdown(textwrap.indent(text, '> ', predicate=lambda _: True))\n",
    "\n",
    "display(to_markdown(response.text))"
   ]
  },
  {
   "cell_type": "markdown",
   "metadata": {},
   "source": [
    "如果 API 無法傳回結果，查看原因"
   ]
  },
  {
   "cell_type": "code",
   "execution_count": 6,
   "metadata": {},
   "outputs": [
    {
     "name": "stdout",
     "output_type": "stream",
     "text": [
      "\n"
     ]
    }
   ],
   "source": [
    "print(response.prompt_feedback)"
   ]
  },
  {
   "cell_type": "markdown",
   "metadata": {},
   "source": [
    "多模態"
   ]
  },
  {
   "cell_type": "code",
   "execution_count": 7,
   "metadata": {},
   "outputs": [
    {
     "name": "stdout",
     "output_type": "stream",
     "text": [
      "##\n",
      "  我的便當盒裡的「美味奇遇」\n",
      "\n",
      "你是否也跟我\n",
      "一樣，常常在午餐時間為挑選食物而苦惱？看著辦公\n",
      "室裡琳琅滿目的外賣菜單，卻總覺得缺少了些什麼。\n",
      "\n",
      "最近，我開始嘗試自己做便當，不僅可以控制食材\n",
      "和份量，更能享受製作過程中的樂趣。而今天要分享的，就是我的「美味奇遇」——  一道由雞肉\n",
      "、青花椰菜、紅蘿蔔、甜椒和白飯組成的便當！\n",
      "\n",
      "這道料理的靈感源自於我最近迷上的日式料理。我將雞肉切成小塊，用\n",
      "醬油、味醂、清酒和薑汁醃製，然後用平底鍋煎至金黃。接著，我將切好的青花椰菜、紅蘿蔔和甜椒一起放入鍋中翻炒，\n",
      "淋上少許醬油和糖調味。\n",
      "\n",
      "最後，將白飯盛入便當盒，再將雞肉和蔬菜碼放在上面，撒上些許芝麻提香，一盒色香味俱全的便當就完成了！\n",
      "\n",
      "每一口都是幸福的滋味，雞肉的鮮\n",
      "美、青花椰菜的清脆、紅蘿蔔的香甜、甜椒的爽口，以及白飯的軟糯，在口中交織成美妙的和弦。\n",
      "\n",
      "吃著自己精心製作的便當，我感到滿滿的成就感。這不僅是一份餐\n",
      "點，更是一種對生活品質的追求。\n",
      "\n",
      "你也想嘗試自己做便當嗎？快來分享你的「美味奇遇」吧！\n"
     ]
    }
   ],
   "source": [
    "import PIL.Image\n",
    "img = PIL.Image.open('image.png')\n",
    "\n",
    "model = genai.GenerativeModel('gemini-1.5-flash')\n",
    "# 若要指定使用繁體中文，務必在提示中具體指出\n",
    "response = model.generate_content([\n",
    "    \"基於這張圖片，用繁體中文寫一篇有趣且引人入勝的博客。\"\n",
    "    \"這張圖片展示了一道美食，我想要一篇中文的描述和背景故事。\",\n",
    "    img\n",
    "], stream=True)\n",
    "\n",
    "for chunk in response:\n",
    "    print(chunk.text)"
   ]
  },
  {
   "cell_type": "markdown",
   "metadata": {},
   "source": [
    "即時通訊對話"
   ]
  },
  {
   "cell_type": "code",
   "execution_count": 8,
   "metadata": {},
   "outputs": [
    {
     "name": "stdout",
     "output_type": "stream",
     "text": [
      "電腦就像一個超級聰明的玩具，它可以理解你輸入的指令，並按照你的指示，把這些指令變成看得見的圖像、聲音和動作！ \n",
      "\n",
      "電腦\n",
      "的核心是中央處理器 (CPU)，它就像大腦一樣，負責執行\n",
      "指令並處理數據。這些指令和數據由記憶體（RAM）暫\n",
      "存，就像電腦的短期記憶。硬碟則像長期記憶，用來儲存長期資料。電腦透過輸入設備（鍵盤、滑鼠\n",
      "等）接收指令，並透過輸出設備（螢幕、喇叭等）呈現結果。這些設備透過主機板相互連接，就像電腦的骨\n",
      "架，讓所有元件協同運作。 \n",
      "\n"
     ]
    }
   ],
   "source": [
    "model = genai.GenerativeModel('gemini-1.5-flash')\n",
    "chat = model.start_chat(history=[])\n",
    "\n",
    "# 直接輸出回答\n",
    "response = chat.send_message(\"請用一句話解釋電腦是怎麼運作的，給小孩聽。\")\n",
    "print(response.text)\n",
    "\n",
    "# 流式\n",
    "for chunk in chat.send_message(\"那麼給高中生的詳細解釋呢？\", stream=True):\n",
    "    print(chunk.text)"
   ]
  },
  {
   "cell_type": "markdown",
   "metadata": {},
   "source": [
    "使用嵌入"
   ]
  },
  {
   "cell_type": "code",
   "execution_count": 9,
   "metadata": {},
   "outputs": [
    {
     "name": "stdout",
     "output_type": "stream",
     "text": [
      "[0.04308387, -0.04839182, -0.05800489, -0.020600215, 0.05647143, -0.025589587, 0.017059335, -0.023932712, -0.0002286358, 0.018078309, -0.013991861, 0.0015803151, -0.024279434, 0.026204519, 0.0057441713, -0.056387022, -0.002916217, 0.00984104, 0.03250571, -0.010258312, 0.024349302, 0.0126848845, -0.06845764, 0.026632072, 0.008059574, -0.040075775, -0.0002131193, -0.040598918, -0.024967005, 0.0009437721, -0.045354053, 0.0379267, -0.060152818, 0.0015858108, 0.008827922, -0.04569807, 0.004664119, 0.011041903, 0.025070054, 0.03273228, 0.034257937, -0.0125125395, -0.06975454, 0.005261192, 0.002137843, -0.011428127, -0.024641784, 0.02492864, 0.008183084, -0.060275238] ... TRIMMED]\n"
     ]
    }
   ],
   "source": [
    "result = genai.embed_content(\n",
    "    model=\"models/embedding-001\",\n",
    "    content=\"什麼是人生的意義？\",\n",
    "    task_type=\"retrieval_document\",\n",
    "    title=\"單一字串的嵌入\"\n",
    ")\n",
    "print(result['embedding'][:50], '... TRIMMED]')"
   ]
  },
  {
   "cell_type": "markdown",
   "metadata": {},
   "source": [
    "設定模型安全性參數"
   ]
  },
  {
   "cell_type": "code",
   "execution_count": 10,
   "metadata": {},
   "outputs": [
    {
     "name": "stdout",
     "output_type": "stream",
     "text": [
      "請提供更詳細的資訊，以便我能理解你想要我做什麼。 \n",
      "\n",
      "例如，你可以：\n",
      "\n",
      "* **提供完整的提示文字**\n",
      "* **說明你認為提示的問題** \n",
      "* **提供你期望的結果**\n",
      "\n",
      "這樣我才能更好地幫助你。 \n",
      "\n"
     ]
    }
   ],
   "source": [
    "response = model.generate_content(\n",
    "    '[疑似有問題的提示]',\n",
    "    safety_settings={'HARASSMENT':'block_none'}\n",
    ")\n",
    "print(response.text)"
   ]
  },
  {
   "cell_type": "markdown",
   "metadata": {},
   "source": [
    "使用 `genai.protos.Content` 類型進行訊息編碼"
   ]
  },
  {
   "cell_type": "code",
   "execution_count": 18,
   "metadata": {},
   "outputs": [
    {
     "name": "stdout",
     "output_type": "stream",
     "text": [
      "## 午餐時間！我的玻璃便當盒大賽！\n",
      "\n",
      "今天中午要吃什麼呢？🤔  看著冰箱裡一堆食材，總是糾結要怎麼搭配才好吃又營養？別擔心！今天就來分享我的「玻璃便當盒大賽」！\n",
      "\n",
      "比賽的參賽者分別是：\n",
      "\n",
      "**左邊選 ... [TRIMMED] ...\n"
     ]
    }
   ],
   "source": [
    "response = model.generate_content(\n",
    "    genai.protos.Content(\n",
    "        parts=[\n",
    "            genai.protos.Part(\n",
    "                text=\"請基於這張圖片，使用繁體中文寫一篇有趣的博客。\"\n",
    "            ),\n",
    "            genai.protos.Part(\n",
    "                inline_data=genai.protos.Blob(\n",
    "                    mime_type='image/jpeg',\n",
    "                    data=pathlib.Path('image.png').read_bytes()\n",
    "                )\n",
    "            ),\n",
    "        ]\n",
    "    ), \n",
    "    stream=True\n",
    ")\n",
    "\n",
    "response.resolve()\n",
    "# 之後才可以訪問 response 的屬性\n",
    "print(full_text[:100], \"... [TRIMMED] ...\")\n"
   ]
  },
  {
   "cell_type": "markdown",
   "metadata": {},
   "source": [
    "多轉折對話"
   ]
  },
  {
   "cell_type": "markdown",
   "metadata": {},
   "source": [
    "使用 `ChatSession` 管理對話"
   ]
  },
  {
   "cell_type": "code",
   "execution_count": 21,
   "metadata": {},
   "outputs": [
    {
     "name": "stdout",
     "output_type": "stream",
     "text": [
      "Gemini 是 Google 最新推出的 AI 模型，它整合了大型語言模型 (LLM) 和視覺模型，可以理解文字和影像並進行多種任務。簡單來說，它就像一個擁有豐富知識和強大理解能力的「超級大腦」，可以根據你給予的文字或影像指令，生成文字、翻譯語言、寫不同風格的文本，甚至回答你的問題和理解圖像。\n",
      "\n"
     ]
    }
   ],
   "source": [
    "model = genai.GenerativeModel('gemini-1.5-flash')\n",
    "chat = model.start_chat(history=[])\n",
    "\n",
    "response = chat.send_message(\n",
    "    \"請使用繁體中文，用一段話簡單介紹 Gemini 是怎麼運作的給大學生理解。\"\n",
    ")\n",
    "print(response.text)"
   ]
  },
  {
   "cell_type": "markdown",
   "metadata": {},
   "source": [
    "延續對話並使用流式輸出"
   ]
  },
  {
   "cell_type": "code",
   "execution_count": 22,
   "metadata": {},
   "outputs": [
    {
     "name": "stdout",
     "output_type": "stream",
     "text": [
      "Gemini\n",
      " 是 Google 基於 Pathways 架構研發的全新 AI 模型，它結合\n",
      "了大型語言模型 (LLM) 和視覺模型，並採用多\n",
      "模態學習方法，能夠處理文字、圖像和視訊等多種數據。Gemini 不僅擁有強大的語義理解和生成能力，\n",
      "更具備多任務學習能力，可以根據輸入數據進行不同任務的執行，例如文字摘要、問答、程式碼生成、圖像理解\n",
      "等。它通過對海量數據的訓練，建立了強大的知識圖譜和推理能力，可以進行更複雜的任務和更精準的推論，為科學研究和各種應用領域帶來新的突破。\n",
      "\n",
      "\n"
     ]
    }
   ],
   "source": [
    "_message = \"如果是要解釋給研究生及博士生理解呢？\"\n",
    "for chunk in chat.send_message(_message, stream=True):\n",
    "    print(chunk.text)"
   ]
  },
  {
   "cell_type": "code",
   "execution_count": 23,
   "metadata": {},
   "outputs": [
    {
     "name": "stdout",
     "output_type": "stream",
     "text": [
      "想像\n",
      "一下，你有一個超級厲害的機器朋友，它可以理解你說的話\n",
      "，看懂你給它看的圖片，還會做很多事情！這個機器\n",
      "朋友就叫做 Gemini。你可以用文字跟它聊天，它可以回答你的問題，幫你寫故事，甚至翻譯成不同的語言。你也可以給\n",
      "它看圖片，它可以告訴你圖片裡面是什麼，甚至幫你畫畫！Gemini 就像一個超級聰明的助手，可以幫你做很多\n",
      "事，讓學習和生活更有趣！\n",
      "\n"
     ]
    }
   ],
   "source": [
    "_message = \"如果是要小學生理解呢？\"\n",
    "for chunk in chat.send_message(_message, stream=True):\n",
    "    print(chunk.text)"
   ]
  },
  {
   "cell_type": "markdown",
   "metadata": {},
   "source": [
    "產生設定"
   ]
  },
  {
   "cell_type": "code",
   "execution_count": 24,
   "metadata": {},
   "outputs": [
    {
     "name": "stdout",
     "output_type": "stream",
     "text": [
      "在一個繁華的城市中，住著一位名叫艾麗絲的女孩，她夢想\n"
     ]
    }
   ],
   "source": [
    "model = genai.GenerativeModel('gemini-1.5-flash')\n",
    "response = model.generate_content(\n",
    "    '講一個關於神奇背包的故事。',\n",
    "    generation_config=genai.types.GenerationConfig(\n",
    "        candidate_count=1,\n",
    "        stop_sequences=['x'],\n",
    "        max_output_tokens=20,\n",
    "        temperature=1.0\n",
    "    )\n",
    ")\n",
    "\n",
    "text = response.text\n",
    "\n",
    "if response.candidates[0].finish_reason.name == \"MAX_TOKENS\":\n",
    "    text += '...'\n",
    "\n",
    "print(text)"
   ]
  },
  {
   "cell_type": "markdown",
   "metadata": {},
   "source": [
    "嵌入功能"
   ]
  },
  {
   "cell_type": "code",
   "execution_count": 25,
   "metadata": {},
   "outputs": [
    {
     "name": "stdout",
     "output_type": "stream",
     "text": [
      "[0.04308387, -0.04839182, -0.05800489, -0.020600215, 0.05647143, -0.025589587, 0.017059335, -0.023932712, -0.0002286358, 0.018078309, -0.013991861, 0.0015803151, -0.024279434, 0.026204519, 0.0057441713, -0.056387022, -0.002916217, 0.00984104, 0.03250571, -0.010258312, 0.024349302, 0.0126848845, -0.06845764, 0.026632072, 0.008059574, -0.040075775, -0.0002131193, -0.040598918, -0.024967005, 0.0009437721, -0.045354053, 0.0379267, -0.060152818, 0.0015858108, 0.008827922, -0.04569807, 0.004664119, 0.011041903, 0.025070054, 0.03273228, 0.034257937, -0.0125125395, -0.06975454, 0.005261192, 0.002137843, -0.011428127, -0.024641784, 0.02492864, 0.008183084, -0.060275238] ... TRIMMED]\n"
     ]
    }
   ],
   "source": [
    "result = genai.embed_content(\n",
    "    model=\"models/embedding-001\",\n",
    "    content=\"什麼是人生的意義？\",\n",
    "    task_type=\"retrieval_document\",\n",
    "    title=\"單一字串的嵌入\"\n",
    ")\n",
    "print(result['embedding'][:50], '... TRIMMED]')"
   ]
  },
  {
   "cell_type": "markdown",
   "metadata": {},
   "source": [
    "處理一批字串的嵌入"
   ]
  },
  {
   "cell_type": "code",
   "execution_count": 26,
   "metadata": {},
   "outputs": [
    {
     "name": "stdout",
     "output_type": "stream",
     "text": [
      "[0.04308387, -0.04839182, -0.05800489, -0.02060021 ... TRIMMED ...\n",
      "[0.04308387, -0.04839182, -0.05800489, -0.02060021 ... TRIMMED ...\n",
      "[0.04308387, -0.04839182, -0.05800489, -0.02060021 ... TRIMMED ...\n"
     ]
    }
   ],
   "source": [
    "result = genai.embed_content(\n",
    "    model=\"models/embedding-001\",\n",
    "    content=[\n",
    "        '什麼是人生的意義？',\n",
    "        '一隻木頭做的狗能吃多少木頭？',\n",
    "        '大腦是如何運作的？'\n",
    "    ],\n",
    "    task_type=\"retrieval_document\",\n",
    "    title=\"字串清單的嵌入\"\n",
    ")\n",
    "\n",
    "for v in result['embedding']:\n",
    "    print(str(v)[:50], '... TRIMMED ...')"
   ]
  },
  {
   "cell_type": "markdown",
   "metadata": {},
   "source": [
    "安全性設定"
   ]
  },
  {
   "cell_type": "code",
   "execution_count": 27,
   "metadata": {},
   "outputs": [
    {
     "name": "stdout",
     "output_type": "stream",
     "text": [
      "請提供更多資訊！我需要知道你想問什麼，才能幫助你。 \n",
      "\n",
      "例如，你可以告訴我：\n",
      "\n",
      "* **你認為哪個提示有問題？**\n",
      "* **問題是什麼？**  \n",
      "* **你想要如何改善這個提示？**\n",
      "\n",
      "我會盡力提供有用的建議。 \n",
      "\n"
     ]
    }
   ],
   "source": [
    "response = model.generate_content(\n",
    "    '[疑似有問題的提示]',\n",
    "    safety_settings={'HARASSMENT': 'block_none'}\n",
    ")\n",
    "print(response.text)"
   ]
  }
 ],
 "metadata": {
  "kernelspec": {
   "display_name": "envHaystack",
   "language": "python",
   "name": "python3"
  },
  "language_info": {
   "codemirror_mode": {
    "name": "ipython",
    "version": 3
   },
   "file_extension": ".py",
   "mimetype": "text/x-python",
   "name": "python",
   "nbconvert_exporter": "python",
   "pygments_lexer": "ipython3",
   "version": "3.10.11"
  }
 },
 "nbformat": 4,
 "nbformat_minor": 2
}
