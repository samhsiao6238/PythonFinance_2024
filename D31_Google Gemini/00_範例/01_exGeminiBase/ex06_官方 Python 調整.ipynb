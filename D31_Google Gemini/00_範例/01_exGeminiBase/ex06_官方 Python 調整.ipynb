{
 "cells": [
  {
   "cell_type": "markdown",
   "metadata": {},
   "source": [
    "列出可用的模型\n"
   ]
  },
  {
   "cell_type": "code",
   "execution_count": 1,
   "metadata": {},
   "outputs": [
    {
     "name": "stdout",
     "output_type": "stream",
     "text": [
      "Model ID: models/gemini-1.0-pro-001, Name: Gemini 1.0 Pro 001 (Tuning)\n"
     ]
    }
   ],
   "source": [
    "import google.generativeai as genai\n",
    "\n",
    "# 列出所有可用的模型\n",
    "available_models = genai.list_models()\n",
    "\n",
    "# 輸出支持調整的模型\n",
    "for model in available_models:\n",
    "    if \"createTunedModel\" in model.supported_generation_methods:\n",
    "        print(f\"Model ID: {model.name}, Name: {model.display_name}\")"
   ]
  },
  {
   "cell_type": "markdown",
   "metadata": {},
   "source": [
    "準備訓練數據\n"
   ]
  },
  {
   "cell_type": "code",
   "execution_count": 2,
   "metadata": {},
   "outputs": [],
   "source": [
    "training_data = (\n",
    "    [\n",
    "        # 簡單的數字增量\n",
    "        {\"text_input\": \"1\", \"output\": \"2\"},\n",
    "        {\"text_input\": \"3\", \"output\": \"4\"},\n",
    "        # 負數的增量\n",
    "        {\"text_input\": \"-3\", \"output\": \"-2\"},\n",
    "        # 數字文字形式的增量\n",
    "        {\"text_input\": \"twenty two\", \"output\": \"twenty three\"},\n",
    "        # 高數字文字形式的增量\n",
    "        {\"text_input\": \"two hundred\", \"output\": \"two hundred one\"},\n",
    "        # 跨越進位的增量\n",
    "        {\"text_input\": \"ninety nine\", \"output\": \"one hundred\"},\n",
    "        {\"text_input\": \"8\", \"output\": \"9\"},\n",
    "        {\"text_input\": \"-98\", \"output\": \"-97\"},\n",
    "        # 含千位分隔符的增量\n",
    "        {\"text_input\": \"1,000\", \"output\": \"1,001\"},\n",
    "        {\"text_input\": \"10,100,000\", \"output\": \"10,100,001\"},\n",
    "        {\"text_input\": \"thirteen\", \"output\": \"fourteen\"},\n",
    "        {\"text_input\": \"eighty\", \"output\": \"eighty one\"},\n",
    "        {\"text_input\": \"one\", \"output\": \"two\"},\n",
    "        {\"text_input\": \"three\", \"output\": \"four\"},\n",
    "        {\"text_input\": \"seven\", \"output\": \"eight\"}\n",
    "    ]\n",
    ")"
   ]
  },
  {
   "cell_type": "markdown",
   "metadata": {},
   "source": [
    "創建調整模型"
   ]
  },
  {
   "cell_type": "code",
   "execution_count": 3,
   "metadata": {},
   "outputs": [
    {
     "name": "stdout",
     "output_type": "stream",
     "text": [
      "調整模型創建完成，模型 ID: generate-num-144\n"
     ]
    }
   ],
   "source": [
    "import google.generativeai as genai\n",
    "import random\n",
    "\n",
    "# 設置調整模型的名稱\n",
    "model_id = \"models/gemini-1.0-pro-001\"\n",
    "name = f\"generate-num-{random.randint(0, 10000)}\"\n",
    "# 創建調整模型\n",
    "operation = genai.create_tuned_model(\n",
    "    # 使用支持調整的模型 ID\n",
    "    source_model=model_id,\n",
    "    # 提供訓練數據\n",
    "    training_data=training_data,\n",
    "    # 調整模型的唯一標識\n",
    "    id=name,\n",
    "    # 訓練週期數\n",
    "    epoch_count=10,\n",
    "    # 每批訓練數據的大小\n",
    "    batch_size=2,\n",
    "    # 學習速率\n",
    "    learning_rate=0.001,\n",
    "    # 設置模型的顯示名稱\n",
    "    display_name=\"我的調整模型\"\n",
    ")\n",
    "# 等待操作完成\n",
    "operation.result()\n",
    "print(f\"調整模型創建完成，模型 ID: {name}\")"
   ]
  },
  {
   "cell_type": "markdown",
   "metadata": {},
   "source": [
    "檢查調整模型的狀態\n"
   ]
  },
  {
   "cell_type": "code",
   "execution_count": 4,
   "metadata": {},
   "outputs": [
    {
     "name": "stdout",
     "output_type": "stream",
     "text": [
      "模型狀態: 2\n",
      "Model ID: tunedModels/number-generator-model-196mbgm8wd2, Name: number generator model\n",
      "Model ID: tunedModels/number-generator-model-6503a0drn7zo, Name: number generator model\n",
      "Model ID: tunedModels/number-generator-model-qxow3c46ru5d, Name: number generator model\n",
      "Model ID: tunedModels/number-generator-model-bmz78102l9t6, Name: number generator model\n",
      "Model ID: tunedModels/number-generator-model-gyw26dhike7r, Name: number generator model\n"
     ]
    }
   ],
   "source": [
    "# 獲取調整模型的詳細信息\n",
    "operation = genai.get_tuned_model(f\"tunedModels/{name}\")\n",
    "print(f\"模型狀態: {operation.state}\")\n",
    "\n",
    "# 列出已調整的模型\n",
    "for i, m in zip(range(5), genai.list_tuned_models()):\n",
    "    print(f\"Model ID: {m.name}, Name: {m.display_name}\")"
   ]
  },
  {
   "cell_type": "markdown",
   "metadata": {},
   "source": [
    "檢查其輸出是否符合預期\n"
   ]
  },
  {
   "cell_type": "code",
   "execution_count": 5,
   "metadata": {},
   "outputs": [
    {
     "name": "stdout",
     "output_type": "stream",
     "text": [
      "Input: 55, Output: 56, Expected: 56\n",
      "Input: 123455, Output: 6, Expected: 123456\n",
      "Input: four, Output: five, Expected: five\n",
      "Input: quatre, Output: cinq, Expected: cinq\n",
      "Input: III, Output: IV, Expected: IV\n",
      "Input: 七, Output: 八, Expected: 八\n"
     ]
    }
   ],
   "source": [
    "# 創建生成內容的模型對象\n",
    "model = genai.GenerativeModel(model_name=f\"tunedModels/{name}\")\n",
    "\n",
    "# 測試模型輸出\n",
    "test_cases = {\n",
    "    \"55\": \"56\",\n",
    "    \"123455\": \"123456\",\n",
    "    \"four\": \"five\",\n",
    "    # 法語的 4 和 5\n",
    "    \"quatre\": \"cinq\",\n",
    "    # 羅馬數字\n",
    "    \"III\": \"IV\",\n",
    "    # 日語的 7 和 8\n",
    "    \"七\": \"八\",\n",
    "}\n",
    "\n",
    "for input_text, expected_output in test_cases.items():\n",
    "    result = model.generate_content(input_text)\n",
    "    print(f\"Input: {input_text}, Output: {result.text}, Expected: {expected_output}\")"
   ]
  },
  {
   "cell_type": "markdown",
   "metadata": {},
   "source": [
    "查看損失曲線\n"
   ]
  },
  {
   "cell_type": "code",
   "execution_count": 6,
   "metadata": {},
   "outputs": [
    {
     "data": {
      "image/png": "[encoded data removed]",
      "text/plain": [
       "<Figure size 1000x600 with 1 Axes>"
      ]
     },
     "metadata": {},
     "output_type": "display_data"
    }
   ],
   "source": [
    "import google.generativeai as genai\n",
    "import pandas as pd\n",
    "import seaborn as sns\n",
    "import matplotlib.pyplot as plt\n",
    "\n",
    "# 假設前面已經創建並獲取了調整模型\n",
    "# 初始化並等待操作完成\n",
    "# 獲取模型詳細信息\n",
    "model_info = genai.get_tuned_model(f\"tunedModels/{name}\")\n",
    "\n",
    "# 檢查模型是否有快照信息\n",
    "if hasattr(model_info.tuning_task, \"snapshots\"):\n",
    "    # 獲取調整模型的快照信息，構建 DataFrame\n",
    "    snapshots = pd.DataFrame(model_info.tuning_task.snapshots)\n",
    "\n",
    "    # 檢查 DataFrame 是否有數據\n",
    "    if not snapshots.empty:\n",
    "        # 繪製損失曲線\n",
    "        plt.figure(figsize=(10, 6))\n",
    "        sns.lineplot(data=snapshots, x=\"epoch\", y=\"mean_loss\")\n",
    "        plt.xlabel(\"Epoch\")\n",
    "        plt.ylabel(\"Mean Loss\")\n",
    "        plt.title(\"Training Loss Curve\")\n",
    "        plt.show()\n",
    "    else:\n",
    "        print(\"沒有可用的 snapshots。\")\n",
    "else:\n",
    "    print(\"該模型沒有 snapshots。\")"
   ]
  },
  {
   "cell_type": "markdown",
   "metadata": {},
   "source": [
    "更新調整模型的描述"
   ]
  },
  {
   "cell_type": "code",
   "execution_count": 7,
   "metadata": {},
   "outputs": [
    {
     "name": "stdout",
     "output_type": "stream",
     "text": [
      "模型描述: This is my model.\n"
     ]
    }
   ],
   "source": [
    "# 更新調整模型的描述\n",
    "genai.update_tuned_model(\n",
    "    f\"tunedModels/{name}\",\n",
    "    {\"description\": \"This is my model.\"}\n",
    ")\n",
    "\n",
    "# 驗證更新\n",
    "model_info = genai.get_tuned_model(f\"tunedModels/{name}\")\n",
    "# 預期輸出：'This is my model.'\n",
    "print(f\"模型描述: {model_info.description}\")"
   ]
  },
  {
   "cell_type": "markdown",
   "metadata": {},
   "source": [
    "刪除調整模型"
   ]
  },
  {
   "cell_type": "code",
   "execution_count": 9,
   "metadata": {},
   "outputs": [
    {
     "ename": "NotFound",
     "evalue": "404 Requested entity was not found.",
     "output_type": "error",
     "traceback": [
      "\u001b[0;31m---------------------------------------------------------------------------\u001b[0m",
      "\u001b[0;31mNotFound\u001b[0m                                  Traceback (most recent call last)",
      "Cell \u001b[0;32mIn[9], line 2\u001b[0m\n\u001b[1;32m      1\u001b[0m \u001b[38;5;66;03m# 刪除調整模型\u001b[39;00m\n\u001b[0;32m----> 2\u001b[0m \u001b[43mgenai\u001b[49m\u001b[38;5;241;43m.\u001b[39;49m\u001b[43mdelete_tuned_model\u001b[49m\u001b[43m(\u001b[49m\u001b[38;5;124;43mf\u001b[39;49m\u001b[38;5;124;43m'\u001b[39;49m\u001b[38;5;124;43mtunedModels/\u001b[39;49m\u001b[38;5;132;43;01m{\u001b[39;49;00m\u001b[43mname\u001b[49m\u001b[38;5;132;43;01m}\u001b[39;49;00m\u001b[38;5;124;43m'\u001b[39;49m\u001b[43m)\u001b[49m\n\u001b[1;32m      3\u001b[0m \u001b[38;5;28;01mtry\u001b[39;00m:\n\u001b[1;32m      4\u001b[0m     model_info \u001b[38;5;241m=\u001b[39m genai\u001b[38;5;241m.\u001b[39mget_tuned_model(\u001b[38;5;124mf\u001b[39m\u001b[38;5;124m'\u001b[39m\u001b[38;5;124mtunedModels/\u001b[39m\u001b[38;5;132;01m{\u001b[39;00mname\u001b[38;5;132;01m}\u001b[39;00m\u001b[38;5;124m'\u001b[39m)\n",
      "File \u001b[0;32m~/Documents/PythonVenv/envLCG/lib/python3.10/site-packages/google/generativeai/models.py:448\u001b[0m, in \u001b[0;36mdelete_tuned_model\u001b[0;34m(tuned_model, client, request_options)\u001b[0m\n\u001b[1;32m    445\u001b[0m     client \u001b[38;5;241m=\u001b[39m get_default_model_client()\n\u001b[1;32m    447\u001b[0m name \u001b[38;5;241m=\u001b[39m model_types\u001b[38;5;241m.\u001b[39mmake_model_name(tuned_model)\n\u001b[0;32m--> 448\u001b[0m \u001b[43mclient\u001b[49m\u001b[38;5;241;43m.\u001b[39;49m\u001b[43mdelete_tuned_model\u001b[49m\u001b[43m(\u001b[49m\u001b[43mname\u001b[49m\u001b[38;5;241;43m=\u001b[39;49m\u001b[43mname\u001b[49m\u001b[43m,\u001b[49m\u001b[43m \u001b[49m\u001b[38;5;241;43m*\u001b[39;49m\u001b[38;5;241;43m*\u001b[39;49m\u001b[43mrequest_options\u001b[49m\u001b[43m)\u001b[49m\n",
      "File \u001b[0;32m~/Documents/PythonVenv/envLCG/lib/python3.10/site-packages/google/ai/generativelanguage_v1beta/services/model_service/client.py:1494\u001b[0m, in \u001b[0;36mModelServiceClient.delete_tuned_model\u001b[0;34m(self, request, name, retry, timeout, metadata)\u001b[0m\n\u001b[1;32m   1491\u001b[0m \u001b[38;5;28mself\u001b[39m\u001b[38;5;241m.\u001b[39m_validate_universe_domain()\n\u001b[1;32m   1493\u001b[0m \u001b[38;5;66;03m# Send the request.\u001b[39;00m\n\u001b[0;32m-> 1494\u001b[0m \u001b[43mrpc\u001b[49m\u001b[43m(\u001b[49m\n\u001b[1;32m   1495\u001b[0m \u001b[43m    \u001b[49m\u001b[43mrequest\u001b[49m\u001b[43m,\u001b[49m\n\u001b[1;32m   1496\u001b[0m \u001b[43m    \u001b[49m\u001b[43mretry\u001b[49m\u001b[38;5;241;43m=\u001b[39;49m\u001b[43mretry\u001b[49m\u001b[43m,\u001b[49m\n\u001b[1;32m   1497\u001b[0m \u001b[43m    \u001b[49m\u001b[43mtimeout\u001b[49m\u001b[38;5;241;43m=\u001b[39;49m\u001b[43mtimeout\u001b[49m\u001b[43m,\u001b[49m\n\u001b[1;32m   1498\u001b[0m \u001b[43m    \u001b[49m\u001b[43mmetadata\u001b[49m\u001b[38;5;241;43m=\u001b[39;49m\u001b[43mmetadata\u001b[49m\u001b[43m,\u001b[49m\n\u001b[1;32m   1499\u001b[0m \u001b[43m\u001b[49m\u001b[43m)\u001b[49m\n",
      "File \u001b[0;32m~/Documents/PythonVenv/envLCG/lib/python3.10/site-packages/google/api_core/gapic_v1/method.py:131\u001b[0m, in \u001b[0;36m_GapicCallable.__call__\u001b[0;34m(self, timeout, retry, compression, *args, **kwargs)\u001b[0m\n\u001b[1;32m    128\u001b[0m \u001b[38;5;28;01mif\u001b[39;00m \u001b[38;5;28mself\u001b[39m\u001b[38;5;241m.\u001b[39m_compression \u001b[38;5;129;01mis\u001b[39;00m \u001b[38;5;129;01mnot\u001b[39;00m \u001b[38;5;28;01mNone\u001b[39;00m:\n\u001b[1;32m    129\u001b[0m     kwargs[\u001b[38;5;124m\"\u001b[39m\u001b[38;5;124mcompression\u001b[39m\u001b[38;5;124m\"\u001b[39m] \u001b[38;5;241m=\u001b[39m compression\n\u001b[0;32m--> 131\u001b[0m \u001b[38;5;28;01mreturn\u001b[39;00m \u001b[43mwrapped_func\u001b[49m\u001b[43m(\u001b[49m\u001b[38;5;241;43m*\u001b[39;49m\u001b[43margs\u001b[49m\u001b[43m,\u001b[49m\u001b[43m \u001b[49m\u001b[38;5;241;43m*\u001b[39;49m\u001b[38;5;241;43m*\u001b[39;49m\u001b[43mkwargs\u001b[49m\u001b[43m)\u001b[49m\n",
      "File \u001b[0;32m~/Documents/PythonVenv/envLCG/lib/python3.10/site-packages/google/api_core/retry/retry_unary.py:293\u001b[0m, in \u001b[0;36mRetry.__call__.<locals>.retry_wrapped_func\u001b[0;34m(*args, **kwargs)\u001b[0m\n\u001b[1;32m    289\u001b[0m target \u001b[38;5;241m=\u001b[39m functools\u001b[38;5;241m.\u001b[39mpartial(func, \u001b[38;5;241m*\u001b[39margs, \u001b[38;5;241m*\u001b[39m\u001b[38;5;241m*\u001b[39mkwargs)\n\u001b[1;32m    290\u001b[0m sleep_generator \u001b[38;5;241m=\u001b[39m exponential_sleep_generator(\n\u001b[1;32m    291\u001b[0m     \u001b[38;5;28mself\u001b[39m\u001b[38;5;241m.\u001b[39m_initial, \u001b[38;5;28mself\u001b[39m\u001b[38;5;241m.\u001b[39m_maximum, multiplier\u001b[38;5;241m=\u001b[39m\u001b[38;5;28mself\u001b[39m\u001b[38;5;241m.\u001b[39m_multiplier\n\u001b[1;32m    292\u001b[0m )\n\u001b[0;32m--> 293\u001b[0m \u001b[38;5;28;01mreturn\u001b[39;00m \u001b[43mretry_target\u001b[49m\u001b[43m(\u001b[49m\n\u001b[1;32m    294\u001b[0m \u001b[43m    \u001b[49m\u001b[43mtarget\u001b[49m\u001b[43m,\u001b[49m\n\u001b[1;32m    295\u001b[0m \u001b[43m    \u001b[49m\u001b[38;5;28;43mself\u001b[39;49m\u001b[38;5;241;43m.\u001b[39;49m\u001b[43m_predicate\u001b[49m\u001b[43m,\u001b[49m\n\u001b[1;32m    296\u001b[0m \u001b[43m    \u001b[49m\u001b[43msleep_generator\u001b[49m\u001b[43m,\u001b[49m\n\u001b[1;32m    297\u001b[0m \u001b[43m    \u001b[49m\u001b[43mtimeout\u001b[49m\u001b[38;5;241;43m=\u001b[39;49m\u001b[38;5;28;43mself\u001b[39;49m\u001b[38;5;241;43m.\u001b[39;49m\u001b[43m_timeout\u001b[49m\u001b[43m,\u001b[49m\n\u001b[1;32m    298\u001b[0m \u001b[43m    \u001b[49m\u001b[43mon_error\u001b[49m\u001b[38;5;241;43m=\u001b[39;49m\u001b[43mon_error\u001b[49m\u001b[43m,\u001b[49m\n\u001b[1;32m    299\u001b[0m \u001b[43m\u001b[49m\u001b[43m)\u001b[49m\n",
      "File \u001b[0;32m~/Documents/PythonVenv/envLCG/lib/python3.10/site-packages/google/api_core/retry/retry_unary.py:153\u001b[0m, in \u001b[0;36mretry_target\u001b[0;34m(target, predicate, sleep_generator, timeout, on_error, exception_factory, **kwargs)\u001b[0m\n\u001b[1;32m    149\u001b[0m \u001b[38;5;66;03m# pylint: disable=broad-except\u001b[39;00m\n\u001b[1;32m    150\u001b[0m \u001b[38;5;66;03m# This function explicitly must deal with broad exceptions.\u001b[39;00m\n\u001b[1;32m    151\u001b[0m \u001b[38;5;28;01mexcept\u001b[39;00m \u001b[38;5;167;01mException\u001b[39;00m \u001b[38;5;28;01mas\u001b[39;00m exc:\n\u001b[1;32m    152\u001b[0m     \u001b[38;5;66;03m# defer to shared logic for handling errors\u001b[39;00m\n\u001b[0;32m--> 153\u001b[0m     \u001b[43m_retry_error_helper\u001b[49m\u001b[43m(\u001b[49m\n\u001b[1;32m    154\u001b[0m \u001b[43m        \u001b[49m\u001b[43mexc\u001b[49m\u001b[43m,\u001b[49m\n\u001b[1;32m    155\u001b[0m \u001b[43m        \u001b[49m\u001b[43mdeadline\u001b[49m\u001b[43m,\u001b[49m\n\u001b[1;32m    156\u001b[0m \u001b[43m        \u001b[49m\u001b[43msleep\u001b[49m\u001b[43m,\u001b[49m\n\u001b[1;32m    157\u001b[0m \u001b[43m        \u001b[49m\u001b[43merror_list\u001b[49m\u001b[43m,\u001b[49m\n\u001b[1;32m    158\u001b[0m \u001b[43m        \u001b[49m\u001b[43mpredicate\u001b[49m\u001b[43m,\u001b[49m\n\u001b[1;32m    159\u001b[0m \u001b[43m        \u001b[49m\u001b[43mon_error\u001b[49m\u001b[43m,\u001b[49m\n\u001b[1;32m    160\u001b[0m \u001b[43m        \u001b[49m\u001b[43mexception_factory\u001b[49m\u001b[43m,\u001b[49m\n\u001b[1;32m    161\u001b[0m \u001b[43m        \u001b[49m\u001b[43mtimeout\u001b[49m\u001b[43m,\u001b[49m\n\u001b[1;32m    162\u001b[0m \u001b[43m    \u001b[49m\u001b[43m)\u001b[49m\n\u001b[1;32m    163\u001b[0m     \u001b[38;5;66;03m# if exception not raised, sleep before next attempt\u001b[39;00m\n\u001b[1;32m    164\u001b[0m     time\u001b[38;5;241m.\u001b[39msleep(sleep)\n",
      "File \u001b[0;32m~/Documents/PythonVenv/envLCG/lib/python3.10/site-packages/google/api_core/retry/retry_base.py:212\u001b[0m, in \u001b[0;36m_retry_error_helper\u001b[0;34m(exc, deadline, next_sleep, error_list, predicate_fn, on_error_fn, exc_factory_fn, original_timeout)\u001b[0m\n\u001b[1;32m    206\u001b[0m \u001b[38;5;28;01mif\u001b[39;00m \u001b[38;5;129;01mnot\u001b[39;00m predicate_fn(exc):\n\u001b[1;32m    207\u001b[0m     final_exc, source_exc \u001b[38;5;241m=\u001b[39m exc_factory_fn(\n\u001b[1;32m    208\u001b[0m         error_list,\n\u001b[1;32m    209\u001b[0m         RetryFailureReason\u001b[38;5;241m.\u001b[39mNON_RETRYABLE_ERROR,\n\u001b[1;32m    210\u001b[0m         original_timeout,\n\u001b[1;32m    211\u001b[0m     )\n\u001b[0;32m--> 212\u001b[0m     \u001b[38;5;28;01mraise\u001b[39;00m final_exc \u001b[38;5;28;01mfrom\u001b[39;00m \u001b[38;5;21;01msource_exc\u001b[39;00m\n\u001b[1;32m    213\u001b[0m \u001b[38;5;28;01mif\u001b[39;00m on_error_fn \u001b[38;5;129;01mis\u001b[39;00m \u001b[38;5;129;01mnot\u001b[39;00m \u001b[38;5;28;01mNone\u001b[39;00m:\n\u001b[1;32m    214\u001b[0m     on_error_fn(exc)\n",
      "File \u001b[0;32m~/Documents/PythonVenv/envLCG/lib/python3.10/site-packages/google/api_core/retry/retry_unary.py:144\u001b[0m, in \u001b[0;36mretry_target\u001b[0;34m(target, predicate, sleep_generator, timeout, on_error, exception_factory, **kwargs)\u001b[0m\n\u001b[1;32m    142\u001b[0m \u001b[38;5;28;01mfor\u001b[39;00m sleep \u001b[38;5;129;01min\u001b[39;00m sleep_generator:\n\u001b[1;32m    143\u001b[0m     \u001b[38;5;28;01mtry\u001b[39;00m:\n\u001b[0;32m--> 144\u001b[0m         result \u001b[38;5;241m=\u001b[39m \u001b[43mtarget\u001b[49m\u001b[43m(\u001b[49m\u001b[43m)\u001b[49m\n\u001b[1;32m    145\u001b[0m         \u001b[38;5;28;01mif\u001b[39;00m inspect\u001b[38;5;241m.\u001b[39misawaitable(result):\n\u001b[1;32m    146\u001b[0m             warnings\u001b[38;5;241m.\u001b[39mwarn(_ASYNC_RETRY_WARNING)\n",
      "File \u001b[0;32m~/Documents/PythonVenv/envLCG/lib/python3.10/site-packages/google/api_core/timeout.py:120\u001b[0m, in \u001b[0;36mTimeToDeadlineTimeout.__call__.<locals>.func_with_timeout\u001b[0;34m(*args, **kwargs)\u001b[0m\n\u001b[1;32m    117\u001b[0m     \u001b[38;5;66;03m# Avoid setting negative timeout\u001b[39;00m\n\u001b[1;32m    118\u001b[0m     kwargs[\u001b[38;5;124m\"\u001b[39m\u001b[38;5;124mtimeout\u001b[39m\u001b[38;5;124m\"\u001b[39m] \u001b[38;5;241m=\u001b[39m \u001b[38;5;28mmax\u001b[39m(\u001b[38;5;241m0\u001b[39m, \u001b[38;5;28mself\u001b[39m\u001b[38;5;241m.\u001b[39m_timeout \u001b[38;5;241m-\u001b[39m time_since_first_attempt)\n\u001b[0;32m--> 120\u001b[0m \u001b[38;5;28;01mreturn\u001b[39;00m \u001b[43mfunc\u001b[49m\u001b[43m(\u001b[49m\u001b[38;5;241;43m*\u001b[39;49m\u001b[43margs\u001b[49m\u001b[43m,\u001b[49m\u001b[43m \u001b[49m\u001b[38;5;241;43m*\u001b[39;49m\u001b[38;5;241;43m*\u001b[39;49m\u001b[43mkwargs\u001b[49m\u001b[43m)\u001b[49m\n",
      "File \u001b[0;32m~/Documents/PythonVenv/envLCG/lib/python3.10/site-packages/google/api_core/grpc_helpers.py:78\u001b[0m, in \u001b[0;36m_wrap_unary_errors.<locals>.error_remapped_callable\u001b[0;34m(*args, **kwargs)\u001b[0m\n\u001b[1;32m     76\u001b[0m     \u001b[38;5;28;01mreturn\u001b[39;00m callable_(\u001b[38;5;241m*\u001b[39margs, \u001b[38;5;241m*\u001b[39m\u001b[38;5;241m*\u001b[39mkwargs)\n\u001b[1;32m     77\u001b[0m \u001b[38;5;28;01mexcept\u001b[39;00m grpc\u001b[38;5;241m.\u001b[39mRpcError \u001b[38;5;28;01mas\u001b[39;00m exc:\n\u001b[0;32m---> 78\u001b[0m     \u001b[38;5;28;01mraise\u001b[39;00m exceptions\u001b[38;5;241m.\u001b[39mfrom_grpc_error(exc) \u001b[38;5;28;01mfrom\u001b[39;00m \u001b[38;5;21;01mexc\u001b[39;00m\n",
      "\u001b[0;31mNotFound\u001b[0m: 404 Requested entity was not found."
     ]
    }
   ],
   "source": [
    "# 刪除調整模型\n",
    "genai.delete_tuned_model(f'tunedModels/{name}')\n",
    "try:\n",
    "    model_info = genai.get_tuned_model(f'tunedModels/{name}')\n",
    "    print(model_info)\n",
    "except Exception as e:\n",
    "    # 預期輸出：404 Not Found\n",
    "    print(f\"{type(e)}: {e}\")"
   ]
  },
  {
   "cell_type": "markdown",
   "metadata": {},
   "source": [
    "列出和批次刪除已調整模型"
   ]
  },
  {
   "cell_type": "code",
   "execution_count": 8,
   "metadata": {},
   "outputs": [
    {
     "name": "stdout",
     "output_type": "stream",
     "text": [
      "已調整的模型列表:\n",
      "Model ID: tunedModels/number-generator-model-196mbgm8wd2, Name: number generator model\n",
      "Model ID: tunedModels/number-generator-model-6503a0drn7zo, Name: number generator model\n",
      "Model ID: tunedModels/number-generator-model-qxow3c46ru5d, Name: number generator model\n",
      "Model ID: tunedModels/number-generator-model-bmz78102l9t6, Name: number generator model\n",
      "Model ID: tunedModels/number-generator-model-gyw26dhike7r, Name: number generator model\n",
      "Model ID: tunedModels/generate-num-144, Name: 我的調整模型\n",
      "已刪除模型: Model ID: tunedModels/number-generator-model-196mbgm8wd2, Name: number generator model\n",
      "已刪除模型: Model ID: tunedModels/number-generator-model-6503a0drn7zo, Name: number generator model\n",
      "已刪除模型: Model ID: tunedModels/number-generator-model-qxow3c46ru5d, Name: number generator model\n",
      "已刪除模型: Model ID: tunedModels/number-generator-model-bmz78102l9t6, Name: number generator model\n",
      "已刪除模型: Model ID: tunedModels/number-generator-model-gyw26dhike7r, Name: number generator model\n",
      "已刪除模型: Model ID: tunedModels/generate-num-144, Name: 我的調整模型\n",
      "刪除後的模型列表:\n",
      "所有模型已刪除\n"
     ]
    }
   ],
   "source": [
    "import google.generativeai as genai\n",
    "\n",
    "# 列出所有已調整的模型，將生成器轉換為列表\n",
    "tuned_models = list(genai.list_tuned_models())\n",
    "\n",
    "# 打印出所有模型的ID和名稱\n",
    "print(\"已調整的模型列表:\")\n",
    "for model in tuned_models:\n",
    "    print(f\"Model ID: {model.name}, Name: {model.display_name}\")\n",
    "\n",
    "# 批次刪除模型\n",
    "for model in tuned_models:\n",
    "    try:\n",
    "        # 刪除模型\n",
    "        genai.delete_tuned_model(model.name)\n",
    "        print(f\"已刪除模型: Model ID: {model.name}, Name: {model.display_name}\")\n",
    "    except Exception as e:\n",
    "        print(f\"刪除模型失敗: Model ID: {model.name}, Name: {model.display_name}, Error: {e}\")\n",
    "\n",
    "# 列出刪除後的模型列表，並轉換為列表\n",
    "remaining_models = list(genai.list_tuned_models())\n",
    "\n",
    "print(\"刪除後的模型列表:\")\n",
    "for model in remaining_models:\n",
    "    print(f\"Model ID: {model.name}, Name: {model.display_name}\")\n",
    "\n",
    "# 確認所有模型是否已刪除\n",
    "if not remaining_models:\n",
    "    print(\"所有模型已刪除\")\n",
    "else:\n",
    "    print(f\"仍有 {len(remaining_models)} 個模型未刪除\")\n"
   ]
  }
 ],
 "metadata": {
  "kernelspec": {
   "display_name": "envLCG",
   "language": "python",
   "name": "python3"
  },
  "language_info": {
   "codemirror_mode": {
    "name": "ipython",
    "version": 3
   },
   "file_extension": ".py",
   "mimetype": "text/x-python",
   "name": "python",
   "nbconvert_exporter": "python",
   "pygments_lexer": "ipython3",
   "version": "3.10.11"
  }
 },
 "nbformat": 4,
 "nbformat_minor": 2
}
