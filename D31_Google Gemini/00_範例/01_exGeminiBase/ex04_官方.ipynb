{
 "cells": [
  {
   "cell_type": "markdown",
   "metadata": {},
   "source": [
    "# 緊接著 API 總覽"
   ]
  },
  {
   "cell_type": "markdown",
   "metadata": {},
   "source": [
    "使用模型進行多模態提示"
   ]
  },
  {
   "cell_type": "code",
   "execution_count": 1,
   "metadata": {},
   "outputs": [
    {
     "name": "stderr",
     "output_type": "stream",
     "text": [
      "/Users/samhsiao/Documents/PythonVenv/envGemini/lib/python3.10/site-packages/tqdm/auto.py:21: TqdmWarning: IProgress not found. Please update jupyter and ipywidgets. See https://ipywidgets.readthedocs.io/en/stable/user_install.html\n",
      "  from .autonotebook import tqdm as notebook_tqdm\n"
     ]
    },
    {
     "name": "stdout",
     "output_type": "stream",
     "text": [
      "這些看起來是買來的。\n"
     ]
    }
   ],
   "source": [
    "# 用於處理文件路徑\n",
    "import pathlib\n",
    "# 導入 Google Gemini API 的 SDK\n",
    "import google.generativeai as genai\n",
    "import PIL.Image  # 用於讀取圖片\n",
    "import os\n",
    "from dotenv import load_dotenv\n",
    "\n",
    "load_dotenv()\n",
    "\n",
    "# 設置 API 金鑰，請替換為您的實際金鑰\n",
    "GOOGLE_API_KEY = os.getenv(\"GEMINI_API_KEY\")\n",
    "# 配置 Google API 使用您的金鑰\n",
    "genai.configure(api_key=GOOGLE_API_KEY)\n",
    "\n",
    "# 初始化模型，這裡使用 'gemini-1.5-flash'\n",
    "model = genai.GenerativeModel('gemini-1.5-flash')\n",
    "\n",
    "# 讀取圖片文件並建立一個 PIL Image 對象\n",
    "image_path = 'cookie.png'\n",
    "image = PIL.Image.open(image_path)\n",
    "\n",
    "# 提示文本，說明你希望模型進行的操作\n",
    "prompt = \"這些看起來是買來的還是自製的？\"\n",
    "\n",
    "# 使用多模態輸入生成內容\n",
    "response = model.generate_content(\n",
    "    # 包含文本和圖片的內容\n",
    "    contents=[prompt, image],\n",
    "    # 啟用流式輸出，允許逐步生成回應\n",
    "    stream=True\n",
    ")\n",
    "\n",
    "# 確保所有流式回應塊都已處理完畢\n",
    "full_text = \"\"\n",
    "for chunk in response:\n",
    "    # 累積生成的文本塊\n",
    "    full_text += chunk.text\n",
    "\n",
    "# 輸出最終生成的文本\n",
    "print(full_text)\n"
   ]
  },
  {
   "cell_type": "markdown",
   "metadata": {},
   "source": [
    "使用流式方式獲取生成內容"
   ]
  },
  {
   "cell_type": "code",
   "execution_count": 4,
   "metadata": {},
   "outputs": [
    {
     "name": "stdout",
     "output_type": "stream",
     "text": [
      "在\n",
      "一個陽光明媚的小鎮，住著一個名叫艾莉的小女孩。\n",
      "艾莉是個愛冒險的女孩，她喜歡探索森林、爬山\n",
      "、甚至潛入湖泊。她一直夢想著能去世界各地旅行，見識不同的文化和風景。\n",
      "\n",
      "有一天，艾莉在閣樓\n",
      "上翻找舊東西時，發現了一個奇怪的背包。它看起來很普通，但艾莉卻覺得它充滿了神秘感。她試著\n",
      "打開背包，卻發現它被鎖上了。她找遍了整個閣樓，終於找到一把鑰匙，大小剛剛好可以打開背包的鎖。\n",
      "\n",
      "當艾莉打開背包時，她驚訝地發現裡面充滿\n",
      "了各種奇特的東西：一張古老的地圖、一盒閃閃發光的寶石、一瓶可以讓人瞬間變小的藥水，還有一本寫滿了神奇咒語的書。\n",
      "\n",
      "艾莉興奮地拿\n",
      "著這些寶物，試著用它們來進行冒險。她用地圖找到了隱藏在森林深處的瀑布，用寶石換取了當地村民的美食，用藥水縮小自己，在花叢中玩捉迷藏。艾莉每一天都充滿了驚奇和\n",
      "歡樂。\n",
      "\n",
      "可是，隨著時間的推移，艾莉發現自己越來越依賴神奇背包。她不再想要自己探索，而是依靠背包裡的東西來完成冒險。她變得懶惰，也變得自私。她只顧著自己玩樂，忽略了身邊朋友和家人的感受。\n",
      "\n",
      "\n",
      "有一天，艾莉在一個山洞里迷路了。她試著用背包裡的東西來幫助自己，但卻發現它們都不起作用了。她意識到，自己一直以來都在依靠這些神奇的東西，而忽略了自身的努力和思考。\n",
      "\n",
      "艾莉終於明白了，真正的冒險\n",
      "不是依靠外物，而是靠自己的智慧和勇氣。她決定丟掉神奇背包，依靠自己的力量走出山洞。\n",
      "\n",
      "從那天起，艾莉不再依賴背包，而是憑藉自己的努力和思考，不斷探索著新世界。她發現，真正的快樂來自於不斷的挑戰和\n",
      "成長，而不是依靠外物的幫助。神奇背包成為了艾莉成長過程中的一段經歷，教會了她珍惜努力，也教會了她獨立思考。\n",
      "完整生成內容：\n",
      "在一個陽光明媚的小鎮，住著一個名叫艾莉的小女孩。艾莉是個愛冒險的女孩，她喜歡探索森林、爬山、甚至潛入湖泊。她一直夢想著能去世界各地旅行，見識不同的文化和風景。\n",
      "\n",
      "有一天，艾莉在閣樓上翻找舊東西時，發現了一個奇怪的背包。它看起來很普通，但艾莉卻覺得它充滿了神秘感。她試著打開背包，卻發現它被鎖上了。她找遍了整個閣樓，終於找到一把鑰匙，大小剛剛好可以打開背包的鎖。\n",
      "\n",
      "當艾莉打開背包時，她驚訝地發現裡面充滿了各種奇特的東西：一張古老的地圖、一盒閃閃發光的寶石、一瓶可以讓人瞬間變小的藥水，還有一本寫滿了神奇咒語的書。\n",
      "\n",
      "艾莉興奮地拿著這些寶物，試著用它們來進行冒險。她用地圖找到了隱藏在森林深處的瀑布，用寶石換取了當地村民的美食，用藥水縮小自己，在花叢中玩捉迷藏。艾莉每一天都充滿了驚奇和歡樂。\n",
      "\n",
      "可是，隨著時間的推移，艾莉發現自己越來越依賴神奇背包。她不再想要自己探索，而是依靠背包裡的東西來完成冒險。她變得懶惰，也變得自私。她只顧著自己玩樂，忽略了身邊朋友和家人的感受。\n",
      "\n",
      "有一天，艾莉在一個山洞里迷路了。她試著用背包裡的東西來幫助自己，但卻發現它們都不起作用了。她意識到，自己一直以來都在依靠這些神奇的東西，而忽略了自身的努力和思考。\n",
      "\n",
      "艾莉終於明白了，真正的冒險不是依靠外物，而是靠自己的智慧和勇氣。她決定丟掉神奇背包，依靠自己的力量走出山洞。\n",
      "\n",
      "從那天起，艾莉不再依賴背包，而是憑藉自己的努力和思考，不斷探索著新世界。她發現，真正的快樂來自於不斷的挑戰和成長，而不是依靠外物的幫助。神奇背包成為了艾莉成長過程中的一段經歷，教會了她珍惜努力，也教會了她獨立思考。\n"
     ]
    }
   ],
   "source": [
    "# 定義提示文本\n",
    "prompt = \"講一個關於神奇背包的故事。\"\n",
    "\n",
    "# 使用流式方式獲取生成內容\n",
    "response = model.generate_content(\n",
    "    # 傳遞提示文本\n",
    "    contents=prompt,\n",
    "    # 啟用流式輸出，允許逐步生成回應\n",
    "    stream=True\n",
    ")\n",
    "\n",
    "# 確保所有流式回應塊都已處理完畢\n",
    "full_text = \"\"\n",
    "for chunk in response:\n",
    "    # 累積生成的文本塊\n",
    "    full_text += chunk.text\n",
    "    # 輸出每個內容塊的文本\n",
    "    print(chunk.text)\n",
    "\n",
    "# 輸出最終生成的文本\n",
    "print(\"完整生成內容：\")\n",
    "print(full_text)"
   ]
  },
  {
   "cell_type": "markdown",
   "metadata": {},
   "source": [
    "設定返回 JSON 格式回應"
   ]
  },
  {
   "cell_type": "code",
   "execution_count": 8,
   "metadata": {},
   "outputs": [
    {
     "name": "stdout",
     "output_type": "stream",
     "text": [
      "[{\"recipe_name\": \"巧克力餅乾\"}, {\"recipe_name\": \"燕麥餅乾\"}, {\"recipe_name\": \"花生醬餅乾\"}, {\"recipe_name\": \"薑餅\"}, {\"recipe_name\": \"杏仁餅乾\"}]\n",
      "\n",
      "\n",
      "格式化後的 JSON 數據:\n",
      "[\n",
      "    {\n",
      "        \"recipe_name\": \"巧克力餅乾\"\n",
      "    },\n",
      "    {\n",
      "        \"recipe_name\": \"燕麥餅乾\"\n",
      "    },\n",
      "    {\n",
      "        \"recipe_name\": \"花生醬餅乾\"\n",
      "    },\n",
      "    {\n",
      "        \"recipe_name\": \"薑餅\"\n",
      "    },\n",
      "    {\n",
      "        \"recipe_name\": \"杏仁餅乾\"\n",
      "    }\n",
      "]\n"
     ]
    }
   ],
   "source": [
    "# 用於解析 JSON\n",
    "import json\n",
    "\n",
    "# 設定回應為 JSON 格式\n",
    "model = genai.GenerativeModel(\n",
    "    'gemini-1.5-flash',\n",
    "    generation_config={\n",
    "        \"response_mime_type\": \"application/json\"\n",
    "    }\n",
    ")\n",
    "# 定義提示文本，指定返回 JSON 結構\n",
    "prompt = \"\"\"\n",
    "列出5個熱門的餅乾食譜。\n",
    "使用這個 JSON 結構：\n",
    "    Recipe = {\"recipe_name\": str}\n",
    "    return `list[Recipe]`\n",
    "\"\"\"\n",
    "# 使用模型生成內容\n",
    "response = model.generate_content(prompt)\n",
    "# 輸出生成的 JSON 文本\n",
    "print(response.text)\n",
    "\n",
    "# 解析生成的 JSON 文本\n",
    "try:\n",
    "    # 將 JSON 文本轉換為 Python 對象\n",
    "    json_data = json.loads(response.text)\n",
    "    print(\"\\n格式化後的 JSON 數據:\")\n",
    "    # 格式化並輸出 JSON 數據\n",
    "    print(json.dumps(\n",
    "        json_data,\n",
    "        indent=4,\n",
    "        ensure_ascii=False\n",
    "    ))\n",
    "except json.JSONDecodeError as e:\n",
    "    print(f\"無法解析 JSON: {e}\")"
   ]
  },
  {
   "cell_type": "markdown",
   "metadata": {},
   "source": [
    "使用受控生成進行 JSON 返回"
   ]
  },
  {
   "cell_type": "code",
   "execution_count": 10,
   "metadata": {},
   "outputs": [
    {
     "name": "stdout",
     "output_type": "stream",
     "text": [
      "[{\"recipe_name\": \"經典巧克力餅乾🍪🍫✨\"  }, {\"recipe_name\": \"酥脆燕麥葡萄乾餅乾🍪🍇\"  }, {\"recipe_name\": \"香甜奶油餅乾🍪🧈\" }, {\"recipe_name\": \"濃郁花生醬餅乾🍪🥜\"  }, {\"recipe_name\": \"雙重巧克力碎片餅乾🍪🍫🍫\" }] \n",
      "\n",
      "格式化後的 JSON 數據:\n",
      "[\n",
      "    {\n",
      "        \"recipe_name\": \"經典巧克力餅乾🍪🍫✨\"\n",
      "    },\n",
      "    {\n",
      "        \"recipe_name\": \"酥脆燕麥葡萄乾餅乾🍪🍇\"\n",
      "    },\n",
      "    {\n",
      "        \"recipe_name\": \"香甜奶油餅乾🍪🧈\"\n",
      "    },\n",
      "    {\n",
      "        \"recipe_name\": \"濃郁花生醬餅乾🍪🥜\"\n",
      "    },\n",
      "    {\n",
      "        \"recipe_name\": \"雙重巧克力碎片餅乾🍪🍫🍫\"\n",
      "    }\n",
      "]\n"
     ]
    }
   ],
   "source": [
    "# 導入 typing_extensions 用於定義型別\n",
    "import typing_extensions as typing\n",
    "\n",
    "# 定義 JSON 結構\n",
    "class Recipe(typing.TypedDict):\n",
    "    # 定義食譜名稱字段\n",
    "    recipe_name: str\n",
    "\n",
    "# 初始化高級模型\n",
    "model = genai.GenerativeModel(\n",
    "    model_name=\"models/gemini-1.5-pro\"\n",
    ")\n",
    "\n",
    "result = model.generate_content(\n",
    "    # 提示文本\n",
    "    \"以繁體中文列出5個熱門的餅乾食譜\",  \n",
    "    # 設定返回的 JSON 結構\n",
    "    generation_config=genai.GenerationConfig(\n",
    "        response_mime_type=\"application/json\",\n",
    "        response_schema=list[Recipe]\n",
    "    )\n",
    ")\n",
    "# 輸出生成的 JSON 文本\n",
    "print(result.text)\n",
    "\n",
    "# 解析生成的 JSON 文本\n",
    "try:\n",
    "    # 將 JSON 文本轉換為 Python 對象\n",
    "    json_data = json.loads(result.text)\n",
    "    print(\"\\n格式化後的 JSON 數據:\")\n",
    "    # 格式化並輸出 JSON 數據\n",
    "    print(json.dumps(\n",
    "        json_data,\n",
    "        indent=4,\n",
    "        ensure_ascii=False\n",
    "    ))\n",
    "except json.JSONDecodeError as e:\n",
    "    print(f\"無法解析 JSON: {e}\")"
   ]
  }
 ],
 "metadata": {
  "kernelspec": {
   "display_name": "envGemini",
   "language": "python",
   "name": "python3"
  },
  "language_info": {
   "codemirror_mode": {
    "name": "ipython",
    "version": 3
   },
   "file_extension": ".py",
   "mimetype": "text/x-python",
   "name": "python",
   "nbconvert_exporter": "python",
   "pygments_lexer": "ipython3",
   "version": "3.10.11"
  }
 },
 "nbformat": 4,
 "nbformat_minor": 2
}
