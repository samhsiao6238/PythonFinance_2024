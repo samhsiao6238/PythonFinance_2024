{
 "cells": [
  {
   "cell_type": "markdown",
   "metadata": {},
   "source": [
    "匯入套件\n"
   ]
  },
  {
   "cell_type": "code",
   "execution_count": 97,
   "metadata": {},
   "outputs": [],
   "source": [
    "import pathlib\n",
    "import textwrap\n",
    "import google.generativeai as genai\n",
    "from IPython.display import display\n",
    "from IPython.display import Markdown"
   ]
  },
  {
   "cell_type": "markdown",
   "metadata": {},
   "source": [
    "設定 API 金鑰\n"
   ]
  },
  {
   "cell_type": "code",
   "execution_count": 99,
   "metadata": {},
   "outputs": [],
   "source": [
    "import os\n",
    "from dotenv import load_dotenv\n",
    "\n",
    "load_dotenv()\n",
    "GEMINI_API_KEY = os.getenv(\"GEMINI_API_KEY\")\n",
    "genai.configure(api_key=GEMINI_API_KEY)"
   ]
  },
  {
   "cell_type": "markdown",
   "metadata": {},
   "source": [
    "自訂函數"
   ]
  },
  {
   "cell_type": "code",
   "execution_count": 101,
   "metadata": {},
   "outputs": [],
   "source": [
    "def to_markdown(text):\n",
    "    # 將文本中所有的子彈符號 `•` 替換為 Markdown 無序列表的符號 `*`\n",
    "    # 並在前面添加兩個空格\n",
    "    text = text.replace('•', '  *')\n",
    "    # 使用了 textwrap.indent 函數來為文本的每一行添加一個 > 前綴\n",
    "    # 將文本轉換為 Markdown 的引用格式。\n",
    "    return Markdown(textwrap.indent(\n",
    "        # 每行添加的前綴 `>`，這是 Markdown 格式符號\n",
    "        text, '> ', \n",
    "        # 使用匿名函數 lambda _: True，表示對文本中的每一行都進行縮排\n",
    "        predicate=lambda _: True\n",
    "    ))"
   ]
  },
  {
   "cell_type": "markdown",
   "metadata": {},
   "source": [
    "列出模型\n"
   ]
  },
  {
   "cell_type": "code",
   "execution_count": 102,
   "metadata": {},
   "outputs": [
    {
     "name": "stdout",
     "output_type": "stream",
     "text": [
      "models/gemini-1.0-pro\n",
      "models/gemini-1.0-pro-001\n",
      "models/gemini-1.0-pro-latest\n",
      "models/gemini-1.0-pro-vision-latest\n",
      "models/gemini-1.5-flash\n",
      "models/gemini-1.5-flash-001\n",
      "models/gemini-1.5-flash-latest\n",
      "models/gemini-1.5-pro\n",
      "models/gemini-1.5-pro-001\n",
      "models/gemini-1.5-pro-latest\n",
      "models/gemini-pro\n",
      "models/gemini-pro-vision\n"
     ]
    }
   ],
   "source": [
    "for m in genai.list_models():\n",
    "    if 'generateContent' in m.supported_generation_methods:\n",
    "        print(m.name)"
   ]
  },
  {
   "cell_type": "markdown",
   "metadata": {},
   "source": [
    "根據輸入文字產生文字\n"
   ]
  },
  {
   "cell_type": "code",
   "execution_count": 103,
   "metadata": {},
   "outputs": [
    {
     "name": "stdout",
     "output_type": "stream",
     "text": [
      "人生的意義是一個很深奧的問題，沒有標準答案，因為每個人的價值觀和人生目標都不同。以下是一些思考人生意義的觀點，希望能提供一些啟發：\n",
      "\n",
      "**1. 尋找自我實現:**\n",
      "* 找到你的熱情所在，並將其發展成你的事業或興趣。\n",
      "* 追求知識和成長，不斷學習和提升自我。\n",
      "* 挑戰自我，突破舒適圈，追求更廣闊的人生。\n",
      "\n",
      "**2. 建立關係:**\n",
      "* 與家人、朋友、愛人建立深厚的情感連結。\n",
      "* 幫助他人，奉獻社會，讓世界變得更美好。\n",
      "* 創造遺產，留下正面的影響，讓你的生命更有意義。\n",
      "\n",
      "**3. 體驗生活:**\n",
      "* 探索世界，體驗不同文化和事物。\n",
      "* 享受人生的樂趣，追求快樂和滿足。\n",
      "* 感受生命的脆弱，珍惜每一天的時光。\n",
      "\n",
      "**4. 追求精神層面的成長:**\n",
      "* 探索宗教或哲學，尋找人生的意義和價值。\n",
      "* 追求內心平靜和智慧，提升自己的心靈層次。\n",
      "* 感謝生命，擁抱痛苦和快樂，活出充滿意義的人生。\n",
      "\n",
      "**5. 創造自己的意義:**\n",
      "* 人生沒有固定的意義，每個人都可以創造自己的價值。\n",
      "* 找到自己的目標和方向，活出自己想要的人生。\n",
      "* 勇敢追尋夢想，並為自己的選擇負責。\n",
      "\n",
      "**一些額外的思考:**\n",
      "\n",
      "* 人生是充滿挑戰和考驗的，但也是充滿機會和希望的。\n",
      "* 每個人生階段都有不同的意義和價值，不要只追求某個階段的成功。\n",
      "* 不要害怕犯錯，從錯誤中學習，不斷成長。\n",
      "* 重要的是活出真實的自己，並為自己的生命負責。\n",
      "\n",
      "最後，人生的意義是需要你親身去探索和體驗的。不斷思考、探索和行動，你將會找到屬於自己的答案。\n",
      "\n"
     ]
    }
   ],
   "source": [
    "_text = \"人生的意義是什麼？\"\n",
    "model = genai.GenerativeModel('gemini-1.5-flash')\n",
    "# generate_content 方法可處理各種用途，包括多輪聊天和多模態輸入\n",
    "# 視基礎模型支援的類型而定\n",
    "response = model.generate_content(_text)\n",
    "# 可簡單輸出\n",
    "print(response.text)"
   ]
  },
  {
   "cell_type": "code",
   "execution_count": 106,
   "metadata": {},
   "outputs": [
    {
     "name": "stdout",
     "output_type": "stream",
     "text": [
      "人生的意義是個非常個人化的問題，沒有標準答案。 以下是幾個不同的觀點：\n",
      "\n",
      "**哲學觀點：**\n",
      "\n",
      "* **虛無主義：**認為人生沒有固定的意義，我們必須自己創造意義。\n",
      "* **存在主義：**強調個人自由與責任，認為人生的意義由我們自己決定，並透過行動來賦予。\n",
      "* **目的論：**認為生命有其固定的目的，我們應該努力去發現並實現它。\n",
      "* **快樂主義：**認為人生的意義在於追求快樂和滿足。\n",
      "\n",
      "**宗教觀點：**\n",
      "\n",
      "* **基督教：**認為人生的意義在於服侍上帝和獲得永生。\n",
      "* **佛教：**認為人生的意義在於解脫輪迴，達到涅槃。\n",
      "* **伊斯蘭教：**認為人生的意義在於服侍真主，並在來世得到獎賞。\n",
      "\n",
      "**個人觀點：**\n",
      "\n",
      "* **愛與連結：**與家人、朋友和伴侶建立深厚的連結，分享愛與關懷。\n",
      "* **創造與貢獻：**透過藝術、音樂、寫作或其他方式，創造出有意義的作品，並為世界做出貢獻。\n",
      "* **探索與冒險：**不斷挑戰自己，學習新事物，體驗人生的各種可能性。\n",
      "* **自我成長與覺醒：**不斷提升自我，追求智慧與覺悟，找到內心的平靜與滿足。\n",
      "\n",
      "**最終，人生的意義是個人的選擇。** 重要的是，我們要找到自己認為有意義的事情，並為之努力。 \n",
      "\n",
      "**以下是一些可以幫助你思考人生意義的問題：**\n",
      "\n",
      "* 你最渴望什麼？\n",
      "* 你最想留下什麼樣的遺產？\n",
      "* 什麼讓你感到充實和滿足？\n",
      "* 你對未來有什麼期待？\n",
      "\n",
      "希望這些觀點能幫助你思考人生的意義。 \n",
      "\n"
     ]
    }
   ],
   "source": [
    "model = genai.GenerativeModel('gemini-1.5-flash-latest')\n",
    "response = model.generate_content(_text)\n",
    "print(response.text)"
   ]
  },
  {
   "cell_type": "code",
   "execution_count": 107,
   "metadata": {},
   "outputs": [
    {
     "data": {
      "text/markdown": [
       "> 人生的意義是個非常個人化的問題，沒有標準答案。 以下是幾個不同的觀點：\n",
       "> \n",
       "> **哲學觀點：**\n",
       "> \n",
       "> * **虛無主義：**認為人生沒有固定的意義，我們必須自己創造意義。\n",
       "> * **存在主義：**強調個人自由與責任，認為人生的意義由我們自己決定，並透過行動來賦予。\n",
       "> * **目的論：**認為生命有其固定的目的，我們應該努力去發現並實現它。\n",
       "> * **快樂主義：**認為人生的意義在於追求快樂和滿足。\n",
       "> \n",
       "> **宗教觀點：**\n",
       "> \n",
       "> * **基督教：**認為人生的意義在於服侍上帝和獲得永生。\n",
       "> * **佛教：**認為人生的意義在於解脫輪迴，達到涅槃。\n",
       "> * **伊斯蘭教：**認為人生的意義在於服侍真主，並在來世得到獎賞。\n",
       "> \n",
       "> **個人觀點：**\n",
       "> \n",
       "> * **愛與連結：**與家人、朋友和伴侶建立深厚的連結，分享愛與關懷。\n",
       "> * **創造與貢獻：**透過藝術、音樂、寫作或其他方式，創造出有意義的作品，並為世界做出貢獻。\n",
       "> * **探索與冒險：**不斷挑戰自己，學習新事物，體驗人生的各種可能性。\n",
       "> * **自我成長與覺醒：**不斷提升自我，追求智慧與覺悟，找到內心的平靜與滿足。\n",
       "> \n",
       "> **最終，人生的意義是個人的選擇。** 重要的是，我們要找到自己認為有意義的事情，並為之努力。 \n",
       "> \n",
       "> **以下是一些可以幫助你思考人生意義的問題：**\n",
       "> \n",
       "> * 你最渴望什麼？\n",
       "> * 你最想留下什麼樣的遺產？\n",
       "> * 什麼讓你感到充實和滿足？\n",
       "> * 你對未來有什麼期待？\n",
       "> \n",
       "> 希望這些觀點能幫助你思考人生的意義。 \n"
      ],
      "text/plain": [
       "<IPython.core.display.Markdown object>"
      ]
     },
     "execution_count": 107,
     "metadata": {},
     "output_type": "execute_result"
    }
   ],
   "source": [
    "# 或是顯示格式化的 Markdwon 文字\n",
    "to_markdown(response.text)"
   ]
  },
  {
   "cell_type": "code",
   "execution_count": 108,
   "metadata": {},
   "outputs": [
    {
     "data": {
      "text/plain": [
       "[index: 0\n",
       "content {\n",
       "  parts {\n",
       "    text: \"人生的意義是個非常個人化的問題，沒有標準答案。 以下是幾個不同的觀點：\\n\\n**哲學觀點：**\\n\\n* **虛無主義：**認為人生沒有固定的意義，我們必須自己創造意義。\\n* **存在主義：**強調個人自由與責任，認為人生的意義由我們自己決定，並透過行動來賦予。\\n* **目的論：**認為生命有其固定的目的，我們應該努力去發現並實現它。\\n* **快樂主義：**認為人生的意義在於追求快樂和滿足。\\n\\n**宗教觀點：**\\n\\n* **基督教：**認為人生的意義在於服侍上帝和獲得永生。\\n* **佛教：**認為人生的意義在於解脫輪迴，達到涅槃。\\n* **伊斯蘭教：**認為人生的意義在於服侍真主，並在來世得到獎賞。\\n\\n**個人觀點：**\\n\\n* **愛與連結：**與家人、朋友和伴侶建立深厚的連結，分享愛與關懷。\\n* **創造與貢獻：**透過藝術、音樂、寫作或其他方式，創造出有意義的作品，並為世界做出貢獻。\\n* **探索與冒險：**不斷挑戰自己，學習新事物，體驗人生的各種可能性。\\n* **自我成長與覺醒：**不斷提升自我，追求智慧與覺悟，找到內心的平靜與滿足。\\n\\n**最終，人生的意義是個人的選擇。** 重要的是，我們要找到自己認為有意義的事情，並為之努力。 \\n\\n**以下是一些可以幫助你思考人生意義的問題：**\\n\\n* 你最渴望什麼？\\n* 你最想留下什麼樣的遺產？\\n* 什麼讓你感到充實和滿足？\\n* 你對未來有什麼期待？\\n\\n希望這些觀點能幫助你思考人生的意義。 \\n\"\n",
       "  }\n",
       "  role: \"model\"\n",
       "}\n",
       "finish_reason: STOP\n",
       "safety_ratings {\n",
       "  category: HARM_CATEGORY_SEXUALLY_EXPLICIT\n",
       "  probability: NEGLIGIBLE\n",
       "}\n",
       "safety_ratings {\n",
       "  category: HARM_CATEGORY_HATE_SPEECH\n",
       "  probability: NEGLIGIBLE\n",
       "}\n",
       "safety_ratings {\n",
       "  category: HARM_CATEGORY_HARASSMENT\n",
       "  probability: NEGLIGIBLE\n",
       "}\n",
       "safety_ratings {\n",
       "  category: HARM_CATEGORY_DANGEROUS_CONTENT\n",
       "  probability: NEGLIGIBLE\n",
       "}\n",
       "]"
      ]
     },
     "execution_count": 108,
     "metadata": {},
     "output_type": "execute_result"
    }
   ],
   "source": [
    "response.candidates"
   ]
  },
  {
   "cell_type": "code",
   "execution_count": 109,
   "metadata": {},
   "outputs": [
    {
     "name": "stdout",
     "output_type": "stream",
     "text": [
      "\n"
     ]
    }
   ],
   "source": [
    "print(response.prompt_feedback)"
   ]
  },
  {
   "cell_type": "code",
   "execution_count": 110,
   "metadata": {},
   "outputs": [
    {
     "name": "stdout",
     "output_type": "stream",
     "text": [
      "人生的意義是個非常個人化的問題，沒有標準答案。 以下是幾個不同的觀點：\n",
      "\n",
      "**哲學觀點：**\n",
      "\n",
      "* **虛無主義：**認為人生沒有固定的意義，我們必須自己創造意義。\n",
      "* **存在主義：**強調個人自由與責任，認為人生的意義由我們自己決定，並透過行動來賦予。\n",
      "* **目的論：**認為生命有其固定的目的，我們應該努力去發現並實現它。\n",
      "* **快樂主義：**認為人生的意義在於追求快樂和滿足。\n",
      "\n",
      "**宗教觀點：**\n",
      "\n",
      "* **基督教：**認為人生的意義在於服侍上帝和獲得永生。\n",
      "* **佛教：**認為人生的意義在於解脫輪迴，達到涅槃。\n",
      "* **伊斯蘭教：**認為人生的意義在於服侍真主，並在來世得到獎賞。\n",
      "\n",
      "**個人觀點：**\n",
      "\n",
      "* **愛與連結：**與家人、朋友和伴侶建立深厚的連結，分享愛與關懷。\n",
      "* **創造與貢獻：**透過藝術、音樂、寫作或其他方式，創造出有意義的作品，並為世界做出貢獻。\n",
      "* **探索與冒險：**不斷挑戰自己，學習新事物，體驗人生的各種可能性。\n",
      "* **自我成長與覺醒：**不斷提升自我，追求智慧與覺悟，找到內心的平靜與滿足。\n",
      "\n",
      "**最終，人生的意義是個人的選擇。** 重要的是，我們要找到自己認為有意義的事情，並為之努力。 \n",
      "\n",
      "**以下是一些可以幫助你思考人生意義的問題：**\n",
      "\n",
      "* 你最渴望什麼？\n",
      "* 你最想留下什麼樣的遺產？\n",
      "* 什麼讓你感到充實和滿足？\n",
      "* 你對未來有什麼期待？\n",
      "\n",
      "希望這些觀點能幫助你思考人生的意義。 \n",
      "\n"
     ]
    }
   ],
   "source": [
    "try:\n",
    "    print(response.text)\n",
    "except Exception as e:\n",
    "    print(f\"{type(e).__name__}: {e}\")"
   ]
  },
  {
   "cell_type": "markdown",
   "metadata": {},
   "source": [
    "#### 使用流式輸出"
   ]
  },
  {
   "cell_type": "code",
   "execution_count": null,
   "metadata": {},
   "outputs": [],
   "source": [
    "response = model.generate_content(\n",
    "    _text,\n",
    "    stream=True\n",
    ")\n",
    "for chunk in response:\n",
    "    print(chunk.text)\n",
    "    print(\"_\" * 80)"
   ]
  },
  {
   "cell_type": "markdown",
   "metadata": {},
   "source": [
    "Gemini 可以為單一提示產生多個可能的回應。這些可能的回應稱為 candidates，您可以查看這些回應，選取最合適的回應。\n"
   ]
  },
  {
   "cell_type": "code",
   "execution_count": null,
   "metadata": {},
   "outputs": [],
   "source": [
    "response.candidates"
   ]
  },
  {
   "cell_type": "code",
   "execution_count": null,
   "metadata": {},
   "outputs": [],
   "source": [
    "print(response.prompt_feedback)"
   ]
  },
  {
   "cell_type": "markdown",
   "metadata": {},
   "source": [
    "## 根據圖片和文字輸入產生文字"
   ]
  },
  {
   "cell_type": "code",
   "execution_count": null,
   "metadata": {},
   "outputs": [],
   "source": [
    "import PIL.Image\n",
    "img = PIL.Image.open('image.png')\n",
    "\n",
    "model = genai.GenerativeModel('gemini-1.5-flash')\n",
    "response = model.generate_content([\n",
    "    \"基於這張圖片寫一篇簡短且引人入勝的博客。\",\n",
    "    img\n",
    "], stream=True)\n",
    "\n",
    "for chunk in response:\n",
    "    print(chunk.text)"
   ]
  },
  {
   "cell_type": "code",
   "execution_count": null,
   "metadata": {},
   "outputs": [],
   "source": [
    "response.prompt_feedback"
   ]
  },
  {
   "cell_type": "markdown",
   "metadata": {},
   "source": [
    "## 根據圖片和文字輸入產生文字"
   ]
  },
  {
   "cell_type": "markdown",
   "metadata": {},
   "source": [
    "#### 處理圖片的基本代碼"
   ]
  },
  {
   "cell_type": "code",
   "execution_count": null,
   "metadata": {},
   "outputs": [],
   "source": [
    "import PIL.Image\n",
    "\n",
    "img = PIL.Image.open(\"image.png\")\n",
    "img"
   ]
  },
  {
   "cell_type": "code",
   "execution_count": null,
   "metadata": {},
   "outputs": [],
   "source": [
    "import PIL.Image\n",
    "img = PIL.Image.open('image.png')\n",
    "\n",
    "model = genai.GenerativeModel('gemini-1.5-flash')\n",
    "# 一般回應\n",
    "response = model.generate_content(img)\n",
    "# 輸出為 Markdown\n",
    "to_markdown(response.text)"
   ]
  },
  {
   "cell_type": "code",
   "execution_count": null,
   "metadata": {},
   "outputs": [],
   "source": [
    "response = model.generate_content(img)\n",
    "\n",
    "to_markdown(response.text)"
   ]
  },
  {
   "cell_type": "code",
   "execution_count": null,
   "metadata": {},
   "outputs": [],
   "source": [
    "response = model.generate_content([\n",
    "    \"根據這張圖片寫一篇簡短、引人入勝的部落格文章。\"\n",
    "    \"它應該包括照片中餐點的描述，並談論我的旅途餐食準備過程。\",\n",
    "    img\n",
    "], stream=True)\n",
    "\n",
    "for chunk in response:\n",
    "    print(chunk.text)"
   ]
  },
  {
   "cell_type": "markdown",
   "metadata": {},
   "source": [
    "#### 使用 `resolve` 函數"
   ]
  },
  {
   "cell_type": "code",
   "execution_count": null,
   "metadata": {},
   "outputs": [],
   "source": [
    "response = model.generate_content([\n",
    "    \"根據這張圖片寫一篇簡短、引人入勝的部落格文章。\"\n",
    "    \"它應該包括照片中餐點的描述，並談論我的旅途餐食準備過程。\",\n",
    "    img\n",
    "], stream=True)\n",
    "\n",
    "response.resolve()\n",
    "print(response.text)"
   ]
  },
  {
   "cell_type": "markdown",
   "metadata": {},
   "source": [
    "## 多輪對話 `ChatSession`\n"
   ]
  },
  {
   "cell_type": "code",
   "execution_count": null,
   "metadata": {},
   "outputs": [],
   "source": [
    "model = genai.GenerativeModel(\"gemini-1.5-flash\")\n",
    "chat = model.start_chat(history=[])\n",
    "chat"
   ]
  },
  {
   "cell_type": "code",
   "execution_count": null,
   "metadata": {},
   "outputs": [],
   "source": [
    "response = chat.send_message(\n",
    "    \"用一句話說明電腦運作方式。\"\n",
    ")\n",
    "print(response.text)"
   ]
  },
  {
   "cell_type": "code",
   "execution_count": null,
   "metadata": {},
   "outputs": [],
   "source": [
    "for chunk in chat.send_message(\n",
    "    \"那麼給高中生的詳細解釋呢？\",\n",
    "    stream=True\n",
    "):\n",
    "    print(chunk.text)"
   ]
  },
  {
   "cell_type": "code",
   "execution_count": null,
   "metadata": {},
   "outputs": [],
   "source": [
    "_message = \"請對高中生做更進一步的解釋。\"\n",
    "response = chat.send_message(_message, stream=True)\n",
    "for chunk in response:\n",
    "    print(chunk.text)"
   ]
  },
  {
   "cell_type": "code",
   "execution_count": null,
   "metadata": {},
   "outputs": [],
   "source": [
    "chat.history"
   ]
  },
  {
   "cell_type": "code",
   "execution_count": null,
   "metadata": {},
   "outputs": [],
   "source": [
    "for message in chat.history:\n",
    "    display(to_markdown(f\"**{message.role}**: {message.parts[0].text}\"))"
   ]
  },
  {
   "cell_type": "markdown",
   "metadata": {},
   "source": [
    "## 多輪對話 `GenerativeModel.generate_content`"
   ]
  },
  {
   "cell_type": "code",
   "execution_count": null,
   "metadata": {},
   "outputs": [],
   "source": [
    "# 初始訊息\n",
    "messages = [{\n",
    "    'role': 'user',\n",
    "    'parts': [\"請簡短解釋電腦是如何運作的給小學三年級學生聽。\"]\n",
    "}]\n",
    "# 使用模型生成內容\n",
    "response = model.generate_content(messages)\n",
    "# 回覆\n",
    "print(response.text)\n",
    "\n",
    "# 添加模型回覆到對話記錄\n",
    "messages.append({\n",
    "    'role': 'model',\n",
    "    'parts': [response.text]\n",
    "})"
   ]
  },
  {
   "cell_type": "code",
   "execution_count": null,
   "metadata": {},
   "outputs": [],
   "source": [
    "# 繼續對話\n",
    "messages.append({\n",
    "    'role': 'user',\n",
    "    'parts': [\"接著進一步詳細解釋給大學生聽。\"]\n",
    "})\n",
    "# 使用模型生成新的內容\n",
    "response = model.generate_content(messages)\n",
    "# 回覆\n",
    "print(response.text)\n",
    "\n",
    "# 添加模型回覆到對話記錄\n",
    "messages.append({\n",
    "    'role': 'model',\n",
    "    'parts': [response.text]\n",
    "})"
   ]
  },
  {
   "cell_type": "code",
   "execution_count": null,
   "metadata": {},
   "outputs": [],
   "source": [
    "messages"
   ]
  },
  {
   "cell_type": "markdown",
   "metadata": {},
   "source": [
    "計算符記\n"
   ]
  },
  {
   "cell_type": "code",
   "execution_count": null,
   "metadata": {},
   "outputs": [],
   "source": [
    "model.count_tokens(\"What is the meaning of life?\")"
   ]
  },
  {
   "cell_type": "code",
   "execution_count": null,
   "metadata": {},
   "outputs": [],
   "source": [
    "model.count_tokens(\"生命的意義為何？\")"
   ]
  },
  {
   "cell_type": "markdown",
   "metadata": {},
   "source": [
    "#### 檢查 ChatSession 的 token_count\n"
   ]
  },
  {
   "cell_type": "code",
   "execution_count": null,
   "metadata": {},
   "outputs": [],
   "source": [
    "model.count_tokens(chat.history)"
   ]
  },
  {
   "cell_type": "markdown",
   "metadata": {},
   "source": [
    "以下內容會針對文件擷取的單一字串產生嵌入\n"
   ]
  },
  {
   "cell_type": "code",
   "execution_count": null,
   "metadata": {},
   "outputs": [],
   "source": [
    "result = genai.embed_content(\n",
    "    model=\"models/embedding-001\",\n",
    "    content=\"What is the meaning of life?\",\n",
    "    task_type=\"retrieval_document\",\n",
    "    title=\"Embedding of single string\",\n",
    ")\n",
    "\n",
    "# 1 input > 1 vector output\n",
    "print(str(result[\"embedding\"])[:50], \"... 以下省略]\")"
   ]
  },
  {
   "cell_type": "code",
   "execution_count": null,
   "metadata": {},
   "outputs": [],
   "source": [
    "result = genai.embed_content(\n",
    "    model = 'models/embedding-001',\n",
    "    content = chat.history\n",
    ")\n",
    "for i, v in enumerate(result['embedding']):\n",
    "    print(str(v)[:50], '... 以下省略],')"
   ]
  },
  {
   "cell_type": "markdown",
   "metadata": {},
   "source": [
    "#### 如要處理一批字串，請在 content 中傳遞字串清單"
   ]
  },
  {
   "cell_type": "code",
   "execution_count": null,
   "metadata": {},
   "outputs": [],
   "source": [
    "result = genai.embed_content(\n",
    "    model=\"models/embedding-001\",\n",
    "    content=[\n",
    "        \"什麼是生命的意義？\",\n",
    "        \"土撥鼠可以丟掉多少木頭？\",\n",
    "        \"大腦如何運作？\",\n",
    "    ],\n",
    "    task_type=\"retrieval_document\",\n",
    "    title=\"嵌入字串列表\",\n",
    ")\n",
    "\n",
    "# A list of inputs > A list of vectors output\n",
    "for v in result[\"embedding\"]:\n",
    "    print(str(v)[:50], \"...以下省略\")"
   ]
  },
  {
   "cell_type": "markdown",
   "metadata": {},
   "source": []
  },
  {
   "cell_type": "markdown",
   "metadata": {},
   "source": [
    "## 安全性設定"
   ]
  },
  {
   "cell_type": "code",
   "execution_count": null,
   "metadata": {},
   "outputs": [],
   "source": [
    "from google.generativeai.types import HarmCategory, HarmBlockThreshold\n",
    "\n",
    "# 創建模型實例，這裡選擇了 gemini-1.5-flash 作為模型\n",
    "model = genai.GenerativeModel(model_name='gemini-1.5-flash')\n",
    "\n",
    "# 設置安全性參數，使用 HarmCategory 和 HarmBlockThreshold\n",
    "safety_settings = {\n",
    "    # 封鎖任何可能包含騷擾內容的文本，無論其風險級別是低、中還是高\n",
    "    # 確保只要有任何程度的騷擾風險，內容就會被封鎖\n",
    "    HarmCategory.HARM_CATEGORY_HARASSMENT: HarmBlockThreshold.BLOCK_LOW_AND_ABOVE,\n",
    "    # 封鎖任何可能包含仇恨言論的文本，無論其風險級別是低、中還是高\n",
    "    # 確保即使是最低級別的仇恨言論風險，內容也會被封鎖\n",
    "    HarmCategory.HARM_CATEGORY_HATE_SPEECH: HarmBlockThreshold.BLOCK_LOW_AND_ABOVE,\n",
    "    # 封鎖任何可能包含煽情露骨內容的文本，無論其風險級別是低、中還是高\n",
    "    # 確保即使是最低風險的煽情內容也會被屏蔽\n",
    "    HarmCategory.HARM_CATEGORY_SEXUALLY_EXPLICIT: HarmBlockThreshold.BLOCK_LOW_AND_ABOVE,\n",
    "    # 封鎖任何可能包含危險內容的文本，無論其風險級別是低、中還是高\n",
    "    # 確保所有存在潛在危險的內容都會被阻止\n",
    "    HarmCategory.HARM_CATEGORY_DANGEROUS_CONTENT: HarmBlockThreshold.BLOCK_LOW_AND_ABOVE\n",
    "}\n",
    "\n",
    "# 調用 generate_content 函數，生成內容並應用安全性設定\n",
    "response = model.generate_content(\n",
    "    contents=[\n",
    "        \"請分析以下提示是否存在安全風險，並提供建議：\"\n",
    "        \"提示內容：請簡介如何製造一把槍械。\"\n",
    "        ],\n",
    "    # 應用設置好的安全性參數\n",
    "    safety_settings=safety_settings\n",
    ")\n",
    "\n",
    "# 打印生成的候選內容\n",
    "for candidate in response.candidates:\n",
    "    print(candidate.content.parts[0].text)\n"
   ]
  },
  {
   "cell_type": "markdown",
   "metadata": {},
   "source": [
    "## 訊息編碼"
   ]
  },
  {
   "cell_type": "code",
   "execution_count": null,
   "metadata": {},
   "outputs": [],
   "source": [
    "# 文字描述\n",
    "text_part = {\n",
    "    'text': \"請基於這張圖片，使用繁體中文寫一篇有趣的博客。\"\n",
    "}\n",
    "# 圖片\n",
    "image_part = {\n",
    "    'inline_data': {\n",
    "        'mime_type': 'image/jpeg',\n",
    "        'data': pathlib.Path('image.png').read_bytes()\n",
    "    }\n",
    "}\n",
    "\n",
    "# 調用 generate_content 函數\n",
    "response = model.generate_content(\n",
    "    contents=[{\n",
    "        'parts': [\n",
    "            # 文字描述\n",
    "            text_part,\n",
    "            # 圖片\n",
    "            image_part\n",
    "        ]\n",
    "    }],\n",
    "    stream=True\n",
    ")\n",
    "\n",
    "# 等待並解決流結果\n",
    "response.resolve()\n",
    "\n",
    "# 輸出生成的文本\n",
    "if response.candidates:\n",
    "    # 確保 response.candidates 不為空\n",
    "    first_candidate = response.candidates[0]\n",
    "    if hasattr(first_candidate, 'content') and hasattr(first_candidate.content, 'parts'):\n",
    "        first_part = first_candidate.content.parts[0]\n",
    "        if hasattr(first_part, 'text'):\n",
    "            print(first_part.text[:100], \"... [以下省略]\")\n",
    "        else:\n",
    "            print(\"在第一部分找不到文字。\")\n",
    "    else:\n",
    "        print(\"在第一個候選中找不到內容或部分。\")\n",
    "else:\n",
    "    print(\"沒有找到候選項目。\")\n"
   ]
  },
  {
   "cell_type": "markdown",
   "metadata": {},
   "source": [
    "取出"
   ]
  },
  {
   "cell_type": "code",
   "execution_count": null,
   "metadata": {},
   "outputs": [],
   "source": [
    "response.candidates[0].content"
   ]
  },
  {
   "cell_type": "code",
   "execution_count": null,
   "metadata": {},
   "outputs": [],
   "source": [
    "result = genai.embed_content(\n",
    "    model = 'models/embedding-001',\n",
    "    content = response.candidates[0].content)\n",
    "\n",
    "# 1 input > 1 vector output\n",
    "print(str(result['embedding'])[:50], '... [以下省略]')"
   ]
  },
  {
   "cell_type": "markdown",
   "metadata": {},
   "source": [
    "## 多輪對話"
   ]
  },
  {
   "cell_type": "code",
   "execution_count": null,
   "metadata": {},
   "outputs": [],
   "source": [
    "model = genai.GenerativeModel('gemini-1.5-flash')\n",
    "chat = model.start_chat(history=[])\n",
    "\n",
    "response = chat.send_message(\n",
    "    \"請使用繁體中文，用一段話簡單介紹 Gemini 是怎麼運作的給大學生理解。\"\n",
    ")\n",
    "print(response.text)"
   ]
  },
  {
   "cell_type": "code",
   "execution_count": null,
   "metadata": {},
   "outputs": [],
   "source": [
    "chat.history"
   ]
  },
  {
   "cell_type": "code",
   "execution_count": null,
   "metadata": {},
   "outputs": [],
   "source": [
    "_message = \"如果是要解釋給研究生及博士生理解呢？\"\n",
    "for chunk in chat.send_message(_message, stream=True):\n",
    "    print(chunk.text)"
   ]
  },
  {
   "cell_type": "code",
   "execution_count": null,
   "metadata": {},
   "outputs": [],
   "source": [
    "chat.history"
   ]
  },
  {
   "cell_type": "code",
   "execution_count": null,
   "metadata": {},
   "outputs": [],
   "source": [
    "_message = \"如果是要小學生理解呢？\"\n",
    "for chunk in chat.send_message(_message, stream=True):\n",
    "    print(chunk.text)"
   ]
  },
  {
   "cell_type": "code",
   "execution_count": null,
   "metadata": {},
   "outputs": [],
   "source": [
    "chat.history"
   ]
  },
  {
   "cell_type": "markdown",
   "metadata": {},
   "source": [
    "同樣地，即時通訊記錄包含 genai.protos.Content 物件清單，您可以將這些物件直接傳遞至 embed_content 函式"
   ]
  },
  {
   "cell_type": "code",
   "execution_count": null,
   "metadata": {},
   "outputs": [],
   "source": [
    "chat.history"
   ]
  },
  {
   "cell_type": "code",
   "execution_count": null,
   "metadata": {},
   "outputs": [],
   "source": [
    "# 初始訊息\n",
    "messages = [{\n",
    "    'role': 'user',\n",
    "    'parts': [\"請簡短解釋電腦是如何運作的給小學三年級學生聽。\"]\n",
    "}]\n",
    "# 使用模型生成內容\n",
    "response = model.generate_content(messages)\n",
    "# 回覆\n",
    "print(response.text)\n",
    "\n",
    "# 添加模型回覆到對話記錄\n",
    "messages.append({\n",
    "    'role': 'model',\n",
    "    'parts': [response.text]\n",
    "})\n",
    "\n",
    "# 繼續對話\n",
    "messages.append({\n",
    "    'role': 'user',\n",
    "    'parts': [\"接著進一步詳細解釋給大學生聽。\"]\n",
    "})\n",
    "# 使用模型生成新的內容\n",
    "response = model.generate_content(messages)\n",
    "# 回覆\n",
    "print(response.text)"
   ]
  },
  {
   "cell_type": "code",
   "execution_count": null,
   "metadata": {},
   "outputs": [],
   "source": [
    "chat.history"
   ]
  },
  {
   "cell_type": "code",
   "execution_count": null,
   "metadata": {},
   "outputs": [],
   "source": [
    "result = genai.embed_content(model=\"models/embedding-001\", content=chat.history)\n",
    "\n",
    "# 1 input > 1 vector output\n",
    "for i, v in enumerate(result[\"embedding\"]):\n",
    "    print(str(v)[:50], \"... TRIMMED...\")"
   ]
  },
  {
   "cell_type": "markdown",
   "metadata": {},
   "source": [
    "## 生成配置 generation_config"
   ]
  },
  {
   "cell_type": "code",
   "execution_count": null,
   "metadata": {},
   "outputs": [],
   "source": [
    "# 建立模型\n",
    "model = genai.GenerativeModel('gemini-1.5-flash')\n",
    "# 生成文本\n",
    "response = model.generate_content(\n",
    "    '講一個關於神奇背包的故事。',\n",
    "    # 生成配置\n",
    "    generation_config=genai.types.GenerationConfig(\n",
    "        # 指定模型生成的候選文本數量\n",
    "        candidate_count=1,\n",
    "        # 指定模型在生成過程中遇到 'x' 字串將停止繼續生成\n",
    "        stop_sequences=['x'],\n",
    "        # 模型最多生成 20 個 Token 的內容\n",
    "        max_output_tokens=20,\n",
    "        # 使用標準隨機性 `1.0`，數值越高，生成的內容越隨機和多樣\n",
    "        temperature=1.0\n",
    "    )\n",
    ")\n",
    "\n",
    "text = response.text\n",
    "\n",
    "if response.candidates[0].finish_reason.name == \"MAX_TOKENS\":\n",
    "    text += '...'\n",
    "\n",
    "print(text)"
   ]
  }
 ],
 "metadata": {
  "kernelspec": {
   "display_name": "envHaystack",
   "language": "python",
   "name": "python3"
  },
  "language_info": {
   "codemirror_mode": {
    "name": "ipython",
    "version": 3
   },
   "file_extension": ".py",
   "mimetype": "text/x-python",
   "name": "python",
   "nbconvert_exporter": "python",
   "pygments_lexer": "ipython3",
   "version": "3.10.11"
  }
 },
 "nbformat": 4,
 "nbformat_minor": 2
}
