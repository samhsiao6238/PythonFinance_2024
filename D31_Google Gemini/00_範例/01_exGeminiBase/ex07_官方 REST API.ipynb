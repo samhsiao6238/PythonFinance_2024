{
 "cells": [
  {
   "cell_type": "markdown",
   "metadata": {},
   "source": [
    "## 通過 Google Cloud 進行驗證"
   ]
  },
  {
   "cell_type": "code",
   "execution_count": 1,
   "metadata": {},
   "outputs": [
    {
     "name": "stderr",
     "output_type": "stream",
     "text": [
      "Your browser has been opened to visit:\n",
      "\n",
      "    https://accounts.google.com/o/oauth2/auth?response_type=code&client_id=826653416557-5f254qj34fu2kir6pl0bqin5jf8uifaf.apps.googleusercontent.com&redirect_uri=http%3A%2F%2Flocalhost%3A8085%2F&scope=https%3A%2F%2Fwww.googleapis.com%2Fauth%2Fcloud-platform+https%3A%2F%2Fwww.googleapis.com%2Fauth%2Fgenerative-language.tuning&state=eagOGqqQH373iJ0iRgg09EsKMio0sK&access_type=offline&code_challenge=EuOZKNPVJd7Te5VyBm_rOMRT2AtOMFFpD2XKerHFo00&code_challenge_method=S256\n",
      "\n",
      "\n",
      "Credentials saved to file: [/Users/samhsiao/.config/gcloud/application_default_credentials.json]\n",
      "\n",
      "These credentials will be used by any library that requests Application Default Credentials (ADC).\n"
     ]
    },
    {
     "data": {
      "text/plain": [
       "0"
      ]
     },
     "execution_count": 1,
     "metadata": {},
     "output_type": "execute_result"
    }
   ],
   "source": [
    "import os\n",
    "\n",
    "# 請確保 'client_secret.json' 檔案存在於目前目錄或指定路徑\n",
    "client_secret_file = \"client_secret.json\"\n",
    "\n",
    "if not os.path.exists(client_secret_file):\n",
    "    raise FileNotFoundError(f\"client_secret.json 文件不在路徑中：{client_secret_file}\")\n",
    "\n",
    "# 執行 gcloud 登入\n",
    "os.system(\n",
    "    f\"gcloud auth application-default login --client-id-file={client_secret_file} --scopes='https://www.googleapis.com/auth/cloud-platform,https://www.googleapis.com/auth/generative-language.tuning'\"\n",
    ")"
   ]
  },
  {
   "cell_type": "markdown",
   "metadata": {},
   "source": [
    "## 透過自動化腳本進行驗證"
   ]
  },
  {
   "cell_type": "markdown",
   "metadata": {},
   "source": [
    "單獨生成哈希"
   ]
  },
  {
   "cell_type": "code",
   "execution_count": 2,
   "metadata": {},
   "outputs": [
    {
     "name": "stdout",
     "output_type": "stream",
     "text": [
      "code_verifier: cdqQf_I_aYYPq2rn2LOPatirD6-4r22hNZF1yb_nd0I\n",
      "code_challenge: JTUYVbeJ8avpdo0612wnEbKEWr2M4WTMI8-KAe9whOc\n"
     ]
    }
   ],
   "source": [
    "import base64\n",
    "import hashlib\n",
    "import os\n",
    "\n",
    "# 產生隨機的 code_verifier\n",
    "code_verifier = base64.urlsafe_b64encode(os.urandom(32)).decode(\"utf-8\").rstrip(\"=\")\n",
    "\n",
    "# 使用 SHA256 對 code_verifier 進行哈希\n",
    "code_challenge = (\n",
    "    base64.urlsafe_b64encode(hashlib.sha256(code_verifier.encode(\"utf-8\")).digest())\n",
    "    .decode(\"utf-8\")\n",
    "    .rstrip(\"=\")\n",
    ")\n",
    "\n",
    "print(f\"code_verifier: {code_verifier}\")\n",
    "print(f\"code_challenge: {code_challenge}\")"
   ]
  },
  {
   "cell_type": "markdown",
   "metadata": {},
   "source": [
    "完整自動化腳本"
   ]
  },
  {
   "cell_type": "code",
   "execution_count": 3,
   "metadata": {},
   "outputs": [
    {
     "name": "stdout",
     "output_type": "stream",
     "text": [
      "gcloud auth application-default login --remote-bootstrap=\"https://accounts.google.com/o/oauth2/auth?response_type=code&client_id=826653416557-5f254qj34fu2kir6pl0bqin5jf8uifaf.apps.googleusercontent.com&scope=https://www.googleapis.com/auth/cloud-platform+https://www.googleapis.com/auth/generative-language.tuning&state=12345&access_type=offline&code_challenge=z7nSEKV37XaNla5c-4578mFBheicq5ZtV4tiYZpU4cM&code_challenge_method=S256&redirect_uri=http://localhost&token_usage=remote\"\n"
     ]
    }
   ],
   "source": [
    "import base64\n",
    "import hashlib\n",
    "import os\n",
    "import json\n",
    "\n",
    "\n",
    "def generate_code_verifier(length=64):\n",
    "    \"\"\" 產生一個隨機的 code_verifier\"\"\"\n",
    "    if length < 43 or length > 128:\n",
    "        raise ValueError(\"code_verifier 長度必須在 43 至 128 位元組之間\")\n",
    "    code_verifier = (\n",
    "        base64.urlsafe_b64encode(os.urandom(length)).decode(\"utf-8\").rstrip(\"=\")\n",
    "    )\n",
    "    return code_verifier\n",
    "\n",
    "\n",
    "def generate_code_challenge(code_verifier):\n",
    "    \"\"\"使用 SHA-256 對 code_verifier 進行哈希，然後進行 Base64 URL 安全編碼\"\"\"\n",
    "    code_challenge = (\n",
    "        base64.urlsafe_b64encode(hashlib.sha256(code_verifier.encode(\"utf-8\")).digest())\n",
    "        .decode(\"utf-8\")\n",
    "        .rstrip(\"=\")\n",
    "    )\n",
    "    return code_challenge\n",
    "\n",
    "\n",
    "# 讀取 client_secret.json 文件\n",
    "with open(\"client_secret.json\", \"r\") as file:\n",
    "    client_info = json.load(file)\n",
    "\n",
    "# 獲取 client_id\n",
    "client_id = client_info[\"installed\"][\"client_id\"]\n",
    "\n",
    "# 生成 code_verifier 和 code_challenge\n",
    "code_verifier = generate_code_verifier()\n",
    "code_challenge = generate_code_challenge(code_verifier)\n",
    "\n",
    "# 生成 gcloud 命令\n",
    "gcloud_command = (\n",
    "    f'gcloud auth application-default login --remote-bootstrap=\"https://accounts.google.com/o/oauth2/auth'\n",
    "    f\"?response_type=code\"\n",
    "    f\"&client_id={client_id}\"\n",
    "    f\"&scope=https://www.googleapis.com/auth/cloud-platform+https://www.googleapis.com/auth/generative-language.tuning\"\n",
    "    f\"&state=12345\"\n",
    "    f\"&access_type=offline\"\n",
    "    f\"&code_challenge={code_challenge}\"\n",
    "    f\"&code_challenge_method=S256\"\n",
    "    f\"&redirect_uri=http://localhost\"\n",
    "    f'&token_usage=remote\"'\n",
    ")\n",
    "\n",
    "# 輸出 gcloud 命令\n",
    "# print(\"Generated gcloud command:\")\n",
    "print(gcloud_command)"
   ]
  },
  {
   "cell_type": "markdown",
   "metadata": {},
   "source": [
    "### 使用腳本設置環境變數並查詢"
   ]
  },
  {
   "cell_type": "code",
   "execution_count": 4,
   "metadata": {},
   "outputs": [
    {
     "name": "stdout",
     "output_type": "stream",
     "text": [
      "Access Token: ya29.a0AXooCguqk7rzodAK9OdlRnz-67vWW4_u2KAkAvBsxaGftEmgbHJSo4r6H0cMI2aqqNGJKAFPrQTu5VqTdc7Jl5-qeuoxOB-CfIcdk3KmgeAugLMzQk_TJaeMcGBOgdcg8V9Ymk2hfvZ3cubVFxO5MC2vqxnnH3exqNwsaCgYKAZMSARASFQHGX2MieRB_yOCZCdEK9vnlTxu6aA0171\n",
      "Project ID: myproject-20240622\n",
      "Base URL: https://generativelanguage.googleapis.com\n"
     ]
    }
   ],
   "source": [
    "import os\n",
    "import json\n",
    "\n",
    "# 讀取 client_secret.json 文件，並提取 project_id\n",
    "with open('client_secret.json', 'r') as file:\n",
    "    data = json.load(file)\n",
    "    project_id = data['installed']['project_id']\n",
    "\n",
    "# 獲取訪問令牌\n",
    "access_token = !gcloud auth application-default print-access-token\n",
    "access_token = '\\n'.join(access_token)\n",
    "\n",
    "# 設置環境變數\n",
    "os.environ['access_token'] = access_token\n",
    "os.environ['project_id'] = project_id\n",
    "os.environ['base_url'] = \"https://generativelanguage.googleapis.com\"\n",
    "\n",
    "# 驗證設置是否成功\n",
    "print(\"Access Token:\", os.environ['access_token'])\n",
    "print(\"Project ID:\", os.environ['project_id'])\n",
    "print(\"Base URL:\", os.environ['base_url'])"
   ]
  },
  {
   "cell_type": "markdown",
   "metadata": {},
   "source": [
    "#### 僅查詢環境變數"
   ]
  },
  {
   "cell_type": "code",
   "execution_count": 5,
   "metadata": {},
   "outputs": [
    {
     "name": "stdout",
     "output_type": "stream",
     "text": [
      "Access Token: ya29.a0AXooCguqk7rzodAK9OdlRnz-67vWW4_u2KAkAvBsxaGftEmgbHJSo4r6H0cMI2aqqNGJKAFPrQTu5VqTdc7Jl5-qeuoxOB-CfIcdk3KmgeAugLMzQk_TJaeMcGBOgdcg8V9Ymk2hfvZ3cubVFxO5MC2vqxnnH3exqNwsaCgYKAZMSARASFQHGX2MieRB_yOCZCdEK9vnlTxu6aA0171\n",
      "Project ID: myproject-20240622\n",
      "Base URL: https://generativelanguage.googleapis.com\n"
     ]
    }
   ],
   "source": [
    "# 驗證設置是否成功\n",
    "print(\"Access Token:\", os.environ['access_token'])\n",
    "print(\"Project ID:\", os.environ['project_id'])\n",
    "print(\"Base URL:\", os.environ['base_url'])"
   ]
  },
  {
   "cell_type": "code",
   "execution_count": null,
   "metadata": {},
   "outputs": [],
   "source": [
    "import json\n",
    "\n",
    "# 解析 JSON 文件\n",
    "first_page = json.load(open('tunemodel.json'))\n",
    "os.environ['modelname'] = first_page['metadata']['tunedModel']\n",
    "\n",
    "print(os.environ['modelname'])"
   ]
  }
 ],
 "metadata": {
  "kernelspec": {
   "display_name": "envLCG",
   "language": "python",
   "name": "python3"
  },
  "language_info": {
   "codemirror_mode": {
    "name": "ipython",
    "version": 3
   },
   "file_extension": ".py",
   "mimetype": "text/x-python",
   "name": "python",
   "nbconvert_exporter": "python",
   "pygments_lexer": "ipython3",
   "version": "3.10.11"
  }
 },
 "nbformat": 4,
 "nbformat_minor": 2
}
