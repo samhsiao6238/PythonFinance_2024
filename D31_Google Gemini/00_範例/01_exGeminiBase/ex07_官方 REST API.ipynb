{
 "cells": [
  {
   "cell_type": "markdown",
   "metadata": {},
   "source": [
    "## 通過 Google Cloud 進行驗證"
   ]
  },
  {
   "cell_type": "code",
   "execution_count": 6,
   "metadata": {},
   "outputs": [
    {
     "name": "stderr",
     "output_type": "stream",
     "text": [
      "Your browser has been opened to visit:\n",
      "\n",
      "    https://accounts.google.com/o/oauth2/auth?response_type=code&client_id=826653416557-5f254qj34fu2kir6pl0bqin5jf8uifaf.apps.googleusercontent.com&redirect_uri=http%3A%2F%2Flocalhost%3A8085%2F&scope=https%3A%2F%2Fwww.googleapis.com%2Fauth%2Fcloud-platform+https%3A%2F%2Fwww.googleapis.com%2Fauth%2Fgenerative-language.tuning&state=hdSb4WOhTDa7EAbO9OdjzHhOqlx8KF&access_type=offline&code_challenge=s0UNoa1B24hQ-U-QAc3X8htiTUzI7dPXvkOz7x4GHw4&code_challenge_method=S256\n",
      "\n",
      "\n",
      "Credentials saved to file: [/Users/samhsiao/.config/gcloud/application_default_credentials.json]\n",
      "\n",
      "These credentials will be used by any library that requests Application Default Credentials (ADC).\n"
     ]
    },
    {
     "data": {
      "text/plain": [
       "0"
      ]
     },
     "execution_count": 6,
     "metadata": {},
     "output_type": "execute_result"
    }
   ],
   "source": [
    "import os\n",
    "\n",
    "# 請確保 'client_secret.json' 檔案存在於目前目錄或指定路徑\n",
    "client_secret_file = \"client_secret.json\"\n",
    "\n",
    "if not os.path.exists(client_secret_file):\n",
    "    raise FileNotFoundError(f\"client_secret.json 文件不在路徑中：{client_secret_file}\")\n",
    "\n",
    "# 執行 gcloud 登入\n",
    "os.system(\n",
    "    f\"gcloud auth application-default login --client-id-file={client_secret_file} --scopes='https://www.googleapis.com/auth/cloud-platform,https://www.googleapis.com/auth/generative-language.tuning'\"\n",
    ")"
   ]
  },
  {
   "cell_type": "markdown",
   "metadata": {},
   "source": [
    "## 透過自動化腳本進行驗證"
   ]
  },
  {
   "cell_type": "markdown",
   "metadata": {},
   "source": [
    "單獨生成哈希"
   ]
  },
  {
   "cell_type": "code",
   "execution_count": null,
   "metadata": {},
   "outputs": [],
   "source": [
    "import base64\n",
    "import hashlib\n",
    "import os\n",
    "\n",
    "# 產生隨機的 code_verifier\n",
    "code_verifier = base64.urlsafe_b64encode(os.urandom(32)).decode(\"utf-8\").rstrip(\"=\")\n",
    "\n",
    "# 使用 SHA256 對 code_verifier 進行哈希\n",
    "code_challenge = (\n",
    "    base64.urlsafe_b64encode(hashlib.sha256(code_verifier.encode(\"utf-8\")).digest())\n",
    "    .decode(\"utf-8\")\n",
    "    .rstrip(\"=\")\n",
    ")\n",
    "\n",
    "print(f\"code_verifier: {code_verifier}\")\n",
    "print(f\"code_challenge: {code_challenge}\")"
   ]
  },
  {
   "cell_type": "markdown",
   "metadata": {},
   "source": [
    "完整自動化腳本"
   ]
  },
  {
   "cell_type": "code",
   "execution_count": 7,
   "metadata": {},
   "outputs": [
    {
     "name": "stdout",
     "output_type": "stream",
     "text": [
      "gcloud auth application-default login --remote-bootstrap=\"https://accounts.google.com/o/oauth2/auth?response_type=code&client_id=826653416557-5f254qj34fu2kir6pl0bqin5jf8uifaf.apps.googleusercontent.com&scope=https://www.googleapis.com/auth/cloud-platform+https://www.googleapis.com/auth/generative-language.tuning&state=12345&access_type=offline&code_challenge=BSQQdKHKHZtd8thw9SVukAA7BUmODI5D6TrarDdCUgs&code_challenge_method=S256&redirect_uri=http://localhost&token_usage=remote\"\n"
     ]
    }
   ],
   "source": [
    "import base64\n",
    "import hashlib\n",
    "import os\n",
    "import json\n",
    "\n",
    "\n",
    "def generate_code_verifier(length=64):\n",
    "    \"\"\" 產生一個隨機的 code_verifier\"\"\"\n",
    "    if length < 43 or length > 128:\n",
    "        raise ValueError(\"code_verifier 長度必須在 43 至 128 位元組之間\")\n",
    "    code_verifier = (\n",
    "        base64.urlsafe_b64encode(os.urandom(length)).decode(\"utf-8\").rstrip(\"=\")\n",
    "    )\n",
    "    return code_verifier\n",
    "\n",
    "\n",
    "def generate_code_challenge(code_verifier):\n",
    "    \"\"\"使用 SHA-256 對 code_verifier 進行哈希，然後進行 Base64 URL 安全編碼\"\"\"\n",
    "    code_challenge = (\n",
    "        base64.urlsafe_b64encode(hashlib.sha256(code_verifier.encode(\"utf-8\")).digest())\n",
    "        .decode(\"utf-8\")\n",
    "        .rstrip(\"=\")\n",
    "    )\n",
    "    return code_challenge\n",
    "\n",
    "\n",
    "# 讀取 client_secret.json 文件\n",
    "with open(\"client_secret.json\", \"r\") as file:\n",
    "    client_info = json.load(file)\n",
    "\n",
    "# 獲取 client_id\n",
    "client_id = client_info[\"installed\"][\"client_id\"]\n",
    "\n",
    "# 生成 code_verifier 和 code_challenge\n",
    "code_verifier = generate_code_verifier()\n",
    "code_challenge = generate_code_challenge(code_verifier)\n",
    "\n",
    "# 生成 gcloud 命令\n",
    "gcloud_command = (\n",
    "    f'gcloud auth application-default login --remote-bootstrap=\"https://accounts.google.com/o/oauth2/auth'\n",
    "    f\"?response_type=code\"\n",
    "    f\"&client_id={client_id}\"\n",
    "    f\"&scope=https://www.googleapis.com/auth/cloud-platform+https://www.googleapis.com/auth/generative-language.tuning\"\n",
    "    f\"&state=12345\"\n",
    "    f\"&access_type=offline\"\n",
    "    f\"&code_challenge={code_challenge}\"\n",
    "    f\"&code_challenge_method=S256\"\n",
    "    f\"&redirect_uri=http://localhost\"\n",
    "    f'&token_usage=remote\"'\n",
    ")\n",
    "\n",
    "# 輸出 gcloud 命令\n",
    "# print(\"Generated gcloud command:\")\n",
    "print(gcloud_command)"
   ]
  },
  {
   "cell_type": "markdown",
   "metadata": {},
   "source": [
    "### 使用腳本設置環境變數並查詢"
   ]
  },
  {
   "cell_type": "code",
   "execution_count": 8,
   "metadata": {},
   "outputs": [
    {
     "name": "stdout",
     "output_type": "stream",
     "text": [
      "Access Token: ya29.a0AXooCgtvKsAQH3wuSO8YkqM3Mg8p9vFacOU2SDGuGWwtV5OPJyhdC1tXKMGMSEpyTvpqTuCkQnUX0B-PM3fNVvY1Gedru9MEpTjOHr-ooK5gi1aZoxkds3-NOtWUpp310NQH5hABBaEnaXWh2u7g0FHxHUC0GSp8nU9oaCgYKAY0SARASFQHGX2Mi28k0xvi7G1qbjF74WqmdPA0171\n",
      "Project ID: myproject-20240622\n",
      "Base URL: https://generativelanguage.googleapis.com\n"
     ]
    }
   ],
   "source": [
    "import os\n",
    "import json\n",
    "\n",
    "# 讀取 client_secret.json 文件，並提取 project_id\n",
    "with open('client_secret.json', 'r') as file:\n",
    "    data = json.load(file)\n",
    "    project_id = data['installed']['project_id']\n",
    "\n",
    "# 獲取訪問令牌\n",
    "access_token = !gcloud auth application-default print-access-token\n",
    "access_token = '\\n'.join(access_token)\n",
    "\n",
    "# 設置環境變數\n",
    "os.environ['access_token'] = access_token\n",
    "os.environ['project_id'] = project_id\n",
    "os.environ['base_url'] = \"https://generativelanguage.googleapis.com\"\n",
    "\n",
    "# 驗證設置是否成功\n",
    "print(\"Access Token:\", os.environ['access_token'])\n",
    "print(\"Project ID:\", os.environ['project_id'])\n",
    "print(\"Base URL:\", os.environ['base_url'])"
   ]
  },
  {
   "cell_type": "markdown",
   "metadata": {},
   "source": [
    "#### 僅查詢環境變數"
   ]
  },
  {
   "cell_type": "code",
   "execution_count": 5,
   "metadata": {},
   "outputs": [
    {
     "name": "stdout",
     "output_type": "stream",
     "text": [
      "Access Token: ya29.a0AXooCgtg5b8ji5gm5Xm9el5gRpTCHthMP34ARze9-_2X-XNjvWdl2gq4QkBX5FJRdDjxbGs3kmsHiXdXaNcIwZJxB3sUmE8VBJ2mmqcBas_9C5aYVBdtTglfuMwujLwkRxZN9mHVOqFfToFDebB16IE8RLkwYGa3Rfe9aCgYKAQkSARASFQHGX2MiczW33061ZIF86F-IrDUZaQ0171\n",
      "Project ID: myproject-20240622\n",
      "Base URL: https://generativelanguage.googleapis.com\n"
     ]
    }
   ],
   "source": [
    "# 驗證設置是否成功\n",
    "print(\"Access Token:\", os.environ['access_token'])\n",
    "print(\"Project ID:\", os.environ['project_id'])\n",
    "print(\"Base URL:\", os.environ['base_url'])"
   ]
  },
  {
   "cell_type": "code",
   "execution_count": 12,
   "metadata": {},
   "outputs": [
    {
     "name": "stdout",
     "output_type": "stream",
     "text": [
      "tunedModels/number-generator-model-rmr2mn49025s\n"
     ]
    }
   ],
   "source": [
    "import json\n",
    "\n",
    "# 解析 JSON 文件\n",
    "first_page = json.load(open('tunemodel.json'))\n",
    "os.environ['modelname'] = first_page['metadata']['tunedModel']\n",
    "\n",
    "print(os.environ['modelname'])"
   ]
  },
  {
   "cell_type": "markdown",
   "metadata": {},
   "source": [
    "## 發送 REST API 請求"
   ]
  },
  {
   "cell_type": "code",
   "execution_count": 22,
   "metadata": {},
   "outputs": [],
   "source": [
    "import requests\n",
    "import json\n",
    "\n",
    "access_token = !gcloud auth application-default print-access-token\n",
    "access_token = '\\n'.join(access_token)\n",
    "# 替換自己的專案 ID\n",
    "project = 'myproject-20240622'\n",
    "base_url = \"https://generativelanguage.googleapis.com\""
   ]
  },
  {
   "cell_type": "markdown",
   "metadata": {},
   "source": [
    "#### 驗證認證設置"
   ]
  },
  {
   "cell_type": "code",
   "execution_count": 23,
   "metadata": {},
   "outputs": [
    {
     "name": "stdout",
     "output_type": "stream",
     "text": [
      "{'tunedModels': [{'name': 'tunedModels/number-generator-model-qw2t2pyfzld1', 'baseModel': 'models/gemini-1.0-pro-001', 'displayName': 'number generator model', 'state': 'ACTIVE', 'createTime': '2024-06-22T18:06:02.455154Z', 'updateTime': '2024-06-22T18:06:25.523912Z', 'tuningTask': {'startTime': '2024-06-22T18:06:02.997496412Z', 'completeTime': '2024-06-22T18:06:25.523912Z', 'snapshots': [{'step': 1, 'meanLoss': 11.499258, 'computeTime': '2024-06-22T18:06:04.430337734Z'}, {'step': 2, 'meanLoss': 13.731144, 'computeTime': '2024-06-22T18:06:04.890239450Z'}, {'step': 3, 'meanLoss': 8.956655, 'computeTime': '2024-06-22T18:06:05.448587324Z'}, {'step': 4, 'meanLoss': 12.012, 'computeTime': '2024-06-22T18:06:05.998061047Z'}, {'step': 5, 'meanLoss': 8.378381, 'computeTime': '2024-06-22T18:06:06.537827331Z'}, {'step': 6, 'meanLoss': 13.393811, 'computeTime': '2024-06-22T18:06:07.161799598Z'}, {'step': 7, 'meanLoss': 11.559576, 'computeTime': '2024-06-22T18:06:07.713890812Z'}, {'step': 8, 'epoch': 1, 'meanLoss': 6.6775928, 'computeTime': '2024-06-22T18:06:08.268846316Z'}, {'step': 9, 'epoch': 1, 'meanLoss': 11.631735, 'computeTime': '2024-06-22T18:06:08.808467602Z'}, {'step': 10, 'epoch': 1, 'meanLoss': 4.924516, 'computeTime': '2024-06-22T18:06:09.355814882Z'}, {'step': 11, 'epoch': 1, 'meanLoss': 3.2926044, 'computeTime': '2024-06-22T18:06:09.975885615Z'}, {'step': 12, 'epoch': 1, 'meanLoss': 5.888028, 'computeTime': '2024-06-22T18:06:10.506670264Z'}, {'step': 13, 'epoch': 1, 'meanLoss': 2.6790118, 'computeTime': '2024-06-22T18:06:11.088753042Z'}, {'step': 14, 'epoch': 1, 'meanLoss': 2.1716046, 'computeTime': '2024-06-22T18:06:11.550429485Z'}, {'step': 15, 'epoch': 2, 'meanLoss': 4.9091215, 'computeTime': '2024-06-22T18:06:12.085208689Z'}, {'step': 16, 'epoch': 2, 'meanLoss': 0.8558017, 'computeTime': '2024-06-22T18:06:12.641537623Z'}, {'step': 17, 'epoch': 2, 'meanLoss': 1.0231782, 'computeTime': '2024-06-22T18:06:13.125166741Z'}, {'step': 18, 'epoch': 2, 'meanLoss': 0.6426007, 'computeTime': '2024-06-22T18:06:13.671765981Z'}, {'step': 19, 'epoch': 2, 'meanLoss': 1.322475, 'computeTime': '2024-06-22T18:06:14.263026922Z'}, {'step': 20, 'epoch': 2, 'meanLoss': 5.9860806, 'computeTime': '2024-06-22T18:06:14.808887963Z'}, {'step': 21, 'epoch': 2, 'meanLoss': 0.052894443, 'computeTime': '2024-06-22T18:06:15.443873627Z'}, {'step': 22, 'epoch': 2, 'meanLoss': 0.3953453, 'computeTime': '2024-06-22T18:06:15.915884959Z'}, {'step': 23, 'epoch': 3, 'meanLoss': 1.0100297, 'computeTime': '2024-06-22T18:06:16.460970710Z'}, {'step': 24, 'epoch': 3, 'meanLoss': 0.69635075, 'computeTime': '2024-06-22T18:06:17.068253457Z'}, {'step': 25, 'epoch': 3, 'meanLoss': 0.6246982, 'computeTime': '2024-06-22T18:06:17.533198510Z'}, {'step': 26, 'epoch': 3, 'meanLoss': 0.1599576, 'computeTime': '2024-06-22T18:06:18.071298733Z'}, {'step': 27, 'epoch': 3, 'meanLoss': 0.03644194, 'computeTime': '2024-06-22T18:06:18.654554825Z'}, {'step': 28, 'epoch': 3, 'meanLoss': 0.013699653, 'computeTime': '2024-06-22T18:06:19.143943158Z'}, {'step': 29, 'epoch': 3, 'meanLoss': 0.061082356, 'computeTime': '2024-06-22T18:06:19.700939063Z'}, {'step': 30, 'epoch': 4, 'meanLoss': 0.046626385, 'computeTime': '2024-06-22T18:06:20.242859319Z'}, {'step': 31, 'epoch': 4, 'meanLoss': 0.0033685323, 'computeTime': '2024-06-22T18:06:20.783747995Z'}, {'step': 32, 'epoch': 4, 'meanLoss': 0.0031611295, 'computeTime': '2024-06-22T18:06:21.292620162Z'}, {'step': 33, 'epoch': 4, 'meanLoss': 0.0121482015, 'computeTime': '2024-06-22T18:06:21.817733610Z'}, {'step': 34, 'epoch': 4, 'meanLoss': 0.009616518, 'computeTime': '2024-06-22T18:06:22.365554109Z'}, {'step': 35, 'epoch': 4, 'meanLoss': 0.15677617, 'computeTime': '2024-06-22T18:06:22.931183950Z'}, {'step': 36, 'epoch': 4, 'meanLoss': 0.003791866, 'computeTime': '2024-06-22T18:06:23.477073360Z'}, {'step': 37, 'epoch': 4, 'meanLoss': 0.009825625, 'computeTime': '2024-06-22T18:06:23.995212205Z'}, {'step': 38, 'epoch': 5, 'meanLoss': 0.001807902, 'computeTime': '2024-06-22T18:06:24.530450710Z'}], 'hyperparameters': {'epochCount': 5, 'batchSize': 2, 'learningRate': 0.001}}, 'temperature': 0.9, 'topP': 1, 'topK': 0}, {'name': 'tunedModels/number-generator-model-rmr2mn49025s', 'baseModel': 'models/gemini-1.0-pro-001', 'displayName': 'number generator model', 'state': 'ACTIVE', 'createTime': '2024-06-22T18:25:24.556320Z', 'updateTime': '2024-06-22T18:25:47.636327Z', 'tuningTask': {'startTime': '2024-06-22T18:25:24.975964517Z', 'completeTime': '2024-06-22T18:25:47.636327Z', 'snapshots': [{'step': 1, 'meanLoss': 11.499258, 'computeTime': '2024-06-22T18:25:26.417925312Z'}, {'step': 2, 'meanLoss': 13.762047, 'computeTime': '2024-06-22T18:25:26.992403596Z'}, {'step': 3, 'meanLoss': 8.939798, 'computeTime': '2024-06-22T18:25:27.550400558Z'}, {'step': 4, 'meanLoss': 12.071539, 'computeTime': '2024-06-22T18:25:28.100105166Z'}, {'step': 5, 'meanLoss': 8.564005, 'computeTime': '2024-06-22T18:25:28.642298281Z'}, {'step': 6, 'meanLoss': 13.757505, 'computeTime': '2024-06-22T18:25:29.190922507Z'}, {'step': 7, 'meanLoss': 12.113377, 'computeTime': '2024-06-22T18:25:29.737878877Z'}, {'step': 8, 'epoch': 1, 'meanLoss': 6.7312956, 'computeTime': '2024-06-22T18:25:30.291202313Z'}, {'step': 9, 'epoch': 1, 'meanLoss': 12.319381, 'computeTime': '2024-06-22T18:25:30.862144789Z'}, {'step': 10, 'epoch': 1, 'meanLoss': 5.160826, 'computeTime': '2024-06-22T18:25:31.419025546Z'}, {'step': 11, 'epoch': 1, 'meanLoss': 3.6426792, 'computeTime': '2024-06-22T18:25:31.883778187Z'}, {'step': 12, 'epoch': 1, 'meanLoss': 6.317959, 'computeTime': '2024-06-22T18:25:32.437127582Z'}, {'step': 13, 'epoch': 1, 'meanLoss': 2.9884107, 'computeTime': '2024-06-22T18:25:33.038857333Z'}, {'step': 14, 'epoch': 1, 'meanLoss': 2.4079049, 'computeTime': '2024-06-22T18:25:33.514068780Z'}, {'step': 15, 'epoch': 2, 'meanLoss': 4.5161715, 'computeTime': '2024-06-22T18:25:34.077202122Z'}, {'step': 16, 'epoch': 2, 'meanLoss': 0.91466564, 'computeTime': '2024-06-22T18:25:34.623511678Z'}, {'step': 17, 'epoch': 2, 'meanLoss': 1.5559251, 'computeTime': '2024-06-22T18:25:35.078443675Z'}, {'step': 18, 'epoch': 2, 'meanLoss': 0.8004872, 'computeTime': '2024-06-22T18:25:35.581192585Z'}, {'step': 19, 'epoch': 2, 'meanLoss': 1.3485067, 'computeTime': '2024-06-22T18:25:36.117102167Z'}, {'step': 20, 'epoch': 2, 'meanLoss': 6.4615464, 'computeTime': '2024-06-22T18:25:36.597079468Z'}, {'step': 21, 'epoch': 2, 'meanLoss': 0.16537297, 'computeTime': '2024-06-22T18:25:37.080630385Z'}, {'step': 22, 'epoch': 2, 'meanLoss': 1.6219847, 'computeTime': '2024-06-22T18:25:37.620601786Z'}, {'step': 23, 'epoch': 3, 'meanLoss': 0.6635428, 'computeTime': '2024-06-22T18:25:38.440659143Z'}, {'step': 24, 'epoch': 3, 'meanLoss': 0.6205085, 'computeTime': '2024-06-22T18:25:38.912372141Z'}, {'step': 25, 'epoch': 3, 'meanLoss': 0.5520823, 'computeTime': '2024-06-22T18:25:39.645236079Z'}, {'step': 26, 'epoch': 3, 'meanLoss': 0.09588811, 'computeTime': '2024-06-22T18:25:40.148229840Z'}, {'step': 27, 'epoch': 3, 'meanLoss': 1.809599, 'computeTime': '2024-06-22T18:25:40.695443445Z'}, {'step': 28, 'epoch': 3, 'meanLoss': 0.17634675, 'computeTime': '2024-06-22T18:25:41.265359326Z'}, {'step': 29, 'epoch': 3, 'meanLoss': 0.032447606, 'computeTime': '2024-06-22T18:25:41.812435609Z'}, {'step': 30, 'epoch': 4, 'meanLoss': 0.16233316, 'computeTime': '2024-06-22T18:25:42.358663477Z'}, {'step': 31, 'epoch': 4, 'meanLoss': 0.20215185, 'computeTime': '2024-06-22T18:25:42.901673411Z'}, {'step': 32, 'epoch': 4, 'meanLoss': 0.025351616, 'computeTime': '2024-06-22T18:25:43.461353427Z'}, {'step': 33, 'epoch': 4, 'meanLoss': 0.13423572, 'computeTime': '2024-06-22T18:25:44.015005045Z'}, {'step': 34, 'epoch': 4, 'meanLoss': 0.049216785, 'computeTime': '2024-06-22T18:25:44.566414960Z'}, {'step': 35, 'epoch': 4, 'meanLoss': 0.33304515, 'computeTime': '2024-06-22T18:25:45.108703929Z'}, {'step': 36, 'epoch': 4, 'meanLoss': 0.11558798, 'computeTime': '2024-06-22T18:25:45.609748039Z'}, {'step': 37, 'epoch': 4, 'meanLoss': 0.17460826, 'computeTime': '2024-06-22T18:25:46.157919909Z'}, {'step': 38, 'epoch': 5, 'meanLoss': 0.001868438, 'computeTime': '2024-06-22T18:25:46.628221975Z'}], 'hyperparameters': {'epochCount': 5, 'batchSize': 2, 'learningRate': 0.001}}, 'temperature': 0.9, 'topP': 1, 'topK': 0}]}\n"
     ]
    }
   ],
   "source": [
    "headers = {\n",
    "    'Authorization': 'Bearer ' + access_token,\n",
    "    'Content-Type': 'application/json',\n",
    "    'x-goog-user-project': project\n",
    "}\n",
    "\n",
    "result = requests.get(\n",
    "    url=f'{base_url}/v1beta/tunedModels',\n",
    "    headers=headers,\n",
    ")\n",
    "\n",
    "print(result.json())"
   ]
  },
  {
   "cell_type": "markdown",
   "metadata": {},
   "source": [
    "#### 使用 `requests.post` 來傳入數據集"
   ]
  },
  {
   "cell_type": "code",
   "execution_count": 25,
   "metadata": {},
   "outputs": [
    {
     "data": {
      "text/plain": [
       "<Response [200]>"
      ]
     },
     "execution_count": 25,
     "metadata": {},
     "output_type": "execute_result"
    }
   ],
   "source": [
    "operation = requests.post(\n",
    "    url=f\"{base_url}/v1beta/tunedModels\",\n",
    "    headers=headers,\n",
    "    json={\n",
    "        \"display_name\": \"number generator\",\n",
    "        \"base_model\": \"models/gemini-1.0-pro-001\",\n",
    "        \"tuning_task\": {\n",
    "            \"hyperparameters\": {\n",
    "                \"batch_size\": 4,\n",
    "                \"learning_rate\": 0.001,\n",
    "                \"epoch_count\": 5,\n",
    "            },\n",
    "            \"training_data\": {\n",
    "                \"examples\": {\n",
    "                    \"examples\": [\n",
    "                        {\n",
    "                            \"text_input\": \"1\",\n",
    "                            \"output\": \"2\",\n",
    "                        },\n",
    "                        {\n",
    "                            \"text_input\": \"3\",\n",
    "                            \"output\": \"4\",\n",
    "                        },\n",
    "                        {\n",
    "                            \"text_input\": \"-3\",\n",
    "                            \"output\": \"-2\",\n",
    "                        },\n",
    "                        {\n",
    "                            \"text_input\": \"twenty two\",\n",
    "                            \"output\": \"twenty three\",\n",
    "                        },\n",
    "                        {\n",
    "                            \"text_input\": \"two hundred\",\n",
    "                            \"output\": \"two hundred one\",\n",
    "                        },\n",
    "                        {\n",
    "                            \"text_input\": \"ninety nine\",\n",
    "                            \"output\": \"one hundred\",\n",
    "                        },\n",
    "                        {\n",
    "                            \"text_input\": \"8\",\n",
    "                            \"output\": \"9\",\n",
    "                        },\n",
    "                        {\n",
    "                            \"text_input\": \"-98\",\n",
    "                            \"output\": \"-97\",\n",
    "                        },\n",
    "                        {\n",
    "                            \"text_input\": \"1,000\",\n",
    "                            \"output\": \"1,001\",\n",
    "                        },\n",
    "                        {\n",
    "                            \"text_input\": \"10,100,000\",\n",
    "                            \"output\": \"10,100,001\",\n",
    "                        },\n",
    "                        {\n",
    "                            \"text_input\": \"thirteen\",\n",
    "                            \"output\": \"fourteen\",\n",
    "                        },\n",
    "                        {\n",
    "                            \"text_input\": \"eighty\",\n",
    "                            \"output\": \"eighty one\",\n",
    "                        },\n",
    "                        {\n",
    "                            \"text_input\": \"one\",\n",
    "                            \"output\": \"two\",\n",
    "                        },\n",
    "                        {\n",
    "                            \"text_input\": \"three\",\n",
    "                            \"output\": \"four\",\n",
    "                        },\n",
    "                        {\n",
    "                            \"text_input\": \"seven\",\n",
    "                            \"output\": \"eight\",\n",
    "                        },\n",
    "                    ]\n",
    "                }\n",
    "            },\n",
    "        },\n",
    "    },\n",
    ")\n",
    "\n",
    "if operation.status_code == 200:\n",
    "    print('Success')"
   ]
  },
  {
   "cell_type": "code",
   "execution_count": 26,
   "metadata": {},
   "outputs": [
    {
     "data": {
      "text/plain": [
       "{'name': 'tunedModels/number-generator-g2dqvilkbvyl/operations/axpu7r5zmpo1',\n",
       " 'metadata': {'@type': 'type.googleapis.com/google.ai.generativelanguage.v1beta.CreateTunedModelMetadata',\n",
       "  'totalSteps': 19,\n",
       "  'tunedModel': 'tunedModels/number-generator-g2dqvilkbvyl'}}"
      ]
     },
     "execution_count": 26,
     "metadata": {},
     "output_type": "execute_result"
    }
   ],
   "source": [
    "operation.json()"
   ]
  },
  {
   "cell_type": "markdown",
   "metadata": {},
   "source": [
    "#### 使用調整後模型的名稱設定變數，以便用於其他呼叫"
   ]
  },
  {
   "cell_type": "code",
   "execution_count": 34,
   "metadata": {},
   "outputs": [
    {
     "data": {
      "text/plain": [
       "'tunedModels/number-generator-g2dqvilkbvyl'"
      ]
     },
     "execution_count": 34,
     "metadata": {},
     "output_type": "execute_result"
    }
   ],
   "source": [
    "model_name=operation.json()[\"metadata\"][\"tunedModel\"]\n",
    "model_name"
   ]
  },
  {
   "cell_type": "markdown",
   "metadata": {},
   "source": [
    "#### 取得調整後模型狀態"
   ]
  },
  {
   "cell_type": "code",
   "execution_count": 35,
   "metadata": {},
   "outputs": [
    {
     "data": {
      "text/plain": [
       "{'name': 'tunedModels/number-generator-g2dqvilkbvyl',\n",
       " 'baseModel': 'models/gemini-1.0-pro-001',\n",
       " 'displayName': 'number generator',\n",
       " 'state': 'ACTIVE',\n",
       " 'createTime': '2024-06-22T19:16:26.308796Z',\n",
       " 'updateTime': '2024-06-22T19:17:17.806207Z',\n",
       " 'tuningTask': {'startTime': '2024-06-22T19:16:26.737766278Z',\n",
       "  'completeTime': '2024-06-22T19:17:17.806207Z',\n",
       "  'snapshots': [{'step': 1,\n",
       "    'meanLoss': 12.668232,\n",
       "    'computeTime': '2024-06-22T19:16:28.697343631Z'},\n",
       "   {'step': 2,\n",
       "    'meanLoss': 10.72086,\n",
       "    'computeTime': '2024-06-22T19:16:30.202175170Z'},\n",
       "   {'step': 3,\n",
       "    'meanLoss': 11.8869,\n",
       "    'computeTime': '2024-06-22T19:16:32.484395627Z'},\n",
       "   {'step': 4,\n",
       "    'epoch': 1,\n",
       "    'meanLoss': 10.7399435,\n",
       "    'computeTime': '2024-06-22T19:16:34.105591398Z'},\n",
       "   {'step': 5,\n",
       "    'epoch': 1,\n",
       "    'meanLoss': 11.980744,\n",
       "    'computeTime': '2024-06-22T19:16:36.835052700Z'},\n",
       "   {'step': 6,\n",
       "    'epoch': 1,\n",
       "    'meanLoss': 8.332833,\n",
       "    'computeTime': '2024-06-22T19:16:38.570319007Z'},\n",
       "   {'step': 7,\n",
       "    'epoch': 1,\n",
       "    'meanLoss': 5.6675544,\n",
       "    'computeTime': '2024-06-22T19:16:39.755178689Z'},\n",
       "   {'step': 8,\n",
       "    'epoch': 2,\n",
       "    'meanLoss': 8.674498,\n",
       "    'computeTime': '2024-06-22T19:16:41.851935081Z'},\n",
       "   {'step': 9,\n",
       "    'epoch': 2,\n",
       "    'meanLoss': 4.7497816,\n",
       "    'computeTime': '2024-06-22T19:16:43.183368860Z'},\n",
       "   {'step': 10,\n",
       "    'epoch': 2,\n",
       "    'meanLoss': 7.808313,\n",
       "    'computeTime': '2024-06-22T19:16:45.312629647Z'},\n",
       "   {'step': 11,\n",
       "    'epoch': 2,\n",
       "    'meanLoss': 3.8642533,\n",
       "    'computeTime': '2024-06-22T19:16:48.237772569Z'},\n",
       "   {'step': 12,\n",
       "    'epoch': 3,\n",
       "    'meanLoss': 2.8704336,\n",
       "    'computeTime': '2024-06-22T19:16:52.830065066Z'},\n",
       "   {'step': 13,\n",
       "    'epoch': 3,\n",
       "    'meanLoss': 2.4138968,\n",
       "    'computeTime': '2024-06-22T19:16:58.025270937Z'},\n",
       "   {'step': 14,\n",
       "    'epoch': 3,\n",
       "    'meanLoss': 1.5244315,\n",
       "    'computeTime': '2024-06-22T19:17:03.409097514Z'},\n",
       "   {'step': 15,\n",
       "    'epoch': 4,\n",
       "    'meanLoss': 0.59456265,\n",
       "    'computeTime': '2024-06-22T19:17:05.720279862Z'},\n",
       "   {'step': 16,\n",
       "    'epoch': 4,\n",
       "    'meanLoss': 0.44790626,\n",
       "    'computeTime': '2024-06-22T19:17:10.480457062Z'},\n",
       "   {'step': 17,\n",
       "    'epoch': 4,\n",
       "    'meanLoss': 0.47816643,\n",
       "    'computeTime': '2024-06-22T19:17:13.212611261Z'},\n",
       "   {'step': 18,\n",
       "    'epoch': 4,\n",
       "    'meanLoss': 1.2740719,\n",
       "    'computeTime': '2024-06-22T19:17:15.741834581Z'},\n",
       "   {'step': 19,\n",
       "    'epoch': 5,\n",
       "    'meanLoss': 0.9600375,\n",
       "    'computeTime': '2024-06-22T19:17:17.506261066Z'}],\n",
       "  'hyperparameters': {'epochCount': 5, 'batchSize': 4, 'learningRate': 0.001}},\n",
       " 'temperature': 0.9,\n",
       " 'topP': 1,\n",
       " 'topK': 0}"
      ]
     },
     "execution_count": 35,
     "metadata": {},
     "output_type": "execute_result"
    }
   ],
   "source": [
    "tuned_model = requests.get(\n",
    "    url = f'{base_url}/v1beta/{model_name}',\n",
    "    headers=headers,\n",
    ")\n",
    "tuned_model.json()"
   ]
  },
  {
   "cell_type": "markdown",
   "metadata": {},
   "source": [
    "#### 每 5 秒檢查一次狀態欄位，直到狀態不再處於 CREATING 狀態為止"
   ]
  },
  {
   "cell_type": "code",
   "execution_count": 30,
   "metadata": {},
   "outputs": [
    {
     "name": "stdout",
     "output_type": "stream",
     "text": [
      "100.00% - {'step': 19, 'epoch': 5, 'meanLoss': 0.9600375, 'computeTime': '2024-06-22T19:17:17.506261066Z'}\n",
      "\n"
     ]
    }
   ],
   "source": [
    "import time\n",
    "import pprint\n",
    "\n",
    "op_json = operation.json()\n",
    "response = op_json.get(\"response\")\n",
    "error = op_json.get(\"error\")\n",
    "\n",
    "while response is None and error is None:\n",
    "    time.sleep(5)\n",
    "\n",
    "    operation = requests.get(\n",
    "        url=f'{base_url}/v1/{op_json[\"name\"]}',\n",
    "        headers=headers,\n",
    "    )\n",
    "\n",
    "    op_json = operation.json()\n",
    "    response = op_json.get(\"response\")\n",
    "    error = op_json.get(\"error\")\n",
    "\n",
    "    percent = op_json[\"metadata\"].get(\"completedPercent\")\n",
    "    if percent is not None:\n",
    "        print(f\"{percent:.2f}% - {op_json['metadata']['snapshots'][-1]}\")\n",
    "        print()\n",
    "\n",
    "if error is not None:\n",
    "    raise Exception(error)"
   ]
  },
  {
   "cell_type": "markdown",
   "metadata": {},
   "source": [
    "## 執行推論"
   ]
  },
  {
   "cell_type": "code",
   "execution_count": 32,
   "metadata": {},
   "outputs": [
    {
     "name": "stdout",
     "output_type": "stream",
     "text": [
      "{'candidates': [{'content': {'parts': [{'text': '七'}], 'role': 'model'},\n",
      "                 'finishReason': 'STOP',\n",
      "                 'index': 0,\n",
      "                 'safetyRatings': [{'category': 'HARM_CATEGORY_SEXUALLY_EXPLICIT',\n",
      "                                    'probability': 'NEGLIGIBLE'},\n",
      "                                   {'category': 'HARM_CATEGORY_HATE_SPEECH',\n",
      "                                    'probability': 'NEGLIGIBLE'},\n",
      "                                   {'category': 'HARM_CATEGORY_HARASSMENT',\n",
      "                                    'probability': 'NEGLIGIBLE'},\n",
      "                                   {'category': 'HARM_CATEGORY_DANGEROUS_CONTENT',\n",
      "                                    'probability': 'NEGLIGIBLE'}]}],\n",
      " 'usageMetadata': {'candidatesTokenCount': 1,\n",
      "                   'promptTokenCount': 1,\n",
      "                   'totalTokenCount': 2}}\n"
     ]
    }
   ],
   "source": [
    "import time\n",
    "\n",
    "m = requests.post(\n",
    "    url=f\"{base_url}/v1beta/{name}:generateContent\",\n",
    "    headers=headers,\n",
    "    json={\"contents\": [{\"parts\": [{\"text\": \"六\"}]}]},\n",
    ")\n",
    "import pprint\n",
    "\n",
    "pprint.pprint(m.json())"
   ]
  }
 ],
 "metadata": {
  "kernelspec": {
   "display_name": "envLCG",
   "language": "python",
   "name": "python3"
  },
  "language_info": {
   "codemirror_mode": {
    "name": "ipython",
    "version": 3
   },
   "file_extension": ".py",
   "mimetype": "text/x-python",
   "name": "python",
   "nbconvert_exporter": "python",
   "pygments_lexer": "ipython3",
   "version": "3.10.11"
  }
 },
 "nbformat": 4,
 "nbformat_minor": 2
}
