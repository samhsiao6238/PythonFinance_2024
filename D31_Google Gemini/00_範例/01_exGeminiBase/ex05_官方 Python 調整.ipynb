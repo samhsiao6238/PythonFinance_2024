{
 "cells": [
  {
   "cell_type": "markdown",
   "metadata": {},
   "source": [
    "列出可用的模型\n"
   ]
  },
  {
   "cell_type": "code",
   "execution_count": null,
   "metadata": {},
   "outputs": [],
   "source": [
    "import google.generativeai as genai\n",
    "\n",
    "# 列出所有可用的模型\n",
    "available_models = genai.list_models()\n",
    "\n",
    "# 輸出支持調整的模型\n",
    "for model in available_models:\n",
    "    if \"createTunedModel\" in model.supported_generation_methods:\n",
    "        print(f\"Model ID: {model.name}, Name: {model.display_name}\")"
   ]
  },
  {
   "cell_type": "markdown",
   "metadata": {},
   "source": [
    "準備訓練數據\n"
   ]
  },
  {
   "cell_type": "code",
   "execution_count": null,
   "metadata": {},
   "outputs": [],
   "source": [
    "training_data = (\n",
    "    [\n",
    "        # 簡單的數字增量\n",
    "        {\"text_input\": \"1\", \"output\": \"2\"},\n",
    "        {\"text_input\": \"3\", \"output\": \"4\"},\n",
    "        # 負數的增量\n",
    "        {\"text_input\": \"-3\", \"output\": \"-2\"},\n",
    "        # 數字文字形式的增量\n",
    "        {\"text_input\": \"twenty two\", \"output\": \"twenty three\"},\n",
    "        # 高數字文字形式的增量\n",
    "        {\"text_input\": \"two hundred\", \"output\": \"two hundred one\"},\n",
    "        # 跨越進位的增量\n",
    "        {\"text_input\": \"ninety nine\", \"output\": \"one hundred\"},\n",
    "        {\"text_input\": \"8\", \"output\": \"9\"},\n",
    "        {\"text_input\": \"-98\", \"output\": \"-97\"},\n",
    "        # 含千位分隔符的增量\n",
    "        {\"text_input\": \"1,000\", \"output\": \"1,001\"},\n",
    "        {\"text_input\": \"10,100,000\", \"output\": \"10,100,001\"},\n",
    "        {\"text_input\": \"thirteen\", \"output\": \"fourteen\"},\n",
    "        {\"text_input\": \"eighty\", \"output\": \"eighty one\"},\n",
    "        {\"text_input\": \"one\", \"output\": \"two\"},\n",
    "        {\"text_input\": \"three\", \"output\": \"four\"},\n",
    "        {\"text_input\": \"seven\", \"output\": \"eight\"}\n",
    "    ]\n",
    ")"
   ]
  },
  {
   "cell_type": "markdown",
   "metadata": {},
   "source": [
    "創建調整模型"
   ]
  },
  {
   "cell_type": "code",
   "execution_count": null,
   "metadata": {},
   "outputs": [],
   "source": [
    "import google.generativeai as genai\n",
    "import random\n",
    "\n",
    "# 設置調整模型的名稱\n",
    "model_id = \"models/gemini-1.0-pro-001\"\n",
    "name = f\"generate-num-{random.randint(0, 10000)}\"\n",
    "# 創建調整模型\n",
    "operation = genai.create_tuned_model(\n",
    "    # 使用支持調整的模型 ID\n",
    "    source_model=model_id,\n",
    "    # 提供訓練數據\n",
    "    training_data=training_data,\n",
    "    # 調整模型的唯一標識\n",
    "    id=name,\n",
    "    # 訓練週期數\n",
    "    epoch_count=10,\n",
    "    # 每批訓練數據的大小\n",
    "    batch_size=2,\n",
    "    # 學習速率\n",
    "    learning_rate=0.001,\n",
    "    # 設置模型的顯示名稱\n",
    "    display_name=\"我的調整模型\"\n",
    ")\n",
    "# 等待操作完成\n",
    "operation.result()\n",
    "print(f\"調整模型創建完成，模型 ID: {name}\")"
   ]
  },
  {
   "cell_type": "markdown",
   "metadata": {},
   "source": [
    "檢查調整模型的狀態\n"
   ]
  },
  {
   "cell_type": "code",
   "execution_count": null,
   "metadata": {},
   "outputs": [],
   "source": [
    "# 獲取調整模型的詳細信息\n",
    "operation = genai.get_tuned_model(f\"tunedModels/{name}\")\n",
    "print(f\"模型狀態: {operation.state}\")\n",
    "\n",
    "# 列出已調整的模型\n",
    "for i, m in zip(range(5), genai.list_tuned_models()):\n",
    "    print(f\"Model ID: {m.name}, Name: {m.display_name}\")"
   ]
  },
  {
   "cell_type": "markdown",
   "metadata": {},
   "source": [
    "檢查其輸出是否符合預期\n"
   ]
  },
  {
   "cell_type": "code",
   "execution_count": null,
   "metadata": {},
   "outputs": [],
   "source": [
    "# 創建生成內容的模型對象\n",
    "model = genai.GenerativeModel(model_name=f\"tunedModels/{name}\")\n",
    "\n",
    "# 測試模型輸出\n",
    "test_cases = {\n",
    "    \"55\": \"56\",\n",
    "    \"123455\": \"123456\",\n",
    "    \"four\": \"five\",\n",
    "    # 法語的 4 和 5\n",
    "    \"quatre\": \"cinq\",\n",
    "    # 羅馬數字\n",
    "    \"III\": \"IV\",\n",
    "    # 日語的 7 和 8\n",
    "    \"七\": \"八\",\n",
    "}\n",
    "\n",
    "for input_text, expected_output in test_cases.items():\n",
    "    result = model.generate_content(input_text)\n",
    "    print(f\"Input: {input_text}, Output: {result.text}, Expected: {expected_output}\")"
   ]
  },
  {
   "cell_type": "markdown",
   "metadata": {},
   "source": [
    "查看損失曲線\n"
   ]
  },
  {
   "cell_type": "code",
   "execution_count": null,
   "metadata": {},
   "outputs": [],
   "source": [
    "import google.generativeai as genai\n",
    "import pandas as pd\n",
    "import seaborn as sns\n",
    "import matplotlib.pyplot as plt\n",
    "\n",
    "# 假設前面已經創建並獲取了調整模型\n",
    "# 初始化並等待操作完成\n",
    "# 獲取模型詳細信息\n",
    "model_info = genai.get_tuned_model(f\"tunedModels/{name}\")\n",
    "\n",
    "# 檢查模型是否有快照信息\n",
    "if hasattr(model_info.tuning_task, \"snapshots\"):\n",
    "    # 獲取調整模型的快照信息，構建 DataFrame\n",
    "    snapshots = pd.DataFrame(model_info.tuning_task.snapshots)\n",
    "\n",
    "    # 檢查 DataFrame 是否有數據\n",
    "    if not snapshots.empty:\n",
    "        # 繪製損失曲線\n",
    "        plt.figure(figsize=(10, 6))\n",
    "        sns.lineplot(data=snapshots, x=\"epoch\", y=\"mean_loss\")\n",
    "        plt.xlabel(\"Epoch\")\n",
    "        plt.ylabel(\"Mean Loss\")\n",
    "        plt.title(\"Training Loss Curve\")\n",
    "        plt.show()\n",
    "    else:\n",
    "        print(\"沒有可用的 snapshots。\")\n",
    "else:\n",
    "    print(\"該模型沒有 snapshots。\")"
   ]
  },
  {
   "cell_type": "markdown",
   "metadata": {},
   "source": [
    "更新調整模型的描述"
   ]
  },
  {
   "cell_type": "code",
   "execution_count": null,
   "metadata": {},
   "outputs": [],
   "source": [
    "# 更新調整模型的描述\n",
    "genai.update_tuned_model(\n",
    "    f\"tunedModels/{name}\",\n",
    "    {\"description\": \"This is my model.\"}\n",
    ")\n",
    "\n",
    "# 驗證更新\n",
    "model_info = genai.get_tuned_model(f\"tunedModels/{name}\")\n",
    "# 預期輸出：'This is my model.'\n",
    "print(f\"模型描述: {model_info.description}\")"
   ]
  },
  {
   "cell_type": "markdown",
   "metadata": {},
   "source": [
    "刪除調整模型"
   ]
  },
  {
   "cell_type": "code",
   "execution_count": null,
   "metadata": {},
   "outputs": [],
   "source": [
    "# 刪除調整模型\n",
    "genai.delete_tuned_model(f'tunedModels/{name}')\n",
    "try:\n",
    "    model_info = genai.get_tuned_model(f'tunedModels/{name}')\n",
    "    print(model_info)\n",
    "except Exception as e:\n",
    "    # 預期輸出：404 Not Found\n",
    "    print(f\"{type(e)}: {e}\")"
   ]
  },
  {
   "cell_type": "markdown",
   "metadata": {},
   "source": [
    "列出和批次刪除已調整模型"
   ]
  },
  {
   "cell_type": "code",
   "execution_count": null,
   "metadata": {},
   "outputs": [],
   "source": [
    "import google.generativeai as genai\n",
    "\n",
    "# 列出所有已調整的模型，將生成器轉換為列表\n",
    "tuned_models = list(genai.list_tuned_models())\n",
    "\n",
    "# 打印出所有模型的ID和名稱\n",
    "print(\"已調整的模型列表:\")\n",
    "for model in tuned_models:\n",
    "    print(f\"Model ID: {model.name}, Name: {model.display_name}\")\n",
    "\n",
    "# 批次刪除模型\n",
    "for model in tuned_models:\n",
    "    try:\n",
    "        # 刪除模型\n",
    "        genai.delete_tuned_model(model.name)\n",
    "        print(f\"已刪除模型: Model ID: {model.name}, Name: {model.display_name}\")\n",
    "    except Exception as e:\n",
    "        print(f\"刪除模型失敗: Model ID: {model.name}, Name: {model.display_name}, Error: {e}\")\n",
    "\n",
    "# 列出刪除後的模型列表，並轉換為列表\n",
    "remaining_models = list(genai.list_tuned_models())\n",
    "\n",
    "print(\"刪除後的模型列表:\")\n",
    "for model in remaining_models:\n",
    "    print(f\"Model ID: {model.name}, Name: {model.display_name}\")\n",
    "\n",
    "# 確認所有模型是否已刪除\n",
    "if not remaining_models:\n",
    "    print(\"所有模型已刪除\")\n",
    "else:\n",
    "    print(f\"仍有 {len(remaining_models)} 個模型未刪除\")\n"
   ]
  }
 ],
 "metadata": {
  "kernelspec": {
   "display_name": "envLCG",
   "language": "python",
   "name": "python3"
  },
  "language_info": {
   "codemirror_mode": {
    "name": "ipython",
    "version": 3
   },
   "file_extension": ".py",
   "mimetype": "text/x-python",
   "name": "python",
   "nbconvert_exporter": "python",
   "pygments_lexer": "ipython3",
   "version": "3.10.11"
  }
 },
 "nbformat": 4,
 "nbformat_minor": 2
}
