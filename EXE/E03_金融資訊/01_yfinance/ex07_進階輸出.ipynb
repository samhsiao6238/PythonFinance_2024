{
 "cells": [
  {
   "cell_type": "markdown",
   "metadata": {},
   "source": [
    "輸出為 Excel"
   ]
  },
  {
   "cell_type": "code",
   "execution_count": null,
   "metadata": {},
   "outputs": [],
   "source": [
    "pip install openpyxl"
   ]
  },
  {
   "cell_type": "code",
   "execution_count": 1,
   "metadata": {},
   "outputs": [
    {
     "name": "stdout",
     "output_type": "stream",
     "text": [
      "[*********************100%%**********************]  1 of 1 completed\n"
     ]
    },
    {
     "data": {
      "text/plain": [
       "'stock_data.xlsx'"
      ]
     },
     "execution_count": 1,
     "metadata": {},
     "output_type": "execute_result"
    }
   ],
   "source": [
    "import pandas as pd\n",
    "import yfinance as yf\n",
    "from ta.trend import MACD\n",
    "from ta.momentum import StochasticOscillator\n",
    "\n",
    "# 股票代碼\n",
    "stock = \"2331.TW\"\n",
    "\n",
    "# 下載資料\n",
    "df = yf.download(tickers=stock, period=\"1d\", interval=\"1m\")\n",
    "\n",
    "# 移動平均\n",
    "df[\"MA5\"] = df[\"Close\"].rolling(window=5).mean()\n",
    "df[\"MA20\"] = df[\"Close\"].rolling(window=20).mean()\n",
    "macd = MACD(close=df[\"Close\"], window_slow=26, window_fast=12, window_sign=9)\n",
    "stoch = StochasticOscillator(high=df[\"High\"], close=df[\"Close\"], low=df[\"Low\"], window=14, smooth_window=3)\n",
    "\n",
    "# Add MACD and Stochastic Oscillator to the dataframe\n",
    "df[\"MACD\"] = macd.macd()\n",
    "df[\"MACD_Signal\"] = macd.macd_signal()\n",
    "df[\"MACD_Diff\"] = macd.macd_diff()\n",
    "df[\"Stoch\"] = stoch.stoch()\n",
    "df[\"Stoch_Signal\"] = stoch.stoch_signal()\n",
    "# Remove timezone information from the datetime objects in the DataFrame\n",
    "df.index = df.index.tz_localize(None)\n",
    "# Save to an Excel file\n",
    "excel_path = 'stock_data.xlsx'\n",
    "df.to_excel(excel_path)\n",
    "\n",
    "excel_path"
   ]
  }
 ],
 "metadata": {
  "kernelspec": {
   "display_name": "envDash",
   "language": "python",
   "name": "python3"
  },
  "language_info": {
   "codemirror_mode": {
    "name": "ipython",
    "version": 3
   },
   "file_extension": ".py",
   "mimetype": "text/x-python",
   "name": "python",
   "nbconvert_exporter": "python",
   "pygments_lexer": "ipython3",
   "version": "3.10.11"
  }
 },
 "nbformat": 4,
 "nbformat_minor": 2
}
