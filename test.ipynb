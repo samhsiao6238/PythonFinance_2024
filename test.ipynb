{
 "cells": [
  {
   "cell_type": "code",
   "execution_count": 1,
   "metadata": {},
   "outputs": [
    {
     "ename": "ModuleNotFoundError",
     "evalue": "No module named 'codecarbon'",
     "output_type": "error",
     "traceback": [
      "\u001b[0;31m---------------------------------------------------------------------------\u001b[0m",
      "\u001b[0;31mModuleNotFoundError\u001b[0m                       Traceback (most recent call last)",
      "\u001b[1;32m/Volumes/SSD_01/00_Python課程專用/PythonAI_Web_20231118/test.ipynb 儲存格 1\u001b[0m line \u001b[0;36m1\n\u001b[0;32m----> <a href='vscode-notebook-cell:/Volumes/SSD_01/00_Python%E8%AA%B2%E7%A8%8B%E5%B0%88%E7%94%A8/PythonAI_Web_20231118/test.ipynb#W0sZmlsZQ%3D%3D?line=0'>1</a>\u001b[0m \u001b[39mfrom\u001b[39;00m \u001b[39mcodecarbon\u001b[39;00m \u001b[39mimport\u001b[39;00m EmissionsTracker\n\u001b[1;32m      <a href='vscode-notebook-cell:/Volumes/SSD_01/00_Python%E8%AA%B2%E7%A8%8B%E5%B0%88%E7%94%A8/PythonAI_Web_20231118/test.ipynb#W0sZmlsZQ%3D%3D?line=2'>3</a>\u001b[0m tracker \u001b[39m=\u001b[39m EmissionsTracker()\n\u001b[1;32m      <a href='vscode-notebook-cell:/Volumes/SSD_01/00_Python%E8%AA%B2%E7%A8%8B%E5%B0%88%E7%94%A8/PythonAI_Web_20231118/test.ipynb#W0sZmlsZQ%3D%3D?line=3'>4</a>\u001b[0m tracker\u001b[39m.\u001b[39mstart()\n",
      "\u001b[0;31mModuleNotFoundError\u001b[0m: No module named 'codecarbon'"
     ]
    }
   ],
   "source": [
    "from codecarbon import EmissionsTracker\n",
    "\n",
    "tracker = EmissionsTracker()\n",
    "tracker.start()\n",
    "\n",
    "# 這是你想要測量的代碼\n",
    "total = sum(range(1, 10000000))\n",
    "\n",
    "tracker.stop()\n",
    "print(\"總和:\", total)\n"
   ]
  }
 ],
 "metadata": {
  "kernelspec": {
   "display_name": "envDash",
   "language": "python",
   "name": "python3"
  },
  "language_info": {
   "codemirror_mode": {
    "name": "ipython",
    "version": 3
   },
   "file_extension": ".py",
   "mimetype": "text/x-python",
   "name": "python",
   "nbconvert_exporter": "python",
   "pygments_lexer": "ipython3",
   "version": "3.9.6"
  }
 },
 "nbformat": 4,
 "nbformat_minor": 2
}
