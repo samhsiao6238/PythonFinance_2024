{
 "cells": [
  {
   "cell_type": "markdown",
   "metadata": {},
   "source": [
    "嘗試取得歷史資料來繪圖"
   ]
  },
  {
   "cell_type": "code",
   "execution_count": 2,
   "metadata": {},
   "outputs": [
    {
     "name": "stdout",
     "output_type": "stream",
     "text": [
      "數據已儲存到 bond_data.xlsx\n"
     ]
    }
   ],
   "source": [
    "import requests\n",
    "import pandas as pd\n",
    "from datetime import datetime\n",
    "\n",
    "# URL 從哪裡取得資料\n",
    "url = \"https://markets.businessinsider.com/Ajax/Chart_GetChartData?instrumentType=Bond&tkData=1,46441575,1330,333&from=19700201&to=20231216\"\n",
    "url = \"https://markets.businessinsider.com/Ajax/Chart_GetChartData?instrumentType=Bond&tkData=1,46441575,1330,333&from=19700201&to=20231216\"\n",
    "\n",
    "# 發送請求取得資料\n",
    "response = requests.get(url)\n",
    "\n",
    "# 檢查響應狀態碼，確保請求成功\n",
    "if response.status_code == 200:\n",
    "    # 解析 JSON 數據\n",
    "    data = response.json()\n",
    "    \n",
    "    # 轉換為 DataFrame\n",
    "    df = pd.DataFrame(data)\n",
    "    \n",
    "    # 將日期從字串轉換為 datetime 對象\n",
    "    df['Date'] = pd.to_datetime(df['Date'])\n",
    "    \n",
    "    # 儲存為 Excel 文件\n",
    "    excel_file = 'bond_data.xlsx'\n",
    "    df.to_excel(excel_file, index=False)\n",
    "    \n",
    "    print(f\"數據已儲存到 {excel_file}\")\n",
    "else:\n",
    "    print(\"Failed to retrieve data:\", response.status_code)\n"
   ]
  }
 ],
 "metadata": {
  "kernelspec": {
   "display_name": "envDash",
   "language": "python",
   "name": "python3"
  },
  "language_info": {
   "codemirror_mode": {
    "name": "ipython",
    "version": 3
   },
   "file_extension": ".py",
   "mimetype": "text/x-python",
   "name": "python",
   "nbconvert_exporter": "python",
   "pygments_lexer": "ipython3",
   "version": "3.10.11"
  }
 },
 "nbformat": 4,
 "nbformat_minor": 2
}
