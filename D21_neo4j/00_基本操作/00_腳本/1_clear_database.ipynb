{
 "cells": [
  {
   "cell_type": "code",
   "execution_count": 1,
   "metadata": {},
   "outputs": [
    {
     "ename": "ConfigurationError",
     "evalue": "URI scheme b'' is not supported. Supported URI schemes are ['bolt', 'bolt+ssc', 'bolt+s', 'neo4j', 'neo4j+ssc', 'neo4j+s']. Examples: bolt://host[:port] or neo4j://host[:port][?routing_context]",
     "output_type": "error",
     "traceback": [
      "\u001b[0;31m---------------------------------------------------------------------------\u001b[0m",
      "\u001b[0;31mConfigurationError\u001b[0m                        Traceback (most recent call last)",
      "Cell \u001b[0;32mIn[1], line 11\u001b[0m\n\u001b[1;32m      8\u001b[0m USER \u001b[38;5;241m=\u001b[39m os\u001b[38;5;241m.\u001b[39mgetenv(\u001b[38;5;124m\"\u001b[39m\u001b[38;5;124mNEO4J_USER\u001b[39m\u001b[38;5;124m\"\u001b[39m)\n\u001b[1;32m      9\u001b[0m PASSWORD \u001b[38;5;241m=\u001b[39m os\u001b[38;5;241m.\u001b[39mgetenv(\u001b[38;5;124m\"\u001b[39m\u001b[38;5;124mNEO4J_PASSWORD\u001b[39m\u001b[38;5;124m\"\u001b[39m)\n\u001b[0;32m---> 11\u001b[0m driver \u001b[38;5;241m=\u001b[39m \u001b[43mGraphDatabase\u001b[49m\u001b[38;5;241;43m.\u001b[39;49m\u001b[43mdriver\u001b[49m\u001b[43m(\u001b[49m\u001b[43mURI\u001b[49m\u001b[43m,\u001b[49m\u001b[43m \u001b[49m\u001b[43mauth\u001b[49m\u001b[38;5;241;43m=\u001b[39;49m\u001b[43m(\u001b[49m\u001b[43mUSER\u001b[49m\u001b[43m,\u001b[49m\u001b[43m \u001b[49m\u001b[43mPASSWORD\u001b[49m\u001b[43m)\u001b[49m\u001b[43m)\u001b[49m\n\u001b[1;32m     13\u001b[0m \u001b[38;5;28;01mdef\u001b[39;00m \u001b[38;5;21mclear_data\u001b[39m():\n\u001b[1;32m     14\u001b[0m \u001b[38;5;250m    \u001b[39m\u001b[38;5;124;03m\"\"\"刪除數據庫中所有節點與關係\"\"\"\u001b[39;00m\n",
      "File \u001b[0;32m~/Documents/PythonVenv/envNeo4j/lib/python3.10/site-packages/neo4j/_sync/driver.py:197\u001b[0m, in \u001b[0;36mGraphDatabase.driver\u001b[0;34m(cls, uri, auth, **config)\u001b[0m\n\u001b[1;32m    178\u001b[0m \u001b[38;5;129m@classmethod\u001b[39m\n\u001b[1;32m    179\u001b[0m \u001b[38;5;28;01mdef\u001b[39;00m \u001b[38;5;21mdriver\u001b[39m(\n\u001b[1;32m    180\u001b[0m     \u001b[38;5;28mcls\u001b[39m,\n\u001b[0;32m   (...)\u001b[0m\n\u001b[1;32m    184\u001b[0m     \u001b[38;5;241m*\u001b[39m\u001b[38;5;241m*\u001b[39mconfig\n\u001b[1;32m    185\u001b[0m ) \u001b[38;5;241m-\u001b[39m\u001b[38;5;241m>\u001b[39m Driver:\n\u001b[1;32m    186\u001b[0m \u001b[38;5;250m    \u001b[39m\u001b[38;5;124;03m\"\"\"Create a driver.\u001b[39;00m\n\u001b[1;32m    187\u001b[0m \n\u001b[1;32m    188\u001b[0m \u001b[38;5;124;03m    :param uri: the connection URI for the driver,\u001b[39;00m\n\u001b[0;32m   (...)\u001b[0m\n\u001b[1;32m    194\u001b[0m \u001b[38;5;124;03m        key-word arguments.\u001b[39;00m\n\u001b[1;32m    195\u001b[0m \u001b[38;5;124;03m    \"\"\"\u001b[39;00m\n\u001b[0;32m--> 197\u001b[0m     driver_type, security_type, parsed \u001b[38;5;241m=\u001b[39m \u001b[43mparse_neo4j_uri\u001b[49m\u001b[43m(\u001b[49m\u001b[43muri\u001b[49m\u001b[43m)\u001b[49m\n\u001b[1;32m    199\u001b[0m     \u001b[38;5;28;01mif\u001b[39;00m \u001b[38;5;129;01mnot\u001b[39;00m \u001b[38;5;28misinstance\u001b[39m(auth, AuthManager):\n\u001b[1;32m    200\u001b[0m         auth \u001b[38;5;241m=\u001b[39m AuthManagers\u001b[38;5;241m.\u001b[39mstatic(auth)\n",
      "File \u001b[0;32m~/Documents/PythonVenv/envNeo4j/lib/python3.10/site-packages/neo4j/api.py:509\u001b[0m, in \u001b[0;36mparse_neo4j_uri\u001b[0;34m(uri)\u001b[0m\n\u001b[1;32m    507\u001b[0m     security_type \u001b[38;5;241m=\u001b[39m SECURITY_TYPE_SECURE\n\u001b[1;32m    508\u001b[0m \u001b[38;5;28;01melse\u001b[39;00m:\n\u001b[0;32m--> 509\u001b[0m     \u001b[38;5;28;01mraise\u001b[39;00m ConfigurationError(\u001b[38;5;124m\"\u001b[39m\u001b[38;5;124mURI scheme \u001b[39m\u001b[38;5;132;01m{!r}\u001b[39;00m\u001b[38;5;124m is not supported. Supported URI schemes are \u001b[39m\u001b[38;5;132;01m{}\u001b[39;00m\u001b[38;5;124m. Examples: bolt://host[:port] or neo4j://host[:port][?routing_context]\u001b[39m\u001b[38;5;124m\"\u001b[39m\u001b[38;5;241m.\u001b[39mformat(\n\u001b[1;32m    510\u001b[0m         parsed\u001b[38;5;241m.\u001b[39mscheme,\n\u001b[1;32m    511\u001b[0m         [\n\u001b[1;32m    512\u001b[0m             URI_SCHEME_BOLT,\n\u001b[1;32m    513\u001b[0m             URI_SCHEME_BOLT_SELF_SIGNED_CERTIFICATE,\n\u001b[1;32m    514\u001b[0m             URI_SCHEME_BOLT_SECURE,\n\u001b[1;32m    515\u001b[0m             URI_SCHEME_NEO4J,\n\u001b[1;32m    516\u001b[0m             URI_SCHEME_NEO4J_SELF_SIGNED_CERTIFICATE,\n\u001b[1;32m    517\u001b[0m             URI_SCHEME_NEO4J_SECURE\n\u001b[1;32m    518\u001b[0m         ]\n\u001b[1;32m    519\u001b[0m     ))\n\u001b[1;32m    521\u001b[0m \u001b[38;5;28;01mreturn\u001b[39;00m driver_type, security_type, parsed\n",
      "\u001b[0;31mConfigurationError\u001b[0m: URI scheme b'' is not supported. Supported URI schemes are ['bolt', 'bolt+ssc', 'bolt+s', 'neo4j', 'neo4j+ssc', 'neo4j+s']. Examples: bolt://host[:port] or neo4j://host[:port][?routing_context]"
     ]
    }
   ],
   "source": [
    "# 清空資料庫\n",
    "from neo4j import GraphDatabase\n",
    "import os\n",
    "from dotenv import load_dotenv\n",
    "\n",
    "# 取得環境變數\n",
    "URI = os.getenv(\"NEO4J_URI\")\n",
    "USER = os.getenv(\"NEO4J_USER\")\n",
    "PASSWORD = os.getenv(\"NEO4J_PASSWORD\")\n",
    "\n",
    "driver = GraphDatabase.driver(URI, auth=(USER, PASSWORD))\n",
    "\n",
    "def clear_data():\n",
    "    \"\"\"刪除數據庫中所有節點與關係\"\"\"\n",
    "    cypher_query = '''\n",
    "    MATCH (n)\n",
    "    DETACH DELETE n\n",
    "    '''\n",
    "    with driver.session() as session:\n",
    "        session.run(cypher_query)\n",
    "        print(\"All data has been cleared from the database.\")\n",
    "\n",
    "if __name__ == \"__main__\":\n",
    "    clear_data()\n",
    "    driver.close()"
   ]
  }
 ],
 "metadata": {
  "kernelspec": {
   "display_name": "envST",
   "language": "python",
   "name": "python3"
  },
  "language_info": {
   "codemirror_mode": {
    "name": "ipython",
    "version": 3
   },
   "file_extension": ".py",
   "mimetype": "text/x-python",
   "name": "python",
   "nbconvert_exporter": "python",
   "pygments_lexer": "ipython3",
   "version": "3.10.11"
  }
 },
 "nbformat": 4,
 "nbformat_minor": 2
}
