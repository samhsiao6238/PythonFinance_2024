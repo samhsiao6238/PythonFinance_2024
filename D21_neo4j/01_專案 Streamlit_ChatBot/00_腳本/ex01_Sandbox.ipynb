{
 "cells": [
  {
   "cell_type": "markdown",
   "metadata": {},
   "source": [
    "示範沙箱 Sandbox 操作"
   ]
  },
  {
   "cell_type": "code",
   "execution_count": 23,
   "metadata": {},
   "outputs": [
    {
     "name": "stderr",
     "output_type": "stream",
     "text": [
      "/var/folders/vm/_zft15050r7cfh47y6v5z4k40000gn/T/ipykernel_45894/1882248057.py:16: DeprecationWarning: read_transaction has been renamed to execute_read\n",
      "  results = session.read_transaction(\n"
     ]
    },
    {
     "name": "stdout",
     "output_type": "stream",
     "text": [
      "Mr. Holland's Opus\n",
      "Apollo 13\n",
      "Dead Man Walking\n",
      "Seven (a.k.a. Se7en)\n",
      "Heat\n",
      "Get Shorty\n",
      "Fugitive, The\n",
      "Dave\n",
      "Addams Family Values\n",
      "True Lies\n",
      "Speed\n",
      "Lion King, The\n",
      "Four Weddings and a Funeral\n",
      "Forrest Gump\n",
      "Star Trek: Generations\n",
      "Shawshank Redemption, The\n",
      "Stargate\n",
      "Pulp Fiction\n",
      "Outbreak\n",
      "Miracle on 34th Street\n"
     ]
    }
   ],
   "source": [
    "# 導入庫\n",
    "from neo4j import GraphDatabase, basic_auth\n",
    "# 建立驅動器：URL、帳號、密碼\n",
    "driver = GraphDatabase.driver(\n",
    "    \"neo4j://3.89.23.242:7687\",\n",
    "    auth=basic_auth(\"neo4j\", \"stencil-interface-buckets\")\n",
    ")\n",
    "# 定義 Cypher 查詢\n",
    "cypher_query = \"\"\"\n",
    "MATCH (m:Movie {title:$movie})<-[:RATED]-(u:User)-[:RATED]->(rec:Movie)\n",
    "RETURN distinct rec.title AS recommendation LIMIT 20\n",
    "\"\"\"\n",
    "# 上下文管理\n",
    "with driver.session(database=\"neo4j\") as session:\n",
    "    # \n",
    "    results = session.read_transaction(\n",
    "        # 匿名函數接收 read_transaction 所傳遞的 session 對象\n",
    "        # 並透過 tx 調用 run() 來執行 Cypher 語法\n",
    "        lambda tx: tx.run(cypher_query, movie=\"Crimson Tide\").data()\n",
    "    )\n",
    "    for record in results:\n",
    "        print(record[\"recommendation\"])\n",
    "\n",
    "driver.close()"
   ]
  }
 ],
 "metadata": {
  "kernelspec": {
   "display_name": "neo4j0514",
   "language": "python",
   "name": "python3"
  },
  "language_info": {
   "codemirror_mode": {
    "name": "ipython",
    "version": 3
   },
   "file_extension": ".py",
   "mimetype": "text/x-python",
   "name": "python",
   "nbconvert_exporter": "python",
   "pygments_lexer": "ipython3",
   "version": "3.10.11"
  }
 },
 "nbformat": 4,
 "nbformat_minor": 2
}
