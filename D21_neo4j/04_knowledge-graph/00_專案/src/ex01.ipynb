{
 "cells": [
  {
   "cell_type": "markdown",
   "metadata": {},
   "source": [
    "新增一筆資料"
   ]
  },
  {
   "cell_type": "code",
   "execution_count": 4,
   "metadata": {},
   "outputs": [
    {
     "name": "stdout",
     "output_type": "stream",
     "text": [
      "Created: Alice3\n"
     ]
    },
    {
     "name": "stderr",
     "output_type": "stream",
     "text": [
      "/var/folders/vm/_zft15050r7cfh47y6v5z4k40000gn/T/ipykernel_499/284930031.py:20: DeprecationWarning: write_transaction has been renamed to execute_write\n",
      "  person = session.write_transaction(add_person, \"Alice3\")\n"
     ]
    }
   ],
   "source": [
    "# 添加一筆資料\n",
    "from neo4j import GraphDatabase\n",
    "\n",
    "uri = \"bolt://localhost:7687\"  # Neo4j Bolt URL\n",
    "username = \"neo4j\"\n",
    "password = \"sam112233\"\n",
    "\n",
    "# 連接到數據庫\n",
    "driver = GraphDatabase.driver(uri, auth=(username, password))\n",
    "\n",
    "def add_person(tx, name):\n",
    "    query = (\n",
    "        \"CREATE (p:Person {name: $name}) \"\n",
    "        \"RETURN p\"\n",
    "    )\n",
    "    return tx.run(query, name=name).single()[0]\n",
    "\n",
    "# 新增節點\n",
    "with driver.session() as session:\n",
    "    person = session.write_transaction(add_person, \"Alice3\")\n",
    "    print(f\"Created: {person['name']}\")\n",
    "\n",
    "# 關閉數據庫連接\n",
    "driver.close()\n"
   ]
  },
  {
   "cell_type": "markdown",
   "metadata": {},
   "source": [
    "`查詢資料`"
   ]
  },
  {
   "cell_type": "code",
   "execution_count": 5,
   "metadata": {},
   "outputs": [
    {
     "name": "stdout",
     "output_type": "stream",
     "text": [
      "Found: Alice2\n"
     ]
    },
    {
     "name": "stderr",
     "output_type": "stream",
     "text": [
      "/var/folders/vm/_zft15050r7cfh47y6v5z4k40000gn/T/ipykernel_499/1429163631.py:12: DeprecationWarning: read_transaction has been renamed to execute_read\n",
      "  person_name = session.read_transaction(find_person, \"Alice2\")\n"
     ]
    }
   ],
   "source": [
    "# 查詢資料\n",
    "def find_person(tx, name):\n",
    "    query = (\n",
    "        \"MATCH (p:Person {name: $name}) \"\n",
    "        \"RETURN p.name AS name\"\n",
    "    )\n",
    "    result = tx.run(query, name=name).single()\n",
    "    return result[\"name\"] if result else \"No such person found\"\n",
    "\n",
    "# 查詢節點\n",
    "with driver.session() as session:\n",
    "    person_name = session.read_transaction(find_person, \"Alice2\")\n",
    "    print(f\"Found: {person_name}\")\n"
   ]
  },
  {
   "cell_type": "markdown",
   "metadata": {},
   "source": [
    "建立多筆具有關係的資料"
   ]
  },
  {
   "cell_type": "code",
   "execution_count": 6,
   "metadata": {},
   "outputs": [
    {
     "name": "stderr",
     "output_type": "stream",
     "text": [
      "/var/folders/vm/_zft15050r7cfh47y6v5z4k40000gn/T/ipykernel_499/1679174612.py:35: DeprecationWarning: write_transaction has been renamed to execute_write\n",
      "  people = session.write_transaction(add_people_and_relationships)\n",
      "Failed to write data to connection IPv4Address(('localhost', 7687)) (ResolvedIPv6Address(('::1', 7687, 0, 0)))\n"
     ]
    },
    {
     "name": "stdout",
     "output_type": "stream",
     "text": [
      "Created the following nodes:\n",
      "Created: Alice\n",
      "Created: Bob\n",
      "Created: Carol\n",
      "Created: Dave\n",
      "Created: Eve\n"
     ]
    }
   ],
   "source": [
    "from neo4j import GraphDatabase\n",
    "\n",
    "uri = \"bolt://localhost:7687\"  # Neo4j Bolt URL\n",
    "username = \"neo4j\"\n",
    "password = \"sam112233\"\n",
    "\n",
    "# 連接到資料庫\n",
    "driver = GraphDatabase.driver(uri, auth=(username, password))\n",
    "\n",
    "\n",
    "def add_people_and_relationships(tx):\n",
    "    # 建立多個人物節點和它們之間的關係\n",
    "    query = \"\"\"\n",
    "        CREATE (a:Person {name: 'Alice'})\n",
    "        CREATE (b:Person {name: 'Bob'})\n",
    "        CREATE (c:Person {name: 'Carol'})\n",
    "        CREATE (d:Person {name: 'Dave'})\n",
    "        CREATE (e:Person {name: 'Eve'})\n",
    "        \n",
    "        CREATE (a)-[:FRIENDS_WITH]->(b)\n",
    "        CREATE (a)-[:COLLEAGUES_WITH]->(c)\n",
    "        CREATE (b)-[:FRIENDS_WITH]->(d)\n",
    "        CREATE (c)-[:COLLEAGUES_WITH]->(d)\n",
    "        CREATE (d)-[:FRIENDS_WITH]->(e)\n",
    "        CREATE (e)-[:COLLEAGUES_WITH]->(a)\n",
    "        \n",
    "        RETURN a, b, c, d, e\n",
    "    \"\"\"\n",
    "    results = tx.run(query)\n",
    "    return results.single()  # Return the created nodes\n",
    "\n",
    "\n",
    "# 運行事務並列印結果\n",
    "with driver.session() as session:\n",
    "    people = session.write_transaction(add_people_and_relationships)\n",
    "    print(\"Created the following nodes:\")\n",
    "    for person in people:\n",
    "        print(f\"Created: {person['name']}\")\n",
    "\n",
    "# 關閉資料庫連接\n",
    "driver.close()"
   ]
  },
  {
   "cell_type": "markdown",
   "metadata": {},
   "source": [
    "透過添加關係和節點束性來建立多個人物節點間的多種關係"
   ]
  },
  {
   "cell_type": "code",
   "execution_count": 7,
   "metadata": {},
   "outputs": [
    {
     "name": "stdout",
     "output_type": "stream",
     "text": [
      "Created the following nodes and relationships:\n",
      "Created: Alice with attributes {'occupation': 'Engineer', 'name': 'Alice', 'age': 30}\n",
      "Created: Bob with attributes {'occupation': 'Designer', 'name': 'Bob', 'age': 25}\n",
      "Created: Carol with attributes {'occupation': 'Manager', 'name': 'Carol', 'age': 33}\n",
      "Created: Dave with attributes {'occupation': 'Developer', 'name': 'Dave', 'age': 45}\n",
      "Created: Eve with attributes {'occupation': 'Analyst', 'name': 'Eve', 'age': 29}\n"
     ]
    },
    {
     "name": "stderr",
     "output_type": "stream",
     "text": [
      "/var/folders/vm/_zft15050r7cfh47y6v5z4k40000gn/T/ipykernel_499/1328549409.py:36: DeprecationWarning: write_transaction has been renamed to execute_write\n",
      "  entities = session.write_transaction(add_people_and_complex_relationships)\n"
     ]
    }
   ],
   "source": [
    "from neo4j import GraphDatabase\n",
    "\n",
    "uri = \"bolt://localhost:7687\"\n",
    "username = \"neo4j\"\n",
    "password = \"sam112233\"\n",
    "\n",
    "# 連接到資料庫\n",
    "driver = GraphDatabase.driver(uri, auth=(username, password))\n",
    "\n",
    "def add_people_and_complex_relationships(tx):\n",
    "    # 透過添加關係和節點束性來建立多個人物節點間的多種關係\n",
    "    query = \"\"\"\n",
    "    CREATE (a:Person {name: 'Alice', age: 30, occupation: 'Engineer'})\n",
    "    CREATE (b:Person {name: 'Bob', age: 25, occupation: 'Designer'})\n",
    "    CREATE (c:Person {name: 'Carol', age: 33, occupation: 'Manager'})\n",
    "    CREATE (d:Person {name: 'Dave', age: 45, occupation: 'Developer'})\n",
    "    CREATE (e:Person {name: 'Eve', age: 29, occupation: 'Analyst'})\n",
    "    \n",
    "    CREATE (a)-[:FRIENDS_WITH {since: 2020}]->(b)\n",
    "    CREATE (a)-[:COLLEAGUES_WITH {since: 2018}]->(c)\n",
    "    CREATE (b)-[:FRIENDS_WITH {since: 2021}]->(d)\n",
    "    CREATE (c)-[:COLLEAGUES_WITH {since: 2019}]->(d)\n",
    "    CREATE (d)-[:FRIENDS_WITH {since: 2019}]->(e)\n",
    "    CREATE (e)-[:COLLEAGUES_WITH {since: 2021}]->(a)\n",
    "    CREATE (a)-[:MENTOR_OF {since: 2022}]->(e)\n",
    "    CREATE (b)-[:WORKS_WITH {on: 'Project X'}]->(c)\n",
    "    CREATE (d)-[:LIVES_NEAR {distance: '5km'}]->(b)\n",
    "    \n",
    "    RETURN a, b, c, d, e\n",
    "    \"\"\"\n",
    "    results = tx.run(query)\n",
    "    # 傳回創建的節點和關係\n",
    "    return results.single()\n",
    "\n",
    "# 運行並輸出結果\n",
    "with driver.session() as session:\n",
    "    entities = session.write_transaction(add_people_and_complex_relationships)\n",
    "    print(\"Created the following nodes and relationships:\")\n",
    "    for entity in entities:\n",
    "        print(f\"Created: {entity['name']} with attributes {dict(entity)}\")\n",
    "\n",
    "# 關閉資料庫連接\n",
    "driver.close()\n"
   ]
  }
 ],
 "metadata": {
  "kernelspec": {
   "display_name": "venv",
   "language": "python",
   "name": "python3"
  },
  "language_info": {
   "codemirror_mode": {
    "name": "ipython",
    "version": 3
   },
   "file_extension": ".py",
   "mimetype": "text/x-python",
   "name": "python",
   "nbconvert_exporter": "python",
   "pygments_lexer": "ipython3",
   "version": "3.10.11"
  }
 },
 "nbformat": 4,
 "nbformat_minor": 2
}
