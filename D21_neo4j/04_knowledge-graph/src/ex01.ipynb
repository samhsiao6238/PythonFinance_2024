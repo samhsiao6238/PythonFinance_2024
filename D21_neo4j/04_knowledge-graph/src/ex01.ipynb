{
 "cells": [
  {
   "cell_type": "code",
   "execution_count": 1,
   "metadata": {},
   "outputs": [
    {
     "name": "stdout",
     "output_type": "stream",
     "text": [
      "Created: Alice\n"
     ]
    },
    {
     "name": "stderr",
     "output_type": "stream",
     "text": [
      "/var/folders/vm/_zft15050r7cfh47y6v5z4k40000gn/T/ipykernel_63585/12386846.py:19: DeprecationWarning: write_transaction has been renamed to execute_write\n",
      "  person = session.write_transaction(add_person, \"Alice\")\n"
     ]
    }
   ],
   "source": [
    "from neo4j import GraphDatabase\n",
    "\n",
    "uri = \"bolt://localhost:7687\"  # Neo4j Bolt URL\n",
    "username = \"neo4j\"\n",
    "password = \"sam112233\"\n",
    "\n",
    "# 連接到數據庫\n",
    "driver = GraphDatabase.driver(uri, auth=(username, password))\n",
    "\n",
    "def add_person(tx, name):\n",
    "    query = (\n",
    "        \"CREATE (p:Person {name: $name}) \"\n",
    "        \"RETURN p\"\n",
    "    )\n",
    "    return tx.run(query, name=name).single()[0]\n",
    "\n",
    "# 新增節點\n",
    "with driver.session() as session:\n",
    "    person = session.write_transaction(add_person, \"Alice\")\n",
    "    print(f\"Created: {person['name']}\")\n",
    "\n",
    "# 關閉數據庫連接\n",
    "driver.close()\n"
   ]
  },
  {
   "cell_type": "code",
   "execution_count": 2,
   "metadata": {},
   "outputs": [
    {
     "name": "stdout",
     "output_type": "stream",
     "text": [
      "Found: Alice\n"
     ]
    },
    {
     "name": "stderr",
     "output_type": "stream",
     "text": [
      "/var/folders/vm/_zft15050r7cfh47y6v5z4k40000gn/T/ipykernel_63585/1597406620.py:11: DeprecationWarning: read_transaction has been renamed to execute_read\n",
      "  person_name = session.read_transaction(find_person, \"Alice\")\n"
     ]
    }
   ],
   "source": [
    "def find_person(tx, name):\n",
    "    query = (\n",
    "        \"MATCH (p:Person {name: $name}) \"\n",
    "        \"RETURN p.name AS name\"\n",
    "    )\n",
    "    result = tx.run(query, name=name).single()\n",
    "    return result[\"name\"] if result else \"No such person found\"\n",
    "\n",
    "# 查詢節點\n",
    "with driver.session() as session:\n",
    "    person_name = session.read_transaction(find_person, \"Alice\")\n",
    "    print(f\"Found: {person_name}\")\n"
   ]
  }
 ],
 "metadata": {
  "kernelspec": {
   "display_name": "venv",
   "language": "python",
   "name": "python3"
  },
  "language_info": {
   "codemirror_mode": {
    "name": "ipython",
    "version": 3
   },
   "file_extension": ".py",
   "mimetype": "text/x-python",
   "name": "python",
   "nbconvert_exporter": "python",
   "pygments_lexer": "ipython3",
   "version": "3.10.11"
  }
 },
 "nbformat": 4,
 "nbformat_minor": 2
}
