{
 "cells": [
  {
   "cell_type": "markdown",
   "metadata": {},
   "source": [
    "轉換 URL 編碼為可讀字串"
   ]
  },
  {
   "cell_type": "code",
   "execution_count": 3,
   "metadata": {},
   "outputs": [
    {
     "name": "stdout",
     "output_type": "stream",
     "text": [
      "Encoded Path:  D25_neo4j/13_專案 Noe4jBot/02_其他功能範例/.streamlit/secrets.toml\n",
      "Decoded Path:  D25_neo4j/13_專案 Noe4jBot/02_其他功能範例/.streamlit/secrets.toml\n"
     ]
    }
   ],
   "source": [
    "import urllib.parse\n",
    "\n",
    "# 需要轉換的路徑，假設它是以八進制字符編碼的形式\n",
    "encoded_path = \"D25_neo4j/13_\\345\\260\\210\\346\\241\\210 Noe4jBot/02_\\345\\205\\266\\344\\273\\226\\345\\212\\237\\350\\203\\275\\347\\257\\204\\344\\276\\213/.streamlit/secrets.toml\"\n",
    "\n",
    "# 替換八進制字符為百分號編碼字符\n",
    "encoded_path = encoded_path.encode('latin1').decode('unicode_escape').encode('latin1').decode('utf-8')\n",
    "\n",
    "# 解碼 URL 編碼路徑\n",
    "decoded_path = urllib.parse.unquote(encoded_path)\n",
    "\n",
    "print(\"Encoded Path: \", encoded_path)\n",
    "print(\"Decoded Path: \", decoded_path)\n",
    "\n"
   ]
  }
 ],
 "metadata": {
  "kernelspec": {
   "display_name": "env0521",
   "language": "python",
   "name": "python3"
  },
  "language_info": {
   "codemirror_mode": {
    "name": "ipython",
    "version": 3
   },
   "file_extension": ".py",
   "mimetype": "text/x-python",
   "name": "python",
   "nbconvert_exporter": "python",
   "pygments_lexer": "ipython3",
   "version": "3.11.7"
  }
 },
 "nbformat": 4,
 "nbformat_minor": 2
}
