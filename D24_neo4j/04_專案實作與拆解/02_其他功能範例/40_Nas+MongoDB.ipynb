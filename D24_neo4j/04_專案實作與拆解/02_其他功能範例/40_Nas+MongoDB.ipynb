{
 "cells": [
  {
   "cell_type": "code",
   "execution_count": 12,
   "metadata": {},
   "outputs": [
    {
     "name": "stdout",
     "output_type": "stream",
     "text": [
      "MongoDB 連接失敗: SSL handshake failed: 192.168.1.240:27017: [SSL: UNEXPECTED_EOF_WHILE_READING] EOF occurred in violation of protocol (_ssl.c:1006) (configured timeouts: socketTimeoutMS: 20000.0ms, connectTimeoutMS: 20000.0ms), Timeout: 30s, Topology Description: <TopologyDescription id: 6655dbd8663fb779f58734fb, topology_type: Unknown, servers: [<ServerDescription ('192.168.1.240', 27017) server_type: Unknown, rtt: None, error=AutoReconnect('SSL handshake failed: 192.168.1.240:27017: [SSL: UNEXPECTED_EOF_WHILE_READING] EOF occurred in violation of protocol (_ssl.c:1006) (configured timeouts: socketTimeoutMS: 20000.0ms, connectTimeoutMS: 20000.0ms)')>]>\n"
     ]
    }
   ],
   "source": [
    "# 導入 MongoClient 類來進行 MongoDB 連接\n",
    "from pymongo import MongoClient\n",
    "import certifi\n",
    "\n",
    "# 設置 MongoDB 連接 URI，只包含 NAS 的 IP 地址及端口\n",
    "MONGODB_URI = \"mongodb://192.168.1.240:27017/\"\n",
    "\n",
    "# 使用 MongoClient 類進行連接\n",
    "client = MongoClient(\n",
    "    MONGODB_URI, tlsCAFile=certifi.where()\n",
    ")\n",
    "\n",
    "# 測試基本連接\n",
    "try:\n",
    "    # 使用 admin 資料庫的命令來測試連接\n",
    "    db = client.admin.command('ping')\n",
    "    print(\"MongoDB 連接成功:\", db)\n",
    "except Exception as e:\n",
    "    # 如果連接失敗，捕獲並打印異常信息\n",
    "    print(\"MongoDB 連接失敗:\", e)\n"
   ]
  }
 ],
 "metadata": {
  "kernelspec": {
   "display_name": "envllmChatBot",
   "language": "python",
   "name": "python3"
  },
  "language_info": {
   "codemirror_mode": {
    "name": "ipython",
    "version": 3
   },
   "file_extension": ".py",
   "mimetype": "text/x-python",
   "name": "python",
   "nbconvert_exporter": "python",
   "pygments_lexer": "ipython3",
   "version": "3.11.7"
  }
 },
 "nbformat": 4,
 "nbformat_minor": 2
}
