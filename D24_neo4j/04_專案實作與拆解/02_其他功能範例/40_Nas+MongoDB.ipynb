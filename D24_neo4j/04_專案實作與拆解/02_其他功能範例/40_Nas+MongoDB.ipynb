{
 "cells": [
  {
   "cell_type": "markdown",
   "metadata": {},
   "source": [
    "連線家中的 NAS，預設沒帳號密碼"
   ]
  },
  {
   "cell_type": "code",
   "execution_count": null,
   "metadata": {},
   "outputs": [],
   "source": [
    "# 導入 MongoClient 類來進行 MongoDB 連接\n",
    "from pymongo import MongoClient\n",
    "\n",
    "# 設置 MongoDB 連接 URI，只包含 NAS 的 IP 地址及端口\n",
    "MONGODB_URI = \"mongodb://192.168.1.240:27017/\"\n",
    "\n",
    "# 使用 MongoClient 類進行連接\n",
    "#\n",
    "client = MongoClient(MONGODB_URI)\n",
    "\n",
    "# 測試基本連接\n",
    "try:\n",
    "    # 使用 admin 資料庫的命令來測試連接\n",
    "    db = client.admin.command('ping')\n",
    "    print(\"MongoDB 連接成功:\", db)\n",
    "except Exception as e:\n",
    "    # 如果連接失敗，捕獲並輸出異常信息\n",
    "    print(\"MongoDB 連接失敗:\", e)\n"
   ]
  },
  {
   "cell_type": "markdown",
   "metadata": {},
   "source": [
    "測試寫入新聞"
   ]
  },
  {
   "cell_type": "code",
   "execution_count": null,
   "metadata": {},
   "outputs": [],
   "source": [
    "import requests\n",
    "from bs4 import BeautifulSoup\n",
    "\n",
    "\n",
    "def fetch_yahoo_news(query):\n",
    "    search_url = f\"https://tw.news.yahoo.com/search?p={query}\"\n",
    "    response = requests.get(search_url)\n",
    "    soup = BeautifulSoup(response.text, 'html.parser')\n",
    "    articles = []\n",
    "\n",
    "    # 搜尋新聞標題和鏈接\n",
    "    for item in soup.select('li[class*=\"StreamMegaItem\"]'):\n",
    "        title_element = item.select_one('h3[class*=\"Mb\"] a[class*=\"Fw\"]')\n",
    "        if title_element:\n",
    "            title = title_element.get_text()\n",
    "            link = title_element['href']\n",
    "            articles.append({'title': title, 'link': link})\n",
    "\n",
    "    return articles\n",
    "\n",
    "\n",
    "news_articles = fetch_yahoo_news(\"中華職棒中信兄弟\")\n",
    "for article in news_articles:\n",
    "    print(article['title'])"
   ]
  }
 ],
 "metadata": {
  "kernelspec": {
   "display_name": "envllmChatBot",
   "language": "python",
   "name": "python3"
  },
  "language_info": {
   "codemirror_mode": {
    "name": "ipython",
    "version": 3
   },
   "file_extension": ".py",
   "mimetype": "text/x-python",
   "name": "python",
   "nbconvert_exporter": "python",
   "pygments_lexer": "ipython3",
   "version": "3.11.7"
  }
 },
 "nbformat": 4,
 "nbformat_minor": 2
}
