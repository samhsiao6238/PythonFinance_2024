{
 "cells": [
  {
   "cell_type": "code",
   "execution_count": 4,
   "metadata": {},
   "outputs": [],
   "source": [
    "# 改用 toml\n",
    "import toml\n",
    "import os\n",
    "from openai import OpenAI\n",
    "from datasets import load_dataset\n",
    "import pandas as pd\n",
    "\n",
    "# 載入 secrets.toml 文件\n",
    "secrets = toml.load(\"secrets.toml\")\n",
    "\n",
    "# MongoDB URI\n",
    "ATLAS_CONNECTION_STRING = secrets[\"MONGODB_URL\"]\n",
    "# 設置環境變數\n",
    "os.environ[\"OPENAI_API_KEY\"] = secrets[\"OPENAI_API_KEY\"]\n",
    "# 初始化 OpenAI 物件\n",
    "openai_client = OpenAI()\n",
    "\n",
    "data = load_dataset(\n",
    "    \"explodinggradients/ragas-wikiqa\", split=\"train\"\n",
    ")\n",
    "df = pd.DataFrame(data)"
   ]
  }
 ],
 "metadata": {
  "kernelspec": {
   "display_name": "envllmChatBot",
   "language": "python",
   "name": "python3"
  },
  "language_info": {
   "codemirror_mode": {
    "name": "ipython",
    "version": 3
   },
   "file_extension": ".py",
   "mimetype": "text/x-python",
   "name": "python",
   "nbconvert_exporter": "python",
   "pygments_lexer": "ipython3",
   "version": "3.11.7"
  }
 },
 "nbformat": 4,
 "nbformat_minor": 2
}
