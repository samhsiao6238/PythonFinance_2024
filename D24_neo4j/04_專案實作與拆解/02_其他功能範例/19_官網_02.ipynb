{
 "cells": [
  {
   "cell_type": "code",
   "execution_count": 11,
   "metadata": {},
   "outputs": [
    {
     "name": "stderr",
     "output_type": "stream",
     "text": [
      "Downloading readme: 100%|██████████| 621/621 [00:00<00:00, 2.49MB/s]\n",
      "Downloading data: 100%|██████████| 1.15M/1.15M [00:00<00:00, 3.38MB/s]\n",
      "Generating train split: 100%|██████████| 232/232 [00:00<00:00, 54444.05 examples/s]\n"
     ]
    }
   ],
   "source": [
    "# 改用 toml\n",
    "import toml\n",
    "import os\n",
    "from openai import OpenAI\n",
    "# 下載數據集\n",
    "from datasets import load_dataset\n",
    "import pandas as pd\n",
    "\n",
    "# 載入 secrets.toml 文件\n",
    "secrets = toml.load(\"secrets.toml\")\n",
    "\n",
    "# MongoDB URI\n",
    "ATLAS_CONNECTION_STRING = secrets[\"MONGODB_URL\"]\n",
    "# 設置環境變數\n",
    "os.environ[\"OPENAI_API_KEY\"] = secrets[\"OPENAI_API_KEY\"]\n",
    "# 初始化 OpenAI 物件\n",
    "openai_client = OpenAI()\n",
    "\n",
    "# 數據\n",
    "data = load_dataset(\n",
    "    \"explodinggradients/ragas-wikiqa\", split=\"train\"\n",
    ")\n",
    "# 顯示\n",
    "df = pd.DataFrame(data)"
   ]
  },
  {
   "cell_type": "markdown",
   "metadata": {},
   "source": [
    "檢查數據集位置"
   ]
  },
  {
   "cell_type": "code",
   "execution_count": 10,
   "metadata": {},
   "outputs": [
    {
     "name": "stdout",
     "output_type": "stream",
     "text": [
      "/Users/samhsiao/.cache/huggingface/datasets/explodinggradients___ragas-wikiqa/default/0.0.0/9d001d79f3bb6473b2ec44caf5fed32c780d40ff/ragas-wikiqa-train.arrow\n"
     ]
    }
   ],
   "source": [
    "from datasets import load_dataset\n",
    "\n",
    "# 加載數據集\n",
    "# data = load_dataset(\"explodinggradients/ragas-wikiqa\", split=\"train\")\n",
    "\n",
    "# 獲取數據集的本地路徑\n",
    "dataset_path = data.cache_files[0]['filename']\n",
    "print(dataset_path)\n"
   ]
  }
 ],
 "metadata": {
  "kernelspec": {
   "display_name": "envllmChatBot",
   "language": "python",
   "name": "python3"
  },
  "language_info": {
   "codemirror_mode": {
    "name": "ipython",
    "version": 3
   },
   "file_extension": ".py",
   "mimetype": "text/x-python",
   "name": "python",
   "nbconvert_exporter": "python",
   "pygments_lexer": "ipython3",
   "version": "3.11.7"
  }
 },
 "nbformat": 4,
 "nbformat_minor": 2
}
