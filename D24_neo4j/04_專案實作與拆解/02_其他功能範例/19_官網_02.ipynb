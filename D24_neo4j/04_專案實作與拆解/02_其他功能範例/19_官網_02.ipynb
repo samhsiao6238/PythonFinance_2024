{
 "cells": [
  {
   "cell_type": "code",
   "execution_count": null,
   "metadata": {},
   "outputs": [],
   "source": [
    "# import getpass\n",
    "# 改用 toml\n",
    "import toml\n",
    "\n",
    "# 載入 secrets.toml 文件\n",
    "\n",
    "# MongoDB URI\n",
    "ATLAS_CONNECTION_STRING = secrets[\"MONGODB_URL\"]"
   ]
  }
 ],
 "metadata": {
  "kernelspec": {
   "display_name": "envllmChatBot",
   "language": "python",
   "name": "python3"
  },
  "language_info": {
   "codemirror_mode": {
    "name": "ipython",
    "version": 3
   },
   "file_extension": ".py",
   "mimetype": "text/x-python",
   "name": "python",
   "nbconvert_exporter": "python",
   "pygments_lexer": "ipython3",
   "version": "3.11.7"
  }
 },
 "nbformat": 4,
 "nbformat_minor": 2
}
