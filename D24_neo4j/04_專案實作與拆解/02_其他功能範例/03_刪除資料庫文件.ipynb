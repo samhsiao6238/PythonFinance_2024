{
 "cells": [
  {
   "cell_type": "markdown",
   "metadata": {},
   "source": [
    "刪除當前文件中全部資料"
   ]
  },
  {
   "cell_type": "code",
   "execution_count": 9,
   "metadata": {},
   "outputs": [
    {
     "name": "stdout",
     "output_type": "stream",
     "text": [
      "已刪除 40 筆文檔。\n",
      "文檔已清空。\n",
      "目前文檔數量：0\n"
     ]
    }
   ],
   "source": [
    "import streamlit as st\n",
    "import os\n",
    "from pymongo import MongoClient\n",
    "import certifi\n",
    "\n",
    "# Set environment variables for API keys\n",
    "os.environ[\"OPENAI_API_KEY\"] = st.secrets[\"OPENAI_API_KEY\"]\n",
    "ATLAS_CONNECTION_STRING = st.secrets[\"MONGODB_URL\"]\n",
    "\n",
    "# Connect to MongoDB Atlas\n",
    "client = MongoClient(\n",
    "    ATLAS_CONNECTION_STRING,\n",
    "    tlsCAFile=certifi.where()\n",
    ")\n",
    "db_name = \"MyDatabase2024\"\n",
    "collection_name = \"MyCollection2024\"\n",
    "atlas_collection = client[db_name][collection_name]\n",
    "\n",
    "# Function to delete all documents in the collection\n",
    "def delete_all_documents():\n",
    "    result = atlas_collection.delete_many({})\n",
    "    return result.deleted_count\n",
    "\n",
    "# Function to check if the collection is empty\n",
    "def check_collection_empty():\n",
    "    count = atlas_collection.count_documents({})\n",
    "    return count == 0\n",
    "\n",
    "# Delete all documents\n",
    "deleted_count = delete_all_documents()\n",
    "print(f\"已刪除 {deleted_count} 筆文檔。\")\n",
    "\n",
    "# Check if the collection is empty\n",
    "is_empty = check_collection_empty()\n",
    "if is_empty:\n",
    "    print(\"文檔已清空。\")\n",
    "else:\n",
    "    print(\"文檔仍存在於資料庫中。\")\n",
    "\n",
    "# Display current document count\n",
    "current_count = atlas_collection.count_documents({})\n",
    "print(f\"目前文檔數量：{current_count}\")\n"
   ]
  },
  {
   "cell_type": "markdown",
   "metadata": {},
   "source": [
    "刪除指定集合：直接刪除"
   ]
  },
  {
   "cell_type": "code",
   "execution_count": 2,
   "metadata": {},
   "outputs": [
    {
     "name": "stdout",
     "output_type": "stream",
     "text": [
      "集合 'MyCollection2024' 已刪除。\n"
     ]
    }
   ],
   "source": [
    "import os\n",
    "from pymongo import MongoClient\n",
    "import certifi\n",
    "import streamlit as st\n",
    "\n",
    "# 設置環境變數\n",
    "os.environ[\"OPENAI_API_KEY\"] = st.secrets[\"OPENAI_API_KEY\"]\n",
    "ATLAS_CONNECTION_STRING = st.secrets[\"MONGODB_URL\"]\n",
    "\n",
    "# 連接到 MongoDB Atlas\n",
    "client = MongoClient(\n",
    "    ATLAS_CONNECTION_STRING, tlsCAFile=certifi.where()\n",
    ")\n",
    "db_name = \"MyDatabase2024\"\n",
    "collection_name = \"MyCollection2024\"\n",
    "db = client[db_name]\n",
    "\n",
    "# 刪除指定集合\n",
    "def delete_collection():\n",
    "    db.drop_collection(collection_name)\n",
    "    print(f\"集合 '{collection_name}' 已刪除。\")\n",
    "\n",
    "# 刪除集合\n",
    "delete_collection()\n"
   ]
  },
  {
   "cell_type": "markdown",
   "metadata": {},
   "source": [
    "刪除指定集合：先檢查是否存在"
   ]
  },
  {
   "cell_type": "code",
   "execution_count": 5,
   "metadata": {},
   "outputs": [
    {
     "name": "stdout",
     "output_type": "stream",
     "text": [
      "集合 'MyCollection2024' 已刪除。\n"
     ]
    }
   ],
   "source": [
    "import os\n",
    "from pymongo import MongoClient\n",
    "import certifi\n",
    "import streamlit as st\n",
    "\n",
    "# 設置環境變數\n",
    "os.environ[\"OPENAI_API_KEY\"] = st.secrets[\"OPENAI_API_KEY\"]\n",
    "ATLAS_CONNECTION_STRING = st.secrets[\"MONGODB_URL\"]\n",
    "\n",
    "# 連接到 MongoDB Atlas\n",
    "client = MongoClient(ATLAS_CONNECTION_STRING, tlsCAFile=certifi.where())\n",
    "db_name = \"MyDatabase2024\"\n",
    "collection_name = \"MyCollection2024\"\n",
    "db = client[db_name]\n",
    "\n",
    "# 檢查集合是否存在的函數\n",
    "def check_collection_exists(database, collection_name):\n",
    "    collection_list = database.list_collection_names()\n",
    "    return collection_name in collection_list\n",
    "\n",
    "# 刪除指定集合的函數\n",
    "def delete_collection():\n",
    "    if check_collection_exists(db, collection_name):\n",
    "        db.drop_collection(collection_name)\n",
    "        print(f\"集合 '{collection_name}' 已刪除。\")\n",
    "    else:\n",
    "        print(f\"集合 '{collection_name}' 不存在。\")\n",
    "\n",
    "# 刪除集合\n",
    "delete_collection()\n"
   ]
  },
  {
   "cell_type": "markdown",
   "metadata": {},
   "source": [
    "刪除指定資料庫"
   ]
  },
  {
   "cell_type": "code",
   "execution_count": 4,
   "metadata": {},
   "outputs": [
    {
     "name": "stdout",
     "output_type": "stream",
     "text": [
      "資料庫 'MyDatabase2024' 不存在。\n"
     ]
    }
   ],
   "source": [
    "import os\n",
    "from pymongo import MongoClient\n",
    "import certifi\n",
    "import streamlit as st\n",
    "\n",
    "# 設置環境變數\n",
    "os.environ[\"OPENAI_API_KEY\"] = st.secrets[\"OPENAI_API_KEY\"]\n",
    "ATLAS_CONNECTION_STRING = st.secrets[\"MONGODB_URL\"]\n",
    "\n",
    "# 連接到 MongoDB Atlas\n",
    "client = MongoClient(\n",
    "    ATLAS_CONNECTION_STRING, tlsCAFile=certifi.where()\n",
    ")\n",
    "db_name = \"MyDatabase2024\"\n",
    "\n",
    "# 檢查資料庫是否存在的函數\n",
    "def check_database_exists(client, db_name):\n",
    "    database_list = client.list_database_names()\n",
    "    return db_name in database_list\n",
    "\n",
    "# 刪除指定資料庫的函數\n",
    "def delete_database():\n",
    "    if check_database_exists(client, db_name):\n",
    "        client.drop_database(db_name)\n",
    "        print(f\"資料庫 '{db_name}' 已刪除。\")\n",
    "    else:\n",
    "        print(f\"資料庫 '{db_name}' 不存在。\")\n",
    "\n",
    "# 刪除資料庫\n",
    "delete_database()\n"
   ]
  }
 ],
 "metadata": {
  "kernelspec": {
   "display_name": "env0521",
   "language": "python",
   "name": "python3"
  },
  "language_info": {
   "codemirror_mode": {
    "name": "ipython",
    "version": 3
   },
   "file_extension": ".py",
   "mimetype": "text/x-python",
   "name": "python",
   "nbconvert_exporter": "python",
   "pygments_lexer": "ipython3",
   "version": "3.11.7"
  }
 },
 "nbformat": 4,
 "nbformat_minor": 2
}
