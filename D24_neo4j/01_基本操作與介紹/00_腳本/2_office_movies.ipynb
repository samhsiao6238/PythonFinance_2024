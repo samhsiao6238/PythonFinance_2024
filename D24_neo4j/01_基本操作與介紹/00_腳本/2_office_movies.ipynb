{
 "cells": [
  {
   "cell_type": "markdown",
   "metadata": {},
   "source": [
    "連接官方資料庫\n"
   ]
  },
  {
   "cell_type": "markdown",
   "metadata": {},
   "source": [
    "讀取25筆資料"
   ]
  },
  {
   "cell_type": "code",
   "execution_count": 3,
   "metadata": {},
   "outputs": [
    {
     "name": "stdout",
     "output_type": "stream",
     "text": [
      "Retrieved 25 nodes from the database.\n",
      "Node Type: frozenset({'Movie'}) | Properties: {'tagline': 'Welcome to the Real World', 'votes': 5254, 'title': 'The Matrix', 'released': 1999}\n",
      "Node Type: frozenset({'Person'}) | Properties: {'born': 1964, 'name': 'Keanu Reeves'}\n",
      "Node Type: frozenset({'Person'}) | Properties: {'born': 1967, 'name': 'Carrie-Anne Moss'}\n",
      "Node Type: frozenset({'Person'}) | Properties: {'born': 1961, 'name': 'Laurence Fishburne'}\n",
      "Node Type: frozenset({'Person'}) | Properties: {'born': 1960, 'name': 'Hugo Weaving'}\n",
      "Node Type: frozenset({'Person'}) | Properties: {'born': 1967, 'name': 'Lilly Wachowski'}\n",
      "Node Type: frozenset({'Person'}) | Properties: {'born': 1965, 'name': 'Lana Wachowski'}\n",
      "Node Type: frozenset({'Person'}) | Properties: {'born': 1952, 'name': 'Joel Silver'}\n",
      "Node Type: frozenset({'Person'}) | Properties: {'born': 1978, 'name': 'Emil Eifrem'}\n",
      "Node Type: frozenset({'Movie'}) | Properties: {'tagline': 'Free your mind', 'votes': 1537, 'title': 'The Matrix Reloaded', 'released': 2003}\n",
      "Node Type: frozenset({'Movie'}) | Properties: {'tagline': 'Everything that has a beginning has an end', 'votes': 1229, 'title': 'The Matrix Revolutions', 'released': 2003}\n",
      "Node Type: frozenset({'Movie'}) | Properties: {'tagline': 'Evil has its winning ways', 'votes': 191, 'title': \"The Devil's Advocate\", 'released': 1997}\n",
      "Node Type: frozenset({'Person'}) | Properties: {'born': 1975, 'name': 'Charlize Theron'}\n",
      "Node Type: frozenset({'Person'}) | Properties: {'born': 1940, 'name': 'Al Pacino'}\n",
      "Node Type: frozenset({'Person'}) | Properties: {'born': 1944, 'name': 'Taylor Hackford'}\n",
      "Node Type: frozenset({'Movie'}) | Properties: {'tagline': \"In the heart of the nation's capital, in a courthouse of the U.S. government, one man will stop at nothing to keep his honor, and one will stop at nothing to find the truth.\", 'votes': 367, 'title': 'A Few Good Men', 'released': 1992}\n",
      "Node Type: frozenset({'Person'}) | Properties: {'born': 1962, 'name': 'Tom Cruise'}\n",
      "Node Type: frozenset({'Person'}) | Properties: {'born': 1937, 'name': 'Jack Nicholson'}\n",
      "Node Type: frozenset({'Person'}) | Properties: {'born': 1962, 'name': 'Demi Moore'}\n",
      "Node Type: frozenset({'Person'}) | Properties: {'born': 1958, 'name': 'Kevin Bacon'}\n",
      "Node Type: frozenset({'Person'}) | Properties: {'born': 1966, 'name': 'Kiefer Sutherland'}\n",
      "Node Type: frozenset({'Person'}) | Properties: {'born': 1971, 'name': 'Noah Wyle'}\n",
      "Node Type: frozenset({'Person'}) | Properties: {'born': 1968, 'name': 'Cuba Gooding Jr.'}\n",
      "Node Type: frozenset({'Person'}) | Properties: {'born': 1957, 'name': 'Kevin Pollak'}\n",
      "Node Type: frozenset({'Person'}) | Properties: {'born': 1943, 'name': 'J.T. Walsh'}\n"
     ]
    }
   ],
   "source": [
    "from neo4j import GraphDatabase\n",
    "import os\n",
    "from dotenv import load_dotenv\n",
    "\n",
    "# 載入環境變量\n",
    "load_dotenv()\n",
    "\n",
    "# 連接信息\n",
    "DEMO_URI = \"neo4j+s://demo.neo4jlabs.com:7687\"\n",
    "DEMO_DATABASE = \"movies\"\n",
    "DEMO_USER = \"movies\"\n",
    "DEMO_PASSWORD = \"movies\"\n",
    "\n",
    "# 連接資料庫\n",
    "demo_driver = GraphDatabase.driver(DEMO_URI, auth=(DEMO_USER, DEMO_PASSWORD))\n",
    "\n",
    "def fetch_data():\n",
    "    # 從官方資料庫獲取數據\n",
    "    query = \"\"\"\n",
    "    MATCH (n) RETURN n LIMIT 25\n",
    "    \"\"\"\n",
    "    try:\n",
    "        with demo_driver.session(database=DEMO_DATABASE) as session:\n",
    "            results = session.run(query)\n",
    "            nodes = [{\"type\": record[\"n\"].labels, \"properties\": dict(record[\"n\"].items())} for record in results]\n",
    "            return nodes\n",
    "    except Exception as e:\n",
    "        print(f\"An error occurred: {e}\")\n",
    "        return []\n",
    "\n",
    "if __name__ == \"__main__\":\n",
    "    nodes = fetch_data()\n",
    "    if nodes:\n",
    "        print(f\"Retrieved {len(nodes)} nodes from the database.\")\n",
    "        # 輸出節點信息\n",
    "        for node in nodes:\n",
    "            print(\"Node Type:\", node[\"type\"], \"| Properties:\", node[\"properties\"])\n",
    "    else:\n",
    "        print(\"No nodes retrieved.\")\n"
   ]
  },
  {
   "cell_type": "markdown",
   "metadata": {},
   "source": [
    "讀取全部資料，並寫入自己的資料庫"
   ]
  },
  {
   "cell_type": "code",
   "execution_count": 14,
   "metadata": {},
   "outputs": [
    {
     "name": "stdout",
     "output_type": "stream",
     "text": [
      "Retrieved 253 items from the database.\n",
      "Data and relationships have been inserted into your database.\n"
     ]
    }
   ],
   "source": [
    "from neo4j import GraphDatabase\n",
    "import os\n",
    "from dotenv import load_dotenv\n",
    "\n",
    "# 載入環境變數\n",
    "load_dotenv()\n",
    "\n",
    "# 連接信息\n",
    "DEMO_URI = \"neo4j+s://demo.neo4jlabs.com:7687\"\n",
    "DEMO_DATABASE = \"movies\"\n",
    "DEMO_USER = \"movies\"\n",
    "DEMO_PASSWORD = \"movies\"\n",
    "\n",
    "# 自己的資料庫連接信息\n",
    "YOUR_URI = os.getenv(\"NEO4J_URI\")\n",
    "YOUR_USER = os.getenv(\"NEO4J_USER\")\n",
    "YOUR_PASSWORD = os.getenv(\"NEO4J_PASSWORD\")\n",
    "\n",
    "# 連接官方資料庫\n",
    "demo_driver = GraphDatabase.driver(DEMO_URI, auth=(DEMO_USER, DEMO_PASSWORD))\n",
    "# 連接自己的資料庫\n",
    "your_driver = GraphDatabase.driver(YOUR_URI, auth=(YOUR_USER, YOUR_PASSWORD))\n",
    "\n",
    "def fetch_data():\n",
    "    # 從官方資料庫獲取節點及關係\n",
    "    query = \"\"\"\n",
    "    MATCH (n)-[r]->(m) RETURN n, r, m\n",
    "    \"\"\"\n",
    "    try:\n",
    "        with demo_driver.session(database=DEMO_DATABASE) as session:\n",
    "            results = session.run(query)\n",
    "            data = []\n",
    "            for record in results:\n",
    "                data.append({\n",
    "                    \"start_node\": {\n",
    "                        \"labels\": list(record[\"n\"].labels),\n",
    "                        \"properties\": dict(record[\"n\"].items())\n",
    "                    },\n",
    "                    \"relationship\": {\n",
    "                        \"type\": record[\"r\"].type,\n",
    "                        \"properties\": dict(record[\"r\"].items())\n",
    "                    },\n",
    "                    \"end_node\": {\n",
    "                        \"labels\": list(record[\"m\"].labels),\n",
    "                        \"properties\": dict(record[\"m\"].items())\n",
    "                    }\n",
    "                })\n",
    "            return data\n",
    "    except Exception as e:\n",
    "        print(f\"An error occurred: {e}\")\n",
    "        return []\n",
    "\n",
    "def insert_data(data):\n",
    "    # 將節點及關係數據插入自己的資料庫\n",
    "    try:\n",
    "        with your_driver.session() as session:\n",
    "            for item in data:\n",
    "                start_node_props = ', '.join(f'{k}: ${k}' for k in item['start_node']['properties'].keys())\n",
    "                start_query = f\"MERGE (n:{':'.join(item['start_node']['labels'])} {{{start_node_props}}}) RETURN id(n)\"\n",
    "                start_node_id = session.run(start_query, **item['start_node']['properties']).single()[0]\n",
    "                \n",
    "                end_node_props = ', '.join(f'{k}: ${k}' for k in item['end_node']['properties'].keys())\n",
    "                end_query = f\"MERGE (n:{':'.join(item['end_node']['labels'])} {{{end_node_props}}}) RETURN id(n)\"\n",
    "                end_node_id = session.run(end_query, **item['end_node']['properties']).single()[0]\n",
    "                \n",
    "                rel_props = ', '.join(f'{k}: ${k}' for k in item['relationship']['properties'].keys())\n",
    "                rel_query = f\"MATCH (a), (b) WHERE id(a) = $start_id AND id(b) = $end_id CREATE (a)-[r:{item['relationship']['type']} {{{rel_props}}}]->(b)\"\n",
    "                session.run(rel_query, start_id=start_node_id, end_id=end_node_id, **item['relationship']['properties'])\n",
    "\n",
    "            print(\"Data and relationships have been inserted into your database.\")\n",
    "    except Exception as e:\n",
    "        print(f\"An error occurred while inserting data: {e}\")\n",
    "\n",
    "if __name__ == \"__main__\":\n",
    "    data = fetch_data()\n",
    "    if data:\n",
    "        print(f\"Retrieved {len(data)} items from the database.\")\n",
    "        insert_data(data)\n",
    "    else:\n",
    "        print(\"No data retrieved.\")\n"
   ]
  },
  {
   "cell_type": "markdown",
   "metadata": {},
   "source": [
    "透過語法查詢此時官方資料庫與自己資料庫的差異"
   ]
  },
  {
   "cell_type": "code",
   "execution_count": 4,
   "metadata": {},
   "outputs": [
    {
     "name": "stdout",
     "output_type": "stream",
     "text": [
      "Data has been fetched and saved.\n"
     ]
    }
   ],
   "source": [
    "from neo4j import GraphDatabase\n",
    "import os\n",
    "from dotenv import load_dotenv\n",
    "import json\n",
    "\n",
    "load_dotenv()\n",
    "\n",
    "# 官方及自己的資料庫連接信息\n",
    "DEMO_URI = \"neo4j+s://demo.neo4jlabs.com:7687\"\n",
    "DEMO_DATABASE = \"movies\"\n",
    "DEMO_USER = \"movies\"\n",
    "DEMO_PASSWORD = \"movies\"\n",
    "YOUR_URI = os.getenv(\"NEO4J_URI\")\n",
    "YOUR_USER = os.getenv(\"NEO4J_USER\")\n",
    "YOUR_PASSWORD = os.getenv(\"NEO4J_PASSWORD\")\n",
    "\n",
    "# 建立連接\n",
    "demo_driver = GraphDatabase.driver(DEMO_URI, auth=(DEMO_USER, DEMO_PASSWORD))\n",
    "your_driver = GraphDatabase.driver(YOUR_URI, auth=(YOUR_USER, YOUR_PASSWORD))\n",
    "\n",
    "def fetch_data(driver, database):\n",
    "    \"\"\"從指定資料庫獲取所有節點及關係\"\"\"\n",
    "    query_nodes = \"MATCH (n) RETURN n\"\n",
    "    query_relationships = \"MATCH ()-[r]->() RETURN r\"\n",
    "    data = {\"nodes\": [], \"relationships\": []}\n",
    "    with driver.session(database=database) as session:\n",
    "        # 获取节点\n",
    "        nodes = session.run(query_nodes)\n",
    "        for node in nodes:\n",
    "            data[\"nodes\"].append({\"labels\": list(node[\"n\"].labels), \"properties\": dict(node[\"n\"].items())})\n",
    "        # 获取关系\n",
    "        relationships = session.run(query_relationships)\n",
    "        for rel in relationships:\n",
    "            data[\"relationships\"].append({\"type\": rel[\"r\"].type, \"properties\": dict(rel[\"r\"].items())})\n",
    "    return data\n",
    "\n",
    "def save_data(data, filename):\n",
    "    \"\"\"將資料保存為 JSON 文件\"\"\"\n",
    "    with open(filename, 'w') as f:\n",
    "        json.dump(data, f, indent=4)\n",
    "\n",
    "if __name__ == \"__main__\":\n",
    "    # 從兩個資料庫取得並保存數據\n",
    "    demo_data = fetch_data(demo_driver, DEMO_DATABASE)\n",
    "    save_data(demo_data, \"demo_database_data.json\")\n",
    "    # 假設自己的資料庫沒有指定不同的資料庫上下文\n",
    "    your_data = fetch_data(your_driver, None)\n",
    "    save_data(your_data, \"your_database_data.json\")\n",
    "    \n",
    "    print(\"Data has been fetched and saved.\")\n"
   ]
  },
  {
   "cell_type": "markdown",
   "metadata": {},
   "source": [
    "優化腳本，進行排序：這個排序有瑕疵，需優化"
   ]
  },
  {
   "cell_type": "code",
   "execution_count": 6,
   "metadata": {},
   "outputs": [
    {
     "name": "stdout",
     "output_type": "stream",
     "text": [
      "Data has been fetched and saved.\n"
     ]
    }
   ],
   "source": [
    "from neo4j import GraphDatabase\n",
    "import os\n",
    "from dotenv import load_dotenv\n",
    "import json\n",
    "\n",
    "load_dotenv()\n",
    "\n",
    "# 官方及自己的資料庫連接信息\n",
    "DEMO_URI = \"neo4j+s://demo.neo4jlabs.com:7687\"\n",
    "DEMO_DATABASE = \"movies\"\n",
    "DEMO_USER = \"movies\"\n",
    "DEMO_PASSWORD = \"movies\"\n",
    "YOUR_URI = os.getenv(\"NEO4J_URI\")\n",
    "YOUR_USER = os.getenv(\"NEO4J_USER\")\n",
    "YOUR_PASSWORD = os.getenv(\"NEO4J_PASSWORD\")\n",
    "\n",
    "# 建立連接\n",
    "demo_driver = GraphDatabase.driver(DEMO_URI, auth=(DEMO_USER, DEMO_PASSWORD))\n",
    "your_driver = GraphDatabase.driver(YOUR_URI, auth=(YOUR_USER, YOUR_PASSWORD))\n",
    "\n",
    "def fetch_and_sort_data(driver, database):\n",
    "    \"\"\"從指定資料庫取得所有節點和關係，並進行排序\"\"\"\n",
    "    query_nodes = \"MATCH (n) RETURN n\"\n",
    "    query_relationships = \"MATCH ()-[r]->() RETURN r\"\n",
    "    data = {\"nodes\": [], \"relationships\": []}\n",
    "    with driver.session(database=database) as session:\n",
    "        # 獲取節點\n",
    "        nodes = session.run(query_nodes)\n",
    "        for node in nodes:\n",
    "            data[\"nodes\"].append({\"labels\": list(node[\"n\"].labels), \"properties\": dict(node[\"n\"].items())})\n",
    "        data[\"nodes\"].sort(key=lambda x: (x[\"labels\"], x[\"properties\"].get(\"name\", \"\")))\n",
    "        \n",
    "        # 獲取關係\n",
    "        relationships = session.run(query_relationships)\n",
    "        for rel in relationships:\n",
    "            data[\"relationships\"].append({\"type\": rel[\"r\"].type, \"properties\": dict(rel[\"r\"].items())})\n",
    "        data[\"relationships\"].sort(key=lambda x: (x[\"type\"], x[\"properties\"].get(\"name\", \"\")))\n",
    "    \n",
    "    return data\n",
    "\n",
    "def save_data(data, filename):\n",
    "    \"\"\"將資料儲存為JSON文件\"\"\"\n",
    "    with open(filename, 'w') as f:\n",
    "        json.dump(data, f, indent=4)\n",
    "\n",
    "if __name__ == \"__main__\":\n",
    "    # 從兩個資料庫取得並保存數據\n",
    "    demo_data = fetch_and_sort_data(demo_driver, DEMO_DATABASE)\n",
    "    save_data(demo_data, \"demo_database_data.json\")\n",
    "    # 假設自己的資料庫沒有指定不同的資料庫上下文\n",
    "    your_data = fetch_and_sort_data(your_driver, None)\n",
    "    save_data(your_data, \"your_database_data.json\")\n",
    "    \n",
    "    print(\"Data has been fetched and saved.\")\n"
   ]
  },
  {
   "cell_type": "markdown",
   "metadata": {},
   "source": [
    "優化排序腳本：添加排序函數"
   ]
  },
  {
   "cell_type": "code",
   "execution_count": 2,
   "metadata": {},
   "outputs": [
    {
     "name": "stdout",
     "output_type": "stream",
     "text": [
      "Data has been fetched and saved.\n"
     ]
    }
   ],
   "source": [
    "from neo4j import GraphDatabase\n",
    "import os\n",
    "from dotenv import load_dotenv\n",
    "import json\n",
    "\n",
    "load_dotenv()\n",
    "\n",
    "# 官方和自己資料庫的連接訊息\n",
    "DEMO_URI = \"neo4j+s://demo.neo4jlabs.com:7687\"\n",
    "DEMO_DATABASE = \"movies\"\n",
    "DEMO_USER = \"movies\"\n",
    "DEMO_PASSWORD = \"movies\"\n",
    "YOUR_URI = os.getenv(\"NEO4J_URI\")\n",
    "YOUR_USER = os.getenv(\"NEO4J_USER\")\n",
    "YOUR_PASSWORD = os.getenv(\"NEO4J_PASSWORD\")\n",
    "\n",
    "# 建立連線\n",
    "demo_driver = GraphDatabase.driver(DEMO_URI, auth=(DEMO_USER, DEMO_PASSWORD))\n",
    "your_driver = GraphDatabase.driver(YOUR_URI, auth=(YOUR_USER, YOUR_PASSWORD))\n",
    "\n",
    "def fetch_and_sort_data(driver, database):\n",
    "    \"\"\"從指定資料庫取得所有節點和關係，並進行排序\"\"\"\n",
    "    query_nodes = \"MATCH (n) RETURN n\"\n",
    "    query_relationships = \"MATCH ()-[r]->() RETURN r\"\n",
    "    data = {\"nodes\": [], \"relationships\": []}\n",
    "    with driver.session(database=database) as session:\n",
    "        # 獲取節點\n",
    "        nodes = session.run(query_nodes)\n",
    "        for node in nodes:\n",
    "            data[\"nodes\"].append({\"labels\": list(node[\"n\"].labels), \"properties\": dict(node[\"n\"].items())})\n",
    "        \n",
    "        # 獲取關係\n",
    "        relationships = session.run(query_relationships)\n",
    "        for rel in relationships:\n",
    "            data[\"relationships\"].append({\"type\": rel[\"r\"].type, \"properties\": dict(rel[\"r\"].items())})\n",
    "    # 排序數據\n",
    "    sort_data(data)\n",
    "    return data\n",
    "\n",
    "def sort_data(data):\n",
    "    \"\"\"對資料進行排序\"\"\"\n",
    "    data[\"nodes\"].sort(key=lambda x: (sorted(x[\"labels\"]), sorted((k, v) for k, v in x[\"properties\"].items())))\n",
    "    data[\"relationships\"].sort(key=lambda x: (x[\"type\"], sorted((k, v) for k, v in x[\"properties\"].items())))\n",
    "\n",
    "def save_data(data, filename):\n",
    "    \"\"\"將資料儲存為JSON文件\"\"\"\n",
    "    with open(filename, 'w') as f:\n",
    "        json.dump(data, f, indent=4)\n",
    "\n",
    "if __name__ == \"__main__\":\n",
    "    # 從兩個資料庫中獲取並保存數據\n",
    "    demo_data = fetch_and_sort_data(demo_driver, DEMO_DATABASE)\n",
    "    save_data(demo_data, \"demo_database_data.json\")\n",
    "    # 假設資料庫沒有指定不同的資料庫上下文\n",
    "    your_data = fetch_and_sort_data(your_driver, None)\n",
    "    save_data(your_data, \"your_database_data.json\")\n",
    "    \n",
    "    print(\"Data has been fetched and saved.\")\n"
   ]
  },
  {
   "cell_type": "markdown",
   "metadata": {},
   "source": [
    "比對兩個 JSON"
   ]
  },
  {
   "cell_type": "code",
   "execution_count": 5,
   "metadata": {},
   "outputs": [
    {
     "name": "stdout",
     "output_type": "stream",
     "text": [
      "完全一致\n"
     ]
    }
   ],
   "source": [
    "import json\n",
    "\n",
    "def compare_json(file1, file2):\n",
    "    \"\"\"比較兩個JSON文件並輸出不同之處，如果完全一致則輸出特定訊息\"\"\"\n",
    "    with open(file1, 'r') as f1, open(file2, 'r') as f2:\n",
    "        data1 = json.load(f1)\n",
    "        data2 = json.load(f2)\n",
    "    # 跟踪是否發現差異\n",
    "    differences_found = False\n",
    "\n",
    "    # 比對節點\n",
    "    for item1, item2 in zip(data1[\"nodes\"], data2[\"nodes\"]):\n",
    "        if item1 != item2:\n",
    "            print(f\"Difference in nodes: {item1} != {item2}\")\n",
    "            differences_found = True\n",
    "\n",
    "    # 比對關係\n",
    "    for item1, item2 in zip(data1[\"relationships\"], data2[\"relationships\"]):\n",
    "        if item1 != item2:\n",
    "            print(f\"Difference in relationships: {item1} != {item2}\")\n",
    "            differences_found = True\n",
    "\n",
    "    if not differences_found:\n",
    "        print(\"完全一致\")\n",
    "\n",
    "if __name__ == \"__main__\":\n",
    "    compare_json(\"demo_database_data.json\", \"your_database_data.json\")\n"
   ]
  },
  {
   "cell_type": "markdown",
   "metadata": {},
   "source": [
    "抓取指定指令的數據"
   ]
  },
  {
   "cell_type": "code",
   "execution_count": 15,
   "metadata": {},
   "outputs": [
    {
     "name": "stderr",
     "output_type": "stream",
     "text": [
      "/var/folders/vm/_zft15050r7cfh47y6v5z4k40000gn/T/ipykernel_54581/4237825336.py:31: DeprecationWarning: `id` is deprecated, use `element_id` instead\n",
      "  \"start_id\": relationship.start_node.id,\n",
      "/var/folders/vm/_zft15050r7cfh47y6v5z4k40000gn/T/ipykernel_54581/4237825336.py:32: DeprecationWarning: `id` is deprecated, use `element_id` instead\n",
      "  \"end_id\": relationship.end_node.id,\n"
     ]
    },
    {
     "name": "stdout",
     "output_type": "stream",
     "text": [
      "Data has been fetched and saved to 'demo_wrote_relationships.json'.\n",
      "Data has been fetched and saved to 'your_wrote_relationships.json'.\n"
     ]
    }
   ],
   "source": [
    "from neo4j import GraphDatabase\n",
    "import os\n",
    "from dotenv import load_dotenv\n",
    "import json\n",
    "\n",
    "# 官方和自己的資料庫連接訊息\n",
    "DEMO_URI = \"neo4j+s://demo.neo4jlabs.com:7687\"\n",
    "DEMO_DATABASE = \"movies\"\n",
    "DEMO_USER = \"movies\"\n",
    "DEMO_PASSWORD = \"movies\"\n",
    "YOUR_DATABASE = \"neo4j\"\n",
    "YOUR_URI = os.getenv(\"NEO4J_URI\")\n",
    "YOUR_USER = os.getenv(\"NEO4J_USER\")\n",
    "YOUR_PASSWORD = os.getenv(\"NEO4J_PASSWORD\")\n",
    "\n",
    "\n",
    "\n",
    "def fetch_and_save_data(uri, user, password, database, filename):\n",
    "    driver = GraphDatabase.driver(uri, auth=(user, password))\n",
    "\n",
    "    def fetch_wrote_relationships():\n",
    "        \"\"\"從資料庫獲取WROTE關係的數據\"\"\"\n",
    "        query = \"MATCH p=()-[r:WROTE]->() RETURN p\"\n",
    "        data = []\n",
    "        with driver.session(database=database) as session:\n",
    "            results = session.run(query)\n",
    "            for record in results:\n",
    "                path = record[\"p\"]\n",
    "                for relationship in path.relationships:\n",
    "                    data.append({\n",
    "                        \"start_id\": relationship.start_node.id,\n",
    "                        \"end_id\": relationship.end_node.id,\n",
    "                        \"type\": relationship.type,\n",
    "                        \"properties\": dict(relationship.items())\n",
    "                    })\n",
    "        return data\n",
    "\n",
    "    def save_data_to_json(data, file_name):\n",
    "        \"\"\"將數據保存到JSON文件\"\"\"\n",
    "        with open(file_name, 'w') as file:\n",
    "            json.dump(data, file, indent=4)\n",
    "        print(f\"Data has been fetched and saved to '{file_name}'.\")\n",
    "\n",
    "    # 執行抓取和保存\n",
    "    wrote_relationships = fetch_wrote_relationships()\n",
    "    save_data_to_json(wrote_relationships, filename)\n",
    "    driver.close()\n",
    "\n",
    "if __name__ == \"__main__\":\n",
    "\n",
    "    # 儲存官方資料庫數據\n",
    "    fetch_and_save_data(DEMO_URI, USER, PASSWORD, DEMO_DATABASE, \"demo_wrote_relationships.json\")\n",
    "\n",
    "    # 儲存您的資料庫數據\n",
    "    fetch_and_save_data(YOUR_URI, YOUR_USER, YOUR_PASSWORD, YOUR_DATABASE, \"your_wrote_relationships.json\")\n"
   ]
  }
 ],
 "metadata": {
  "kernelspec": {
   "display_name": "envST",
   "language": "python",
   "name": "python3"
  },
  "language_info": {
   "codemirror_mode": {
    "name": "ipython",
    "version": 3
   },
   "file_extension": ".py",
   "mimetype": "text/x-python",
   "name": "python",
   "nbconvert_exporter": "python",
   "pygments_lexer": "ipython3",
   "version": "3.10.11"
  }
 },
 "nbformat": 4,
 "nbformat_minor": 2
}
