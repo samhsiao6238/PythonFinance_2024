{
 "cells": [
  {
   "cell_type": "markdown",
   "metadata": {},
   "source": [
    "時間戳"
   ]
  },
  {
   "cell_type": "markdown",
   "metadata": {},
   "source": [
    "使用 pandas"
   ]
  },
  {
   "cell_type": "code",
   "execution_count": 2,
   "metadata": {},
   "outputs": [],
   "source": [
    "import pandas as pd"
   ]
  },
  {
   "cell_type": "markdown",
   "metadata": {},
   "source": [
    "當前時間戳，可用 now 或是 today"
   ]
  },
  {
   "cell_type": "code",
   "execution_count": 3,
   "metadata": {},
   "outputs": [
    {
     "name": "stdout",
     "output_type": "stream",
     "text": [
      "2024-05-17 10:54:52.276589\n",
      "2024-05-17 10:54:52.277066\n"
     ]
    }
   ],
   "source": [
    "# now\n",
    "ts_now = pd.Timestamp.now()\n",
    "print(ts_now)\n",
    "# today\n",
    "ts_today = pd.Timestamp.today()\n",
    "print(ts_today)"
   ]
  },
  {
   "cell_type": "markdown",
   "metadata": {},
   "source": [
    "取出時間戳的日期"
   ]
  },
  {
   "cell_type": "code",
   "execution_count": 4,
   "metadata": {},
   "outputs": [
    {
     "name": "stdout",
     "output_type": "stream",
     "text": [
      "2024-05-17\n",
      "2024-05-17\n"
     ]
    }
   ],
   "source": [
    "# 時間戳：日期\n",
    "today_date = pd.Timestamp.today().date()\n",
    "print(today_date)\n",
    "\n",
    "# 時間戳：日期\n",
    "today_date = pd.Timestamp.now().date()\n",
    "print(today_date)"
   ]
  },
  {
   "cell_type": "markdown",
   "metadata": {},
   "source": [
    "Unix 時間戳"
   ]
  },
  {
   "cell_type": "code",
   "execution_count": 6,
   "metadata": {},
   "outputs": [
    {
     "name": "stdout",
     "output_type": "stream",
     "text": [
      "<class 'float'> 1715943757.649175\n",
      "<class 'int'> 1715943757649483000\n",
      "<class 'int'> 1715943757\n",
      "2024-05-17 11:02:37\n"
     ]
    }
   ],
   "source": [
    "# Unix 時間戳\n",
    "ts_unix = pd.Timestamp.now().timestamp()\n",
    "print(type(ts_unix), ts_unix)\n",
    "\n",
    "# Unix 時間戳完整數值\n",
    "ts_unix_value = pd.Timestamp.now().value\n",
    "print(type(ts_unix_value), ts_unix_value)\n",
    "\n",
    "# Unix 整數時間戳\n",
    "ts_unix_int = int(pd.Timestamp.now().timestamp())\n",
    "print(type(ts_unix_int), ts_unix_int)\n",
    "\n",
    "# 將整數時間戳轉換為秒\n",
    "ts_ms = pd.Timestamp(ts_unix_int, unit='s')\n",
    "print(ts_ms)"
   ]
  },
  {
   "cell_type": "code",
   "execution_count": 8,
   "metadata": {},
   "outputs": [
    {
     "name": "stdout",
     "output_type": "stream",
     "text": [
      "Unix 時間戳: <class 'float'> 1715944356.274699\n",
      "Unix 時間戳完整數值: <class 'int'> 1715944356274797000\n",
      "Unix 整數時間戳: <class 'int'> 1715944356\n",
      "Timestamp 物件: 2024-05-17 11:12:36\n",
      "自然語言可理解的時間: 2024-05-17 11:12:36\n",
      "自然語言可理解的時間 (使用 datetime): 2024-05-17 19:12:36\n"
     ]
    }
   ],
   "source": [
    "import pandas as pd\n",
    "from datetime import datetime\n",
    "\n",
    "# Unix 時間戳\n",
    "ts_unix = pd.Timestamp.now().timestamp()\n",
    "print(\"Unix 時間戳:\", type(ts_unix), ts_unix)\n",
    "\n",
    "# Unix 時間戳完整數值\n",
    "ts_unix_value = pd.Timestamp.now().value\n",
    "print(\"Unix 時間戳完整數值:\", type(ts_unix_value), ts_unix_value)\n",
    "\n",
    "# Unix 整數時間戳\n",
    "ts_unix_int = int(pd.Timestamp.now().timestamp())\n",
    "print(\"Unix 整數時間戳:\", type(ts_unix_int), ts_unix_int)\n",
    "\n",
    "# 將整數時間戳轉換為 Timestamp 物件\n",
    "ts_ms = pd.Timestamp(ts_unix_int, unit='s')\n",
    "print(\"Timestamp 物件:\", ts_ms)\n",
    "\n",
    "# 將 Timestamp 物件轉換為自然語言可理解的時間\n",
    "natural_language_time = ts_ms.strftime('%Y-%m-%d %H:%M:%S')\n",
    "print(\"自然語言可理解的時間:\", natural_language_time)\n",
    "\n",
    "# 或者可以使用 datetime 來進行轉換\n",
    "natural_language_time_dt = datetime.fromtimestamp(ts_unix_int).strftime('%Y-%m-%d %H:%M:%S')\n",
    "print(\"自然語言可理解的時間 (使用 datetime):\", natural_language_time_dt)"
   ]
  }
 ],
 "metadata": {
  "kernelspec": {
   "display_name": "envST",
   "language": "python",
   "name": "python3"
  },
  "language_info": {
   "codemirror_mode": {
    "name": "ipython",
    "version": 3
   },
   "file_extension": ".py",
   "mimetype": "text/x-python",
   "name": "python",
   "nbconvert_exporter": "python",
   "pygments_lexer": "ipython3",
   "version": "3.10.11"
  }
 },
 "nbformat": 4,
 "nbformat_minor": 2
}
