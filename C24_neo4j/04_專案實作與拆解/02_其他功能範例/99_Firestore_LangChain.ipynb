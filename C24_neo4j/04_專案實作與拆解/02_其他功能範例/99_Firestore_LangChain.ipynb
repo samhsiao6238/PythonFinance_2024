{
 "cells": [
  {
   "cell_type": "code",
   "execution_count": 1,
   "metadata": {},
   "outputs": [],
   "source": [
    "# 導入需要的模組和類別\n",
    "from __future__ import annotations\n",
    "# 用於記錄日誌\n",
    "import logging\n",
    "# 類型檢查\n",
    "from typing import TYPE_CHECKING, List, Optional\n",
    "# langchain 相關\n",
    "from langchain_core.chat_history import BaseChatMessageHistory\n",
    "from langchain_core.messages import (\n",
    "    # 基礎類\n",
    "    BaseMessage,\n",
    "    messages_from_dict,\n",
    "    messages_to_dict,\n",
    ")\n",
    "\n",
    "logger = logging.getLogger(__name__)\n",
    "\n",
    "if TYPE_CHECKING:\n",
    "    from google.cloud.firestore import Client, DocumentReference"
   ]
  },
  {
   "cell_type": "code",
   "execution_count": 2,
   "metadata": {},
   "outputs": [],
   "source": [
    "def _get_firestore_client() -> Client:\n",
    "    try:\n",
    "        import firebase_admin\n",
    "        from firebase_admin import firestore\n",
    "    except ImportError:\n",
    "        raise ImportError(\n",
    "            \"Could not import firebase-admin python package. \"\n",
    "            \"Please install it with `pip install firebase-admin`.\"\n",
    "        )\n",
    "\n",
    "    # 對於多個實例，僅初始化應用程式一次。\n",
    "    try:\n",
    "        firebase_admin.get_app()\n",
    "    except ValueError as e:\n",
    "        logger.debug(\"Initializing Firebase app: %s\", e)\n",
    "        firebase_admin.initialize_app()\n",
    "\n",
    "    return firestore.client()"
   ]
  },
  {
   "cell_type": "code",
   "execution_count": 3,
   "metadata": {},
   "outputs": [],
   "source": [
    "class FirestoreChatMessageHistory(BaseChatMessageHistory):\n",
    "    \"\"\"Chat message history backed by Google Firestore.\"\"\"\n",
    "\n",
    "    def __init__(\n",
    "        self,\n",
    "        collection_name: str,\n",
    "        session_id: str,\n",
    "        user_id: str,\n",
    "        firestore_client: Optional[Client] = None,\n",
    "    ):\n",
    "        self.collection_name = collection_name\n",
    "        self.session_id = session_id\n",
    "        self.user_id = user_id\n",
    "        self._document: Optional[DocumentReference] = None\n",
    "        self.messages: List[BaseMessage] = []\n",
    "        self.firestore_client = firestore_client or _get_firestore_client()\n",
    "        self.prepare_firestore()"
   ]
  }
 ],
 "metadata": {
  "kernelspec": {
   "display_name": "envllmChatBot",
   "language": "python",
   "name": "python3"
  },
  "language_info": {
   "codemirror_mode": {
    "name": "ipython",
    "version": 3
   },
   "file_extension": ".py",
   "mimetype": "text/x-python",
   "name": "python",
   "nbconvert_exporter": "python",
   "pygments_lexer": "ipython3",
   "version": "3.11.7"
  }
 },
 "nbformat": 4,
 "nbformat_minor": 2
}
