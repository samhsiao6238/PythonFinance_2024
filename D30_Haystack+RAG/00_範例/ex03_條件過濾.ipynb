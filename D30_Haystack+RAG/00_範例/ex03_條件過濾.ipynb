{
 "cells": [
  {
   "cell_type": "code",
   "execution_count": 1,
   "metadata": {},
   "outputs": [
    {
     "name": "stderr",
     "output_type": "stream",
     "text": [
      "/Users/samhsiao/Documents/PythonVenv/envHaystack/lib/python3.10/site-packages/tqdm/auto.py:21: TqdmWarning: IProgress not found. Please update jupyter and ipywidgets. See https://ipywidgets.readthedocs.io/en/stable/user_install.html\n",
      "  from .autonotebook import tqdm as notebook_tqdm\n"
     ]
    },
    {
     "data": {
      "text/plain": [
       "3"
      ]
     },
     "execution_count": 1,
     "metadata": {},
     "output_type": "execute_result"
    }
   ],
   "source": [
    "from datetime import datetime\n",
    "from haystack import Document\n",
    "from haystack.document_stores.in_memory import InMemoryDocumentStore\n",
    "from haystack.components.retrievers.in_memory import InMemoryBM25Retriever\n",
    "\n",
    "# 創建文件\n",
    "documents = [\n",
    "    Document(\n",
    "        content=\"Use pip to install a basic version of Haystack's latest release: pip install farm-haystack. All the core Haystack components live in the haystack repo. But there's also the haystack-extras repo which contains components that are not as widely used, and you need to install them separately.\",\n",
    "        meta={\"version\": 1.15, \"date\": datetime(2023, 3, 30)},\n",
    "    ),\n",
    "    Document(\n",
    "        content=\"Use pip to install a basic version of Haystack's latest release: pip install farm-haystack[inference]. All the core Haystack components live in the haystack repo. But there's also the haystack-extras repo which contains components that are not as widely used, and you need to install them separately.\",\n",
    "        meta={\"version\": 1.22, \"date\": datetime(2023, 11, 7)},\n",
    "    ),\n",
    "    Document(\n",
    "        content=\"Use pip to install only the Haystack 2.0 code: pip install haystack-ai. The haystack-ai package is built on the main branch which is an unstable beta version, but it's useful if you want to try the new features as soon as they are merged.\",\n",
    "        meta={\"version\": 2.0, \"date\": datetime(2023, 12, 4)},\n",
    "    ),\n",
    "]\n",
    "\n",
    "# 初始化內存文件儲存\n",
    "document_store = InMemoryDocumentStore(bm25_algorithm=\"BM25Plus\")\n",
    "# 將文件寫入文件儲存\n",
    "document_store.write_documents(documents=documents)"
   ]
  },
  {
   "cell_type": "code",
   "execution_count": 6,
   "metadata": {},
   "outputs": [],
   "source": [
    "from haystack import Pipeline\n",
    "\n",
    "# 初始化管道\n",
    "pipeline = Pipeline()\n",
    "# 添加內存 BM25 檢索器到管道\n",
    "pipeline.add_component(\n",
    "    instance=InMemoryBM25Retriever(document_store=document_store),\n",
    "    name=\"retriever\"\n",
    ")"
   ]
  },
  {
   "cell_type": "code",
   "execution_count": 7,
   "metadata": {},
   "outputs": [
    {
     "name": "stdout",
     "output_type": "stream",
     "text": [
      "{'retriever': {'documents': [Document(id=b53625c67fee5ba5ac6dc86e7ca0adff567bf8376e86ae4b3fc6f6f858ccf1e5, content: 'Use pip to install a basic version of Haystack's latest release: pip install farm-haystack[inference...', meta: {'version': 1.22, 'date': datetime.datetime(2023, 11, 7, 0, 0)}, score: 0.37481165807926137), Document(id=8ac1f8119bdec5c898d5a5c69f49ff47f64056bce1a0f95073e34493bbaf9354, content: 'Use pip to install only the Haystack 2.0 code: pip install haystack-ai. The haystack-ai package is b...', meta: {'version': 2.0, 'date': datetime.datetime(2023, 12, 4, 0, 0)}, score: 0.34124689226266874)]}}\n"
     ]
    }
   ],
   "source": [
    "# 提問並進行元數據過濾\n",
    "query = \"Haystack installation\"\n",
    "result = pipeline.run(\n",
    "    data={\n",
    "        \"retriever\": {\n",
    "            \"query\": query,\n",
    "            \"filters\": {\n",
    "                \"field\": \"meta.version\",\n",
    "                \"operator\": \">\", \"value\": 1.21\n",
    "            }\n",
    "        }\n",
    "    }\n",
    ")\n",
    "\n",
    "# 輸出結果\n",
    "print(result)"
   ]
  },
  {
   "cell_type": "code",
   "execution_count": 4,
   "metadata": {},
   "outputs": [
    {
     "name": "stdout",
     "output_type": "stream",
     "text": [
      "{'retriever': {'documents': [Document(id=8ac1f8119bdec5c898d5a5c69f49ff47f64056bce1a0f95073e34493bbaf9354, content: 'Use pip to install only the Haystack 2.0 code: pip install haystack-ai. The haystack-ai package is b...', meta: {'version': 2.0, 'date': datetime.datetime(2023, 12, 4, 0, 0)}, score: 0.34124689226266874)]}}\n"
     ]
    }
   ],
   "source": [
    "# 提問並進行複合條件過濾\n",
    "query = \"Haystack installation\"\n",
    "result = pipeline.run(\n",
    "    data={\n",
    "        \"retriever\": {\n",
    "            \"query\": query,\n",
    "            \"filters\": {\n",
    "                \"operator\": \"AND\",\n",
    "                \"conditions\": [\n",
    "                    {\"field\": \"meta.version\", \"operator\": \">\", \"value\": 1.21},\n",
    "                    {\"field\": \"meta.date\", \"operator\": \">\", \"value\": datetime(2023, 11, 7)},\n",
    "                ],\n",
    "            },\n",
    "        }\n",
    "    }\n",
    ")\n",
    "\n",
    "# 輸出結果\n",
    "print(result)"
   ]
  }
 ],
 "metadata": {
  "kernelspec": {
   "display_name": "envHaystack",
   "language": "python",
   "name": "python3"
  },
  "language_info": {
   "codemirror_mode": {
    "name": "ipython",
    "version": 3
   },
   "file_extension": ".py",
   "mimetype": "text/x-python",
   "name": "python",
   "nbconvert_exporter": "python",
   "pygments_lexer": "ipython3",
   "version": "3.10.11"
  }
 },
 "nbformat": 4,
 "nbformat_minor": 2
}
