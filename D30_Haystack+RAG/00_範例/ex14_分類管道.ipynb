{
 "cells": [
  {
   "cell_type": "code",
   "execution_count": 2,
   "metadata": {},
   "outputs": [
    {
     "name": "stderr",
     "output_type": "stream",
     "text": [
      "/Users/samhsiao/Documents/PythonVenv/envHaystack/lib/python3.10/site-packages/tqdm/auto.py:21: TqdmWarning: IProgress not found. Please update jupyter and ipywidgets. See https://ipywidgets.readthedocs.io/en/stable/user_install.html\n",
      "  from .autonotebook import tqdm as notebook_tqdm\n"
     ]
    }
   ],
   "source": [
    "# 導入所需的模塊\n",
    "from haystack import Document, Pipeline\n",
    "from haystack.document_stores.in_memory import InMemoryDocumentStore\n",
    "from haystack.components.classifiers import DocumentLanguageClassifier\n",
    "from haystack.components.routers import MetadataRouter\n",
    "from haystack.components.writers import DocumentWriter"
   ]
  },
  {
   "cell_type": "code",
   "execution_count": 3,
   "metadata": {},
   "outputs": [],
   "source": [
    "# 準備各種語言的酒店評論樣本\n",
    "documents = [\n",
    "    Document(content=\"Super appartement. Juste au dessus de plusieurs bars qui ferment très tard. A savoir à l'avance. (Bouchons d'oreilles fournis !)\"),\n",
    "    Document(content=\"El apartamento estaba genial y muy céntrico, todo a mano. Al lado de la librería Lello y De la Torre de los clérigos. Está situado en una zona de marcha, así que si vais en fin de semana , habrá ruido, aunque a nosotros no nos molestaba para dormir\"),\n",
    "    Document(content=\"The keypad with a code is convenient and the location is convenient. Basically everything else, very noisy, wi-fi didn't work, check-in person didn't explain anything about facilities, shower head was broken, there's no cleaning and everything else one may need is charged.\"),\n",
    "    Document(content=\"It is very central and appartement has a nice appearance (even though a lot IKEA stuff), *W A R N I N G the appartement presents itself as a elegant and as a place to relax, very wrong place to relax - you cannot sleep in this appartement, even the beds are vibrating from the bass of the clubs in the same building - you get ear plugs from the hotel -> now I understand why -> I missed a trip as it was so loud and I could not hear the alarm next day due to the ear plugs.- there is a green light indicating 'emergency exit' just above the bed, which shines very bright at night - during the arrival process, you felt the urge of the agent to leave as soon as possible. - try to go to 'RVA clerigos appartements' -> same price, super quiet, beautiful, city center and very nice staff (not an agency)- you are basically sleeping next to the fridge, which makes a lot of noise, when the compressor is running -> had to switch it off - but then had no cool food and drinks. - the bed was somehow broken down - the wooden part behind the bed was almost falling appart and some hooks were broken before- when the neighbour room is cooking you hear the fan very loud. I initially thought that I somehow activated the kitchen fan\"),\n",
    "    Document(content=\"Un peu salé surtout le sol. Manque de service et de souplesse\"),\n",
    "    Document(content=\"Nous avons passé un séjour formidable. Merci aux personnes , le bonjours à Ricardo notre taxi man, très sympathique. Je pense refaire un séjour parmi vous, après le confinement, tout était parfait, surtout leur gentillesse, aucune chaude négative. Je n'ai rien à redire de négative, Ils étaient a notre écoute, un gentil message tout les matins, pour nous demander si nous avions besoins de renseignement et savoir si tout allait bien pendant notre séjour.\"),\n",
    "    Document(content=\"Céntrico. Muy cómodo para moverse y ver Oporto. Edificio con terraza propia en la última planta. Todo reformado y nuevo. Te traen un estupendo desayuno todas las mañanas al apartamento. Solo que se puede escuchar algo de ruido de la calle a primeras horas de la noche. Es un zona de ocio nocturno. Pero respetan los horarios.\")\n",
    "]"
   ]
  },
  {
   "cell_type": "code",
   "execution_count": 4,
   "metadata": {},
   "outputs": [
    {
     "data": {
      "text/plain": [
       "<haystack.components.routers.metadata_router.MetadataRouter object at 0x15a08f8e0>\n",
       "Inputs:\n",
       "  - documents: List[Document]\n",
       "Outputs:\n",
       "  - unmatched: List[Document]\n",
       "  - en: List[Document]\n",
       "  - fr: List[Document]\n",
       "  - es: List[Document]"
      ]
     },
     "execution_count": 4,
     "metadata": {},
     "output_type": "execute_result"
    }
   ],
   "source": [
    "# 創建各語言的內存文件存儲：英語、法語、西班牙語\n",
    "en_document_store = InMemoryDocumentStore()\n",
    "fr_document_store = InMemoryDocumentStore()\n",
    "es_document_store = InMemoryDocumentStore()\n",
    "\n",
    "# 創建語言分類器\n",
    "language_classifier = DocumentLanguageClassifier(\n",
    "    languages=[\"en\", \"fr\", \"es\"]\n",
    ")\n",
    "\n",
    "# 創建元數據路由器，根據語言將文件路由到對應的寫入器\n",
    "router_rules = {\n",
    "    \"en\": {\"language\": {\"$eq\": \"en\"}},\n",
    "    \"fr\": {\"language\": {\"$eq\": \"fr\"}},\n",
    "    \"es\": {\"language\": {\"$eq\": \"es\"}}\n",
    "}\n",
    "router = MetadataRouter(rules=router_rules)\n",
    "# 輸出看一下\n",
    "router"
   ]
  },
  {
   "cell_type": "code",
   "execution_count": 5,
   "metadata": {},
   "outputs": [],
   "source": [
    "# 創建語言專用的寫入器\n",
    "en_writer = DocumentWriter(document_store=en_document_store)\n",
    "fr_writer = DocumentWriter(document_store=fr_document_store)\n",
    "es_writer = DocumentWriter(document_store=es_document_store)"
   ]
  },
  {
   "cell_type": "code",
   "execution_count": 6,
   "metadata": {},
   "outputs": [
    {
     "data": {
      "text/plain": [
       "<haystack.core.pipeline.pipeline.Pipeline object at 0x15a08f640>\n",
       "🚅 Components\n",
       "  - language_classifier: DocumentLanguageClassifier\n",
       "  - router: MetadataRouter\n",
       "  - en_writer: DocumentWriter\n",
       "  - fr_writer: DocumentWriter\n",
       "  - es_writer: DocumentWriter\n",
       "🛤️ Connections\n",
       "  - language_classifier.documents -> router.documents (List[Document])\n",
       "  - router.en -> en_writer.documents (List[Document])\n",
       "  - router.fr -> fr_writer.documents (List[Document])\n",
       "  - router.es -> es_writer.documents (List[Document])"
      ]
     },
     "execution_count": 6,
     "metadata": {},
     "output_type": "execute_result"
    }
   ],
   "source": [
    "# 創建管道\n",
    "indexing_pipeline = Pipeline()\n",
    "# 添加組件\n",
    "indexing_pipeline.add_component(\n",
    "    instance=language_classifier, name=\"language_classifier\"\n",
    ")\n",
    "indexing_pipeline.add_component(\n",
    "    instance=router, name=\"router\"\n",
    ")\n",
    "indexing_pipeline.add_component(\n",
    "    instance=en_writer, name=\"en_writer\"\n",
    ")\n",
    "indexing_pipeline.add_component(\n",
    "    instance=fr_writer, name=\"fr_writer\"\n",
    ")\n",
    "indexing_pipeline.add_component(\n",
    "    instance=es_writer, name=\"es_writer\"\n",
    ")\n",
    "\n",
    "# 連接組件\n",
    "indexing_pipeline.connect(\"language_classifier\", \"router\")\n",
    "indexing_pipeline.connect(\"router.en\", \"en_writer\")\n",
    "indexing_pipeline.connect(\"router.fr\", \"fr_writer\")\n",
    "indexing_pipeline.connect(\"router.es\", \"es_writer\")"
   ]
  },
  {
   "cell_type": "code",
   "execution_count": 7,
   "metadata": {},
   "outputs": [],
   "source": [
    "# 繪製管道圖\n",
    "indexing_pipeline.draw(\"indexing_pipeline.png\")"
   ]
  },
  {
   "cell_type": "code",
   "execution_count": 8,
   "metadata": {},
   "outputs": [
    {
     "data": {
      "text/plain": [
       "{'router': {'unmatched': []},\n",
       " 'en_writer': {'documents_written': 2},\n",
       " 'fr_writer': {'documents_written': 3},\n",
       " 'es_writer': {'documents_written': 2}}"
      ]
     },
     "execution_count": 8,
     "metadata": {},
     "output_type": "execute_result"
    }
   ],
   "source": [
    "# 運行管道，顯示寫入每個語言的文件數\n",
    "indexing_pipeline.run(\n",
    "    data={\"language_classifier\": {\"documents\": documents}}\n",
    ")"
   ]
  },
  {
   "cell_type": "code",
   "execution_count": 9,
   "metadata": {},
   "outputs": [
    {
     "name": "stdout",
     "output_type": "stream",
     "text": [
      "English documents:  [Document(id=8f64ab234c6a5d5652d02bed144d069ec6e988903b071d16fffbf400abfc1047, content: 'The keypad with a code is convenient and the location is convenient. Basically everything else, very...', meta: {'language': 'en'}), Document(id=1e65b29e0cdbf3263ccb2fa6807288c40eb48b37f04fd37e131e2759c9a017cd, content: 'It is very central and appartement has a nice appearance (even though a lot IKEA stuff), *W A R N I ...', meta: {'language': 'en'})]\n",
      "French documents:  [Document(id=ea7ea338874232de2d8105a258813f50345db82772e21ad2c4549dbb7adce8a3, content: 'Super appartement. Juste au dessus de plusieurs bars qui ferment très tard. A savoir à l'avance. (Bo...', meta: {'language': 'fr'}), Document(id=6b64c8a60543ee32b81cd39bc8d6e09fae4bff1b22c6ccdcf414db26fa354e7a, content: 'Un peu salé surtout le sol. Manque de service et de souplesse', meta: {'language': 'fr'}), Document(id=b1be23526f19a8af80a190e775bfd05e65878e585529037cb45b47267a4eaa98, content: 'Nous avons passé un séjour formidable. Merci aux personnes , le bonjours à Ricardo notre taxi man, t...', meta: {'language': 'fr'})]\n",
      "Spanish documents:  [Document(id=72b094c163b22a660528bc5adbdf0fecf96b4b4d753c1b117f15dba482d2f948, content: 'El apartamento estaba genial y muy céntrico, todo a mano. Al lado de la librería Lello y De la Torre...', meta: {'language': 'es'}), Document(id=4b37b8bdfffccfb3211ea167b4fdc5121ca51fc5f869b4f834e8da473f0d3353, content: 'Céntrico. Muy cómodo para moverse y ver Oporto. Edificio con terraza propia en la última planta. Tod...', meta: {'language': 'es'})]\n"
     ]
    }
   ],
   "source": [
    "print(\n",
    "    \"English documents: \",\n",
    "    en_document_store.filter_documents()\n",
    ")\n",
    "print(\n",
    "    \"French documents: \",\n",
    "    fr_document_store.filter_documents()\n",
    ")\n",
    "print(\n",
    "    \"Spanish documents: \",\n",
    "    es_document_store.filter_documents()\n",
    ")"
   ]
  },
  {
   "cell_type": "code",
   "execution_count": 12,
   "metadata": {},
   "outputs": [],
   "source": [
    "from getpass import getpass\n",
    "import os\n",
    "from dotenv import load_dotenv\n",
    "\n",
    "# 導入環境變數\n",
    "load_dotenv()\n",
    "os.environ[\"OPENAI_API_KEY\"] = os.getenv(\"OPENAI_API_KEY\")\n",
    "# 判斷是否寫入，若無則手動提供\n",
    "if \"OPENAI_API_KEY\" not in os.environ:\n",
    "    os.environ[\"OPENAI_API_KEY\"] = getpass(\"Enter OpenAI API key:\")"
   ]
  },
  {
   "cell_type": "code",
   "execution_count": 13,
   "metadata": {},
   "outputs": [],
   "source": [
    "# 導入 RAG 管道所需的組件\n",
    "from haystack.components.retrievers.in_memory import InMemoryBM25Retriever\n",
    "from haystack.components.joiners import DocumentJoiner\n",
    "from haystack.components.builders import PromptBuilder\n",
    "from haystack.components.generators import OpenAIGenerator\n",
    "from haystack.components.routers import TextLanguageRouter"
   ]
  },
  {
   "cell_type": "code",
   "execution_count": 16,
   "metadata": {},
   "outputs": [],
   "source": [
    "# 定義提示模板\n",
    "prompt_template = \"\"\"\n",
    "您將收到有關住宿的評論。\n",
    "僅根據給定的評論簡潔地回答問題。\n",
    "評論：\n",
    "{% for doc in documents %}\n",
    "    {{ doc.content }}\n",
    "{% endfor %}\n",
    "問題：{{ query}}\n",
    "答案：\n",
    "\"\"\""
   ]
  },
  {
   "cell_type": "code",
   "execution_count": 17,
   "metadata": {},
   "outputs": [],
   "source": [
    "# 創建 RAG 管道\n",
    "rag_pipeline = Pipeline()\n",
    "rag_pipeline.add_component(\n",
    "    instance=TextLanguageRouter([\"en\", \"fr\", \"es\"]),\n",
    "    name=\"router\"\n",
    ")\n",
    "rag_pipeline.add_component(\n",
    "    instance=InMemoryBM25Retriever(document_store=en_document_store),\n",
    "    name=\"en_retriever\"\n",
    ")\n",
    "rag_pipeline.add_component(\n",
    "    instance=InMemoryBM25Retriever(document_store=fr_document_store),\n",
    "    name=\"fr_retriever\"\n",
    ")\n",
    "rag_pipeline.add_component(\n",
    "    instance=InMemoryBM25Retriever(document_store=es_document_store),\n",
    "    name=\"es_retriever\"\n",
    ")\n",
    "rag_pipeline.add_component(\n",
    "    instance=DocumentJoiner(),\n",
    "    name=\"joiner\"\n",
    ")\n",
    "rag_pipeline.add_component(\n",
    "    instance=PromptBuilder(template=prompt_template),\n",
    "    name=\"prompt_builder\"\n",
    ")\n",
    "rag_pipeline.add_component(\n",
    "    instance=OpenAIGenerator(),\n",
    "    name=\"llm\"\n",
    ")"
   ]
  },
  {
   "cell_type": "code",
   "execution_count": 18,
   "metadata": {},
   "outputs": [],
   "source": [
    "# 繪製管道圖\n",
    "rag_pipeline.draw(\"rag_pipeline.png\")"
   ]
  }
 ],
 "metadata": {
  "kernelspec": {
   "display_name": "envHaystack",
   "language": "python",
   "name": "python3"
  },
  "language_info": {
   "codemirror_mode": {
    "name": "ipython",
    "version": 3
   },
   "file_extension": ".py",
   "mimetype": "text/x-python",
   "name": "python",
   "nbconvert_exporter": "python",
   "pygments_lexer": "ipython3",
   "version": "3.10.11"
  }
 },
 "nbformat": 4,
 "nbformat_minor": 2
}
