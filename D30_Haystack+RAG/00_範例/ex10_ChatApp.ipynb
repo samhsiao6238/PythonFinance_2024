{
 "cells": [
  {
   "cell_type": "markdown",
   "metadata": {},
   "source": [
    "保存 OpenAI API Key 為環境變量"
   ]
  },
  {
   "cell_type": "code",
   "execution_count": 1,
   "metadata": {},
   "outputs": [],
   "source": [
    "from getpass import getpass\n",
    "import os\n",
    "from dotenv import load_dotenv\n",
    "\n",
    "# 載入環境變數\n",
    "load_dotenv()\n",
    "# 兩個 API 的密鑰\n",
    "os.environ[\"OPENAI_API_KEY\"] = os.getenv(\"OPENAI_API_KEY\")\n",
    "\n",
    "if \"OPENAI_API_KEY\" not in os.environ:\n",
    "    os.environ[\"OPENAI_API_KEY\"] = getpass(\"Enter OpenAI API key:\")"
   ]
  },
  {
   "cell_type": "code",
   "execution_count": 2,
   "metadata": {},
   "outputs": [
    {
     "name": "stderr",
     "output_type": "stream",
     "text": [
      "/Users/samhsiao/Documents/PythonVenv/envHaystack/lib/python3.10/site-packages/tqdm/auto.py:21: TqdmWarning: IProgress not found. Please update jupyter and ipywidgets. See https://ipywidgets.readthedocs.io/en/stable/user_install.html\n",
      "  from .autonotebook import tqdm as notebook_tqdm\n"
     ]
    },
    {
     "data": {
      "text/plain": [
       "{'replies': [ChatMessage(content='自然語言處理（Natural Language Processing，縮寫為NLP）是一門跨領域的科學技術，主要研究如何讓計算機自動地理解和處理人類語言的方法和技術。這包括從語言學基礔到複雜的演算法和模型，目的在於實現與人類語言相關的各程自動化任務，例如語音識別、機器翻譯、情感分析以及自動摘要等。', role=<ChatRole.ASSISTANT: 'assistant'>, name=None, meta={'model': 'gpt-4-turbo-2024-04-09', 'index': 0, 'finish_reason': 'stop', 'usage': {'completion_tokens': 174, 'prompt_tokens': 71, 'total_tokens': 245}})]}"
      ]
     },
     "execution_count": 2,
     "metadata": {},
     "output_type": "execute_result"
    }
   ],
   "source": [
    "from haystack.dataclasses import ChatMessage\n",
    "from haystack.components.generators.chat import OpenAIChatGenerator\n",
    "\n",
    "# 建立系統消息和用戶消息的 ChatMessage 對象\n",
    "messages = [\n",
    "    ChatMessage.from_system(\n",
    "        \"即使某些輸入資料採用其他語言，也始終以繁體中文回應。\"\n",
    "    ),\n",
    "    ChatMessage.from_user(\n",
    "        \"什麼是自然語言處理？要簡潔。\"\n",
    "    ),\n",
    "]\n",
    "\n",
    "# 初始化 OpenAIChatGenerator\n",
    "chat_generator = OpenAIChatGenerator(model=\"gpt-4-turbo\")\n",
    "# 傳入消息並運行\n",
    "chat_generator.run(messages=messages)"
   ]
  },
  {
   "cell_type": "code",
   "execution_count": 3,
   "metadata": {},
   "outputs": [
    {
     "name": "stdout",
     "output_type": "stream",
     "text": [
      "自然語言虠理（Natural Language Processing, NLP）是計算機科學、人工智能與語言學領域的交叉學科，旨在讓計算機能夠理解、解釋和生成人類語言。透過NLP，機器可以執行語音識別、機器翻譯、情感分析等任務。"
     ]
    }
   ],
   "source": [
    "from haystack.dataclasses import ChatMessage\n",
    "from haystack.components.generators.chat import OpenAIChatGenerator\n",
    "from haystack.components.generators.utils import print_streaming_chunk\n",
    "\n",
    "# 使用流式回調函數初始化 OpenAIChatGenerator\n",
    "chat_generator = OpenAIChatGenerator(\n",
    "    model=\"gpt-4-turbo\",\n",
    "    streaming_callback=print_streaming_chunk\n",
    ")\n",
    "# 傳入消息並運行\n",
    "response = chat_generator.run(messages=messages)"
   ]
  },
  {
   "cell_type": "code",
   "execution_count": 4,
   "metadata": {},
   "outputs": [
    {
     "name": "stderr",
     "output_type": "stream",
     "text": [
      "/Users/samhsiao/Documents/PythonVenv/envHaystack/lib/python3.10/site-packages/sentence_transformers/SentenceTransformer.py:174: FutureWarning: The `use_auth_token` argument is deprecated and will be removed in v3 of SentenceTransformers.\n",
      "  warnings.warn(\n",
      "/Users/samhsiao/Documents/PythonVenv/envHaystack/lib/python3.10/site-packages/huggingface_hub/file_download.py:1132: FutureWarning: `resume_download` is deprecated and will be removed in version 1.0.0. Downloads always resume when possible. If you want to force a new download, use `force_download=True`.\n",
      "  warnings.warn(\n",
      "Batches: 100%|██████████| 1/1 [00:00<00:00,  4.73it/s]\n"
     ]
    },
    {
     "data": {
      "text/plain": [
       "{'doc_writer': {'documents_written': 5}}"
      ]
     },
     "execution_count": 4,
     "metadata": {},
     "output_type": "execute_result"
    }
   ],
   "source": [
    "from haystack import Pipeline, Document\n",
    "from haystack.document_stores.in_memory import InMemoryDocumentStore\n",
    "from haystack.components.writers import DocumentWriter\n",
    "from haystack.components.embedders import SentenceTransformersDocumentEmbedder\n",
    "\n",
    "# 建立文件\n",
    "# documents = [\n",
    "#     Document(content=\"我的名字是 Jean，我住在 Paris。\"),\n",
    "#     Document(content=\"我的名字是 Mark，我住在 Berlin。\"),\n",
    "#     Document(content=\"我的名字是 Giorgio，我住在 Rome。\"),\n",
    "#     Document(content=\"我的名字是 Marta，我住在 Madrid。\"),\n",
    "#     Document(content=\"我的名字是 Harry，我住在 London。\"),\n",
    "# ]\n",
    "documents = [\n",
    "    Document(content=\"My name is Jean and I live in Paris.\"),\n",
    "    Document(content=\"My name is Mark and I live in Berlin.\"),\n",
    "    Document(content=\"My name is Giorgio and I live in Rome.\"),\n",
    "    Document(content=\"My name is Marta and I live in Madrid.\"),\n",
    "    Document(content=\"My name is Harry and I live in London.\"),\n",
    "]\n",
    "# 初始化內存文件儲存\n",
    "document_store = InMemoryDocumentStore()\n",
    "\n",
    "# 建立索引管道\n",
    "indexing_pipeline = Pipeline()\n",
    "indexing_pipeline.add_component(\n",
    "    instance=SentenceTransformersDocumentEmbedder(model=\"sentence-transformers/all-MiniLM-L6-v2\"), name=\"doc_embedder\"\n",
    ")\n",
    "indexing_pipeline.add_component(\n",
    "    instance=DocumentWriter(document_store=document_store),\n",
    "    name=\"doc_writer\"\n",
    ")\n",
    "\n",
    "# 連接嵌入器和文件寫入器\n",
    "indexing_pipeline.connect(\n",
    "    \"doc_embedder.documents\",\n",
    "    \"doc_writer.documents\"\n",
    ")\n",
    "\n",
    "# 運行管道\n",
    "indexing_pipeline.run({\n",
    "    \"doc_embedder\": {\"documents\": documents}\n",
    "})"
   ]
  },
  {
   "cell_type": "code",
   "execution_count": 5,
   "metadata": {},
   "outputs": [
    {
     "data": {
      "text/plain": [
       "<haystack.core.pipeline.pipeline.Pipeline object at 0x158c079d0>\n",
       "🚅 Components\n",
       "  - embedder: SentenceTransformersTextEmbedder\n",
       "  - retriever: InMemoryEmbeddingRetriever\n",
       "  - prompt_builder: PromptBuilder\n",
       "  - llm: OpenAIGenerator\n",
       "🛤️ Connections\n",
       "  - embedder.embedding -> retriever.query_embedding (List[float])\n",
       "  - retriever.documents -> prompt_builder.documents (List[Document])\n",
       "  - prompt_builder.prompt -> llm.prompt (str)"
      ]
     },
     "execution_count": 5,
     "metadata": {},
     "output_type": "execute_result"
    }
   ],
   "source": [
    "from haystack.components.embedders import SentenceTransformersTextEmbedder\n",
    "from haystack.components.retrievers.in_memory import InMemoryEmbeddingRetriever\n",
    "from haystack.components.builders import PromptBuilder\n",
    "from haystack.components.generators import OpenAIGenerator\n",
    "\n",
    "# 定義提示模板\n",
    "template = \"\"\"\n",
    "根據給定的上下文回答問題。\n",
    "\n",
    "上下文:\n",
    "{% for document in documents %}\n",
    "    {{ document.content }}\n",
    "{% endfor %}\n",
    "問題: {{ question }}\n",
    "答案:\n",
    "\"\"\"\n",
    "\n",
    "# 建立 RAG 管道\n",
    "rag_pipe = Pipeline()\n",
    "rag_pipe.add_component(\n",
    "    \"embedder\",\n",
    "    SentenceTransformersTextEmbedder(\n",
    "        model=\"sentence-transformers/all-MiniLM-L6-v2\"\n",
    "    )\n",
    ")\n",
    "rag_pipe.add_component(\n",
    "    \"retriever\",\n",
    "    InMemoryEmbeddingRetriever(\n",
    "        document_store=document_store\n",
    "    )\n",
    ")\n",
    "rag_pipe.add_component(\n",
    "    \"prompt_builder\",\n",
    "    PromptBuilder(\n",
    "        template=template\n",
    "    )\n",
    ")\n",
    "rag_pipe.add_component(\n",
    "    \"llm\",\n",
    "    OpenAIGenerator(model=\"gpt-4-turbo\")\n",
    ")\n",
    "\n",
    "# 連接組件\n",
    "rag_pipe.connect(\n",
    "    \"embedder.embedding\",\n",
    "    \"retriever.query_embedding\"\n",
    ")\n",
    "rag_pipe.connect(\n",
    "    \"retriever\",\n",
    "    \"prompt_builder.documents\"\n",
    ")\n",
    "rag_pipe.connect(\n",
    "    \"prompt_builder\",\n",
    "    \"llm\"\n",
    ")"
   ]
  },
  {
   "cell_type": "code",
   "execution_count": 6,
   "metadata": {},
   "outputs": [
    {
     "name": "stderr",
     "output_type": "stream",
     "text": [
      "Batches: 100%|██████████| 1/1 [00:00<00:00,  8.82it/s]\n"
     ]
    },
    {
     "data": {
      "text/plain": [
       "{'llm': {'replies': ['Mark 住在 Berlin.'],\n",
       "  'meta': [{'model': 'gpt-4-turbo-2024-04-09',\n",
       "    'index': 0,\n",
       "    'finish_reason': 'stop',\n",
       "    'usage': {'completion_tokens': 7,\n",
       "     'prompt_tokens': 107,\n",
       "     'total_tokens': 114}}]}}"
      ]
     },
     "execution_count": 6,
     "metadata": {},
     "output_type": "execute_result"
    }
   ],
   "source": [
    "query = \"Mark 住在哪裡？\"\n",
    "rag_pipe.run({\n",
    "    \"embedder\": {\"text\": query},\n",
    "    \"prompt_builder\": {\"question\": query}\n",
    "})"
   ]
  },
  {
   "cell_type": "code",
   "execution_count": 7,
   "metadata": {},
   "outputs": [],
   "source": [
    "def rag_pipeline_func(query: str):\n",
    "    result = rag_pipe.run({\n",
    "        \"embedder\": {\"text\": query},\n",
    "        \"prompt_builder\": {\"question\": query}\n",
    "    })\n",
    "    return {\"reply\": result[\"llm\"][\"replies\"][0]}"
   ]
  },
  {
   "cell_type": "code",
   "execution_count": 8,
   "metadata": {},
   "outputs": [],
   "source": [
    "WEATHER_INFO = {\n",
    "    \"Berlin\": {\n",
    "        \"weather\": \"mostly sunny\", \"temperature\": 7, \"unit\": \"celsius\"\n",
    "    },\n",
    "    \"Paris\": {\n",
    "        \"weather\": \"mostly cloudy\", \"temperature\": 8, \"unit\": \"celsius\"\n",
    "    },\n",
    "    \"Rome\": {\n",
    "        \"weather\": \"sunny\", \"temperature\": 14, \"unit\": \"celsius\"\n",
    "    },\n",
    "    \"Madrid\": {\n",
    "        \"weather\": \"sunny\", \"temperature\": 10, \"unit\": \"celsius\"\n",
    "    },\n",
    "    \"London\": {\n",
    "        \"weather\": \"cloudy\", \"temperature\": 9, \"unit\": \"celsius\"\n",
    "    },\n",
    "}\n",
    "\n",
    "def get_current_weather(location: str):\n",
    "    if location in WEATHER_INFO:\n",
    "        return WEATHER_INFO[location]\n",
    "    else:\n",
    "        # 回退數據\n",
    "        return {\n",
    "            \"weather\": \"狂風暴雨\",\n",
    "            \"temperature\": 99.9,\n",
    "            \"unit\": \"fahrenheit\"\n",
    "        }\n"
   ]
  },
  {
   "cell_type": "code",
   "execution_count": 9,
   "metadata": {},
   "outputs": [],
   "source": [
    "tools = [\n",
    "    {\n",
    "        \"type\": \"function\",\n",
    "        \"function\": {\n",
    "            \"name\": \"rag_pipeline_func\",\n",
    "            \"description\": \"獲取有關人們居住地點的信息\",\n",
    "            \"parameters\": {\n",
    "                \"type\": \"object\",\n",
    "                \"properties\": {\n",
    "                    \"query\": {\n",
    "                        \"type\": \"string\",\n",
    "                        \"description\": \"搜尋中使用的查詢。從用戶的消息中推斷出這一點。它應該是一個問題或一個陳述。\",\n",
    "                    }\n",
    "                },\n",
    "                \"required\": [\"query\"],\n",
    "            },\n",
    "        },\n",
    "    },\n",
    "    {\n",
    "        \"type\": \"function\",\n",
    "        \"function\": {\n",
    "            \"name\": \"get_current_weather\",\n",
    "            \"description\": \"取得當前天氣\",\n",
    "            \"parameters\": {\n",
    "                \"type\": \"object\",\n",
    "                \"properties\": {\n",
    "                    \"location\": {\n",
    "                        \"type\": \"string\",\n",
    "                        \"description\": \"城市和州，例如加州舊金山\"\n",
    "                    }\n",
    "                },\n",
    "                \"required\": [\"location\"],\n",
    "            },\n",
    "        },\n",
    "    },\n",
    "]"
   ]
  },
  {
   "cell_type": "code",
   "execution_count": 10,
   "metadata": {},
   "outputs": [
    {
     "name": "stdout",
     "output_type": "stream",
     "text": [
      "{'replies': [ChatMessage(content='[{\"index\": 0, \"id\": \"call_PK1299vodTJ4uFSyAUVXp741\", \"function\": {\"arguments\": \"{\\\\\"query\\\\\":\\\\\"Where does Mark live?\\\\\"}\", \"name\": \"rag_pipeline_func\"}, \"type\": \"function\"}]', role=<ChatRole.ASSISTANT: 'assistant'>, name=None, meta={'model': 'gpt-4-turbo-2024-04-09', 'index': 0, 'finish_reason': 'tool_calls', 'usage': {}})]}\n"
     ]
    }
   ],
   "source": [
    "from haystack.dataclasses import ChatMessage\n",
    "from haystack.components.generators.chat import OpenAIChatGenerator\n",
    "from haystack.components.generators.utils import print_streaming_chunk\n",
    "\n",
    "# 建立消息列表，包含系統消息和用戶查詢\n",
    "messages = [\n",
    "    ChatMessage.from_system(\n",
    "        \"不要假設將哪些值插入函數中。如果用戶要求不明確，請要求澄清。\"\n",
    "    ),\n",
    "    ChatMessage.from_user(\"你能告訴我 Mark 住在哪裡嗎？\"),\n",
    "]\n",
    "\n",
    "# 初始化 OpenAIChatGenerator\n",
    "chat_generator = OpenAIChatGenerator(\n",
    "    model=\"gpt-4-turbo\",\n",
    "    streaming_callback=print_streaming_chunk\n",
    ")\n",
    "# 傳入消息和工具列表並運行\n",
    "response = chat_generator.run(\n",
    "    messages=messages,\n",
    "    generation_kwargs={\"tools\": tools}\n",
    ")\n",
    "# 輸出查看\n",
    "print(response)"
   ]
  },
  {
   "cell_type": "code",
   "execution_count": 11,
   "metadata": {},
   "outputs": [
    {
     "name": "stdout",
     "output_type": "stream",
     "text": [
      "Function Name: rag_pipeline_func\n",
      "Function Arguments: {'query': 'Where does Mark live?'}\n"
     ]
    },
    {
     "name": "stderr",
     "output_type": "stream",
     "text": [
      "Batches: 100%|██████████| 1/1 [00:00<00:00, 11.72it/s]\n"
     ]
    },
    {
     "name": "stdout",
     "output_type": "stream",
     "text": [
      "Function Response: {'reply': 'Berlin'}\n"
     ]
    }
   ],
   "source": [
    "import json\n",
    "\n",
    "# 解析函數調用信息\n",
    "# 提取第一個回應中的 content\n",
    "content = response['replies'][0].content\n",
    "\n",
    "# 將 content 解析為 JSON\n",
    "# content 是一個 JSON 字串，需要轉換為 Python 字典\n",
    "function_calls = json.loads(content)\n",
    "\n",
    "# 提取第一個函數調用信息\n",
    "# 提取函數調用列表中的第一個元素\n",
    "function_call = function_calls[0]\n",
    "\n",
    "# 獲取函數名稱\n",
    "# 獲取函數名稱，這是我們需要調用的函數\n",
    "function_name = function_call['function']['name']\n",
    "\n",
    "# 解析函數參數\n",
    "# 將參數解析為字典格式\n",
    "function_args = json.loads(function_call['function']['arguments'])\n",
    "\n",
    "# 打印函數名稱和參數\n",
    "print(\"Function Name:\", function_name)\n",
    "print(\"Function Arguments:\", function_args)\n",
    "\n",
    "\n",
    "# 可用函數字典\n",
    "available_functions = {\n",
    "    \"rag_pipeline_func\": rag_pipeline_func,\n",
    "    \"get_current_weather\": get_current_weather\n",
    "}\n",
    "\n",
    "# 搜尋相應的函數並使用給定的參數調用它\n",
    "if function_name in available_functions:\n",
    "    # 根據函數名稱找到對應的函數\n",
    "    function_to_call = available_functions[function_name]\n",
    "    # 使用解包操作將參數傳遞給函數\n",
    "    function_response = function_to_call(**function_args)\n",
    "    # 打印函數的返回值\n",
    "    print(\"Function Response:\", function_response)\n",
    "else:\n",
    "    # 如果函數名稱未找到，打印錯誤訊息\n",
    "    print(f\"Function {function_name} not found.\")"
   ]
  },
  {
   "cell_type": "code",
   "execution_count": 12,
   "metadata": {},
   "outputs": [
    {
     "name": "stdout",
     "output_type": "stream",
     "text": [
      "Mark 住在柏林。"
     ]
    }
   ],
   "source": [
    "from haystack.dataclasses import ChatMessage\n",
    "\n",
    "# 建立函數回應消息\n",
    "function_message = ChatMessage.from_function(\n",
    "    content=json.dumps(function_response),\n",
    "    name=function_name\n",
    ")\n",
    "# 將函數回應消息添加到消息列表\n",
    "messages.append(function_message)\n",
    "\n",
    "# 再次運行 OpenAIChatGenerator\n",
    "response = chat_generator.run(\n",
    "    messages=messages,\n",
    "    generation_kwargs={\"tools\": tools}\n",
    ")"
   ]
  },
  {
   "cell_type": "code",
   "execution_count": 13,
   "metadata": {},
   "outputs": [],
   "source": [
    "import gradio as gr\n",
    "import json\n",
    "\n",
    "from haystack.dataclasses import ChatMessage\n",
    "from haystack.components.generators.chat import OpenAIChatGenerator\n",
    "\n",
    "chat_generator = OpenAIChatGenerator(model=\"gpt-4-turbo\")\n",
    "response = None\n",
    "messages = [\n",
    "    ChatMessage.from_system(\n",
    "        \"不要假設將哪些值插入函數中。\"\n",
    "        \"如果用戶要求不明確，請要求澄清。\"\n",
    "    )\n",
    "]\n",
    "\n",
    "# 定義聊天機器人函數\n",
    "def chatbot_with_fc(message, history):\n",
    "    messages.append(ChatMessage.from_user(message))\n",
    "    response = chat_generator.run(messages=messages, generation_kwargs={\"tools\": tools})\n",
    "\n",
    "    while True:\n",
    "        # 如果 OpenAI 回應是一個工具調用\n",
    "        if response and response[\"replies\"][0].meta[\"finish_reason\"] == \"tool_calls\":\n",
    "            function_calls = json.loads(response[\"replies\"][0].content)\n",
    "            print(response[\"replies\"][0])\n",
    "            for function_call in function_calls:\n",
    "                # 解析函數調用信息\n",
    "                function_name = function_call[\"function\"][\"name\"]\n",
    "                function_args = json.loads(function_call[\"function\"][\"arguments\"])\n",
    "\n",
    "                # 搜尋相應的函數並使用給定的參數調用它\n",
    "                function_to_call = available_functions[function_name]\n",
    "                function_response = function_to_call(function_args)\n",
    "\n",
    "                # 使用 `ChatMessage.from_function` 將函數回應添加到消息列表\n",
    "                messages.append(ChatMessage.from_function(content=json.dumps(function_response), name=function_name))\n",
    "                response = chat_generator.run(messages=messages, generation_kwargs={\"tools\": tools})\n",
    "\n",
    "        # 常規對話\n",
    "        else:\n",
    "            messages.append(response[\"replies\"][0])\n",
    "            break\n",
    "    return response[\"replies\"][0].content\n",
    "\n",
    "# 建立聊天界面\n",
    "demo = gr.ChatInterface(\n",
    "    fn=chatbot_with_fc,\n",
    "    # 顯示在下方的範例欄位\n",
    "    examples=[\n",
    "        \"你能告訴我 Giorgio 住在哪裡嗎？\",\n",
    "        \"Madrid 的天氣怎麼樣？\",\n",
    "        \"誰住在 London?\",\n",
    "        \"Mark 住的地方的天氣怎麼樣？\",\n",
    "    ],\n",
    "    title=\"請詢問有關天氣或人們居住的地方。\",\n",
    ")"
   ]
  },
  {
   "cell_type": "code",
   "execution_count": 14,
   "metadata": {},
   "outputs": [
    {
     "name": "stdout",
     "output_type": "stream",
     "text": [
      "Running on local URL:  http://127.0.0.1:7860\n",
      "\n",
      "To create a public link, set `share=True` in `launch()`.\n"
     ]
    },
    {
     "data": {
      "text/html": [
       "<div><iframe src=\"http://127.0.0.1:7860/\" width=\"100%\" height=\"500\" allow=\"autoplay; camera; microphone; clipboard-read; clipboard-write;\" frameborder=\"0\" allowfullscreen></iframe></div>"
      ],
      "text/plain": [
       "<IPython.core.display.HTML object>"
      ]
     },
     "metadata": {},
     "output_type": "display_data"
    },
    {
     "data": {
      "text/plain": []
     },
     "execution_count": 14,
     "metadata": {},
     "output_type": "execute_result"
    }
   ],
   "source": [
    "# 啟動聊天應用程序\n",
    "demo.launch()"
   ]
  }
 ],
 "metadata": {
  "kernelspec": {
   "display_name": "envHaystack",
   "language": "python",
   "name": "python3"
  },
  "language_info": {
   "codemirror_mode": {
    "name": "ipython",
    "version": 3
   },
   "file_extension": ".py",
   "mimetype": "text/x-python",
   "name": "python",
   "nbconvert_exporter": "python",
   "pygments_lexer": "ipython3",
   "version": "3.10.11"
  }
 },
 "nbformat": 4,
 "nbformat_minor": 2
}
