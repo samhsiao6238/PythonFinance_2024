{
 "cells": [
  {
   "cell_type": "code",
   "execution_count": 2,
   "metadata": {},
   "outputs": [],
   "source": [
    "from typing import List\n",
    "from pydantic import BaseModel\n",
    "\n",
    "\n",
    "class City(BaseModel):\n",
    "    # 城市名稱\n",
    "    name: str\n",
    "    # 國家\n",
    "    country: str\n",
    "    # 人口\n",
    "    population: int\n",
    "\n",
    "\n",
    "class CitiesData(BaseModel):\n",
    "    # 城市列表\n",
    "    cities: List[City]"
   ]
  },
  {
   "cell_type": "code",
   "execution_count": 5,
   "metadata": {},
   "outputs": [
    {
     "data": {
      "text/plain": [
       "'{\\n  \"$defs\": {\\n    \"City\": {\\n      \"properties\": {\\n        \"name\": {\\n          \"title\": \"Name\",\\n          \"type\": \"string\"\\n        },\\n        \"country\": {\\n          \"title\": \"Country\",\\n          \"type\": \"string\"\\n        },\\n        \"population\": {\\n          \"title\": \"Population\",\\n          \"type\": \"integer\"\\n        }\\n      },\\n      \"required\": [\\n        \"name\",\\n        \"country\",\\n        \"population\"\\n      ],\\n      \"title\": \"City\",\\n      \"type\": \"object\"\\n    }\\n  },\\n  \"properties\": {\\n    \"cities\": {\\n      \"items\": {\\n        \"$ref\": \"#/$defs/City\"\\n      },\\n      \"title\": \"Cities\",\\n      \"type\": \"array\"\\n    }\\n  },\\n  \"required\": [\\n    \"cities\"\\n  ],\\n  \"title\": \"CitiesData\",\\n  \"type\": \"object\"\\n}'"
      ]
     },
     "execution_count": 5,
     "metadata": {},
     "output_type": "execute_result"
    }
   ],
   "source": [
    "json_schema = CitiesData.schema_json(indent=2)\n",
    "json_schema"
   ]
  },
  {
   "cell_type": "code",
   "execution_count": 6,
   "metadata": {},
   "outputs": [
    {
     "name": "stderr",
     "output_type": "stream",
     "text": [
      "/Users/samhsiao/Documents/PythonVenv/envHaystack/lib/python3.10/site-packages/tqdm/auto.py:21: TqdmWarning: IProgress not found. Please update jupyter and ipywidgets. See https://ipywidgets.readthedocs.io/en/stable/user_install.html\n",
      "  from .autonotebook import tqdm as notebook_tqdm\n"
     ]
    }
   ],
   "source": [
    "import json\n",
    "import random\n",
    "import pydantic\n",
    "from pydantic import ValidationError\n",
    "from typing import Optional, List\n",
    "from colorama import Fore\n",
    "from haystack import component\n",
    "\n",
    "# 定義組件的輸入參數\n",
    "@component\n",
    "class OutputValidator:\n",
    "    def __init__(self, pydantic_model: pydantic.BaseModel):\n",
    "        self.pydantic_model = pydantic_model  # 保存 Pydantic 模型\n",
    "        self.iteration_counter = 0  # 初始化循環計數器\n",
    "\n",
    "    # 定義組件的輸出\n",
    "    @component.output_types(valid_replies=List[str], invalid_replies=Optional[List[str]], error_message=Optional[str])\n",
    "    def run(self, replies: List[str]):\n",
    "        self.iteration_counter += 1  # 增加循環計數器\n",
    "\n",
    "        ## 嘗試解析 LLM 的回覆 ##\n",
    "        # 如果 LLM 的回覆是一個有效的對象，返回 `\"valid_replies\"`\n",
    "        try:\n",
    "            output_dict = json.loads(replies[0])  # 解析回覆為字典\n",
    "            self.pydantic_model.parse_obj(output_dict)  # 使用 Pydantic 模型進行驗證\n",
    "            print(\n",
    "                Fore.GREEN\n",
    "                + f\"OutputValidator at Iteration {self.iteration_counter}: Valid JSON from LLM - No need for looping: {replies[0]}\"\n",
    "            )\n",
    "            return {\"valid_replies\": replies}\n",
    "\n",
    "        # 如果 LLM 的回覆損壞或無效，返回 \"invalid_replies\" 和 \"error_message\" 以便 LLM 重試\n",
    "        except (ValueError, ValidationError) as e:\n",
    "            print(\n",
    "                Fore.RED\n",
    "                + f\"OutputValidator at Iteration {self.iteration_counter}: Invalid JSON from LLM - Let's try again.\\n\"\n",
    "                f\"Output from LLM:\\n {replies[0]} \\n\"\n",
    "                f\"Error from OutputValidator: {e}\"\n",
    "            )\n",
    "            return {\"invalid_replies\": replies, \"error_message\": str(e)}"
   ]
  },
  {
   "cell_type": "code",
   "execution_count": 10,
   "metadata": {},
   "outputs": [
    {
     "data": {
      "text/plain": [
       "<__main__.OutputValidator object at 0x1453c1ba0>\n",
       "Inputs:\n",
       "  - replies: List[str]\n",
       "Outputs:\n",
       "  - valid_replies: List[str]\n",
       "  - invalid_replies: Optional[List[str]]\n",
       "  - error_message: Optional[str]"
      ]
     },
     "execution_count": 10,
     "metadata": {},
     "output_type": "execute_result"
    }
   ],
   "source": [
    "output_validator = OutputValidator(pydantic_model=CitiesData)\n",
    "output_validator"
   ]
  }
 ],
 "metadata": {
  "kernelspec": {
   "display_name": "envHaystack",
   "language": "python",
   "name": "python3"
  },
  "language_info": {
   "codemirror_mode": {
    "name": "ipython",
    "version": 3
   },
   "file_extension": ".py",
   "mimetype": "text/x-python",
   "name": "python",
   "nbconvert_exporter": "python",
   "pygments_lexer": "ipython3",
   "version": "3.10.11"
  }
 },
 "nbformat": 4,
 "nbformat_minor": 2
}
