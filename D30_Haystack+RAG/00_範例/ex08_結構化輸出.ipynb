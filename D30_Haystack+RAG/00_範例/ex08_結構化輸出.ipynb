{
 "cells": [
  {
   "cell_type": "code",
   "execution_count": 1,
   "metadata": {},
   "outputs": [],
   "source": [
    "from typing import List\n",
    "from pydantic import BaseModel\n",
    "\n",
    "class City(BaseModel):\n",
    "    # 城市名稱\n",
    "    name: str\n",
    "    # 國家\n",
    "    country: str\n",
    "    # 人口\n",
    "    population: int\n",
    "\n",
    "class CitiesData(BaseModel):\n",
    "    # 城市列表\n",
    "    cities: List[City]"
   ]
  }
 ],
 "metadata": {
  "kernelspec": {
   "display_name": "envHaystack",
   "language": "python",
   "name": "python3"
  },
  "language_info": {
   "codemirror_mode": {
    "name": "ipython",
    "version": 3
   },
   "file_extension": ".py",
   "mimetype": "text/x-python",
   "name": "python",
   "nbconvert_exporter": "python",
   "pygments_lexer": "ipython3",
   "version": "3.10.11"
  }
 },
 "nbformat": 4,
 "nbformat_minor": 2
}
