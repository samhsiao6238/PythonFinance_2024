{
 "cells": [
  {
   "cell_type": "code",
   "execution_count": 2,
   "metadata": {},
   "outputs": [],
   "source": [
    "from typing import List\n",
    "from pydantic import BaseModel\n",
    "\n",
    "\n",
    "class City(BaseModel):\n",
    "    # 城市名稱\n",
    "    name: str\n",
    "    # 國家\n",
    "    country: str\n",
    "    # 人口\n",
    "    population: int\n",
    "\n",
    "\n",
    "class CitiesData(BaseModel):\n",
    "    # 城市列表\n",
    "    cities: List[City]"
   ]
  },
  {
   "cell_type": "code",
   "execution_count": 5,
   "metadata": {},
   "outputs": [
    {
     "data": {
      "text/plain": [
       "'{\\n  \"$defs\": {\\n    \"City\": {\\n      \"properties\": {\\n        \"name\": {\\n          \"title\": \"Name\",\\n          \"type\": \"string\"\\n        },\\n        \"country\": {\\n          \"title\": \"Country\",\\n          \"type\": \"string\"\\n        },\\n        \"population\": {\\n          \"title\": \"Population\",\\n          \"type\": \"integer\"\\n        }\\n      },\\n      \"required\": [\\n        \"name\",\\n        \"country\",\\n        \"population\"\\n      ],\\n      \"title\": \"City\",\\n      \"type\": \"object\"\\n    }\\n  },\\n  \"properties\": {\\n    \"cities\": {\\n      \"items\": {\\n        \"$ref\": \"#/$defs/City\"\\n      },\\n      \"title\": \"Cities\",\\n      \"type\": \"array\"\\n    }\\n  },\\n  \"required\": [\\n    \"cities\"\\n  ],\\n  \"title\": \"CitiesData\",\\n  \"type\": \"object\"\\n}'"
      ]
     },
     "execution_count": 5,
     "metadata": {},
     "output_type": "execute_result"
    }
   ],
   "source": [
    "json_schema = CitiesData.schema_json(indent=2)\n",
    "json_schema"
   ]
  },
  {
   "cell_type": "code",
   "execution_count": 6,
   "metadata": {},
   "outputs": [
    {
     "name": "stderr",
     "output_type": "stream",
     "text": [
      "/Users/samhsiao/Documents/PythonVenv/envHaystack/lib/python3.10/site-packages/tqdm/auto.py:21: TqdmWarning: IProgress not found. Please update jupyter and ipywidgets. See https://ipywidgets.readthedocs.io/en/stable/user_install.html\n",
      "  from .autonotebook import tqdm as notebook_tqdm\n"
     ]
    }
   ],
   "source": [
    "import json\n",
    "import random\n",
    "import pydantic\n",
    "from pydantic import ValidationError\n",
    "from typing import Optional, List\n",
    "from colorama import Fore\n",
    "from haystack import component\n",
    "\n",
    "# 定義組件的輸入參數\n",
    "@component\n",
    "class OutputValidator:\n",
    "    def __init__(self, pydantic_model: pydantic.BaseModel):\n",
    "        self.pydantic_model = pydantic_model  # 保存 Pydantic 模型\n",
    "        self.iteration_counter = 0  # 初始化循環計數器\n",
    "\n",
    "    # 定義組件的輸出\n",
    "    @component.output_types(valid_replies=List[str], invalid_replies=Optional[List[str]], error_message=Optional[str])\n",
    "    def run(self, replies: List[str]):\n",
    "        self.iteration_counter += 1  # 增加循環計數器\n",
    "\n",
    "        ## 嘗試解析 LLM 的回覆 ##\n",
    "        # 如果 LLM 的回覆是一個有效的對象，返回 `\"valid_replies\"`\n",
    "        try:\n",
    "            output_dict = json.loads(replies[0])  # 解析回覆為字典\n",
    "            self.pydantic_model.parse_obj(output_dict)  # 使用 Pydantic 模型進行驗證\n",
    "            print(\n",
    "                Fore.GREEN\n",
    "                + f\"OutputValidator at Iteration {self.iteration_counter}: Valid JSON from LLM - No need for looping: {replies[0]}\"\n",
    "            )\n",
    "            return {\"valid_replies\": replies}\n",
    "\n",
    "        # 如果 LLM 的回覆損壞或無效，返回 \"invalid_replies\" 和 \"error_message\" 以便 LLM 重試\n",
    "        except (ValueError, ValidationError) as e:\n",
    "            print(\n",
    "                Fore.RED\n",
    "                + f\"OutputValidator at Iteration {self.iteration_counter}: Invalid JSON from LLM - Let's try again.\\n\"\n",
    "                f\"Output from LLM:\\n {replies[0]} \\n\"\n",
    "                f\"Error from OutputValidator: {e}\"\n",
    "            )\n",
    "            return {\"invalid_replies\": replies, \"error_message\": str(e)}"
   ]
  },
  {
   "cell_type": "code",
   "execution_count": 10,
   "metadata": {},
   "outputs": [
    {
     "data": {
      "text/plain": [
       "<__main__.OutputValidator object at 0x1453c1ba0>\n",
       "Inputs:\n",
       "  - replies: List[str]\n",
       "Outputs:\n",
       "  - valid_replies: List[str]\n",
       "  - invalid_replies: Optional[List[str]]\n",
       "  - error_message: Optional[str]"
      ]
     },
     "execution_count": 10,
     "metadata": {},
     "output_type": "execute_result"
    }
   ],
   "source": [
    "output_validator = OutputValidator(pydantic_model=CitiesData)\n",
    "output_validator"
   ]
  },
  {
   "cell_type": "code",
   "execution_count": 11,
   "metadata": {},
   "outputs": [],
   "source": [
    "from haystack.components.builders import PromptBuilder\n",
    "\n",
    "prompt_template = \"\"\"\n",
    "    根據此段落中存在的資訊建立一個 JSON 對象：\n",
    "    {{passage}}.\n",
    "    僅使用段落中存在的資訊。\n",
    "    遵循此 JSON 架構，但僅傳回實際實例，無需任何其他架構定義：\n",
    "    {{schema}}\n",
    "    確保您的答案是字典而不是列表。\n",
    "    {% if invalid_replies and error_message %}\n",
    "    您在先前的嘗試中已經建立了以下輸出：\n",
    "    {{invalid_replies}}\n",
    "    但是，這不符合上面的格式要求並觸發了此 Python 異常：\n",
    "    {{error_message}}\n",
    "    更正輸出並重試。只需返回正確的輸出，無需任何額外的解釋。\n",
    "    {% endif %}\n",
    "\"\"\"\n",
    "prompt_builder = PromptBuilder(template=prompt_template)"
   ]
  },
  {
   "cell_type": "code",
   "execution_count": 12,
   "metadata": {},
   "outputs": [],
   "source": [
    "from haystack.components.generators import OpenAIGenerator\n",
    "import os\n",
    "from getpass import getpass\n",
    "from dotenv import load_dotenv\n",
    "\n",
    "# 環境變數\n",
    "load_dotenv()\n",
    "os.environ[\"OPENAI_API_KEY\"] = os.getenv(\"OPENAI_API_KEY\")\n",
    "\n",
    "if \"OPENAI_API_KEY\" not in os.environ:\n",
    "    os.environ[\"OPENAI_API_KEY\"] = getpass(\"Enter OpenAI API key:\")\n",
    "generator = OpenAIGenerator()"
   ]
  },
  {
   "cell_type": "code",
   "execution_count": 13,
   "metadata": {},
   "outputs": [
    {
     "data": {
      "text/plain": [
       "<haystack.core.pipeline.pipeline.Pipeline object at 0x1451d9e70>\n",
       "🚅 Components\n",
       "  - prompt_builder: PromptBuilder\n",
       "  - llm: OpenAIGenerator\n",
       "  - output_validator: OutputValidator\n",
       "🛤️ Connections\n",
       "  - prompt_builder.prompt -> llm.prompt (str)\n",
       "  - llm.replies -> output_validator.replies (List[str])\n",
       "  - output_validator.invalid_replies -> prompt_builder.invalid_replies (Optional[List[str]])\n",
       "  - output_validator.error_message -> prompt_builder.error_message (Optional[str])"
      ]
     },
     "execution_count": 13,
     "metadata": {},
     "output_type": "execute_result"
    }
   ],
   "source": [
    "from haystack import Pipeline\n",
    "\n",
    "pipeline = Pipeline(max_loops_allowed=5)\n",
    "\n",
    "# 添加組件到管道\n",
    "pipeline.add_component(\n",
    "    instance=prompt_builder, name=\"prompt_builder\"\n",
    ")\n",
    "pipeline.add_component(\n",
    "    instance=generator, name=\"llm\"\n",
    ")\n",
    "pipeline.add_component(\n",
    "    instance=output_validator, name=\"output_validator\"\n",
    ")\n",
    "\n",
    "# 現在，將組件之間進行連接\n",
    "pipeline.connect(\n",
    "    \"prompt_builder\", \"llm\"\n",
    ")\n",
    "pipeline.connect(\n",
    "    \"llm\", \"output_validator\"\n",
    ")\n",
    "# 如果一個組件有多個輸出或輸入，請明確指定連接：\n",
    "pipeline.connect(\n",
    "    \"output_validator.invalid_replies\", \"prompt_builder.invalid_replies\"\n",
    ")\n",
    "pipeline.connect(\n",
    "    \"output_validator.error_message\", \"prompt_builder.error_message\"\n",
    ")"
   ]
  },
  {
   "cell_type": "code",
   "execution_count": 14,
   "metadata": {},
   "outputs": [],
   "source": [
    "pipeline.draw(\"auto-correct-pipeline.png\")"
   ]
  },
  {
   "cell_type": "code",
   "execution_count": null,
   "metadata": {},
   "outputs": [],
   "source": [
    "passage = \"柏林是德國的首都。人口3,850,809。法國首都巴黎，居民216.1萬。里斯本是葡萄牙首都和最大城市，人口 504,718 人。\""
   ]
  }
 ],
 "metadata": {
  "kernelspec": {
   "display_name": "envHaystack",
   "language": "python",
   "name": "python3"
  },
  "language_info": {
   "codemirror_mode": {
    "name": "ipython",
    "version": 3
   },
   "file_extension": ".py",
   "mimetype": "text/x-python",
   "name": "python",
   "nbconvert_exporter": "python",
   "pygments_lexer": "ipython3",
   "version": "3.10.11"
  }
 },
 "nbformat": 4,
 "nbformat_minor": 2
}
