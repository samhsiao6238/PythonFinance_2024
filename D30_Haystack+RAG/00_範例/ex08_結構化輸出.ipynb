{
 "cells": [
  {
   "cell_type": "code",
   "execution_count": 2,
   "metadata": {},
   "outputs": [],
   "source": [
    "from typing import List\n",
    "from pydantic import BaseModel\n",
    "\n",
    "\n",
    "class City(BaseModel):\n",
    "    # 城市名稱\n",
    "    name: str\n",
    "    # 國家\n",
    "    country: str\n",
    "    # 人口\n",
    "    population: int\n",
    "\n",
    "\n",
    "class CitiesData(BaseModel):\n",
    "    # 城市列表\n",
    "    cities: List[City]"
   ]
  },
  {
   "cell_type": "code",
   "execution_count": 5,
   "metadata": {},
   "outputs": [
    {
     "data": {
      "text/plain": [
       "'{\\n  \"$defs\": {\\n    \"City\": {\\n      \"properties\": {\\n        \"name\": {\\n          \"title\": \"Name\",\\n          \"type\": \"string\"\\n        },\\n        \"country\": {\\n          \"title\": \"Country\",\\n          \"type\": \"string\"\\n        },\\n        \"population\": {\\n          \"title\": \"Population\",\\n          \"type\": \"integer\"\\n        }\\n      },\\n      \"required\": [\\n        \"name\",\\n        \"country\",\\n        \"population\"\\n      ],\\n      \"title\": \"City\",\\n      \"type\": \"object\"\\n    }\\n  },\\n  \"properties\": {\\n    \"cities\": {\\n      \"items\": {\\n        \"$ref\": \"#/$defs/City\"\\n      },\\n      \"title\": \"Cities\",\\n      \"type\": \"array\"\\n    }\\n  },\\n  \"required\": [\\n    \"cities\"\\n  ],\\n  \"title\": \"CitiesData\",\\n  \"type\": \"object\"\\n}'"
      ]
     },
     "execution_count": 5,
     "metadata": {},
     "output_type": "execute_result"
    }
   ],
   "source": [
    "json_schema = CitiesData.schema_json(indent=2)\n",
    "json_schema"
   ]
  },
  {
   "cell_type": "code",
   "execution_count": null,
   "metadata": {},
   "outputs": [],
   "source": []
  }
 ],
 "metadata": {
  "kernelspec": {
   "display_name": "envHaystack",
   "language": "python",
   "name": "python3"
  },
  "language_info": {
   "codemirror_mode": {
    "name": "ipython",
    "version": 3
   },
   "file_extension": ".py",
   "mimetype": "text/x-python",
   "name": "python",
   "nbconvert_exporter": "python",
   "pygments_lexer": "ipython3",
   "version": "3.10.11"
  }
 },
 "nbformat": 4,
 "nbformat_minor": 2
}
