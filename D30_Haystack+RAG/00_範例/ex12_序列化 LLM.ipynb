{
 "cells": [
  {
   "cell_type": "code",
   "execution_count": 1,
   "metadata": {},
   "outputs": [
    {
     "name": "stderr",
     "output_type": "stream",
     "text": [
      "/Users/samhsiao/Documents/PythonVenv/envHaystack/lib/python3.10/site-packages/tqdm/auto.py:21: TqdmWarning: IProgress not found. Please update jupyter and ipywidgets. See https://ipywidgets.readthedocs.io/en/stable/user_install.html\n",
      "  from .autonotebook import tqdm as notebook_tqdm\n",
      "INFO:root:PromptBuilder 已創建。\n",
      "INFO:root:開始加載模型，這可能需要一些時間。\n",
      "INFO:root:HuggingFaceLocalGenerator 已創建並初始化。\n",
      "INFO:root:管道組件已連接。\n",
      "INFO:root:正在運行管道...\n",
      "INFO:haystack.core.pipeline.base:Warming up component llm...\n",
      "/Users/samhsiao/Documents/PythonVenv/envHaystack/lib/python3.10/site-packages/huggingface_hub/file_download.py:1132: FutureWarning: `resume_download` is deprecated and will be removed in version 1.0.0. Downloads always resume when possible. If you want to force a new download, use `force_download=True`.\n",
      "  warnings.warn(\n",
      "INFO:haystack.core.pipeline.pipeline:Running component builder\n",
      "INFO:haystack.core.pipeline.pipeline:Running component llm\n",
      "/Users/samhsiao/Documents/PythonVenv/envHaystack/lib/python3.10/site-packages/transformers/generation/configuration_utils.py:492: UserWarning: `do_sample` is set to `False`. However, `temperature` is set to `0.7` -- this flag is only used in sample-based generation modes. You should set `do_sample=True` or unset `temperature`.\n",
      "  warnings.warn(\n"
     ]
    },
    {
     "name": "stdout",
     "output_type": "stream",
     "text": [
      "查看整個 result：{'llm': {'replies': ['Climate change is a major threat to the planet.']}}\n",
      "生成的摘要： Climate change is a major threat to the planet.\n"
     ]
    }
   ],
   "source": [
    "from haystack import Pipeline\n",
    "from haystack.components.builders import PromptBuilder\n",
    "from haystack.components.generators import HuggingFaceLocalGenerator\n",
    "\n",
    "# 添加日誌\n",
    "import logging\n",
    "\n",
    "# 設置日誌輸出級別\n",
    "logging.basicConfig(level=logging.INFO)\n",
    "\n",
    "# 定義模板，將用戶輸入的主題插入其中\n",
    "# 英文\n",
    "template = \"\"\"\n",
    "Please create a summary about the following topic:\n",
    "{{ topic }}\n",
    "\"\"\"\n",
    "\n",
    "# 建立 PromptBuilder，使用定義的模板\n",
    "builder = PromptBuilder(template=template)\n",
    "logging.info(\"PromptBuilder 已創建。\")\n",
    "\n",
    "# 建立 HuggingFaceLocalGenerator，指定使用的模型和生成的參數\n",
    "logging.info(\"開始加載模型，這可能需要一些時間。\")\n",
    "llm = HuggingFaceLocalGenerator(\n",
    "    model=\"google/flan-t5-large\",\n",
    "    task=\"text2text-generation\",\n",
    "    generation_kwargs={\"max_new_tokens\": 300, \"temperature\": 0.7},\n",
    ")\n",
    "logging.info(\"HuggingFaceLocalGenerator 已創建並初始化。\")\n",
    "\n",
    "# 建立管道\n",
    "pipeline = Pipeline()\n",
    "# 添加組件到管道\n",
    "pipeline.add_component(name=\"builder\", instance=builder)\n",
    "pipeline.add_component(name=\"llm\", instance=llm)\n",
    "\n",
    "# 連接管道中的組件\n",
    "pipeline.connect(\"builder\", \"llm\")\n",
    "logging.info(\"管道組件已連接。\")\n",
    "\n",
    "# 定義用戶輸入的主題\n",
    "topic = \"Climate change\"\n",
    "\n",
    "# 輸出生成的摘要\n",
    "logging.info(\"正在運行管道...\")\n",
    "# 運行管道，生成關於主題的摘要\n",
    "result = pipeline.run(data={\"builder\": {\"topic\": topic}})\n",
    "summary = result[\"llm\"][\"replies\"][0]\n",
    "print(f\"查看整個 result：{result}\")\n",
    "# 增加檢查生成的結果\n",
    "if summary.strip() == \"\":\n",
    "    logging.warning(\"生成的摘要為空。\")\n",
    "else:\n",
    "    print(\"生成的摘要：\", summary)"
   ]
  },
  {
   "cell_type": "code",
   "execution_count": 2,
   "metadata": {},
   "outputs": [
    {
     "name": "stdout",
     "output_type": "stream",
     "text": [
      "管道的 YAML 表示：\n",
      " components:\n",
      "  builder:\n",
      "    init_parameters:\n",
      "      required_variables: null\n",
      "      template: '\n",
      "\n",
      "        Please create a summary about the following topic:\n",
      "\n",
      "        {{ topic }}\n",
      "\n",
      "        '\n",
      "      variables: null\n",
      "    type: haystack.components.builders.prompt_builder.PromptBuilder\n",
      "  llm:\n",
      "    init_parameters:\n",
      "      generation_kwargs:\n",
      "        max_new_tokens: 300\n",
      "        temperature: 0.7\n",
      "      huggingface_pipeline_kwargs:\n",
      "        device: mps\n",
      "        model: google/flan-t5-large\n",
      "        task: text2text-generation\n",
      "      stop_words: null\n",
      "      streaming_callback: null\n",
      "      token:\n",
      "        env_vars:\n",
      "        - HF_API_TOKEN\n",
      "        strict: false\n",
      "        type: env_var\n",
      "    type: haystack.components.generators.hugging_face_local.HuggingFaceLocalGenerator\n",
      "connections:\n",
      "- receiver: llm.prompt\n",
      "  sender: builder.prompt\n",
      "max_loops_allowed: 100\n",
      "metadata: {}\n",
      "\n"
     ]
    }
   ],
   "source": [
    "# 將管道序列化為 YAML\n",
    "yaml_pipeline = pipeline.dumps()\n",
    "print(\"管道的 YAML 表示：\\n\", yaml_pipeline)"
   ]
  },
  {
   "cell_type": "code",
   "execution_count": 24,
   "metadata": {},
   "outputs": [],
   "source": [
    "yaml_pipeline = \"\"\"\n",
    "components:\n",
    "  builder:\n",
    "    init_parameters:\n",
    "      template: \"\\nPlease translate the following to French: \\n{{ sentence }}\\n\"\n",
    "    type: haystack.components.builders.prompt_builder.PromptBuilder\n",
    "  llm:\n",
    "    init_parameters:\n",
    "      generation_kwargs:\n",
    "        max_new_tokens: 150\n",
    "      huggingface_pipeline_kwargs:\n",
    "        device: cpu\n",
    "        model: google/flan-t5-large\n",
    "        task: text2text-generation\n",
    "        token: null\n",
    "      stop_words: null\n",
    "    type: haystack.components.generators.hugging_face_local.HuggingFaceLocalGenerator\n",
    "connections:\n",
    "- receiver: llm.prompt\n",
    "  sender: builder.prompt\n",
    "max_loops_allowed: 100\n",
    "metadata: {}\n",
    "\"\"\""
   ]
  },
  {
   "cell_type": "markdown",
   "metadata": {},
   "source": [
    "反序列"
   ]
  },
  {
   "cell_type": "code",
   "execution_count": 25,
   "metadata": {},
   "outputs": [
    {
     "name": "stderr",
     "output_type": "stream",
     "text": [
      "INFO:root:正在從 YAML 加載新的管道...\n",
      "INFO:root:正在運行新的管道...\n",
      "INFO:haystack.core.pipeline.base:Warming up component llm...\n",
      "INFO:haystack.core.pipeline.pipeline:Running component builder\n",
      "INFO:haystack.core.pipeline.pipeline:Running component llm\n"
     ]
    },
    {
     "name": "stdout",
     "output_type": "stream",
     "text": [
      "翻譯結果： Je me félicite des capybaras !\n"
     ]
    }
   ],
   "source": [
    "from haystack import Pipeline\n",
    "from haystack.components.builders import PromptBuilder\n",
    "from haystack.components.generators import HuggingFaceLocalGenerator\n",
    "\n",
    "# 將 YAML 管道加載為 Python 管道\n",
    "logging.info(\"正在從 YAML 加載新的管道...\")\n",
    "new_pipeline = Pipeline.loads(yaml_pipeline)\n",
    "\n",
    "# 運行新管道，將句子翻譯為法語\n",
    "logging.info(\"正在運行新的管道...\")\n",
    "new_result = new_pipeline.run(\n",
    "    data={\"builder\": {\"sentence\": \"I love capybaras\"}})\n",
    "translation = new_result[\"llm\"][\"replies\"][0]\n",
    "print(\"翻譯結果：\", translation)"
   ]
  },
  {
   "cell_type": "markdown",
   "metadata": {},
   "source": [
    "# 補充 HuggingFaceLocalGenerator"
   ]
  },
  {
   "cell_type": "code",
   "execution_count": 30,
   "metadata": {},
   "outputs": [
    {
     "name": "stdout",
     "output_type": "stream",
     "text": [
      "{'replies': ['dwight eisenhower']}\n"
     ]
    }
   ],
   "source": [
    "from haystack.components.generators import HuggingFaceLocalGenerator\n",
    "\n",
    "# 初始化本地生成器，設置模型和生成參數\n",
    "generator = HuggingFaceLocalGenerator(\n",
    "    model=\"google/flan-t5-large\",\n",
    "    task=\"text2text-generation\",\n",
    "    generation_kwargs={\n",
    "        \"max_new_tokens\": 100,\n",
    "        \"temperature\": 0.9,\n",
    "    }\n",
    ")\n",
    "\n",
    "# 預熱生成器\n",
    "generator.warm_up()\n",
    "\n",
    "# 運行生成器，輸出結果\n",
    "# 美國現任總統是誰\n",
    "_answer= generator.run(\n",
    "    \"Who is the current president of the United States?\"\n",
    ")\n",
    "print(_answer)"
   ]
  },
  {
   "cell_type": "code",
   "execution_count": 31,
   "metadata": {},
   "outputs": [
    {
     "name": "stderr",
     "output_type": "stream",
     "text": [
      "INFO:haystack.core.pipeline.base:Warming up component llm...\n",
      "INFO:haystack.core.pipeline.pipeline:Running component retriever\n",
      "INFO:haystack.core.pipeline.pipeline:Running component prompt_builder\n",
      "INFO:haystack.core.pipeline.pipeline:Running component llm\n"
     ]
    },
    {
     "name": "stdout",
     "output_type": "stream",
     "text": [
      "{'llm': {'replies': ['Paris']}}\n"
     ]
    }
   ],
   "source": [
    "from haystack import Pipeline\n",
    "from haystack.components.retrievers.in_memory import InMemoryBM25Retriever\n",
    "from haystack.components.builders.prompt_builder import PromptBuilder\n",
    "from haystack.components.generators import HuggingFaceLocalGenerator\n",
    "from haystack.document_stores.in_memory import InMemoryDocumentStore\n",
    "from haystack import Document\n",
    "\n",
    "# 初始化內存文檔存儲，並寫入文檔\n",
    "docstore = InMemoryDocumentStore()\n",
    "docstore.write_documents([\n",
    "    Document(content=\"Rome is the capital of Italy\"),\n",
    "    Document(content=\"Paris is the capital of France\")\n",
    "])\n",
    "\n",
    "# 初始化本地生成器\n",
    "generator = HuggingFaceLocalGenerator(\n",
    "    model=\"google/flan-t5-large\",\n",
    "    task=\"text2text-generation\",\n",
    "    generation_kwargs={\n",
    "        \"max_new_tokens\": 100,\n",
    "        \"temperature\": 0.9,\n",
    "    }\n",
    ")\n",
    "\n",
    "# 查詢問題\n",
    "query = \"What is the capital of France?\"\n",
    "\n",
    "# 定義模板\n",
    "template = \"\"\"\n",
    "Given the following information, answer the question.\n",
    "\n",
    "Context:\n",
    "{% for document in documents %}\n",
    "    {{ document.content }}\n",
    "{% endfor %}\n",
    "\n",
    "Question: {{ query }}?\n",
    "\"\"\"\n",
    "\n",
    "# 初始化管道，添加組件\n",
    "pipe = Pipeline()\n",
    "pipe.add_component(\"retriever\", InMemoryBM25Retriever(document_store=docstore))\n",
    "pipe.add_component(\"prompt_builder\", PromptBuilder(template=template))\n",
    "pipe.add_component(\"llm\", generator)\n",
    "\n",
    "# 連接管道中的組件\n",
    "pipe.connect(\"retriever\", \"prompt_builder.documents\")\n",
    "pipe.connect(\"prompt_builder\", \"llm\")\n",
    "\n",
    "# 運行管道，輸出結果\n",
    "res = pipe.run({\n",
    "    \"prompt_builder\": {\n",
    "        \"query\": query\n",
    "    },\n",
    "    \"retriever\": {\n",
    "        \"query\": query\n",
    "    }\n",
    "})\n",
    "\n",
    "print(res)"
   ]
  }
 ],
 "metadata": {
  "kernelspec": {
   "display_name": "envHaystack",
   "language": "python",
   "name": "python3"
  },
  "language_info": {
   "codemirror_mode": {
    "name": "ipython",
    "version": 3
   },
   "file_extension": ".py",
   "mimetype": "text/x-python",
   "name": "python",
   "nbconvert_exporter": "python",
   "pygments_lexer": "ipython3",
   "version": "3.10.11"
  }
 },
 "nbformat": 4,
 "nbformat_minor": 2
}
