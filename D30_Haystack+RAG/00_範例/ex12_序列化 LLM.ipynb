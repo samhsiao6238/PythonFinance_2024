{
 "cells": [
  {
   "cell_type": "code",
   "execution_count": 1,
   "metadata": {},
   "outputs": [
    {
     "name": "stderr",
     "output_type": "stream",
     "text": [
      "/Users/samhsiao/Documents/PythonVenv/envHaystack/lib/python3.10/site-packages/tqdm/auto.py:21: TqdmWarning: IProgress not found. Please update jupyter and ipywidgets. See https://ipywidgets.readthedocs.io/en/stable/user_install.html\n",
      "  from .autonotebook import tqdm as notebook_tqdm\n",
      "INFO:root:PromptBuilder 已創建。\n",
      "INFO:root:開始加載模型，這可能需要一些時間。\n",
      "INFO:root:HuggingFaceLocalGenerator 已創建並初始化。\n",
      "INFO:root:管道組件已連接。\n",
      "INFO:root:正在運行管道...\n",
      "INFO:haystack.core.pipeline.base:Warming up component llm...\n",
      "/Users/samhsiao/Documents/PythonVenv/envHaystack/lib/python3.10/site-packages/huggingface_hub/file_download.py:1132: FutureWarning: `resume_download` is deprecated and will be removed in version 1.0.0. Downloads always resume when possible. If you want to force a new download, use `force_download=True`.\n",
      "  warnings.warn(\n",
      "INFO:haystack.core.pipeline.pipeline:Running component builder\n",
      "INFO:haystack.core.pipeline.pipeline:Running component llm\n",
      "/Users/samhsiao/Documents/PythonVenv/envHaystack/lib/python3.10/site-packages/transformers/generation/configuration_utils.py:492: UserWarning: `do_sample` is set to `False`. However, `temperature` is set to `0.7` -- this flag is only used in sample-based generation modes. You should set `do_sample=True` or unset `temperature`.\n",
      "  warnings.warn(\n"
     ]
    },
    {
     "name": "stdout",
     "output_type": "stream",
     "text": [
      "查看整個 result：{'llm': {'replies': ['Climate change is a major threat to the planet.']}}\n",
      "生成的摘要： Climate change is a major threat to the planet.\n"
     ]
    }
   ],
   "source": [
    "from haystack import Pipeline\n",
    "from haystack.components.builders import PromptBuilder\n",
    "from haystack.components.generators import HuggingFaceLocalGenerator\n",
    "\n",
    "# 添加日誌\n",
    "import logging\n",
    "\n",
    "# 設置日誌輸出級別\n",
    "logging.basicConfig(level=logging.INFO)\n",
    "\n",
    "# 定義模板，將用戶輸入的主題插入其中\n",
    "# 英文\n",
    "template = \"\"\"\n",
    "Please create a summary about the following topic:\n",
    "{{ topic }}\n",
    "\"\"\"\n",
    "\n",
    "# 建立 PromptBuilder，使用定義的模板\n",
    "builder = PromptBuilder(template=template)\n",
    "logging.info(\"PromptBuilder 已創建。\")\n",
    "\n",
    "# 建立 HuggingFaceLocalGenerator，指定使用的模型和生成的參數\n",
    "logging.info(\"開始加載模型，這可能需要一些時間。\")\n",
    "llm = HuggingFaceLocalGenerator(\n",
    "    model=\"google/flan-t5-large\",\n",
    "    task=\"text2text-generation\",\n",
    "    generation_kwargs={\"max_new_tokens\": 300, \"temperature\": 0.7},\n",
    ")\n",
    "logging.info(\"HuggingFaceLocalGenerator 已創建並初始化。\")\n",
    "\n",
    "# 建立管道\n",
    "pipeline = Pipeline()\n",
    "# 添加組件到管道\n",
    "pipeline.add_component(name=\"builder\", instance=builder)\n",
    "pipeline.add_component(name=\"llm\", instance=llm)\n",
    "\n",
    "# 連接管道中的組件\n",
    "pipeline.connect(\"builder\", \"llm\")\n",
    "logging.info(\"管道組件已連接。\")\n",
    "\n",
    "# 定義用戶輸入的主題\n",
    "topic = \"Climate change\"\n",
    "\n",
    "# 輸出生成的摘要\n",
    "logging.info(\"正在運行管道...\")\n",
    "# 運行管道，生成關於主題的摘要\n",
    "result = pipeline.run(data={\"builder\": {\"topic\": topic}})\n",
    "summary = result[\"llm\"][\"replies\"][0]\n",
    "print(f\"查看整個 result：{result}\")\n",
    "# 增加檢查生成的結果\n",
    "if summary.strip() == \"\":\n",
    "    logging.warning(\"生成的摘要為空。\")\n",
    "else:\n",
    "    print(\"生成的摘要：\", summary)"
   ]
  },
  {
   "cell_type": "code",
   "execution_count": 2,
   "metadata": {},
   "outputs": [
    {
     "name": "stdout",
     "output_type": "stream",
     "text": [
      "管道的 YAML 表示：\n",
      " components:\n",
      "  builder:\n",
      "    init_parameters:\n",
      "      required_variables: null\n",
      "      template: '\n",
      "\n",
      "        Please create a summary about the following topic:\n",
      "\n",
      "        {{ topic }}\n",
      "\n",
      "        '\n",
      "      variables: null\n",
      "    type: haystack.components.builders.prompt_builder.PromptBuilder\n",
      "  llm:\n",
      "    init_parameters:\n",
      "      generation_kwargs:\n",
      "        max_new_tokens: 300\n",
      "        temperature: 0.7\n",
      "      huggingface_pipeline_kwargs:\n",
      "        device: mps\n",
      "        model: google/flan-t5-large\n",
      "        task: text2text-generation\n",
      "      stop_words: null\n",
      "      streaming_callback: null\n",
      "      token:\n",
      "        env_vars:\n",
      "        - HF_API_TOKEN\n",
      "        strict: false\n",
      "        type: env_var\n",
      "    type: haystack.components.generators.hugging_face_local.HuggingFaceLocalGenerator\n",
      "connections:\n",
      "- receiver: llm.prompt\n",
      "  sender: builder.prompt\n",
      "max_loops_allowed: 100\n",
      "metadata: {}\n",
      "\n"
     ]
    }
   ],
   "source": [
    "# 將管道序列化為 YAML\n",
    "yaml_pipeline = pipeline.dumps()\n",
    "print(\"管道的 YAML 表示：\\n\", yaml_pipeline)"
   ]
  },
  {
   "cell_type": "code",
   "execution_count": 22,
   "metadata": {},
   "outputs": [],
   "source": [
    "yaml_pipeline = \"\"\"\n",
    "components:\n",
    "  builder:\n",
    "    init_parameters:\n",
    "      template: \"\\nPlease translate the following to French: \\n{{ sentence }}\\n\"\n",
    "    type: haystack.components.builders.prompt_builder.PromptBuilder\n",
    "  llm:\n",
    "    init_parameters:\n",
    "      generation_kwargs:\n",
    "        max_new_tokens: 150\n",
    "      huggingface_pipeline_kwargs:\n",
    "        device: cpu\n",
    "        model: google/flan-t5-large\n",
    "        task: text2text-generation\n",
    "        token: null\n",
    "      stop_words: null\n",
    "    type: haystack.components.generators.hugging_face_local.HuggingFaceLocalGenerator\n",
    "connections:\n",
    "- receiver: llm.prompt\n",
    "  sender: builder.prompt\n",
    "max_loops_allowed: 100\n",
    "metadata: {}\n",
    "\"\"\""
   ]
  },
  {
   "cell_type": "code",
   "execution_count": 23,
   "metadata": {},
   "outputs": [
    {
     "name": "stderr",
     "output_type": "stream",
     "text": [
      "INFO:root:正在從 YAML 加載新的管道...\n"
     ]
    },
    {
     "ename": "AttributeError",
     "evalue": "'NoneType' object has no attribute 'items'",
     "output_type": "error",
     "traceback": [
      "\u001b[0;31m---------------------------------------------------------------------------\u001b[0m",
      "\u001b[0;31mAttributeError\u001b[0m                            Traceback (most recent call last)",
      "Cell \u001b[0;32mIn[23], line 7\u001b[0m\n\u001b[1;32m      5\u001b[0m \u001b[38;5;66;03m# 將 YAML 管道加載為 Python 管道\u001b[39;00m\n\u001b[1;32m      6\u001b[0m logging\u001b[38;5;241m.\u001b[39minfo(\u001b[38;5;124m\"\u001b[39m\u001b[38;5;124m正在從 YAML 加載新的管道...\u001b[39m\u001b[38;5;124m\"\u001b[39m)\n\u001b[0;32m----> 7\u001b[0m new_pipeline \u001b[38;5;241m=\u001b[39m \u001b[43mPipeline\u001b[49m\u001b[38;5;241;43m.\u001b[39;49m\u001b[43mloads\u001b[49m\u001b[43m(\u001b[49m\u001b[43myaml_pipeline\u001b[49m\u001b[43m)\u001b[49m\n\u001b[1;32m      9\u001b[0m \u001b[38;5;66;03m# 運行新管道，將句子翻譯為法語\u001b[39;00m\n\u001b[1;32m     10\u001b[0m logging\u001b[38;5;241m.\u001b[39minfo(\u001b[38;5;124m\"\u001b[39m\u001b[38;5;124m正在運行新的管道...\u001b[39m\u001b[38;5;124m\"\u001b[39m)\n",
      "File \u001b[0;32m~/Documents/PythonVenv/envHaystack/lib/python3.10/site-packages/haystack/core/pipeline/base.py:234\u001b[0m, in \u001b[0;36mPipelineBase.loads\u001b[0;34m(cls, data, marshaller, callbacks)\u001b[0m\n\u001b[1;32m    215\u001b[0m \u001b[38;5;129m@classmethod\u001b[39m\n\u001b[1;32m    216\u001b[0m \u001b[38;5;28;01mdef\u001b[39;00m \u001b[38;5;21mloads\u001b[39m(\n\u001b[1;32m    217\u001b[0m     \u001b[38;5;28mcls\u001b[39m: Type[T],\n\u001b[0;32m   (...)\u001b[0m\n\u001b[1;32m    220\u001b[0m     callbacks: Optional[DeserializationCallbacks] \u001b[38;5;241m=\u001b[39m \u001b[38;5;28;01mNone\u001b[39;00m,\n\u001b[1;32m    221\u001b[0m ) \u001b[38;5;241m-\u001b[39m\u001b[38;5;241m>\u001b[39m T:\n\u001b[1;32m    222\u001b[0m \u001b[38;5;250m    \u001b[39m\u001b[38;5;124;03m\"\"\"\u001b[39;00m\n\u001b[1;32m    223\u001b[0m \u001b[38;5;124;03m    Creates a `Pipeline` object from the string representation passed in the `data` argument.\u001b[39;00m\n\u001b[1;32m    224\u001b[0m \n\u001b[0;32m   (...)\u001b[0m\n\u001b[1;32m    232\u001b[0m \u001b[38;5;124;03m        A `Pipeline` object.\u001b[39;00m\n\u001b[1;32m    233\u001b[0m \u001b[38;5;124;03m    \"\"\"\u001b[39;00m\n\u001b[0;32m--> 234\u001b[0m     \u001b[38;5;28;01mreturn\u001b[39;00m \u001b[38;5;28;43mcls\u001b[39;49m\u001b[38;5;241;43m.\u001b[39;49m\u001b[43mfrom_dict\u001b[49m\u001b[43m(\u001b[49m\u001b[43mmarshaller\u001b[49m\u001b[38;5;241;43m.\u001b[39;49m\u001b[43munmarshal\u001b[49m\u001b[43m(\u001b[49m\u001b[43mdata\u001b[49m\u001b[43m)\u001b[49m\u001b[43m,\u001b[49m\u001b[43m \u001b[49m\u001b[43mcallbacks\u001b[49m\u001b[43m)\u001b[49m\n",
      "File \u001b[0;32m~/Documents/PythonVenv/envHaystack/lib/python3.10/site-packages/haystack/core/pipeline/base.py:156\u001b[0m, in \u001b[0;36mPipelineBase.from_dict\u001b[0;34m(cls, data, callbacks, **kwargs)\u001b[0m\n\u001b[1;32m    154\u001b[0m pipe \u001b[38;5;241m=\u001b[39m \u001b[38;5;28mcls\u001b[39m(metadata\u001b[38;5;241m=\u001b[39mmetadata, max_loops_allowed\u001b[38;5;241m=\u001b[39mmax_loops_allowed, debug_path\u001b[38;5;241m=\u001b[39mdebug_path)\n\u001b[1;32m    155\u001b[0m components_to_reuse \u001b[38;5;241m=\u001b[39m kwargs\u001b[38;5;241m.\u001b[39mget(\u001b[38;5;124m\"\u001b[39m\u001b[38;5;124mcomponents\u001b[39m\u001b[38;5;124m\"\u001b[39m, {})\n\u001b[0;32m--> 156\u001b[0m \u001b[38;5;28;01mfor\u001b[39;00m name, component_data \u001b[38;5;129;01min\u001b[39;00m \u001b[43mdata\u001b[49m\u001b[38;5;241;43m.\u001b[39;49m\u001b[43mget\u001b[49m\u001b[43m(\u001b[49m\u001b[38;5;124;43m\"\u001b[39;49m\u001b[38;5;124;43mcomponents\u001b[39;49m\u001b[38;5;124;43m\"\u001b[39;49m\u001b[43m,\u001b[49m\u001b[43m \u001b[49m\u001b[43m{\u001b[49m\u001b[43m}\u001b[49m\u001b[43m)\u001b[49m\u001b[38;5;241;43m.\u001b[39;49m\u001b[43mitems\u001b[49m():\n\u001b[1;32m    157\u001b[0m     \u001b[38;5;28;01mif\u001b[39;00m name \u001b[38;5;129;01min\u001b[39;00m components_to_reuse:\n\u001b[1;32m    158\u001b[0m         \u001b[38;5;66;03m# Reuse an instance\u001b[39;00m\n\u001b[1;32m    159\u001b[0m         instance \u001b[38;5;241m=\u001b[39m components_to_reuse[name]\n",
      "\u001b[0;31mAttributeError\u001b[0m: 'NoneType' object has no attribute 'items'"
     ]
    }
   ],
   "source": [
    "from haystack import Pipeline\n",
    "from haystack.components.builders import PromptBuilder\n",
    "from haystack.components.generators import HuggingFaceLocalGenerator\n",
    "\n",
    "# 將 YAML 管道加載為 Python 管道\n",
    "logging.info(\"正在從 YAML 加載新的管道...\")\n",
    "new_pipeline = Pipeline.loads(yaml_pipeline)\n",
    "\n",
    "# 運行新管道，將句子翻譯為法語\n",
    "logging.info(\"正在運行新的管道...\")\n",
    "new_result = new_pipeline.run(\n",
    "    data={\"builder\": {\"sentence\": \"I love capybaras\"}})\n",
    "translation = new_result[\"llm\"][\"replies\"][0]\n",
    "print(\"翻譯結果：\", translation)"
   ]
  }
 ],
 "metadata": {
  "kernelspec": {
   "display_name": "envHaystack",
   "language": "python",
   "name": "python3"
  },
  "language_info": {
   "codemirror_mode": {
    "name": "ipython",
    "version": 3
   },
   "file_extension": ".py",
   "mimetype": "text/x-python",
   "name": "python",
   "nbconvert_exporter": "python",
   "pygments_lexer": "ipython3",
   "version": "3.10.11"
  }
 },
 "nbformat": 4,
 "nbformat_minor": 2
}
