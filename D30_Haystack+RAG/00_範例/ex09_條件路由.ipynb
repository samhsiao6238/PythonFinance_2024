{
 "cells": [
  {
   "cell_type": "code",
   "execution_count": 1,
   "metadata": {},
   "outputs": [],
   "source": [
    "from getpass import getpass\n",
    "import os\n",
    "from dotenv import load_dotenv\n",
    "\n",
    "# 載入環境變數\n",
    "load_dotenv()\n",
    "# 兩個 API 的密鑰\n",
    "os.environ[\"OPENAI_API_KEY\"] = os.getenv(\"OPENAI_API_KEY\")\n",
    "os.environ[\"SERPERDEV_API_KEY\"] = os.getenv(\"SERPERDEV_API_KEY\")\n",
    "# 判斷是否存在，不存在可透過手動輸入\n",
    "if \"OPENAI_API_KEY\" not in os.environ:\n",
    "    os.environ[\"OPENAI_API_KEY\"] = getpass(\"Enter OpenAI API key:\")\n",
    "if \"SERPERDEV_API_KEY\" not in os.environ:\n",
    "    os.environ[\"SERPERDEV_API_KEY\"] = getpass(\"Enter Serper API key:\")"
   ]
  },
  {
   "cell_type": "code",
   "execution_count": 2,
   "metadata": {},
   "outputs": [
    {
     "name": "stderr",
     "output_type": "stream",
     "text": [
      "/Users/samhsiao/Documents/PythonVenv/envHaystack/lib/python3.10/site-packages/tqdm/auto.py:21: TqdmWarning: IProgress not found. Please update jupyter and ipywidgets. See https://ipywidgets.readthedocs.io/en/stable/user_install.html\n",
      "  from .autonotebook import tqdm as notebook_tqdm\n"
     ]
    }
   ],
   "source": [
    "# 用於建立文件\n",
    "from haystack.dataclasses import Document\n",
    "\n",
    "# 定義一個文件，內容描述了德國南部巴伐利亞州首府慕尼黑\n",
    "documents = [\n",
    "    Document(\n",
    "        content=\"\"\"慕尼黑是德國南部巴伐利亞州的首府，充滿了豐富的文化遺產和現代城市的優雅。位於伊薩爾河畔，慕尼黑以其華麗的建築而聞名，如馬麗恩廣場的慕尼黑新市政廳和寧芬堡宮的宏偉壯觀。這座城市是藝術愛好者的天堂，擁有世界級的博物館，如阿爾特·皮納科特克，收藏了許多著名藝術家的傑作。慕尼黑也因其熱鬧的啤酒花園而聞名，當地人和遊客聚集在這裡享受城市著名的啤酒和傳統巴伐利亞美食。每年的慕尼黑啤酒節是世界上最大的啤酒節，吸引了來自世界各地的數百萬遊客。除了豐富的文化和美食享受外，慕尼黑還擁有如英國花園這樣的美麗公園，為繁忙的都市提供了一個寧靜的避風港。遊客們為慕尼黑的熱情好客所打動，使得這裡成為了想要體驗古老魅力和現代魅力的旅行者必去的目的地。\"\"\"\n",
    "    )\n",
    "]"
   ]
  },
  {
   "cell_type": "code",
   "execution_count": 3,
   "metadata": {},
   "outputs": [],
   "source": [
    "from haystack.components.builders.prompt_builder import PromptBuilder\n",
    "from haystack.components.generators import OpenAIGenerator\n",
    "\n",
    "# 定義一個提示模板，指導 LLM 回答查詢\n",
    "prompt_template = \"\"\"\n",
    "根據文件回答下列問題。\n",
    "如果答案未包含在文件中，請回覆\n",
    "'no_answer'\n",
    "\n",
    "Query: {{query}}\n",
    "\n",
    "Documents:\n",
    "{% for document in documents %}\n",
    "    {{document.content}}\n",
    "{% endfor %}\n",
    "\"\"\"\n",
    "\n",
    "# 使用定義的模板建立 PromptBuilder\n",
    "prompt_builder = PromptBuilder(template=prompt_template)\n",
    "\n",
    "# 初始化 OpenAIGenerator，使用 gpt-4-turbo 模型\n",
    "llm = OpenAIGenerator(model=\"gpt-4-turbo\")"
   ]
  },
  {
   "cell_type": "code",
   "execution_count": 4,
   "metadata": {},
   "outputs": [],
   "source": [
    "from haystack.components.builders.prompt_builder import PromptBuilder\n",
    "from haystack.components.generators import OpenAIGenerator\n",
    "from haystack.components.websearch.serper_dev import SerperDevWebSearch\n",
    "\n",
    "# 定義一個提示模板，用於網絡搜索\n",
    "prompt_for_websearch = \"\"\"\n",
    "根據從 Web 檢索到的文件，回答以下查詢。\n",
    "你的答案應表明你的答案是透過網路搜尋產生的。\n",
    "\n",
    "Query: {{query}}\n",
    "Documents:\n",
    "{% for document in documents %}\n",
    "    {{document.content}}\n",
    "{% endfor %}\n",
    "\"\"\"\n",
    "\n",
    "# 初始化網絡搜索組件\n",
    "websearch = SerperDevWebSearch()\n",
    "\n",
    "# 使用網絡搜索提示模板建立 PromptBuilder\n",
    "prompt_builder_for_websearch = PromptBuilder(template=prompt_for_websearch)\n",
    "\n",
    "# 初始化 OpenAIGenerator，使用 gpt-4-turbo 模型\n",
    "llm_for_websearch = OpenAIGenerator(model=\"gpt-4-turbo\")"
   ]
  },
  {
   "cell_type": "code",
   "execution_count": 5,
   "metadata": {},
   "outputs": [],
   "source": [
    "from haystack.components.routers import ConditionalRouter\n",
    "\n",
    "# 定義路由規則\n",
    "routes = [\n",
    "    {\n",
    "        # 如果 LLM 回覆中包含 'no_answer'\n",
    "        \"condition\": \"{{'no_answer' in replies[0]}}\",\n",
    "        # 將查詢作為輸出\n",
    "        \"output\": \"{{query}}\",\n",
    "        # 輸出名稱\n",
    "        \"output_name\": \"go_to_websearch\",\n",
    "        # 輸出類型\n",
    "        \"output_type\": str\n",
    "    },\n",
    "    {\n",
    "        # 如果 LLM 回覆中不包含 'no_answer'\n",
    "        \"condition\": \"{{'no_answer' not in replies[0]}}\",\n",
    "        # 將回覆的答案作為輸出\n",
    "        \"output\": \"{{replies[0]}}\",\n",
    "        # 輸出名稱\n",
    "        \"output_name\": \"answer\",\n",
    "        # 輸出類型\n",
    "        \"output_type\": str\n",
    "    }\n",
    "]\n",
    "\n",
    "# 初始化 ConditionalRouter\n",
    "router = ConditionalRouter(routes)"
   ]
  },
  {
   "cell_type": "code",
   "execution_count": 6,
   "metadata": {},
   "outputs": [
    {
     "data": {
      "text/plain": [
       "<haystack.core.pipeline.pipeline.Pipeline object at 0x318083310>\n",
       "🚅 Components\n",
       "  - prompt_builder: PromptBuilder\n",
       "  - llm: OpenAIGenerator\n",
       "  - router: ConditionalRouter\n",
       "  - websearch: SerperDevWebSearch\n",
       "  - prompt_builder_for_websearch: PromptBuilder\n",
       "  - llm_for_websearch: OpenAIGenerator\n",
       "🛤️ Connections\n",
       "  - prompt_builder.prompt -> llm.prompt (str)\n",
       "  - llm.replies -> router.replies (List[str])\n",
       "  - router.go_to_websearch -> websearch.query (str)\n",
       "  - router.go_to_websearch -> prompt_builder_for_websearch.query (str)\n",
       "  - websearch.documents -> prompt_builder_for_websearch.documents (List[Document])\n",
       "  - prompt_builder_for_websearch.prompt -> llm_for_websearch.prompt (str)"
      ]
     },
     "execution_count": 6,
     "metadata": {},
     "output_type": "execute_result"
    }
   ],
   "source": [
    "from haystack import Pipeline\n",
    "\n",
    "# 建立管道\n",
    "pipe = Pipeline()\n",
    "\n",
    "# 添加組件到管道\n",
    "pipe.add_component(\"prompt_builder\", prompt_builder)\n",
    "pipe.add_component(\"llm\", llm)\n",
    "pipe.add_component(\"router\", router)\n",
    "pipe.add_component(\"websearch\", websearch)\n",
    "pipe.add_component(\"prompt_builder_for_websearch\", prompt_builder_for_websearch)\n",
    "pipe.add_component(\"llm_for_websearch\", llm_for_websearch)\n",
    "\n",
    "# 連接管道中的組件\n",
    "# 連接 prompt_builder 到 llm\n",
    "pipe.connect(\n",
    "    \"prompt_builder\", \"llm\"\n",
    ")\n",
    "# 連接 llm 的回覆到 router\n",
    "pipe.connect(\n",
    "    \"llm.replies\", \"router.replies\"\n",
    ")\n",
    "# 連接 router 的 go_to_websearch 到 websearch 的查詢\n",
    "pipe.connect(\n",
    "    \"router.go_to_websearch\", \"websearch.query\"\n",
    ")\n",
    "# 連接 router 的 go_to_websearch 到 prompt_builder_for_websearch 的查詢\n",
    "pipe.connect(\n",
    "    \"router.go_to_websearch\", \"prompt_builder_for_websearch.query\"\n",
    ")\n",
    "# 連接 websearch 的文件到 prompt_builder_for_websearch\n",
    "pipe.connect(\n",
    "    \"websearch.documents\", \"prompt_builder_for_websearch.documents\"\n",
    ")\n",
    "# 連接 prompt_builder_for_websearch 到 llm_for_websearch\n",
    "pipe.connect(\n",
    "    \"prompt_builder_for_websearch\", \"llm_for_websearch\"\n",
    ")"
   ]
  },
  {
   "cell_type": "code",
   "execution_count": 7,
   "metadata": {},
   "outputs": [],
   "source": [
    "# 生成管道圖像\n",
    "pipe.draw(\"pipe.png\")"
   ]
  },
  {
   "cell_type": "code",
   "execution_count": 8,
   "metadata": {},
   "outputs": [
    {
     "name": "stdout",
     "output_type": "stream",
     "text": [
      "慕尼黑是德國南部巴伐利亞州的首府。\n"
     ]
    }
   ],
   "source": [
    "# 定義查詢\n",
    "query = \"慕尼黑在哪裡？\"\n",
    "\n",
    "# 運行管道\n",
    "result = pipe.run({\n",
    "    \"prompt_builder\": {\n",
    "        \"query\": query,\n",
    "        \"documents\": documents\n",
    "    },\n",
    "    \"router\": {\"query\": query}\n",
    "})\n",
    "\n",
    "# 輸出來自 ConditionalRouter 的 `answer`\n",
    "print(result[\"router\"][\"answer\"])\n",
    "# ✅ 答案可以在定義的文件中找到。"
   ]
  },
  {
   "cell_type": "code",
   "execution_count": 9,
   "metadata": {},
   "outputs": [
    {
     "name": "stdout",
     "output_type": "stream",
     "text": [
      "['根据搜集到的文档，截至 2020 年 7 月 31 日，慕尼黑的人口为 1,558,395 人。']\n",
      "{'llm': {'meta': [{'model': 'gpt-4-turbo-2024-04-09', 'index': 0, 'finish_reason': 'stop', 'usage': {'completion_tokens': 2, 'prompt_tokens': 557, 'total_tokens': 559}}]}, 'websearch': {'links': ['https://zh.wikipedia.org/zh-hans/%E6%85%95%E5%B0%BC%E9%BB%91', 'https://zh.wikipedia.org/zh-hans/%E5%BE%B7%E5%9B%BD%E5%9F%8E%E5%B8%82%E5%88%97%E8%A1%A8_(%E6%8C%89%E4%BA%BA%E5%8F%A3%E6%8E%92%E5%88%97)', 'https://baike.baidu.com/item/%E6%85%95%E5%B0%BC%E9%BB%91%E5%B8%82/12766218', 'https://www.wicco.net/city/149', 'http://goabroad.sohu.com/20090421/n263520876.shtml', 'https://www.tatsachen-ueber-deutschland.de/zh-hans/gailan/duocaizhiguo', 'https://yuanhang.buaa.edu.cn/yhwx/info/1240/4953.htm', 'http://fao.sz.gov.cn/ztzl/lszt/gjmcszft/content/post_11844.html', 'https://www.epochtimes.com/gb/11/11/29/n3443938.htm', 'https://www.aklishi.com/sjls/ozls/20438.html']}, 'llm_for_websearch': {'replies': ['根据搜集到的文档，截至 2020 年 7 月 31 日，慕尼黑的人口为 1,558,395 人。'], 'meta': [{'model': 'gpt-4-turbo-2024-04-09', 'index': 0, 'finish_reason': 'stop', 'usage': {'completion_tokens': 47, 'prompt_tokens': 876, 'total_tokens': 923}}]}}\n"
     ]
    }
   ],
   "source": [
    "# 定義查詢\n",
    "query = \"慕尼黑有多少人口？\"\n",
    "\n",
    "# 運行管道\n",
    "result = pipe.run({\n",
    "    \"prompt_builder\": {\n",
    "        \"query\": query,\n",
    "        \"documents\": documents\n",
    "    },\n",
    "    \"router\": {\"query\": query}\n",
    "})\n",
    "\n",
    "# 輸出使用網絡搜索文件生成的 `replies`\n",
    "print(result[\"llm_for_websearch\"][\"replies\"])\n",
    "\n",
    "# 查看完整結果，你將看到網絡搜索組件還提供了從網上檢索到的文件鏈接：\n",
    "print(result)"
   ]
  }
 ],
 "metadata": {
  "kernelspec": {
   "display_name": "envHaystack",
   "language": "python",
   "name": "python3"
  },
  "language_info": {
   "codemirror_mode": {
    "name": "ipython",
    "version": 3
   },
   "file_extension": ".py",
   "mimetype": "text/x-python",
   "name": "python",
   "nbconvert_exporter": "python",
   "pygments_lexer": "ipython3",
   "version": "3.10.11"
  }
 },
 "nbformat": 4,
 "nbformat_minor": 2
}
