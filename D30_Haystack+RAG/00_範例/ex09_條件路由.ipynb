{
 "cells": [
  {
   "cell_type": "code",
   "execution_count": 1,
   "metadata": {},
   "outputs": [],
   "source": [
    "from getpass import getpass\n",
    "import os\n",
    "from dotenv import load_dotenv\n",
    "\n",
    "# 載入環境變數\n",
    "load_dotenv()\n",
    "# 兩個 API 的密鑰\n",
    "os.environ[\"OPENAI_API_KEY\"] = os.getenv(\"OPENAI_API_KEY\")\n",
    "os.environ[\"SERPERDEV_API_KEY\"] = os.getenv(\"SERPERDEV_API_KEY\")\n",
    "# 判斷是否存在，不存在可透過手動輸入\n",
    "if \"OPENAI_API_KEY\" not in os.environ:\n",
    "    os.environ[\"OPENAI_API_KEY\"] = getpass(\"Enter OpenAI API key:\")\n",
    "if \"SERPERDEV_API_KEY\" not in os.environ:\n",
    "    os.environ[\"SERPERDEV_API_KEY\"] = getpass(\"Enter Serper API key:\")"
   ]
  },
  {
   "cell_type": "code",
   "execution_count": 2,
   "metadata": {},
   "outputs": [],
   "source": [
    "# 用於建立文件\n",
    "from haystack.dataclasses import Document\n",
    "\n",
    "# 定義一個文件，內容描述了德國南部巴伐利亞州首府慕尼黑\n",
    "documents = [\n",
    "    Document(\n",
    "        content=\"\"\"慕尼黑是德國南部巴伐利亞州的首府，充滿了豐富的文化遺產和現代城市的優雅。位於伊薩爾河畔，慕尼黑以其華麗的建築而聞名，如馬麗恩廣場的慕尼黑新市政廳和寧芬堡宮的宏偉壯觀。這座城市是藝術愛好者的天堂，擁有世界級的博物館，如阿爾特·皮納科特克，收藏了許多著名藝術家的傑作。慕尼黑也因其熱鬧的啤酒花園而聞名，當地人和遊客聚集在這裡享受城市著名的啤酒和傳統巴伐利亞美食。每年的慕尼黑啤酒節是世界上最大的啤酒節，吸引了來自世界各地的數百萬遊客。除了豐富的文化和美食享受外，慕尼黑還擁有如英國花園這樣的美麗公園，為繁忙的都市提供了一個寧靜的避風港。遊客們為慕尼黑的熱情好客所打動，使得這裡成為了想要體驗古老魅力和現代魅力的旅行者必去的目的地。\"\"\"\n",
    "    )\n",
    "]"
   ]
  },
  {
   "cell_type": "code",
   "execution_count": 3,
   "metadata": {},
   "outputs": [],
   "source": [
    "# 定義一個提示模板，指導 LLM 回答查詢\n",
    "prompt_template = \"\"\"\n",
    "根據文件回答下列問題。\n",
    "如果答案未包含在文件中，請回覆\n",
    "'no_answer'\n",
    "\n",
    "Query: {{query}}\n",
    "\n",
    "Documents:\n",
    "{% for document in documents %}\n",
    "    {{document.content}}\n",
    "{% endfor %}\n",
    "\"\"\""
   ]
  },
  {
   "cell_type": "code",
   "execution_count": 4,
   "metadata": {},
   "outputs": [],
   "source": [
    "from haystack.components.builders.prompt_builder import PromptBuilder\n",
    "# 使用定義的模板建立 PromptBuilder\n",
    "prompt_builder = PromptBuilder(template=prompt_template)"
   ]
  },
  {
   "cell_type": "code",
   "execution_count": 5,
   "metadata": {},
   "outputs": [],
   "source": [
    "from haystack.components.generators import OpenAIGenerator\n",
    "# 初始化 OpenAIGenerator，使用 gpt-4-turbo 模型\n",
    "llm = OpenAIGenerator(model=\"gpt-4-turbo\")"
   ]
  },
  {
   "cell_type": "code",
   "execution_count": 6,
   "metadata": {},
   "outputs": [],
   "source": [
    "# 定義一個提示模板，用於網絡搜索\n",
    "prompt_for_websearch = \"\"\"\n",
    "根據從 Web 檢索到的文件，回答以下查詢。\n",
    "你的答案應表明你的答案是透過網路搜尋產生的。\n",
    "\n",
    "Query: {{query}}\n",
    "Documents:\n",
    "{% for document in documents %}\n",
    "    {{document.content}}\n",
    "{% endfor %}\n",
    "\"\"\""
   ]
  },
  {
   "cell_type": "code",
   "execution_count": 7,
   "metadata": {},
   "outputs": [],
   "source": [
    "from haystack.components.websearch.serper_dev import SerperDevWebSearch\n",
    "\n",
    "# 初始化網絡搜索組件\n",
    "websearch = SerperDevWebSearch()"
   ]
  },
  {
   "cell_type": "code",
   "execution_count": 8,
   "metadata": {},
   "outputs": [],
   "source": [
    "from haystack.components.builders.prompt_builder import PromptBuilder\n",
    "# 使用網絡搜索提示模板建立 PromptBuilder\n",
    "prompt_builder_for_websearch = PromptBuilder(template=prompt_for_websearch)"
   ]
  },
  {
   "cell_type": "code",
   "execution_count": 9,
   "metadata": {},
   "outputs": [],
   "source": [
    "from haystack.components.generators import OpenAIGenerator\n",
    "# 初始化 OpenAIGenerator，使用 gpt-4-turbo 模型\n",
    "llm_for_websearch = OpenAIGenerator(model=\"gpt-4-turbo\")"
   ]
  },
  {
   "cell_type": "code",
   "execution_count": 10,
   "metadata": {},
   "outputs": [],
   "source": [
    "from haystack.components.routers import ConditionalRouter\n",
    "\n",
    "# 定義路由規則\n",
    "routes = [\n",
    "    {\n",
    "        # 如果 LLM 回覆中包含 'no_answer'\n",
    "        \"condition\": \"{{'no_answer' in replies[0]}}\",\n",
    "        # 將查詢作為輸出\n",
    "        \"output\": \"{{query}}\",\n",
    "        # 輸出名稱\n",
    "        \"output_name\": \"go_to_websearch\",\n",
    "        # 輸出類型\n",
    "        \"output_type\": str\n",
    "    },\n",
    "    {\n",
    "        # 如果 LLM 回覆中不包含 'no_answer'\n",
    "        \"condition\": \"{{'no_answer' not in replies[0]}}\",\n",
    "        # 將回覆的答案作為輸出\n",
    "        \"output\": \"{{replies[0]}}\",\n",
    "        # 輸出名稱\n",
    "        \"output_name\": \"answer\",\n",
    "        # 輸出類型\n",
    "        \"output_type\": str\n",
    "    }\n",
    "]\n",
    "\n",
    "# 初始化 ConditionalRouter\n",
    "router = ConditionalRouter(routes)"
   ]
  },
  {
   "cell_type": "code",
   "execution_count": null,
   "metadata": {},
   "outputs": [],
   "source": [
    "from haystack import Pipeline\n",
    "\n",
    "# 建立管道\n",
    "pipe = Pipeline()"
   ]
  }
 ],
 "metadata": {
  "kernelspec": {
   "display_name": "envHaystack",
   "language": "python",
   "name": "python3"
  },
  "language_info": {
   "codemirror_mode": {
    "name": "ipython",
    "version": 3
   },
   "file_extension": ".py",
   "mimetype": "text/x-python",
   "name": "python",
   "nbconvert_exporter": "python",
   "pygments_lexer": "ipython3",
   "version": "3.10.11"
  }
 },
 "nbformat": 4,
 "nbformat_minor": 2
}
