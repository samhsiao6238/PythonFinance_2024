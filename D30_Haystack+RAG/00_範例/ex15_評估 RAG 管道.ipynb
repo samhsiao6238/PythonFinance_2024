{
 "cells": [
  {
   "cell_type": "code",
   "execution_count": null,
   "metadata": {},
   "outputs": [],
   "source": [
    "# 載入數據集\n",
    "from datasets import load_dataset\n",
    "from haystack import Document\n",
    "\n",
    "# 加載 PubMedQA 數據集，取前 1000 條數據\n",
    "dataset = load_dataset(\n",
    "    \"vblagoje/PubMedQA_instruction\",\n",
    "    split=\"train\"\n",
    ")\n",
    "dataset = dataset.select(range(1000))\n",
    "\n",
    "# 提取文件\n",
    "all_documents = [\n",
    "    Document(content=doc[\"context\"])\n",
    "    for doc in dataset\n",
    "]\n",
    "# 提取問題\n",
    "all_questions = [\n",
    "    doc[\"instruction\"]\n",
    "    for doc in dataset\n",
    "]\n",
    "# 提取真實答案\n",
    "all_ground_truth_answers = [\n",
    "    doc[\"response\"]\n",
    "    for doc in dataset\n",
    "]"
   ]
  },
  {
   "cell_type": "code",
   "execution_count": null,
   "metadata": {},
   "outputs": [],
   "source": [
    "from typing import List\n",
    "from haystack import Pipeline\n",
    "from haystack.components.embedders import SentenceTransformersDocumentEmbedder\n",
    "from haystack.components.writers import DocumentWriter\n",
    "from haystack.document_stores.in_memory import InMemoryDocumentStore\n",
    "from haystack.document_stores.types import DuplicatePolicy"
   ]
  },
  {
   "cell_type": "code",
   "execution_count": null,
   "metadata": {},
   "outputs": [],
   "source": [
    "# 建立索引管道\n",
    "indexing = Pipeline()"
   ]
  },
  {
   "cell_type": "code",
   "execution_count": null,
   "metadata": {},
   "outputs": [],
   "source": [
    "# 建立 `文件嵌入器`\n",
    "document_embedder = SentenceTransformersDocumentEmbedder(\n",
    "    model=\"sentence-transformers/all-MiniLM-L6-v2\"\n",
    ")\n",
    "\n",
    "# 建立 `內存文件儲存` 對象\n",
    "document_store = InMemoryDocumentStore()\n",
    "\n",
    "# 使用儲存對象建立 `文件寫入器`\n",
    "document_writer = DocumentWriter(\n",
    "    document_store=document_store,\n",
    "    # 重複時跳過\n",
    "    policy=DuplicatePolicy.SKIP\n",
    ")"
   ]
  },
  {
   "cell_type": "code",
   "execution_count": null,
   "metadata": {},
   "outputs": [],
   "source": [
    "# 添加管道元件\n",
    "indexing.add_component(\n",
    "    instance=document_embedder,\n",
    "    name=\"document_embedder\"\n",
    ")\n",
    "indexing.add_component(\n",
    "    instance=document_writer,\n",
    "    name=\"document_writer\"\n",
    ")"
   ]
  },
  {
   "cell_type": "code",
   "execution_count": null,
   "metadata": {},
   "outputs": [],
   "source": [
    "# 連接管道元件：連接嵌入器和寫入器\n",
    "indexing.connect(\n",
    "    \"document_embedder.documents\",\n",
    "    \"document_writer.documents\"\n",
    ")"
   ]
  },
  {
   "cell_type": "code",
   "execution_count": null,
   "metadata": {},
   "outputs": [],
   "source": [
    "# 執行索引管道\n",
    "indexing.run(\n",
    "    {\"document_embedder\": {\"documents\": all_documents}}\n",
    ")"
   ]
  },
  {
   "cell_type": "code",
   "execution_count": null,
   "metadata": {},
   "outputs": [],
   "source": [
    "indexing.draw('ex15-1.png')"
   ]
  },
  {
   "cell_type": "code",
   "execution_count": null,
   "metadata": {},
   "outputs": [],
   "source": [
    "import os\n",
    "from getpass import getpass\n",
    "from dotenv import load_dotenv\n",
    "\n",
    "# 載入環境變數\n",
    "load_dotenv()\n",
    "os.environ[\"OPENAI_API_KEY\"] = os.getenv(\"OPENAI_API_KEY\")\n",
    "# 設置 OpenAI API 金鑰\n",
    "if \"OPENAI_API_KEY\" not in os.environ:\n",
    "    os.environ[\"OPENAI_API_KEY\"] = getpass(\"Enter OpenAI API key:\")"
   ]
  },
  {
   "cell_type": "code",
   "execution_count": null,
   "metadata": {},
   "outputs": [],
   "source": [
    "from haystack.components.builders import AnswerBuilder, PromptBuilder\n",
    "from haystack.components.embedders import SentenceTransformersTextEmbedder\n",
    "from haystack.components.generators import OpenAIGenerator\n",
    "from haystack.components.retrievers.in_memory import InMemoryEmbeddingRetriever"
   ]
  },
  {
   "cell_type": "code",
   "execution_count": null,
   "metadata": {},
   "outputs": [],
   "source": [
    "# 定義生成答案的模板\n",
    "template = \"\"\"\n",
    "        您必須僅根據給定的上下文資訊回答以下問題。\n",
    "\n",
    "        上下文:\n",
    "        {% for document in documents %}\n",
    "            {{ document.content }}\n",
    "        {% endfor %}\n",
    "\n",
    "        問題: {{question}}\n",
    "        答案:\n",
    "        \"\"\""
   ]
  },
  {
   "cell_type": "code",
   "execution_count": null,
   "metadata": {},
   "outputs": [],
   "source": [
    "# 建立 RAG 管道\n",
    "rag_pipeline = Pipeline()"
   ]
  },
  {
   "cell_type": "code",
   "execution_count": null,
   "metadata": {},
   "outputs": [],
   "source": [
    "# 使用多語言支持的嵌入模型\n",
    "# rag_pipeline.add_component(\n",
    "#     \"query_embedder\",\n",
    "#     SentenceTransformersTextEmbedder(\n",
    "#         model=\"sentence-transformers/paraphrase-multilingual-MiniLM-L12-v2\"\n",
    "#     )\n",
    "# )\n",
    "\n",
    "# 改用支持多語言的嵌入模型\n",
    "rag_pipeline.add_component(\n",
    "    # 這是新的嵌入模型名稱\n",
    "    \"multi_language_embedder\", \n",
    "    SentenceTransformersTextEmbedder(\n",
    "        # 使用新的嵌入模型\n",
    "        model=\"sentence-transformers/all-MiniLM-L6-v2\"\n",
    "    )\n",
    ")\n",
    "\n",
    "rag_pipeline.add_component(\n",
    "    \"retriever\",\n",
    "    InMemoryEmbeddingRetriever(document_store, top_k=3)\n",
    ")\n",
    "rag_pipeline.add_component(\n",
    "    \"prompt_builder\",\n",
    "    PromptBuilder(template=template)\n",
    ")\n",
    "rag_pipeline.add_component(\n",
    "    \"generator\",\n",
    "    OpenAIGenerator(model=\"gpt-4-turbo\")\n",
    ")\n",
    "rag_pipeline.add_component(\n",
    "    \"answer_builder\",\n",
    "    AnswerBuilder()\n",
    ")"
   ]
  },
  {
   "cell_type": "code",
   "execution_count": null,
   "metadata": {},
   "outputs": [],
   "source": [
    "# 連接管道的組件\n",
    "rag_pipeline.connect(\n",
    "    \"query_embedder\", \"retriever.query_embedding\"\n",
    ")\n",
    "rag_pipeline.connect(\n",
    "    \"retriever\", \"prompt_builder.documents\"\n",
    ")\n",
    "rag_pipeline.connect(\n",
    "    \"prompt_builder\", \"generator\"\n",
    ")\n",
    "rag_pipeline.connect(\n",
    "    \"generator.replies\", \"answer_builder.replies\"\n",
    ")\n",
    "rag_pipeline.connect(\n",
    "    \"generator.meta\", \"answer_builder.meta\"\n",
    ")\n",
    "rag_pipeline.connect(\n",
    "    \"retriever\", \"answer_builder.documents\"\n",
    ")"
   ]
  },
  {
   "cell_type": "code",
   "execution_count": null,
   "metadata": {},
   "outputs": [],
   "source": [
    "# 問題\n",
    "question = \"Do high levels of procalcitonin in the early phase after pediatric liver transplantation indicate poor postoperative outcome?\"\n",
    "# question = \"小兒肝移植術後早期降鈣素原高是否表示術後效果不佳？\"\n",
    "\n",
    "# 運行管道\n",
    "response = rag_pipeline.run(\n",
    "    {\n",
    "        \"query_embedder\": {\"text\": question},\n",
    "        \"prompt_builder\": {\"question\": question},\n",
    "        \"answer_builder\": {\"query\": question}\n",
    "    }\n",
    ")\n",
    "# 輸出\n",
    "print(response[\"answer_builder\"][\"answers\"][0].data)"
   ]
  }
 ],
 "metadata": {
  "kernelspec": {
   "display_name": "envHaystack",
   "language": "python",
   "name": "python3"
  },
  "language_info": {
   "codemirror_mode": {
    "name": "ipython",
    "version": 3
   },
   "file_extension": ".py",
   "mimetype": "text/x-python",
   "name": "python",
   "nbconvert_exporter": "python",
   "pygments_lexer": "ipython3",
   "version": "3.10.11"
  }
 },
 "nbformat": 4,
 "nbformat_minor": 2
}
