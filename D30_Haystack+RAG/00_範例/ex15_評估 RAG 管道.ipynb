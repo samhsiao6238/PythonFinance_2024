{
 "cells": [
  {
   "cell_type": "code",
   "execution_count": 1,
   "metadata": {},
   "outputs": [
    {
     "name": "stderr",
     "output_type": "stream",
     "text": [
      "/Users/samhsiao/Documents/PythonVenv/envHaystack/lib/python3.10/site-packages/tqdm/auto.py:21: TqdmWarning: IProgress not found. Please update jupyter and ipywidgets. See https://ipywidgets.readthedocs.io/en/stable/user_install.html\n",
      "  from .autonotebook import tqdm as notebook_tqdm\n"
     ]
    }
   ],
   "source": [
    "# 載入數據集\n",
    "from datasets import load_dataset\n",
    "from haystack import Document\n",
    "\n",
    "# 加載 PubMedQA 數據集，取前 1000 條數據\n",
    "dataset = load_dataset(\n",
    "    \"vblagoje/PubMedQA_instruction\",\n",
    "    split=\"train\"\n",
    ")\n",
    "dataset = dataset.select(range(1000))\n",
    "\n",
    "# 提取文件\n",
    "all_documents = [\n",
    "    Document(content=doc[\"context\"])\n",
    "    for doc in dataset\n",
    "]\n",
    "# 提取問題\n",
    "all_questions = [\n",
    "    doc[\"instruction\"]\n",
    "    for doc in dataset\n",
    "]\n",
    "# 提取真實答案\n",
    "all_ground_truth_answers = [\n",
    "    doc[\"response\"]\n",
    "    for doc in dataset\n",
    "]"
   ]
  },
  {
   "cell_type": "code",
   "execution_count": 2,
   "metadata": {},
   "outputs": [],
   "source": [
    "from typing import List\n",
    "from haystack import Pipeline\n",
    "from haystack.components.embedders import SentenceTransformersDocumentEmbedder\n",
    "from haystack.components.writers import DocumentWriter\n",
    "from haystack.document_stores.in_memory import InMemoryDocumentStore\n",
    "from haystack.document_stores.types import DuplicatePolicy"
   ]
  },
  {
   "cell_type": "code",
   "execution_count": 3,
   "metadata": {},
   "outputs": [],
   "source": [
    "# 建立索引管道\n",
    "indexing = Pipeline()"
   ]
  },
  {
   "cell_type": "code",
   "execution_count": 4,
   "metadata": {},
   "outputs": [],
   "source": [
    "# 建立 `文件嵌入器`\n",
    "document_embedder = SentenceTransformersDocumentEmbedder(\n",
    "    model=\"sentence-transformers/all-MiniLM-L6-v2\"\n",
    ")\n",
    "\n",
    "# 建立 `內存文件儲存` 對象\n",
    "document_store = InMemoryDocumentStore()\n",
    "\n",
    "# 使用儲存對象建立 `文件寫入器`\n",
    "document_writer = DocumentWriter(\n",
    "    document_store=document_store,\n",
    "    # 重複時跳過\n",
    "    policy=DuplicatePolicy.SKIP\n",
    ")"
   ]
  },
  {
   "cell_type": "code",
   "execution_count": 5,
   "metadata": {},
   "outputs": [],
   "source": [
    "# 添加管道元件\n",
    "indexing.add_component(\n",
    "    instance=document_embedder,\n",
    "    name=\"document_embedder\"\n",
    ")\n",
    "indexing.add_component(\n",
    "    instance=document_writer,\n",
    "    name=\"document_writer\"\n",
    ")"
   ]
  },
  {
   "cell_type": "code",
   "execution_count": 6,
   "metadata": {},
   "outputs": [
    {
     "data": {
      "text/plain": [
       "<haystack.core.pipeline.pipeline.Pipeline object at 0x326956260>\n",
       "🚅 Components\n",
       "  - document_embedder: SentenceTransformersDocumentEmbedder\n",
       "  - document_writer: DocumentWriter\n",
       "🛤️ Connections\n",
       "  - document_embedder.documents -> document_writer.documents (List[Document])"
      ]
     },
     "execution_count": 6,
     "metadata": {},
     "output_type": "execute_result"
    }
   ],
   "source": [
    "# 連接管道元件：連接嵌入器和寫入器\n",
    "indexing.connect(\n",
    "    \"document_embedder.documents\",\n",
    "    \"document_writer.documents\"\n",
    ")"
   ]
  },
  {
   "cell_type": "code",
   "execution_count": 7,
   "metadata": {},
   "outputs": [
    {
     "name": "stderr",
     "output_type": "stream",
     "text": [
      "/Users/samhsiao/Documents/PythonVenv/envHaystack/lib/python3.10/site-packages/sentence_transformers/SentenceTransformer.py:174: FutureWarning: The `use_auth_token` argument is deprecated and will be removed in v3 of SentenceTransformers.\n",
      "  warnings.warn(\n",
      "/Users/samhsiao/Documents/PythonVenv/envHaystack/lib/python3.10/site-packages/huggingface_hub/file_download.py:1132: FutureWarning: `resume_download` is deprecated and will be removed in version 1.0.0. Downloads always resume when possible. If you want to force a new download, use `force_download=True`.\n",
      "  warnings.warn(\n",
      "Batches: 100%|██████████| 32/32 [00:06<00:00,  4.64it/s]\n"
     ]
    },
    {
     "data": {
      "text/plain": [
       "{'document_writer': {'documents_written': 1000}}"
      ]
     },
     "execution_count": 7,
     "metadata": {},
     "output_type": "execute_result"
    }
   ],
   "source": [
    "# 執行索引管道\n",
    "indexing.run(\n",
    "    {\"document_embedder\": {\"documents\": all_documents}}\n",
    ")"
   ]
  },
  {
   "cell_type": "code",
   "execution_count": 8,
   "metadata": {},
   "outputs": [],
   "source": [
    "indexing.draw('ex15-1.png')"
   ]
  },
  {
   "cell_type": "code",
   "execution_count": 9,
   "metadata": {},
   "outputs": [],
   "source": [
    "import os\n",
    "from getpass import getpass\n",
    "from dotenv import load_dotenv\n",
    "\n",
    "# 載入環境變數\n",
    "load_dotenv()\n",
    "os.environ[\"OPENAI_API_KEY\"] = os.getenv(\"OPENAI_API_KEY\")\n",
    "# 設置 OpenAI API 金鑰\n",
    "if \"OPENAI_API_KEY\" not in os.environ:\n",
    "    os.environ[\"OPENAI_API_KEY\"] = getpass(\"Enter OpenAI API key:\")"
   ]
  },
  {
   "cell_type": "code",
   "execution_count": 10,
   "metadata": {},
   "outputs": [],
   "source": [
    "from haystack.components.builders import AnswerBuilder, PromptBuilder\n",
    "from haystack.components.embedders import SentenceTransformersTextEmbedder\n",
    "from haystack.components.generators import OpenAIGenerator\n",
    "from haystack.components.retrievers.in_memory import InMemoryEmbeddingRetriever"
   ]
  },
  {
   "cell_type": "code",
   "execution_count": 11,
   "metadata": {},
   "outputs": [],
   "source": [
    "# 定義生成答案的模板\n",
    "template = \"\"\"\n",
    "        您必須僅根據給定的上下文資訊回答以下問題。\n",
    "\n",
    "        上下文:\n",
    "        {% for document in documents %}\n",
    "            {{ document.content }}\n",
    "        {% endfor %}\n",
    "\n",
    "        問題: {{question}}\n",
    "        答案:\n",
    "        \"\"\""
   ]
  },
  {
   "cell_type": "code",
   "execution_count": 12,
   "metadata": {},
   "outputs": [],
   "source": [
    "# 建立 RAG 管道\n",
    "rag_pipeline = Pipeline()"
   ]
  },
  {
   "cell_type": "code",
   "execution_count": 13,
   "metadata": {},
   "outputs": [],
   "source": [
    "rag_pipeline.add_component(\n",
    "    \"query_embedder\", \n",
    "    SentenceTransformersTextEmbedder(\n",
    "        model=\"sentence-transformers/all-MiniLM-L6-v2\"\n",
    "    )\n",
    ")\n",
    "rag_pipeline.add_component(\n",
    "    \"retriever\",\n",
    "    InMemoryEmbeddingRetriever(document_store, top_k=3)\n",
    ")\n",
    "rag_pipeline.add_component(\n",
    "    \"prompt_builder\",\n",
    "    PromptBuilder(template=template)\n",
    ")\n",
    "rag_pipeline.add_component(\n",
    "    \"generator\",\n",
    "    OpenAIGenerator(model=\"gpt-4-turbo\")\n",
    ")\n",
    "rag_pipeline.add_component(\n",
    "    \"answer_builder\",\n",
    "    AnswerBuilder()\n",
    ")"
   ]
  },
  {
   "cell_type": "code",
   "execution_count": 14,
   "metadata": {},
   "outputs": [
    {
     "data": {
      "text/plain": [
       "<haystack.core.pipeline.pipeline.Pipeline object at 0x38db2ded0>\n",
       "🚅 Components\n",
       "  - query_embedder: SentenceTransformersTextEmbedder\n",
       "  - retriever: InMemoryEmbeddingRetriever\n",
       "  - prompt_builder: PromptBuilder\n",
       "  - generator: OpenAIGenerator\n",
       "  - answer_builder: AnswerBuilder\n",
       "🛤️ Connections\n",
       "  - query_embedder.embedding -> retriever.query_embedding (List[float])\n",
       "  - retriever.documents -> prompt_builder.documents (List[Document])\n",
       "  - retriever.documents -> answer_builder.documents (List[Document])\n",
       "  - prompt_builder.prompt -> generator.prompt (str)\n",
       "  - generator.replies -> answer_builder.replies (List[str])\n",
       "  - generator.meta -> answer_builder.meta (List[Dict[str, Any]])"
      ]
     },
     "execution_count": 14,
     "metadata": {},
     "output_type": "execute_result"
    }
   ],
   "source": [
    "# 連接管道的組件\n",
    "rag_pipeline.connect(\n",
    "    \"query_embedder\", \"retriever.query_embedding\"\n",
    ")\n",
    "rag_pipeline.connect(\n",
    "    \"retriever\", \"prompt_builder.documents\"\n",
    ")\n",
    "rag_pipeline.connect(\n",
    "    \"prompt_builder\", \"generator\"\n",
    ")\n",
    "rag_pipeline.connect(\n",
    "    \"generator.replies\", \"answer_builder.replies\"\n",
    ")\n",
    "rag_pipeline.connect(\n",
    "    \"generator.meta\", \"answer_builder.meta\"\n",
    ")\n",
    "rag_pipeline.connect(\n",
    "    \"retriever\", \"answer_builder.documents\"\n",
    ")"
   ]
  },
  {
   "cell_type": "code",
   "execution_count": 17,
   "metadata": {},
   "outputs": [
    {
     "name": "stderr",
     "output_type": "stream",
     "text": [
      "Batches: 100%|██████████| 1/1 [00:00<00:00,  8.92it/s]\n"
     ]
    },
    {
     "name": "stdout",
     "output_type": "stream",
     "text": [
      "pediatric liver transplantation correlate with higher morbidity and complications? Yes, high levels of procalcitonin (PCT) on postoperative day 2 are associated with higher International Normalized Ratio values on postoperative day 5, more frequent cases of primary graft non-function, longer stays in the pediatric intensive care unit, and longer durations on mechanical ventilation. This suggests that elevated PCT levels can indeed be an indicator of higher morbidity and complications in the early phase after pediatric liver transplantation.\n"
     ]
    }
   ],
   "source": [
    "# 問題：小兒肝移植術後早期降鈣素原高是否表示術後效果不佳？\n",
    "question = \"Do high levels of procalcitonin in the early phase after?\"\n",
    "\n",
    "# 運行管道\n",
    "response = rag_pipeline.run(\n",
    "    {\n",
    "        \"query_embedder\": {\"text\": question},\n",
    "        \"prompt_builder\": {\"question\": question},\n",
    "        \"answer_builder\": {\"query\": question}\n",
    "    }\n",
    ")\n",
    "# 輸出\n",
    "print(response[\"answer_builder\"][\"answers\"][0].data)"
   ]
  },
  {
   "cell_type": "code",
   "execution_count": 20,
   "metadata": {},
   "outputs": [
    {
     "ename": "ValueError",
     "evalue": "A component named 'query_embedder' already exists in this pipeline: choose another name.",
     "output_type": "error",
     "traceback": [
      "\u001b[0;31m---------------------------------------------------------------------------\u001b[0m",
      "\u001b[0;31mValueError\u001b[0m                                Traceback (most recent call last)",
      "Cell \u001b[0;32mIn[20], line 10\u001b[0m\n\u001b[1;32m      1\u001b[0m \u001b[38;5;66;03m# 註解原本代碼\u001b[39;00m\n\u001b[1;32m      2\u001b[0m \u001b[38;5;66;03m# rag_pipeline.add_component(\u001b[39;00m\n\u001b[1;32m      3\u001b[0m \u001b[38;5;66;03m#     \"query_embedder\", \u001b[39;00m\n\u001b[0;32m   (...)\u001b[0m\n\u001b[1;32m      8\u001b[0m \n\u001b[1;32m      9\u001b[0m \u001b[38;5;66;03m# 改用多語言支持的嵌入模型\u001b[39;00m\n\u001b[0;32m---> 10\u001b[0m \u001b[43mrag_pipeline\u001b[49m\u001b[38;5;241;43m.\u001b[39;49m\u001b[43madd_component\u001b[49m\u001b[43m(\u001b[49m\n\u001b[1;32m     11\u001b[0m \u001b[43m    \u001b[49m\u001b[38;5;124;43m\"\u001b[39;49m\u001b[38;5;124;43mquery_embedder\u001b[39;49m\u001b[38;5;124;43m\"\u001b[39;49m\u001b[43m,\u001b[49m\n\u001b[1;32m     12\u001b[0m \u001b[43m    \u001b[49m\u001b[43mSentenceTransformersTextEmbedder\u001b[49m\u001b[43m(\u001b[49m\n\u001b[1;32m     13\u001b[0m \u001b[43m        \u001b[49m\u001b[43mmodel\u001b[49m\u001b[38;5;241;43m=\u001b[39;49m\u001b[38;5;124;43m\"\u001b[39;49m\u001b[38;5;124;43msentence-transformers/paraphrase-multilingual-MiniLM-L12-v2\u001b[39;49m\u001b[38;5;124;43m\"\u001b[39;49m\n\u001b[1;32m     14\u001b[0m \u001b[43m    \u001b[49m\u001b[43m)\u001b[49m\n\u001b[1;32m     15\u001b[0m \u001b[43m)\u001b[49m\n",
      "File \u001b[0;32m~/Documents/PythonVenv/envHaystack/lib/python3.10/site-packages/haystack/core/pipeline/base.py:279\u001b[0m, in \u001b[0;36mPipelineBase.add_component\u001b[0;34m(self, name, instance)\u001b[0m\n\u001b[1;32m    277\u001b[0m \u001b[38;5;66;03m# Component names are unique\u001b[39;00m\n\u001b[1;32m    278\u001b[0m \u001b[38;5;28;01mif\u001b[39;00m name \u001b[38;5;129;01min\u001b[39;00m \u001b[38;5;28mself\u001b[39m\u001b[38;5;241m.\u001b[39mgraph\u001b[38;5;241m.\u001b[39mnodes:\n\u001b[0;32m--> 279\u001b[0m     \u001b[38;5;28;01mraise\u001b[39;00m \u001b[38;5;167;01mValueError\u001b[39;00m(\u001b[38;5;124mf\u001b[39m\u001b[38;5;124m\"\u001b[39m\u001b[38;5;124mA component named \u001b[39m\u001b[38;5;124m'\u001b[39m\u001b[38;5;132;01m{\u001b[39;00mname\u001b[38;5;132;01m}\u001b[39;00m\u001b[38;5;124m'\u001b[39m\u001b[38;5;124m already exists in this pipeline: choose another name.\u001b[39m\u001b[38;5;124m\"\u001b[39m)\n\u001b[1;32m    281\u001b[0m \u001b[38;5;66;03m# Components can't be named `_debug`\u001b[39;00m\n\u001b[1;32m    282\u001b[0m \u001b[38;5;28;01mif\u001b[39;00m name \u001b[38;5;241m==\u001b[39m \u001b[38;5;124m\"\u001b[39m\u001b[38;5;124m_debug\u001b[39m\u001b[38;5;124m\"\u001b[39m:\n",
      "\u001b[0;31mValueError\u001b[0m: A component named 'query_embedder' already exists in this pipeline: choose another name."
     ]
    }
   ],
   "source": [
    "# 註解原本代碼\n",
    "# rag_pipeline.add_component(\n",
    "#     \"query_embedder\", \n",
    "#     SentenceTransformersTextEmbedder(\n",
    "#         model=\"sentence-transformers/all-MiniLM-L6-v2\"\n",
    "#     )\n",
    "# )\n",
    "\n",
    "# 改用多語言支持的嵌入模型\n",
    "rag_pipeline.add_component(\n",
    "    \"query_embedder\",\n",
    "    SentenceTransformersTextEmbedder(\n",
    "        model=\"sentence-transformers/paraphrase-multilingual-MiniLM-L12-v2\"\n",
    "    )\n",
    ")"
   ]
  }
 ],
 "metadata": {
  "kernelspec": {
   "display_name": "envHaystack",
   "language": "python",
   "name": "python3"
  },
  "language_info": {
   "codemirror_mode": {
    "name": "ipython",
    "version": 3
   },
   "file_extension": ".py",
   "mimetype": "text/x-python",
   "name": "python",
   "nbconvert_exporter": "python",
   "pygments_lexer": "ipython3",
   "version": "3.10.11"
  }
 },
 "nbformat": 4,
 "nbformat_minor": 2
}
