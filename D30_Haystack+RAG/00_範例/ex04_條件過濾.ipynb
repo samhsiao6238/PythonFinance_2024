{
 "cells": [
  {
   "cell_type": "code",
   "execution_count": 1,
   "metadata": {},
   "outputs": [
    {
     "name": "stderr",
     "output_type": "stream",
     "text": [
      "/Users/samhsiao/Documents/PythonVenv/envHaystack/lib/python3.10/site-packages/tqdm/auto.py:21: TqdmWarning: IProgress not found. Please update jupyter and ipywidgets. See https://ipywidgets.readthedocs.io/en/stable/user_install.html\n",
      "  from .autonotebook import tqdm as notebook_tqdm\n"
     ]
    },
    {
     "data": {
      "text/plain": [
       "3"
      ]
     },
     "execution_count": 1,
     "metadata": {},
     "output_type": "execute_result"
    }
   ],
   "source": [
    "from datetime import datetime\n",
    "from haystack import Document\n",
    "from haystack.document_stores.in_memory import InMemoryDocumentStore\n",
    "from haystack.components.retrievers.in_memory import InMemoryBM25Retriever\n",
    "\n",
    "# 建立文件\n",
    "documents = [\n",
    "    Document(\n",
    "        content=\"Use pip to install a basic version of Haystack's latest release: pip install farm-haystack. All the core Haystack components live in the haystack repo. But there's also the haystack-extras repo which contains components that are not as widely used, and you need to install them separately.\",\n",
    "        meta={\"version\": 1.15, \"date\": datetime(2023, 3, 30)},\n",
    "    ),\n",
    "    Document(\n",
    "        content=\"Use pip to install a basic version of Haystack's latest release: pip install farm-haystack[inference]. All the core Haystack components live in the haystack repo. But there's also the haystack-extras repo which contains components that are not as widely used, and you need to install them separately.\",\n",
    "        meta={\"version\": 1.22, \"date\": datetime(2023, 11, 7)},\n",
    "    ),\n",
    "    Document(\n",
    "        content=\"Use pip to install only the Haystack 2.0 code: pip install haystack-ai. The haystack-ai package is built on the main branch which is an unstable beta version, but it's useful if you want to try the new features as soon as they are merged.\",\n",
    "        meta={\"version\": 2.0, \"date\": datetime(2023, 12, 4)},\n",
    "    ),\n",
    "]\n",
    "\n",
    "# 初始化內存文件儲存\n",
    "document_store = InMemoryDocumentStore(bm25_algorithm=\"BM25Plus\")\n",
    "# 將文件寫入文件儲存\n",
    "document_store.write_documents(documents=documents)"
   ]
  },
  {
   "cell_type": "markdown",
   "metadata": {},
   "source": [
    "這樣會出錯"
   ]
  },
  {
   "cell_type": "code",
   "execution_count": null,
   "metadata": {},
   "outputs": [],
   "source": [
    "# 將內存文件儲存寫入文件儲存\n",
    "docs = document_store.write_documents(\n",
    "    documents=documents\n",
    ")\n",
    "# 查看回傳值\n",
    "print(docs)"
   ]
  },
  {
   "cell_type": "markdown",
   "metadata": {},
   "source": [
    "查看有哪些屬性可用"
   ]
  },
  {
   "cell_type": "code",
   "execution_count": 2,
   "metadata": {},
   "outputs": [
    {
     "name": "stdout",
     "output_type": "stream",
     "text": [
      "['__class__', '__delattr__', '__dict__', '__dir__', '__doc__', '__eq__', '__format__', '__ge__', '__getattribute__', '__gt__', '__hash__', '__init__', '__init_subclass__', '__le__', '__lt__', '__module__', '__ne__', '__new__', '__reduce__', '__reduce_ex__', '__repr__', '__setattr__', '__sizeof__', '__str__', '__subclasshook__', '__weakref__', '_avg_doc_len', '_bm25_attr', '_compute_query_embedding_similarity_scores', '_dispatch_bm25', '_freq_vocab_for_idf', '_score_bm25l', '_score_bm25okapi', '_score_bm25plus', '_tokenize_bm25', 'bm25_algorithm', 'bm25_algorithm_inst', 'bm25_parameters', 'bm25_retrieval', 'bm25_tokenization_regex', 'count_documents', 'delete_documents', 'embedding_retrieval', 'embedding_similarity_function', 'filter_documents', 'from_dict', 'index', 'storage', 'to_dict', 'tokenizer', 'write_documents']\n"
     ]
    }
   ],
   "source": [
    "# 列出所有可用的方法和屬性\n",
    "print(dir(document_store))"
   ]
  },
  {
   "cell_type": "code",
   "execution_count": 3,
   "metadata": {},
   "outputs": [
    {
     "name": "stdout",
     "output_type": "stream",
     "text": [
      "儲存的文件數量：3\n"
     ]
    }
   ],
   "source": [
    "# 查看文件的總數\n",
    "document_count = document_store.count_documents()\n",
    "print(f\"儲存的文件數量：{document_count}\")\n"
   ]
  },
  {
   "cell_type": "code",
   "execution_count": 4,
   "metadata": {},
   "outputs": [],
   "source": [
    "from haystack import Pipeline\n",
    "\n",
    "# 初始化管道\n",
    "pipeline = Pipeline()\n",
    "# 添加內存 BM25 檢索器到管道\n",
    "pipeline.add_component(\n",
    "    instance=InMemoryBM25Retriever(document_store=document_store),\n",
    "    name=\"retriever\"\n",
    ")"
   ]
  },
  {
   "cell_type": "markdown",
   "metadata": {},
   "source": [
    "單一條件檢索"
   ]
  },
  {
   "cell_type": "code",
   "execution_count": 6,
   "metadata": {},
   "outputs": [
    {
     "name": "stdout",
     "output_type": "stream",
     "text": [
      "{'retriever': {'documents': [Document(id=b53625c67fee5ba5ac6dc86e7ca0adff567bf8376e86ae4b3fc6f6f858ccf1e5, content: 'Use pip to install a basic version of Haystack's latest release: pip install farm-haystack[inference...', meta: {'version': 1.22, 'date': datetime.datetime(2023, 11, 7, 0, 0)}, score: 0.37481165807926137), Document(id=8ac1f8119bdec5c898d5a5c69f49ff47f64056bce1a0f95073e34493bbaf9354, content: 'Use pip to install only the Haystack 2.0 code: pip install haystack-ai. The haystack-ai package is b...', meta: {'version': 2.0, 'date': datetime.datetime(2023, 12, 4, 0, 0)}, score: 0.34124689226266874)]}}\n"
     ]
    }
   ],
   "source": [
    "# 提問並進行元數據過濾\n",
    "query = \"Haystack installation\"\n",
    "result = pipeline.run(\n",
    "    data={\n",
    "        \"retriever\": {\n",
    "            \"query\": query,\n",
    "            \"filters\": {\n",
    "                \"field\": \"meta.version\",\n",
    "                \"operator\": \">\", \"value\": 1.21\n",
    "            }\n",
    "        }\n",
    "    }\n",
    ")\n",
    "\n",
    "# 輸出結果\n",
    "print(result)"
   ]
  },
  {
   "cell_type": "markdown",
   "metadata": {},
   "source": [
    "複合條件檢索"
   ]
  },
  {
   "cell_type": "code",
   "execution_count": 7,
   "metadata": {},
   "outputs": [
    {
     "name": "stdout",
     "output_type": "stream",
     "text": [
      "{'retriever': {'documents': [Document(id=8ac1f8119bdec5c898d5a5c69f49ff47f64056bce1a0f95073e34493bbaf9354, content: 'Use pip to install only the Haystack 2.0 code: pip install haystack-ai. The haystack-ai package is b...', meta: {'version': 2.0, 'date': datetime.datetime(2023, 12, 4, 0, 0)}, score: 0.34124689226266874)]}}\n"
     ]
    }
   ],
   "source": [
    "# 提問並進行複合條件過濾\n",
    "query = \"Haystack installation\"\n",
    "result = pipeline.run(\n",
    "    data={\n",
    "        \"retriever\": {\n",
    "            \"query\": query,\n",
    "            \"filters\": {\n",
    "                \"operator\": \"AND\",\n",
    "                \"conditions\": [\n",
    "                    {\"field\": \"meta.version\", \"operator\": \">\", \"value\": 1.21},\n",
    "                    {\"field\": \"meta.date\", \"operator\": \">\", \"value\": datetime(2023, 11, 7)},\n",
    "                ],\n",
    "            },\n",
    "        }\n",
    "    }\n",
    ")\n",
    "\n",
    "# 輸出結果\n",
    "print(result)"
   ]
  },
  {
   "cell_type": "markdown",
   "metadata": {},
   "source": [
    "優化"
   ]
  },
  {
   "cell_type": "code",
   "execution_count": 8,
   "metadata": {},
   "outputs": [
    {
     "name": "stdout",
     "output_type": "stream",
     "text": [
      "Document 1:\n",
      "ID: b53625c67fee5ba5ac6dc86e7ca0adff567bf8376e86ae4b3fc6f6f858ccf1e5\n",
      "Content: Use pip to install a basic version of Haystack's latest release: pip install farm-haystack[inference...\n",
      "Meta: {'version': 1.22, 'date': datetime.datetime(2023, 11, 7, 0, 0)}\n",
      "----------------------------------------\n",
      "Document 2:\n",
      "ID: 8ac1f8119bdec5c898d5a5c69f49ff47f64056bce1a0f95073e34493bbaf9354\n",
      "Content: Use pip to install only the Haystack 2.0 code: pip install haystack-ai. The haystack-ai package is b...\n",
      "Meta: {'version': 2.0, 'date': datetime.datetime(2023, 12, 4, 0, 0)}\n",
      "----------------------------------------\n"
     ]
    }
   ],
   "source": [
    "# 提問並進行元數據過濾\n",
    "query = \"Haystack installation\"\n",
    "result = pipeline.run(\n",
    "    data={\n",
    "        \"retriever\": {\n",
    "            \"query\": query,\n",
    "            \"filters\": {\n",
    "                \"field\": \"meta.version\",\n",
    "                \"operator\": \">\", \"value\": 1.21\n",
    "            }\n",
    "        }\n",
    "    }\n",
    ")\n",
    "\n",
    "# 優化輸出結果\n",
    "for idx, doc in enumerate(result['retriever']['documents']):\n",
    "    print(f\"Document {idx + 1}:\")\n",
    "    print(f\"ID: {doc.id}\")\n",
    "    # 只顯示前 100 個字符\n",
    "    print(f\"Content: {doc.content[:100]}...\")\n",
    "    print(f\"Meta: {doc.meta}\")\n",
    "    print(\"-\" * 40)\n"
   ]
  },
  {
   "cell_type": "code",
   "execution_count": 10,
   "metadata": {},
   "outputs": [
    {
     "name": "stdout",
     "output_type": "stream",
     "text": [
      "Document 1:\n",
      "ID: 8ac1f8119bdec5c898d5a5c69f49ff47f64056bce1a0f95073e34493bbaf9354\n",
      "Content: Use pip to install only the Haystack 2.0 code: pip install haystack-ai. The haystack-ai package is b...\n",
      "Meta: {'version': 2.0, 'date': datetime.datetime(2023, 12, 4, 0, 0)}\n",
      "----------------------------------------\n"
     ]
    }
   ],
   "source": [
    "# 提問並進行複合條件過濾\n",
    "query = \"Haystack installation\"\n",
    "result = pipeline.run(\n",
    "    data={\n",
    "        \"retriever\": {\n",
    "            \"query\": query,\n",
    "            \"filters\": {\n",
    "                \"operator\": \"AND\",\n",
    "                \"conditions\": [\n",
    "                    {\n",
    "                        \"field\": \"meta.version\",\n",
    "                        \"operator\": \">\",\n",
    "                        \"value\": 1.21\n",
    "                    },\n",
    "                    {\n",
    "                        \"field\": \"meta.date\",\n",
    "                        \"operator\": \">\",\n",
    "                        \"value\": datetime(2023, 11, 7)\n",
    "                    },\n",
    "                ],\n",
    "            },\n",
    "        }\n",
    "    }\n",
    ")\n",
    "\n",
    "# 優化輸出結果\n",
    "for idx, doc in enumerate(result['retriever']['documents']):\n",
    "    print(f\"Document {idx + 1}:\")\n",
    "    print(f\"ID: {doc.id}\")\n",
    "    # 只顯示前 100 個字符\n",
    "    print(f\"Content: {doc.content[:100]}...\")\n",
    "    print(f\"Meta: {doc.meta}\")\n",
    "    print(\"-\" * 40)\n"
   ]
  }
 ],
 "metadata": {
  "kernelspec": {
   "display_name": "envHaystack",
   "language": "python",
   "name": "python3"
  },
  "language_info": {
   "codemirror_mode": {
    "name": "ipython",
    "version": 3
   },
   "file_extension": ".py",
   "mimetype": "text/x-python",
   "name": "python",
   "nbconvert_exporter": "python",
   "pygments_lexer": "ipython3",
   "version": "3.10.11"
  }
 },
 "nbformat": 4,
 "nbformat_minor": 2
}
