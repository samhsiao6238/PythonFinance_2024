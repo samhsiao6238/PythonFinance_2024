{
 "cells": [
  {
   "cell_type": "code",
   "execution_count": null,
   "metadata": {},
   "outputs": [],
   "source": [
    "from datasets import load_dataset\n",
    "from haystack import Document, Pipeline\n",
    "from haystack.document_stores.in_memory import InMemoryDocumentStore\n",
    "from haystack.components.retrievers.in_memory import InMemoryEmbeddingRetriever\n",
    "from haystack.components.readers import ExtractiveReader\n",
    "from haystack.components.embedders import SentenceTransformersDocumentEmbedder\n",
    "from haystack.components.writers import DocumentWriter"
   ]
  },
  {
   "cell_type": "code",
   "execution_count": 1,
   "metadata": {},
   "outputs": [
    {
     "name": "stderr",
     "output_type": "stream",
     "text": [
      "/Users/samhsiao/Documents/PythonVenv/envHaystack/lib/python3.10/site-packages/tqdm/auto.py:21: TqdmWarning: IProgress not found. Please update jupyter and ipywidgets. See https://ipywidgets.readthedocs.io/en/stable/user_install.html\n",
      "  from .autonotebook import tqdm as notebook_tqdm\n",
      "/Users/samhsiao/Documents/PythonVenv/envHaystack/lib/python3.10/site-packages/sentence_transformers/SentenceTransformer.py:174: FutureWarning: The `use_auth_token` argument is deprecated and will be removed in v3 of SentenceTransformers.\n",
      "  warnings.warn(\n",
      "/Users/samhsiao/Documents/PythonVenv/envHaystack/lib/python3.10/site-packages/huggingface_hub/file_download.py:1132: FutureWarning: `resume_download` is deprecated and will be removed in version 1.0.0. Downloads always resume when possible. If you want to force a new download, use `force_download=True`.\n",
      "  warnings.warn(\n",
      "Batches: 100%|██████████| 5/5 [00:09<00:00,  1.82s/it]\n"
     ]
    },
    {
     "data": {
      "text/plain": [
       "{'writer': {'documents_written': 151}}"
      ]
     },
     "execution_count": 1,
     "metadata": {},
     "output_type": "execute_result"
    }
   ],
   "source": [
    "# 加載 \"古代世界七大奇蹟\" 數據集\n",
    "dataset = load_dataset(\n",
    "    \"bilgeyucel/seven-wonders\",\n",
    "    split=\"train\"\n",
    ")\n",
    "\n",
    "# 將數據集轉換為 Haystack 文件格式\n",
    "documents = [\n",
    "    Document(content=doc[\"content\"], meta=doc[\"meta\"])\n",
    "    for doc in dataset\n",
    "]\n",
    "\n",
    "# 定義嵌入模型\n",
    "model = \"sentence-transformers/multi-qa-mpnet-base-dot-v1\"\n",
    "\n",
    "# 初始化內存文件存儲\n",
    "document_store = InMemoryDocumentStore()\n",
    "\n",
    "# 建立索引管道\n",
    "indexing_pipeline = Pipeline()\n",
    "\n",
    "# 添加嵌入組件到管道\n",
    "indexing_pipeline.add_component(\n",
    "    instance=SentenceTransformersDocumentEmbedder(model=model),\n",
    "    name=\"embedder\"\n",
    ")\n",
    "# 添加文件寫入組件到管道\n",
    "indexing_pipeline.add_component(\n",
    "    instance=DocumentWriter(document_store=document_store),\n",
    "    name=\"writer\"\n",
    ")\n",
    "\n",
    "# 連接嵌入組件和文件寫入組件\n",
    "indexing_pipeline.connect(\n",
    "    \"embedder.documents\",\n",
    "    \"writer.documents\"\n",
    ")\n",
    "\n",
    "# 執行索引管道\n",
    "indexing_pipeline.run({\"documents\": documents})"
   ]
  },
  {
   "cell_type": "code",
   "execution_count": 2,
   "metadata": {},
   "outputs": [
    {
     "name": "stderr",
     "output_type": "stream",
     "text": [
      "Batches: 100%|██████████| 1/1 [00:01<00:00,  1.36s/it]\n"
     ]
    }
   ],
   "source": [
    "# 從 Haystack 模組中導入需要的組件\n",
    "from haystack.components.retrievers.in_memory import InMemoryEmbeddingRetriever\n",
    "from haystack.components.readers import ExtractiveReader\n",
    "from haystack.components.embedders import SentenceTransformersTextEmbedder\n",
    "\n",
    "# 初始化檢索器\n",
    "retriever = InMemoryEmbeddingRetriever(document_store=document_store)\n",
    "\n",
    "# 初始化讀取器\n",
    "reader = ExtractiveReader()\n",
    "# 預熱讀取器\n",
    "reader.warm_up()\n",
    "\n",
    "# 建立抽取式問答管道\n",
    "extractive_qa_pipeline = Pipeline()\n",
    "\n",
    "# 添加嵌入組件到管道\n",
    "extractive_qa_pipeline.add_component(\n",
    "    instance=SentenceTransformersTextEmbedder(model=model),\n",
    "    name=\"embedder\"\n",
    ")\n",
    "# 添加檢索組件到管道\n",
    "extractive_qa_pipeline.add_component(\n",
    "    instance=retriever,\n",
    "    name=\"retriever\"\n",
    ")\n",
    "# 添加讀取組件到管道\n",
    "extractive_qa_pipeline.add_component(\n",
    "    instance=reader,\n",
    "    name=\"reader\"\n",
    ")\n",
    "\n",
    "# 連接嵌入組件和檢索組件\n",
    "extractive_qa_pipeline.connect(\n",
    "    \"embedder.embedding\",\n",
    "    \"retriever.query_embedding\"\n",
    ")\n",
    "# 連接檢索組件和讀取組件\n",
    "extractive_qa_pipeline.connect(\n",
    "    \"retriever.documents\",\n",
    "    \"reader.documents\"\n",
    ")\n",
    "\n",
    "# 定義查詢\n",
    "query = \"Who was Pliny the Elder?\"\n",
    "\n",
    "# 執行抽取式問答管道，並返回答案\n",
    "result = extractive_qa_pipeline.run(\n",
    "    data={\n",
    "        \"embedder\": {\"text\": query},\n",
    "        \"retriever\": {\"top_k\": 3},\n",
    "        \"reader\": {\n",
    "            \"query\": query,\n",
    "            \"top_k\": 2\n",
    "        }\n",
    "    }\n",
    ")"
   ]
  },
  {
   "cell_type": "code",
   "execution_count": 3,
   "metadata": {},
   "outputs": [
    {
     "data": {
      "text/plain": [
       "{'reader': {'answers': [ExtractedAnswer(query='Who was Pliny the Elder?', score=0.8306005597114563, data='Roman writer', document=Document(id=bb2c5f3d2e2e2bf28d599c7b686ab47ba10fbc13c07279e612d8632af81e5d71, content: 'The Roman writer Pliny the Elder, writing in the first century AD, argued that the Great Pyramid had...', meta: {'url': 'https://en.wikipedia.org/wiki/Great_Pyramid_of_Giza', '_split_id': 16}, score: 21.66772941840059), context=None, document_offset=ExtractedAnswer.Span(start=4, end=16), context_offset=None, meta={}),\n",
       "   ExtractedAnswer(query='Who was Pliny the Elder?', score=0.7280887365341187, data='a Roman author', document=Document(id=8910f21f7c0e97792473bcc60a8dcc7f6a90586dbb46b7bf96d28dbfcdc313f4, content: '[21]\n",
       "   Pliny the Elder (AD 23/24 – 79) was a Roman author, a naturalist and natural philosopher, a nav...', meta: {'url': 'https://en.wikipedia.org/wiki/Colossus_of_Rhodes', '_split_id': 8}, score: 26.857539924645973), context=None, document_offset=ExtractedAnswer.Span(start=41, end=55), context_offset=None, meta={}),\n",
       "   ExtractedAnswer(query='Who was Pliny the Elder?', score=0.04606161583927104, data=None, document=None, context=None, document_offset=None, context_offset=None, meta={})]}}"
      ]
     },
     "execution_count": 3,
     "metadata": {},
     "output_type": "execute_result"
    }
   ],
   "source": [
    "result"
   ]
  },
  {
   "cell_type": "code",
   "execution_count": 5,
   "metadata": {},
   "outputs": [
    {
     "name": "stdout",
     "output_type": "stream",
     "text": [
      "提取的答案：\n",
      " \n",
      "        Query: Who was Pliny the Elder?\n",
      "        Answer: Roman writer\n",
      "        Score: 0.8306\n",
      "        Document Excerpt: Roman writer\n",
      "        Document URL: https://en.wikipedia.org/wiki/Great_Pyramid_of_Giza\n",
      "        Context (Start-End): 4-16\n",
      "        \n",
      "\n",
      "        Query: Who was Pliny the Elder?\n",
      "        Answer: a Roman author\n",
      "        Score: 0.7281\n",
      "        Document Excerpt: a Roman author\n",
      "        Document URL: https://en.wikipedia.org/wiki/Colossus_of_Rhodes\n",
      "        Context (Start-End): 41-55\n",
      "        \n",
      "\n",
      "        Query: Who was Pliny the Elder?\n",
      "        Answer: No answer provided.\n",
      "        Score: 0.0461\n",
      "        Document Excerpt: No excerpt available.\n",
      "        Document URL: No URL available.\n",
      "        Context (Start-End): None-None\n",
      "        \n"
     ]
    }
   ],
   "source": [
    "# 優化輸出答案格式\n",
    "def format_extracted_answers(answers):\n",
    "    formatted_answers = []\n",
    "    for answer in answers:\n",
    "        data = answer.data if answer.data else \"No answer provided.\"\n",
    "        document_content = answer.document.content if answer.document else \"No document found.\"\n",
    "        document_url = answer.document.meta['url'] if answer.document and 'url' in answer.document.meta else \"No URL available.\"\n",
    "        score = answer.score\n",
    "        \n",
    "        try:\n",
    "            start = int(answer.document_offset.start) if answer.document_offset else None\n",
    "            end = int(answer.document_offset.end) if answer.document_offset else None\n",
    "            excerpt = document_content[start:end] if start is not None and end is not None else \"No excerpt available.\"\n",
    "        except (ValueError, TypeError):\n",
    "            excerpt = \"Invalid indices for excerpt.\"\n",
    "        \n",
    "        formatted_answer = f\"\"\"\n",
    "        Query: {answer.query}\n",
    "        Answer: {data}\n",
    "        Score: {score:.4f}\n",
    "        Document Excerpt: {excerpt}\n",
    "        Document URL: {document_url}\n",
    "        Context (Start-End): {start}-{end}\n",
    "        \"\"\"\n",
    "        formatted_answers.append(formatted_answer)\n",
    "    return \"\\n\".join(formatted_answers)\n",
    "\n",
    "# 檢視結果\n",
    "answers = result[\"reader\"][\"answers\"]\n",
    "print(\"提取的答案：\\n\", format_extracted_answers(answers))"
   ]
  }
 ],
 "metadata": {
  "kernelspec": {
   "display_name": "envHaystack",
   "language": "python",
   "name": "python3"
  },
  "language_info": {
   "codemirror_mode": {
    "name": "ipython",
    "version": 3
   },
   "file_extension": ".py",
   "mimetype": "text/x-python",
   "name": "python",
   "nbconvert_exporter": "python",
   "pygments_lexer": "ipython3",
   "version": "3.10.11"
  }
 },
 "nbformat": 4,
 "nbformat_minor": 2
}
