{
 "cells": [
  {
   "cell_type": "code",
   "execution_count": 1,
   "metadata": {},
   "outputs": [
    {
     "name": "stderr",
     "output_type": "stream",
     "text": [
      "/Users/samhsiao/Documents/PythonVenv/envHaystack/lib/python3.10/site-packages/tqdm/auto.py:21: TqdmWarning: IProgress not found. Please update jupyter and ipywidgets. See https://ipywidgets.readthedocs.io/en/stable/user_install.html\n",
      "  from .autonotebook import tqdm as notebook_tqdm\n"
     ]
    }
   ],
   "source": [
    "from haystack.document_stores.in_memory import InMemoryDocumentStore\n",
    "\n",
    "document_store = InMemoryDocumentStore()"
   ]
  },
  {
   "cell_type": "code",
   "execution_count": 2,
   "metadata": {},
   "outputs": [],
   "source": [
    "from datasets import load_dataset\n",
    "from haystack import Document\n",
    "\n",
    "dataset = load_dataset(\"anakin87/medrag-pubmed-chunk\", split=\"train\")\n",
    "\n",
    "docs = []\n",
    "for doc in dataset:\n",
    "    docs.append(\n",
    "        Document(\n",
    "            content=doc[\"contents\"],\n",
    "            meta={\n",
    "                \"title\": doc[\"title\"],\n",
    "                \"abstract\": doc[\"content\"],\n",
    "                \"pmid\": doc[\"id\"]\n",
    "            }\n",
    "        )\n",
    "    )"
   ]
  },
  {
   "cell_type": "code",
   "execution_count": 3,
   "metadata": {},
   "outputs": [
    {
     "name": "stderr",
     "output_type": "stream",
     "text": [
      "/Users/samhsiao/Documents/PythonVenv/envHaystack/lib/python3.10/site-packages/sentence_transformers/SentenceTransformer.py:173: FutureWarning: The `use_auth_token` argument is deprecated and will be removed in v3 of SentenceTransformers.\n",
      "  warnings.warn(\n",
      "/Users/samhsiao/Documents/PythonVenv/envHaystack/lib/python3.10/site-packages/huggingface_hub/file_download.py:1132: FutureWarning: `resume_download` is deprecated and will be removed in version 1.0.0. Downloads always resume when possible. If you want to force a new download, use `force_download=True`.\n",
      "  warnings.warn(\n",
      "Batches: 100%|██████████| 481/481 [09:14<00:00,  1.15s/it]\n"
     ]
    },
    {
     "data": {
      "text/plain": [
       "{'document_writer': {'documents_written': 15380}}"
      ]
     },
     "execution_count": 3,
     "metadata": {},
     "output_type": "execute_result"
    }
   ],
   "source": [
    "from haystack.components.writers import DocumentWriter\n",
    "from haystack.components.embedders import SentenceTransformersDocumentEmbedder\n",
    "from haystack.components.preprocessors.document_splitter import DocumentSplitter\n",
    "from haystack import Pipeline\n",
    "from haystack.utils import ComponentDevice\n",
    "\n",
    "# 將文件分割為 512 個詞的塊\n",
    "document_splitter = DocumentSplitter(\n",
    "    split_by=\"word\",\n",
    "    split_length=512,\n",
    "    split_overlap=32\n",
    ")\n",
    "\n",
    "# 建立用於密集檢索的文件嵌入\n",
    "document_embedder = SentenceTransformersDocumentEmbedder(\n",
    "    model=\"BAAI/bge-small-en-v1.5\",\n",
    "    # MacOS 不使用 CUDA\n",
    "    # device=ComponentDevice.from_str(\"cuda:0\")\n",
    "    device=ComponentDevice.from_str(\"cpu\")\n",
    ")\n",
    "\n",
    "# 將文件寫入文件儲存\n",
    "document_writer = DocumentWriter(document_store)\n",
    "\n",
    "indexing_pipeline = Pipeline()\n",
    "indexing_pipeline.add_component(\"document_splitter\", document_splitter)\n",
    "indexing_pipeline.add_component(\"document_embedder\", document_embedder)\n",
    "indexing_pipeline.add_component(\"document_writer\", document_writer)\n",
    "\n",
    "indexing_pipeline.connect(\"document_splitter\", \"document_embedder\")\n",
    "indexing_pipeline.connect(\"document_embedder\", \"document_writer\")\n",
    "\n",
    "indexing_pipeline.run({\"document_splitter\": {\"documents\": docs}})"
   ]
  },
  {
   "cell_type": "code",
   "execution_count": 4,
   "metadata": {},
   "outputs": [],
   "source": [
    "from haystack.components.retrievers.in_memory import InMemoryBM25Retriever, InMemoryEmbeddingRetriever\n",
    "from haystack.components.embedders import SentenceTransformersTextEmbedder\n",
    "\n",
    "text_embedder = SentenceTransformersTextEmbedder(\n",
    "    model=\"BAAI/bge-small-en-v1.5\",\n",
    "    # device=ComponentDevice.from_str(\"cuda:0\")\n",
    "    device=ComponentDevice.from_str(\"cpu\")\n",
    ")\n",
    "embedding_retriever = InMemoryEmbeddingRetriever(document_store)\n",
    "bm25_retriever = InMemoryBM25Retriever(document_store)"
   ]
  },
  {
   "cell_type": "code",
   "execution_count": 5,
   "metadata": {},
   "outputs": [],
   "source": [
    "from haystack.components.joiners import DocumentJoiner\n",
    "\n",
    "document_joiner = DocumentJoiner()"
   ]
  },
  {
   "cell_type": "code",
   "execution_count": 6,
   "metadata": {},
   "outputs": [],
   "source": [
    "from haystack.components.rankers import TransformersSimilarityRanker\n",
    "\n",
    "\n",
    "ranker = TransformersSimilarityRanker(\n",
    "    model=\"BAAI/bge-reranker-base\"\n",
    ")"
   ]
  },
  {
   "cell_type": "code",
   "execution_count": 7,
   "metadata": {},
   "outputs": [
    {
     "data": {
      "text/plain": [
       "<haystack.core.pipeline.pipeline.Pipeline object at 0x323ce2f20>\n",
       "🚅 Components\n",
       "  - text_embedder: SentenceTransformersTextEmbedder\n",
       "  - embedding_retriever: InMemoryEmbeddingRetriever\n",
       "  - bm25_retriever: InMemoryBM25Retriever\n",
       "  - document_joiner: DocumentJoiner\n",
       "  - ranker: TransformersSimilarityRanker\n",
       "🛤️ Connections\n",
       "  - text_embedder.embedding -> embedding_retriever.query_embedding (List[float])\n",
       "  - embedding_retriever.documents -> document_joiner.documents (List[Document])\n",
       "  - bm25_retriever.documents -> document_joiner.documents (List[Document])\n",
       "  - document_joiner.documents -> ranker.documents (List[Document])"
      ]
     },
     "execution_count": 7,
     "metadata": {},
     "output_type": "execute_result"
    }
   ],
   "source": [
    "from haystack import Pipeline\n",
    "\n",
    "hybrid_retrieval = Pipeline()\n",
    "hybrid_retrieval.add_component(\"text_embedder\", text_embedder)\n",
    "hybrid_retrieval.add_component(\"embedding_retriever\", embedding_retriever)\n",
    "hybrid_retrieval.add_component(\"bm25_retriever\", bm25_retriever)\n",
    "hybrid_retrieval.add_component(\"document_joiner\", document_joiner)\n",
    "hybrid_retrieval.add_component(\"ranker\", ranker)\n",
    "\n",
    "hybrid_retrieval.connect(\"text_embedder\", \"embedding_retriever\")\n",
    "hybrid_retrieval.connect(\"bm25_retriever\", \"document_joiner\")\n",
    "hybrid_retrieval.connect(\"embedding_retriever\", \"document_joiner\")\n",
    "hybrid_retrieval.connect(\"document_joiner\", \"ranker\")"
   ]
  },
  {
   "cell_type": "code",
   "execution_count": 8,
   "metadata": {},
   "outputs": [],
   "source": [
    "hybrid_retrieval.draw(\"hybrid-retrieval.png\")"
   ]
  },
  {
   "cell_type": "code",
   "execution_count": 10,
   "metadata": {},
   "outputs": [
    {
     "name": "stderr",
     "output_type": "stream",
     "text": [
      "Batches: 100%|██████████| 1/1 [00:00<00:00, 23.05it/s]\n"
     ]
    }
   ],
   "source": [
    "# query = \"嬰兒呼吸暫停該怎辦？\"\n",
    "query = \"apnea in infants\"\n",
    "\n",
    "result = hybrid_retrieval.run(\n",
    "    {\n",
    "        \"text_embedder\": {\"text\": query},\n",
    "        \"bm25_retriever\": {\"query\": query},\n",
    "        \"ranker\": {\"query\": query},\n",
    "    }\n",
    ")"
   ]
  },
  {
   "cell_type": "code",
   "execution_count": 11,
   "metadata": {},
   "outputs": [
    {
     "data": {
      "text/plain": [
       "{'ranker': {'documents': [Document(id=b1ef81d59ff9e73e9c731aa3dcf3d78df8ade9314b8694470730f0bb0d8ab554, content: 'Physiologic changes induced by theophylline in the treatment of apnea in preterm infants. Ten preter...', meta: {'title': 'Physiologic changes induced by theophylline in the treatment of apnea in preterm infants.', 'abstract': 'Ten preterm infants (birth weight 0.970 to 2.495 kg) with apnea due to periodic breathing (apneic interval = 5 to 10 seconds) or with \"serious apnea\" (greater than or equal to 20 seconds) were studied before and after the administration of theophylline. We determined the incidence of apnea, respiratory minute volume, alveolar gases, arterial gases and pH, \"specific\" compliance, functional residual capacity, and work of breathing. Theophylline decreased the incidence of apnea (P less than .05), increased respiratory minute volume (P less than 0.001), decreased (PACO2 (and PaCO2 P less than 0.001), increased the slope of the CO2 response curve (P less than 0.02) with a significant shift to the left (P less than 0.02). These findings suggest that the decreased incidence of apnea after theophylline is associated with an increase in alveolar ventilation and increased sensitivity to CO2 with a pronounced shift of the CO2 response curve to the left. These data are consistent with the idea that apnea is a reflection of a depressed respiratory system.', 'pmid': 'PMID:22592', 'source_id': 'f03971a926a92c49d9bfd9884187e518e252f80a866e0aeed549c9326330896c', 'page_number': 1}, score: 0.9714499115943909, embedding: vector of size 384),\n",
       "   Document(id=3852eda096f924bc8f99319c18e42feb94c94fb279ede2b84c349e28f88208b8, content: 'Efficacy of caffeine in treatment of apnea in the low-birth-weight infant. The efficacy of caffeine ...', meta: {'title': 'Efficacy of caffeine in treatment of apnea in the low-birth-weight infant.', 'abstract': 'The efficacy of caffeine citrate in the management of apnea in the newborn infant was evaluated. Caffeine citrate was given to 18 preterm neonates with recurrent apneic spells. Mean (+/- SE) birth weight and gestational age were 1,065.0 +/- 71.9 gm and 27.5 +/- 0.6 weeks, respectively. Mean age at onset of apnea and at initiation of caffeine treatment was 6.5 +/- 3.7 days and 18.2 +/- 4.9 days, respectively. Caffeine citrate was administered with a loading dose of 20 mg/kg intravenously followed within two to three days by 5 to 10 mg/kg once or twice daily. All infants except one showed a significant decrease in the frequency of apneic episodes associated with caffeine therapy. Mean frequencies of apneic spells were 13.6 +/- 2.5 and 2.1 +/- 0.6 apnea per day before and after initiation of caffeine treatment, respectively. Respiratory rate was increased, and blood [h]+ion concentration and Pco2 were decreased. The data suggest that caffeine is an effective pharmacologic respirogenic agent in the preterm infant with apnea.', 'pmid': 'PMID:14241', 'source_id': '16527c8a861e20ff03cd246bfe8df740c64f9279205bd35c25282a1bb22faefc', 'page_number': 1}, score: 0.9170230627059937, embedding: vector of size 384),\n",
       "   Document(id=7bc09b731627dd77639175c12393669aab4e2c427b01ad74d4d19c711296d4d1, content: 'Sudden infant death syndrome (crib death). Sudden infant death syndrome (SIDS) is diagnosed by the a...', meta: {'title': 'Sudden infant death syndrome (crib death).', 'abstract': 'Sudden infant death syndrome (SIDS) is diagnosed by the absence of lethal autopsy findings, or in a resuscitatable, \"near miss\" form with cyanosis, apnea, and bradycardia. The event is unexpected, although a minor respiratory infection is common, and occurs during sleep, between 1 and 6 months of age. There is growing evidence that the victims have had previous hypoxic episodes. Although suffocation is no longer considered a tenable explanation, other forms of airway obstruction are still postulated by many; the evidence, however, favors hypoxia as the common feature. A lethal arrhythmia had been proposed by several groups, based on inappropriate reflex activity, \"pathology\" of the conduction system, and the long QT syndrome, but the evidence is against arrhythmia as the primary event in most cases of SIDS. Based on the reversible \"near miss,\" apnea is likely as the primary event in SIDS. Several reflexes have the ability to produce apnea, in addition to the relatively common sleep apnea; the crucial aspect, rather, appears to be thefailure of the immature infant to resume respiration. The possibility exists that the infant, who did not have to breather for 9 months of fetal life, literally is not alarmed and aroused by the persistance of apnea. In human and animal studies, respiratory infections and sleep deprivation have been proved to increase the likelihood and duration of sleep apnea. If primary apnea continues for long (45 seconds or more), a dangerous positive feedback develops into hypoxic apnea. Hhis will persist until circulatory failure occurs, or until gasping occurs. The gasp is a highly effective mechanism at birth, but will occur too late for autoresuscitation after the anerobic capacity of fetal life dimineshes; we believe this capacity lasts for approximately 1 month, accounting for the hiatus of crib death, sparing the first month. The \"near-miss\" infant, after resuscitation, should be monitored at home, if practical, until 6 months of age. A simple cardiac monitor for bradycardia has definite advantage over an apnea monitor alone.', 'pmid': 'PMID:16476', 'source_id': 'a268cbc45c5e530b99452b80aec18db0890fd9239cdee74dd5d6e28dc1bc46ea', 'page_number': 1}, score: 0.8215421438217163, embedding: vector of size 384),\n",
       "   Document(id=dbe1f8e7cccb82f1b19c09889f0c3de91f459cbc6450c578fe5337cac5cbbfcd, content: 'Properties of the laryngeal chemoreflex in neonatal piglets. Cardiorespiratory reflex responses to l...', meta: {'title': 'Properties of the laryngeal chemoreflex in neonatal piglets.', 'abstract': 'Cardiorespiratory reflex responses to laryngeal chemoreceptor stimulation were studied in 62 piglets of both sexes varying in age from 1 to 79 days. The distal trachea was cannulated to provide a free airway and the proximal end used to introduce fluids into the laryngeal area. Introduction of either water or milk produced apnea, bradycardia, and hypertension. Swab application of test fluids to the laryngeal epithelium produced similar responses. The reflex could be interrupted by flushing the laryngeal region with saline, by cutting the superior laryngeal nerves (SLN) or by anesthetizing the laryngeal epithelium with lidocaine. Electrical stimulation of SLN elicited identical responses. Respiratory inhibition by the reflex was enhanced following central depression with chloralose and overridden by administration of the respiratory stimulant, aminophylline. The relative potency of the laryngeal reflex was estimated to be equivalent to about 40% of the dose of chloralose which produced permanent respiratory arrest. It is concluded that in circumstances where respiratory drive is reduced the laryngeal inhibitory reflex is capable of caused persistent apnea and asphyxial death in the young piglet.', 'pmid': 'PMID:18025', 'source_id': '515b27597c756e41529318e12c595b1f75fd28d02cc124a856013c4006314325', 'page_number': 1}, score: 0.458345502614975, embedding: vector of size 384),\n",
       "   Document(id=afc524b5aedf192002769295da1cc738927bd9e4e25f5ca4015b75d417fc95ee, content: 'Effect of continuous positive airway pressure breathing on cardiorespiratory function in infants wit...', meta: {'title': 'Effect of continuous positive airway pressure breathing on cardiorespiratory function in infants with respiratory distress syndrome.', 'abstract': 'A method of investigating the cardiorespiratory responses to continuous positive airway presslre (CPAP) in infants with respiratory distress syndrome is described. All measurements were made immediately before and within five minutes of application or any change in level of CPAP. Ventilation was derived from a pneumotachograph and dynamic compliance calculated. We have also measured arterial pH, oxygen and carbon dioxide tensions, arterial blood pressure and central venous pressure. Arterial oxygen tension increased in association with a decrease in the alveolar-arterial oxygen gradient. No consistent changes occurred in pH or carbon dioxide tension. Heart rate and mean arterial blood pressure remained the same but the arterial pulse pressure narrowed and the increase in central venous pressure averaged 17% of the applied airway pressure. There were less variations in both tidal volumes and instantaneous respiratory rates with CPAP compared with spontaneous breathing without CPAP. The respiratory rate decreased, but there were no consistent changes in tidal volume, resulting in a lesser reduction of minute ventilation. Dynamic compliance decreased on CPAP. With correct use of CPAP, and improvement in oxygenation generally occurs without obvious adverse cardiorespiratory effects. CPAP must nevertheless be used cautiously and in conjunction with close monitoring; because when the appropriate pressures are exceeded, it is possible that both circulatory and ventilatory function might be severely compromised.', 'pmid': 'PMID:12647', 'source_id': 'c7f830d6776cc3df79b2bba271075136525faabd29a8d24fa59ce075682c37a5', 'page_number': 1}, score: 0.1226453185081482),\n",
       "   Document(id=af4812bf27385ca94169e27dbfff0491ff1704807ac2b65523b295bff0664362, content: 'Duration of apnea needed to confirm brain death. To determine the duration of respiratory arrest nee...', meta: {'title': 'Duration of apnea needed to confirm brain death.', 'abstract': 'To determine the duration of respiratory arrest needed to attain a PaCO2 level high enough to provide maximal stimulation of respiration, we evaluated changes in PaCO2, PaO2 and apH during periods of apnea lasting as long as 10 minutes in 10 apparently brain-dead subjects. Before apnea, mean PaCO2 was 33 mm Hg. In seven subjects who did not breathe for 10 minutes, the mean rate of rise of PaCO2 was 3.2 mm Hg per minute. PaCO2 at 4 minutes was 50 mm Hg and at 10 minutes was 67 mm Hg. Three subjects breathed, two after less than 2 minutes of apnea, when PaCO2 was 47 and 54 mm Hg, and one after 4.5 minutes, when PaCO2 was 47 mm Hg. These data indicate: (1) that the threshold for respiratory stimulation may approach a PaCO2 of 60 mm Hg in patients with brain damage; (2) that the rate of increase in PaCO2 is such that, even in a normocapnic subject after 3 minutes of apnea, the PaCO2 may not be sufficiently high to stimulate respiration; and (3) if a patient is hypocapnic prior to the onset of apnea, PaCO2 may not reach 60 mm Hg even after 15 minutes. To confirm absolute apnea, then, blood gas monitoring is necessary for verification of normocapnia prior to the beginning of apnea. In the absence of blood gas determinations, no fixed period of apnea, sufficient in all cases to establish absolute apnea, can be ascertained.', 'pmid': 'PMID:27735', 'source_id': '11f974fe827875fbc47c3968d7a470cf37387f7f62c4b789f467b5919dcb02ea', 'page_number': 1}, score: 0.11926387995481491, embedding: vector of size 384),\n",
       "   Document(id=a1db755b13ceddee9bd1ee122988e9aaf11f210dfa886c7be455622662b6b945, content: '[Quantitative hyperpnea in EEG (author's transl)]. After summarizing the phenomena of respiratory ph...', meta: {'title': \"[Quantitative hyperpnea in EEG (author's transl)].\", 'abstract': 'After summarizing the phenomena of respiratory physiology involved in the hyperpnea test, the author studies the quantitative relation between the drop in PECO2 (pressure of CO2 in expired air) and changes in the EEG during hyperpnea. Normal subjects are divided into two groups of a hundred (6 to 19 1/2 years of age; 20 to 59 1/2 years of age). The PECO2 at rest is higher among the young subjects than among the adults, and its decline during hyperpnea is sharper. Thus, children show discrete respiratory acidosis in comparison with adults. The EEG of normal adults is practically unchanged during hyperpnea whereas, in the young group, moderate changes in the profile were observed in 45 out of 100 cases (classified empirically as normal). The PECO2 reaches a lower level in subjects showing EEG changes than in those showing none. All the reported differences are statistically significant (p less than 0.01). The probability of hyperpnea modifying the EEG profile becomes progressively less with age, and may be related to the reduced production of CO2 in older subjects. Epileptic subjects (primary generalized epilepsy) produce more CO2 than normal subjects during the hyperpnea test. The statistical data reported in the study show the importance of the size of the drop in ventilatory CO2 in the determination of EEG changes. The rest of hyperpnea in EEG can therefore be validly interpreted only if capnographic variations are measured. A standard quantitative hyperpnea test of this type should be devised, with specification of the hypocapnia level to be achieved.', 'pmid': 'PMID:26161', 'source_id': '54831235aff2d4e091510984d772dc45fb8f4a9b954ca7743d61bbb0f4a5b9f9', 'page_number': 1}, score: 0.10985119640827179),\n",
       "   Document(id=eebb2f765fec5ec01ad46421a1a6681a9c6c33d2e5f2f6e4840ee20227aefd19, content: 'The effects of feeding on arterial blood gases and lung mechanics in newborn infants recovering from...', meta: {'title': 'The effects of feeding on arterial blood gases and lung mechanics in newborn infants recovering from respiratory disease.', 'abstract': 'Fifteen infants recovering from neonatal respiratory disease had arterial blood gases and lung mechanics measured 5 minutes before bolus feeds and at 5, 10, 20, and 30 minutes after feeding to determine physiologic effects of feeding. PaO2 fell significantly from prefeeding values at 5, 10, and 20 minutes after feeds. Mean prefeeding pH and base excess values were significantly different from mean postfeeding values at 5, 10, 20, and 30 minutes, respectively. PaCO2 remained unchanged before and after feeding. Heart rate and systolic and diastolic blood pressure did not change throughout the study. Dynamic lung compliance, respiratory, rate, and tidal volume did not change significantly but there was a trend toward increase in tidal volume. Mean minute volume rose with time as a consequence of the increased tidal volume. Work of breathing remained unchanged at 10 and 20 minutes postfeed and increased slightly at 30 minutes; this was due to a small increase in both elastic and viscous work components at this time.', 'pmid': 'PMID:14240', 'source_id': 'b0fd9a1c500ba25b1b013408c41ade43f18c98eaf3366dc608ab6becf3b1d55f', 'page_number': 1}, score: 0.07235996425151825),\n",
       "   Document(id=55881704b3f0ae5eb72ddb90b4365e32791af3301b20a742aae38777f7cfd016, content: '[Seeking an ideal protocol for the stability of blood gases during general anesthesia for bronchosop...', meta: {'title': '[Seeking an ideal protocol for the stability of blood gases during general anesthesia for bronchosopies].', 'abstract': 'During general anesthesia for bronchoscopy, hypoxemia is a major risk, especially in patients with a severe intrapulmonary shunt. With the technique of apnea in pure oxygen, after one hour denitrogentation, and with an intake of 50 liters of oxygen per minute through the bronchoscope, the PaO2 was greater than 400 mm of Hg, but hypercapnia and acidosis occurred. To compensate the latter, five minute sessions of apnea, alternating with two minutes of jet hyperventilation, nevertheless, have the disadvantage of producing a Ventrui phenomena at the proximal end of the bronchoscope, hence a fall in FiO2 which was dangerous in these high risk patients. The authors propose a method so that the Venturi phenomenon, which cannot be prevented, occurs in pure oxygen.', 'pmid': 'PMID:12691', 'source_id': '136360df432db7ef9ca6d99431205f9a5f22ec3d7d67bc452c7f74672b8ec05a', 'page_number': 1}, score: 0.06043282523751259, embedding: vector of size 384),\n",
       "   Document(id=579c10026ee1c182c77dcee78202825da3a51299644ac0f45ad3d79f597fcdea, content: '[Important physiological considerations in artificial respiration and reanimation of newborn infants...', meta: {'title': '[Important physiological considerations in artificial respiration and reanimation of newborn infants].', 'abstract': 'The methods used for ventilation of the neonate shold be based upon consideration of the physiological changes which occure in the lungs and circulation at birth of the normal infant. Three important changes must be taken into consideration. The first is the formation of a residual volume of alveolar gas, the second the resorption of pulmonary fluid and the third a decrease in pulmonary vascular resistance, upon which is dependent the change from foetal circulation to that of the neonate. To begin insufflation of foetal lungs it is necessary to use a pressure of between 20 and 30 cm H2O. After the first insufflation, a good deal of air remains in the lungs, even during expiration, as long as pulmonary \"surfactant\" is present. In the absence of the latter, residual pressure at the end of expiration is necessary in order to avoid the lung emptying itself of air. The resorption of pulmonary liquid from the alveolar spaces into the blood is dependent upon a change in the permeability of the alveolar epithelium, which renders possible the rapid passage of water via the channels which open, probably between the epithelial cells, and this change is dependent upon an expansion of the lungs by a pressure of between 35 and 40 cm H2O. Dilatation of the pulmonary vessels depends in part upon an increase in partial pressure of oxygen and a fall in carbon dioxide in the environment of the pulmonary arterioles, and in part upon mechanical changes brought about by the movements of ventilatation.', 'pmid': 'PMID:2087', 'source_id': '957408fb41d9e69e01ce075ab11b49c79e9e0461b8dd556f759ed7065f5bf94e', 'page_number': 1}, score: 0.05888214707374573)]}}"
      ]
     },
     "execution_count": 11,
     "metadata": {},
     "output_type": "execute_result"
    }
   ],
   "source": [
    "result"
   ]
  },
  {
   "cell_type": "code",
   "execution_count": 12,
   "metadata": {},
   "outputs": [
    {
     "name": "stdout",
     "output_type": "stream",
     "text": [
      "Physiologic changes induced by theophylline in the treatment of apnea in preterm infants. \t 0.9714499115943909\n",
      "Ten preterm infants (birth weight 0.970 to 2.495 kg) with apnea due to periodic breathing (apneic interval = 5 to 10 seconds) or with \"serious apnea\" (greater than or equal to 20 seconds) were studied before and after the administration of theophylline. We determined the incidence of apnea, respiratory minute volume, alveolar gases, arterial gases and pH, \"specific\" compliance, functional residual capacity, and work of breathing. Theophylline decreased the incidence of apnea (P less than .05), increased respiratory minute volume (P less than 0.001), decreased (PACO2 (and PaCO2 P less than 0.001), increased the slope of the CO2 response curve (P less than 0.02) with a significant shift to the left (P less than 0.02). These findings suggest that the decreased incidence of apnea after theophylline is associated with an increase in alveolar ventilation and increased sensitivity to CO2 with a pronounced shift of the CO2 response curve to the left. These data are consistent with the idea that apnea is a reflection of a depressed respiratory system.\n",
      "\n",
      " \n",
      "\n",
      "Efficacy of caffeine in treatment of apnea in the low-birth-weight infant. \t 0.9170230627059937\n",
      "The efficacy of caffeine citrate in the management of apnea in the newborn infant was evaluated. Caffeine citrate was given to 18 preterm neonates with recurrent apneic spells. Mean (+/- SE) birth weight and gestational age were 1,065.0 +/- 71.9 gm and 27.5 +/- 0.6 weeks, respectively. Mean age at onset of apnea and at initiation of caffeine treatment was 6.5 +/- 3.7 days and 18.2 +/- 4.9 days, respectively. Caffeine citrate was administered with a loading dose of 20 mg/kg intravenously followed within two to three days by 5 to 10 mg/kg once or twice daily. All infants except one showed a significant decrease in the frequency of apneic episodes associated with caffeine therapy. Mean frequencies of apneic spells were 13.6 +/- 2.5 and 2.1 +/- 0.6 apnea per day before and after initiation of caffeine treatment, respectively. Respiratory rate was increased, and blood [h]+ion concentration and Pco2 were decreased. The data suggest that caffeine is an effective pharmacologic respirogenic agent in the preterm infant with apnea.\n",
      "\n",
      " \n",
      "\n",
      "Sudden infant death syndrome (crib death). \t 0.8215421438217163\n",
      "Sudden infant death syndrome (SIDS) is diagnosed by the absence of lethal autopsy findings, or in a resuscitatable, \"near miss\" form with cyanosis, apnea, and bradycardia. The event is unexpected, although a minor respiratory infection is common, and occurs during sleep, between 1 and 6 months of age. There is growing evidence that the victims have had previous hypoxic episodes. Although suffocation is no longer considered a tenable explanation, other forms of airway obstruction are still postulated by many; the evidence, however, favors hypoxia as the common feature. A lethal arrhythmia had been proposed by several groups, based on inappropriate reflex activity, \"pathology\" of the conduction system, and the long QT syndrome, but the evidence is against arrhythmia as the primary event in most cases of SIDS. Based on the reversible \"near miss,\" apnea is likely as the primary event in SIDS. Several reflexes have the ability to produce apnea, in addition to the relatively common sleep apnea; the crucial aspect, rather, appears to be thefailure of the immature infant to resume respiration. The possibility exists that the infant, who did not have to breather for 9 months of fetal life, literally is not alarmed and aroused by the persistance of apnea. In human and animal studies, respiratory infections and sleep deprivation have been proved to increase the likelihood and duration of sleep apnea. If primary apnea continues for long (45 seconds or more), a dangerous positive feedback develops into hypoxic apnea. Hhis will persist until circulatory failure occurs, or until gasping occurs. The gasp is a highly effective mechanism at birth, but will occur too late for autoresuscitation after the anerobic capacity of fetal life dimineshes; we believe this capacity lasts for approximately 1 month, accounting for the hiatus of crib death, sparing the first month. The \"near-miss\" infant, after resuscitation, should be monitored at home, if practical, until 6 months of age. A simple cardiac monitor for bradycardia has definite advantage over an apnea monitor alone.\n",
      "\n",
      " \n",
      "\n",
      "Properties of the laryngeal chemoreflex in neonatal piglets. \t 0.458345502614975\n",
      "Cardiorespiratory reflex responses to laryngeal chemoreceptor stimulation were studied in 62 piglets of both sexes varying in age from 1 to 79 days. The distal trachea was cannulated to provide a free airway and the proximal end used to introduce fluids into the laryngeal area. Introduction of either water or milk produced apnea, bradycardia, and hypertension. Swab application of test fluids to the laryngeal epithelium produced similar responses. The reflex could be interrupted by flushing the laryngeal region with saline, by cutting the superior laryngeal nerves (SLN) or by anesthetizing the laryngeal epithelium with lidocaine. Electrical stimulation of SLN elicited identical responses. Respiratory inhibition by the reflex was enhanced following central depression with chloralose and overridden by administration of the respiratory stimulant, aminophylline. The relative potency of the laryngeal reflex was estimated to be equivalent to about 40% of the dose of chloralose which produced permanent respiratory arrest. It is concluded that in circumstances where respiratory drive is reduced the laryngeal inhibitory reflex is capable of caused persistent apnea and asphyxial death in the young piglet.\n",
      "\n",
      " \n",
      "\n",
      "Effect of continuous positive airway pressure breathing on cardiorespiratory function in infants with respiratory distress syndrome. \t 0.1226453185081482\n",
      "A method of investigating the cardiorespiratory responses to continuous positive airway presslre (CPAP) in infants with respiratory distress syndrome is described. All measurements were made immediately before and within five minutes of application or any change in level of CPAP. Ventilation was derived from a pneumotachograph and dynamic compliance calculated. We have also measured arterial pH, oxygen and carbon dioxide tensions, arterial blood pressure and central venous pressure. Arterial oxygen tension increased in association with a decrease in the alveolar-arterial oxygen gradient. No consistent changes occurred in pH or carbon dioxide tension. Heart rate and mean arterial blood pressure remained the same but the arterial pulse pressure narrowed and the increase in central venous pressure averaged 17% of the applied airway pressure. There were less variations in both tidal volumes and instantaneous respiratory rates with CPAP compared with spontaneous breathing without CPAP. The respiratory rate decreased, but there were no consistent changes in tidal volume, resulting in a lesser reduction of minute ventilation. Dynamic compliance decreased on CPAP. With correct use of CPAP, and improvement in oxygenation generally occurs without obvious adverse cardiorespiratory effects. CPAP must nevertheless be used cautiously and in conjunction with close monitoring; because when the appropriate pressures are exceeded, it is possible that both circulatory and ventilatory function might be severely compromised.\n",
      "\n",
      " \n",
      "\n",
      "Duration of apnea needed to confirm brain death. \t 0.11926387995481491\n",
      "To determine the duration of respiratory arrest needed to attain a PaCO2 level high enough to provide maximal stimulation of respiration, we evaluated changes in PaCO2, PaO2 and apH during periods of apnea lasting as long as 10 minutes in 10 apparently brain-dead subjects. Before apnea, mean PaCO2 was 33 mm Hg. In seven subjects who did not breathe for 10 minutes, the mean rate of rise of PaCO2 was 3.2 mm Hg per minute. PaCO2 at 4 minutes was 50 mm Hg and at 10 minutes was 67 mm Hg. Three subjects breathed, two after less than 2 minutes of apnea, when PaCO2 was 47 and 54 mm Hg, and one after 4.5 minutes, when PaCO2 was 47 mm Hg. These data indicate: (1) that the threshold for respiratory stimulation may approach a PaCO2 of 60 mm Hg in patients with brain damage; (2) that the rate of increase in PaCO2 is such that, even in a normocapnic subject after 3 minutes of apnea, the PaCO2 may not be sufficiently high to stimulate respiration; and (3) if a patient is hypocapnic prior to the onset of apnea, PaCO2 may not reach 60 mm Hg even after 15 minutes. To confirm absolute apnea, then, blood gas monitoring is necessary for verification of normocapnia prior to the beginning of apnea. In the absence of blood gas determinations, no fixed period of apnea, sufficient in all cases to establish absolute apnea, can be ascertained.\n",
      "\n",
      " \n",
      "\n",
      "[Quantitative hyperpnea in EEG (author's transl)]. \t 0.10985119640827179\n",
      "After summarizing the phenomena of respiratory physiology involved in the hyperpnea test, the author studies the quantitative relation between the drop in PECO2 (pressure of CO2 in expired air) and changes in the EEG during hyperpnea. Normal subjects are divided into two groups of a hundred (6 to 19 1/2 years of age; 20 to 59 1/2 years of age). The PECO2 at rest is higher among the young subjects than among the adults, and its decline during hyperpnea is sharper. Thus, children show discrete respiratory acidosis in comparison with adults. The EEG of normal adults is practically unchanged during hyperpnea whereas, in the young group, moderate changes in the profile were observed in 45 out of 100 cases (classified empirically as normal). The PECO2 reaches a lower level in subjects showing EEG changes than in those showing none. All the reported differences are statistically significant (p less than 0.01). The probability of hyperpnea modifying the EEG profile becomes progressively less with age, and may be related to the reduced production of CO2 in older subjects. Epileptic subjects (primary generalized epilepsy) produce more CO2 than normal subjects during the hyperpnea test. The statistical data reported in the study show the importance of the size of the drop in ventilatory CO2 in the determination of EEG changes. The rest of hyperpnea in EEG can therefore be validly interpreted only if capnographic variations are measured. A standard quantitative hyperpnea test of this type should be devised, with specification of the hypocapnia level to be achieved.\n",
      "\n",
      " \n",
      "\n",
      "The effects of feeding on arterial blood gases and lung mechanics in newborn infants recovering from respiratory disease. \t 0.07235996425151825\n",
      "Fifteen infants recovering from neonatal respiratory disease had arterial blood gases and lung mechanics measured 5 minutes before bolus feeds and at 5, 10, 20, and 30 minutes after feeding to determine physiologic effects of feeding. PaO2 fell significantly from prefeeding values at 5, 10, and 20 minutes after feeds. Mean prefeeding pH and base excess values were significantly different from mean postfeeding values at 5, 10, 20, and 30 minutes, respectively. PaCO2 remained unchanged before and after feeding. Heart rate and systolic and diastolic blood pressure did not change throughout the study. Dynamic lung compliance, respiratory, rate, and tidal volume did not change significantly but there was a trend toward increase in tidal volume. Mean minute volume rose with time as a consequence of the increased tidal volume. Work of breathing remained unchanged at 10 and 20 minutes postfeed and increased slightly at 30 minutes; this was due to a small increase in both elastic and viscous work components at this time.\n",
      "\n",
      " \n",
      "\n",
      "[Seeking an ideal protocol for the stability of blood gases during general anesthesia for bronchosopies]. \t 0.06043282523751259\n",
      "During general anesthesia for bronchoscopy, hypoxemia is a major risk, especially in patients with a severe intrapulmonary shunt. With the technique of apnea in pure oxygen, after one hour denitrogentation, and with an intake of 50 liters of oxygen per minute through the bronchoscope, the PaO2 was greater than 400 mm of Hg, but hypercapnia and acidosis occurred. To compensate the latter, five minute sessions of apnea, alternating with two minutes of jet hyperventilation, nevertheless, have the disadvantage of producing a Ventrui phenomena at the proximal end of the bronchoscope, hence a fall in FiO2 which was dangerous in these high risk patients. The authors propose a method so that the Venturi phenomenon, which cannot be prevented, occurs in pure oxygen.\n",
      "\n",
      " \n",
      "\n",
      "[Important physiological considerations in artificial respiration and reanimation of newborn infants]. \t 0.05888214707374573\n",
      "The methods used for ventilation of the neonate shold be based upon consideration of the physiological changes which occure in the lungs and circulation at birth of the normal infant. Three important changes must be taken into consideration. The first is the formation of a residual volume of alveolar gas, the second the resorption of pulmonary fluid and the third a decrease in pulmonary vascular resistance, upon which is dependent the change from foetal circulation to that of the neonate. To begin insufflation of foetal lungs it is necessary to use a pressure of between 20 and 30 cm H2O. After the first insufflation, a good deal of air remains in the lungs, even during expiration, as long as pulmonary \"surfactant\" is present. In the absence of the latter, residual pressure at the end of expiration is necessary in order to avoid the lung emptying itself of air. The resorption of pulmonary liquid from the alveolar spaces into the blood is dependent upon a change in the permeability of the alveolar epithelium, which renders possible the rapid passage of water via the channels which open, probably between the epithelial cells, and this change is dependent upon an expansion of the lungs by a pressure of between 35 and 40 cm H2O. Dilatation of the pulmonary vessels depends in part upon an increase in partial pressure of oxygen and a fall in carbon dioxide in the environment of the pulmonary arterioles, and in part upon mechanical changes brought about by the movements of ventilatation.\n",
      "\n",
      " \n",
      "\n"
     ]
    }
   ],
   "source": [
    "def pretty_print_results(prediction):\n",
    "    for doc in prediction[\"documents\"]:\n",
    "        print(doc.meta[\"title\"], \"\\t\", doc.score)\n",
    "        print(doc.meta[\"abstract\"])\n",
    "        print(\"\\n\", \"\\n\")\n",
    "        \n",
    "pretty_print_results(result[\"ranker\"])"
   ]
  },
  {
   "cell_type": "code",
   "execution_count": 13,
   "metadata": {},
   "outputs": [
    {
     "name": "stdout",
     "output_type": "stream",
     "text": [
      "\n",
      "文件 1:\n",
      "標題: Physiologic changes induced by theophylline in the treatment of apnea in preterm infants.\n",
      "PMID: PMID:22592\n",
      "分數: 0.9714\n",
      "摘要: Ten preterm infants (birth weight 0.970 to 2.495 kg) with apnea due to periodic breathing (apneic interval = 5 to 10 seconds) or with \"serious apnea\" (greater than or equal to 20 seconds) were studied before and after the administration of theophylline. We determined the incidence of apnea, respiratory minute volume, alveolar gases, arterial gases and pH, \"specific\" compliance, functional residual capacity, and work of breathing. Theophylline decreased the incidence of apnea (P less than .05), increased respiratory minute volume (P less than 0.001), decreased (PACO2 (and PaCO2 P less than 0.001), increased the slope of the CO2 response curve (P less than 0.02) with a significant shift to the left (P less than 0.02). These findings suggest that the decreased incidence of apnea after theophylline is associated with an increase in alveolar ventilation and increased sensitivity to CO2 with a pronounced shift of the CO2 response curve to the left. These data are consistent with the idea that apnea is a reflection of a depressed respiratory system.\n",
      "--------------------------------------------------------------------------------\n",
      "\n",
      "文件 2:\n",
      "標題: Efficacy of caffeine in treatment of apnea in the low-birth-weight infant.\n",
      "PMID: PMID:14241\n",
      "分數: 0.9170\n",
      "摘要: The efficacy of caffeine citrate in the management of apnea in the newborn infant was evaluated. Caffeine citrate was given to 18 preterm neonates with recurrent apneic spells. Mean (+/- SE) birth weight and gestational age were 1,065.0 +/- 71.9 gm and 27.5 +/- 0.6 weeks, respectively. Mean age at onset of apnea and at initiation of caffeine treatment was 6.5 +/- 3.7 days and 18.2 +/- 4.9 days, respectively. Caffeine citrate was administered with a loading dose of 20 mg/kg intravenously followed within two to three days by 5 to 10 mg/kg once or twice daily. All infants except one showed a significant decrease in the frequency of apneic episodes associated with caffeine therapy. Mean frequencies of apneic spells were 13.6 +/- 2.5 and 2.1 +/- 0.6 apnea per day before and after initiation of caffeine treatment, respectively. Respiratory rate was increased, and blood [h]+ion concentration and Pco2 were decreased. The data suggest that caffeine is an effective pharmacologic respirogenic agent in the preterm infant with apnea.\n",
      "--------------------------------------------------------------------------------\n",
      "\n",
      "文件 3:\n",
      "標題: Sudden infant death syndrome (crib death).\n",
      "PMID: PMID:16476\n",
      "分數: 0.8215\n",
      "摘要: Sudden infant death syndrome (SIDS) is diagnosed by the absence of lethal autopsy findings, or in a resuscitatable, \"near miss\" form with cyanosis, apnea, and bradycardia. The event is unexpected, although a minor respiratory infection is common, and occurs during sleep, between 1 and 6 months of age. There is growing evidence that the victims have had previous hypoxic episodes. Although suffocation is no longer considered a tenable explanation, other forms of airway obstruction are still postulated by many; the evidence, however, favors hypoxia as the common feature. A lethal arrhythmia had been proposed by several groups, based on inappropriate reflex activity, \"pathology\" of the conduction system, and the long QT syndrome, but the evidence is against arrhythmia as the primary event in most cases of SIDS. Based on the reversible \"near miss,\" apnea is likely as the primary event in SIDS. Several reflexes have the ability to produce apnea, in addition to the relatively common sleep apnea; the crucial aspect, rather, appears to be thefailure of the immature infant to resume respiration. The possibility exists that the infant, who did not have to breather for 9 months of fetal life, literally is not alarmed and aroused by the persistance of apnea. In human and animal studies, respiratory infections and sleep deprivation have been proved to increase the likelihood and duration of sleep apnea. If primary apnea continues for long (45 seconds or more), a dangerous positive feedback develops into hypoxic apnea. Hhis will persist until circulatory failure occurs, or until gasping occurs. The gasp is a highly effective mechanism at birth, but will occur too late for autoresuscitation after the anerobic capacity of fetal life dimineshes; we believe this capacity lasts for approximately 1 month, accounting for the hiatus of crib death, sparing the first month. The \"near-miss\" infant, after resuscitation, should be monitored at home, if practical, until 6 months of age. A simple cardiac monitor for bradycardia has definite advantage over an apnea monitor alone.\n",
      "--------------------------------------------------------------------------------\n",
      "\n",
      "文件 4:\n",
      "標題: Properties of the laryngeal chemoreflex in neonatal piglets.\n",
      "PMID: PMID:18025\n",
      "分數: 0.4583\n",
      "摘要: Cardiorespiratory reflex responses to laryngeal chemoreceptor stimulation were studied in 62 piglets of both sexes varying in age from 1 to 79 days. The distal trachea was cannulated to provide a free airway and the proximal end used to introduce fluids into the laryngeal area. Introduction of either water or milk produced apnea, bradycardia, and hypertension. Swab application of test fluids to the laryngeal epithelium produced similar responses. The reflex could be interrupted by flushing the laryngeal region with saline, by cutting the superior laryngeal nerves (SLN) or by anesthetizing the laryngeal epithelium with lidocaine. Electrical stimulation of SLN elicited identical responses. Respiratory inhibition by the reflex was enhanced following central depression with chloralose and overridden by administration of the respiratory stimulant, aminophylline. The relative potency of the laryngeal reflex was estimated to be equivalent to about 40% of the dose of chloralose which produced permanent respiratory arrest. It is concluded that in circumstances where respiratory drive is reduced the laryngeal inhibitory reflex is capable of caused persistent apnea and asphyxial death in the young piglet.\n",
      "--------------------------------------------------------------------------------\n",
      "\n",
      "文件 5:\n",
      "標題: Effect of continuous positive airway pressure breathing on cardiorespiratory function in infants with respiratory distress syndrome.\n",
      "PMID: PMID:12647\n",
      "分數: 0.1226\n",
      "摘要: A method of investigating the cardiorespiratory responses to continuous positive airway presslre (CPAP) in infants with respiratory distress syndrome is described. All measurements were made immediately before and within five minutes of application or any change in level of CPAP. Ventilation was derived from a pneumotachograph and dynamic compliance calculated. We have also measured arterial pH, oxygen and carbon dioxide tensions, arterial blood pressure and central venous pressure. Arterial oxygen tension increased in association with a decrease in the alveolar-arterial oxygen gradient. No consistent changes occurred in pH or carbon dioxide tension. Heart rate and mean arterial blood pressure remained the same but the arterial pulse pressure narrowed and the increase in central venous pressure averaged 17% of the applied airway pressure. There were less variations in both tidal volumes and instantaneous respiratory rates with CPAP compared with spontaneous breathing without CPAP. The respiratory rate decreased, but there were no consistent changes in tidal volume, resulting in a lesser reduction of minute ventilation. Dynamic compliance decreased on CPAP. With correct use of CPAP, and improvement in oxygenation generally occurs without obvious adverse cardiorespiratory effects. CPAP must nevertheless be used cautiously and in conjunction with close monitoring; because when the appropriate pressures are exceeded, it is possible that both circulatory and ventilatory function might be severely compromised.\n",
      "--------------------------------------------------------------------------------\n",
      "\n",
      "文件 6:\n",
      "標題: Duration of apnea needed to confirm brain death.\n",
      "PMID: PMID:27735\n",
      "分數: 0.1193\n",
      "摘要: To determine the duration of respiratory arrest needed to attain a PaCO2 level high enough to provide maximal stimulation of respiration, we evaluated changes in PaCO2, PaO2 and apH during periods of apnea lasting as long as 10 minutes in 10 apparently brain-dead subjects. Before apnea, mean PaCO2 was 33 mm Hg. In seven subjects who did not breathe for 10 minutes, the mean rate of rise of PaCO2 was 3.2 mm Hg per minute. PaCO2 at 4 minutes was 50 mm Hg and at 10 minutes was 67 mm Hg. Three subjects breathed, two after less than 2 minutes of apnea, when PaCO2 was 47 and 54 mm Hg, and one after 4.5 minutes, when PaCO2 was 47 mm Hg. These data indicate: (1) that the threshold for respiratory stimulation may approach a PaCO2 of 60 mm Hg in patients with brain damage; (2) that the rate of increase in PaCO2 is such that, even in a normocapnic subject after 3 minutes of apnea, the PaCO2 may not be sufficiently high to stimulate respiration; and (3) if a patient is hypocapnic prior to the onset of apnea, PaCO2 may not reach 60 mm Hg even after 15 minutes. To confirm absolute apnea, then, blood gas monitoring is necessary for verification of normocapnia prior to the beginning of apnea. In the absence of blood gas determinations, no fixed period of apnea, sufficient in all cases to establish absolute apnea, can be ascertained.\n",
      "--------------------------------------------------------------------------------\n",
      "\n",
      "文件 7:\n",
      "標題: [Quantitative hyperpnea in EEG (author's transl)].\n",
      "PMID: PMID:26161\n",
      "分數: 0.1099\n",
      "摘要: After summarizing the phenomena of respiratory physiology involved in the hyperpnea test, the author studies the quantitative relation between the drop in PECO2 (pressure of CO2 in expired air) and changes in the EEG during hyperpnea. Normal subjects are divided into two groups of a hundred (6 to 19 1/2 years of age; 20 to 59 1/2 years of age). The PECO2 at rest is higher among the young subjects than among the adults, and its decline during hyperpnea is sharper. Thus, children show discrete respiratory acidosis in comparison with adults. The EEG of normal adults is practically unchanged during hyperpnea whereas, in the young group, moderate changes in the profile were observed in 45 out of 100 cases (classified empirically as normal). The PECO2 reaches a lower level in subjects showing EEG changes than in those showing none. All the reported differences are statistically significant (p less than 0.01). The probability of hyperpnea modifying the EEG profile becomes progressively less with age, and may be related to the reduced production of CO2 in older subjects. Epileptic subjects (primary generalized epilepsy) produce more CO2 than normal subjects during the hyperpnea test. The statistical data reported in the study show the importance of the size of the drop in ventilatory CO2 in the determination of EEG changes. The rest of hyperpnea in EEG can therefore be validly interpreted only if capnographic variations are measured. A standard quantitative hyperpnea test of this type should be devised, with specification of the hypocapnia level to be achieved.\n",
      "--------------------------------------------------------------------------------\n",
      "\n",
      "文件 8:\n",
      "標題: The effects of feeding on arterial blood gases and lung mechanics in newborn infants recovering from respiratory disease.\n",
      "PMID: PMID:14240\n",
      "分數: 0.0724\n",
      "摘要: Fifteen infants recovering from neonatal respiratory disease had arterial blood gases and lung mechanics measured 5 minutes before bolus feeds and at 5, 10, 20, and 30 minutes after feeding to determine physiologic effects of feeding. PaO2 fell significantly from prefeeding values at 5, 10, and 20 minutes after feeds. Mean prefeeding pH and base excess values were significantly different from mean postfeeding values at 5, 10, 20, and 30 minutes, respectively. PaCO2 remained unchanged before and after feeding. Heart rate and systolic and diastolic blood pressure did not change throughout the study. Dynamic lung compliance, respiratory, rate, and tidal volume did not change significantly but there was a trend toward increase in tidal volume. Mean minute volume rose with time as a consequence of the increased tidal volume. Work of breathing remained unchanged at 10 and 20 minutes postfeed and increased slightly at 30 minutes; this was due to a small increase in both elastic and viscous work components at this time.\n",
      "--------------------------------------------------------------------------------\n",
      "\n",
      "文件 9:\n",
      "標題: [Seeking an ideal protocol for the stability of blood gases during general anesthesia for bronchosopies].\n",
      "PMID: PMID:12691\n",
      "分數: 0.0604\n",
      "摘要: During general anesthesia for bronchoscopy, hypoxemia is a major risk, especially in patients with a severe intrapulmonary shunt. With the technique of apnea in pure oxygen, after one hour denitrogentation, and with an intake of 50 liters of oxygen per minute through the bronchoscope, the PaO2 was greater than 400 mm of Hg, but hypercapnia and acidosis occurred. To compensate the latter, five minute sessions of apnea, alternating with two minutes of jet hyperventilation, nevertheless, have the disadvantage of producing a Ventrui phenomena at the proximal end of the bronchoscope, hence a fall in FiO2 which was dangerous in these high risk patients. The authors propose a method so that the Venturi phenomenon, which cannot be prevented, occurs in pure oxygen.\n",
      "--------------------------------------------------------------------------------\n",
      "\n",
      "文件 10:\n",
      "標題: [Important physiological considerations in artificial respiration and reanimation of newborn infants].\n",
      "PMID: PMID:2087\n",
      "分數: 0.0589\n",
      "摘要: The methods used for ventilation of the neonate shold be based upon consideration of the physiological changes which occure in the lungs and circulation at birth of the normal infant. Three important changes must be taken into consideration. The first is the formation of a residual volume of alveolar gas, the second the resorption of pulmonary fluid and the third a decrease in pulmonary vascular resistance, upon which is dependent the change from foetal circulation to that of the neonate. To begin insufflation of foetal lungs it is necessary to use a pressure of between 20 and 30 cm H2O. After the first insufflation, a good deal of air remains in the lungs, even during expiration, as long as pulmonary \"surfactant\" is present. In the absence of the latter, residual pressure at the end of expiration is necessary in order to avoid the lung emptying itself of air. The resorption of pulmonary liquid from the alveolar spaces into the blood is dependent upon a change in the permeability of the alveolar epithelium, which renders possible the rapid passage of water via the channels which open, probably between the epithelial cells, and this change is dependent upon an expansion of the lungs by a pressure of between 35 and 40 cm H2O. Dilatation of the pulmonary vessels depends in part upon an increase in partial pressure of oxygen and a fall in carbon dioxide in the environment of the pulmonary arterioles, and in part upon mechanical changes brought about by the movements of ventilatation.\n",
      "--------------------------------------------------------------------------------\n"
     ]
    }
   ],
   "source": [
    "def pretty_print_results(prediction):\n",
    "    # 檢查是否有文件被檢索到\n",
    "    if not prediction[\"ranker\"][\"documents\"]:\n",
    "        print(\"沒有檢索到相關文件。\")\n",
    "        return\n",
    "\n",
    "    # 美化輸出\n",
    "    for idx, doc in enumerate(prediction[\"ranker\"][\"documents\"]):\n",
    "        print(f\"\\n文件 {idx + 1}:\")\n",
    "        print(f\"標題: {doc.meta.get('title', '無標題')}\")\n",
    "        print(f\"PMID: {doc.meta.get('pmid', '無PMID')}\")\n",
    "        print(f\"分數: {doc.score:.4f}\")\n",
    "        print(f\"摘要: {doc.meta.get('abstract', '無摘要')}\")\n",
    "        print(\"-\" * 80)\n",
    "\n",
    "# 美化並輸出結果\n",
    "pretty_print_results(result)"
   ]
  },
  {
   "cell_type": "markdown",
   "metadata": {},
   "source": [
    "中文檢索"
   ]
  },
  {
   "cell_type": "code",
   "execution_count": 24,
   "metadata": {},
   "outputs": [
    {
     "name": "stdout",
     "output_type": "stream",
     "text": [
      "嬰兒 呼吸 暫停 該 怎辦 ？\n"
     ]
    },
    {
     "name": "stderr",
     "output_type": "stream",
     "text": [
      "Batches: 100%|██████████| 1/1 [00:00<00:00, 58.85it/s]\n"
     ]
    },
    {
     "name": "stdout",
     "output_type": "stream",
     "text": [
      "\n",
      "文件 1:\n",
      "標題: The introduction of SI units and the standardisation of laboratory reports: recommendations of the South African Association of Clinical Biochemists.\n",
      "PMID: PMID:10633\n",
      "分數: 0.0000\n",
      "摘要: The change of SI units in laboratory reporting is occurring in South Africa. To assist this process and to ensure uniformity among laboratories, the Recommendations of the South African Association of Clinical Biochemists are presented. Controversial points are discussed and subunits selected. A standardised format of laboratory reports is suggested.\n",
      "--------------------------------------------------------------------------------\n",
      "\n",
      "文件 2:\n",
      "標題: Interference in word associations in schizophrenia.\n",
      "PMID: PMID:28335\n",
      "分數: 0.0000\n",
      "摘要: Assessed the effect of response interference on the word associations of male and female process and reactive schizophrenics in two studies that used the difference in associative disturbances between high and low interference (low and high commonality stimulus words) as the measure. The reactives showed a significantly greater increase in disturbances in the high interference condition than did process schizophrenics in both studies. These results occurred in process and reactive groups that did not differ in age, IQ, institutionalization, and current level of physiological arousal and symptom severity in Study I. Findings supported predictions from a qualitative differences theory of cognitive deficit in schizophrenia.\n",
      "--------------------------------------------------------------------------------\n",
      "\n",
      "文件 3:\n",
      "標題: Potential difference and the distribution of ions across the human red blood cell membrane; a study of the mechanism by which the fluorescent cation, diS-C3-(5) reports membrane potential.\n",
      "PMID: PMID:14255\n",
      "分數: 0.0000\n",
      "摘要: 1. The mechanism by which the fluorescent, cationic dye diS-C3-(5) responds to the membrane potential of red blood cells has been investigated. 2. The dye in aqueous solution absorbs most strongly at 650 nm. Addition of white, haemoglobin-free membranes red shifts the absorption maximum ca. 20 nm, while addition of membrane-free cell lysate results in the appearance of a new dye absorption peak at 590 nm. Thus the dye binds both to cell membranes and to cell contents. The component of the cytoplasm which binds the dye is non-dialysable, presumably haemoglobin. 3. Dye added to a suspension of intact cells shows a strong absorption at 590 nm indicating that the dye has bound to the cell contents and that the membrane is permeable to the dye. 4. The amount of dye which partitions into (and on to) the cells can be determined, as reported by Sims, Waggoner, Wang &amp; Hoffman (1974), from the fluorescence of the dye remaining in the supernatant after the cells are centrifuged to the bottom of the suspension. In most conditions the proportion of the cell associated dye which is either free inside the cell or bound to the outside face of the membrane is negligible compared to the proportion bound to the cell contents. 5. On the assumption that the dye is not actively transported, the ratio of the equilibrium dye activities inside and outside the cell, ai/ao, is determined by the membrane potential according to the Nernst relation. Driving the membrane potenial negative then increases the cell associated dye by increasing the activity ratio and hence ai and the amount of dye bound to cell contents. 6. At the known Donnan equilibrium potential the internal dye activity can be calculated from the external activity. An empirical relation between cell associated dye and internal activity has been determined by measuring the dye partition between cells and medium at different external activities. 7. Using this empirial relation, and providing that any changes in cell composition do not affect the dye binding, the internal activity at any potential can be calculated from the measured amount of cell associated dye. The external activity can be estimated fluorimetrically. The membrane potential is then calculated from the activity ratio. 8. The membrane potenial of cells has been altered by adding valinomycin in the presence of different K gradients. Under the conditions used, the 'constant field' permeability for K-Val is 15-20 times that of Cl. 9. Dye binding to haemoglobin is influenced by pH and thus dye partitioning into cells changes with intracellular pH. Increasing intracellular pH increases the amount of dye partitioned, while decreasing pH decreases this amount. 10. When large potentials are produced with valinomycin there is no change in intracellular pH. This result indicates that in red blood cells intracellular pH is determined by the external pH and the Cl concentration ratio and not by the membrane potentials. 11. DiS-C3-(5) can be used to estimate potentials across resealed ghost membranes...\n",
      "--------------------------------------------------------------------------------\n",
      "\n",
      "文件 4:\n",
      "標題: Follow-up study of oral contraceptive acceptors in Howrah District in India.\n",
      "PMID: PMID:13002\n",
      "分數: 0.0000\n",
      "摘要: In the Howrah District in India, three clinics--one in each of the urban, slum, and rural areas of the city--were initiated by the Humanity Association of Howrah in November of 1968 to supply oral contraceptives (OCs) to women from 15 to 45 years of age. The project was discontinued in September, 1972. Of the 1700 patients still active when the project ended, 1527 were contacted for the follow-up survey. Findings indicate that most women in this district were satisfied with OCs and would continue to use them if they were available. In corroboration of this, it was found that 43% of the women had used OC'S obtained from other sources after the project was discontinued. While 35.5% of the women who used no contraceptive method after project ended reported becoming pregnant or suspected that they were pregnant at the time of the interview, only 4.2% of those who reported using some form of contraception reported pregnancy or suspected pregnancy. The demographic impact of the project will be evaluated on the basis of data to be obtained in a subsequent survey of the same communities.\n",
      "--------------------------------------------------------------------------------\n",
      "\n",
      "文件 5:\n",
      "標題: Evaluating the nonverbal communication skills of nursing students.\n",
      "PMID: PMID:14239\n",
      "分數: 0.0000\n",
      "摘要: This study examined the accuracy rate of judging nonverbal skills used by nursing students in communicating with patients. Self-ratings of the students were compared with composite instructor ratings to find areas of disagreement regarding the quality of the nonverbal skills. Students who rated their nonverbal acuity higher than the instructors and students who rated their nonverbal acuity lower than the instructors were parceled out of the total sample of 92 senior nursing students enrolled in a baccalaureate program. Nonverbal acuity was measured by asking subjects to identify nonverbal information about emotional states from pictures. A November Picture Test consisting of 120 pictorial items was utilized as the dependent variable. Results showed that almost one half of the sample disagreed with the instructor rating applied to their nonverbal skills with patients. The differences between the groups was significant at the 0.05 level and the students were accurate in designating the direction of difference. Results are discussed in relation to clinical evaluation by both faculty and students in appraising communication skills. Implications such as grade inflation are discussed and recommendations for further study are covered.\n",
      "--------------------------------------------------------------------------------\n",
      "\n",
      "文件 6:\n",
      "標題: [Linguistics of ageing, linguistic Gerontology--Why? (author's transl)].\n",
      "PMID: PMID:27110\n",
      "分數: 0.0000\n",
      "摘要: Intercourse between the young and the old is accompanied by difficulties in finding the right word. Authentic observations will be presented. These every-day experiences have prompted the search for the felicity conditions of verbal interaction between members of different age groups. This concern is called linguistics of ageing (or, etatolinguistics). It is called linguistic gerontology (or, gerontolinguistics) if older people are involved in the verbal interactions to be investigated. Papers from the fields of intelligence psychology, language psychology, and language sociology have indeed reported differences in verbal scores between groups of different ages. What has not been answered as yet, however, is the question whether these differences are, or may be, responsible for the difficulties arising in verbal interaction between different age groups. A review of hypotheses as to why verbal scores differ between different age groups in the way they do will reveal that this problem has not as yet been solved either. In conclusion, a programme for further research will be outlined.\n",
      "--------------------------------------------------------------------------------\n",
      "\n",
      "文件 7:\n",
      "標題: Acid-base relationships in the different body compartments: the basis for a simplified diagnostic approach.\n",
      "PMID: PMID:16156\n",
      "分數: 0.0000\n",
      "摘要: Special characteristics of cellular buffering must be taken into account in order to describe accurately acid-base relationships in the whole body. In particular, tissues other than blood are able to neutralize mineral acid independent of changes in Pco(2) and hence independent of large changes in extra- and intracellular pH. Although mechanistic details remain to be clarified, relationships that describe this tissue buffering in quantitative terms are well established. In this report, emphasis is placed on quantitative relationships that stress the need for diagnostic interpretation derived from acid-base changes within the whole body rather than simply within the blood compartment. Theoreticalproblems with respect ot buffering mechanisms in various body compartments are reviewed and analyzed.\n",
      "--------------------------------------------------------------------------------\n",
      "\n",
      "文件 8:\n",
      "標題: [Study on the effectiveness of the \"Berlin Letters for Seniors (author's transl)].\n",
      "PMID: PMID:30297\n",
      "分數: 0.0000\n",
      "摘要: The effectiveness of the \"Berlin Letters for Seniors\" (LFS) will be tested by a longitudinal study. Two Measurement Points (MP) are scheduled: 1976 and 1978. The total sample (N = 3000) comprehends two subsamples of receivers and non-receivers. Data were/will be collected by a questionnaire. A preliminary analysis of the MP I data shows that the two subsamples are comparable as to demographic variables and relevant attitudes; so they may serve as experimental versus control group. An examination of what the readers' concept of the LFS was like, proved that though reservation was recognizable approval prevails.\n",
      "--------------------------------------------------------------------------------\n",
      "\n",
      "文件 9:\n",
      "標題: Factor analysis of a sleep evaluation questionnaire.\n",
      "PMID: PMID:26096\n",
      "分數: 0.0000\n",
      "摘要: A self-completion sleep evaluation questionnaire (SEQ), consisting of 10 cm line analogue rating scale questions, was constructed to investigate subjects' responses to aspects of sleep and early morning behaviour. The questions were grouped into 4 chronological areas: the ease of getting to sleep (GTS), the perceived quality of sleep (QOS), the ease of awakening from sleep (AFS), and the integrity of early morning behaviour following wakefulness (BFW). Five hundred and one SEQs were completed during several investigations into the comparative effectiveness of hypnotic drugs. The classical factor analysis produced 4 factors which corresponded to the 4 aspects of sleep and early morning behaviour listed above. The GTS and QOS factors were positively correlated (+0.57), as were the AFS and BFW factors (+0.48). The 2 sleeping state factors (GTS and QOS) were orthogonal to the 2 waking state factors (AFS and BFW).\n",
      "--------------------------------------------------------------------------------\n",
      "\n",
      "文件 10:\n",
      "標題: Frequency of Y-chromatin bearing spermatozoa in intracervical and intrauterine postcoital tests.\n",
      "PMID: PMID:12122\n",
      "分數: 0.0000\n",
      "摘要: By means of the intracervical Sims-Huhner-test and supplementary to this, the intrauterine postcoital test, the percentages of Y-chromatin-positive spermatozoa was determined after penetration into the cervix and the cavum uteri. A significant rise of the Y-positive sperms after penetration could be observed. There was no influence of certain parameters of the spermiogram upon the relationship of X- to Y-sperms after the PCT. Statistical calculations show the dependences of the positive and negative postcoital tests upon the individual parameters of the cervical factors and the spermiogram.\n",
      "--------------------------------------------------------------------------------\n"
     ]
    }
   ],
   "source": [
    "import jieba\n",
    "\n",
    "# 定義分詞函數\n",
    "def tokenize(text):\n",
    "    return \" \".join(jieba.cut(text))\n",
    "\n",
    "# 對查詢進行分詞\n",
    "query = \"嬰兒呼吸暫停該怎辦？\"\n",
    "tokenized_query = tokenize(query)\n",
    "# 查看分詞後的問題\n",
    "print(tokenized_query)\n",
    "\n",
    "result = hybrid_retrieval.run(\n",
    "    {\n",
    "        \"text_embedder\": {\"text\": tokenized_query},\n",
    "        \"bm25_retriever\": {\"query\": tokenized_query},\n",
    "        \"ranker\": {\"query\": tokenized_query}\n",
    "    }\n",
    ")\n",
    "\n",
    "# 輸出美化版結果\n",
    "pretty_print_results(result)"
   ]
  },
  {
   "cell_type": "markdown",
   "metadata": {},
   "source": [
    "使用翻譯庫 `translate` 進行自動翻譯"
   ]
  },
  {
   "cell_type": "markdown",
   "metadata": {},
   "source": [
    "查看一下當前的內容"
   ]
  },
  {
   "cell_type": "code",
   "execution_count": 30,
   "metadata": {},
   "outputs": [
    {
     "name": "stdout",
     "output_type": "stream",
     "text": [
      "{'ranker': {'documents': [Document(id=32540393426fd42391de81352bc3048c8908856e46ff05a9824bdf2389ab83aa, content: 'The introduction of SI units and the standardisation of laboratory reports: recommendations of the S...', meta: {'title': 'The introduction of SI units and the standardisation of laboratory reports: recommendations of the South African Association of Clinical Biochemists.', 'abstract': 'The change of SI units in laboratory reporting is occurring in South Africa. To assist this process and to ensure uniformity among laboratories, the Recommendations of the South African Association of Clinical Biochemists are presented. Controversial points are discussed and subunits selected. A standardised format of laboratory reports is suggested.', 'pmid': 'PMID:10633', 'source_id': '76fd863c9d39c6140d8032f3d2227f8097775f8b550f4bbed3477dfcd71f2e25', 'page_number': 1}, score: 3.743577690329403e-05),\n",
      "                          Document(id=1804a66d982a78796723350acad4573880bc319eadbe0a3b6d417fed339ccc71, content: 'Interference in word associations in schizophrenia. Assessed the effect of response interference on ...', meta: {'title': 'Interference in word associations in schizophrenia.', 'abstract': 'Assessed the effect of response interference on the word associations of male and female process and reactive schizophrenics in two studies that used the difference in associative disturbances between high and low interference (low and high commonality stimulus words) as the measure. The reactives showed a significantly greater increase in disturbances in the high interference condition than did process schizophrenics in both studies. These results occurred in process and reactive groups that did not differ in age, IQ, institutionalization, and current level of physiological arousal and symptom severity in Study I. Findings supported predictions from a qualitative differences theory of cognitive deficit in schizophrenia.', 'pmid': 'PMID:28335', 'source_id': '08de9f602815e075a50384f3be6799e613060f71a8ce670baa47be8b4e07aaa9', 'page_number': 1}, score: 3.742778062587604e-05),\n",
      "                          Document(id=10dbfd043e40e14b97505404fa2ac81208e0e96ae13f279d3b2886a4316c3e98, content: 'Potential difference and the distribution of ions across the human red blood cell membrane; a study ...', meta: {'title': 'Potential difference and the distribution of ions across the human red blood cell membrane; a study of the mechanism by which the fluorescent cation, diS-C3-(5) reports membrane potential.', 'abstract': \"1. The mechanism by which the fluorescent, cationic dye diS-C3-(5) responds to the membrane potential of red blood cells has been investigated. 2. The dye in aqueous solution absorbs most strongly at 650 nm. Addition of white, haemoglobin-free membranes red shifts the absorption maximum ca. 20 nm, while addition of membrane-free cell lysate results in the appearance of a new dye absorption peak at 590 nm. Thus the dye binds both to cell membranes and to cell contents. The component of the cytoplasm which binds the dye is non-dialysable, presumably haemoglobin. 3. Dye added to a suspension of intact cells shows a strong absorption at 590 nm indicating that the dye has bound to the cell contents and that the membrane is permeable to the dye. 4. The amount of dye which partitions into (and on to) the cells can be determined, as reported by Sims, Waggoner, Wang &amp; Hoffman (1974), from the fluorescence of the dye remaining in the supernatant after the cells are centrifuged to the bottom of the suspension. In most conditions the proportion of the cell associated dye which is either free inside the cell or bound to the outside face of the membrane is negligible compared to the proportion bound to the cell contents. 5. On the assumption that the dye is not actively transported, the ratio of the equilibrium dye activities inside and outside the cell, ai/ao, is determined by the membrane potential according to the Nernst relation. Driving the membrane potenial negative then increases the cell associated dye by increasing the activity ratio and hence ai and the amount of dye bound to cell contents. 6. At the known Donnan equilibrium potential the internal dye activity can be calculated from the external activity. An empirical relation between cell associated dye and internal activity has been determined by measuring the dye partition between cells and medium at different external activities. 7. Using this empirial relation, and providing that any changes in cell composition do not affect the dye binding, the internal activity at any potential can be calculated from the measured amount of cell associated dye. The external activity can be estimated fluorimetrically. The membrane potential is then calculated from the activity ratio. 8. The membrane potenial of cells has been altered by adding valinomycin in the presence of different K gradients. Under the conditions used, the 'constant field' permeability for K-Val is 15-20 times that of Cl. 9. Dye binding to haemoglobin is influenced by pH and thus dye partitioning into cells changes with intracellular pH. Increasing intracellular pH increases the amount of dye partitioned, while decreasing pH decreases this amount. 10. When large potentials are produced with valinomycin there is no change in intracellular pH. This result indicates that in red blood cells intracellular pH is determined by the external pH and the Cl concentration ratio and not by the membrane potentials. 11. DiS-C3-(5) can be used to estimate potentials across resealed ghost membranes...\", 'pmid': 'PMID:14255', 'source_id': 'b704d0769eee4ea2deb41cc5042f9c3a8ba91ff6491229106d42c00a0ee96cd2', 'page_number': 1}, score: 3.741158070624806e-05),\n",
      "                          Document(id=38bcb7df373ab2cd70b1d56b08ead990195ec0d5cd91b52bf030910d349357b9, content: 'Follow-up study of oral contraceptive acceptors in Howrah District in India. In the Howrah District ...', meta: {'title': 'Follow-up study of oral contraceptive acceptors in Howrah District in India.', 'abstract': \"In the Howrah District in India, three clinics--one in each of the urban, slum, and rural areas of the city--were initiated by the Humanity Association of Howrah in November of 1968 to supply oral contraceptives (OCs) to women from 15 to 45 years of age. The project was discontinued in September, 1972. Of the 1700 patients still active when the project ended, 1527 were contacted for the follow-up survey. Findings indicate that most women in this district were satisfied with OCs and would continue to use them if they were available. In corroboration of this, it was found that 43% of the women had used OC'S obtained from other sources after the project was discontinued. While 35.5% of the women who used no contraceptive method after project ended reported becoming pregnant or suspected that they were pregnant at the time of the interview, only 4.2% of those who reported using some form of contraception reported pregnancy or suspected pregnancy. The demographic impact of the project will be evaluated on the basis of data to be obtained in a subsequent survey of the same communities.\", 'pmid': 'PMID:13002', 'source_id': 'c4d05c9de085b8b67f03abffb039d3d42369a717e8f7d6b5c34cd4aff8660007', 'page_number': 1}, score: 3.739984458661638e-05),\n",
      "                          Document(id=ff30275f6c8f76e67bc3367d81f3718838b4eca738feacd92859f6e6a80c272d, content: 'Evaluating the nonverbal communication skills of nursing students. This study examined the accuracy ...', meta: {'title': 'Evaluating the nonverbal communication skills of nursing students.', 'abstract': 'This study examined the accuracy rate of judging nonverbal skills used by nursing students in communicating with patients. Self-ratings of the students were compared with composite instructor ratings to find areas of disagreement regarding the quality of the nonverbal skills. Students who rated their nonverbal acuity higher than the instructors and students who rated their nonverbal acuity lower than the instructors were parceled out of the total sample of 92 senior nursing students enrolled in a baccalaureate program. Nonverbal acuity was measured by asking subjects to identify nonverbal information about emotional states from pictures. A November Picture Test consisting of 120 pictorial items was utilized as the dependent variable. Results showed that almost one half of the sample disagreed with the instructor rating applied to their nonverbal skills with patients. The differences between the groups was significant at the 0.05 level and the students were accurate in designating the direction of difference. Results are discussed in relation to clinical evaluation by both faculty and students in appraising communication skills. Implications such as grade inflation are discussed and recommendations for further study are covered.', 'pmid': 'PMID:14239', 'source_id': '2162755f73b6c92a12c1d695c4473e267f5f8b63944982e9990df7cbbb7c0458', 'page_number': 1}, score: 3.7394351238617674e-05),\n",
      "                          Document(id=f67d1fbccac65cf573a769312648446d6467ec3134c559e0a327b5758f2d2d51, content: '[Linguistics of ageing, linguistic Gerontology--Why? (author's transl)]. Intercourse between the you...', meta: {'title': \"[Linguistics of ageing, linguistic Gerontology--Why? (author's transl)].\", 'abstract': 'Intercourse between the young and the old is accompanied by difficulties in finding the right word. Authentic observations will be presented. These every-day experiences have prompted the search for the felicity conditions of verbal interaction between members of different age groups. This concern is called linguistics of ageing (or, etatolinguistics). It is called linguistic gerontology (or, gerontolinguistics) if older people are involved in the verbal interactions to be investigated. Papers from the fields of intelligence psychology, language psychology, and language sociology have indeed reported differences in verbal scores between groups of different ages. What has not been answered as yet, however, is the question whether these differences are, or may be, responsible for the difficulties arising in verbal interaction between different age groups. A review of hypotheses as to why verbal scores differ between different age groups in the way they do will reveal that this problem has not as yet been solved either. In conclusion, a programme for further research will be outlined.', 'pmid': 'PMID:27110', 'source_id': 'e89c04a7416663a4bf52081639fc198f92f4cef61ffc9954f4005fdcb295d2d0', 'page_number': 1}, score: 3.738821760634892e-05),\n",
      "                          Document(id=e4f6f154ebf055f7accf03fea2b0d454bf311071854b7a46c12e7e30a285a06d, content: 'Acid-base relationships in the different body compartments: the basis for a simplified diagnostic ap...', meta: {'title': 'Acid-base relationships in the different body compartments: the basis for a simplified diagnostic approach.', 'abstract': 'Special characteristics of cellular buffering must be taken into account in order to describe accurately acid-base relationships in the whole body. In particular, tissues other than blood are able to neutralize mineral acid independent of changes in Pco(2) and hence independent of large changes in extra- and intracellular pH. Although mechanistic details remain to be clarified, relationships that describe this tissue buffering in quantitative terms are well established. In this report, emphasis is placed on quantitative relationships that stress the need for diagnostic interpretation derived from acid-base changes within the whole body rather than simply within the blood compartment. Theoreticalproblems with respect ot buffering mechanisms in various body compartments are reviewed and analyzed.', 'pmid': 'PMID:16156', 'source_id': 'eda6297cd4dd0065c8a598878b96f36ac8974a5e1e8adb61d2b0d6636979794b', 'page_number': 1}, score: 3.7364265153883025e-05),\n",
      "                          Document(id=747e92a90400aeee3e55535ee47dccbc14c3612fda313732d0eb1dd4d459b32e, content: '[Study on the effectiveness of the \"Berlin Letters for Seniors (author's transl)]. The effectiveness...', meta: {'title': '[Study on the effectiveness of the \"Berlin Letters for Seniors (author\\'s transl)].', 'abstract': 'The effectiveness of the \"Berlin Letters for Seniors\" (LFS) will be tested by a longitudinal study. Two Measurement Points (MP) are scheduled: 1976 and 1978. The total sample (N = 3000) comprehends two subsamples of receivers and non-receivers. Data were/will be collected by a questionnaire. A preliminary analysis of the MP I data shows that the two subsamples are comparable as to demographic variables and relevant attitudes; so they may serve as experimental versus control group. An examination of what the readers\\' concept of the LFS was like, proved that though reservation was recognizable approval prevails.', 'pmid': 'PMID:30297', 'source_id': 'a43abb4fdc08a5c71e18121005323e2822493ba36589853aeec544110d19bf76', 'page_number': 1}, score: 3.736276994459331e-05),\n",
      "                          Document(id=a66d2f3d97a7f7ea47301849199217cc1a543444225d177d5ba843ab1a5e23bf, content: 'Factor analysis of a sleep evaluation questionnaire. A self-completion sleep evaluation questionnair...', meta: {'title': 'Factor analysis of a sleep evaluation questionnaire.', 'abstract': \"A self-completion sleep evaluation questionnaire (SEQ), consisting of 10 cm line analogue rating scale questions, was constructed to investigate subjects' responses to aspects of sleep and early morning behaviour. The questions were grouped into 4 chronological areas: the ease of getting to sleep (GTS), the perceived quality of sleep (QOS), the ease of awakening from sleep (AFS), and the integrity of early morning behaviour following wakefulness (BFW). Five hundred and one SEQs were completed during several investigations into the comparative effectiveness of hypnotic drugs. The classical factor analysis produced 4 factors which corresponded to the 4 aspects of sleep and early morning behaviour listed above. The GTS and QOS factors were positively correlated (+0.57), as were the AFS and BFW factors (+0.48). The 2 sleeping state factors (GTS and QOS) were orthogonal to the 2 waking state factors (AFS and BFW).\", 'pmid': 'PMID:26096', 'source_id': '3f3463227506785a0ac23ed988cae8e062448b004cf01178d2b4f9679c8281c9', 'page_number': 1}, score: 3.7358386180130765e-05),\n",
      "                          Document(id=0cd937ed43c9fc641e7eeba480050bc850ecda457b28c54cb26afc105860ec31, content: 'Frequency of Y-chromatin bearing spermatozoa in intracervical and intrauterine postcoital tests. By ...', meta: {'title': 'Frequency of Y-chromatin bearing spermatozoa in intracervical and intrauterine postcoital tests.', 'abstract': 'By means of the intracervical Sims-Huhner-test and supplementary to this, the intrauterine postcoital test, the percentages of Y-chromatin-positive spermatozoa was determined after penetration into the cervix and the cavum uteri. A significant rise of the Y-positive sperms after penetration could be observed. There was no influence of certain parameters of the spermiogram upon the relationship of X- to Y-sperms after the PCT. Statistical calculations show the dependences of the positive and negative postcoital tests upon the individual parameters of the cervical factors and the spermiogram.', 'pmid': 'PMID:12122', 'source_id': 'ec09f46bf89268511af519bdb772a5cb59f1513f58504fd8fe4914e3c0f78bc2', 'page_number': 1}, score: 3.735165228135884e-05)]}}\n"
     ]
    }
   ],
   "source": [
    "import pprint\n",
    "\n",
    "# 打印檢索結果的詳細內容\n",
    "pprint.pprint(result)\n"
   ]
  },
  {
   "cell_type": "code",
   "execution_count": 31,
   "metadata": {},
   "outputs": [
    {
     "name": "stdout",
     "output_type": "stream",
     "text": [
      "分詞後的查詢: 嬰兒 呼吸 暫停 該 怎辦 ？\n"
     ]
    },
    {
     "name": "stderr",
     "output_type": "stream",
     "text": [
      "Batches: 100%|██████████| 1/1 [00:00<00:00, 22.81it/s]\n"
     ]
    },
    {
     "name": "stdout",
     "output_type": "stream",
     "text": [
      "檢索結果:\n",
      "{'ranker': {'documents': [Document(id=32540393426fd42391de81352bc3048c8908856e46ff05a9824bdf2389ab83aa, content: 'The introduction of SI units and the standardisation of laboratory reports: recommendations of the S...', meta: {'title': 'The introduction of SI units and the standardisation of laboratory reports: recommendations of the South African Association of Clinical Biochemists.', 'abstract': 'The change of SI units in laboratory reporting is occurring in South Africa. To assist this process and to ensure uniformity among laboratories, the Recommendations of the South African Association of Clinical Biochemists are presented. Controversial points are discussed and subunits selected. A standardised format of laboratory reports is suggested.', 'pmid': 'PMID:10633', 'source_id': '76fd863c9d39c6140d8032f3d2227f8097775f8b550f4bbed3477dfcd71f2e25', 'page_number': 1}, score: 3.743577690329403e-05),\n",
      "                          Document(id=1804a66d982a78796723350acad4573880bc319eadbe0a3b6d417fed339ccc71, content: 'Interference in word associations in schizophrenia. Assessed the effect of response interference on ...', meta: {'title': 'Interference in word associations in schizophrenia.', 'abstract': 'Assessed the effect of response interference on the word associations of male and female process and reactive schizophrenics in two studies that used the difference in associative disturbances between high and low interference (low and high commonality stimulus words) as the measure. The reactives showed a significantly greater increase in disturbances in the high interference condition than did process schizophrenics in both studies. These results occurred in process and reactive groups that did not differ in age, IQ, institutionalization, and current level of physiological arousal and symptom severity in Study I. Findings supported predictions from a qualitative differences theory of cognitive deficit in schizophrenia.', 'pmid': 'PMID:28335', 'source_id': '08de9f602815e075a50384f3be6799e613060f71a8ce670baa47be8b4e07aaa9', 'page_number': 1}, score: 3.742778062587604e-05),\n",
      "                          Document(id=10dbfd043e40e14b97505404fa2ac81208e0e96ae13f279d3b2886a4316c3e98, content: 'Potential difference and the distribution of ions across the human red blood cell membrane; a study ...', meta: {'title': 'Potential difference and the distribution of ions across the human red blood cell membrane; a study of the mechanism by which the fluorescent cation, diS-C3-(5) reports membrane potential.', 'abstract': \"1. The mechanism by which the fluorescent, cationic dye diS-C3-(5) responds to the membrane potential of red blood cells has been investigated. 2. The dye in aqueous solution absorbs most strongly at 650 nm. Addition of white, haemoglobin-free membranes red shifts the absorption maximum ca. 20 nm, while addition of membrane-free cell lysate results in the appearance of a new dye absorption peak at 590 nm. Thus the dye binds both to cell membranes and to cell contents. The component of the cytoplasm which binds the dye is non-dialysable, presumably haemoglobin. 3. Dye added to a suspension of intact cells shows a strong absorption at 590 nm indicating that the dye has bound to the cell contents and that the membrane is permeable to the dye. 4. The amount of dye which partitions into (and on to) the cells can be determined, as reported by Sims, Waggoner, Wang &amp; Hoffman (1974), from the fluorescence of the dye remaining in the supernatant after the cells are centrifuged to the bottom of the suspension. In most conditions the proportion of the cell associated dye which is either free inside the cell or bound to the outside face of the membrane is negligible compared to the proportion bound to the cell contents. 5. On the assumption that the dye is not actively transported, the ratio of the equilibrium dye activities inside and outside the cell, ai/ao, is determined by the membrane potential according to the Nernst relation. Driving the membrane potenial negative then increases the cell associated dye by increasing the activity ratio and hence ai and the amount of dye bound to cell contents. 6. At the known Donnan equilibrium potential the internal dye activity can be calculated from the external activity. An empirical relation between cell associated dye and internal activity has been determined by measuring the dye partition between cells and medium at different external activities. 7. Using this empirial relation, and providing that any changes in cell composition do not affect the dye binding, the internal activity at any potential can be calculated from the measured amount of cell associated dye. The external activity can be estimated fluorimetrically. The membrane potential is then calculated from the activity ratio. 8. The membrane potenial of cells has been altered by adding valinomycin in the presence of different K gradients. Under the conditions used, the 'constant field' permeability for K-Val is 15-20 times that of Cl. 9. Dye binding to haemoglobin is influenced by pH and thus dye partitioning into cells changes with intracellular pH. Increasing intracellular pH increases the amount of dye partitioned, while decreasing pH decreases this amount. 10. When large potentials are produced with valinomycin there is no change in intracellular pH. This result indicates that in red blood cells intracellular pH is determined by the external pH and the Cl concentration ratio and not by the membrane potentials. 11. DiS-C3-(5) can be used to estimate potentials across resealed ghost membranes...\", 'pmid': 'PMID:14255', 'source_id': 'b704d0769eee4ea2deb41cc5042f9c3a8ba91ff6491229106d42c00a0ee96cd2', 'page_number': 1}, score: 3.741158070624806e-05),\n",
      "                          Document(id=38bcb7df373ab2cd70b1d56b08ead990195ec0d5cd91b52bf030910d349357b9, content: 'Follow-up study of oral contraceptive acceptors in Howrah District in India. In the Howrah District ...', meta: {'title': 'Follow-up study of oral contraceptive acceptors in Howrah District in India.', 'abstract': \"In the Howrah District in India, three clinics--one in each of the urban, slum, and rural areas of the city--were initiated by the Humanity Association of Howrah in November of 1968 to supply oral contraceptives (OCs) to women from 15 to 45 years of age. The project was discontinued in September, 1972. Of the 1700 patients still active when the project ended, 1527 were contacted for the follow-up survey. Findings indicate that most women in this district were satisfied with OCs and would continue to use them if they were available. In corroboration of this, it was found that 43% of the women had used OC'S obtained from other sources after the project was discontinued. While 35.5% of the women who used no contraceptive method after project ended reported becoming pregnant or suspected that they were pregnant at the time of the interview, only 4.2% of those who reported using some form of contraception reported pregnancy or suspected pregnancy. The demographic impact of the project will be evaluated on the basis of data to be obtained in a subsequent survey of the same communities.\", 'pmid': 'PMID:13002', 'source_id': 'c4d05c9de085b8b67f03abffb039d3d42369a717e8f7d6b5c34cd4aff8660007', 'page_number': 1}, score: 3.739984458661638e-05),\n",
      "                          Document(id=ff30275f6c8f76e67bc3367d81f3718838b4eca738feacd92859f6e6a80c272d, content: 'Evaluating the nonverbal communication skills of nursing students. This study examined the accuracy ...', meta: {'title': 'Evaluating the nonverbal communication skills of nursing students.', 'abstract': 'This study examined the accuracy rate of judging nonverbal skills used by nursing students in communicating with patients. Self-ratings of the students were compared with composite instructor ratings to find areas of disagreement regarding the quality of the nonverbal skills. Students who rated their nonverbal acuity higher than the instructors and students who rated their nonverbal acuity lower than the instructors were parceled out of the total sample of 92 senior nursing students enrolled in a baccalaureate program. Nonverbal acuity was measured by asking subjects to identify nonverbal information about emotional states from pictures. A November Picture Test consisting of 120 pictorial items was utilized as the dependent variable. Results showed that almost one half of the sample disagreed with the instructor rating applied to their nonverbal skills with patients. The differences between the groups was significant at the 0.05 level and the students were accurate in designating the direction of difference. Results are discussed in relation to clinical evaluation by both faculty and students in appraising communication skills. Implications such as grade inflation are discussed and recommendations for further study are covered.', 'pmid': 'PMID:14239', 'source_id': '2162755f73b6c92a12c1d695c4473e267f5f8b63944982e9990df7cbbb7c0458', 'page_number': 1}, score: 3.7394351238617674e-05),\n",
      "                          Document(id=f67d1fbccac65cf573a769312648446d6467ec3134c559e0a327b5758f2d2d51, content: '[Linguistics of ageing, linguistic Gerontology--Why? (author's transl)]. Intercourse between the you...', meta: {'title': \"[Linguistics of ageing, linguistic Gerontology--Why? (author's transl)].\", 'abstract': 'Intercourse between the young and the old is accompanied by difficulties in finding the right word. Authentic observations will be presented. These every-day experiences have prompted the search for the felicity conditions of verbal interaction between members of different age groups. This concern is called linguistics of ageing (or, etatolinguistics). It is called linguistic gerontology (or, gerontolinguistics) if older people are involved in the verbal interactions to be investigated. Papers from the fields of intelligence psychology, language psychology, and language sociology have indeed reported differences in verbal scores between groups of different ages. What has not been answered as yet, however, is the question whether these differences are, or may be, responsible for the difficulties arising in verbal interaction between different age groups. A review of hypotheses as to why verbal scores differ between different age groups in the way they do will reveal that this problem has not as yet been solved either. In conclusion, a programme for further research will be outlined.', 'pmid': 'PMID:27110', 'source_id': 'e89c04a7416663a4bf52081639fc198f92f4cef61ffc9954f4005fdcb295d2d0', 'page_number': 1}, score: 3.738821760634892e-05),\n",
      "                          Document(id=e4f6f154ebf055f7accf03fea2b0d454bf311071854b7a46c12e7e30a285a06d, content: 'Acid-base relationships in the different body compartments: the basis for a simplified diagnostic ap...', meta: {'title': 'Acid-base relationships in the different body compartments: the basis for a simplified diagnostic approach.', 'abstract': 'Special characteristics of cellular buffering must be taken into account in order to describe accurately acid-base relationships in the whole body. In particular, tissues other than blood are able to neutralize mineral acid independent of changes in Pco(2) and hence independent of large changes in extra- and intracellular pH. Although mechanistic details remain to be clarified, relationships that describe this tissue buffering in quantitative terms are well established. In this report, emphasis is placed on quantitative relationships that stress the need for diagnostic interpretation derived from acid-base changes within the whole body rather than simply within the blood compartment. Theoreticalproblems with respect ot buffering mechanisms in various body compartments are reviewed and analyzed.', 'pmid': 'PMID:16156', 'source_id': 'eda6297cd4dd0065c8a598878b96f36ac8974a5e1e8adb61d2b0d6636979794b', 'page_number': 1}, score: 3.7364265153883025e-05),\n",
      "                          Document(id=747e92a90400aeee3e55535ee47dccbc14c3612fda313732d0eb1dd4d459b32e, content: '[Study on the effectiveness of the \"Berlin Letters for Seniors (author's transl)]. The effectiveness...', meta: {'title': '[Study on the effectiveness of the \"Berlin Letters for Seniors (author\\'s transl)].', 'abstract': 'The effectiveness of the \"Berlin Letters for Seniors\" (LFS) will be tested by a longitudinal study. Two Measurement Points (MP) are scheduled: 1976 and 1978. The total sample (N = 3000) comprehends two subsamples of receivers and non-receivers. Data were/will be collected by a questionnaire. A preliminary analysis of the MP I data shows that the two subsamples are comparable as to demographic variables and relevant attitudes; so they may serve as experimental versus control group. An examination of what the readers\\' concept of the LFS was like, proved that though reservation was recognizable approval prevails.', 'pmid': 'PMID:30297', 'source_id': 'a43abb4fdc08a5c71e18121005323e2822493ba36589853aeec544110d19bf76', 'page_number': 1}, score: 3.736276994459331e-05),\n",
      "                          Document(id=a66d2f3d97a7f7ea47301849199217cc1a543444225d177d5ba843ab1a5e23bf, content: 'Factor analysis of a sleep evaluation questionnaire. A self-completion sleep evaluation questionnair...', meta: {'title': 'Factor analysis of a sleep evaluation questionnaire.', 'abstract': \"A self-completion sleep evaluation questionnaire (SEQ), consisting of 10 cm line analogue rating scale questions, was constructed to investigate subjects' responses to aspects of sleep and early morning behaviour. The questions were grouped into 4 chronological areas: the ease of getting to sleep (GTS), the perceived quality of sleep (QOS), the ease of awakening from sleep (AFS), and the integrity of early morning behaviour following wakefulness (BFW). Five hundred and one SEQs were completed during several investigations into the comparative effectiveness of hypnotic drugs. The classical factor analysis produced 4 factors which corresponded to the 4 aspects of sleep and early morning behaviour listed above. The GTS and QOS factors were positively correlated (+0.57), as were the AFS and BFW factors (+0.48). The 2 sleeping state factors (GTS and QOS) were orthogonal to the 2 waking state factors (AFS and BFW).\", 'pmid': 'PMID:26096', 'source_id': '3f3463227506785a0ac23ed988cae8e062448b004cf01178d2b4f9679c8281c9', 'page_number': 1}, score: 3.7358386180130765e-05),\n",
      "                          Document(id=0cd937ed43c9fc641e7eeba480050bc850ecda457b28c54cb26afc105860ec31, content: 'Frequency of Y-chromatin bearing spermatozoa in intracervical and intrauterine postcoital tests. By ...', meta: {'title': 'Frequency of Y-chromatin bearing spermatozoa in intracervical and intrauterine postcoital tests.', 'abstract': 'By means of the intracervical Sims-Huhner-test and supplementary to this, the intrauterine postcoital test, the percentages of Y-chromatin-positive spermatozoa was determined after penetration into the cervix and the cavum uteri. A significant rise of the Y-positive sperms after penetration could be observed. There was no influence of certain parameters of the spermiogram upon the relationship of X- to Y-sperms after the PCT. Statistical calculations show the dependences of the positive and negative postcoital tests upon the individual parameters of the cervical factors and the spermiogram.', 'pmid': 'PMID:12122', 'source_id': 'ec09f46bf89268511af519bdb772a5cb59f1513f58504fd8fe4914e3c0f78bc2', 'page_number': 1}, score: 3.735165228135884e-05)]}}\n",
      "文件 1:\n",
      "標題: SI单位的引入和实验室报告的标准化：南非临床生物化学家协会的建议。\n",
      "摘要: 实验室报告中SI单位的变化发生在南非。为了协助这一过程并确保实验室之间的一致性，提出了南非临床生物化学家协会的建议。讨论有争议的问题并选择子单元。建议采用标准化的实验室报告格式。\n",
      "內容: QUERY LENGTH LIMIT EXCEEDED. MAX ALLOWED QUERY : 500 CHARS\n",
      "\n",
      "--------------------------------------------------------------------------------\n",
      "\n",
      "文件 2:\n",
      "標題: 精神分裂症中词语联想的干扰。\n",
      "摘要: QUERY LENGTH LIMIT EXCEEDED. MAX ALLOWED QUERY : 500 CHARS\n",
      "內容: QUERY LENGTH LIMIT EXCEEDED. MAX ALLOWED QUERY : 500 CHARS\n",
      "\n",
      "--------------------------------------------------------------------------------\n",
      "\n",
      "文件 3:\n",
      "標題: 电位差异和离子在人红细胞膜上的分布；研究荧光阳离子diS-C3- (5)报告膜电位的机制。\n",
      "摘要: QUERY LENGTH LIMIT EXCEEDED. MAX ALLOWED QUERY : 500 CHARS QUERY LENGTH LIMIT EXCEEDED. MAX ALLOWED QUERY : 500 CHARS QUERY LENGTH LIMIT EXCEEDED. MAX ALLOWED QUERY : 500 CHARS 估计重新密封的鬼膜之间的电位……\n",
      "內容: QUERY LENGTH LIMIT EXCEEDED. MAX ALLOWED QUERY : 500 CHARS QUERY LENGTH LIMIT EXCEEDED. MAX ALLOWED QUERY : 500 CHARS QUERY LENGTH LIMIT EXCEEDED. MAX ALLOWED QUERY : 500 CHARS 结果表明，在红细胞中，细胞内pH由外部pH和Cl浓度比决定，而不是由膜电位决定。11. DiS-C3- (5)可以\n",
      "\n",
      "--------------------------------------------------------------------------------\n",
      "\n",
      "文件 4:\n",
      "標題: 印度豪拉区口服避孕药接受者的随访研究。\n",
      "摘要: QUERY LENGTH LIMIT EXCEEDED. MAX ALLOWED QUERY : 500 CHARS 在随后对相同社区的调查中获得的数据的基础上进行评估。\n",
      "內容: QUERY LENGTH LIMIT EXCEEDED. MAX ALLOWED QUERY : 500 CHARS 怀孕或怀疑怀孕。该项目的人口影响将根据随后对同一社区的调查中获得的数据进行评估。\n",
      "\n",
      "--------------------------------------------------------------------------------\n",
      "\n",
      "文件 5:\n",
      "標題: 评估护生非语言沟通能力。\n",
      "摘要: QUERY LENGTH LIMIT EXCEEDED. MAX ALLOWED QUERY : 500 CHARS 教师和学生在评价沟通技巧时结合临床评价结果进行讨论。讨论了等级膨胀等影响，并涵盖了进一步研究的建议。\n",
      "內容: QUERY LENGTH LIMIT EXCEEDED. MAX ALLOWED QUERY : 500 CHARS 0.05的水平和学生在指定差异的方向上是准确的。结果由教师和学生在评估沟通技巧时结合临床评估进行讨论。讨论了等级膨胀等影响，并涵盖了进一步研究的建议。\n",
      "\n",
      "--------------------------------------------------------------------------------\n",
      "\n",
      "文件 6:\n",
      "標題: [老龄化语言学，语言老年学--为什么？ （作者的翻译）]。\n",
      "摘要: QUERY LENGTH LIMIT EXCEEDED. MAX ALLOWED QUERY : 500 CHARS 也没有得到解决。最后，将概述进一步研究的计划。\n",
      "內容: QUERY LENGTH LIMIT EXCEEDED. MAX ALLOWED QUERY : 500 CHARS 不同年龄段的人，就会发现这个问题也还没有得到解决。最后，将概述进一步研究的计划。\n",
      "\n",
      "--------------------------------------------------------------------------------\n",
      "\n",
      "文件 7:\n",
      "標題: 不同身体部位的酸碱关系：简化诊断方法的基础。\n",
      "摘要: QUERY LENGTH LIMIT EXCEEDED. MAX ALLOWED QUERY : 500 CHARS\n",
      "內容: QUERY LENGTH LIMIT EXCEEDED. MAX ALLOWED QUERY : 500 CHARS\n",
      "\n",
      "--------------------------------------------------------------------------------\n",
      "\n",
      "文件 8:\n",
      "標題: [《柏林老年人书信》（作者翻译）的有效性研究]。\n",
      "摘要: QUERY LENGTH LIMIT EXCEEDED. MAX ALLOWED QUERY : 500 CHARS\n",
      "內容: QUERY LENGTH LIMIT EXCEEDED. MAX ALLOWED QUERY : 500 CHARS\n",
      "\n",
      "--------------------------------------------------------------------------------\n",
      "\n",
      "文件 9:\n",
      "標題: 睡眠评估问卷的因子分析。\n",
      "摘要: QUERY LENGTH LIMIT EXCEEDED. MAX ALLOWED QUERY : 500 CHARS\n",
      "內容: QUERY LENGTH LIMIT EXCEEDED. MAX ALLOWED QUERY : 500 CHARS\n",
      "\n",
      "--------------------------------------------------------------------------------\n",
      "\n",
      "文件 10:\n",
      "標題: 宫颈和宫内性交后检查中Y染色质携带精子的频率。\n",
      "摘要: QUERY LENGTH LIMIT EXCEEDED. MAX ALLOWED QUERY : 500 CHARS\n",
      "內容: QUERY LENGTH LIMIT EXCEEDED. MAX ALLOWED QUERY : 500 CHARS\n",
      "\n",
      "--------------------------------------------------------------------------------\n",
      "\n"
     ]
    }
   ],
   "source": [
    "from translate import Translator\n",
    "import jieba\n",
    "import pprint\n",
    "\n",
    "# 初始化翻譯器\n",
    "translator = Translator(to_lang=\"zh\")\n",
    "\n",
    "# 定義分詞函數\n",
    "def tokenize(text):\n",
    "    return \" \".join(jieba.cut(text))\n",
    "\n",
    "# 對查詢進行分詞\n",
    "query = \"嬰兒呼吸暫停該怎辦？\"\n",
    "tokenized_query = tokenize(query)\n",
    "\n",
    "# 查看分詞後的查詢\n",
    "print(f\"分詞後的查詢: {tokenized_query}\")\n",
    "\n",
    "# 進行檢索\n",
    "result = hybrid_retrieval.run(\n",
    "    {\n",
    "        \"text_embedder\": {\"text\": tokenized_query},\n",
    "        \"bm25_retriever\": {\"query\": tokenized_query},\n",
    "        \"ranker\": {\"query\": tokenized_query}\n",
    "    }\n",
    ")\n",
    "\n",
    "# 檢查結果是否有內容\n",
    "print(\"檢索結果:\")\n",
    "pprint.pprint(result)\n",
    "\n",
    "# 定義翻譯函數\n",
    "def translate_to_chinese(text):\n",
    "    if text:  # 檢查文本是否為空\n",
    "        return translator.translate(text)\n",
    "    else:\n",
    "        return \"無內容\"\n",
    "\n",
    "# 美化輸出結果並進行翻譯\n",
    "def pretty_print_and_translate_results(prediction):\n",
    "    if \"ranker\" not in prediction or not prediction[\"ranker\"]:\n",
    "        print(\"沒有找到相關文件。\")\n",
    "        return\n",
    "\n",
    "    for idx, doc in enumerate(prediction[\"ranker\"][\"documents\"], start=1):\n",
    "        if not doc.content:\n",
    "            print(f\"文件 {idx}: 沒有內容\")\n",
    "            continue\n",
    "\n",
    "        translated_title = translate_to_chinese(doc.meta['title'])\n",
    "        translated_abstract = translate_to_chinese(doc.meta['abstract'])\n",
    "        translated_content = translate_to_chinese(doc.content)\n",
    "\n",
    "        print(f\"文件 {idx}:\")\n",
    "        print(f\"標題: {translated_title}\")\n",
    "        print(f\"摘要: {translated_abstract}\")\n",
    "        print(f\"內容: {translated_content}\")\n",
    "        print(\"\\n\" + \"-\" * 80 + \"\\n\")\n",
    "\n",
    "# 輸出並翻譯結果\n",
    "pretty_print_and_translate_results(result)\n"
   ]
  },
  {
   "cell_type": "markdown",
   "metadata": {},
   "source": [
    "縮短"
   ]
  },
  {
   "cell_type": "code",
   "execution_count": 35,
   "metadata": {},
   "outputs": [
    {
     "name": "stdout",
     "output_type": "stream",
     "text": [
      "分詞後的查詢: 嬰兒 呼吸 暫停 急救 措施\n"
     ]
    },
    {
     "name": "stderr",
     "output_type": "stream",
     "text": [
      "Batches: 100%|██████████| 1/1 [00:00<00:00, 54.94it/s]\n"
     ]
    },
    {
     "name": "stdout",
     "output_type": "stream",
     "text": [
      "檢索結果:\n",
      "{'ranker': {'documents': [Document(id=b685698d22b8f26fc85192032362bacd102fc436b4986ee035edc4dfd1466557, content: 'The evaluation of the novel pressor activity of gamma-piperidinobutyramide (WY 20051, DF480). 1 gamm...', meta: {'title': 'The evaluation of the novel pressor activity of gamma-piperidinobutyramide (WY 20051, DF480).', 'abstract': '1 gamma-Piperidinobutyramide (Wy 20051, DF480) injected intravenously evoked pressor responses in the anaesthetized ganglion blocked rat preparation over the dose range 2.4 x 10(-6)-3.0 x 10(-4) mol/kg. 2 High doses (greater than 3.8 x 10(-5) mol/kg) or even repeated submaximal doses (1.9 x 10(-5) mol/kg) of Wy 20051 caused tachyphylaxis of this pressor response. 3 The noradrenaline pressor-response curve was shifted significantly to the right of the control curve following a dose of Wy 20051 (1.5 x 10(-4) mol/kg cumulative). 4 The dose-response curve for the pressor action of Wy 20051 was potentiated in reserpine-treated anaesthetized rats. In contrast, tyramine-induced pressor responses were abolished. 5 Wy 20051 contracted the guinea-pig isolated aortic spiral preparation (3.8 x 10(-5)-6.0 x 10(-4) mol) and evoked constrictor responses in the perfused mesenteric vasculature preparation of the rat (5.9 x 10(-7)-1.2 x 10(-5) mol). At higher doses the responses were reduced. 6 Wy 20051-induced constrictor responses of the perfused mesentery were unaffected by blockade of alpha-adrenoceptors or by tachyphylaxis of 5-hydroxytryptamine receptors. 7 The time for abolition of Wy 20051-induced constrictor responses of the mesentery in a calcium-free medium was not significantly different from that required for noradrenaline, but was significantly greater than that for KCl (P less than 0.001). 8 Wy 20051 and noradrenaline, but not KCl, evoked constrictor responses in the depolarized rat mesenteric vasculature. 9 The results indicate that Wy 20051 evokes pressor responses which have some of the characteristics of those of noradrenaline. However, the responses are not elicited by an alpha-adrenoceptor mechanism.', 'pmid': 'PMID:3247', 'source_id': '87d19e72871264ba0532f62e871b6fd1aa640c666f592741f62c6580025331a6', 'page_number': 1}, score: 4.537190034170635e-05),\n",
      "                          Document(id=0985d61341d129ad43f467c675b38a9fa7e8bff822243a9bb9b4896b813c2ff6, content: 'Human and monkey prolactin and growth hormone: separation of polymorphic forms by isoelectric focusi...', meta: {'title': 'Human and monkey prolactin and growth hormone: separation of polymorphic forms by isoelectric focusing.', 'abstract': 'The feasibility of using isoelectric focusing for the separation of primate pituitary growth hormone from prolactin and for the characterization of polymorphic forms of these hormones was explored. In a pH 3--10 gradient, extracts of both human and cynomolgus monkey pituitaries were each resolved into 4 growth hormone components and at least 3 prolactin components, as shown by radioimmunoassay. In narrower gradients (of 2--3 pH units) greater resolution was achieved; the principal growth hormone components were well separated from the principal prolactin components but there was overlapping of some minor components. A partially purified human prolactin preparation was found to contain 4 prolactin components, one of which had a prolactin/growth hormone ratio of 760. Clinical grade human growth hormone was also resolved into at least 5 prolactin and 5 growth hormone components, many of which had higher pI values than those found in pituitary extract. Under the conditions used, both growth hormone and prolactin were found to be polymorphic with respect to isoelectric point. Some of the human prolactin components were found to contain less than 0.2% growth hormone by radioimmunoassay. Monkey growth hormone containing 0.01% prolactin was isolated. These findings demonstrate that isoelectric focusing is useful for the preparation of both growth hormone and prolactin which are essentially free of one another. Furthermore, the polymorphic forms were repeatedly found in preparations obtained by several methods and from 2 different species, suggesting that these forms are not artifacts.', 'pmid': 'PMID:227', 'source_id': '1de0f107d901eed27352a855c914fda682c994dffdd12dd9ae2f551ddc555c92', 'page_number': 1}, score: 3.742828266695142e-05),\n",
      "                          Document(id=a2eaa51b38797cf5d0aadc91bfcd1151eddd6afa52b90cc605d090b8f1952bc4, content: 'Evaluating clustering methods for psychiatric diagnosis. This report represents an empirical evaluat...', meta: {'title': 'Evaluating clustering methods for psychiatric diagnosis.', 'abstract': 'This report represents an empirical evaluation of the major clustering approaches on psychiatric diagnostic data. Experienced psychiatrists, using 17 psychopathological variables, developed 88 archetypal psychiatric patients to represent four diagnostic categories (manic-depressive depressed, manic-depressive manic, simple schizophrenic, and paranoid schizophrenic). Ten computerized methods representative of the major clustering approaches and using various measures of similarity between patients were applied to this data set to develop de novo patient groupings. Evaluative criteria included the concordance of clustering output to the structure of the original data, and clustering replicability. Considerable differences were obtained among clustering methods. The best-ranked procedures were nearest centroid sorting methods and complete and centroid linkage hierarchical methods. The overall poorest ranking were obtained for multivariate normal mixture analysis and facial representation of multidimensional points. Further evaluation of cluster analytic methods on real biological and psychosocial data sets yielded similar rankings.', 'pmid': 'PMID:27252', 'source_id': '6f9ce8e07bac5feec76548241a020b1e4ee5330af5d7b8b1f781bc2cca584cd0', 'page_number': 1}, score: 3.742402986972593e-05),\n",
      "                          Document(id=32540393426fd42391de81352bc3048c8908856e46ff05a9824bdf2389ab83aa, content: 'The introduction of SI units and the standardisation of laboratory reports: recommendations of the S...', meta: {'title': 'The introduction of SI units and the standardisation of laboratory reports: recommendations of the South African Association of Clinical Biochemists.', 'abstract': 'The change of SI units in laboratory reporting is occurring in South Africa. To assist this process and to ensure uniformity among laboratories, the Recommendations of the South African Association of Clinical Biochemists are presented. Controversial points are discussed and subunits selected. A standardised format of laboratory reports is suggested.', 'pmid': 'PMID:10633', 'source_id': '76fd863c9d39c6140d8032f3d2227f8097775f8b550f4bbed3477dfcd71f2e25', 'page_number': 1}, score: 3.7422996683744714e-05),\n",
      "                          Document(id=04d5dc3c21c92f9640edaf8ce893dfad9278e49c6d4b1e8ba67e97428378889d, content: 'The frequency of Y chromatin-positive spermatozoa during in vitro penetration tests under various ex...', meta: {'title': 'The frequency of Y chromatin-positive spermatozoa during in vitro penetration tests under various experimental conditions.', 'abstract': 'Complete analysis were carried out on the semen of 55 subjects. The semen was then investigated by using the fluorescent microscopic technique to determine the percentage proportion of Y chromatin-bearing spermatozoa. After staining with quinacrine mustard, an average Y chromatin frequency of 48.2% +/- 2.9% was recorded. With this spermatozoal material, 139 in vitro penetration tests were carried out with cervical mucus. After penetration there was a small, but statistically significant, increase in the percentage of Y spermatozoa (to 52.7% +/- 3.8%). The figures thus recorded were then correlated under variable experimental conditions in addition to variable semen parameters. The ratio of X:Y spermatozoa was related to the duration of the penetration tests, varying temperatures during the penetration, varying acid values of semen and cervical secretion, and also to the value of sperm motility in the semen analysis and to cervical factors. None of the above variables had any measurable influence on the percentage distribution of X and Y spermatozoa during in vitro penetration.', 'pmid': 'PMID:20338', 'source_id': '2636d55a040af78e10f6b2715dfb024424e8e9022c42cee886e65c782d5d0286', 'page_number': 1}, score: 3.7398240237962455e-05),\n",
      "                          Document(id=31635059f8a6dedafd584da2af3777480ed3c3c6705f2ac6689d39a6d7517bfe, content: 'The separation of nonapeptides by reversed-phase high-performance liquid chromatography. The separat...', meta: {'title': 'The separation of nonapeptides by reversed-phase high-performance liquid chromatography.', 'abstract': 'The separation properties of five nonapeptides on commercial reversed-phase materials have been investigated and the effects of pH, salt concentration and solvent composition have been studied. With appropriate variation of the pH and salt concentration in the mobile phase, it is possible to resolve all of the peptides investigated and their by-products. Mixtures of water and organic solvents (acetonitrile, dioxan, methanol and n-propanol) have been used. The choice of the organic solvent does not strongly influence the separation pattern. The simplicity, speed and quality of the separations and the favourable detection limits (ca. 30 ng) at 220 nm render this technique suitable to routine quantitative analysis.', 'pmid': 'PMID:13084', 'source_id': '05bf721c75bf0d8797b5e0fc956f098d038ddfb8391c50c183afc17d8cd6b175', 'page_number': 1}, score: 3.739502790267579e-05),\n",
      "                          Document(id=ff30275f6c8f76e67bc3367d81f3718838b4eca738feacd92859f6e6a80c272d, content: 'Evaluating the nonverbal communication skills of nursing students. This study examined the accuracy ...', meta: {'title': 'Evaluating the nonverbal communication skills of nursing students.', 'abstract': 'This study examined the accuracy rate of judging nonverbal skills used by nursing students in communicating with patients. Self-ratings of the students were compared with composite instructor ratings to find areas of disagreement regarding the quality of the nonverbal skills. Students who rated their nonverbal acuity higher than the instructors and students who rated their nonverbal acuity lower than the instructors were parceled out of the total sample of 92 senior nursing students enrolled in a baccalaureate program. Nonverbal acuity was measured by asking subjects to identify nonverbal information about emotional states from pictures. A November Picture Test consisting of 120 pictorial items was utilized as the dependent variable. Results showed that almost one half of the sample disagreed with the instructor rating applied to their nonverbal skills with patients. The differences between the groups was significant at the 0.05 level and the students were accurate in designating the direction of difference. Results are discussed in relation to clinical evaluation by both faculty and students in appraising communication skills. Implications such as grade inflation are discussed and recommendations for further study are covered.', 'pmid': 'PMID:14239', 'source_id': '2162755f73b6c92a12c1d695c4473e267f5f8b63944982e9990df7cbbb7c0458', 'page_number': 1}, score: 3.7394813261926174e-05),\n",
      "                          Document(id=f252e2e18e1cda45581f7740a3a664cf774e61d9d2495bb54eae252dbe161288, content: 'Evoked neurotransmitter release: statistical effects of nonuniformity and nonstationarity. Recent st...', meta: {'title': 'Evoked neurotransmitter release: statistical effects of nonuniformity and nonstationarity.', 'abstract': 'Recent studies of the mechanism of quantal neurotransmitter release have assumed that the number of quanta released at each stimulation is binomially distributed and have sought to estimate the binomial parameters n and p. Mathematical analysis and computer simulations show that temporal variation in the number of eligible or filled release sites and either spatial or temporal variation in the probability of release at a site can drastically bias such estimates, while the experimental histograms remain statistically indistinguishable from those predicted by the binomial law. Interpretation of the estimates n and p in terms of ultrastructural or physiological characteristics of the nerve terminal is liable to significant error if departures from the binomial assumptions are not suitably assessed.', 'pmid': 'PMID:8781', 'source_id': '254e67e6362bf72eb0cf59af73b69beaf36e6a511f6c58828f14e98ee69555ae', 'page_number': 1}, score: 3.730263779289089e-05),\n",
      "                          Document(id=18305ce5395e8757080987ff7e93162177579815aece29fce20be32e3c295d23, content: 'A micro-method for determination of fatty acid (FIAT) and glucose (GLIAT) incorporation and lipolysi...', meta: {'title': 'A micro-method for determination of fatty acid (FIAT) and glucose (GLIAT) incorporation and lipolysis in vitro in needle biopsies of human adipose tissue.', 'abstract': 'A method for determination of fatty acid (FIAT) and glucose (GLIAT) incorporation into adipose tissue in vitro in needle biopsy specimens of human fat has been developed. 20-150 mg of subcutaneous fat is incubated in an albumin buffer containing a physiological spectrum and concentration of fatty acids and glucose. Release of glycerol and fatty acids to the incubation medium and incorporation of labelled palmitic acid and labelled glucose into extracted adipose tissue lipids are determined simultaneously. The labelled fatty acids are found in the fatty acid part and the labelled glucose only in the glycerol part of extracted diglycerides and triglycerides. These glycerides are completely recovered and indicated FIAT and GLIAT values. Methodological errors for all vaiables are about 10%. All processes increase linearly with tissue weight and incubation time. FIAT and GLIAT increase linearly with increasing concentration of a physiological spectrum of fatty acids (=constant fractional incorporation). The method is simple, and several analyses from one subject can be performed on one day with a minimum of discomfort to the patient.', 'pmid': 'PMID:8829', 'source_id': '9e76b97ddd3c65945d11e1fcbb4ac3e38976146da9cf713a6cb3e9d9d574d143', 'page_number': 1}, score: 3.7298581446520984e-05),\n",
      "                          Document(id=8458778584017f65ffedf1fc02d459171a2935d66069a04339a5755fc53470d3, content: 'Evidence for more than one type of 5-hydroxytryptamine receptor in the human colon. The actions of m...', meta: {'title': 'Evidence for more than one type of 5-hydroxytryptamine receptor in the human colon.', 'abstract': 'The actions of methysergide, a 5-hydroxytryptamine (5-HT) antagonist, have been examined on muscle strips taken from the circular and longitudinal layers of the human colon. Relaxations of the longitudinal muscle to 5-HT were antagonized by concentrations of methysergide known to be selective. Relaxations of the circular muscle to 5-HT were unaffected by similar concentrations of methysergide. Responses of both types of muscle to 5-HT were partially reduced by tetrodotoxin. Furthermore there was evidence for 5-HT receptors in circular colonic muscle which were unaffected either by selective concentrations of methysergide or tetrodotoxin.', 'pmid': 'PMID:21257', 'source_id': 'a7947da6ce9d10644fd1ecc17a3b42f6b5ac2baf31f97640591b214fb9c40b8c', 'page_number': 1}, score: 3.729047239175998e-05)]}}\n",
      "文件 1:\n",
      "標題: Γ-哌啶丁酰胺的新型加壓器活性評估(WY 20051, DF480)。\n",
      "摘要: 1 γ-哌啶丁醯胺(Wy 20051, DF480)在劑量範圍2.4 x 10 (-6) -3.0 x 10 (-4) mol/kg的麻醉神經節阻斷大鼠製劑中靜脈注射引起的壓力反應。2高劑量(大於3.8 x 10 (-5) mol/kg)或甚至重複次最大劑量(1.9 x 10 (-5) mol/kg)的Wy 20051導致此壓力反應的急性發作。3去甲腎上腺素壓力或反應...\n",
      "內容: 評估γ-哌啶丁醯胺(WY 20051, DF480)的新型加壓活性。1 γ-哌啶丁醯胺(WY 20051, DF480)在劑量範圍2.4 x 10 (-6) -3.0 x 10 (-4) mol/kg的麻醉神經節阻斷大鼠製劑中靜脈注射引起的加壓反應。2高劑量(大於3.8 x 10 (-5) mol/kg)或甚至重複次最大劑量(1.9 x 10 (-5) mol/kg)...\n",
      "\n",
      "--------------------------------------------------------------------------------\n",
      "\n",
      "文件 2:\n",
      "標題: 人類和猴子的催乳素和生長激素：通過等電聚焦分離多態形式。\n",
      "摘要: 探索了使用等電聚焦從催乳素中分離靈長類垂體生長激素以及表徵這些激素的多態形式的可行性。在pH 3--10梯度下，人類和食蟹猴垂體的提取物分解為4種生長激素成分和至少3種催乳素成分，如放射免疫測定所示。\n",
      "內容: MYMEMORY WARNING: YOU USED ALL AVAILABLE FREE TRANSLATIONS FOR TODAY. NEXT AVAILABLE IN  08 HOURS 49 MINUTES 06 SECONDS VISIT HTTPS://MYMEMORY.TRANSLATED.NET/DOC/USAGELIMITS.PHP TO TRANSLATE MORE\n",
      "\n",
      "--------------------------------------------------------------------------------\n",
      "\n",
      "文件 3:\n",
      "標題: MYMEMORY WARNING: YOU USED ALL AVAILABLE FREE TRANSLATIONS FOR TODAY. NEXT AVAILABLE IN  08 HOURS 49 MINUTES 04 SECONDS VISIT HTTPS://MYMEMORY.TRANSLATED.NET/DOC/USAGELIMITS.PHP TO TRANSLATE MORE\n",
      "摘要: MYMEMORY WARNING: YOU USED ALL AVAILABLE FREE TRANSLATIONS FOR TODAY. NEXT AVAILABLE IN  08 HOURS 49 MINUTES 02 SECONDS VISIT HTTPS://MYMEMORY.TRANSLATED.NET/DOC/USAGELIMITS.PHP TO TRANSLATE MORE\n",
      "內容: MYMEMORY WARNING: YOU USED ALL AVAILABLE FREE TRANSLATIONS FOR TODAY. NEXT AVAILABLE IN  08 HOURS 49 MINUTES 00 SECONDS VISIT HTTPS://MYMEMORY.TRANSLATED.NET/DOC/USAGELIMITS.PHP TO TRANSLATE MORE\n",
      "\n",
      "--------------------------------------------------------------------------------\n",
      "\n",
      "文件 4:\n",
      "標題: MYMEMORY WARNING: YOU USED ALL AVAILABLE FREE TRANSLATIONS FOR TODAY. NEXT AVAILABLE IN  08 HOURS 48 MINUTES 58 SECONDS VISIT HTTPS://MYMEMORY.TRANSLATED.NET/DOC/USAGELIMITS.PHP TO TRANSLATE MORE\n",
      "摘要: MYMEMORY WARNING: YOU USED ALL AVAILABLE FREE TRANSLATIONS FOR TODAY. NEXT AVAILABLE IN  08 HOURS 48 MINUTES 57 SECONDS VISIT HTTPS://MYMEMORY.TRANSLATED.NET/DOC/USAGELIMITS.PHP TO TRANSLATE MORE\n",
      "內容: MYMEMORY WARNING: YOU USED ALL AVAILABLE FREE TRANSLATIONS FOR TODAY. NEXT AVAILABLE IN  08 HOURS 48 MINUTES 55 SECONDS VISIT HTTPS://MYMEMORY.TRANSLATED.NET/DOC/USAGELIMITS.PHP TO TRANSLATE MORE\n",
      "\n",
      "--------------------------------------------------------------------------------\n",
      "\n",
      "文件 5:\n",
      "標題: MYMEMORY WARNING: YOU USED ALL AVAILABLE FREE TRANSLATIONS FOR TODAY. NEXT AVAILABLE IN  08 HOURS 48 MINUTES 53 SECONDS VISIT HTTPS://MYMEMORY.TRANSLATED.NET/DOC/USAGELIMITS.PHP TO TRANSLATE MORE\n",
      "摘要: MYMEMORY WARNING: YOU USED ALL AVAILABLE FREE TRANSLATIONS FOR TODAY. NEXT AVAILABLE IN  08 HOURS 48 MINUTES 51 SECONDS VISIT HTTPS://MYMEMORY.TRANSLATED.NET/DOC/USAGELIMITS.PHP TO TRANSLATE MORE\n",
      "內容: MYMEMORY WARNING: YOU USED ALL AVAILABLE FREE TRANSLATIONS FOR TODAY. NEXT AVAILABLE IN  08 HOURS 48 MINUTES 49 SECONDS VISIT HTTPS://MYMEMORY.TRANSLATED.NET/DOC/USAGELIMITS.PHP TO TRANSLATE MORE\n",
      "\n",
      "--------------------------------------------------------------------------------\n",
      "\n"
     ]
    },
    {
     "ename": "KeyboardInterrupt",
     "evalue": "",
     "output_type": "error",
     "traceback": [
      "\u001b[0;31m---------------------------------------------------------------------------\u001b[0m",
      "\u001b[0;31mKeyboardInterrupt\u001b[0m                         Traceback (most recent call last)",
      "Cell \u001b[0;32mIn[35], line 63\u001b[0m\n\u001b[1;32m     60\u001b[0m         \u001b[38;5;28mprint\u001b[39m(\u001b[38;5;124m\"\u001b[39m\u001b[38;5;130;01m\\n\u001b[39;00m\u001b[38;5;124m\"\u001b[39m \u001b[38;5;241m+\u001b[39m \u001b[38;5;124m\"\u001b[39m\u001b[38;5;124m-\u001b[39m\u001b[38;5;124m\"\u001b[39m \u001b[38;5;241m*\u001b[39m \u001b[38;5;241m80\u001b[39m \u001b[38;5;241m+\u001b[39m \u001b[38;5;124m\"\u001b[39m\u001b[38;5;130;01m\\n\u001b[39;00m\u001b[38;5;124m\"\u001b[39m)\n\u001b[1;32m     62\u001b[0m \u001b[38;5;66;03m# 輸出並翻譯結果\u001b[39;00m\n\u001b[0;32m---> 63\u001b[0m \u001b[43mpretty_print_and_translate_results\u001b[49m\u001b[43m(\u001b[49m\u001b[43mresult\u001b[49m\u001b[43m)\u001b[49m\n",
      "Cell \u001b[0;32mIn[35], line 54\u001b[0m, in \u001b[0;36mpretty_print_and_translate_results\u001b[0;34m(prediction)\u001b[0m\n\u001b[1;32m     52\u001b[0m translated_title \u001b[38;5;241m=\u001b[39m translate_to_chinese(truncated_title)\n\u001b[1;32m     53\u001b[0m translated_abstract \u001b[38;5;241m=\u001b[39m translate_to_chinese(truncated_abstract)\n\u001b[0;32m---> 54\u001b[0m translated_content \u001b[38;5;241m=\u001b[39m \u001b[43mtranslate_to_chinese\u001b[49m\u001b[43m(\u001b[49m\u001b[43mtruncated_content\u001b[49m\u001b[43m)\u001b[49m\n\u001b[1;32m     56\u001b[0m \u001b[38;5;28mprint\u001b[39m(\u001b[38;5;124mf\u001b[39m\u001b[38;5;124m\"\u001b[39m\u001b[38;5;124m文件 \u001b[39m\u001b[38;5;132;01m{\u001b[39;00midx\u001b[38;5;132;01m}\u001b[39;00m\u001b[38;5;124m:\u001b[39m\u001b[38;5;124m\"\u001b[39m)\n\u001b[1;32m     57\u001b[0m \u001b[38;5;28mprint\u001b[39m(\u001b[38;5;124mf\u001b[39m\u001b[38;5;124m\"\u001b[39m\u001b[38;5;124m標題: \u001b[39m\u001b[38;5;132;01m{\u001b[39;00mtranslated_title\u001b[38;5;132;01m}\u001b[39;00m\u001b[38;5;124m\"\u001b[39m)\n",
      "Cell \u001b[0;32mIn[35], line 19\u001b[0m, in \u001b[0;36mtranslate_to_chinese\u001b[0;34m(text)\u001b[0m\n\u001b[1;32m     18\u001b[0m \u001b[38;5;28;01mdef\u001b[39;00m \u001b[38;5;21mtranslate_to_chinese\u001b[39m(text):\n\u001b[0;32m---> 19\u001b[0m     \u001b[38;5;28;01mreturn\u001b[39;00m \u001b[43mtranslator\u001b[49m\u001b[38;5;241;43m.\u001b[39;49m\u001b[43mtranslate\u001b[49m\u001b[43m(\u001b[49m\u001b[43mtext\u001b[49m\u001b[43m)\u001b[49m\n",
      "File \u001b[0;32m~/Documents/PythonVenv/envHaystack/lib/python3.10/site-packages/translate/translate.py:45\u001b[0m, in \u001b[0;36mTranslator.translate\u001b[0;34m(self, text)\u001b[0m\n\u001b[1;32m     42\u001b[0m     \u001b[38;5;28;01mreturn\u001b[39;00m text\n\u001b[1;32m     44\u001b[0m text_list \u001b[38;5;241m=\u001b[39m wrap(text, TRANSLATION_API_MAX_LENGHT, replace_whitespace\u001b[38;5;241m=\u001b[39m\u001b[38;5;28;01mFalse\u001b[39;00m)\n\u001b[0;32m---> 45\u001b[0m \u001b[38;5;28;01mreturn\u001b[39;00m \u001b[38;5;124;43m'\u001b[39;49m\u001b[38;5;124;43m \u001b[39;49m\u001b[38;5;124;43m'\u001b[39;49m\u001b[38;5;241;43m.\u001b[39;49m\u001b[43mjoin\u001b[49m\u001b[43m(\u001b[49m\u001b[38;5;28;43mself\u001b[39;49m\u001b[38;5;241;43m.\u001b[39;49m\u001b[43mprovider\u001b[49m\u001b[38;5;241;43m.\u001b[39;49m\u001b[43mget_translation\u001b[49m\u001b[43m(\u001b[49m\u001b[43mtext_wraped\u001b[49m\u001b[43m)\u001b[49m\u001b[43m \u001b[49m\u001b[38;5;28;43;01mfor\u001b[39;49;00m\u001b[43m \u001b[49m\u001b[43mtext_wraped\u001b[49m\u001b[43m \u001b[49m\u001b[38;5;129;43;01min\u001b[39;49;00m\u001b[43m \u001b[49m\u001b[43mtext_list\u001b[49m\u001b[43m)\u001b[49m\n",
      "File \u001b[0;32m~/Documents/PythonVenv/envHaystack/lib/python3.10/site-packages/translate/translate.py:45\u001b[0m, in \u001b[0;36m<genexpr>\u001b[0;34m(.0)\u001b[0m\n\u001b[1;32m     42\u001b[0m     \u001b[38;5;28;01mreturn\u001b[39;00m text\n\u001b[1;32m     44\u001b[0m text_list \u001b[38;5;241m=\u001b[39m wrap(text, TRANSLATION_API_MAX_LENGHT, replace_whitespace\u001b[38;5;241m=\u001b[39m\u001b[38;5;28;01mFalse\u001b[39;00m)\n\u001b[0;32m---> 45\u001b[0m \u001b[38;5;28;01mreturn\u001b[39;00m \u001b[38;5;124m'\u001b[39m\u001b[38;5;124m \u001b[39m\u001b[38;5;124m'\u001b[39m\u001b[38;5;241m.\u001b[39mjoin(\u001b[38;5;28;43mself\u001b[39;49m\u001b[38;5;241;43m.\u001b[39;49m\u001b[43mprovider\u001b[49m\u001b[38;5;241;43m.\u001b[39;49m\u001b[43mget_translation\u001b[49m\u001b[43m(\u001b[49m\u001b[43mtext_wraped\u001b[49m\u001b[43m)\u001b[49m \u001b[38;5;28;01mfor\u001b[39;00m text_wraped \u001b[38;5;129;01min\u001b[39;00m text_list)\n",
      "File \u001b[0;32m~/Documents/PythonVenv/envHaystack/lib/python3.10/site-packages/translate/providers/mymemory_translated.py:42\u001b[0m, in \u001b[0;36mMyMemoryProvider.get_translation\u001b[0;34m(self, text)\u001b[0m\n\u001b[1;32m     41\u001b[0m \u001b[38;5;28;01mdef\u001b[39;00m \u001b[38;5;21mget_translation\u001b[39m(\u001b[38;5;28mself\u001b[39m, text):\n\u001b[0;32m---> 42\u001b[0m     data \u001b[38;5;241m=\u001b[39m \u001b[38;5;28;43mself\u001b[39;49m\u001b[38;5;241;43m.\u001b[39;49m\u001b[43m_make_request\u001b[49m\u001b[43m(\u001b[49m\u001b[43mtext\u001b[49m\u001b[43m)\u001b[49m\n\u001b[1;32m     44\u001b[0m     translation \u001b[38;5;241m=\u001b[39m data[\u001b[38;5;124m'\u001b[39m\u001b[38;5;124mresponseData\u001b[39m\u001b[38;5;124m'\u001b[39m][\u001b[38;5;124m'\u001b[39m\u001b[38;5;124mtranslatedText\u001b[39m\u001b[38;5;124m'\u001b[39m]\n\u001b[1;32m     45\u001b[0m     \u001b[38;5;28;01mif\u001b[39;00m translation:\n",
      "File \u001b[0;32m~/Documents/PythonVenv/envHaystack/lib/python3.10/site-packages/translate/providers/mymemory_translated.py:38\u001b[0m, in \u001b[0;36mMyMemoryProvider._make_request\u001b[0;34m(self, text)\u001b[0m\n\u001b[1;32m     35\u001b[0m \u001b[38;5;28;01mif\u001b[39;00m \u001b[38;5;28mself\u001b[39m\u001b[38;5;241m.\u001b[39memail:\n\u001b[1;32m     36\u001b[0m     params[\u001b[38;5;124m'\u001b[39m\u001b[38;5;124mde\u001b[39m\u001b[38;5;124m'\u001b[39m] \u001b[38;5;241m=\u001b[39m \u001b[38;5;28mself\u001b[39m\u001b[38;5;241m.\u001b[39memail\n\u001b[0;32m---> 38\u001b[0m response \u001b[38;5;241m=\u001b[39m \u001b[43mrequests\u001b[49m\u001b[38;5;241;43m.\u001b[39;49m\u001b[43mget\u001b[49m\u001b[43m(\u001b[49m\u001b[38;5;28;43mself\u001b[39;49m\u001b[38;5;241;43m.\u001b[39;49m\u001b[43mbase_url\u001b[49m\u001b[43m,\u001b[49m\u001b[43m \u001b[49m\u001b[43mparams\u001b[49m\u001b[38;5;241;43m=\u001b[39;49m\u001b[43mparams\u001b[49m\u001b[43m,\u001b[49m\u001b[43m \u001b[49m\u001b[43mheaders\u001b[49m\u001b[38;5;241;43m=\u001b[39;49m\u001b[38;5;28;43mself\u001b[39;49m\u001b[38;5;241;43m.\u001b[39;49m\u001b[43mheaders\u001b[49m\u001b[43m)\u001b[49m\n\u001b[1;32m     39\u001b[0m \u001b[38;5;28;01mreturn\u001b[39;00m response\u001b[38;5;241m.\u001b[39mjson()\n",
      "File \u001b[0;32m~/Documents/PythonVenv/envHaystack/lib/python3.10/site-packages/requests/api.py:73\u001b[0m, in \u001b[0;36mget\u001b[0;34m(url, params, **kwargs)\u001b[0m\n\u001b[1;32m     62\u001b[0m \u001b[38;5;28;01mdef\u001b[39;00m \u001b[38;5;21mget\u001b[39m(url, params\u001b[38;5;241m=\u001b[39m\u001b[38;5;28;01mNone\u001b[39;00m, \u001b[38;5;241m*\u001b[39m\u001b[38;5;241m*\u001b[39mkwargs):\n\u001b[1;32m     63\u001b[0m \u001b[38;5;250m    \u001b[39m\u001b[38;5;124mr\u001b[39m\u001b[38;5;124;03m\"\"\"Sends a GET request.\u001b[39;00m\n\u001b[1;32m     64\u001b[0m \n\u001b[1;32m     65\u001b[0m \u001b[38;5;124;03m    :param url: URL for the new :class:`Request` object.\u001b[39;00m\n\u001b[0;32m   (...)\u001b[0m\n\u001b[1;32m     70\u001b[0m \u001b[38;5;124;03m    :rtype: requests.Response\u001b[39;00m\n\u001b[1;32m     71\u001b[0m \u001b[38;5;124;03m    \"\"\"\u001b[39;00m\n\u001b[0;32m---> 73\u001b[0m     \u001b[38;5;28;01mreturn\u001b[39;00m \u001b[43mrequest\u001b[49m\u001b[43m(\u001b[49m\u001b[38;5;124;43m\"\u001b[39;49m\u001b[38;5;124;43mget\u001b[39;49m\u001b[38;5;124;43m\"\u001b[39;49m\u001b[43m,\u001b[49m\u001b[43m \u001b[49m\u001b[43murl\u001b[49m\u001b[43m,\u001b[49m\u001b[43m \u001b[49m\u001b[43mparams\u001b[49m\u001b[38;5;241;43m=\u001b[39;49m\u001b[43mparams\u001b[49m\u001b[43m,\u001b[49m\u001b[43m \u001b[49m\u001b[38;5;241;43m*\u001b[39;49m\u001b[38;5;241;43m*\u001b[39;49m\u001b[43mkwargs\u001b[49m\u001b[43m)\u001b[49m\n",
      "File \u001b[0;32m~/Documents/PythonVenv/envHaystack/lib/python3.10/site-packages/requests/api.py:59\u001b[0m, in \u001b[0;36mrequest\u001b[0;34m(method, url, **kwargs)\u001b[0m\n\u001b[1;32m     55\u001b[0m \u001b[38;5;66;03m# By using the 'with' statement we are sure the session is closed, thus we\u001b[39;00m\n\u001b[1;32m     56\u001b[0m \u001b[38;5;66;03m# avoid leaving sockets open which can trigger a ResourceWarning in some\u001b[39;00m\n\u001b[1;32m     57\u001b[0m \u001b[38;5;66;03m# cases, and look like a memory leak in others.\u001b[39;00m\n\u001b[1;32m     58\u001b[0m \u001b[38;5;28;01mwith\u001b[39;00m sessions\u001b[38;5;241m.\u001b[39mSession() \u001b[38;5;28;01mas\u001b[39;00m session:\n\u001b[0;32m---> 59\u001b[0m     \u001b[38;5;28;01mreturn\u001b[39;00m \u001b[43msession\u001b[49m\u001b[38;5;241;43m.\u001b[39;49m\u001b[43mrequest\u001b[49m\u001b[43m(\u001b[49m\u001b[43mmethod\u001b[49m\u001b[38;5;241;43m=\u001b[39;49m\u001b[43mmethod\u001b[49m\u001b[43m,\u001b[49m\u001b[43m \u001b[49m\u001b[43murl\u001b[49m\u001b[38;5;241;43m=\u001b[39;49m\u001b[43murl\u001b[49m\u001b[43m,\u001b[49m\u001b[43m \u001b[49m\u001b[38;5;241;43m*\u001b[39;49m\u001b[38;5;241;43m*\u001b[39;49m\u001b[43mkwargs\u001b[49m\u001b[43m)\u001b[49m\n",
      "File \u001b[0;32m~/Documents/PythonVenv/envHaystack/lib/python3.10/site-packages/requests/sessions.py:589\u001b[0m, in \u001b[0;36mSession.request\u001b[0;34m(self, method, url, params, data, headers, cookies, files, auth, timeout, allow_redirects, proxies, hooks, stream, verify, cert, json)\u001b[0m\n\u001b[1;32m    584\u001b[0m send_kwargs \u001b[38;5;241m=\u001b[39m {\n\u001b[1;32m    585\u001b[0m     \u001b[38;5;124m\"\u001b[39m\u001b[38;5;124mtimeout\u001b[39m\u001b[38;5;124m\"\u001b[39m: timeout,\n\u001b[1;32m    586\u001b[0m     \u001b[38;5;124m\"\u001b[39m\u001b[38;5;124mallow_redirects\u001b[39m\u001b[38;5;124m\"\u001b[39m: allow_redirects,\n\u001b[1;32m    587\u001b[0m }\n\u001b[1;32m    588\u001b[0m send_kwargs\u001b[38;5;241m.\u001b[39mupdate(settings)\n\u001b[0;32m--> 589\u001b[0m resp \u001b[38;5;241m=\u001b[39m \u001b[38;5;28;43mself\u001b[39;49m\u001b[38;5;241;43m.\u001b[39;49m\u001b[43msend\u001b[49m\u001b[43m(\u001b[49m\u001b[43mprep\u001b[49m\u001b[43m,\u001b[49m\u001b[43m \u001b[49m\u001b[38;5;241;43m*\u001b[39;49m\u001b[38;5;241;43m*\u001b[39;49m\u001b[43msend_kwargs\u001b[49m\u001b[43m)\u001b[49m\n\u001b[1;32m    591\u001b[0m \u001b[38;5;28;01mreturn\u001b[39;00m resp\n",
      "File \u001b[0;32m~/Documents/PythonVenv/envHaystack/lib/python3.10/site-packages/requests/sessions.py:724\u001b[0m, in \u001b[0;36mSession.send\u001b[0;34m(self, request, **kwargs)\u001b[0m\n\u001b[1;32m    721\u001b[0m \u001b[38;5;28;01mif\u001b[39;00m allow_redirects:\n\u001b[1;32m    722\u001b[0m     \u001b[38;5;66;03m# Redirect resolving generator.\u001b[39;00m\n\u001b[1;32m    723\u001b[0m     gen \u001b[38;5;241m=\u001b[39m \u001b[38;5;28mself\u001b[39m\u001b[38;5;241m.\u001b[39mresolve_redirects(r, request, \u001b[38;5;241m*\u001b[39m\u001b[38;5;241m*\u001b[39mkwargs)\n\u001b[0;32m--> 724\u001b[0m     history \u001b[38;5;241m=\u001b[39m [resp \u001b[38;5;28;01mfor\u001b[39;00m resp \u001b[38;5;129;01min\u001b[39;00m gen]\n\u001b[1;32m    725\u001b[0m \u001b[38;5;28;01melse\u001b[39;00m:\n\u001b[1;32m    726\u001b[0m     history \u001b[38;5;241m=\u001b[39m []\n",
      "File \u001b[0;32m~/Documents/PythonVenv/envHaystack/lib/python3.10/site-packages/requests/sessions.py:724\u001b[0m, in \u001b[0;36m<listcomp>\u001b[0;34m(.0)\u001b[0m\n\u001b[1;32m    721\u001b[0m \u001b[38;5;28;01mif\u001b[39;00m allow_redirects:\n\u001b[1;32m    722\u001b[0m     \u001b[38;5;66;03m# Redirect resolving generator.\u001b[39;00m\n\u001b[1;32m    723\u001b[0m     gen \u001b[38;5;241m=\u001b[39m \u001b[38;5;28mself\u001b[39m\u001b[38;5;241m.\u001b[39mresolve_redirects(r, request, \u001b[38;5;241m*\u001b[39m\u001b[38;5;241m*\u001b[39mkwargs)\n\u001b[0;32m--> 724\u001b[0m     history \u001b[38;5;241m=\u001b[39m [resp \u001b[38;5;28;01mfor\u001b[39;00m resp \u001b[38;5;129;01min\u001b[39;00m gen]\n\u001b[1;32m    725\u001b[0m \u001b[38;5;28;01melse\u001b[39;00m:\n\u001b[1;32m    726\u001b[0m     history \u001b[38;5;241m=\u001b[39m []\n",
      "File \u001b[0;32m~/Documents/PythonVenv/envHaystack/lib/python3.10/site-packages/requests/sessions.py:265\u001b[0m, in \u001b[0;36mSessionRedirectMixin.resolve_redirects\u001b[0;34m(self, resp, req, stream, timeout, verify, cert, proxies, yield_requests, **adapter_kwargs)\u001b[0m\n\u001b[1;32m    263\u001b[0m     \u001b[38;5;28;01myield\u001b[39;00m req\n\u001b[1;32m    264\u001b[0m \u001b[38;5;28;01melse\u001b[39;00m:\n\u001b[0;32m--> 265\u001b[0m     resp \u001b[38;5;241m=\u001b[39m \u001b[38;5;28;43mself\u001b[39;49m\u001b[38;5;241;43m.\u001b[39;49m\u001b[43msend\u001b[49m\u001b[43m(\u001b[49m\n\u001b[1;32m    266\u001b[0m \u001b[43m        \u001b[49m\u001b[43mreq\u001b[49m\u001b[43m,\u001b[49m\n\u001b[1;32m    267\u001b[0m \u001b[43m        \u001b[49m\u001b[43mstream\u001b[49m\u001b[38;5;241;43m=\u001b[39;49m\u001b[43mstream\u001b[49m\u001b[43m,\u001b[49m\n\u001b[1;32m    268\u001b[0m \u001b[43m        \u001b[49m\u001b[43mtimeout\u001b[49m\u001b[38;5;241;43m=\u001b[39;49m\u001b[43mtimeout\u001b[49m\u001b[43m,\u001b[49m\n\u001b[1;32m    269\u001b[0m \u001b[43m        \u001b[49m\u001b[43mverify\u001b[49m\u001b[38;5;241;43m=\u001b[39;49m\u001b[43mverify\u001b[49m\u001b[43m,\u001b[49m\n\u001b[1;32m    270\u001b[0m \u001b[43m        \u001b[49m\u001b[43mcert\u001b[49m\u001b[38;5;241;43m=\u001b[39;49m\u001b[43mcert\u001b[49m\u001b[43m,\u001b[49m\n\u001b[1;32m    271\u001b[0m \u001b[43m        \u001b[49m\u001b[43mproxies\u001b[49m\u001b[38;5;241;43m=\u001b[39;49m\u001b[43mproxies\u001b[49m\u001b[43m,\u001b[49m\n\u001b[1;32m    272\u001b[0m \u001b[43m        \u001b[49m\u001b[43mallow_redirects\u001b[49m\u001b[38;5;241;43m=\u001b[39;49m\u001b[38;5;28;43;01mFalse\u001b[39;49;00m\u001b[43m,\u001b[49m\n\u001b[1;32m    273\u001b[0m \u001b[43m        \u001b[49m\u001b[38;5;241;43m*\u001b[39;49m\u001b[38;5;241;43m*\u001b[39;49m\u001b[43madapter_kwargs\u001b[49m\u001b[43m,\u001b[49m\n\u001b[1;32m    274\u001b[0m \u001b[43m    \u001b[49m\u001b[43m)\u001b[49m\n\u001b[1;32m    276\u001b[0m     extract_cookies_to_jar(\u001b[38;5;28mself\u001b[39m\u001b[38;5;241m.\u001b[39mcookies, prepared_request, resp\u001b[38;5;241m.\u001b[39mraw)\n\u001b[1;32m    278\u001b[0m     \u001b[38;5;66;03m# extract redirect url, if any, for the next loop\u001b[39;00m\n",
      "File \u001b[0;32m~/Documents/PythonVenv/envHaystack/lib/python3.10/site-packages/requests/sessions.py:703\u001b[0m, in \u001b[0;36mSession.send\u001b[0;34m(self, request, **kwargs)\u001b[0m\n\u001b[1;32m    700\u001b[0m start \u001b[38;5;241m=\u001b[39m preferred_clock()\n\u001b[1;32m    702\u001b[0m \u001b[38;5;66;03m# Send the request\u001b[39;00m\n\u001b[0;32m--> 703\u001b[0m r \u001b[38;5;241m=\u001b[39m \u001b[43madapter\u001b[49m\u001b[38;5;241;43m.\u001b[39;49m\u001b[43msend\u001b[49m\u001b[43m(\u001b[49m\u001b[43mrequest\u001b[49m\u001b[43m,\u001b[49m\u001b[43m \u001b[49m\u001b[38;5;241;43m*\u001b[39;49m\u001b[38;5;241;43m*\u001b[39;49m\u001b[43mkwargs\u001b[49m\u001b[43m)\u001b[49m\n\u001b[1;32m    705\u001b[0m \u001b[38;5;66;03m# Total elapsed time of the request (approximately)\u001b[39;00m\n\u001b[1;32m    706\u001b[0m elapsed \u001b[38;5;241m=\u001b[39m preferred_clock() \u001b[38;5;241m-\u001b[39m start\n",
      "File \u001b[0;32m~/Documents/PythonVenv/envHaystack/lib/python3.10/site-packages/requests/adapters.py:667\u001b[0m, in \u001b[0;36mHTTPAdapter.send\u001b[0;34m(self, request, stream, timeout, verify, cert, proxies)\u001b[0m\n\u001b[1;32m    664\u001b[0m     timeout \u001b[38;5;241m=\u001b[39m TimeoutSauce(connect\u001b[38;5;241m=\u001b[39mtimeout, read\u001b[38;5;241m=\u001b[39mtimeout)\n\u001b[1;32m    666\u001b[0m \u001b[38;5;28;01mtry\u001b[39;00m:\n\u001b[0;32m--> 667\u001b[0m     resp \u001b[38;5;241m=\u001b[39m \u001b[43mconn\u001b[49m\u001b[38;5;241;43m.\u001b[39;49m\u001b[43murlopen\u001b[49m\u001b[43m(\u001b[49m\n\u001b[1;32m    668\u001b[0m \u001b[43m        \u001b[49m\u001b[43mmethod\u001b[49m\u001b[38;5;241;43m=\u001b[39;49m\u001b[43mrequest\u001b[49m\u001b[38;5;241;43m.\u001b[39;49m\u001b[43mmethod\u001b[49m\u001b[43m,\u001b[49m\n\u001b[1;32m    669\u001b[0m \u001b[43m        \u001b[49m\u001b[43murl\u001b[49m\u001b[38;5;241;43m=\u001b[39;49m\u001b[43murl\u001b[49m\u001b[43m,\u001b[49m\n\u001b[1;32m    670\u001b[0m \u001b[43m        \u001b[49m\u001b[43mbody\u001b[49m\u001b[38;5;241;43m=\u001b[39;49m\u001b[43mrequest\u001b[49m\u001b[38;5;241;43m.\u001b[39;49m\u001b[43mbody\u001b[49m\u001b[43m,\u001b[49m\n\u001b[1;32m    671\u001b[0m \u001b[43m        \u001b[49m\u001b[43mheaders\u001b[49m\u001b[38;5;241;43m=\u001b[39;49m\u001b[43mrequest\u001b[49m\u001b[38;5;241;43m.\u001b[39;49m\u001b[43mheaders\u001b[49m\u001b[43m,\u001b[49m\n\u001b[1;32m    672\u001b[0m \u001b[43m        \u001b[49m\u001b[43mredirect\u001b[49m\u001b[38;5;241;43m=\u001b[39;49m\u001b[38;5;28;43;01mFalse\u001b[39;49;00m\u001b[43m,\u001b[49m\n\u001b[1;32m    673\u001b[0m \u001b[43m        \u001b[49m\u001b[43massert_same_host\u001b[49m\u001b[38;5;241;43m=\u001b[39;49m\u001b[38;5;28;43;01mFalse\u001b[39;49;00m\u001b[43m,\u001b[49m\n\u001b[1;32m    674\u001b[0m \u001b[43m        \u001b[49m\u001b[43mpreload_content\u001b[49m\u001b[38;5;241;43m=\u001b[39;49m\u001b[38;5;28;43;01mFalse\u001b[39;49;00m\u001b[43m,\u001b[49m\n\u001b[1;32m    675\u001b[0m \u001b[43m        \u001b[49m\u001b[43mdecode_content\u001b[49m\u001b[38;5;241;43m=\u001b[39;49m\u001b[38;5;28;43;01mFalse\u001b[39;49;00m\u001b[43m,\u001b[49m\n\u001b[1;32m    676\u001b[0m \u001b[43m        \u001b[49m\u001b[43mretries\u001b[49m\u001b[38;5;241;43m=\u001b[39;49m\u001b[38;5;28;43mself\u001b[39;49m\u001b[38;5;241;43m.\u001b[39;49m\u001b[43mmax_retries\u001b[49m\u001b[43m,\u001b[49m\n\u001b[1;32m    677\u001b[0m \u001b[43m        \u001b[49m\u001b[43mtimeout\u001b[49m\u001b[38;5;241;43m=\u001b[39;49m\u001b[43mtimeout\u001b[49m\u001b[43m,\u001b[49m\n\u001b[1;32m    678\u001b[0m \u001b[43m        \u001b[49m\u001b[43mchunked\u001b[49m\u001b[38;5;241;43m=\u001b[39;49m\u001b[43mchunked\u001b[49m\u001b[43m,\u001b[49m\n\u001b[1;32m    679\u001b[0m \u001b[43m    \u001b[49m\u001b[43m)\u001b[49m\n\u001b[1;32m    681\u001b[0m \u001b[38;5;28;01mexcept\u001b[39;00m (ProtocolError, \u001b[38;5;167;01mOSError\u001b[39;00m) \u001b[38;5;28;01mas\u001b[39;00m err:\n\u001b[1;32m    682\u001b[0m     \u001b[38;5;28;01mraise\u001b[39;00m \u001b[38;5;167;01mConnectionError\u001b[39;00m(err, request\u001b[38;5;241m=\u001b[39mrequest)\n",
      "File \u001b[0;32m~/Documents/PythonVenv/envHaystack/lib/python3.10/site-packages/urllib3/connectionpool.py:793\u001b[0m, in \u001b[0;36mHTTPConnectionPool.urlopen\u001b[0;34m(self, method, url, body, headers, retries, redirect, assert_same_host, timeout, pool_timeout, release_conn, chunked, body_pos, preload_content, decode_content, **response_kw)\u001b[0m\n\u001b[1;32m    790\u001b[0m response_conn \u001b[38;5;241m=\u001b[39m conn \u001b[38;5;28;01mif\u001b[39;00m \u001b[38;5;129;01mnot\u001b[39;00m release_conn \u001b[38;5;28;01melse\u001b[39;00m \u001b[38;5;28;01mNone\u001b[39;00m\n\u001b[1;32m    792\u001b[0m \u001b[38;5;66;03m# Make the request on the HTTPConnection object\u001b[39;00m\n\u001b[0;32m--> 793\u001b[0m response \u001b[38;5;241m=\u001b[39m \u001b[38;5;28;43mself\u001b[39;49m\u001b[38;5;241;43m.\u001b[39;49m\u001b[43m_make_request\u001b[49m\u001b[43m(\u001b[49m\n\u001b[1;32m    794\u001b[0m \u001b[43m    \u001b[49m\u001b[43mconn\u001b[49m\u001b[43m,\u001b[49m\n\u001b[1;32m    795\u001b[0m \u001b[43m    \u001b[49m\u001b[43mmethod\u001b[49m\u001b[43m,\u001b[49m\n\u001b[1;32m    796\u001b[0m \u001b[43m    \u001b[49m\u001b[43murl\u001b[49m\u001b[43m,\u001b[49m\n\u001b[1;32m    797\u001b[0m \u001b[43m    \u001b[49m\u001b[43mtimeout\u001b[49m\u001b[38;5;241;43m=\u001b[39;49m\u001b[43mtimeout_obj\u001b[49m\u001b[43m,\u001b[49m\n\u001b[1;32m    798\u001b[0m \u001b[43m    \u001b[49m\u001b[43mbody\u001b[49m\u001b[38;5;241;43m=\u001b[39;49m\u001b[43mbody\u001b[49m\u001b[43m,\u001b[49m\n\u001b[1;32m    799\u001b[0m \u001b[43m    \u001b[49m\u001b[43mheaders\u001b[49m\u001b[38;5;241;43m=\u001b[39;49m\u001b[43mheaders\u001b[49m\u001b[43m,\u001b[49m\n\u001b[1;32m    800\u001b[0m \u001b[43m    \u001b[49m\u001b[43mchunked\u001b[49m\u001b[38;5;241;43m=\u001b[39;49m\u001b[43mchunked\u001b[49m\u001b[43m,\u001b[49m\n\u001b[1;32m    801\u001b[0m \u001b[43m    \u001b[49m\u001b[43mretries\u001b[49m\u001b[38;5;241;43m=\u001b[39;49m\u001b[43mretries\u001b[49m\u001b[43m,\u001b[49m\n\u001b[1;32m    802\u001b[0m \u001b[43m    \u001b[49m\u001b[43mresponse_conn\u001b[49m\u001b[38;5;241;43m=\u001b[39;49m\u001b[43mresponse_conn\u001b[49m\u001b[43m,\u001b[49m\n\u001b[1;32m    803\u001b[0m \u001b[43m    \u001b[49m\u001b[43mpreload_content\u001b[49m\u001b[38;5;241;43m=\u001b[39;49m\u001b[43mpreload_content\u001b[49m\u001b[43m,\u001b[49m\n\u001b[1;32m    804\u001b[0m \u001b[43m    \u001b[49m\u001b[43mdecode_content\u001b[49m\u001b[38;5;241;43m=\u001b[39;49m\u001b[43mdecode_content\u001b[49m\u001b[43m,\u001b[49m\n\u001b[1;32m    805\u001b[0m \u001b[43m    \u001b[49m\u001b[38;5;241;43m*\u001b[39;49m\u001b[38;5;241;43m*\u001b[39;49m\u001b[43mresponse_kw\u001b[49m\u001b[43m,\u001b[49m\n\u001b[1;32m    806\u001b[0m \u001b[43m\u001b[49m\u001b[43m)\u001b[49m\n\u001b[1;32m    808\u001b[0m \u001b[38;5;66;03m# Everything went great!\u001b[39;00m\n\u001b[1;32m    809\u001b[0m clean_exit \u001b[38;5;241m=\u001b[39m \u001b[38;5;28;01mTrue\u001b[39;00m\n",
      "File \u001b[0;32m~/Documents/PythonVenv/envHaystack/lib/python3.10/site-packages/urllib3/connectionpool.py:467\u001b[0m, in \u001b[0;36mHTTPConnectionPool._make_request\u001b[0;34m(self, conn, method, url, body, headers, retries, timeout, chunked, response_conn, preload_content, decode_content, enforce_content_length)\u001b[0m\n\u001b[1;32m    464\u001b[0m \u001b[38;5;28;01mtry\u001b[39;00m:\n\u001b[1;32m    465\u001b[0m     \u001b[38;5;66;03m# Trigger any extra validation we need to do.\u001b[39;00m\n\u001b[1;32m    466\u001b[0m     \u001b[38;5;28;01mtry\u001b[39;00m:\n\u001b[0;32m--> 467\u001b[0m         \u001b[38;5;28;43mself\u001b[39;49m\u001b[38;5;241;43m.\u001b[39;49m\u001b[43m_validate_conn\u001b[49m\u001b[43m(\u001b[49m\u001b[43mconn\u001b[49m\u001b[43m)\u001b[49m\n\u001b[1;32m    468\u001b[0m     \u001b[38;5;28;01mexcept\u001b[39;00m (SocketTimeout, BaseSSLError) \u001b[38;5;28;01mas\u001b[39;00m e:\n\u001b[1;32m    469\u001b[0m         \u001b[38;5;28mself\u001b[39m\u001b[38;5;241m.\u001b[39m_raise_timeout(err\u001b[38;5;241m=\u001b[39me, url\u001b[38;5;241m=\u001b[39murl, timeout_value\u001b[38;5;241m=\u001b[39mconn\u001b[38;5;241m.\u001b[39mtimeout)\n",
      "File \u001b[0;32m~/Documents/PythonVenv/envHaystack/lib/python3.10/site-packages/urllib3/connectionpool.py:1099\u001b[0m, in \u001b[0;36mHTTPSConnectionPool._validate_conn\u001b[0;34m(self, conn)\u001b[0m\n\u001b[1;32m   1097\u001b[0m \u001b[38;5;66;03m# Force connect early to allow us to validate the connection.\u001b[39;00m\n\u001b[1;32m   1098\u001b[0m \u001b[38;5;28;01mif\u001b[39;00m conn\u001b[38;5;241m.\u001b[39mis_closed:\n\u001b[0;32m-> 1099\u001b[0m     \u001b[43mconn\u001b[49m\u001b[38;5;241;43m.\u001b[39;49m\u001b[43mconnect\u001b[49m\u001b[43m(\u001b[49m\u001b[43m)\u001b[49m\n\u001b[1;32m   1101\u001b[0m \u001b[38;5;66;03m# TODO revise this, see https://github.com/urllib3/urllib3/issues/2791\u001b[39;00m\n\u001b[1;32m   1102\u001b[0m \u001b[38;5;28;01mif\u001b[39;00m \u001b[38;5;129;01mnot\u001b[39;00m conn\u001b[38;5;241m.\u001b[39mis_verified \u001b[38;5;129;01mand\u001b[39;00m \u001b[38;5;129;01mnot\u001b[39;00m conn\u001b[38;5;241m.\u001b[39mproxy_is_verified:\n",
      "File \u001b[0;32m~/Documents/PythonVenv/envHaystack/lib/python3.10/site-packages/urllib3/connection.py:653\u001b[0m, in \u001b[0;36mHTTPSConnection.connect\u001b[0;34m(self)\u001b[0m\n\u001b[1;32m    650\u001b[0m \u001b[38;5;66;03m# Remove trailing '.' from fqdn hostnames to allow certificate validation\u001b[39;00m\n\u001b[1;32m    651\u001b[0m server_hostname_rm_dot \u001b[38;5;241m=\u001b[39m server_hostname\u001b[38;5;241m.\u001b[39mrstrip(\u001b[38;5;124m\"\u001b[39m\u001b[38;5;124m.\u001b[39m\u001b[38;5;124m\"\u001b[39m)\n\u001b[0;32m--> 653\u001b[0m sock_and_verified \u001b[38;5;241m=\u001b[39m \u001b[43m_ssl_wrap_socket_and_match_hostname\u001b[49m\u001b[43m(\u001b[49m\n\u001b[1;32m    654\u001b[0m \u001b[43m    \u001b[49m\u001b[43msock\u001b[49m\u001b[38;5;241;43m=\u001b[39;49m\u001b[43msock\u001b[49m\u001b[43m,\u001b[49m\n\u001b[1;32m    655\u001b[0m \u001b[43m    \u001b[49m\u001b[43mcert_reqs\u001b[49m\u001b[38;5;241;43m=\u001b[39;49m\u001b[38;5;28;43mself\u001b[39;49m\u001b[38;5;241;43m.\u001b[39;49m\u001b[43mcert_reqs\u001b[49m\u001b[43m,\u001b[49m\n\u001b[1;32m    656\u001b[0m \u001b[43m    \u001b[49m\u001b[43mssl_version\u001b[49m\u001b[38;5;241;43m=\u001b[39;49m\u001b[38;5;28;43mself\u001b[39;49m\u001b[38;5;241;43m.\u001b[39;49m\u001b[43mssl_version\u001b[49m\u001b[43m,\u001b[49m\n\u001b[1;32m    657\u001b[0m \u001b[43m    \u001b[49m\u001b[43mssl_minimum_version\u001b[49m\u001b[38;5;241;43m=\u001b[39;49m\u001b[38;5;28;43mself\u001b[39;49m\u001b[38;5;241;43m.\u001b[39;49m\u001b[43mssl_minimum_version\u001b[49m\u001b[43m,\u001b[49m\n\u001b[1;32m    658\u001b[0m \u001b[43m    \u001b[49m\u001b[43mssl_maximum_version\u001b[49m\u001b[38;5;241;43m=\u001b[39;49m\u001b[38;5;28;43mself\u001b[39;49m\u001b[38;5;241;43m.\u001b[39;49m\u001b[43mssl_maximum_version\u001b[49m\u001b[43m,\u001b[49m\n\u001b[1;32m    659\u001b[0m \u001b[43m    \u001b[49m\u001b[43mca_certs\u001b[49m\u001b[38;5;241;43m=\u001b[39;49m\u001b[38;5;28;43mself\u001b[39;49m\u001b[38;5;241;43m.\u001b[39;49m\u001b[43mca_certs\u001b[49m\u001b[43m,\u001b[49m\n\u001b[1;32m    660\u001b[0m \u001b[43m    \u001b[49m\u001b[43mca_cert_dir\u001b[49m\u001b[38;5;241;43m=\u001b[39;49m\u001b[38;5;28;43mself\u001b[39;49m\u001b[38;5;241;43m.\u001b[39;49m\u001b[43mca_cert_dir\u001b[49m\u001b[43m,\u001b[49m\n\u001b[1;32m    661\u001b[0m \u001b[43m    \u001b[49m\u001b[43mca_cert_data\u001b[49m\u001b[38;5;241;43m=\u001b[39;49m\u001b[38;5;28;43mself\u001b[39;49m\u001b[38;5;241;43m.\u001b[39;49m\u001b[43mca_cert_data\u001b[49m\u001b[43m,\u001b[49m\n\u001b[1;32m    662\u001b[0m \u001b[43m    \u001b[49m\u001b[43mcert_file\u001b[49m\u001b[38;5;241;43m=\u001b[39;49m\u001b[38;5;28;43mself\u001b[39;49m\u001b[38;5;241;43m.\u001b[39;49m\u001b[43mcert_file\u001b[49m\u001b[43m,\u001b[49m\n\u001b[1;32m    663\u001b[0m \u001b[43m    \u001b[49m\u001b[43mkey_file\u001b[49m\u001b[38;5;241;43m=\u001b[39;49m\u001b[38;5;28;43mself\u001b[39;49m\u001b[38;5;241;43m.\u001b[39;49m\u001b[43mkey_file\u001b[49m\u001b[43m,\u001b[49m\n\u001b[1;32m    664\u001b[0m \u001b[43m    \u001b[49m\u001b[43mkey_password\u001b[49m\u001b[38;5;241;43m=\u001b[39;49m\u001b[38;5;28;43mself\u001b[39;49m\u001b[38;5;241;43m.\u001b[39;49m\u001b[43mkey_password\u001b[49m\u001b[43m,\u001b[49m\n\u001b[1;32m    665\u001b[0m \u001b[43m    \u001b[49m\u001b[43mserver_hostname\u001b[49m\u001b[38;5;241;43m=\u001b[39;49m\u001b[43mserver_hostname_rm_dot\u001b[49m\u001b[43m,\u001b[49m\n\u001b[1;32m    666\u001b[0m \u001b[43m    \u001b[49m\u001b[43mssl_context\u001b[49m\u001b[38;5;241;43m=\u001b[39;49m\u001b[38;5;28;43mself\u001b[39;49m\u001b[38;5;241;43m.\u001b[39;49m\u001b[43mssl_context\u001b[49m\u001b[43m,\u001b[49m\n\u001b[1;32m    667\u001b[0m \u001b[43m    \u001b[49m\u001b[43mtls_in_tls\u001b[49m\u001b[38;5;241;43m=\u001b[39;49m\u001b[43mtls_in_tls\u001b[49m\u001b[43m,\u001b[49m\n\u001b[1;32m    668\u001b[0m \u001b[43m    \u001b[49m\u001b[43massert_hostname\u001b[49m\u001b[38;5;241;43m=\u001b[39;49m\u001b[38;5;28;43mself\u001b[39;49m\u001b[38;5;241;43m.\u001b[39;49m\u001b[43massert_hostname\u001b[49m\u001b[43m,\u001b[49m\n\u001b[1;32m    669\u001b[0m \u001b[43m    \u001b[49m\u001b[43massert_fingerprint\u001b[49m\u001b[38;5;241;43m=\u001b[39;49m\u001b[38;5;28;43mself\u001b[39;49m\u001b[38;5;241;43m.\u001b[39;49m\u001b[43massert_fingerprint\u001b[49m\u001b[43m,\u001b[49m\n\u001b[1;32m    670\u001b[0m \u001b[43m\u001b[49m\u001b[43m)\u001b[49m\n\u001b[1;32m    671\u001b[0m \u001b[38;5;28mself\u001b[39m\u001b[38;5;241m.\u001b[39msock \u001b[38;5;241m=\u001b[39m sock_and_verified\u001b[38;5;241m.\u001b[39msocket\n\u001b[1;32m    673\u001b[0m \u001b[38;5;66;03m# Forwarding proxies can never have a verified target since\u001b[39;00m\n\u001b[1;32m    674\u001b[0m \u001b[38;5;66;03m# the proxy is the one doing the verification. Should instead\u001b[39;00m\n\u001b[1;32m    675\u001b[0m \u001b[38;5;66;03m# use a CONNECT tunnel in order to verify the target.\u001b[39;00m\n\u001b[1;32m    676\u001b[0m \u001b[38;5;66;03m# See: https://github.com/urllib3/urllib3/issues/3267.\u001b[39;00m\n",
      "File \u001b[0;32m~/Documents/PythonVenv/envHaystack/lib/python3.10/site-packages/urllib3/connection.py:806\u001b[0m, in \u001b[0;36m_ssl_wrap_socket_and_match_hostname\u001b[0;34m(sock, cert_reqs, ssl_version, ssl_minimum_version, ssl_maximum_version, cert_file, key_file, key_password, ca_certs, ca_cert_dir, ca_cert_data, assert_hostname, assert_fingerprint, server_hostname, ssl_context, tls_in_tls)\u001b[0m\n\u001b[1;32m    803\u001b[0m     \u001b[38;5;28;01mif\u001b[39;00m is_ipaddress(normalized):\n\u001b[1;32m    804\u001b[0m         server_hostname \u001b[38;5;241m=\u001b[39m normalized\n\u001b[0;32m--> 806\u001b[0m ssl_sock \u001b[38;5;241m=\u001b[39m \u001b[43mssl_wrap_socket\u001b[49m\u001b[43m(\u001b[49m\n\u001b[1;32m    807\u001b[0m \u001b[43m    \u001b[49m\u001b[43msock\u001b[49m\u001b[38;5;241;43m=\u001b[39;49m\u001b[43msock\u001b[49m\u001b[43m,\u001b[49m\n\u001b[1;32m    808\u001b[0m \u001b[43m    \u001b[49m\u001b[43mkeyfile\u001b[49m\u001b[38;5;241;43m=\u001b[39;49m\u001b[43mkey_file\u001b[49m\u001b[43m,\u001b[49m\n\u001b[1;32m    809\u001b[0m \u001b[43m    \u001b[49m\u001b[43mcertfile\u001b[49m\u001b[38;5;241;43m=\u001b[39;49m\u001b[43mcert_file\u001b[49m\u001b[43m,\u001b[49m\n\u001b[1;32m    810\u001b[0m \u001b[43m    \u001b[49m\u001b[43mkey_password\u001b[49m\u001b[38;5;241;43m=\u001b[39;49m\u001b[43mkey_password\u001b[49m\u001b[43m,\u001b[49m\n\u001b[1;32m    811\u001b[0m \u001b[43m    \u001b[49m\u001b[43mca_certs\u001b[49m\u001b[38;5;241;43m=\u001b[39;49m\u001b[43mca_certs\u001b[49m\u001b[43m,\u001b[49m\n\u001b[1;32m    812\u001b[0m \u001b[43m    \u001b[49m\u001b[43mca_cert_dir\u001b[49m\u001b[38;5;241;43m=\u001b[39;49m\u001b[43mca_cert_dir\u001b[49m\u001b[43m,\u001b[49m\n\u001b[1;32m    813\u001b[0m \u001b[43m    \u001b[49m\u001b[43mca_cert_data\u001b[49m\u001b[38;5;241;43m=\u001b[39;49m\u001b[43mca_cert_data\u001b[49m\u001b[43m,\u001b[49m\n\u001b[1;32m    814\u001b[0m \u001b[43m    \u001b[49m\u001b[43mserver_hostname\u001b[49m\u001b[38;5;241;43m=\u001b[39;49m\u001b[43mserver_hostname\u001b[49m\u001b[43m,\u001b[49m\n\u001b[1;32m    815\u001b[0m \u001b[43m    \u001b[49m\u001b[43mssl_context\u001b[49m\u001b[38;5;241;43m=\u001b[39;49m\u001b[43mcontext\u001b[49m\u001b[43m,\u001b[49m\n\u001b[1;32m    816\u001b[0m \u001b[43m    \u001b[49m\u001b[43mtls_in_tls\u001b[49m\u001b[38;5;241;43m=\u001b[39;49m\u001b[43mtls_in_tls\u001b[49m\u001b[43m,\u001b[49m\n\u001b[1;32m    817\u001b[0m \u001b[43m\u001b[49m\u001b[43m)\u001b[49m\n\u001b[1;32m    819\u001b[0m \u001b[38;5;28;01mtry\u001b[39;00m:\n\u001b[1;32m    820\u001b[0m     \u001b[38;5;28;01mif\u001b[39;00m assert_fingerprint:\n",
      "File \u001b[0;32m~/Documents/PythonVenv/envHaystack/lib/python3.10/site-packages/urllib3/util/ssl_.py:465\u001b[0m, in \u001b[0;36mssl_wrap_socket\u001b[0;34m(sock, keyfile, certfile, cert_reqs, ca_certs, server_hostname, ssl_version, ciphers, ssl_context, ca_cert_dir, key_password, ca_cert_data, tls_in_tls)\u001b[0m\n\u001b[1;32m    462\u001b[0m \u001b[38;5;28;01mexcept\u001b[39;00m \u001b[38;5;167;01mNotImplementedError\u001b[39;00m:  \u001b[38;5;66;03m# Defensive: in CI, we always have set_alpn_protocols\u001b[39;00m\n\u001b[1;32m    463\u001b[0m     \u001b[38;5;28;01mpass\u001b[39;00m\n\u001b[0;32m--> 465\u001b[0m ssl_sock \u001b[38;5;241m=\u001b[39m \u001b[43m_ssl_wrap_socket_impl\u001b[49m\u001b[43m(\u001b[49m\u001b[43msock\u001b[49m\u001b[43m,\u001b[49m\u001b[43m \u001b[49m\u001b[43mcontext\u001b[49m\u001b[43m,\u001b[49m\u001b[43m \u001b[49m\u001b[43mtls_in_tls\u001b[49m\u001b[43m,\u001b[49m\u001b[43m \u001b[49m\u001b[43mserver_hostname\u001b[49m\u001b[43m)\u001b[49m\n\u001b[1;32m    466\u001b[0m \u001b[38;5;28;01mreturn\u001b[39;00m ssl_sock\n",
      "File \u001b[0;32m~/Documents/PythonVenv/envHaystack/lib/python3.10/site-packages/urllib3/util/ssl_.py:509\u001b[0m, in \u001b[0;36m_ssl_wrap_socket_impl\u001b[0;34m(sock, ssl_context, tls_in_tls, server_hostname)\u001b[0m\n\u001b[1;32m    506\u001b[0m     SSLTransport\u001b[38;5;241m.\u001b[39m_validate_ssl_context_for_tls_in_tls(ssl_context)\n\u001b[1;32m    507\u001b[0m     \u001b[38;5;28;01mreturn\u001b[39;00m SSLTransport(sock, ssl_context, server_hostname)\n\u001b[0;32m--> 509\u001b[0m \u001b[38;5;28;01mreturn\u001b[39;00m \u001b[43mssl_context\u001b[49m\u001b[38;5;241;43m.\u001b[39;49m\u001b[43mwrap_socket\u001b[49m\u001b[43m(\u001b[49m\u001b[43msock\u001b[49m\u001b[43m,\u001b[49m\u001b[43m \u001b[49m\u001b[43mserver_hostname\u001b[49m\u001b[38;5;241;43m=\u001b[39;49m\u001b[43mserver_hostname\u001b[49m\u001b[43m)\u001b[49m\n",
      "File \u001b[0;32m/Library/Frameworks/Python.framework/Versions/3.10/lib/python3.10/ssl.py:513\u001b[0m, in \u001b[0;36mSSLContext.wrap_socket\u001b[0;34m(self, sock, server_side, do_handshake_on_connect, suppress_ragged_eofs, server_hostname, session)\u001b[0m\n\u001b[1;32m    507\u001b[0m \u001b[38;5;28;01mdef\u001b[39;00m \u001b[38;5;21mwrap_socket\u001b[39m(\u001b[38;5;28mself\u001b[39m, sock, server_side\u001b[38;5;241m=\u001b[39m\u001b[38;5;28;01mFalse\u001b[39;00m,\n\u001b[1;32m    508\u001b[0m                 do_handshake_on_connect\u001b[38;5;241m=\u001b[39m\u001b[38;5;28;01mTrue\u001b[39;00m,\n\u001b[1;32m    509\u001b[0m                 suppress_ragged_eofs\u001b[38;5;241m=\u001b[39m\u001b[38;5;28;01mTrue\u001b[39;00m,\n\u001b[1;32m    510\u001b[0m                 server_hostname\u001b[38;5;241m=\u001b[39m\u001b[38;5;28;01mNone\u001b[39;00m, session\u001b[38;5;241m=\u001b[39m\u001b[38;5;28;01mNone\u001b[39;00m):\n\u001b[1;32m    511\u001b[0m     \u001b[38;5;66;03m# SSLSocket class handles server_hostname encoding before it calls\u001b[39;00m\n\u001b[1;32m    512\u001b[0m     \u001b[38;5;66;03m# ctx._wrap_socket()\u001b[39;00m\n\u001b[0;32m--> 513\u001b[0m     \u001b[38;5;28;01mreturn\u001b[39;00m \u001b[38;5;28;43mself\u001b[39;49m\u001b[38;5;241;43m.\u001b[39;49m\u001b[43msslsocket_class\u001b[49m\u001b[38;5;241;43m.\u001b[39;49m\u001b[43m_create\u001b[49m\u001b[43m(\u001b[49m\n\u001b[1;32m    514\u001b[0m \u001b[43m        \u001b[49m\u001b[43msock\u001b[49m\u001b[38;5;241;43m=\u001b[39;49m\u001b[43msock\u001b[49m\u001b[43m,\u001b[49m\n\u001b[1;32m    515\u001b[0m \u001b[43m        \u001b[49m\u001b[43mserver_side\u001b[49m\u001b[38;5;241;43m=\u001b[39;49m\u001b[43mserver_side\u001b[49m\u001b[43m,\u001b[49m\n\u001b[1;32m    516\u001b[0m \u001b[43m        \u001b[49m\u001b[43mdo_handshake_on_connect\u001b[49m\u001b[38;5;241;43m=\u001b[39;49m\u001b[43mdo_handshake_on_connect\u001b[49m\u001b[43m,\u001b[49m\n\u001b[1;32m    517\u001b[0m \u001b[43m        \u001b[49m\u001b[43msuppress_ragged_eofs\u001b[49m\u001b[38;5;241;43m=\u001b[39;49m\u001b[43msuppress_ragged_eofs\u001b[49m\u001b[43m,\u001b[49m\n\u001b[1;32m    518\u001b[0m \u001b[43m        \u001b[49m\u001b[43mserver_hostname\u001b[49m\u001b[38;5;241;43m=\u001b[39;49m\u001b[43mserver_hostname\u001b[49m\u001b[43m,\u001b[49m\n\u001b[1;32m    519\u001b[0m \u001b[43m        \u001b[49m\u001b[43mcontext\u001b[49m\u001b[38;5;241;43m=\u001b[39;49m\u001b[38;5;28;43mself\u001b[39;49m\u001b[43m,\u001b[49m\n\u001b[1;32m    520\u001b[0m \u001b[43m        \u001b[49m\u001b[43msession\u001b[49m\u001b[38;5;241;43m=\u001b[39;49m\u001b[43msession\u001b[49m\n\u001b[1;32m    521\u001b[0m \u001b[43m    \u001b[49m\u001b[43m)\u001b[49m\n",
      "File \u001b[0;32m/Library/Frameworks/Python.framework/Versions/3.10/lib/python3.10/ssl.py:1071\u001b[0m, in \u001b[0;36mSSLSocket._create\u001b[0;34m(cls, sock, server_side, do_handshake_on_connect, suppress_ragged_eofs, server_hostname, context, session)\u001b[0m\n\u001b[1;32m   1068\u001b[0m         \u001b[38;5;28;01mif\u001b[39;00m timeout \u001b[38;5;241m==\u001b[39m \u001b[38;5;241m0.0\u001b[39m:\n\u001b[1;32m   1069\u001b[0m             \u001b[38;5;66;03m# non-blocking\u001b[39;00m\n\u001b[1;32m   1070\u001b[0m             \u001b[38;5;28;01mraise\u001b[39;00m \u001b[38;5;167;01mValueError\u001b[39;00m(\u001b[38;5;124m\"\u001b[39m\u001b[38;5;124mdo_handshake_on_connect should not be specified for non-blocking sockets\u001b[39m\u001b[38;5;124m\"\u001b[39m)\n\u001b[0;32m-> 1071\u001b[0m         \u001b[38;5;28;43mself\u001b[39;49m\u001b[38;5;241;43m.\u001b[39;49m\u001b[43mdo_handshake\u001b[49m\u001b[43m(\u001b[49m\u001b[43m)\u001b[49m\n\u001b[1;32m   1072\u001b[0m \u001b[38;5;28;01mexcept\u001b[39;00m (\u001b[38;5;167;01mOSError\u001b[39;00m, \u001b[38;5;167;01mValueError\u001b[39;00m):\n\u001b[1;32m   1073\u001b[0m     \u001b[38;5;28mself\u001b[39m\u001b[38;5;241m.\u001b[39mclose()\n",
      "File \u001b[0;32m/Library/Frameworks/Python.framework/Versions/3.10/lib/python3.10/ssl.py:1342\u001b[0m, in \u001b[0;36mSSLSocket.do_handshake\u001b[0;34m(self, block)\u001b[0m\n\u001b[1;32m   1340\u001b[0m     \u001b[38;5;28;01mif\u001b[39;00m timeout \u001b[38;5;241m==\u001b[39m \u001b[38;5;241m0.0\u001b[39m \u001b[38;5;129;01mand\u001b[39;00m block:\n\u001b[1;32m   1341\u001b[0m         \u001b[38;5;28mself\u001b[39m\u001b[38;5;241m.\u001b[39msettimeout(\u001b[38;5;28;01mNone\u001b[39;00m)\n\u001b[0;32m-> 1342\u001b[0m     \u001b[38;5;28;43mself\u001b[39;49m\u001b[38;5;241;43m.\u001b[39;49m\u001b[43m_sslobj\u001b[49m\u001b[38;5;241;43m.\u001b[39;49m\u001b[43mdo_handshake\u001b[49m\u001b[43m(\u001b[49m\u001b[43m)\u001b[49m\n\u001b[1;32m   1343\u001b[0m \u001b[38;5;28;01mfinally\u001b[39;00m:\n\u001b[1;32m   1344\u001b[0m     \u001b[38;5;28mself\u001b[39m\u001b[38;5;241m.\u001b[39msettimeout(timeout)\n",
      "\u001b[0;31mKeyboardInterrupt\u001b[0m: "
     ]
    }
   ],
   "source": [
    "from translate import Translator\n",
    "import jieba\n",
    "\n",
    "# 初始化翻譯器\n",
    "translator = Translator(to_lang=\"zh-tw\")\n",
    "\n",
    "# 定義分詞函數\n",
    "def tokenize(text):\n",
    "    return \" \".join(jieba.cut(text))\n",
    "\n",
    "# 定義文本截斷函數\n",
    "def truncate_text(text, max_length=400):\n",
    "    if len(text) > max_length:\n",
    "        return text[:max_length] + \"...\"\n",
    "    return text\n",
    "\n",
    "# 定義翻譯函數\n",
    "def translate_to_chinese(text):\n",
    "    return translator.translate(text)\n",
    "\n",
    "# 對查詢進行分詞\n",
    "query = \"嬰兒呼吸暫停急救措施\"\n",
    "tokenized_query = tokenize(query)\n",
    "\n",
    "# 查看分詞後的查詢\n",
    "print(f\"分詞後的查詢: {tokenized_query}\")\n",
    "\n",
    "# 進行檢索\n",
    "result = hybrid_retrieval.run(\n",
    "    {\n",
    "        \"text_embedder\": {\"text\": tokenized_query},\n",
    "        \"bm25_retriever\": {\"query\": tokenized_query},\n",
    "        \"ranker\": {\"query\": tokenized_query}\n",
    "    }\n",
    ")\n",
    "\n",
    "# 檢查結果是否有內容\n",
    "print(\"檢索結果:\")\n",
    "pprint.pprint(result)\n",
    "\n",
    "# 美化輸出結果並進行翻譯\n",
    "def pretty_print_and_translate_results(prediction):\n",
    "    if \"ranker\" not in prediction or not prediction[\"ranker\"][\"documents\"]:\n",
    "        print(\"沒有找到相關文件。\")\n",
    "        return\n",
    "\n",
    "    for idx, doc in enumerate(prediction[\"ranker\"][\"documents\"], start=1):\n",
    "        truncated_title = truncate_text(doc.meta['title'])\n",
    "        truncated_abstract = truncate_text(doc.meta['abstract'])\n",
    "        truncated_content = truncate_text(doc.content)\n",
    "\n",
    "        translated_title = translate_to_chinese(truncated_title)\n",
    "        translated_abstract = translate_to_chinese(truncated_abstract)\n",
    "        translated_content = translate_to_chinese(truncated_content)\n",
    "\n",
    "        print(f\"文件 {idx}:\")\n",
    "        print(f\"標題: {translated_title}\")\n",
    "        print(f\"摘要: {translated_abstract}\")\n",
    "        print(f\"內容: {translated_content}\")\n",
    "        print(\"\\n\" + \"-\" * 80 + \"\\n\")\n",
    "\n",
    "# 輸出並翻譯結果\n",
    "pretty_print_and_translate_results(result)\n"
   ]
  }
 ],
 "metadata": {
  "kernelspec": {
   "display_name": "envHaystack",
   "language": "python",
   "name": "python3"
  },
  "language_info": {
   "codemirror_mode": {
    "name": "ipython",
    "version": 3
   },
   "file_extension": ".py",
   "mimetype": "text/x-python",
   "name": "python",
   "nbconvert_exporter": "python",
   "pygments_lexer": "ipython3",
   "version": "3.10.11"
  }
 },
 "nbformat": 4,
 "nbformat_minor": 2
}
