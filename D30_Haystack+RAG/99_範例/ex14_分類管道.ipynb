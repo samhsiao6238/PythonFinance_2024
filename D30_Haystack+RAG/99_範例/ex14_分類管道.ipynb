{
 "cells": [
  {
   "cell_type": "code",
   "execution_count": 33,
   "metadata": {},
   "outputs": [],
   "source": [
    "# 導入所需的模組\n",
    "# 用於建立和管理 Haystack 管道\n",
    "from haystack import Document, Pipeline\n",
    "# 該類用於建立內存中的文件儲存，方便快速讀取和寫入數據\n",
    "from haystack.document_stores.in_memory import InMemoryDocumentStore\n",
    "# 這是一個文件語言分類器，用於檢測文件的語言\n",
    "from haystack.components.classifiers import DocumentLanguageClassifier\n",
    "# 用於根據文件的元數據（例如語言）將文件路由到不同的處理節點\n",
    "from haystack.components.routers import MetadataRouter\n",
    "# 用於將文件寫入指定的文件儲存中\n",
    "from haystack.components.writers import DocumentWriter"
   ]
  },
  {
   "cell_type": "code",
   "execution_count": 34,
   "metadata": {},
   "outputs": [],
   "source": [
    "# 人工編輯各種語言的酒店評論樣本\n",
    "documents = [\n",
    "    Document(content=\"Super appartement. Juste au dessus de plusieurs bars qui ferment très tard. A savoir à l'avance. (Bouchons d'oreilles fournis !)\"),\n",
    "    Document(content=\"El apartamento estaba genial y muy céntrico, todo a mano. Al lado de la librería Lello y De la Torre de los clérigos. Está situado en una zona de marcha, así que si vais en fin de semana , habrá ruido, aunque a nosotros no nos molestaba para dormir\"),\n",
    "    Document(content=\"The keypad with a code is convenient and the location is convenient. Basically everything else, very noisy, wi-fi didn't work, check-in person didn't explain anything about facilities, shower head was broken, there's no cleaning and everything else one may need is charged.\"),\n",
    "    Document(content=\"It is very central and appartement has a nice appearance (even though a lot IKEA stuff), *W A R N I N G the appartement presents itself as a elegant and as a place to relax, very wrong place to relax - you cannot sleep in this appartement, even the beds are vibrating from the bass of the clubs in the same building - you get ear plugs from the hotel -> now I understand why -> I missed a trip as it was so loud and I could not hear the alarm next day due to the ear plugs.- there is a green light indicating 'emergency exit' just above the bed, which shines very bright at night - during the arrival process, you felt the urge of the agent to leave as soon as possible. - try to go to 'RVA clerigos appartements' -> same price, super quiet, beautiful, city center and very nice staff (not an agency)- you are basically sleeping next to the fridge, which makes a lot of noise, when the compressor is running -> had to switch it off - but then had no cool food and drinks. - the bed was somehow broken down - the wooden part behind the bed was almost falling appart and some hooks were broken before- when the neighbour room is cooking you hear the fan very loud. I initially thought that I somehow activated the kitchen fan\"),\n",
    "    Document(content=\"Un peu salé surtout le sol. Manque de service et de souplesse\"),\n",
    "    Document(content=\"Nous avons passé un séjour formidable. Merci aux personnes , le bonjours à Ricardo notre taxi man, très sympathique. Je pense refaire un séjour parmi vous, après le confinement, tout était parfait, surtout leur gentillesse, aucune chaude négative. Je n'ai rien à redire de négative, Ils étaient a notre écoute, un gentil message tout les matins, pour nous demander si nous avions besoins de renseignement et savoir si tout allait bien pendant notre séjour.\"),\n",
    "    Document(content=\"Céntrico. Muy cómodo para moverse y ver Oporto. Edificio con terraza propia en la última planta. Todo reformado y nuevo. Te traen un estupendo desayuno todas las mañanas al apartamento. Solo que se puede escuchar algo de ruido de la calle a primeras horas de la noche. Es un zona de ocio nocturno. Pero respetan los horarios.\")\n",
    "]"
   ]
  },
  {
   "cell_type": "code",
   "execution_count": 35,
   "metadata": {},
   "outputs": [],
   "source": [
    "# 建立各語言的內存文件儲存：英語、法語、西班牙語\n",
    "en_document_store = InMemoryDocumentStore()\n",
    "fr_document_store = InMemoryDocumentStore()\n",
    "es_document_store = InMemoryDocumentStore()\n",
    "\n",
    "# 建立語言分類器\n",
    "language_classifier = DocumentLanguageClassifier(\n",
    "    languages=[\"en\", \"fr\", \"es\"]\n",
    ")"
   ]
  },
  {
   "cell_type": "code",
   "execution_count": 36,
   "metadata": {},
   "outputs": [],
   "source": [
    "# 建立元數據路由器，根據語言將文件路由到對應的寫入器\n",
    "router_rules = {\n",
    "    \"en\": {\"language\": {\"$eq\": \"en\"}},\n",
    "    \"fr\": {\"language\": {\"$eq\": \"fr\"}},\n",
    "    \"es\": {\"language\": {\"$eq\": \"es\"}}\n",
    "}\n",
    "# 將路由設定指定給 MetadataRouter 對象\n",
    "router = MetadataRouter(rules=router_rules)"
   ]
  },
  {
   "cell_type": "code",
   "execution_count": 37,
   "metadata": {},
   "outputs": [
    {
     "name": "stdout",
     "output_type": "stream",
     "text": [
      "<haystack.components.routers.metadata_router.MetadataRouter object at 0x32055ac50>\n",
      "Inputs:\n",
      "  - documents: List[Document]\n",
      "Outputs:\n",
      "  - unmatched: List[Document]\n",
      "  - en: List[Document]\n",
      "  - fr: List[Document]\n",
      "  - es: List[Document]\n"
     ]
    }
   ],
   "source": [
    "# 輸出看一下\n",
    "print(router)"
   ]
  },
  {
   "cell_type": "code",
   "execution_count": 38,
   "metadata": {},
   "outputs": [],
   "source": [
    "# 建立語言專用的寫入器\n",
    "en_writer = DocumentWriter(document_store=en_document_store)\n",
    "fr_writer = DocumentWriter(document_store=fr_document_store)\n",
    "es_writer = DocumentWriter(document_store=es_document_store)"
   ]
  },
  {
   "cell_type": "code",
   "execution_count": 39,
   "metadata": {},
   "outputs": [
    {
     "data": {
      "text/plain": [
       "<haystack.core.pipeline.pipeline.Pipeline object at 0x32040fc10>\n",
       "🚅 Components\n",
       "  - language_classifier: DocumentLanguageClassifier\n",
       "  - router: MetadataRouter\n",
       "  - en_writer: DocumentWriter\n",
       "  - fr_writer: DocumentWriter\n",
       "  - es_writer: DocumentWriter\n",
       "🛤️ Connections\n",
       "  - language_classifier.documents -> router.documents (List[Document])\n",
       "  - router.en -> en_writer.documents (List[Document])\n",
       "  - router.fr -> fr_writer.documents (List[Document])\n",
       "  - router.es -> es_writer.documents (List[Document])"
      ]
     },
     "execution_count": 39,
     "metadata": {},
     "output_type": "execute_result"
    }
   ],
   "source": [
    "# 建立管道\n",
    "indexing_pipeline = Pipeline()\n",
    "# 添加組件\n",
    "indexing_pipeline.add_component(\n",
    "    instance=language_classifier, name=\"language_classifier\"\n",
    ")\n",
    "indexing_pipeline.add_component(\n",
    "    instance=router, name=\"router\"\n",
    ")\n",
    "indexing_pipeline.add_component(\n",
    "    instance=en_writer, name=\"en_writer\"\n",
    ")\n",
    "indexing_pipeline.add_component(\n",
    "    instance=fr_writer, name=\"fr_writer\"\n",
    ")\n",
    "indexing_pipeline.add_component(\n",
    "    instance=es_writer, name=\"es_writer\"\n",
    ")\n",
    "\n",
    "# 連接組件\n",
    "indexing_pipeline.connect(\"language_classifier\", \"router\")\n",
    "indexing_pipeline.connect(\"router.en\", \"en_writer\")\n",
    "indexing_pipeline.connect(\"router.fr\", \"fr_writer\")\n",
    "indexing_pipeline.connect(\"router.es\", \"es_writer\")"
   ]
  },
  {
   "cell_type": "code",
   "execution_count": 40,
   "metadata": {},
   "outputs": [],
   "source": [
    "# 繪製管道圖\n",
    "indexing_pipeline.draw(\"indexing_pipeline.png\")"
   ]
  },
  {
   "cell_type": "code",
   "execution_count": 41,
   "metadata": {},
   "outputs": [
    {
     "data": {
      "text/plain": [
       "{'router': {'unmatched': []},\n",
       " 'en_writer': {'documents_written': 2},\n",
       " 'fr_writer': {'documents_written': 3},\n",
       " 'es_writer': {'documents_written': 2}}"
      ]
     },
     "execution_count": 41,
     "metadata": {},
     "output_type": "execute_result"
    }
   ],
   "source": [
    "# 運行管道，顯示寫入每個語言的文件數\n",
    "indexing_pipeline.run(\n",
    "    data={\"language_classifier\": {\"documents\": documents}}\n",
    ")"
   ]
  },
  {
   "cell_type": "code",
   "execution_count": 42,
   "metadata": {},
   "outputs": [
    {
     "name": "stdout",
     "output_type": "stream",
     "text": [
      "English documents:  [Document(id=8f64ab234c6a5d5652d02bed144d069ec6e988903b071d16fffbf400abfc1047, content: 'The keypad with a code is convenient and the location is convenient. Basically everything else, very...', meta: {'language': 'en'}), Document(id=1e65b29e0cdbf3263ccb2fa6807288c40eb48b37f04fd37e131e2759c9a017cd, content: 'It is very central and appartement has a nice appearance (even though a lot IKEA stuff), *W A R N I ...', meta: {'language': 'en'})]\n",
      "French documents:  [Document(id=ea7ea338874232de2d8105a258813f50345db82772e21ad2c4549dbb7adce8a3, content: 'Super appartement. Juste au dessus de plusieurs bars qui ferment très tard. A savoir à l'avance. (Bo...', meta: {'language': 'fr'}), Document(id=6b64c8a60543ee32b81cd39bc8d6e09fae4bff1b22c6ccdcf414db26fa354e7a, content: 'Un peu salé surtout le sol. Manque de service et de souplesse', meta: {'language': 'fr'}), Document(id=b1be23526f19a8af80a190e775bfd05e65878e585529037cb45b47267a4eaa98, content: 'Nous avons passé un séjour formidable. Merci aux personnes , le bonjours à Ricardo notre taxi man, t...', meta: {'language': 'fr'})]\n",
      "Spanish documents:  [Document(id=72b094c163b22a660528bc5adbdf0fecf96b4b4d753c1b117f15dba482d2f948, content: 'El apartamento estaba genial y muy céntrico, todo a mano. Al lado de la librería Lello y De la Torre...', meta: {'language': 'es'}), Document(id=4b37b8bdfffccfb3211ea167b4fdc5121ca51fc5f869b4f834e8da473f0d3353, content: 'Céntrico. Muy cómodo para moverse y ver Oporto. Edificio con terraza propia en la última planta. Tod...', meta: {'language': 'es'})]\n"
     ]
    }
   ],
   "source": [
    "print(\n",
    "    \"English documents: \",\n",
    "    en_document_store.filter_documents()\n",
    ")\n",
    "print(\n",
    "    \"French documents: \",\n",
    "    fr_document_store.filter_documents()\n",
    ")\n",
    "print(\n",
    "    \"Spanish documents: \",\n",
    "    es_document_store.filter_documents()\n",
    ")"
   ]
  },
  {
   "cell_type": "code",
   "execution_count": 43,
   "metadata": {},
   "outputs": [],
   "source": [
    "from getpass import getpass\n",
    "import os\n",
    "from dotenv import load_dotenv\n",
    "\n",
    "# 導入環境變數\n",
    "load_dotenv()\n",
    "os.environ[\"OPENAI_API_KEY\"] = os.getenv(\"OPENAI_API_KEY\")\n",
    "# 判斷是否寫入，若無則手動提供\n",
    "if \"OPENAI_API_KEY\" not in os.environ:\n",
    "    os.environ[\"OPENAI_API_KEY\"] = getpass(\"Enter OpenAI API key:\")"
   ]
  },
  {
   "cell_type": "code",
   "execution_count": 44,
   "metadata": {},
   "outputs": [],
   "source": [
    "# 導入 RAG 管道所需的組件\n",
    "# 用來在內存中執行基於 BM25 算法的文本檢索\n",
    "from haystack.components.retrievers.in_memory import InMemoryBM25Retriever\n",
    "# 將多個文件進行合併，為後續處理提供一個統一的文件集合\n",
    "from haystack.components.joiners import DocumentJoiner\n",
    "# 用來根據模板建立提示，將查詢和相關文件整理成一個統一的提示文本\n",
    "from haystack.components.builders import PromptBuilder\n",
    "# 用來調用 OpenAI 的 API 生成文本\n",
    "from haystack.components.generators import OpenAIGenerator\n",
    "# 用來根據文本的語言將查詢或文件路由到不同的處理路徑\n",
    "from haystack.components.routers import TextLanguageRouter"
   ]
  },
  {
   "cell_type": "code",
   "execution_count": 45,
   "metadata": {},
   "outputs": [],
   "source": [
    "# 定義提示模板\n",
    "prompt_template = \"\"\"\n",
    "您將收到有關住宿的評論。\n",
    "僅根據給定的評論簡潔地回答問題。\n",
    "評論：\n",
    "{% for doc in documents %}\n",
    "    {{ doc.content }}\n",
    "{% endfor %}\n",
    "問題：{{ query}}\n",
    "答案：\n",
    "\"\"\""
   ]
  },
  {
   "cell_type": "code",
   "execution_count": 46,
   "metadata": {},
   "outputs": [],
   "source": [
    "# 建立 RAG 管道\n",
    "rag_pipeline = Pipeline()\n",
    "\n",
    "# TextLanguageRouter 用於檢測輸入文本的語言，並將文本路由到對應的處理路徑\n",
    "rag_pipeline.add_component(\n",
    "    # 元件參數是可以傳入值的，指定支持英文、法文、西班牙文\n",
    "    instance=TextLanguageRouter([\"en\", \"fr\", \"es\"]),\n",
    "    # 組件名稱為 \"router\"\n",
    "    name=\"router\"\n",
    ")\n",
    "\n",
    "# InMemoryBM25Retriever 用於在內存中基於 BM25 算法進行英文文件檢索\n",
    "rag_pipeline.add_component(\n",
    "    # 指定英文文件儲存\n",
    "    instance=InMemoryBM25Retriever(document_store=en_document_store),\n",
    "    name=\"en_retriever\"\n",
    ")\n",
    "\n",
    "rag_pipeline.add_component(\n",
    "    # 指定法文文件儲存\n",
    "    instance=InMemoryBM25Retriever(document_store=fr_document_store),\n",
    "    name=\"fr_retriever\"\n",
    ")\n",
    "\n",
    "rag_pipeline.add_component(\n",
    "    # 指定西班牙文文件儲存\n",
    "    instance=InMemoryBM25Retriever(document_store=es_document_store),\n",
    "    name=\"es_retriever\"\n",
    ")\n",
    "\n",
    "# DocumentJoiner 用於合併多個文件，提供一個統一的文件集合\n",
    "rag_pipeline.add_component(\n",
    "    # 建立 DocumentJoiner 實例\n",
    "    instance=DocumentJoiner(),\n",
    "    name=\"joiner\" \n",
    ")\n",
    "\n",
    "# PromptBuilder 用於根據模板建立提示文本，將查詢和相關文件整理成一個提示文本\n",
    "rag_pipeline.add_component(\n",
    "    # 指定提示模板\n",
    "    instance=PromptBuilder(template=prompt_template),\n",
    "    name=\"prompt_builder\"\n",
    ")\n",
    "\n",
    "# OpenAIGenerator 用於調用 OpenAI 的 API 生成回答文本\n",
    "rag_pipeline.add_component(\n",
    "    instance=OpenAIGenerator(),\n",
    "    name=\"llm\" \n",
    ")"
   ]
  },
  {
   "cell_type": "code",
   "execution_count": 47,
   "metadata": {},
   "outputs": [
    {
     "data": {
      "text/plain": [
       "<haystack.core.pipeline.pipeline.Pipeline object at 0x32055abc0>\n",
       "🚅 Components\n",
       "  - router: TextLanguageRouter\n",
       "  - en_retriever: InMemoryBM25Retriever\n",
       "  - fr_retriever: InMemoryBM25Retriever\n",
       "  - es_retriever: InMemoryBM25Retriever\n",
       "  - joiner: DocumentJoiner\n",
       "  - prompt_builder: PromptBuilder\n",
       "  - llm: OpenAIGenerator\n",
       "🛤️ Connections\n",
       "  - router.en -> en_retriever.query (str)\n",
       "  - router.fr -> fr_retriever.query (str)\n",
       "  - router.es -> es_retriever.query (str)\n",
       "  - en_retriever.documents -> joiner.documents (List[Document])\n",
       "  - fr_retriever.documents -> joiner.documents (List[Document])\n",
       "  - es_retriever.documents -> joiner.documents (List[Document])\n",
       "  - joiner.documents -> prompt_builder.documents (List[Document])\n",
       "  - prompt_builder.prompt -> llm.prompt (str)"
      ]
     },
     "execution_count": 47,
     "metadata": {},
     "output_type": "execute_result"
    }
   ],
   "source": [
    "# 連接組件\n",
    "rag_pipeline.connect(\"router.en\", \"en_retriever.query\")\n",
    "rag_pipeline.connect(\"router.fr\", \"fr_retriever.query\")\n",
    "rag_pipeline.connect(\"router.es\", \"es_retriever.query\")\n",
    "rag_pipeline.connect(\"en_retriever\", \"joiner\")\n",
    "rag_pipeline.connect(\"fr_retriever\", \"joiner\")\n",
    "rag_pipeline.connect(\"es_retriever\", \"joiner\")\n",
    "rag_pipeline.connect(\"joiner.documents\", \"prompt_builder.documents\")\n",
    "rag_pipeline.connect(\"prompt_builder\", \"llm\")"
   ]
  },
  {
   "cell_type": "code",
   "execution_count": 49,
   "metadata": {},
   "outputs": [],
   "source": [
    "# 繪製管道圖\n",
    "rag_pipeline.draw(\"rag_pipeline.png\")"
   ]
  },
  {
   "cell_type": "code",
   "execution_count": 50,
   "metadata": {},
   "outputs": [
    {
     "name": "stdout",
     "output_type": "stream",
     "text": [
      "Yes, the apartment is conveniently located.\n"
     ]
    }
   ],
   "source": [
    "# 測試英文查詢\n",
    "en_question = \"Is this apartment conveniently located?\"\n",
    "result = rag_pipeline.run({\n",
    "    \"router\": {\"text\": en_question},\n",
    "    \"prompt_builder\": {\"query\": en_question}\n",
    "})\n",
    "print(result[\"llm\"][\"replies\"][0])"
   ]
  },
  {
   "cell_type": "code",
   "execution_count": 51,
   "metadata": {},
   "outputs": [
    {
     "name": "stdout",
     "output_type": "stream",
     "text": [
      "Sí, el desayuno es estupendo.\n"
     ]
    }
   ],
   "source": [
    "# 測試西班牙語查詢\n",
    "es_question = \"¿El desayuno es genial?\"\n",
    "result = rag_pipeline.run({\n",
    "    \"router\": {\"text\": es_question},\n",
    "    \"prompt_builder\": {\"query\": es_question}\n",
    "})\n",
    "print(result[\"llm\"][\"replies\"][0])"
   ]
  },
  {
   "cell_type": "code",
   "execution_count": 52,
   "metadata": {},
   "outputs": [
    {
     "name": "stdout",
     "output_type": "stream",
     "text": [
      "是的，這間公寓位置非常方便。\n"
     ]
    }
   ],
   "source": [
    "# 測試中文查詢\n",
    "zh_question = \"這間公寓位置方便嗎？\"\n",
    "result = rag_pipeline.run({\n",
    "    \"router\": {\"text\": zh_question},\n",
    "    \"prompt_builder\": {\"query\": zh_question}\n",
    "})\n",
    "print(result[\"llm\"][\"replies\"][0])"
   ]
  }
 ],
 "metadata": {
  "kernelspec": {
   "display_name": "envHaystack",
   "language": "python",
   "name": "python3"
  },
  "language_info": {
   "codemirror_mode": {
    "name": "ipython",
    "version": 3
   },
   "file_extension": ".py",
   "mimetype": "text/x-python",
   "name": "python",
   "nbconvert_exporter": "python",
   "pygments_lexer": "ipython3",
   "version": "3.10.11"
  }
 },
 "nbformat": 4,
 "nbformat_minor": 2
}
