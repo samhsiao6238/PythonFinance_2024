{
 "cells": [
  {
   "cell_type": "code",
   "execution_count": 1,
   "metadata": {},
   "outputs": [
    {
     "name": "stdout",
     "output_type": "stream",
     "text": [
      "200\n",
      "{'sentMessages': [{'id': '550534399218155777', 'quoteToken': 'slH61gaTm3T85nEuYBvWrSuyZqta56hO4s009-QibRzXjTZ9g_otAFFY5e8dK4K7zlB1MNBlUd8qsZVtNYJjlSI4nG1MWMUlw1k_7Sntz8TpTMlhONLtZ6oOkEPIB7mNwyDGgbZ1fbZEiRt7_yh9qA'}]}\n"
     ]
    }
   ],
   "source": [
    "import requests\n",
    "import os\n",
    "from dotenv import load_dotenv\n",
    "load_dotenv()\n",
    "\n",
    "CHANNEL_ACCESS_TOKEN = os.getenv(\"CHANNEL_ACCESS_TOKEN\")\n",
    "USER_ID = os.getenv(\"USER_ID\")\n",
    "\n",
    "# 設定 API URL\n",
    "API_URL = \"https://api.line.me/v2/bot/message/push\"\n",
    "\n",
    "# 訊息內容\n",
    "headers = {\n",
    "    \"Content-Type\": \"application/json\",\n",
    "    \"Authorization\": f\"Bearer {CHANNEL_ACCESS_TOKEN}\"\n",
    "}\n",
    "\n",
    "data = {\n",
    "    \"to\": USER_ID,\n",
    "    \"messages\": [\n",
    "        {\n",
    "            \"type\": \"text\",\n",
    "            \"text\": \"這是一則來自 Messaging API 的通知訊息！\"\n",
    "        }\n",
    "    ]\n",
    "}\n",
    "\n",
    "# 發送請求\n",
    "response = requests.post(API_URL, headers=headers, json=data)\n",
    "\n",
    "# 輸出結果\n",
    "print(response.status_code)\n",
    "print(response.json())"
   ]
  }
 ],
 "metadata": {
  "kernelspec": {
   "display_name": "envLineBot",
   "language": "python",
   "name": "python3"
  },
  "language_info": {
   "codemirror_mode": {
    "name": "ipython",
    "version": 3
   },
   "file_extension": ".py",
   "mimetype": "text/x-python",
   "name": "python",
   "nbconvert_exporter": "python",
   "pygments_lexer": "ipython3",
   "version": "3.10.11"
  }
 },
 "nbformat": 4,
 "nbformat_minor": 2
}
