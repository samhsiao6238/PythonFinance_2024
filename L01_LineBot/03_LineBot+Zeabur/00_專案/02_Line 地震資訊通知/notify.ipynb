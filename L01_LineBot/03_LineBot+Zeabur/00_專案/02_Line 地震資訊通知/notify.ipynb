{
 "cells": [
  {
   "cell_type": "code",
   "execution_count": 1,
   "metadata": {},
   "outputs": [
    {
     "name": "stdout",
     "output_type": "stream",
     "text": [
      "200 {\"status\":200,\"message\":\"ok\"}\n"
     ]
    }
   ],
   "source": [
    "# 導入庫\n",
    "import requests\n",
    "import os\n",
    "from dotenv import load_dotenv\n",
    "load_dotenv()\n",
    "\n",
    "WEATHER_API_TOKEN = os.getenv('WEATHER_API_TOKEN')\n",
    "LINE_NOTIFY_TOKEN = os.getenv('LINE_NOTIFY_TOKEN')\n",
    "\n",
    "\n",
    "# 使用 API endpoint 以及授權\n",
    "url = f\"https://opendata.cwa.gov.tw/api/v1/rest/datastore/E-A0016-001?Authorization={WEATHER_API_TOKEN}\"\n",
    "\n",
    "# Fetching data from the API\n",
    "response = requests.get(url)\n",
    "data_json = response.json()\n",
    "\n",
    "# Extracting earthquake data\n",
    "earthquakes = data_json[\"records\"][\"Earthquake\"]\n",
    "\n",
    "# Process only the first earthquake data\n",
    "if earthquakes:\n",
    "    earthquake = earthquakes[0]\n",
    "    loc = earthquake[\"EarthquakeInfo\"][\"Epicenter\"][\"Location\"]\n",
    "    val = earthquake[\"EarthquakeInfo\"][\"EarthquakeMagnitude\"][\"MagnitudeValue\"]\n",
    "    dep = earthquake[\"EarthquakeInfo\"][\"FocalDepth\"]\n",
    "    eq_time = earthquake[\"EarthquakeInfo\"][\"OriginTime\"]\n",
    "    img = earthquake[\"ReportImageURI\"]\n",
    "    msg = f\"{loc}，芮氏規模 {val} 級，深度 {dep} 公里，發生時間 {eq_time}\"\n",
    "\n",
    "    # LINE Notify token\n",
    "    token = LINE_NOTIFY_TOKEN\n",
    "    # LINE Notify Authorization header\n",
    "    headers = {\"Authorization\": \"Bearer \" + token}\n",
    "    payload = {\n",
    "        # message content\n",
    "        \"message\": msg,\n",
    "        # URL for image thumbnail\n",
    "        \"imageThumbnail\": img,\n",
    "        # URL for full-size image\n",
    "        \"imageFullsize\": img,\n",
    "    }\n",
    "\n",
    "    # Send notification via LINE Notify\n",
    "    notify_response = requests.post(\n",
    "        \"https://notify-api.line.me/api/notify\", headers=headers, data=payload\n",
    "    )\n",
    "\n",
    "    # Print the status of the notification\n",
    "    print(notify_response.status_code, notify_response.text)\n",
    "\n",
    "# Handling cases where no earthquake data is available\n",
    "else:\n",
    "    print(\"No earthquake data available.\")"
   ]
  }
 ],
 "metadata": {
  "kernelspec": {
   "display_name": "envST",
   "language": "python",
   "name": "python3"
  },
  "language_info": {
   "codemirror_mode": {
    "name": "ipython",
    "version": 3
   },
   "file_extension": ".py",
   "mimetype": "text/x-python",
   "name": "python",
   "nbconvert_exporter": "python",
   "pygments_lexer": "ipython3",
   "version": "3.10.11"
  }
 },
 "nbformat": 4,
 "nbformat_minor": 2
}
