{
 "cells": [
  {
   "cell_type": "markdown",
   "metadata": {},
   "source": [
    "使用證交所 API"
   ]
  },
  {
   "cell_type": "code",
   "execution_count": 10,
   "metadata": {},
   "outputs": [
    {
     "name": "stdout",
     "output_type": "stream",
     "text": [
      "   Code      Name TradeVolume TradeValue OpeningPrice HighestPrice  \\\n",
      "0  0050    元大台灣50     5725775  754266762       131.90       132.05   \n",
      "1  0051   元大中型100       75391    5365527        71.40        71.40   \n",
      "2  0052      富邦科技      311697   38636466       123.95       124.35   \n",
      "3  0053      元大電子       17420    1205891        69.40        69.40   \n",
      "4  0055  元大MSCI金融      109310    2596763        23.78        23.78   \n",
      "\n",
      "  LowestPrice ClosingPrice  Change Transaction  \n",
      "0      131.35       131.50  0.3000        5918  \n",
      "1       70.95        71.25  0.4000         227  \n",
      "2      123.40       124.00  0.5500         355  \n",
      "3       69.00        69.35  0.2000         960  \n",
      "4       23.73        23.77  0.0100         270  \n"
     ]
    }
   ],
   "source": [
    "import requests\n",
    "import pandas as pd\n",
    "\n",
    "\n",
    "def get_stock_data():\n",
    "    url = \"https://openapi.twse.com.tw/v1/exchangeReport/STOCK_DAY_ALL\"\n",
    "    response = requests.get(url)\n",
    "    if response.status_code == 200:\n",
    "        data = response.json()\n",
    "        return pd.DataFrame(data)\n",
    "    else:\n",
    "        print(\"Failed to retrieve data:\", response.status_code)\n",
    "        return None\n",
    "\n",
    "\n",
    "def save_to_excel(df, filename):\n",
    "    df.to_excel(filename, index=False)\n",
    "\n",
    "\n",
    "# 取得數據\n",
    "df = get_stock_data()\n",
    "\n",
    "# 顯示數據\n",
    "if df is not None:\n",
    "    # 展示前幾行數據\n",
    "    print(df.head())\n",
    "\n",
    "    # 將資料儲存到Excel文件\n",
    "    save_to_excel(df, \"./data/stock_data.xlsx\")"
   ]
  }
 ],
 "metadata": {
  "kernelspec": {
   "display_name": "envDash",
   "language": "python",
   "name": "python3"
  },
  "language_info": {
   "codemirror_mode": {
    "name": "ipython",
    "version": 3
   },
   "file_extension": ".py",
   "mimetype": "text/x-python",
   "name": "python",
   "nbconvert_exporter": "python",
   "pygments_lexer": "ipython3",
   "version": "3.10.11"
  }
 },
 "nbformat": 4,
 "nbformat_minor": 2
}
