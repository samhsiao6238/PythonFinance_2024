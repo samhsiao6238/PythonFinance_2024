{
 "cells": [
  {
   "cell_type": "code",
   "execution_count": 11,
   "metadata": {},
   "outputs": [
    {
     "data": {
      "text/html": [
       "<div>\n",
       "<style scoped>\n",
       "    .dataframe tbody tr th:only-of-type {\n",
       "        vertical-align: middle;\n",
       "    }\n",
       "\n",
       "    .dataframe tbody tr th {\n",
       "        vertical-align: top;\n",
       "    }\n",
       "\n",
       "    .dataframe thead th {\n",
       "        text-align: right;\n",
       "    }\n",
       "</style>\n",
       "<table border=\"1\" class=\"dataframe\">\n",
       "  <thead>\n",
       "    <tr style=\"text-align: right;\">\n",
       "      <th></th>\n",
       "      <th>Fruit</th>\n",
       "      <th>Amount</th>\n",
       "      <th>City</th>\n",
       "    </tr>\n",
       "  </thead>\n",
       "  <tbody>\n",
       "    <tr>\n",
       "      <th>0</th>\n",
       "      <td>蘋果</td>\n",
       "      <td>4</td>\n",
       "      <td>CityA</td>\n",
       "    </tr>\n",
       "    <tr>\n",
       "      <th>1</th>\n",
       "      <td>柳橙</td>\n",
       "      <td>1</td>\n",
       "      <td>CityA</td>\n",
       "    </tr>\n",
       "    <tr>\n",
       "      <th>2</th>\n",
       "      <td>梨子</td>\n",
       "      <td>2</td>\n",
       "      <td>CityB</td>\n",
       "    </tr>\n",
       "    <tr>\n",
       "      <th>3</th>\n",
       "      <td>香蕉</td>\n",
       "      <td>2</td>\n",
       "      <td>CityC</td>\n",
       "    </tr>\n",
       "  </tbody>\n",
       "</table>\n",
       "</div>"
      ],
      "text/plain": [
       "  Fruit  Amount   City\n",
       "0    蘋果       4  CityA\n",
       "1    柳橙       1  CityA\n",
       "2    梨子       2  CityB\n",
       "3    香蕉       2  CityC"
      ]
     },
     "execution_count": 11,
     "metadata": {},
     "output_type": "execute_result"
    }
   ],
   "source": [
    "import dash\n",
    "from dash import dcc, html, Input, Output\n",
    "import plotly.express as px\n",
    "import pandas as pd\n",
    "\n",
    "# 模擬數據：這例子有點爛\n",
    "\n",
    "df = pd.DataFrame(\n",
    "    {\n",
    "        \"Fruit\": [\"蘋果\", \"柳橙\", \"梨子\", \"香蕉\"],\n",
    "        \"Amount\": [4, 1, 2, 2],\n",
    "        \"City\": [\"CityA\", \"CityA\", \"CityB\", \"CityC\"],\n",
    "    }\n",
    ")\n",
    "df"
   ]
  },
  {
   "cell_type": "code",
   "execution_count": 15,
   "metadata": {},
   "outputs": [
    {
     "data": {
      "text/html": [
       "\n",
       "        <iframe\n",
       "            width=\"100%\"\n",
       "            height=\"650\"\n",
       "            src=\"http://127.0.0.1:8050/\"\n",
       "            frameborder=\"0\"\n",
       "            allowfullscreen\n",
       "            \n",
       "        ></iframe>\n",
       "        "
      ],
      "text/plain": [
       "<IPython.lib.display.IFrame at 0x1489f0b20>"
      ]
     },
     "metadata": {},
     "output_type": "display_data"
    },
    {
     "ename": "",
     "evalue": "",
     "output_type": "error",
     "traceback": [
      "\u001b[1;31m在目前儲存格或上一個儲存格中執行程式碼時，Kernel 已損毀。請檢閱儲存格中的程式碼，找出失敗的可能原因。如需詳細資訊，請按一下<a href='https://aka.ms/vscodeJupyterKernelCrash'>這裡</a>。檢視 Jupyter <a href='command:jupyter.viewOutput'>記錄</a>，以取得進一步的詳細資料。"
     ]
    }
   ],
   "source": [
    "\n",
    "# 建立 Dash 應用\n",
    "app = dash.Dash(__name__)\n",
    "\n",
    "# 定義佈局\n",
    "app.layout = html.Div(\n",
    "    [\n",
    "        dcc.Dropdown(\n",
    "            id=\"city-dropdown\",\n",
    "            options=[\n",
    "                {\"label\": city, \"value\": city} for city in df[\"City\"].unique()\n",
    "            ],\n",
    "            # 預設值\n",
    "            value=\"CityA\",\n",
    "        ),\n",
    "        dcc.Graph(id=\"fruit-graph\"),\n",
    "    ]\n",
    ")\n",
    "\n",
    "\n",
    "# 定義callback來更新圖表\n",
    "@app.callback(Output(\"fruit-graph\", \"figure\"), Input(\"city-dropdown\", \"value\"))\n",
    "def update_graph(selected_city):\n",
    "    # 根據選取的城市過濾數據\n",
    "    filtered_df = df[df.City == selected_city]\n",
    "\n",
    "    # 產生圖表\n",
    "    fig = px.bar(filtered_df, x=\"Fruit\", y=\"Amount\", barmode=\"group\")\n",
    "\n",
    "    return fig\n",
    "\n",
    "\n",
    "# 運行應用\n",
    "if __name__ == \"__main__\":\n",
    "    app.run_server(debug=True)\n"
   ]
  }
 ],
 "metadata": {
  "kernelspec": {
   "display_name": "envDash",
   "language": "python",
   "name": "python3"
  },
  "language_info": {
   "codemirror_mode": {
    "name": "ipython",
    "version": 3
   },
   "file_extension": ".py",
   "mimetype": "text/x-python",
   "name": "python",
   "nbconvert_exporter": "python",
   "pygments_lexer": "ipython3",
   "version": "3.10.11"
  }
 },
 "nbformat": 4,
 "nbformat_minor": 2
}
