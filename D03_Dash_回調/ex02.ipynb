{
 "cells": [
  {
   "cell_type": "code",
   "execution_count": 1,
   "metadata": {},
   "outputs": [],
   "source": [
    "'''\n",
    "以下範例不使用太複雜的佈局，主要用於演釋回調的運作\n",
    "'''\n",
    "'''導入庫'''\n",
    "import dash\n",
    "from dash import dcc, html, Input, Output\n",
    "import plotly.express as px\n",
    "import pandas as pd\n",
    "import requests"
   ]
  },
  {
   "cell_type": "code",
   "execution_count": 2,
   "metadata": {},
   "outputs": [],
   "source": [
    "'''取得並處理數據'''\n",
    "# 資料連結\n",
    "url = \"https://tcgbusfs.blob.core.windows.net/dotapp/youbike/v2/youbike_immediate.json\"\n",
    "# 下載數據\n",
    "response = requests.get(url)\n",
    "# 處理數據\n",
    "if response.status_code == 200:\n",
    "    # 讀取數據\n",
    "    data = response.json()\n",
    "    # 將數據轉換為 DataFrame\n",
    "    df = pd.DataFrame(data)\n",
    "    # 建立欄位名稱映射\n",
    "    column_mapping = {\n",
    "        \"sno\": \"站點編號\",\n",
    "        \"sna\": \"站點名稱\",\n",
    "        \"tot\": \"車位總數\",\n",
    "        \"sbi\": \"可借車數\",\n",
    "        \"sarea\": \"所在區域\",\n",
    "        \"mday\": \"資料更新時間\",\n",
    "        \"lat\": \"緯度\",\n",
    "        \"lng\": \"經度\",\n",
    "        \"ar\": \"地址\",\n",
    "        \"sareaen\": \"區域英文名稱\",\n",
    "        \"snaen\": \"站點英文名稱\",\n",
    "        \"aren\": \"地址英文\",\n",
    "        \"bemp\": \"空位數量\",\n",
    "        \"act\": \"啟用狀態\",\n",
    "        \"srcUpdateTime\": \"來源更新時間\",\n",
    "        \"updateTime\": \"更新時間\",\n",
    "        \"infoTime\": \"訊息時間\",\n",
    "        \"infoDate\": \"訊息日期\",\n",
    "    }\n",
    "    # 重命名欄位名稱 rename\n",
    "    df.rename(columns=column_mapping, inplace=True)\n",
    "    # 取出部分欄位資料\n",
    "    selected_df = df[[\"站點名稱\", \"車位總數\", \"可借車數\", \"所在區域\"]]\n",
    "else:\n",
    "    print(\"無法下載數據，狀態碼：\", response.status_code)"
   ]
  },
  {
   "cell_type": "code",
   "execution_count": 3,
   "metadata": {},
   "outputs": [],
   "source": [
    "'''添加額外運算'''\n",
    "# 中位數\n",
    "median_bike_num = selected_df[\"可借車數\"].median()\n",
    "# 最大數值的一半\n",
    "half_max_bike_num = selected_df[\"可借車數\"].max() / 2"
   ]
  },
  {
   "cell_type": "code",
   "execution_count": 4,
   "metadata": {},
   "outputs": [],
   "source": [
    "'''建立網頁'''\n",
    "# 建立 Dash 應用\n",
    "app = dash.Dash(__name__)\n",
    "\n",
    "# 定義佈局\n",
    "app.layout = html.Div(\n",
    "    [\n",
    "        dcc.Dropdown(\n",
    "            id=\"area-dropdown\",\n",
    "            options=[\n",
    "                {\"label\": area, \"value\": area} for area in selected_df[\"所在區域\"].unique()\n",
    "            ],\n",
    "            # 預設值\n",
    "            value=selected_df[\"所在區域\"].unique()[0],\n",
    "        ),\n",
    "        dcc.Slider(\n",
    "            id=\"bike-slider\",\n",
    "            min=selected_df[\"可借車數\"].min(),\n",
    "            max=selected_df[\"可借車數\"].max(),\n",
    "            # 設定 slider 的預設值\n",
    "            # value=selected_df[\"可借車數\"].max(),\n",
    "            value=20,\n",
    "            marks={\n",
    "                i: str(i)\n",
    "                for i in range(selected_df[\"可借車數\"].min(), selected_df[\"可借車數\"].max() + 1)\n",
    "            },\n",
    "            step=1,\n",
    "        ),\n",
    "        dcc.Graph(id=\"youbike-graph\"),\n",
    "    ]\n",
    ")"
   ]
  },
  {
   "cell_type": "code",
   "execution_count": 5,
   "metadata": {},
   "outputs": [],
   "source": [
    "'''建立監聽：回調'''\n",
    "\n",
    "\n",
    "# 定義 callback 來監聽輸入的變動\n",
    "# 在 Dash 應用中，可使用 callback 建立輸出 Output 與輸入 Input 間的關聯\n",
    "# Output(標籤, 組件)\n",
    "@app.callback(\n",
    "    # 更新標籤為 youbike-graph 的 dcc.Graph 組件 figure 屬性\n",
    "    Output(\"youbike-graph\", \"figure\"),\n",
    "    [\n",
    "        Input(\"area-dropdown\", \"value\"),\n",
    "        Input(\"bike-slider\", \"value\")\n",
    "    ],\n",
    ")\n",
    "def update_graph(selected_area, selected_bike_num):\n",
    "    # 根據所選的區域和滑塊範圍過濾數據\n",
    "    filtered_df = selected_df[\n",
    "        (\n",
    "            selected_df[\"所在區域\"] == selected_area\n",
    "        ) & (\n",
    "            selected_df[\"可借車數\"] >= selected_bike_num\n",
    "        )\n",
    "    ]\n",
    "\n",
    "    # 產生圖表\n",
    "    fig = px.bar(\n",
    "        filtered_df,\n",
    "        x=\"站點名稱\",\n",
    "        y=[\"車位總數\", \"可借車數\"],\n",
    "        barmode=\"group\",\n",
    "        title=\"YouBike站點數據\"\n",
    "    )\n",
    "\n",
    "    return fig"
   ]
  },
  {
   "cell_type": "code",
   "execution_count": 7,
   "metadata": {},
   "outputs": [
    {
     "data": {
      "text/html": [
       "\n",
       "        <iframe\n",
       "            width=\"100%\"\n",
       "            height=\"650\"\n",
       "            src=\"http://127.0.0.1:8050/\"\n",
       "            frameborder=\"0\"\n",
       "            allowfullscreen\n",
       "            \n",
       "        ></iframe>\n",
       "        "
      ],
      "text/plain": [
       "<IPython.lib.display.IFrame at 0x12704cca0>"
      ]
     },
     "metadata": {},
     "output_type": "display_data"
    }
   ],
   "source": [
    "'''運行伺服器'''\n",
    "# 運行應用\n",
    "if __name__ == \"__main__\":\n",
    "    app.run_server(debug=True)"
   ]
  }
 ],
 "metadata": {
  "kernelspec": {
   "display_name": "envDash",
   "language": "python",
   "name": "python3"
  },
  "language_info": {
   "codemirror_mode": {
    "name": "ipython",
    "version": 3
   },
   "file_extension": ".py",
   "mimetype": "text/x-python",
   "name": "python",
   "nbconvert_exporter": "python",
   "pygments_lexer": "ipython3",
   "version": "3.10.11"
  }
 },
 "nbformat": 4,
 "nbformat_minor": 2
}
