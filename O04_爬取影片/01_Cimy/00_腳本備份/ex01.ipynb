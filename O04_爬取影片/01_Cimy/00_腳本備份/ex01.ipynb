{
 "cells": [
  {
   "cell_type": "markdown",
   "metadata": {},
   "source": [
    "改用 [Cimy](https://www.cimy.cc/)"
   ]
  },
  {
   "cell_type": "code",
   "execution_count": 7,
   "metadata": {},
   "outputs": [
    {
     "name": "stdout",
     "output_type": "stream",
     "text": [
      "找到 .m3u8 連結: https://api.heimuer.app/play/a7df4561c6544227a460109c0f132b19.m3u8\n",
      "[generic] Extracting URL: https://api.heimuer.app/play/a7df4561c6544227a460109c0f132b19.m3u8\n",
      "[generic] a7df4561c6544227a460109c0f132b19: Downloading webpage\n",
      "[generic] a7df4561c6544227a460109c0f132b19: Downloading m3u8 information\n",
      "[generic] a7df4561c6544227a460109c0f132b19: Checking m3u8 live status\n",
      "[info] a7df4561c6544227a460109c0f132b19: Downloading 1 format(s): 0\n",
      "[hlsnative] Downloading m3u8 manifest\n",
      "[hlsnative] Total fragments: 955\n",
      "[download] Destination: 第一集.mp4\n",
      "[download] 100% of    1.51GiB in 00:09:18 at 2.76MiB/s                   \n",
      "[FixupM3u8] Fixing MPEG-TS in MP4 container of \"第一集.mp4\"\n",
      "下載完成！\n"
     ]
    }
   ],
   "source": [
    "from selenium import webdriver\n",
    "from selenium.webdriver.chrome.service import Service\n",
    "from selenium.webdriver.common.by import By\n",
    "from bs4 import BeautifulSoup\n",
    "import yt_dlp\n",
    "import re\n",
    "import time\n",
    "import urllib.parse\n",
    "\n",
    "# 設定影片目標 URL 和下載選項\n",
    "episode_url = \"https://www.cimy.cc/play/12615-1-1/\"\n",
    "ydl_opts = {\n",
    "    'format': 'bestvideo+bestaudio/best',\n",
    "    'merge_output_format': 'mp4',\n",
    "    'outtmpl': '第一集.%(ext)s'\n",
    "}\n",
    "\n",
    "# 設置 Selenium Chrome 瀏覽器\n",
    "options = webdriver.ChromeOptions()\n",
    "options.add_argument(\"--headless\")\n",
    "options.add_argument(\"--no-sandbox\")\n",
    "options.add_argument(\"--disable-dev-shm-usage\")\n",
    "service = Service()\n",
    "driver = webdriver.Chrome(service=service, options=options)\n",
    "\n",
    "def get_m3u8_url_dynamic(page_url):\n",
    "    driver.get(page_url)\n",
    "    time.sleep(3)  # 等待頁面完全加載\n",
    "\n",
    "    # 解析頁面 HTML 內容\n",
    "    soup = BeautifulSoup(driver.page_source, 'html.parser')\n",
    "    m3u8_url = None\n",
    "\n",
    "    # 檢查每個 iframe 並嘗試取得其內容中的 m3u8 連結\n",
    "    for iframe in soup.find_all('iframe'):\n",
    "        if 'src' in iframe.attrs:\n",
    "            iframe_src = iframe['src']\n",
    "            # 確保 URL 是完整的（若不是則自動補全）\n",
    "            if not urllib.parse.urlparse(iframe_src).scheme:\n",
    "                iframe_src = urllib.parse.urljoin(page_url, iframe_src)\n",
    "\n",
    "            # 訪問嵌入 iframe 網址\n",
    "            driver.get(iframe_src)\n",
    "            time.sleep(2)\n",
    "            m3u8_match = re.search(r'https?://[^\\s\\'\"]+\\.m3u8', driver.page_source)\n",
    "            if m3u8_match:\n",
    "                m3u8_url = m3u8_match.group(0)\n",
    "                break\n",
    "\n",
    "    return m3u8_url\n",
    "\n",
    "# 開始解析和下載\n",
    "m3u8_url = get_m3u8_url_dynamic(episode_url)\n",
    "driver.quit()  # 關閉瀏覽器\n",
    "\n",
    "if m3u8_url:\n",
    "    print(f\"找到 .m3u8 連結: {m3u8_url}\")\n",
    "    try:\n",
    "        with yt_dlp.YoutubeDL(ydl_opts) as ydl:\n",
    "            ydl.download([m3u8_url])\n",
    "        print(\"下載完成！\")\n",
    "    except yt_dlp.utils.DownloadError:\n",
    "        print(\"下載失敗，請檢查 .m3u8 連結是否有效。\")\n",
    "else:\n",
    "    print(\"未找到有效的 .m3u8 連結。\")\n"
   ]
  },
  {
   "cell_type": "markdown",
   "metadata": {},
   "source": [
    "自動下載 1 到 20 集的影片"
   ]
  },
  {
   "cell_type": "code",
   "execution_count": 9,
   "metadata": {},
   "outputs": [
    {
     "name": "stdout",
     "output_type": "stream",
     "text": [
      "正在嘗試下載第 9 集: https://www.cimy.cc/play/12615-1-9\n",
      "第 9 集找到 .m3u8 連結: https://api.heimuer.app/play/6ec1d3db23e74f3cb4fe3714005ec1fc.m3u8\n",
      "[generic] Extracting URL: https://api.heimuer.app/play/6ec1d3db23e74f3cb4fe3714005ec1fc.m3u8\n",
      "[generic] 6ec1d3db23e74f3cb4fe3714005ec1fc: Downloading webpage\n",
      "[generic] 6ec1d3db23e74f3cb4fe3714005ec1fc: Downloading m3u8 information\n",
      "[generic] 6ec1d3db23e74f3cb4fe3714005ec1fc: Checking m3u8 live status\n",
      "[info] 6ec1d3db23e74f3cb4fe3714005ec1fc: Downloading 1 format(s): 0\n",
      "[hlsnative] Downloading m3u8 manifest\n",
      "[hlsnative] Total fragments: 959\n",
      "[download] Destination: 第9集.mp4\n",
      "[download] 100% of    1.52GiB in 00:04:22 at 5.93MiB/s                   \n",
      "[FixupM3u8] Fixing MPEG-TS in MP4 container of \"第9集.mp4\"\n",
      "第 9 集下載完成！\n",
      "正在嘗試下載第 10 集: https://www.cimy.cc/play/12615-1-10\n",
      "第 10 集找到 .m3u8 連結: https://api.heimuer.app/play/613e19d4434d4b3fb9a856c4eb7bd95b.m3u8\n",
      "[generic] Extracting URL: https://api.heimuer.app/play/613e19d4434d4b3fb9a856c4eb7bd95b.m3u8\n",
      "[generic] 613e19d4434d4b3fb9a856c4eb7bd95b: Downloading webpage\n",
      "[generic] 613e19d4434d4b3fb9a856c4eb7bd95b: Downloading m3u8 information\n",
      "[generic] 613e19d4434d4b3fb9a856c4eb7bd95b: Checking m3u8 live status\n",
      "[info] 613e19d4434d4b3fb9a856c4eb7bd95b: Downloading 1 format(s): 0\n",
      "[hlsnative] Downloading m3u8 manifest\n",
      "[hlsnative] Total fragments: 959\n",
      "[download] Destination: 第10集.mp4\n",
      "[download] 100% of    1.52GiB in 00:04:05 at 6.32MiB/s                   \n",
      "[FixupM3u8] Fixing MPEG-TS in MP4 container of \"第10集.mp4\"\n",
      "第 10 集下載完成！\n",
      "正在嘗試下載第 11 集: https://www.cimy.cc/play/12615-1-11\n",
      "第 11 集找到 .m3u8 連結: https://api.heimuer.app/play/0b978681879746dda11f834303d4be8f.m3u8\n",
      "[generic] Extracting URL: https://api.heimuer.app/play/0b978681879746dda11f834303d4be8f.m3u8\n",
      "[generic] 0b978681879746dda11f834303d4be8f: Downloading webpage\n",
      "[generic] 0b978681879746dda11f834303d4be8f: Downloading m3u8 information\n",
      "[generic] 0b978681879746dda11f834303d4be8f: Checking m3u8 live status\n",
      "[info] 0b978681879746dda11f834303d4be8f: Downloading 1 format(s): 0\n",
      "[hlsnative] Downloading m3u8 manifest\n",
      "[hlsnative] Total fragments: 955\n",
      "[download] Destination: 第11集.mp4\n",
      "[download] 100% of    1.51GiB in 00:10:08 at 2.55MiB/s                    \n",
      "[FixupM3u8] Fixing MPEG-TS in MP4 container of \"第11集.mp4\"\n",
      "第 11 集下載完成！\n",
      "正在嘗試下載第 12 集: https://www.cimy.cc/play/12615-1-12\n",
      "第 12 集找到 .m3u8 連結: https://api.heimuer.app/play/ef213cd8dcd14d329bf336eb377353e8.m3u8\n",
      "[generic] Extracting URL: https://api.heimuer.app/play/ef213cd8dcd14d329bf336eb377353e8.m3u8\n",
      "[generic] ef213cd8dcd14d329bf336eb377353e8: Downloading webpage\n",
      "[generic] ef213cd8dcd14d329bf336eb377353e8: Downloading m3u8 information\n",
      "[generic] ef213cd8dcd14d329bf336eb377353e8: Checking m3u8 live status\n",
      "[info] ef213cd8dcd14d329bf336eb377353e8: Downloading 1 format(s): 0\n",
      "[hlsnative] Downloading m3u8 manifest\n",
      "[hlsnative] Total fragments: 961\n",
      "[download] Destination: 第12集.mp4\n",
      "[download] 100% of    1.52GiB in 00:10:08 at 2.56MiB/s                   \n",
      "[FixupM3u8] Fixing MPEG-TS in MP4 container of \"第12集.mp4\"\n",
      "第 12 集下載完成！\n",
      "正在嘗試下載第 13 集: https://www.cimy.cc/play/12615-1-13\n",
      "第 13 集找到 .m3u8 連結: https://api.heimuer.app/play/b47cdf56d87f4b3f95486173fccfa2f3.m3u8\n",
      "[generic] Extracting URL: https://api.heimuer.app/play/b47cdf56d87f4b3f95486173fccfa2f3.m3u8\n",
      "[generic] b47cdf56d87f4b3f95486173fccfa2f3: Downloading webpage\n",
      "[generic] b47cdf56d87f4b3f95486173fccfa2f3: Downloading m3u8 information\n",
      "[generic] b47cdf56d87f4b3f95486173fccfa2f3: Checking m3u8 live status\n",
      "[info] b47cdf56d87f4b3f95486173fccfa2f3: Downloading 1 format(s): 0\n",
      "[hlsnative] Downloading m3u8 manifest\n",
      "[hlsnative] Total fragments: 959\n",
      "[download] Destination: 第13集.mp4\n",
      "[download] 100% of    1.52GiB in 00:10:42 at 2.42MiB/s                      \n",
      "[FixupM3u8] Fixing MPEG-TS in MP4 container of \"第13集.mp4\"\n",
      "第 13 集下載完成！\n",
      "正在嘗試下載第 14 集: https://www.cimy.cc/play/12615-1-14\n",
      "第 14 集找到 .m3u8 連結: https://api.heimuer.app/play/f535982ee8384a4db418ce35d0cb09c2.m3u8\n",
      "[generic] Extracting URL: https://api.heimuer.app/play/f535982ee8384a4db418ce35d0cb09c2.m3u8\n",
      "[generic] f535982ee8384a4db418ce35d0cb09c2: Downloading webpage\n",
      "[generic] f535982ee8384a4db418ce35d0cb09c2: Downloading m3u8 information\n",
      "[generic] f535982ee8384a4db418ce35d0cb09c2: Checking m3u8 live status\n",
      "[info] f535982ee8384a4db418ce35d0cb09c2: Downloading 1 format(s): 0\n",
      "[hlsnative] Downloading m3u8 manifest\n",
      "[hlsnative] Total fragments: 965\n",
      "[download] Destination: 第14集.mp4\n"
     ]
    },
    {
     "name": "stderr",
     "output_type": "stream",
     "text": [
      "[download] Got error: HTTP Error 526: None\n"
     ]
    },
    {
     "name": "stdout",
     "output_type": "stream",
     "text": [
      "[download] fragment not found; Skipping fragment 1 ...\n"
     ]
    },
    {
     "name": "stderr",
     "output_type": "stream",
     "text": [
      "[download] Got error: HTTP Error 526: None\n"
     ]
    },
    {
     "name": "stdout",
     "output_type": "stream",
     "text": [
      "[download] fragment not found; Skipping fragment 2 ...\n"
     ]
    },
    {
     "name": "stderr",
     "output_type": "stream",
     "text": [
      "[download] Got error: HTTP Error 526: None\n"
     ]
    },
    {
     "name": "stdout",
     "output_type": "stream",
     "text": [
      "[download] fragment not found; Skipping fragment 3 ...\n"
     ]
    },
    {
     "name": "stderr",
     "output_type": "stream",
     "text": [
      "[download] Got error: HTTP Error 526: None\n"
     ]
    },
    {
     "name": "stdout",
     "output_type": "stream",
     "text": [
      "[download] fragment not found; Skipping fragment 4 ...\n"
     ]
    },
    {
     "name": "stderr",
     "output_type": "stream",
     "text": [
      "[download] Got error: HTTP Error 526: None\n"
     ]
    },
    {
     "name": "stdout",
     "output_type": "stream",
     "text": [
      "[download] fragment not found; Skipping fragment 5 ...\n"
     ]
    },
    {
     "name": "stderr",
     "output_type": "stream",
     "text": [
      "[download] Got error: HTTP Error 526: None\n"
     ]
    },
    {
     "name": "stdout",
     "output_type": "stream",
     "text": [
      "[download] fragment not found; Skipping fragment 6 ...\n"
     ]
    },
    {
     "name": "stderr",
     "output_type": "stream",
     "text": [
      "[download] Got error: HTTP Error 526: None\n"
     ]
    },
    {
     "name": "stdout",
     "output_type": "stream",
     "text": [
      "[download] fragment not found; Skipping fragment 7 ...\n"
     ]
    },
    {
     "name": "stderr",
     "output_type": "stream",
     "text": [
      "[download] Got error: HTTP Error 526: None\n"
     ]
    },
    {
     "name": "stdout",
     "output_type": "stream",
     "text": [
      "[download] fragment not found; Skipping fragment 8 ...\n"
     ]
    },
    {
     "name": "stderr",
     "output_type": "stream",
     "text": [
      "[download] Got error: HTTP Error 526: None\n"
     ]
    },
    {
     "name": "stdout",
     "output_type": "stream",
     "text": [
      "[download] fragment not found; Skipping fragment 9 ...\n"
     ]
    },
    {
     "name": "stderr",
     "output_type": "stream",
     "text": [
      "[download] Got error: HTTP Error 526: None\n"
     ]
    },
    {
     "name": "stdout",
     "output_type": "stream",
     "text": [
      "[download] fragment not found; Skipping fragment 10 ...\n"
     ]
    },
    {
     "name": "stderr",
     "output_type": "stream",
     "text": [
      "[download] Got error: HTTP Error 526: None\n"
     ]
    },
    {
     "name": "stdout",
     "output_type": "stream",
     "text": [
      "[download] fragment not found; Skipping fragment 11 ...\n"
     ]
    },
    {
     "name": "stderr",
     "output_type": "stream",
     "text": [
      "[download] Got error: HTTP Error 526: None\n"
     ]
    },
    {
     "name": "stdout",
     "output_type": "stream",
     "text": [
      "[download] fragment not found; Skipping fragment 12 ...\n"
     ]
    },
    {
     "name": "stderr",
     "output_type": "stream",
     "text": [
      "[download] Got error: HTTP Error 526: None\n"
     ]
    },
    {
     "name": "stdout",
     "output_type": "stream",
     "text": [
      "[download] fragment not found; Skipping fragment 13 ...\n"
     ]
    },
    {
     "name": "stderr",
     "output_type": "stream",
     "text": [
      "[download] Got error: HTTP Error 526: None\n"
     ]
    },
    {
     "name": "stdout",
     "output_type": "stream",
     "text": [
      "[download] fragment not found; Skipping fragment 14 ...\n",
      "[download]   0.1% of ~ 586.52MiB at      0.00B/s ETA Unknown (frag 1/965)"
     ]
    },
    {
     "name": "stderr",
     "output_type": "stream",
     "text": [
      "[download] Got error: HTTP Error 526: None\n"
     ]
    },
    {
     "name": "stdout",
     "output_type": "stream",
     "text": [
      "[download] fragment not found; Skipping fragment 16 ...\n"
     ]
    },
    {
     "name": "stderr",
     "output_type": "stream",
     "text": [
      "[download] Got error: HTTP Error 526: None\n"
     ]
    },
    {
     "name": "stdout",
     "output_type": "stream",
     "text": [
      "[download] fragment not found; Skipping fragment 17 ...\n"
     ]
    },
    {
     "name": "stderr",
     "output_type": "stream",
     "text": [
      "[download] Got error: HTTP Error 526: None\n"
     ]
    },
    {
     "name": "stdout",
     "output_type": "stream",
     "text": [
      "[download] fragment not found; Skipping fragment 18 ...\n"
     ]
    },
    {
     "name": "stderr",
     "output_type": "stream",
     "text": [
      "[download] Got error: HTTP Error 526: None\n"
     ]
    },
    {
     "name": "stdout",
     "output_type": "stream",
     "text": [
      "[download] fragment not found; Skipping fragment 19 ...\n"
     ]
    },
    {
     "name": "stderr",
     "output_type": "stream",
     "text": [
      "[download] Got error: HTTP Error 526: None\n"
     ]
    },
    {
     "name": "stdout",
     "output_type": "stream",
     "text": [
      "[download] fragment not found; Skipping fragment 20 ...\n"
     ]
    },
    {
     "name": "stderr",
     "output_type": "stream",
     "text": [
      "[download] Got error: HTTP Error 526: None\n"
     ]
    },
    {
     "name": "stdout",
     "output_type": "stream",
     "text": [
      "[download] fragment not found; Skipping fragment 21 ...\n"
     ]
    },
    {
     "name": "stderr",
     "output_type": "stream",
     "text": [
      "[download] Got error: HTTP Error 526: None\n"
     ]
    },
    {
     "name": "stdout",
     "output_type": "stream",
     "text": [
      "[download] fragment not found; Skipping fragment 22 ...\n"
     ]
    },
    {
     "name": "stderr",
     "output_type": "stream",
     "text": [
      "[download] Got error: HTTP Error 526: None\n"
     ]
    },
    {
     "name": "stdout",
     "output_type": "stream",
     "text": [
      "[download] fragment not found; Skipping fragment 23 ...\n"
     ]
    },
    {
     "name": "stderr",
     "output_type": "stream",
     "text": [
      "[download] Got error: HTTP Error 526: None\n"
     ]
    },
    {
     "name": "stdout",
     "output_type": "stream",
     "text": [
      "[download] fragment not found; Skipping fragment 24 ...\n"
     ]
    },
    {
     "name": "stderr",
     "output_type": "stream",
     "text": [
      "[download] Got error: HTTP Error 526: None\n"
     ]
    },
    {
     "name": "stdout",
     "output_type": "stream",
     "text": [
      "[download] fragment not found; Skipping fragment 25 ...\n"
     ]
    },
    {
     "name": "stderr",
     "output_type": "stream",
     "text": [
      "[download] Got error: HTTP Error 526: None\n"
     ]
    },
    {
     "name": "stdout",
     "output_type": "stream",
     "text": [
      "[download] fragment not found; Skipping fragment 26 ...\n"
     ]
    },
    {
     "name": "stderr",
     "output_type": "stream",
     "text": [
      "[download] Got error: HTTP Error 526: None\n"
     ]
    },
    {
     "name": "stdout",
     "output_type": "stream",
     "text": [
      "[download] fragment not found; Skipping fragment 27 ...\n"
     ]
    },
    {
     "name": "stderr",
     "output_type": "stream",
     "text": [
      "[download] Got error: HTTP Error 526: None\n"
     ]
    },
    {
     "name": "stdout",
     "output_type": "stream",
     "text": [
      "[download] fragment not found; Skipping fragment 28 ...\n"
     ]
    },
    {
     "name": "stderr",
     "output_type": "stream",
     "text": [
      "[download] Got error: HTTP Error 526: None\n"
     ]
    },
    {
     "name": "stdout",
     "output_type": "stream",
     "text": [
      "[download] fragment not found; Skipping fragment 29 ...\n"
     ]
    },
    {
     "name": "stderr",
     "output_type": "stream",
     "text": [
      "[download] Got error: HTTP Error 526: None\n"
     ]
    },
    {
     "name": "stdout",
     "output_type": "stream",
     "text": [
      "[download] fragment not found; Skipping fragment 30 ...\n"
     ]
    },
    {
     "name": "stderr",
     "output_type": "stream",
     "text": [
      "[download] Got error: HTTP Error 526: None\n"
     ]
    },
    {
     "name": "stdout",
     "output_type": "stream",
     "text": [
      "[download] fragment not found; Skipping fragment 31 ...\n"
     ]
    },
    {
     "name": "stderr",
     "output_type": "stream",
     "text": [
      "[download] Got error: HTTP Error 526: None\n"
     ]
    },
    {
     "name": "stdout",
     "output_type": "stream",
     "text": [
      "[download] fragment not found; Skipping fragment 32 ...\n"
     ]
    },
    {
     "name": "stderr",
     "output_type": "stream",
     "text": [
      "[download] Got error: HTTP Error 526: None\n"
     ]
    },
    {
     "name": "stdout",
     "output_type": "stream",
     "text": [
      "[download] fragment not found; Skipping fragment 33 ...\n"
     ]
    },
    {
     "name": "stderr",
     "output_type": "stream",
     "text": [
      "[download] Got error: HTTP Error 526: None\n"
     ]
    },
    {
     "name": "stdout",
     "output_type": "stream",
     "text": [
      "[download] fragment not found; Skipping fragment 34 ...\n"
     ]
    },
    {
     "name": "stderr",
     "output_type": "stream",
     "text": [
      "[download] Got error: HTTP Error 526: None\n"
     ]
    },
    {
     "name": "stdout",
     "output_type": "stream",
     "text": [
      "[download] fragment not found; Skipping fragment 35 ...\n"
     ]
    },
    {
     "name": "stderr",
     "output_type": "stream",
     "text": [
      "[download] Got error: HTTP Error 526: None\n"
     ]
    },
    {
     "name": "stdout",
     "output_type": "stream",
     "text": [
      "[download] fragment not found; Skipping fragment 36 ...\n"
     ]
    },
    {
     "name": "stderr",
     "output_type": "stream",
     "text": [
      "[download] Got error: HTTP Error 526: None\n"
     ]
    },
    {
     "name": "stdout",
     "output_type": "stream",
     "text": [
      "[download] fragment not found; Skipping fragment 37 ...\n"
     ]
    },
    {
     "name": "stderr",
     "output_type": "stream",
     "text": [
      "[download] Got error: HTTP Error 526: None\n"
     ]
    },
    {
     "name": "stdout",
     "output_type": "stream",
     "text": [
      "[download] fragment not found; Skipping fragment 38 ...\n"
     ]
    },
    {
     "name": "stderr",
     "output_type": "stream",
     "text": [
      "[download] Got error: HTTP Error 526: None\n"
     ]
    },
    {
     "name": "stdout",
     "output_type": "stream",
     "text": [
      "[download] fragment not found; Skipping fragment 39 ...\n"
     ]
    },
    {
     "name": "stderr",
     "output_type": "stream",
     "text": [
      "[download] Got error: HTTP Error 526: None\n"
     ]
    },
    {
     "name": "stdout",
     "output_type": "stream",
     "text": [
      "[download] fragment not found; Skipping fragment 40 ...\n"
     ]
    },
    {
     "name": "stderr",
     "output_type": "stream",
     "text": [
      "[download] Got error: HTTP Error 526: None\n"
     ]
    },
    {
     "name": "stdout",
     "output_type": "stream",
     "text": [
      "[download] fragment not found; Skipping fragment 41 ...\n"
     ]
    },
    {
     "name": "stderr",
     "output_type": "stream",
     "text": [
      "[download] Got error: HTTP Error 526: None\n"
     ]
    },
    {
     "name": "stdout",
     "output_type": "stream",
     "text": [
      "[download] fragment not found; Skipping fragment 42 ...\n"
     ]
    },
    {
     "name": "stderr",
     "output_type": "stream",
     "text": [
      "[download] Got error: HTTP Error 526: None\n"
     ]
    },
    {
     "name": "stdout",
     "output_type": "stream",
     "text": [
      "[download] fragment not found; Skipping fragment 43 ...\n"
     ]
    },
    {
     "name": "stderr",
     "output_type": "stream",
     "text": [
      "[download] Got error: HTTP Error 526: None\n"
     ]
    },
    {
     "name": "stdout",
     "output_type": "stream",
     "text": [
      "[download] fragment not found; Skipping fragment 44 ...\n"
     ]
    },
    {
     "name": "stderr",
     "output_type": "stream",
     "text": [
      "[download] Got error: HTTP Error 526: None\n"
     ]
    },
    {
     "name": "stdout",
     "output_type": "stream",
     "text": [
      "[download] fragment not found; Skipping fragment 45 ...\n"
     ]
    },
    {
     "name": "stderr",
     "output_type": "stream",
     "text": [
      "[download] Got error: HTTP Error 526: None\n"
     ]
    },
    {
     "name": "stdout",
     "output_type": "stream",
     "text": [
      "[download] fragment not found; Skipping fragment 46 ...\n"
     ]
    },
    {
     "name": "stderr",
     "output_type": "stream",
     "text": [
      "[download] Got error: HTTP Error 526: None\n"
     ]
    },
    {
     "name": "stdout",
     "output_type": "stream",
     "text": [
      "[download] fragment not found; Skipping fragment 47 ...\n"
     ]
    },
    {
     "name": "stderr",
     "output_type": "stream",
     "text": [
      "[download] Got error: HTTP Error 526: None\n"
     ]
    },
    {
     "name": "stdout",
     "output_type": "stream",
     "text": [
      "[download] fragment not found; Skipping fragment 48 ...\n"
     ]
    },
    {
     "name": "stderr",
     "output_type": "stream",
     "text": [
      "[download] Got error: HTTP Error 526: None\n"
     ]
    },
    {
     "name": "stdout",
     "output_type": "stream",
     "text": [
      "[download] fragment not found; Skipping fragment 49 ...\n"
     ]
    },
    {
     "name": "stderr",
     "output_type": "stream",
     "text": [
      "[download] Got error: HTTP Error 526: None\n"
     ]
    },
    {
     "name": "stdout",
     "output_type": "stream",
     "text": [
      "[download] fragment not found; Skipping fragment 50 ...\n"
     ]
    },
    {
     "name": "stderr",
     "output_type": "stream",
     "text": [
      "[download] Got error: HTTP Error 526: None\n"
     ]
    },
    {
     "name": "stdout",
     "output_type": "stream",
     "text": [
      "[download] fragment not found; Skipping fragment 51 ...\n"
     ]
    },
    {
     "name": "stderr",
     "output_type": "stream",
     "text": [
      "[download] Got error: HTTP Error 526: None\n"
     ]
    },
    {
     "name": "stdout",
     "output_type": "stream",
     "text": [
      "[download] fragment not found; Skipping fragment 52 ...\n"
     ]
    },
    {
     "name": "stderr",
     "output_type": "stream",
     "text": [
      "[download] Got error: HTTP Error 526: None\n"
     ]
    },
    {
     "name": "stdout",
     "output_type": "stream",
     "text": [
      "[download] fragment not found; Skipping fragment 53 ...\n"
     ]
    },
    {
     "name": "stderr",
     "output_type": "stream",
     "text": [
      "[download] Got error: HTTP Error 526: None\n"
     ]
    },
    {
     "name": "stdout",
     "output_type": "stream",
     "text": [
      "[download] fragment not found; Skipping fragment 54 ...\n"
     ]
    },
    {
     "name": "stderr",
     "output_type": "stream",
     "text": [
      "[download] Got error: HTTP Error 526: None\n"
     ]
    },
    {
     "name": "stdout",
     "output_type": "stream",
     "text": [
      "[download] fragment not found; Skipping fragment 55 ...\n"
     ]
    },
    {
     "name": "stderr",
     "output_type": "stream",
     "text": [
      "[download] Got error: HTTP Error 526: None\n"
     ]
    },
    {
     "name": "stdout",
     "output_type": "stream",
     "text": [
      "[download] fragment not found; Skipping fragment 56 ...\n"
     ]
    },
    {
     "name": "stderr",
     "output_type": "stream",
     "text": [
      "[download] Got error: HTTP Error 526: None\n"
     ]
    },
    {
     "name": "stdout",
     "output_type": "stream",
     "text": [
      "[download] fragment not found; Skipping fragment 57 ...\n"
     ]
    },
    {
     "name": "stderr",
     "output_type": "stream",
     "text": [
      "[download] Got error: HTTP Error 526: None\n"
     ]
    },
    {
     "name": "stdout",
     "output_type": "stream",
     "text": [
      "[download] fragment not found; Skipping fragment 58 ...\n"
     ]
    },
    {
     "name": "stderr",
     "output_type": "stream",
     "text": [
      "[download] Got error: HTTP Error 526: None\n"
     ]
    },
    {
     "name": "stdout",
     "output_type": "stream",
     "text": [
      "[download] fragment not found; Skipping fragment 59 ...\n"
     ]
    },
    {
     "name": "stderr",
     "output_type": "stream",
     "text": [
      "[download] Got error: HTTP Error 526: None\n"
     ]
    },
    {
     "name": "stdout",
     "output_type": "stream",
     "text": [
      "[download] fragment not found; Skipping fragment 60 ...\n"
     ]
    },
    {
     "name": "stderr",
     "output_type": "stream",
     "text": [
      "[download] Got error: HTTP Error 526: None\n"
     ]
    },
    {
     "name": "stdout",
     "output_type": "stream",
     "text": [
      "[download] fragment not found; Skipping fragment 61 ...\n"
     ]
    },
    {
     "name": "stderr",
     "output_type": "stream",
     "text": [
      "[download] Got error: HTTP Error 526: None\n"
     ]
    },
    {
     "name": "stdout",
     "output_type": "stream",
     "text": [
      "[download] fragment not found; Skipping fragment 62 ...\n"
     ]
    },
    {
     "name": "stderr",
     "output_type": "stream",
     "text": [
      "[download] Got error: HTTP Error 526: None\n"
     ]
    },
    {
     "name": "stdout",
     "output_type": "stream",
     "text": [
      "[download] fragment not found; Skipping fragment 63 ...\n"
     ]
    },
    {
     "name": "stderr",
     "output_type": "stream",
     "text": [
      "[download] Got error: HTTP Error 526: None\n"
     ]
    },
    {
     "name": "stdout",
     "output_type": "stream",
     "text": [
      "[download] fragment not found; Skipping fragment 64 ...\n"
     ]
    },
    {
     "name": "stderr",
     "output_type": "stream",
     "text": [
      "[download] Got error: HTTP Error 526: None\n"
     ]
    },
    {
     "name": "stdout",
     "output_type": "stream",
     "text": [
      "[download] fragment not found; Skipping fragment 65 ...\n"
     ]
    },
    {
     "name": "stderr",
     "output_type": "stream",
     "text": [
      "[download] Got error: HTTP Error 526: None\n"
     ]
    },
    {
     "name": "stdout",
     "output_type": "stream",
     "text": [
      "[download] fragment not found; Skipping fragment 66 ...\n"
     ]
    },
    {
     "name": "stderr",
     "output_type": "stream",
     "text": [
      "[download] Got error: HTTP Error 526: None\n"
     ]
    },
    {
     "name": "stdout",
     "output_type": "stream",
     "text": [
      "[download] fragment not found; Skipping fragment 67 ...\n"
     ]
    },
    {
     "name": "stderr",
     "output_type": "stream",
     "text": [
      "[download] Got error: HTTP Error 526: None\n"
     ]
    },
    {
     "name": "stdout",
     "output_type": "stream",
     "text": [
      "[download] fragment not found; Skipping fragment 68 ...\n"
     ]
    },
    {
     "name": "stderr",
     "output_type": "stream",
     "text": [
      "[download] Got error: HTTP Error 526: None\n"
     ]
    },
    {
     "name": "stdout",
     "output_type": "stream",
     "text": [
      "[download] fragment not found; Skipping fragment 69 ...\n"
     ]
    },
    {
     "name": "stderr",
     "output_type": "stream",
     "text": [
      "[download] Got error: HTTP Error 526: None\n"
     ]
    },
    {
     "name": "stdout",
     "output_type": "stream",
     "text": [
      "[download] fragment not found; Skipping fragment 70 ...\n"
     ]
    },
    {
     "name": "stderr",
     "output_type": "stream",
     "text": [
      "[download] Got error: HTTP Error 526: None\n"
     ]
    },
    {
     "name": "stdout",
     "output_type": "stream",
     "text": [
      "[download] fragment not found; Skipping fragment 71 ...\n"
     ]
    },
    {
     "name": "stderr",
     "output_type": "stream",
     "text": [
      "[download] Got error: HTTP Error 526: None\n"
     ]
    },
    {
     "name": "stdout",
     "output_type": "stream",
     "text": [
      "[download] fragment not found; Skipping fragment 72 ...\n"
     ]
    },
    {
     "name": "stderr",
     "output_type": "stream",
     "text": [
      "[download] Got error: HTTP Error 526: None\n"
     ]
    },
    {
     "name": "stdout",
     "output_type": "stream",
     "text": [
      "[download] fragment not found; Skipping fragment 73 ...\n"
     ]
    },
    {
     "name": "stderr",
     "output_type": "stream",
     "text": [
      "[download] Got error: HTTP Error 526: None\n"
     ]
    },
    {
     "name": "stdout",
     "output_type": "stream",
     "text": [
      "[download] fragment not found; Skipping fragment 74 ...\n"
     ]
    },
    {
     "name": "stderr",
     "output_type": "stream",
     "text": [
      "[download] Got error: HTTP Error 526: None\n"
     ]
    },
    {
     "name": "stdout",
     "output_type": "stream",
     "text": [
      "[download] fragment not found; Skipping fragment 75 ...\n"
     ]
    },
    {
     "name": "stderr",
     "output_type": "stream",
     "text": [
      "[download] Got error: HTTP Error 526: None\n"
     ]
    },
    {
     "name": "stdout",
     "output_type": "stream",
     "text": [
      "[download] fragment not found; Skipping fragment 76 ...\n"
     ]
    },
    {
     "name": "stderr",
     "output_type": "stream",
     "text": [
      "[download] Got error: HTTP Error 526: None\n"
     ]
    },
    {
     "name": "stdout",
     "output_type": "stream",
     "text": [
      "[download] fragment not found; Skipping fragment 77 ...\n"
     ]
    },
    {
     "name": "stderr",
     "output_type": "stream",
     "text": [
      "[download] Got error: HTTP Error 526: None\n"
     ]
    },
    {
     "name": "stdout",
     "output_type": "stream",
     "text": [
      "[download] fragment not found; Skipping fragment 78 ...\n"
     ]
    },
    {
     "name": "stderr",
     "output_type": "stream",
     "text": [
      "[download] Got error: HTTP Error 526: None\n"
     ]
    },
    {
     "name": "stdout",
     "output_type": "stream",
     "text": [
      "[download] fragment not found; Skipping fragment 79 ...\n"
     ]
    },
    {
     "name": "stderr",
     "output_type": "stream",
     "text": [
      "[download] Got error: HTTP Error 526: None\n"
     ]
    },
    {
     "name": "stdout",
     "output_type": "stream",
     "text": [
      "[download] fragment not found; Skipping fragment 80 ...\n"
     ]
    },
    {
     "name": "stderr",
     "output_type": "stream",
     "text": [
      "[download] Got error: HTTP Error 526: None\n"
     ]
    },
    {
     "name": "stdout",
     "output_type": "stream",
     "text": [
      "[download] fragment not found; Skipping fragment 81 ...\n"
     ]
    },
    {
     "name": "stderr",
     "output_type": "stream",
     "text": [
      "[download] Got error: HTTP Error 526: None\n"
     ]
    },
    {
     "name": "stdout",
     "output_type": "stream",
     "text": [
      "[download] fragment not found; Skipping fragment 82 ...\n"
     ]
    },
    {
     "name": "stderr",
     "output_type": "stream",
     "text": [
      "[download] Got error: HTTP Error 526: None\n"
     ]
    },
    {
     "name": "stdout",
     "output_type": "stream",
     "text": [
      "[download] fragment not found; Skipping fragment 83 ...\n"
     ]
    },
    {
     "name": "stderr",
     "output_type": "stream",
     "text": [
      "[download] Got error: HTTP Error 526: None\n"
     ]
    },
    {
     "name": "stdout",
     "output_type": "stream",
     "text": [
      "[download] fragment not found; Skipping fragment 84 ...\n"
     ]
    },
    {
     "name": "stderr",
     "output_type": "stream",
     "text": [
      "[download] Got error: HTTP Error 526: None\n"
     ]
    },
    {
     "name": "stdout",
     "output_type": "stream",
     "text": [
      "[download] fragment not found; Skipping fragment 85 ...\n"
     ]
    },
    {
     "name": "stderr",
     "output_type": "stream",
     "text": [
      "[download] Got error: HTTP Error 526: None\n"
     ]
    },
    {
     "name": "stdout",
     "output_type": "stream",
     "text": [
      "[download] fragment not found; Skipping fragment 86 ...\n"
     ]
    },
    {
     "name": "stderr",
     "output_type": "stream",
     "text": [
      "[download] Got error: HTTP Error 526: None\n"
     ]
    },
    {
     "name": "stdout",
     "output_type": "stream",
     "text": [
      "[download] fragment not found; Skipping fragment 87 ...\n"
     ]
    },
    {
     "name": "stderr",
     "output_type": "stream",
     "text": [
      "[download] Got error: HTTP Error 526: None\n"
     ]
    },
    {
     "name": "stdout",
     "output_type": "stream",
     "text": [
      "[download] fragment not found; Skipping fragment 88 ...\n"
     ]
    },
    {
     "name": "stderr",
     "output_type": "stream",
     "text": [
      "[download] Got error: HTTP Error 526: None\n"
     ]
    },
    {
     "name": "stdout",
     "output_type": "stream",
     "text": [
      "[download] fragment not found; Skipping fragment 89 ...\n"
     ]
    },
    {
     "name": "stderr",
     "output_type": "stream",
     "text": [
      "[download] Got error: HTTP Error 526: None\n"
     ]
    },
    {
     "name": "stdout",
     "output_type": "stream",
     "text": [
      "[download] fragment not found; Skipping fragment 90 ...\n"
     ]
    },
    {
     "name": "stderr",
     "output_type": "stream",
     "text": [
      "[download] Got error: HTTP Error 526: None\n"
     ]
    },
    {
     "name": "stdout",
     "output_type": "stream",
     "text": [
      "[download] fragment not found; Skipping fragment 91 ...\n"
     ]
    },
    {
     "name": "stderr",
     "output_type": "stream",
     "text": [
      "[download] Got error: HTTP Error 526: None\n"
     ]
    },
    {
     "name": "stdout",
     "output_type": "stream",
     "text": [
      "[download] fragment not found; Skipping fragment 92 ...\n"
     ]
    },
    {
     "name": "stderr",
     "output_type": "stream",
     "text": [
      "[download] Got error: HTTP Error 526: None\n"
     ]
    },
    {
     "name": "stdout",
     "output_type": "stream",
     "text": [
      "[download] fragment not found; Skipping fragment 93 ...\n"
     ]
    },
    {
     "name": "stderr",
     "output_type": "stream",
     "text": [
      "[download] Got error: HTTP Error 526: None\n"
     ]
    },
    {
     "name": "stdout",
     "output_type": "stream",
     "text": [
      "[download] fragment not found; Skipping fragment 94 ...\n"
     ]
    },
    {
     "name": "stderr",
     "output_type": "stream",
     "text": [
      "[download] Got error: HTTP Error 526: None\n"
     ]
    },
    {
     "name": "stdout",
     "output_type": "stream",
     "text": [
      "[download] fragment not found; Skipping fragment 95 ...\n"
     ]
    },
    {
     "name": "stderr",
     "output_type": "stream",
     "text": [
      "[download] Got error: HTTP Error 526: None\n"
     ]
    },
    {
     "name": "stdout",
     "output_type": "stream",
     "text": [
      "[download] fragment not found; Skipping fragment 96 ...\n"
     ]
    },
    {
     "name": "stderr",
     "output_type": "stream",
     "text": [
      "[download] Got error: HTTP Error 526: None\n"
     ]
    },
    {
     "name": "stdout",
     "output_type": "stream",
     "text": [
      "[download] fragment not found; Skipping fragment 97 ...\n"
     ]
    },
    {
     "name": "stderr",
     "output_type": "stream",
     "text": [
      "[download] Got error: HTTP Error 526: None\n"
     ]
    },
    {
     "name": "stdout",
     "output_type": "stream",
     "text": [
      "[download] fragment not found; Skipping fragment 98 ...\n"
     ]
    },
    {
     "name": "stderr",
     "output_type": "stream",
     "text": [
      "[download] Got error: HTTP Error 526: None\n"
     ]
    },
    {
     "name": "stdout",
     "output_type": "stream",
     "text": [
      "[download] fragment not found; Skipping fragment 99 ...\n"
     ]
    },
    {
     "name": "stderr",
     "output_type": "stream",
     "text": [
      "[download] Got error: HTTP Error 526: None\n"
     ]
    },
    {
     "name": "stdout",
     "output_type": "stream",
     "text": [
      "[download] fragment not found; Skipping fragment 100 ...\n"
     ]
    },
    {
     "name": "stderr",
     "output_type": "stream",
     "text": [
      "[download] Got error: HTTP Error 526: None\n"
     ]
    },
    {
     "name": "stdout",
     "output_type": "stream",
     "text": [
      "[download] fragment not found; Skipping fragment 101 ...\n"
     ]
    },
    {
     "name": "stderr",
     "output_type": "stream",
     "text": [
      "[download] Got error: HTTP Error 526: None\n"
     ]
    },
    {
     "name": "stdout",
     "output_type": "stream",
     "text": [
      "[download] fragment not found; Skipping fragment 102 ...\n"
     ]
    },
    {
     "name": "stderr",
     "output_type": "stream",
     "text": [
      "[download] Got error: HTTP Error 526: None\n"
     ]
    },
    {
     "name": "stdout",
     "output_type": "stream",
     "text": [
      "[download] fragment not found; Skipping fragment 103 ...\n"
     ]
    },
    {
     "name": "stderr",
     "output_type": "stream",
     "text": [
      "[download] Got error: HTTP Error 526: None\n"
     ]
    },
    {
     "name": "stdout",
     "output_type": "stream",
     "text": [
      "[download] fragment not found; Skipping fragment 104 ...\n"
     ]
    },
    {
     "name": "stderr",
     "output_type": "stream",
     "text": [
      "[download] Got error: HTTP Error 526: None\n"
     ]
    },
    {
     "name": "stdout",
     "output_type": "stream",
     "text": [
      "[download] fragment not found; Skipping fragment 105 ...\n"
     ]
    },
    {
     "name": "stderr",
     "output_type": "stream",
     "text": [
      "[download] Got error: HTTP Error 526: None\n"
     ]
    },
    {
     "name": "stdout",
     "output_type": "stream",
     "text": [
      "[download] fragment not found; Skipping fragment 106 ...\n"
     ]
    },
    {
     "name": "stderr",
     "output_type": "stream",
     "text": [
      "[download] Got error: HTTP Error 526: None\n"
     ]
    },
    {
     "name": "stdout",
     "output_type": "stream",
     "text": [
      "[download] fragment not found; Skipping fragment 107 ...\n"
     ]
    },
    {
     "name": "stderr",
     "output_type": "stream",
     "text": [
      "[download] Got error: HTTP Error 526: None\n"
     ]
    },
    {
     "name": "stdout",
     "output_type": "stream",
     "text": [
      "[download] fragment not found; Skipping fragment 108 ...\n",
      "[download]   0.4% of ~ 814.00MiB at    8.60MiB/s ETA 01:09 (frag 5/965)  "
     ]
    },
    {
     "name": "stderr",
     "output_type": "stream",
     "text": [
      "[download] Got error: HTTP Error 526: None\n"
     ]
    },
    {
     "name": "stdout",
     "output_type": "stream",
     "text": [
      "[download] fragment not found; Skipping fragment 113 ...\n"
     ]
    },
    {
     "name": "stderr",
     "output_type": "stream",
     "text": [
      "[download] Got error: HTTP Error 526: None\n"
     ]
    },
    {
     "name": "stdout",
     "output_type": "stream",
     "text": [
      "[download] fragment not found; Skipping fragment 114 ...\n"
     ]
    },
    {
     "name": "stderr",
     "output_type": "stream",
     "text": [
      "[download] Got error: HTTP Error 526: None\n"
     ]
    },
    {
     "name": "stdout",
     "output_type": "stream",
     "text": [
      "[download] fragment not found; Skipping fragment 115 ...\n"
     ]
    },
    {
     "name": "stderr",
     "output_type": "stream",
     "text": [
      "[download] Got error: HTTP Error 526: None\n"
     ]
    },
    {
     "name": "stdout",
     "output_type": "stream",
     "text": [
      "[download] fragment not found; Skipping fragment 116 ...\n"
     ]
    },
    {
     "name": "stderr",
     "output_type": "stream",
     "text": [
      "[download] Got error: HTTP Error 526: None\n"
     ]
    },
    {
     "name": "stdout",
     "output_type": "stream",
     "text": [
      "[download] fragment not found; Skipping fragment 117 ...\n"
     ]
    },
    {
     "name": "stderr",
     "output_type": "stream",
     "text": [
      "[download] Got error: HTTP Error 526: None\n"
     ]
    },
    {
     "name": "stdout",
     "output_type": "stream",
     "text": [
      "[download] fragment not found; Skipping fragment 118 ...\n"
     ]
    },
    {
     "name": "stderr",
     "output_type": "stream",
     "text": [
      "[download] Got error: HTTP Error 526: None\n"
     ]
    },
    {
     "name": "stdout",
     "output_type": "stream",
     "text": [
      "[download] fragment not found; Skipping fragment 119 ...\n"
     ]
    },
    {
     "name": "stderr",
     "output_type": "stream",
     "text": [
      "[download] Got error: HTTP Error 526: None\n"
     ]
    },
    {
     "name": "stdout",
     "output_type": "stream",
     "text": [
      "[download] fragment not found; Skipping fragment 120 ...\n"
     ]
    },
    {
     "name": "stderr",
     "output_type": "stream",
     "text": [
      "[download] Got error: HTTP Error 526: None\n"
     ]
    },
    {
     "name": "stdout",
     "output_type": "stream",
     "text": [
      "[download] fragment not found; Skipping fragment 121 ...\n"
     ]
    },
    {
     "name": "stderr",
     "output_type": "stream",
     "text": [
      "[download] Got error: HTTP Error 526: None\n"
     ]
    },
    {
     "name": "stdout",
     "output_type": "stream",
     "text": [
      "[download] fragment not found; Skipping fragment 122 ...\n"
     ]
    },
    {
     "name": "stderr",
     "output_type": "stream",
     "text": [
      "[download] Got error: HTTP Error 526: None\n"
     ]
    },
    {
     "name": "stdout",
     "output_type": "stream",
     "text": [
      "[download] fragment not found; Skipping fragment 123 ...\n"
     ]
    },
    {
     "name": "stderr",
     "output_type": "stream",
     "text": [
      "[download] Got error: HTTP Error 526: None\n"
     ]
    },
    {
     "name": "stdout",
     "output_type": "stream",
     "text": [
      "[download] fragment not found; Skipping fragment 124 ...\n"
     ]
    },
    {
     "name": "stderr",
     "output_type": "stream",
     "text": [
      "[download] Got error: HTTP Error 526: None\n"
     ]
    },
    {
     "name": "stdout",
     "output_type": "stream",
     "text": [
      "[download] fragment not found; Skipping fragment 125 ...\n"
     ]
    },
    {
     "name": "stderr",
     "output_type": "stream",
     "text": [
      "[download] Got error: HTTP Error 526: None\n"
     ]
    },
    {
     "name": "stdout",
     "output_type": "stream",
     "text": [
      "[download] fragment not found; Skipping fragment 126 ...\n"
     ]
    },
    {
     "name": "stderr",
     "output_type": "stream",
     "text": [
      "[download] Got error: HTTP Error 526: None\n"
     ]
    },
    {
     "name": "stdout",
     "output_type": "stream",
     "text": [
      "[download] fragment not found; Skipping fragment 127 ...\n"
     ]
    },
    {
     "name": "stderr",
     "output_type": "stream",
     "text": [
      "[download] Got error: HTTP Error 526: None\n"
     ]
    },
    {
     "name": "stdout",
     "output_type": "stream",
     "text": [
      "[download] fragment not found; Skipping fragment 128 ...\n"
     ]
    },
    {
     "name": "stderr",
     "output_type": "stream",
     "text": [
      "[download] Got error: HTTP Error 526: None\n"
     ]
    },
    {
     "name": "stdout",
     "output_type": "stream",
     "text": [
      "[download] fragment not found; Skipping fragment 129 ...\n"
     ]
    },
    {
     "name": "stderr",
     "output_type": "stream",
     "text": [
      "[download] Got error: HTTP Error 526: None\n"
     ]
    },
    {
     "name": "stdout",
     "output_type": "stream",
     "text": [
      "[download] fragment not found; Skipping fragment 130 ...\n"
     ]
    },
    {
     "name": "stderr",
     "output_type": "stream",
     "text": [
      "[download] Got error: HTTP Error 526: None\n"
     ]
    },
    {
     "name": "stdout",
     "output_type": "stream",
     "text": [
      "[download] fragment not found; Skipping fragment 131 ...\n"
     ]
    },
    {
     "name": "stderr",
     "output_type": "stream",
     "text": [
      "[download] Got error: HTTP Error 526: None\n"
     ]
    },
    {
     "name": "stdout",
     "output_type": "stream",
     "text": [
      "[download] fragment not found; Skipping fragment 132 ...\n"
     ]
    },
    {
     "name": "stderr",
     "output_type": "stream",
     "text": [
      "[download] Got error: HTTP Error 526: None\n"
     ]
    },
    {
     "name": "stdout",
     "output_type": "stream",
     "text": [
      "[download] fragment not found; Skipping fragment 133 ...\n"
     ]
    },
    {
     "name": "stderr",
     "output_type": "stream",
     "text": [
      "[download] Got error: HTTP Error 526: None\n"
     ]
    },
    {
     "name": "stdout",
     "output_type": "stream",
     "text": [
      "[download] fragment not found; Skipping fragment 134 ...\n"
     ]
    },
    {
     "name": "stderr",
     "output_type": "stream",
     "text": [
      "[download] Got error: HTTP Error 526: None\n"
     ]
    },
    {
     "name": "stdout",
     "output_type": "stream",
     "text": [
      "[download] fragment not found; Skipping fragment 135 ...\n"
     ]
    },
    {
     "name": "stderr",
     "output_type": "stream",
     "text": [
      "[download] Got error: HTTP Error 526: None\n"
     ]
    },
    {
     "name": "stdout",
     "output_type": "stream",
     "text": [
      "[download] fragment not found; Skipping fragment 136 ...\n"
     ]
    },
    {
     "name": "stderr",
     "output_type": "stream",
     "text": [
      "[download] Got error: HTTP Error 526: None\n"
     ]
    },
    {
     "name": "stdout",
     "output_type": "stream",
     "text": [
      "[download] fragment not found; Skipping fragment 137 ...\n"
     ]
    },
    {
     "name": "stderr",
     "output_type": "stream",
     "text": [
      "[download] Got error: HTTP Error 526: None\n"
     ]
    },
    {
     "name": "stdout",
     "output_type": "stream",
     "text": [
      "[download] fragment not found; Skipping fragment 138 ...\n"
     ]
    },
    {
     "name": "stderr",
     "output_type": "stream",
     "text": [
      "[download] Got error: HTTP Error 526: None\n"
     ]
    },
    {
     "name": "stdout",
     "output_type": "stream",
     "text": [
      "[download] fragment not found; Skipping fragment 139 ...\n"
     ]
    },
    {
     "name": "stderr",
     "output_type": "stream",
     "text": [
      "[download] Got error: HTTP Error 526: None\n"
     ]
    },
    {
     "name": "stdout",
     "output_type": "stream",
     "text": [
      "[download] fragment not found; Skipping fragment 140 ...\n"
     ]
    },
    {
     "name": "stderr",
     "output_type": "stream",
     "text": [
      "[download] Got error: HTTP Error 526: None\n"
     ]
    },
    {
     "name": "stdout",
     "output_type": "stream",
     "text": [
      "[download] fragment not found; Skipping fragment 141 ...\n"
     ]
    },
    {
     "name": "stderr",
     "output_type": "stream",
     "text": [
      "[download] Got error: HTTP Error 526: None\n"
     ]
    },
    {
     "name": "stdout",
     "output_type": "stream",
     "text": [
      "[download] fragment not found; Skipping fragment 142 ...\n"
     ]
    },
    {
     "name": "stderr",
     "output_type": "stream",
     "text": [
      "[download] Got error: HTTP Error 526: None\n"
     ]
    },
    {
     "name": "stdout",
     "output_type": "stream",
     "text": [
      "[download] fragment not found; Skipping fragment 143 ...\n"
     ]
    },
    {
     "name": "stderr",
     "output_type": "stream",
     "text": [
      "[download] Got error: HTTP Error 526: None\n"
     ]
    },
    {
     "name": "stdout",
     "output_type": "stream",
     "text": [
      "[download] fragment not found; Skipping fragment 144 ...\n"
     ]
    },
    {
     "name": "stderr",
     "output_type": "stream",
     "text": [
      "[download] Got error: HTTP Error 526: None\n"
     ]
    },
    {
     "name": "stdout",
     "output_type": "stream",
     "text": [
      "[download] fragment not found; Skipping fragment 145 ...\n"
     ]
    },
    {
     "name": "stderr",
     "output_type": "stream",
     "text": [
      "[download] Got error: HTTP Error 526: None\n"
     ]
    },
    {
     "name": "stdout",
     "output_type": "stream",
     "text": [
      "[download] fragment not found; Skipping fragment 146 ...\n"
     ]
    },
    {
     "name": "stderr",
     "output_type": "stream",
     "text": [
      "[download] Got error: HTTP Error 526: None\n"
     ]
    },
    {
     "name": "stdout",
     "output_type": "stream",
     "text": [
      "[download] fragment not found; Skipping fragment 147 ...\n"
     ]
    },
    {
     "name": "stderr",
     "output_type": "stream",
     "text": [
      "[download] Got error: HTTP Error 526: None\n"
     ]
    },
    {
     "name": "stdout",
     "output_type": "stream",
     "text": [
      "[download] fragment not found; Skipping fragment 148 ...\n"
     ]
    },
    {
     "name": "stderr",
     "output_type": "stream",
     "text": [
      "[download] Got error: HTTP Error 526: None\n"
     ]
    },
    {
     "name": "stdout",
     "output_type": "stream",
     "text": [
      "[download] fragment not found; Skipping fragment 149 ...\n"
     ]
    },
    {
     "name": "stderr",
     "output_type": "stream",
     "text": [
      "[download] Got error: HTTP Error 526: None\n"
     ]
    },
    {
     "name": "stdout",
     "output_type": "stream",
     "text": [
      "[download] fragment not found; Skipping fragment 150 ...\n"
     ]
    },
    {
     "name": "stderr",
     "output_type": "stream",
     "text": [
      "[download] Got error: HTTP Error 526: None\n"
     ]
    },
    {
     "name": "stdout",
     "output_type": "stream",
     "text": [
      "[download] fragment not found; Skipping fragment 151 ...\n"
     ]
    },
    {
     "name": "stderr",
     "output_type": "stream",
     "text": [
      "[download] Got error: HTTP Error 526: None\n"
     ]
    },
    {
     "name": "stdout",
     "output_type": "stream",
     "text": [
      "[download] fragment not found; Skipping fragment 152 ...\n"
     ]
    },
    {
     "name": "stderr",
     "output_type": "stream",
     "text": [
      "[download] Got error: HTTP Error 526: None\n"
     ]
    },
    {
     "name": "stdout",
     "output_type": "stream",
     "text": [
      "[download] fragment not found; Skipping fragment 153 ...\n"
     ]
    },
    {
     "name": "stderr",
     "output_type": "stream",
     "text": [
      "[download] Got error: HTTP Error 526: None\n"
     ]
    },
    {
     "name": "stdout",
     "output_type": "stream",
     "text": [
      "[download] fragment not found; Skipping fragment 154 ...\n"
     ]
    },
    {
     "name": "stderr",
     "output_type": "stream",
     "text": [
      "[download] Got error: HTTP Error 526: None\n"
     ]
    },
    {
     "name": "stdout",
     "output_type": "stream",
     "text": [
      "[download] fragment not found; Skipping fragment 155 ...\n"
     ]
    },
    {
     "name": "stderr",
     "output_type": "stream",
     "text": [
      "[download] Got error: HTTP Error 526: None\n"
     ]
    },
    {
     "name": "stdout",
     "output_type": "stream",
     "text": [
      "[download] fragment not found; Skipping fragment 156 ...\n"
     ]
    },
    {
     "name": "stderr",
     "output_type": "stream",
     "text": [
      "[download] Got error: HTTP Error 526: None\n"
     ]
    },
    {
     "name": "stdout",
     "output_type": "stream",
     "text": [
      "[download] fragment not found; Skipping fragment 157 ...\n"
     ]
    },
    {
     "name": "stderr",
     "output_type": "stream",
     "text": [
      "[download] Got error: HTTP Error 526: None\n"
     ]
    },
    {
     "name": "stdout",
     "output_type": "stream",
     "text": [
      "[download] fragment not found; Skipping fragment 158 ...\n"
     ]
    },
    {
     "name": "stderr",
     "output_type": "stream",
     "text": [
      "[download] Got error: HTTP Error 526: None\n"
     ]
    },
    {
     "name": "stdout",
     "output_type": "stream",
     "text": [
      "[download] fragment not found; Skipping fragment 159 ...\n"
     ]
    },
    {
     "name": "stderr",
     "output_type": "stream",
     "text": [
      "[download] Got error: HTTP Error 526: None\n"
     ]
    },
    {
     "name": "stdout",
     "output_type": "stream",
     "text": [
      "[download] fragment not found; Skipping fragment 160 ...\n"
     ]
    },
    {
     "name": "stderr",
     "output_type": "stream",
     "text": [
      "[download] Got error: HTTP Error 526: None\n"
     ]
    },
    {
     "name": "stdout",
     "output_type": "stream",
     "text": [
      "[download] fragment not found; Skipping fragment 161 ...\n"
     ]
    },
    {
     "name": "stderr",
     "output_type": "stream",
     "text": [
      "[download] Got error: HTTP Error 526: None\n"
     ]
    },
    {
     "name": "stdout",
     "output_type": "stream",
     "text": [
      "[download] fragment not found; Skipping fragment 162 ...\n"
     ]
    },
    {
     "name": "stderr",
     "output_type": "stream",
     "text": [
      "[download] Got error: HTTP Error 526: None\n"
     ]
    },
    {
     "name": "stdout",
     "output_type": "stream",
     "text": [
      "[download] fragment not found; Skipping fragment 163 ...\n"
     ]
    },
    {
     "name": "stderr",
     "output_type": "stream",
     "text": [
      "[download] Got error: HTTP Error 526: None\n"
     ]
    },
    {
     "name": "stdout",
     "output_type": "stream",
     "text": [
      "[download] fragment not found; Skipping fragment 164 ...\n"
     ]
    },
    {
     "name": "stderr",
     "output_type": "stream",
     "text": [
      "[download] Got error: HTTP Error 526: None\n"
     ]
    },
    {
     "name": "stdout",
     "output_type": "stream",
     "text": [
      "[download] fragment not found; Skipping fragment 165 ...\n"
     ]
    },
    {
     "name": "stderr",
     "output_type": "stream",
     "text": [
      "[download] Got error: HTTP Error 526: None\n"
     ]
    },
    {
     "name": "stdout",
     "output_type": "stream",
     "text": [
      "[download] fragment not found; Skipping fragment 166 ...\n"
     ]
    },
    {
     "name": "stderr",
     "output_type": "stream",
     "text": [
      "[download] Got error: HTTP Error 526: None\n"
     ]
    },
    {
     "name": "stdout",
     "output_type": "stream",
     "text": [
      "[download] fragment not found; Skipping fragment 167 ...\n"
     ]
    },
    {
     "name": "stderr",
     "output_type": "stream",
     "text": [
      "[download] Got error: HTTP Error 526: None\n"
     ]
    },
    {
     "name": "stdout",
     "output_type": "stream",
     "text": [
      "[download] fragment not found; Skipping fragment 168 ...\n"
     ]
    },
    {
     "name": "stderr",
     "output_type": "stream",
     "text": [
      "[download] Got error: HTTP Error 526: None\n"
     ]
    },
    {
     "name": "stdout",
     "output_type": "stream",
     "text": [
      "[download] fragment not found; Skipping fragment 169 ...\n"
     ]
    },
    {
     "name": "stderr",
     "output_type": "stream",
     "text": [
      "[download] Got error: HTTP Error 526: None\n"
     ]
    },
    {
     "name": "stdout",
     "output_type": "stream",
     "text": [
      "[download] fragment not found; Skipping fragment 170 ...\n"
     ]
    },
    {
     "name": "stderr",
     "output_type": "stream",
     "text": [
      "[download] Got error: HTTP Error 526: None\n"
     ]
    },
    {
     "name": "stdout",
     "output_type": "stream",
     "text": [
      "[download] fragment not found; Skipping fragment 171 ...\n"
     ]
    },
    {
     "name": "stderr",
     "output_type": "stream",
     "text": [
      "[download] Got error: HTTP Error 526: None\n"
     ]
    },
    {
     "name": "stdout",
     "output_type": "stream",
     "text": [
      "[download] fragment not found; Skipping fragment 172 ...\n"
     ]
    },
    {
     "name": "stderr",
     "output_type": "stream",
     "text": [
      "[download] Got error: HTTP Error 526: None\n"
     ]
    },
    {
     "name": "stdout",
     "output_type": "stream",
     "text": [
      "[download] fragment not found; Skipping fragment 173 ...\n"
     ]
    },
    {
     "name": "stderr",
     "output_type": "stream",
     "text": [
      "[download] Got error: HTTP Error 526: None\n"
     ]
    },
    {
     "name": "stdout",
     "output_type": "stream",
     "text": [
      "[download] fragment not found; Skipping fragment 174 ...\n"
     ]
    },
    {
     "name": "stderr",
     "output_type": "stream",
     "text": [
      "[download] Got error: HTTP Error 526: None\n"
     ]
    },
    {
     "name": "stdout",
     "output_type": "stream",
     "text": [
      "[download] fragment not found; Skipping fragment 175 ...\n"
     ]
    },
    {
     "name": "stderr",
     "output_type": "stream",
     "text": [
      "[download] Got error: HTTP Error 526: None\n"
     ]
    },
    {
     "name": "stdout",
     "output_type": "stream",
     "text": [
      "[download] fragment not found; Skipping fragment 176 ...\n"
     ]
    },
    {
     "name": "stderr",
     "output_type": "stream",
     "text": [
      "[download] Got error: HTTP Error 526: None\n"
     ]
    },
    {
     "name": "stdout",
     "output_type": "stream",
     "text": [
      "[download] fragment not found; Skipping fragment 177 ...\n"
     ]
    },
    {
     "name": "stderr",
     "output_type": "stream",
     "text": [
      "[download] Got error: HTTP Error 526: None\n"
     ]
    },
    {
     "name": "stdout",
     "output_type": "stream",
     "text": [
      "[download] fragment not found; Skipping fragment 178 ...\n"
     ]
    },
    {
     "name": "stderr",
     "output_type": "stream",
     "text": [
      "[download] Got error: HTTP Error 526: None\n"
     ]
    },
    {
     "name": "stdout",
     "output_type": "stream",
     "text": [
      "[download] fragment not found; Skipping fragment 179 ...\n"
     ]
    },
    {
     "name": "stderr",
     "output_type": "stream",
     "text": [
      "[download] Got error: HTTP Error 526: None\n"
     ]
    },
    {
     "name": "stdout",
     "output_type": "stream",
     "text": [
      "[download] fragment not found; Skipping fragment 180 ...\n"
     ]
    },
    {
     "name": "stderr",
     "output_type": "stream",
     "text": [
      "[download] Got error: HTTP Error 526: None\n"
     ]
    },
    {
     "name": "stdout",
     "output_type": "stream",
     "text": [
      "[download] fragment not found; Skipping fragment 181 ...\n"
     ]
    },
    {
     "name": "stderr",
     "output_type": "stream",
     "text": [
      "[download] Got error: HTTP Error 526: None\n"
     ]
    },
    {
     "name": "stdout",
     "output_type": "stream",
     "text": [
      "[download] fragment not found; Skipping fragment 182 ...\n"
     ]
    },
    {
     "name": "stderr",
     "output_type": "stream",
     "text": [
      "[download] Got error: HTTP Error 526: None\n"
     ]
    },
    {
     "name": "stdout",
     "output_type": "stream",
     "text": [
      "[download] fragment not found; Skipping fragment 183 ...\n"
     ]
    },
    {
     "name": "stderr",
     "output_type": "stream",
     "text": [
      "[download] Got error: HTTP Error 526: None\n"
     ]
    },
    {
     "name": "stdout",
     "output_type": "stream",
     "text": [
      "[download] fragment not found; Skipping fragment 184 ...\n"
     ]
    },
    {
     "name": "stderr",
     "output_type": "stream",
     "text": [
      "[download] Got error: HTTP Error 526: None\n"
     ]
    },
    {
     "name": "stdout",
     "output_type": "stream",
     "text": [
      "[download] fragment not found; Skipping fragment 185 ...\n"
     ]
    },
    {
     "name": "stderr",
     "output_type": "stream",
     "text": [
      "[download] Got error: HTTP Error 526: None\n"
     ]
    },
    {
     "name": "stdout",
     "output_type": "stream",
     "text": [
      "[download] fragment not found; Skipping fragment 186 ...\n"
     ]
    },
    {
     "name": "stderr",
     "output_type": "stream",
     "text": [
      "[download] Got error: HTTP Error 526: None\n"
     ]
    },
    {
     "name": "stdout",
     "output_type": "stream",
     "text": [
      "[download] fragment not found; Skipping fragment 187 ...\n"
     ]
    },
    {
     "name": "stderr",
     "output_type": "stream",
     "text": [
      "[download] Got error: HTTP Error 526: None\n"
     ]
    },
    {
     "name": "stdout",
     "output_type": "stream",
     "text": [
      "[download] fragment not found; Skipping fragment 188 ...\n"
     ]
    },
    {
     "name": "stderr",
     "output_type": "stream",
     "text": [
      "[download] Got error: HTTP Error 526: None\n"
     ]
    },
    {
     "name": "stdout",
     "output_type": "stream",
     "text": [
      "[download] fragment not found; Skipping fragment 189 ...\n"
     ]
    },
    {
     "name": "stderr",
     "output_type": "stream",
     "text": [
      "[download] Got error: HTTP Error 526: None\n"
     ]
    },
    {
     "name": "stdout",
     "output_type": "stream",
     "text": [
      "[download] fragment not found; Skipping fragment 190 ...\n"
     ]
    },
    {
     "name": "stderr",
     "output_type": "stream",
     "text": [
      "[download] Got error: HTTP Error 526: None\n"
     ]
    },
    {
     "name": "stdout",
     "output_type": "stream",
     "text": [
      "[download] fragment not found; Skipping fragment 191 ...\n"
     ]
    },
    {
     "name": "stderr",
     "output_type": "stream",
     "text": [
      "[download] Got error: HTTP Error 526: None\n"
     ]
    },
    {
     "name": "stdout",
     "output_type": "stream",
     "text": [
      "[download] fragment not found; Skipping fragment 192 ...\n"
     ]
    },
    {
     "name": "stderr",
     "output_type": "stream",
     "text": [
      "[download] Got error: HTTP Error 526: None\n"
     ]
    },
    {
     "name": "stdout",
     "output_type": "stream",
     "text": [
      "[download] fragment not found; Skipping fragment 193 ...\n"
     ]
    },
    {
     "name": "stderr",
     "output_type": "stream",
     "text": [
      "[download] Got error: HTTP Error 526: None\n"
     ]
    },
    {
     "name": "stdout",
     "output_type": "stream",
     "text": [
      "[download] fragment not found; Skipping fragment 194 ...\n"
     ]
    },
    {
     "name": "stderr",
     "output_type": "stream",
     "text": [
      "[download] Got error: HTTP Error 526: None\n"
     ]
    },
    {
     "name": "stdout",
     "output_type": "stream",
     "text": [
      "[download] fragment not found; Skipping fragment 195 ...\n"
     ]
    },
    {
     "name": "stderr",
     "output_type": "stream",
     "text": [
      "[download] Got error: HTTP Error 526: None\n"
     ]
    },
    {
     "name": "stdout",
     "output_type": "stream",
     "text": [
      "[download] fragment not found; Skipping fragment 196 ...\n"
     ]
    },
    {
     "name": "stderr",
     "output_type": "stream",
     "text": [
      "[download] Got error: HTTP Error 526: None\n"
     ]
    },
    {
     "name": "stdout",
     "output_type": "stream",
     "text": [
      "[download] fragment not found; Skipping fragment 197 ...\n"
     ]
    },
    {
     "name": "stderr",
     "output_type": "stream",
     "text": [
      "[download] Got error: HTTP Error 526: None\n"
     ]
    },
    {
     "name": "stdout",
     "output_type": "stream",
     "text": [
      "[download] fragment not found; Skipping fragment 198 ...\n"
     ]
    },
    {
     "name": "stderr",
     "output_type": "stream",
     "text": [
      "[download] Got error: HTTP Error 526: None\n"
     ]
    },
    {
     "name": "stdout",
     "output_type": "stream",
     "text": [
      "[download] fragment not found; Skipping fragment 199 ...\n"
     ]
    },
    {
     "name": "stderr",
     "output_type": "stream",
     "text": [
      "[download] Got error: HTTP Error 526: None\n"
     ]
    },
    {
     "name": "stdout",
     "output_type": "stream",
     "text": [
      "[download] fragment not found; Skipping fragment 200 ...\n"
     ]
    },
    {
     "name": "stderr",
     "output_type": "stream",
     "text": [
      "[download] Got error: HTTP Error 526: None\n"
     ]
    },
    {
     "name": "stdout",
     "output_type": "stream",
     "text": [
      "[download] fragment not found; Skipping fragment 201 ...\n"
     ]
    },
    {
     "name": "stderr",
     "output_type": "stream",
     "text": [
      "[download] Got error: HTTP Error 526: None\n"
     ]
    },
    {
     "name": "stdout",
     "output_type": "stream",
     "text": [
      "[download] fragment not found; Skipping fragment 202 ...\n"
     ]
    },
    {
     "name": "stderr",
     "output_type": "stream",
     "text": [
      "[download] Got error: HTTP Error 526: None\n"
     ]
    },
    {
     "name": "stdout",
     "output_type": "stream",
     "text": [
      "[download] fragment not found; Skipping fragment 203 ...\n"
     ]
    },
    {
     "name": "stderr",
     "output_type": "stream",
     "text": [
      "[download] Got error: HTTP Error 526: None\n"
     ]
    },
    {
     "name": "stdout",
     "output_type": "stream",
     "text": [
      "[download] fragment not found; Skipping fragment 204 ...\n"
     ]
    },
    {
     "name": "stderr",
     "output_type": "stream",
     "text": [
      "[download] Got error: HTTP Error 526: None\n"
     ]
    },
    {
     "name": "stdout",
     "output_type": "stream",
     "text": [
      "[download] fragment not found; Skipping fragment 205 ...\n"
     ]
    },
    {
     "name": "stderr",
     "output_type": "stream",
     "text": [
      "[download] Got error: HTTP Error 526: None\n"
     ]
    },
    {
     "name": "stdout",
     "output_type": "stream",
     "text": [
      "[download] fragment not found; Skipping fragment 206 ...\n"
     ]
    },
    {
     "name": "stderr",
     "output_type": "stream",
     "text": [
      "[download] Got error: HTTP Error 526: None\n"
     ]
    },
    {
     "name": "stdout",
     "output_type": "stream",
     "text": [
      "[download] fragment not found; Skipping fragment 207 ...\n"
     ]
    },
    {
     "name": "stderr",
     "output_type": "stream",
     "text": [
      "[download] Got error: HTTP Error 526: None\n"
     ]
    },
    {
     "name": "stdout",
     "output_type": "stream",
     "text": [
      "[download] fragment not found; Skipping fragment 208 ...\n"
     ]
    },
    {
     "name": "stderr",
     "output_type": "stream",
     "text": [
      "[download] Got error: HTTP Error 526: None\n"
     ]
    },
    {
     "name": "stdout",
     "output_type": "stream",
     "text": [
      "[download] fragment not found; Skipping fragment 209 ...\n"
     ]
    },
    {
     "name": "stderr",
     "output_type": "stream",
     "text": [
      "[download] Got error: HTTP Error 526: None\n"
     ]
    },
    {
     "name": "stdout",
     "output_type": "stream",
     "text": [
      "[download] fragment not found; Skipping fragment 210 ...\n"
     ]
    },
    {
     "name": "stderr",
     "output_type": "stream",
     "text": [
      "[download] Got error: HTTP Error 526: None\n"
     ]
    },
    {
     "name": "stdout",
     "output_type": "stream",
     "text": [
      "[download] fragment not found; Skipping fragment 211 ...\n"
     ]
    },
    {
     "name": "stderr",
     "output_type": "stream",
     "text": [
      "[download] Got error: HTTP Error 526: None\n"
     ]
    },
    {
     "name": "stdout",
     "output_type": "stream",
     "text": [
      "[download] fragment not found; Skipping fragment 212 ...\n"
     ]
    },
    {
     "name": "stderr",
     "output_type": "stream",
     "text": [
      "[download] Got error: HTTP Error 526: None\n"
     ]
    },
    {
     "name": "stdout",
     "output_type": "stream",
     "text": [
      "[download] fragment not found; Skipping fragment 213 ...\n"
     ]
    },
    {
     "name": "stderr",
     "output_type": "stream",
     "text": [
      "[download] Got error: HTTP Error 526: None\n"
     ]
    },
    {
     "name": "stdout",
     "output_type": "stream",
     "text": [
      "[download] fragment not found; Skipping fragment 214 ...\n"
     ]
    },
    {
     "name": "stderr",
     "output_type": "stream",
     "text": [
      "[download] Got error: HTTP Error 526: None\n"
     ]
    },
    {
     "name": "stdout",
     "output_type": "stream",
     "text": [
      "[download] fragment not found; Skipping fragment 215 ...\n"
     ]
    },
    {
     "name": "stderr",
     "output_type": "stream",
     "text": [
      "[download] Got error: HTTP Error 526: None\n"
     ]
    },
    {
     "name": "stdout",
     "output_type": "stream",
     "text": [
      "[download] fragment not found; Skipping fragment 216 ...\n"
     ]
    },
    {
     "name": "stderr",
     "output_type": "stream",
     "text": [
      "[download] Got error: HTTP Error 526: None\n"
     ]
    },
    {
     "name": "stdout",
     "output_type": "stream",
     "text": [
      "[download] fragment not found; Skipping fragment 217 ...\n"
     ]
    },
    {
     "name": "stderr",
     "output_type": "stream",
     "text": [
      "[download] Got error: HTTP Error 526: None\n"
     ]
    },
    {
     "name": "stdout",
     "output_type": "stream",
     "text": [
      "[download] fragment not found; Skipping fragment 218 ...\n"
     ]
    },
    {
     "name": "stderr",
     "output_type": "stream",
     "text": [
      "[download] Got error: HTTP Error 526: None\n"
     ]
    },
    {
     "name": "stdout",
     "output_type": "stream",
     "text": [
      "[download] fragment not found; Skipping fragment 219 ...\n"
     ]
    },
    {
     "name": "stderr",
     "output_type": "stream",
     "text": [
      "[download] Got error: HTTP Error 526: None\n"
     ]
    },
    {
     "name": "stdout",
     "output_type": "stream",
     "text": [
      "[download] fragment not found; Skipping fragment 220 ...\n"
     ]
    },
    {
     "name": "stderr",
     "output_type": "stream",
     "text": [
      "[download] Got error: HTTP Error 526: None\n"
     ]
    },
    {
     "name": "stdout",
     "output_type": "stream",
     "text": [
      "[download] fragment not found; Skipping fragment 221 ...\n"
     ]
    },
    {
     "name": "stderr",
     "output_type": "stream",
     "text": [
      "[download] Got error: HTTP Error 526: None\n"
     ]
    },
    {
     "name": "stdout",
     "output_type": "stream",
     "text": [
      "[download] fragment not found; Skipping fragment 222 ...\n"
     ]
    },
    {
     "name": "stderr",
     "output_type": "stream",
     "text": [
      "[download] Got error: HTTP Error 526: None\n"
     ]
    },
    {
     "name": "stdout",
     "output_type": "stream",
     "text": [
      "[download] fragment not found; Skipping fragment 223 ...\n"
     ]
    },
    {
     "name": "stderr",
     "output_type": "stream",
     "text": [
      "[download] Got error: HTTP Error 526: None\n"
     ]
    },
    {
     "name": "stdout",
     "output_type": "stream",
     "text": [
      "[download] fragment not found; Skipping fragment 224 ...\n"
     ]
    },
    {
     "name": "stderr",
     "output_type": "stream",
     "text": [
      "[download] Got error: HTTP Error 526: None\n"
     ]
    },
    {
     "name": "stdout",
     "output_type": "stream",
     "text": [
      "[download] fragment not found; Skipping fragment 225 ...\n"
     ]
    },
    {
     "name": "stderr",
     "output_type": "stream",
     "text": [
      "[download] Got error: HTTP Error 526: None\n"
     ]
    },
    {
     "name": "stdout",
     "output_type": "stream",
     "text": [
      "[download] fragment not found; Skipping fragment 226 ...\n"
     ]
    },
    {
     "name": "stderr",
     "output_type": "stream",
     "text": [
      "[download] Got error: HTTP Error 526: None\n"
     ]
    },
    {
     "name": "stdout",
     "output_type": "stream",
     "text": [
      "[download] fragment not found; Skipping fragment 227 ...\n"
     ]
    },
    {
     "name": "stderr",
     "output_type": "stream",
     "text": [
      "[download] Got error: HTTP Error 526: None\n"
     ]
    },
    {
     "name": "stdout",
     "output_type": "stream",
     "text": [
      "[download] fragment not found; Skipping fragment 228 ...\n"
     ]
    },
    {
     "name": "stderr",
     "output_type": "stream",
     "text": [
      "[download] Got error: HTTP Error 526: None\n"
     ]
    },
    {
     "name": "stdout",
     "output_type": "stream",
     "text": [
      "[download] fragment not found; Skipping fragment 229 ...\n"
     ]
    },
    {
     "name": "stderr",
     "output_type": "stream",
     "text": [
      "[download] Got error: HTTP Error 526: None\n"
     ]
    },
    {
     "name": "stdout",
     "output_type": "stream",
     "text": [
      "[download] fragment not found; Skipping fragment 230 ...\n"
     ]
    },
    {
     "name": "stderr",
     "output_type": "stream",
     "text": [
      "[download] Got error: HTTP Error 526: None\n"
     ]
    },
    {
     "name": "stdout",
     "output_type": "stream",
     "text": [
      "[download] fragment not found; Skipping fragment 231 ...\n"
     ]
    },
    {
     "name": "stderr",
     "output_type": "stream",
     "text": [
      "[download] Got error: HTTP Error 526: None\n"
     ]
    },
    {
     "name": "stdout",
     "output_type": "stream",
     "text": [
      "[download] fragment not found; Skipping fragment 232 ...\n"
     ]
    },
    {
     "name": "stderr",
     "output_type": "stream",
     "text": [
      "[download] Got error: HTTP Error 526: None\n"
     ]
    },
    {
     "name": "stdout",
     "output_type": "stream",
     "text": [
      "[download] fragment not found; Skipping fragment 233 ...\n"
     ]
    },
    {
     "name": "stderr",
     "output_type": "stream",
     "text": [
      "[download] Got error: HTTP Error 526: None\n"
     ]
    },
    {
     "name": "stdout",
     "output_type": "stream",
     "text": [
      "[download] fragment not found; Skipping fragment 234 ...\n"
     ]
    },
    {
     "name": "stderr",
     "output_type": "stream",
     "text": [
      "[download] Got error: HTTP Error 526: None\n"
     ]
    },
    {
     "name": "stdout",
     "output_type": "stream",
     "text": [
      "[download] fragment not found; Skipping fragment 235 ...\n"
     ]
    },
    {
     "name": "stderr",
     "output_type": "stream",
     "text": [
      "[download] Got error: HTTP Error 526: None\n"
     ]
    },
    {
     "name": "stdout",
     "output_type": "stream",
     "text": [
      "[download] fragment not found; Skipping fragment 236 ...\n"
     ]
    },
    {
     "name": "stderr",
     "output_type": "stream",
     "text": [
      "[download] Got error: HTTP Error 526: None\n"
     ]
    },
    {
     "name": "stdout",
     "output_type": "stream",
     "text": [
      "[download] fragment not found; Skipping fragment 237 ...\n"
     ]
    },
    {
     "name": "stderr",
     "output_type": "stream",
     "text": [
      "[download] Got error: HTTP Error 526: None\n"
     ]
    },
    {
     "name": "stdout",
     "output_type": "stream",
     "text": [
      "[download] fragment not found; Skipping fragment 238 ...\n"
     ]
    },
    {
     "name": "stderr",
     "output_type": "stream",
     "text": [
      "[download] Got error: HTTP Error 526: None\n"
     ]
    },
    {
     "name": "stdout",
     "output_type": "stream",
     "text": [
      "[download] fragment not found; Skipping fragment 239 ...\n"
     ]
    },
    {
     "name": "stderr",
     "output_type": "stream",
     "text": [
      "[download] Got error: HTTP Error 526: None\n"
     ]
    },
    {
     "name": "stdout",
     "output_type": "stream",
     "text": [
      "[download] fragment not found; Skipping fragment 240 ...\n"
     ]
    },
    {
     "name": "stderr",
     "output_type": "stream",
     "text": [
      "[download] Got error: HTTP Error 526: None\n"
     ]
    },
    {
     "name": "stdout",
     "output_type": "stream",
     "text": [
      "[download] fragment not found; Skipping fragment 241 ...\n"
     ]
    },
    {
     "name": "stderr",
     "output_type": "stream",
     "text": [
      "[download] Got error: HTTP Error 526: None\n"
     ]
    },
    {
     "name": "stdout",
     "output_type": "stream",
     "text": [
      "[download] fragment not found; Skipping fragment 242 ...\n"
     ]
    },
    {
     "name": "stderr",
     "output_type": "stream",
     "text": [
      "[download] Got error: HTTP Error 526: None\n"
     ]
    },
    {
     "name": "stdout",
     "output_type": "stream",
     "text": [
      "[download] fragment not found; Skipping fragment 243 ...\n"
     ]
    },
    {
     "name": "stderr",
     "output_type": "stream",
     "text": [
      "[download] Got error: HTTP Error 526: None\n"
     ]
    },
    {
     "name": "stdout",
     "output_type": "stream",
     "text": [
      "[download] fragment not found; Skipping fragment 244 ...\n"
     ]
    },
    {
     "name": "stderr",
     "output_type": "stream",
     "text": [
      "[download] Got error: HTTP Error 526: None\n"
     ]
    },
    {
     "name": "stdout",
     "output_type": "stream",
     "text": [
      "[download] fragment not found; Skipping fragment 245 ...\n",
      "[download] fragment not found; Skipping fragment 246 ...\n",
      "[download] fragment not found; Skipping fragment 247 ...\n",
      "[download] fragment not found; Skipping fragment 248 ...\n",
      "[download] fragment not found; Skipping fragment 249 ...\n",
      "[download] fragment not found; Skipping fragment 250 ...\n",
      "[download] fragment not found; Skipping fragment 251 ...\n",
      "[download] fragment not found; Skipping fragment 252 ...\n",
      "[download] fragment not found; Skipping fragment 253 ...\n",
      "[download] fragment not found; Skipping fragment 254 ...\n",
      "[download] fragment not found; Skipping fragment 255 ...\n",
      "[download] fragment not found; Skipping fragment 256 ...\n",
      "[download] fragment not found; Skipping fragment 257 ...\n",
      "[download] fragment not found; Skipping fragment 258 ...\n",
      "[download] fragment not found; Skipping fragment 259 ...\n",
      "[download] fragment not found; Skipping fragment 260 ...\n",
      "[download] fragment not found; Skipping fragment 261 ...\n",
      "[download] fragment not found; Skipping fragment 262 ...\n",
      "[download] fragment not found; Skipping fragment 263 ...\n",
      "[download] fragment not found; Skipping fragment 264 ...\n",
      "[download] fragment not found; Skipping fragment 265 ...\n",
      "[download] fragment not found; Skipping fragment 266 ...\n",
      "[download] fragment not found; Skipping fragment 267 ...\n",
      "[download] fragment not found; Skipping fragment 268 ...\n",
      "[download] fragment not found; Skipping fragment 269 ...\n",
      "[download] fragment not found; Skipping fragment 270 ...\n",
      "[download] fragment not found; Skipping fragment 271 ...\n",
      "[download] fragment not found; Skipping fragment 272 ...\n",
      "[download] fragment not found; Skipping fragment 273 ...\n",
      "[download] fragment not found; Skipping fragment 274 ...\n",
      "[download] fragment not found; Skipping fragment 275 ...\n",
      "[download] fragment not found; Skipping fragment 276 ...\n",
      "[download] fragment not found; Skipping fragment 277 ...\n",
      "[download] fragment not found; Skipping fragment 278 ...\n",
      "[download] fragment not found; Skipping fragment 279 ...\n",
      "[download] fragment not found; Skipping fragment 280 ...\n",
      "[download] fragment not found; Skipping fragment 281 ...\n",
      "[download] fragment not found; Skipping fragment 282 ...\n",
      "[download] fragment not found; Skipping fragment 283 ...\n",
      "[download] fragment not found; Skipping fragment 284 ...\n",
      "[download] fragment not found; Skipping fragment 285 ...\n",
      "[download] fragment not found; Skipping fragment 286 ...\n",
      "[download] fragment not found; Skipping fragment 287 ...\n",
      "[download] fragment not found; Skipping fragment 288 ...\n",
      "[download] fragment not found; Skipping fragment 289 ...\n",
      "[download] fragment not found; Skipping fragment 290 ...\n",
      "[download] fragment not found; Skipping fragment 291 ...\n",
      "[download] fragment not found; Skipping fragment 292 ...\n",
      "[download] fragment not found; Skipping fragment 293 ...\n",
      "[download] fragment not found; Skipping fragment 294 ...\n",
      "[download] fragment not found; Skipping fragment 295 ...\n",
      "[download] fragment not found; Skipping fragment 296 ...\n",
      "[download] fragment not found; Skipping fragment 297 ...\n",
      "[download] fragment not found; Skipping fragment 298 ...\n",
      "[download] fragment not found; Skipping fragment 299 ...\n",
      "[download] fragment not found; Skipping fragment 300 ...\n",
      "[download] fragment not found; Skipping fragment 301 ...\n",
      "[download] fragment not found; Skipping fragment 302 ...\n",
      "[download] fragment not found; Skipping fragment 303 ...\n",
      "[download] fragment not found; Skipping fragment 304 ...\n",
      "[download] fragment not found; Skipping fragment 305 ...\n",
      "[download] fragment not found; Skipping fragment 306 ...\n",
      "[download] fragment not found; Skipping fragment 307 ...\n",
      "[download] fragment not found; Skipping fragment 308 ...\n",
      "[download] fragment not found; Skipping fragment 309 ...\n",
      "[download] fragment not found; Skipping fragment 310 ...\n",
      "[download] fragment not found; Skipping fragment 311 ...\n",
      "[download] fragment not found; Skipping fragment 312 ...\n",
      "[download] fragment not found; Skipping fragment 313 ...\n",
      "[download] fragment not found; Skipping fragment 314 ...\n",
      "[download] fragment not found; Skipping fragment 315 ...\n",
      "[download] fragment not found; Skipping fragment 316 ...\n",
      "[download] fragment not found; Skipping fragment 317 ...\n",
      "[download] fragment not found; Skipping fragment 318 ...\n",
      "[download] fragment not found; Skipping fragment 319 ...\n",
      "[download] fragment not found; Skipping fragment 320 ...\n",
      "[download] fragment not found; Skipping fragment 321 ...\n",
      "[download] fragment not found; Skipping fragment 322 ...\n",
      "[download] fragment not found; Skipping fragment 323 ...\n",
      "[download] fragment not found; Skipping fragment 324 ...\n",
      "[download] fragment not found; Skipping fragment 325 ...\n",
      "[download] fragment not found; Skipping fragment 326 ...\n",
      "[download] fragment not found; Skipping fragment 327 ...\n",
      "[download] fragment not found; Skipping fragment 328 ...\n",
      "[download] fragment not found; Skipping fragment 329 ...\n",
      "[download] fragment not found; Skipping fragment 330 ...\n",
      "[download] fragment not found; Skipping fragment 331 ...\n",
      "[download] fragment not found; Skipping fragment 332 ...\n",
      "[download] fragment not found; Skipping fragment 333 ...\n",
      "[download] fragment not found; Skipping fragment 334 ...\n",
      "[download] fragment not found; Skipping fragment 335 ...\n",
      "[download] fragment not found; Skipping fragment 336 ...\n",
      "[download] fragment not found; Skipping fragment 337 ...\n",
      "[download] fragment not found; Skipping fragment 338 ...\n",
      "[download] fragment not found; Skipping fragment 339 ...\n",
      "[download] fragment not found; Skipping fragment 340 ...\n",
      "[download] fragment not found; Skipping fragment 341 ...\n",
      "[download] fragment not found; Skipping fragment 342 ...\n",
      "[download] fragment not found; Skipping fragment 343 ...\n",
      "[download] fragment not found; Skipping fragment 344 ...\n",
      "[download] fragment not found; Skipping fragment 345 ...\n",
      "[download] fragment not found; Skipping fragment 346 ...\n",
      "[download] fragment not found; Skipping fragment 347 ...\n",
      "[download] fragment not found; Skipping fragment 348 ...\n",
      "[download] fragment not found; Skipping fragment 349 ...\n",
      "[download] fragment not found; Skipping fragment 350 ...\n",
      "[download] fragment not found; Skipping fragment 351 ...\n",
      "[download] fragment not found; Skipping fragment 352 ...\n",
      "[download] fragment not found; Skipping fragment 353 ...\n",
      "[download] fragment not found; Skipping fragment 354 ...\n",
      "[download] fragment not found; Skipping fragment 355 ...\n",
      "[download] fragment not found; Skipping fragment 356 ...\n",
      "[download] fragment not found; Skipping fragment 357 ...\n",
      "[download] fragment not found; Skipping fragment 358 ...\n",
      "[download] fragment not found; Skipping fragment 359 ...\n",
      "[download] fragment not found; Skipping fragment 360 ...\n",
      "[download] fragment not found; Skipping fragment 361 ...\n",
      "[download] fragment not found; Skipping fragment 362 ...\n",
      "[download] fragment not found; Skipping fragment 363 ...\n",
      "[download] fragment not found; Skipping fragment 364 ...\n",
      "[download] fragment not found; Skipping fragment 365 ...\n",
      "[download] fragment not found; Skipping fragment 366 ...\n",
      "[download] fragment not found; Skipping fragment 367 ...\n",
      "[download] fragment not found; Skipping fragment 368 ...\n",
      "[download] fragment not found; Skipping fragment 369 ...\n",
      "[download] fragment not found; Skipping fragment 370 ...\n",
      "[download] fragment not found; Skipping fragment 371 ...\n",
      "[download] fragment not found; Skipping fragment 372 ...\n",
      "[download] fragment not found; Skipping fragment 373 ...\n",
      "[download] fragment not found; Skipping fragment 374 ...\n",
      "[download] fragment not found; Skipping fragment 375 ...\n",
      "[download] fragment not found; Skipping fragment 376 ...\n",
      "[download] fragment not found; Skipping fragment 377 ...\n",
      "[download] fragment not found; Skipping fragment 378 ...\n",
      "[download] fragment not found; Skipping fragment 379 ...\n",
      "[download] fragment not found; Skipping fragment 380 ...\n",
      "[download] fragment not found; Skipping fragment 381 ...\n",
      "[download] fragment not found; Skipping fragment 382 ...\n",
      "[download] fragment not found; Skipping fragment 383 ...\n",
      "[download] fragment not found; Skipping fragment 384 ...\n",
      "[download] fragment not found; Skipping fragment 385 ...\n",
      "[download] fragment not found; Skipping fragment 386 ...\n",
      "[download] fragment not found; Skipping fragment 387 ...\n",
      "[download] fragment not found; Skipping fragment 388 ...\n",
      "[download] fragment not found; Skipping fragment 389 ...\n",
      "[download] fragment not found; Skipping fragment 390 ...\n",
      "[download] fragment not found; Skipping fragment 391 ...\n",
      "[download] fragment not found; Skipping fragment 392 ...\n",
      "[download] fragment not found; Skipping fragment 393 ...\n",
      "[download] fragment not found; Skipping fragment 394 ...\n",
      "[download] fragment not found; Skipping fragment 395 ...\n",
      "[download] fragment not found; Skipping fragment 396 ...\n",
      "[download] fragment not found; Skipping fragment 397 ...\n",
      "[download] fragment not found; Skipping fragment 398 ...\n",
      "[download] fragment not found; Skipping fragment 399 ...\n",
      "[download] fragment not found; Skipping fragment 400 ...\n",
      "[download] fragment not found; Skipping fragment 401 ...\n",
      "[download] fragment not found; Skipping fragment 402 ...\n",
      "[download] fragment not found; Skipping fragment 403 ...\n",
      "[download] fragment not found; Skipping fragment 404 ...\n",
      "[download] fragment not found; Skipping fragment 405 ...\n",
      "[download] fragment not found; Skipping fragment 406 ...\n",
      "[download] fragment not found; Skipping fragment 407 ...\n",
      "[download] fragment not found; Skipping fragment 408 ...\n",
      "[download] fragment not found; Skipping fragment 409 ...\n",
      "[download] fragment not found; Skipping fragment 410 ...\n",
      "[download] fragment not found; Skipping fragment 411 ...\n",
      "[download] fragment not found; Skipping fragment 412 ...\n",
      "[download] fragment not found; Skipping fragment 413 ...\n",
      "[download] fragment not found; Skipping fragment 414 ...\n",
      "[download] fragment not found; Skipping fragment 415 ...\n",
      "[download] fragment not found; Skipping fragment 416 ...\n",
      "[download] fragment not found; Skipping fragment 417 ...\n",
      "[download] fragment not found; Skipping fragment 418 ...\n",
      "[download] fragment not found; Skipping fragment 419 ...\n",
      "[download] fragment not found; Skipping fragment 420 ...\n",
      "[download] fragment not found; Skipping fragment 421 ...\n",
      "[download] fragment not found; Skipping fragment 422 ...\n",
      "[download] fragment not found; Skipping fragment 423 ...\n",
      "[download] fragment not found; Skipping fragment 424 ...\n",
      "[download] fragment not found; Skipping fragment 425 ...\n",
      "[download] fragment not found; Skipping fragment 426 ...\n",
      "[download] fragment not found; Skipping fragment 427 ...\n",
      "[download] fragment not found; Skipping fragment 428 ...\n",
      "[download] fragment not found; Skipping fragment 429 ...\n",
      "[download] fragment not found; Skipping fragment 430 ...\n",
      "[download] fragment not found; Skipping fragment 431 ...\n",
      "[download] fragment not found; Skipping fragment 432 ...\n",
      "[download] fragment not found; Skipping fragment 433 ...\n",
      "[download] fragment not found; Skipping fragment 434 ...\n",
      "[download] fragment not found; Skipping fragment 435 ...\n",
      "[download] fragment not found; Skipping fragment 436 ...\n",
      "[download] fragment not found; Skipping fragment 437 ...\n",
      "[download] fragment not found; Skipping fragment 438 ...\n",
      "[download] fragment not found; Skipping fragment 439 ...\n",
      "[download] fragment not found; Skipping fragment 440 ...\n",
      "[download] fragment not found; Skipping fragment 441 ...\n",
      "[download] fragment not found; Skipping fragment 442 ...\n",
      "[download] fragment not found; Skipping fragment 443 ...\n",
      "[download] fragment not found; Skipping fragment 444 ...\n",
      "[download] fragment not found; Skipping fragment 445 ...\n",
      "[download] fragment not found; Skipping fragment 446 ...\n",
      "[download] fragment not found; Skipping fragment 447 ...\n",
      "[download] fragment not found; Skipping fragment 448 ...\n",
      "[download] fragment not found; Skipping fragment 449 ...\n",
      "[download] fragment not found; Skipping fragment 450 ...\n",
      "[download] fragment not found; Skipping fragment 451 ...\n",
      "[download] fragment not found; Skipping fragment 452 ...\n",
      "[download] fragment not found; Skipping fragment 453 ...\n",
      "[download] fragment not found; Skipping fragment 454 ...\n",
      "[download] fragment not found; Skipping fragment 455 ...\n",
      "[download] fragment not found; Skipping fragment 456 ...\n",
      "[download] fragment not found; Skipping fragment 457 ...\n",
      "[download] fragment not found; Skipping fragment 458 ...\n",
      "[download] fragment not found; Skipping fragment 459 ...\n",
      "[download] fragment not found; Skipping fragment 460 ...\n",
      "[download] fragment not found; Skipping fragment 461 ...\n",
      "[download] fragment not found; Skipping fragment 462 ...\n",
      "[download] fragment not found; Skipping fragment 463 ...\n",
      "[download] fragment not found; Skipping fragment 464 ...\n",
      "[download] fragment not found; Skipping fragment 465 ...\n",
      "[download] fragment not found; Skipping fragment 466 ...\n",
      "[download] fragment not found; Skipping fragment 467 ...\n",
      "[download] fragment not found; Skipping fragment 468 ...\n",
      "[download] fragment not found; Skipping fragment 469 ...\n",
      "[download] fragment not found; Skipping fragment 470 ...\n",
      "[download] fragment not found; Skipping fragment 471 ...\n",
      "[download] fragment not found; Skipping fragment 472 ...\n",
      "[download] fragment not found; Skipping fragment 473 ...\n",
      "[download] fragment not found; Skipping fragment 474 ...\n",
      "[download] fragment not found; Skipping fragment 475 ...\n",
      "[download] fragment not found; Skipping fragment 476 ...\n",
      "[download] fragment not found; Skipping fragment 477 ...\n",
      "[download] fragment not found; Skipping fragment 478 ...\n",
      "[download] fragment not found; Skipping fragment 479 ...\n",
      "[download] fragment not found; Skipping fragment 480 ...\n",
      "[download] fragment not found; Skipping fragment 481 ...\n",
      "[download] fragment not found; Skipping fragment 482 ...\n",
      "[download] fragment not found; Skipping fragment 483 ...\n",
      "[download] fragment not found; Skipping fragment 484 ...\n",
      "[download] fragment not found; Skipping fragment 485 ...\n",
      "[download] fragment not found; Skipping fragment 486 ...\n",
      "[download] fragment not found; Skipping fragment 487 ...\n",
      "[download] fragment not found; Skipping fragment 488 ...\n",
      "[download] fragment not found; Skipping fragment 489 ...\n",
      "[download] fragment not found; Skipping fragment 490 ...\n",
      "[download] fragment not found; Skipping fragment 491 ...\n",
      "[download] fragment not found; Skipping fragment 492 ...\n",
      "[download] fragment not found; Skipping fragment 493 ...\n",
      "[download] fragment not found; Skipping fragment 494 ...\n",
      "[download] fragment not found; Skipping fragment 495 ...\n",
      "[download] fragment not found; Skipping fragment 496 ...\n",
      "[download] fragment not found; Skipping fragment 497 ...\n",
      "[download] fragment not found; Skipping fragment 498 ...\n",
      "[download] fragment not found; Skipping fragment 499 ...\n",
      "[download] fragment not found; Skipping fragment 500 ...\n",
      "[download] fragment not found; Skipping fragment 501 ...\n",
      "[download] fragment not found; Skipping fragment 502 ...\n",
      "[download] fragment not found; Skipping fragment 503 ...\n",
      "[download] fragment not found; Skipping fragment 504 ...\n",
      "[download] fragment not found; Skipping fragment 505 ...\n",
      "[download] fragment not found; Skipping fragment 506 ...\n",
      "[download] fragment not found; Skipping fragment 507 ...\n",
      "[download] fragment not found; Skipping fragment 508 ...\n",
      "[download] fragment not found; Skipping fragment 509 ...\n",
      "[download] fragment not found; Skipping fragment 510 ...\n",
      "[download] fragment not found; Skipping fragment 511 ...\n",
      "[download] fragment not found; Skipping fragment 512 ...\n",
      "[download] fragment not found; Skipping fragment 513 ...\n",
      "[download] fragment not found; Skipping fragment 514 ...\n",
      "[download] fragment not found; Skipping fragment 515 ...\n",
      "[download] fragment not found; Skipping fragment 516 ...\n",
      "[download] fragment not found; Skipping fragment 517 ...\n",
      "[download] fragment not found; Skipping fragment 518 ...\n",
      "[download] fragment not found; Skipping fragment 519 ...\n",
      "[download] fragment not found; Skipping fragment 520 ...\n",
      "[download] fragment not found; Skipping fragment 521 ...\n",
      "[download] fragment not found; Skipping fragment 522 ...\n",
      "[download] fragment not found; Skipping fragment 523 ...\n",
      "[download] fragment not found; Skipping fragment 524 ...\n",
      "[download] fragment not found; Skipping fragment 525 ...\n",
      "[download] fragment not found; Skipping fragment 526 ...\n",
      "[download] fragment not found; Skipping fragment 527 ...\n",
      "[download] fragment not found; Skipping fragment 528 ...\n",
      "[download] fragment not found; Skipping fragment 529 ...\n",
      "[download] fragment not found; Skipping fragment 530 ...\n",
      "[download] fragment not found; Skipping fragment 531 ...\n",
      "[download] fragment not found; Skipping fragment 532 ...\n",
      "[download] fragment not found; Skipping fragment 533 ...\n",
      "[download] fragment not found; Skipping fragment 534 ...\n",
      "[download] fragment not found; Skipping fragment 535 ...\n",
      "[download] fragment not found; Skipping fragment 536 ...\n",
      "[download] fragment not found; Skipping fragment 537 ...\n",
      "[download] fragment not found; Skipping fragment 538 ...\n",
      "[download] fragment not found; Skipping fragment 539 ...\n",
      "[download] fragment not found; Skipping fragment 540 ...\n",
      "[download] fragment not found; Skipping fragment 541 ...\n",
      "[download] fragment not found; Skipping fragment 542 ...\n",
      "[download] fragment not found; Skipping fragment 543 ...\n",
      "[download] fragment not found; Skipping fragment 544 ...\n",
      "[download] fragment not found; Skipping fragment 545 ...\n",
      "[download] fragment not found; Skipping fragment 546 ...\n",
      "[download] fragment not found; Skipping fragment 547 ...\n",
      "[download] fragment not found; Skipping fragment 548 ...\n",
      "[download] fragment not found; Skipping fragment 549 ...\n",
      "[download] fragment not found; Skipping fragment 550 ...\n",
      "[download] fragment not found; Skipping fragment 551 ...\n",
      "[download] fragment not found; Skipping fragment 552 ...\n",
      "[download] fragment not found; Skipping fragment 553 ...\n",
      "[download] fragment not found; Skipping fragment 554 ...\n",
      "[download] fragment not found; Skipping fragment 555 ...\n",
      "[download] fragment not found; Skipping fragment 556 ...\n",
      "[download] fragment not found; Skipping fragment 557 ...\n",
      "[download] fragment not found; Skipping fragment 558 ...\n",
      "[download] fragment not found; Skipping fragment 559 ...\n",
      "[download] fragment not found; Skipping fragment 560 ...\n",
      "[download] fragment not found; Skipping fragment 561 ...\n",
      "[download] fragment not found; Skipping fragment 562 ...\n",
      "[download] fragment not found; Skipping fragment 563 ...\n",
      "[download] fragment not found; Skipping fragment 564 ...\n",
      "[download] fragment not found; Skipping fragment 565 ...\n",
      "[download] fragment not found; Skipping fragment 566 ...\n",
      "[download] fragment not found; Skipping fragment 567 ...\n",
      "[download] fragment not found; Skipping fragment 568 ...\n",
      "[download] fragment not found; Skipping fragment 569 ...\n",
      "[download] fragment not found; Skipping fragment 570 ...\n",
      "[download] fragment not found; Skipping fragment 571 ...\n",
      "[download] fragment not found; Skipping fragment 572 ...\n",
      "[download] fragment not found; Skipping fragment 573 ...\n",
      "[download] fragment not found; Skipping fragment 574 ...\n",
      "[download] fragment not found; Skipping fragment 575 ...\n",
      "[download] fragment not found; Skipping fragment 576 ...\n",
      "[download] fragment not found; Skipping fragment 577 ...\n",
      "[download] fragment not found; Skipping fragment 578 ...\n",
      "[download] fragment not found; Skipping fragment 579 ...\n",
      "[download] fragment not found; Skipping fragment 580 ...\n",
      "[download] fragment not found; Skipping fragment 581 ...\n",
      "[download] fragment not found; Skipping fragment 582 ...\n",
      "[download] fragment not found; Skipping fragment 583 ...\n",
      "[download] fragment not found; Skipping fragment 584 ...\n",
      "[download] fragment not found; Skipping fragment 585 ...\n",
      "[download] fragment not found; Skipping fragment 586 ...\n",
      "[download] fragment not found; Skipping fragment 587 ...\n",
      "[download] fragment not found; Skipping fragment 588 ...\n",
      "[download] fragment not found; Skipping fragment 589 ...\n",
      "[download] fragment not found; Skipping fragment 590 ...\n",
      "[download] fragment not found; Skipping fragment 591 ...\n",
      "[download] fragment not found; Skipping fragment 592 ...\n",
      "[download] fragment not found; Skipping fragment 593 ...\n",
      "[download] fragment not found; Skipping fragment 594 ...\n",
      "[download] fragment not found; Skipping fragment 595 ...\n",
      "[download] fragment not found; Skipping fragment 596 ...\n",
      "[download] fragment not found; Skipping fragment 597 ...\n",
      "[download] fragment not found; Skipping fragment 598 ...\n",
      "[download] fragment not found; Skipping fragment 599 ...\n",
      "[download] fragment not found; Skipping fragment 600 ...\n",
      "[download] fragment not found; Skipping fragment 601 ...\n",
      "[download] fragment not found; Skipping fragment 602 ...\n",
      "[download] fragment not found; Skipping fragment 603 ...\n",
      "[download] fragment not found; Skipping fragment 604 ...\n",
      "[download] fragment not found; Skipping fragment 605 ...\n",
      "[download] fragment not found; Skipping fragment 606 ...\n",
      "[download] fragment not found; Skipping fragment 607 ...\n",
      "[download] fragment not found; Skipping fragment 608 ...\n",
      "[download] fragment not found; Skipping fragment 609 ...\n",
      "[download] fragment not found; Skipping fragment 610 ...\n",
      "[download] fragment not found; Skipping fragment 611 ...\n",
      "[download] fragment not found; Skipping fragment 612 ...\n",
      "[download] fragment not found; Skipping fragment 613 ...\n",
      "[download] fragment not found; Skipping fragment 614 ...\n",
      "[download] fragment not found; Skipping fragment 615 ...\n",
      "[download] fragment not found; Skipping fragment 616 ...\n",
      "[download] fragment not found; Skipping fragment 617 ...\n",
      "[download] fragment not found; Skipping fragment 618 ...\n",
      "[download] fragment not found; Skipping fragment 619 ...\n",
      "[download] fragment not found; Skipping fragment 620 ...\n",
      "[download] fragment not found; Skipping fragment 621 ...\n",
      "[download] fragment not found; Skipping fragment 622 ...\n",
      "[download] fragment not found; Skipping fragment 623 ...\n",
      "[download] fragment not found; Skipping fragment 624 ...\n",
      "[download] fragment not found; Skipping fragment 625 ...\n",
      "[download] fragment not found; Skipping fragment 626 ...\n",
      "[download] fragment not found; Skipping fragment 627 ...\n",
      "[download] fragment not found; Skipping fragment 628 ...\n",
      "[download] fragment not found; Skipping fragment 629 ...\n",
      "[download] fragment not found; Skipping fragment 630 ...\n",
      "[download] fragment not found; Skipping fragment 631 ...\n",
      "[download] fragment not found; Skipping fragment 632 ...\n",
      "[download] fragment not found; Skipping fragment 633 ...\n",
      "[download] fragment not found; Skipping fragment 634 ...\n",
      "[download] fragment not found; Skipping fragment 635 ...\n",
      "[download] fragment not found; Skipping fragment 636 ...\n",
      "[download] fragment not found; Skipping fragment 637 ...\n",
      "[download] fragment not found; Skipping fragment 638 ...\n",
      "[download] fragment not found; Skipping fragment 639 ...\n",
      "[download] fragment not found; Skipping fragment 640 ...\n",
      "[download] fragment not found; Skipping fragment 641 ...\n",
      "[download] fragment not found; Skipping fragment 642 ...\n",
      "[download] fragment not found; Skipping fragment 643 ...\n",
      "[download] fragment not found; Skipping fragment 644 ...\n",
      "[download] fragment not found; Skipping fragment 645 ...\n",
      "[download] fragment not found; Skipping fragment 646 ...\n",
      "[download] fragment not found; Skipping fragment 647 ...\n",
      "[download] fragment not found; Skipping fragment 648 ...\n",
      "[download] fragment not found; Skipping fragment 649 ...\n",
      "[download] fragment not found; Skipping fragment 650 ...\n",
      "[download] fragment not found; Skipping fragment 651 ...\n",
      "[download] fragment not found; Skipping fragment 652 ...\n",
      "[download] fragment not found; Skipping fragment 653 ...\n",
      "[download] fragment not found; Skipping fragment 654 ...\n",
      "[download] fragment not found; Skipping fragment 655 ...\n",
      "[download] fragment not found; Skipping fragment 656 ...\n",
      "[download] fragment not found; Skipping fragment 657 ...\n",
      "[download] fragment not found; Skipping fragment 658 ...\n",
      "[download] fragment not found; Skipping fragment 659 ...\n",
      "[download] fragment not found; Skipping fragment 660 ...\n",
      "[download] fragment not found; Skipping fragment 661 ...\n",
      "[download] fragment not found; Skipping fragment 662 ...\n",
      "[download] fragment not found; Skipping fragment 663 ...\n",
      "[download] fragment not found; Skipping fragment 664 ...\n",
      "[download] fragment not found; Skipping fragment 665 ...\n",
      "[download] fragment not found; Skipping fragment 666 ...\n",
      "[download] fragment not found; Skipping fragment 667 ...\n",
      "[download] fragment not found; Skipping fragment 668 ...\n",
      "[download] fragment not found; Skipping fragment 669 ...\n",
      "[download] fragment not found; Skipping fragment 670 ...\n",
      "[download] fragment not found; Skipping fragment 671 ...\n",
      "[download] fragment not found; Skipping fragment 672 ...\n",
      "[download] fragment not found; Skipping fragment 673 ...\n",
      "[download] fragment not found; Skipping fragment 674 ...\n",
      "[download] fragment not found; Skipping fragment 675 ...\n",
      "[download] fragment not found; Skipping fragment 676 ...\n",
      "[download] fragment not found; Skipping fragment 677 ...\n",
      "[download] fragment not found; Skipping fragment 678 ...\n",
      "[download] fragment not found; Skipping fragment 679 ...\n",
      "[download] fragment not found; Skipping fragment 680 ...\n",
      "[download] fragment not found; Skipping fragment 681 ...\n",
      "[download] fragment not found; Skipping fragment 682 ...\n",
      "[download] fragment not found; Skipping fragment 683 ...\n",
      "[download] fragment not found; Skipping fragment 684 ...\n",
      "[download] fragment not found; Skipping fragment 685 ...\n",
      "[download] fragment not found; Skipping fragment 686 ...\n",
      "[download] fragment not found; Skipping fragment 687 ...\n",
      "[download] fragment not found; Skipping fragment 688 ...\n",
      "[download] fragment not found; Skipping fragment 689 ...\n",
      "[download] fragment not found; Skipping fragment 690 ...\n",
      "[download] fragment not found; Skipping fragment 691 ...\n",
      "[download] fragment not found; Skipping fragment 692 ...\n",
      "[download] fragment not found; Skipping fragment 693 ...\n",
      "[download] fragment not found; Skipping fragment 694 ...\n",
      "[download] fragment not found; Skipping fragment 695 ...\n",
      "[download] fragment not found; Skipping fragment 696 ...\n",
      "[download] fragment not found; Skipping fragment 697 ...\n",
      "[download] fragment not found; Skipping fragment 698 ...\n",
      "[download] fragment not found; Skipping fragment 699 ...\n",
      "[download] fragment not found; Skipping fragment 700 ...\n",
      "[download] fragment not found; Skipping fragment 701 ...\n",
      "[download] fragment not found; Skipping fragment 702 ...\n",
      "[download] fragment not found; Skipping fragment 703 ...\n",
      "[download] fragment not found; Skipping fragment 704 ...\n",
      "[download] fragment not found; Skipping fragment 705 ...\n",
      "[download] fragment not found; Skipping fragment 706 ...\n",
      "[download] fragment not found; Skipping fragment 707 ...\n",
      "[download] fragment not found; Skipping fragment 708 ...\n",
      "[download] fragment not found; Skipping fragment 709 ...\n",
      "[download] fragment not found; Skipping fragment 710 ...\n",
      "[download] fragment not found; Skipping fragment 711 ...\n",
      "[download] fragment not found; Skipping fragment 712 ...\n",
      "[download] fragment not found; Skipping fragment 713 ...\n",
      "[download] fragment not found; Skipping fragment 714 ...\n",
      "[download] fragment not found; Skipping fragment 715 ...\n",
      "[download] fragment not found; Skipping fragment 716 ...\n",
      "[download] fragment not found; Skipping fragment 717 ...\n",
      "[download] fragment not found; Skipping fragment 718 ...\n",
      "[download] fragment not found; Skipping fragment 719 ...\n",
      "[download] fragment not found; Skipping fragment 720 ...\n",
      "[download] fragment not found; Skipping fragment 721 ...\n",
      "[download] fragment not found; Skipping fragment 722 ...\n",
      "[download] fragment not found; Skipping fragment 723 ...\n",
      "[download] fragment not found; Skipping fragment 724 ...\n",
      "[download] fragment not found; Skipping fragment 725 ...\n",
      "[download] fragment not found; Skipping fragment 726 ...\n",
      "[download] fragment not found; Skipping fragment 727 ...\n",
      "[download] fragment not found; Skipping fragment 728 ...\n",
      "[download] fragment not found; Skipping fragment 729 ...\n",
      "[download] fragment not found; Skipping fragment 730 ...\n",
      "[download] fragment not found; Skipping fragment 731 ...\n",
      "[download] fragment not found; Skipping fragment 732 ...\n",
      "[download] fragment not found; Skipping fragment 733 ...\n",
      "[download] fragment not found; Skipping fragment 734 ...\n",
      "[download] fragment not found; Skipping fragment 735 ...\n",
      "[download] fragment not found; Skipping fragment 736 ...\n",
      "[download] fragment not found; Skipping fragment 737 ...\n",
      "[download] fragment not found; Skipping fragment 738 ...\n",
      "[download] fragment not found; Skipping fragment 739 ...\n",
      "[download] fragment not found; Skipping fragment 740 ...\n",
      "[download] fragment not found; Skipping fragment 741 ...\n",
      "[download] fragment not found; Skipping fragment 742 ...\n",
      "[download] fragment not found; Skipping fragment 743 ...\n",
      "[download] fragment not found; Skipping fragment 744 ...\n",
      "[download] fragment not found; Skipping fragment 745 ...\n",
      "[download] fragment not found; Skipping fragment 746 ...\n",
      "[download] fragment not found; Skipping fragment 747 ...\n",
      "[download] fragment not found; Skipping fragment 748 ...\n",
      "[download] fragment not found; Skipping fragment 749 ...\n",
      "[download] fragment not found; Skipping fragment 750 ...\n",
      "[download] fragment not found; Skipping fragment 751 ...\n",
      "[download] fragment not found; Skipping fragment 752 ...\n",
      "[download] fragment not found; Skipping fragment 753 ...\n",
      "[download] fragment not found; Skipping fragment 754 ...\n",
      "[download] fragment not found; Skipping fragment 755 ...\n",
      "[download] fragment not found; Skipping fragment 756 ...\n",
      "[download] fragment not found; Skipping fragment 757 ...\n",
      "[download] fragment not found; Skipping fragment 758 ...\n",
      "[download] fragment not found; Skipping fragment 759 ...\n",
      "[download] fragment not found; Skipping fragment 760 ...\n",
      "[download] fragment not found; Skipping fragment 761 ...\n",
      "[download] fragment not found; Skipping fragment 762 ...\n",
      "[download] fragment not found; Skipping fragment 763 ...\n",
      "[download] fragment not found; Skipping fragment 764 ...\n",
      "[download] fragment not found; Skipping fragment 765 ...\n",
      "[download] fragment not found; Skipping fragment 766 ...\n",
      "[download] fragment not found; Skipping fragment 767 ...\n",
      "[download] fragment not found; Skipping fragment 768 ...\n",
      "[download] fragment not found; Skipping fragment 769 ...\n",
      "[download] fragment not found; Skipping fragment 770 ...\n",
      "[download] fragment not found; Skipping fragment 771 ...\n",
      "[download] fragment not found; Skipping fragment 772 ...\n",
      "[download] fragment not found; Skipping fragment 773 ...\n",
      "[download] fragment not found; Skipping fragment 774 ...\n",
      "[download] fragment not found; Skipping fragment 775 ...\n",
      "[download] fragment not found; Skipping fragment 776 ...\n",
      "[download] fragment not found; Skipping fragment 777 ...\n",
      "[download] fragment not found; Skipping fragment 778 ...\n",
      "[download] fragment not found; Skipping fragment 779 ...\n",
      "[download] fragment not found; Skipping fragment 780 ...\n",
      "[download] fragment not found; Skipping fragment 781 ...\n",
      "[download] fragment not found; Skipping fragment 782 ...\n",
      "[download] fragment not found; Skipping fragment 783 ...\n",
      "[download] fragment not found; Skipping fragment 784 ...\n",
      "[download] fragment not found; Skipping fragment 785 ...\n",
      "[download] fragment not found; Skipping fragment 786 ...\n",
      "[download] fragment not found; Skipping fragment 787 ...\n",
      "[download] fragment not found; Skipping fragment 788 ...\n",
      "[download] fragment not found; Skipping fragment 789 ...\n",
      "[download] fragment not found; Skipping fragment 790 ...\n",
      "[download] fragment not found; Skipping fragment 791 ...\n",
      "[download] fragment not found; Skipping fragment 792 ...\n",
      "[download] fragment not found; Skipping fragment 793 ...\n",
      "[download] fragment not found; Skipping fragment 794 ...\n",
      "[download] fragment not found; Skipping fragment 795 ...\n",
      "[download] fragment not found; Skipping fragment 796 ...\n",
      "[download] fragment not found; Skipping fragment 797 ...\n",
      "[download] fragment not found; Skipping fragment 798 ...\n",
      "[download] fragment not found; Skipping fragment 799 ...\n",
      "[download] fragment not found; Skipping fragment 800 ...\n",
      "[download] fragment not found; Skipping fragment 801 ...\n",
      "[download] fragment not found; Skipping fragment 802 ...\n",
      "[download] fragment not found; Skipping fragment 803 ...\n",
      "[download] fragment not found; Skipping fragment 804 ...\n",
      "[download] fragment not found; Skipping fragment 805 ...\n",
      "[download] fragment not found; Skipping fragment 806 ...\n",
      "[download] fragment not found; Skipping fragment 807 ...\n",
      "[download] fragment not found; Skipping fragment 808 ...\n",
      "[download] fragment not found; Skipping fragment 809 ...\n",
      "[download] fragment not found; Skipping fragment 810 ...\n",
      "[download] fragment not found; Skipping fragment 811 ...\n",
      "[download] fragment not found; Skipping fragment 812 ...\n",
      "[download] fragment not found; Skipping fragment 813 ...\n",
      "[download] fragment not found; Skipping fragment 814 ...\n",
      "[download] fragment not found; Skipping fragment 815 ...\n",
      "[download] fragment not found; Skipping fragment 816 ...\n",
      "[download] fragment not found; Skipping fragment 817 ...\n",
      "[download] fragment not found; Skipping fragment 818 ...\n",
      "[download] fragment not found; Skipping fragment 819 ...\n",
      "[download] fragment not found; Skipping fragment 820 ...\n",
      "[download] fragment not found; Skipping fragment 821 ...\n",
      "[download] fragment not found; Skipping fragment 822 ...\n",
      "[download] fragment not found; Skipping fragment 823 ...\n",
      "[download] fragment not found; Skipping fragment 824 ...\n",
      "[download] fragment not found; Skipping fragment 825 ...\n",
      "[download] fragment not found; Skipping fragment 826 ...\n",
      "[download] fragment not found; Skipping fragment 827 ...\n",
      "[download] fragment not found; Skipping fragment 828 ...\n",
      "[download] fragment not found; Skipping fragment 829 ...\n",
      "[download] fragment not found; Skipping fragment 830 ...\n",
      "[download] fragment not found; Skipping fragment 831 ...\n",
      "[download] fragment not found; Skipping fragment 832 ...\n",
      "[download] fragment not found; Skipping fragment 833 ...\n",
      "[download] fragment not found; Skipping fragment 834 ...\n",
      "[download] fragment not found; Skipping fragment 835 ...\n",
      "[download] fragment not found; Skipping fragment 836 ...\n",
      "[download] fragment not found; Skipping fragment 837 ...\n",
      "[download] fragment not found; Skipping fragment 838 ...\n",
      "[download] fragment not found; Skipping fragment 839 ...\n",
      "[download] fragment not found; Skipping fragment 840 ...\n",
      "[download] fragment not found; Skipping fragment 841 ...\n",
      "[download] fragment not found; Skipping fragment 842 ...\n",
      "[download] fragment not found; Skipping fragment 843 ...\n",
      "[download] fragment not found; Skipping fragment 844 ...\n",
      "[download] fragment not found; Skipping fragment 845 ...\n",
      "[download] fragment not found; Skipping fragment 846 ...\n",
      "[download] fragment not found; Skipping fragment 847 ...\n",
      "[download] fragment not found; Skipping fragment 848 ...\n",
      "[download] fragment not found; Skipping fragment 849 ...\n",
      "[download] fragment not found; Skipping fragment 850 ...\n",
      "[download] fragment not found; Skipping fragment 851 ...\n",
      "[download] fragment not found; Skipping fragment 852 ...\n",
      "[download] fragment not found; Skipping fragment 853 ...\n",
      "[download] fragment not found; Skipping fragment 854 ...\n",
      "[download] fragment not found; Skipping fragment 855 ...\n",
      "[download] fragment not found; Skipping fragment 856 ...\n",
      "[download] fragment not found; Skipping fragment 857 ...\n",
      "[download] fragment not found; Skipping fragment 858 ...\n",
      "[download] fragment not found; Skipping fragment 859 ...\n",
      "[download] fragment not found; Skipping fragment 860 ...\n",
      "[download] fragment not found; Skipping fragment 861 ...\n",
      "[download] fragment not found; Skipping fragment 862 ...\n",
      "[download] fragment not found; Skipping fragment 863 ...\n",
      "[download] fragment not found; Skipping fragment 864 ...\n",
      "[download] fragment not found; Skipping fragment 865 ...\n",
      "[download] fragment not found; Skipping fragment 866 ...\n",
      "[download] fragment not found; Skipping fragment 867 ...\n",
      "[download] fragment not found; Skipping fragment 868 ...\n",
      "[download] fragment not found; Skipping fragment 869 ...\n",
      "[download] fragment not found; Skipping fragment 870 ...\n",
      "[download] fragment not found; Skipping fragment 871 ...\n",
      "[download] fragment not found; Skipping fragment 872 ...\n",
      "[download] fragment not found; Skipping fragment 873 ...\n",
      "[download] fragment not found; Skipping fragment 874 ...\n",
      "[download] fragment not found; Skipping fragment 875 ...\n",
      "[download] fragment not found; Skipping fragment 876 ...\n",
      "[download] fragment not found; Skipping fragment 877 ...\n",
      "[download] fragment not found; Skipping fragment 878 ...\n",
      "[download] fragment not found; Skipping fragment 879 ...\n",
      "[download] fragment not found; Skipping fragment 880 ...\n",
      "[download] fragment not found; Skipping fragment 881 ...\n",
      "[download] fragment not found; Skipping fragment 882 ...\n",
      "[download] fragment not found; Skipping fragment 883 ...\n",
      "[download] fragment not found; Skipping fragment 884 ...\n",
      "[download] fragment not found; Skipping fragment 885 ...\n",
      "[download] fragment not found; Skipping fragment 886 ...\n",
      "[download] fragment not found; Skipping fragment 887 ...\n",
      "[download] fragment not found; Skipping fragment 888 ...\n",
      "[download] fragment not found; Skipping fragment 889 ...\n",
      "[download] fragment not found; Skipping fragment 890 ...\n",
      "[download] fragment not found; Skipping fragment 891 ...\n",
      "[download] fragment not found; Skipping fragment 892 ...\n",
      "[download] fragment not found; Skipping fragment 893 ...\n",
      "[download] fragment not found; Skipping fragment 894 ...\n",
      "[download] fragment not found; Skipping fragment 895 ...\n",
      "[download] fragment not found; Skipping fragment 896 ...\n",
      "[download] fragment not found; Skipping fragment 897 ...\n",
      "[download] fragment not found; Skipping fragment 898 ...\n",
      "[download] fragment not found; Skipping fragment 899 ...\n",
      "[download] fragment not found; Skipping fragment 900 ...\n",
      "[download] fragment not found; Skipping fragment 901 ...\n",
      "[download] fragment not found; Skipping fragment 902 ...\n",
      "[download] fragment not found; Skipping fragment 903 ...\n",
      "[download] fragment not found; Skipping fragment 904 ...\n",
      "[download] fragment not found; Skipping fragment 905 ...\n",
      "[download] fragment not found; Skipping fragment 906 ...\n",
      "[download] fragment not found; Skipping fragment 907 ...\n",
      "[download] fragment not found; Skipping fragment 908 ...\n",
      "[download] fragment not found; Skipping fragment 909 ...\n",
      "[download] fragment not found; Skipping fragment 910 ...\n",
      "[download] fragment not found; Skipping fragment 911 ...\n",
      "[download] fragment not found; Skipping fragment 912 ...\n",
      "[download] fragment not found; Skipping fragment 913 ...\n",
      "[download] fragment not found; Skipping fragment 914 ...\n",
      "[download] fragment not found; Skipping fragment 915 ...\n",
      "[download] fragment not found; Skipping fragment 916 ...\n",
      "[download] fragment not found; Skipping fragment 917 ...\n",
      "[download] fragment not found; Skipping fragment 918 ...\n",
      "[download] fragment not found; Skipping fragment 919 ...\n",
      "[download] fragment not found; Skipping fragment 920 ...\n",
      "[download] fragment not found; Skipping fragment 921 ...\n",
      "[download] fragment not found; Skipping fragment 922 ...\n",
      "[download] fragment not found; Skipping fragment 923 ...\n",
      "[download] fragment not found; Skipping fragment 924 ...\n",
      "[download] fragment not found; Skipping fragment 925 ...\n",
      "[download] fragment not found; Skipping fragment 926 ...\n",
      "[download] fragment not found; Skipping fragment 927 ...\n",
      "[download] fragment not found; Skipping fragment 928 ...\n",
      "[download] fragment not found; Skipping fragment 929 ...\n",
      "[download] fragment not found; Skipping fragment 930 ...\n",
      "[download] fragment not found; Skipping fragment 931 ...\n",
      "[download] fragment not found; Skipping fragment 932 ...\n",
      "[download] fragment not found; Skipping fragment 933 ...\n",
      "[download] fragment not found; Skipping fragment 934 ...\n",
      "[download] fragment not found; Skipping fragment 935 ...\n",
      "[download] fragment not found; Skipping fragment 936 ...\n",
      "[download] fragment not found; Skipping fragment 937 ...\n",
      "[download] fragment not found; Skipping fragment 938 ...\n",
      "[download] fragment not found; Skipping fragment 939 ...\n",
      "[download] fragment not found; Skipping fragment 940 ...\n",
      "[download] fragment not found; Skipping fragment 941 ...\n",
      "[download] fragment not found; Skipping fragment 942 ...\n",
      "[download] fragment not found; Skipping fragment 943 ...\n",
      "[download] fragment not found; Skipping fragment 944 ...\n",
      "[download] fragment not found; Skipping fragment 945 ...\n",
      "[download] fragment not found; Skipping fragment 946 ...\n",
      "[download] fragment not found; Skipping fragment 947 ...\n",
      "[download] fragment not found; Skipping fragment 948 ...\n",
      "[download] fragment not found; Skipping fragment 949 ...\n",
      "[download] fragment not found; Skipping fragment 950 ...\n",
      "[download] fragment not found; Skipping fragment 951 ...\n",
      "[download] fragment not found; Skipping fragment 952 ...\n",
      "[download] fragment not found; Skipping fragment 953 ...\n",
      "[download] fragment not found; Skipping fragment 954 ...\n",
      "[download] fragment not found; Skipping fragment 955 ...\n",
      "[download] fragment not found; Skipping fragment 956 ...\n",
      "[download] fragment not found; Skipping fragment 957 ...\n",
      "[download] fragment not found; Skipping fragment 958 ...\n",
      "[download] fragment not found; Skipping fragment 959 ...\n",
      "[download] fragment not found; Skipping fragment 960 ...\n",
      "[download] fragment not found; Skipping fragment 961 ...\n",
      "[download] fragment not found; Skipping fragment 962 ...\n",
      "[download] fragment not found; Skipping fragment 963 ...\n",
      "[download] fragment not found; Skipping fragment 964 ...\n",
      "[download] fragment not found; Skipping fragment 965 ...\n",
      "[download] 100% of    3.63MiB in 00:01:04 at 57.67KiB/s                \n",
      "[FixupM3u8] Fixing MPEG-TS in MP4 container of \"第14集.mp4\"\n",
      "第 14 集下載完成！\n",
      "正在嘗試下載第 15 集: https://www.cimy.cc/play/12615-1-15\n",
      "第 15 集找到 .m3u8 連結: https://api.heimuer.app/play/ca3a02bb105943ff80efdb15b80b79a9.m3u8\n",
      "[generic] Extracting URL: https://api.heimuer.app/play/ca3a02bb105943ff80efdb15b80b79a9.m3u8\n",
      "[generic] ca3a02bb105943ff80efdb15b80b79a9: Downloading webpage\n",
      "[generic] ca3a02bb105943ff80efdb15b80b79a9: Downloading m3u8 information\n",
      "[generic] ca3a02bb105943ff80efdb15b80b79a9: Checking m3u8 live status\n",
      "[info] ca3a02bb105943ff80efdb15b80b79a9: Downloading 1 format(s): 0\n",
      "[hlsnative] Downloading m3u8 manifest\n",
      "[hlsnative] Total fragments: 965\n",
      "[download] Destination: 第15集.mp4\n",
      "[download] 100% of    1.53GiB in 00:04:02 at 6.45MiB/s                   \n",
      "[FixupM3u8] Fixing MPEG-TS in MP4 container of \"第15集.mp4\"\n",
      "第 15 集下載完成！\n",
      "正在嘗試下載第 16 集: https://www.cimy.cc/play/12615-1-16\n",
      "第 16 集找到 .m3u8 連結: https://api.heimuer.app/play/6d1a0db94383487f8affa7f84ff80993.m3u8\n",
      "[generic] Extracting URL: https://api.heimuer.app/play/6d1a0db94383487f8affa7f84ff80993.m3u8\n",
      "[generic] 6d1a0db94383487f8affa7f84ff80993: Downloading webpage\n",
      "[generic] 6d1a0db94383487f8affa7f84ff80993: Downloading m3u8 information\n",
      "[generic] 6d1a0db94383487f8affa7f84ff80993: Checking m3u8 live status\n",
      "[info] 6d1a0db94383487f8affa7f84ff80993: Downloading 1 format(s): 0\n",
      "[hlsnative] Downloading m3u8 manifest\n",
      "[hlsnative] Total fragments: 977\n",
      "[download] Destination: 第16集.mp4\n",
      "[download] 100% of    1.55GiB in 00:09:56 at 2.66MiB/s                   \n",
      "[FixupM3u8] Fixing MPEG-TS in MP4 container of \"第16集.mp4\"\n",
      "第 16 集下載完成！\n",
      "正在嘗試下載第 17 集: https://www.cimy.cc/play/12615-1-17\n",
      "第 17 集找到 .m3u8 連結: https://api.heimuer.app/play/84a977a336b2460e9898dc4e2cbe2cc4.m3u8\n",
      "[generic] Extracting URL: https://api.heimuer.app/play/84a977a336b2460e9898dc4e2cbe2cc4.m3u8\n",
      "[generic] 84a977a336b2460e9898dc4e2cbe2cc4: Downloading webpage\n",
      "[generic] 84a977a336b2460e9898dc4e2cbe2cc4: Downloading m3u8 information\n",
      "[generic] 84a977a336b2460e9898dc4e2cbe2cc4: Checking m3u8 live status\n",
      "[info] 84a977a336b2460e9898dc4e2cbe2cc4: Downloading 1 format(s): 0\n",
      "[hlsnative] Downloading m3u8 manifest\n",
      "[hlsnative] Total fragments: 981\n",
      "[download] Destination: 第17集.mp4\n",
      "[download]  30.9% of ~   1.56GiB at    9.07MiB/s ETA 02:02 (frag 304/981)[download] fragment not found; Skipping fragment 305 ...\n",
      "[download] fragment not found; Skipping fragment 306 ...\n",
      "[download] fragment not found; Skipping fragment 307 ...\n",
      "[download] fragment not found; Skipping fragment 308 ...\n",
      "[download] fragment not found; Skipping fragment 309 ...\n",
      "[download] fragment not found; Skipping fragment 310 ...\n",
      "[download] fragment not found; Skipping fragment 311 ...\n",
      "[download] fragment not found; Skipping fragment 312 ...\n",
      "[download] fragment not found; Skipping fragment 313 ...\n",
      "[download] fragment not found; Skipping fragment 314 ...\n",
      "[download] fragment not found; Skipping fragment 315 ...\n",
      "[download] fragment not found; Skipping fragment 316 ...\n",
      "[download] fragment not found; Skipping fragment 317 ...\n",
      "[download] fragment not found; Skipping fragment 318 ...\n",
      "[download] fragment not found; Skipping fragment 319 ...\n",
      "[download] fragment not found; Skipping fragment 320 ...\n",
      "[download] fragment not found; Skipping fragment 321 ...\n",
      "[download] fragment not found; Skipping fragment 322 ...\n",
      "[download] fragment not found; Skipping fragment 323 ...\n",
      "[download] fragment not found; Skipping fragment 324 ...\n",
      "[download] fragment not found; Skipping fragment 325 ...\n",
      "[download] fragment not found; Skipping fragment 326 ...\n",
      "[download] fragment not found; Skipping fragment 327 ...\n",
      "[download] fragment not found; Skipping fragment 328 ...\n",
      "[download] fragment not found; Skipping fragment 329 ...\n",
      "[download] fragment not found; Skipping fragment 330 ...\n",
      "[download] fragment not found; Skipping fragment 331 ...\n",
      "[download] fragment not found; Skipping fragment 332 ...\n",
      "[download] fragment not found; Skipping fragment 333 ...\n",
      "[download] fragment not found; Skipping fragment 334 ...\n",
      "[download] fragment not found; Skipping fragment 335 ...\n",
      "[download] fragment not found; Skipping fragment 336 ...\n",
      "[download] fragment not found; Skipping fragment 337 ...\n",
      "[download] fragment not found; Skipping fragment 338 ...\n",
      "[download] fragment not found; Skipping fragment 339 ...\n",
      "[download] fragment not found; Skipping fragment 340 ...\n",
      "[download] fragment not found; Skipping fragment 341 ...\n",
      "[download] fragment not found; Skipping fragment 342 ...\n",
      "[download] fragment not found; Skipping fragment 343 ...\n",
      "[download] fragment not found; Skipping fragment 344 ...\n",
      "[download] fragment not found; Skipping fragment 345 ...\n",
      "[download] fragment not found; Skipping fragment 346 ...\n",
      "[download] fragment not found; Skipping fragment 347 ...\n",
      "[download] fragment not found; Skipping fragment 348 ...\n",
      "[download] fragment not found; Skipping fragment 349 ...\n",
      "[download] fragment not found; Skipping fragment 350 ...\n",
      "[download] fragment not found; Skipping fragment 351 ...\n",
      "[download] fragment not found; Skipping fragment 352 ...\n",
      "[download] fragment not found; Skipping fragment 353 ...\n",
      "[download] fragment not found; Skipping fragment 354 ...\n",
      "[download] fragment not found; Skipping fragment 355 ...\n",
      "[download] fragment not found; Skipping fragment 356 ...\n",
      "[download] fragment not found; Skipping fragment 357 ...\n",
      "[download] fragment not found; Skipping fragment 358 ...\n",
      "[download] fragment not found; Skipping fragment 359 ...\n",
      "[download] fragment not found; Skipping fragment 360 ...\n",
      "[download] fragment not found; Skipping fragment 361 ...\n",
      "[download] fragment not found; Skipping fragment 362 ...\n",
      "[download] fragment not found; Skipping fragment 363 ...\n",
      "[download] fragment not found; Skipping fragment 364 ...\n",
      "[download] fragment not found; Skipping fragment 365 ...\n",
      "[download] fragment not found; Skipping fragment 366 ...\n",
      "[download] fragment not found; Skipping fragment 367 ...\n",
      "[download] fragment not found; Skipping fragment 368 ...\n",
      "[download] fragment not found; Skipping fragment 369 ...\n",
      "[download] fragment not found; Skipping fragment 370 ...\n",
      "[download] fragment not found; Skipping fragment 371 ...\n",
      "[download] fragment not found; Skipping fragment 372 ...\n",
      "[download] fragment not found; Skipping fragment 373 ...\n",
      "[download] fragment not found; Skipping fragment 374 ...\n",
      "[download] fragment not found; Skipping fragment 375 ...\n",
      "[download] fragment not found; Skipping fragment 376 ...\n",
      "[download] fragment not found; Skipping fragment 377 ...\n",
      "[download] fragment not found; Skipping fragment 378 ...\n",
      "[download] fragment not found; Skipping fragment 379 ...\n",
      "[download] fragment not found; Skipping fragment 380 ...\n",
      "[download] fragment not found; Skipping fragment 381 ...\n",
      "[download] fragment not found; Skipping fragment 382 ...\n",
      "[download] fragment not found; Skipping fragment 383 ...\n",
      "[download] fragment not found; Skipping fragment 384 ...\n",
      "[download] fragment not found; Skipping fragment 385 ...\n",
      "[download] fragment not found; Skipping fragment 386 ...\n",
      "[download] fragment not found; Skipping fragment 387 ...\n",
      "[download] fragment not found; Skipping fragment 388 ...\n",
      "[download] fragment not found; Skipping fragment 389 ...\n",
      "[download] fragment not found; Skipping fragment 390 ...\n",
      "[download] fragment not found; Skipping fragment 391 ...\n",
      "[download] fragment not found; Skipping fragment 392 ...\n",
      "[download] fragment not found; Skipping fragment 393 ...\n",
      "[download] fragment not found; Skipping fragment 394 ...\n",
      "[download] fragment not found; Skipping fragment 395 ...\n",
      "[download] fragment not found; Skipping fragment 396 ...\n",
      "[download] fragment not found; Skipping fragment 397 ...\n",
      "[download] fragment not found; Skipping fragment 398 ...\n",
      "[download] fragment not found; Skipping fragment 399 ...\n",
      "[download] fragment not found; Skipping fragment 400 ...\n",
      "[download] fragment not found; Skipping fragment 401 ...\n",
      "[download] fragment not found; Skipping fragment 402 ...\n",
      "[download] fragment not found; Skipping fragment 403 ...\n",
      "[download] fragment not found; Skipping fragment 404 ...\n",
      "[download] fragment not found; Skipping fragment 405 ...\n",
      "[download] fragment not found; Skipping fragment 406 ...\n",
      "[download] fragment not found; Skipping fragment 407 ...\n",
      "[download] fragment not found; Skipping fragment 408 ...\n",
      "[download] fragment not found; Skipping fragment 409 ...\n",
      "[download] fragment not found; Skipping fragment 410 ...\n",
      "[download] fragment not found; Skipping fragment 411 ...\n",
      "[download] fragment not found; Skipping fragment 412 ...\n",
      "[download] fragment not found; Skipping fragment 413 ...\n",
      "[download] fragment not found; Skipping fragment 414 ...\n",
      "[download] fragment not found; Skipping fragment 415 ...\n",
      "[download] fragment not found; Skipping fragment 416 ...\n",
      "[download] fragment not found; Skipping fragment 417 ...\n",
      "[download] fragment not found; Skipping fragment 418 ...\n",
      "[download] fragment not found; Skipping fragment 419 ...\n",
      "[download] fragment not found; Skipping fragment 420 ...\n",
      "[download] fragment not found; Skipping fragment 421 ...\n",
      "[download] fragment not found; Skipping fragment 422 ...\n",
      "[download] fragment not found; Skipping fragment 423 ...\n",
      "[download] fragment not found; Skipping fragment 424 ...\n",
      "[download] fragment not found; Skipping fragment 425 ...\n",
      "[download] fragment not found; Skipping fragment 426 ...\n",
      "[download] fragment not found; Skipping fragment 427 ...\n",
      "[download] fragment not found; Skipping fragment 428 ...\n",
      "[download] fragment not found; Skipping fragment 429 ...\n",
      "[download] fragment not found; Skipping fragment 430 ...\n",
      "[download] fragment not found; Skipping fragment 431 ...\n",
      "[download] fragment not found; Skipping fragment 432 ...\n",
      "[download] fragment not found; Skipping fragment 433 ...\n",
      "[download] fragment not found; Skipping fragment 434 ...\n",
      "[download] fragment not found; Skipping fragment 435 ...\n",
      "[download] fragment not found; Skipping fragment 436 ...\n",
      "[download] fragment not found; Skipping fragment 437 ...\n",
      "[download] fragment not found; Skipping fragment 438 ...\n",
      "[download] fragment not found; Skipping fragment 439 ...\n",
      "[download] fragment not found; Skipping fragment 440 ...\n",
      "[download] fragment not found; Skipping fragment 441 ...\n",
      "[download] fragment not found; Skipping fragment 442 ...\n",
      "[download] fragment not found; Skipping fragment 443 ...\n",
      "[download] fragment not found; Skipping fragment 444 ...\n",
      "[download] fragment not found; Skipping fragment 445 ...\n",
      "[download] fragment not found; Skipping fragment 446 ...\n",
      "[download] fragment not found; Skipping fragment 447 ...\n",
      "[download] fragment not found; Skipping fragment 448 ...\n",
      "[download] fragment not found; Skipping fragment 449 ...\n",
      "[download] fragment not found; Skipping fragment 450 ...\n",
      "[download] fragment not found; Skipping fragment 451 ...\n",
      "[download] fragment not found; Skipping fragment 452 ...\n",
      "[download] fragment not found; Skipping fragment 453 ...\n",
      "[download] fragment not found; Skipping fragment 454 ...\n",
      "[download] fragment not found; Skipping fragment 455 ...\n",
      "[download] fragment not found; Skipping fragment 456 ...\n",
      "[download] fragment not found; Skipping fragment 457 ...\n",
      "[download] fragment not found; Skipping fragment 458 ...\n",
      "[download] fragment not found; Skipping fragment 459 ...\n",
      "[download] fragment not found; Skipping fragment 460 ...\n",
      "[download] fragment not found; Skipping fragment 461 ...\n",
      "[download] fragment not found; Skipping fragment 462 ...\n",
      "[download] fragment not found; Skipping fragment 463 ...\n",
      "[download] fragment not found; Skipping fragment 464 ...\n",
      "[download] fragment not found; Skipping fragment 465 ...\n",
      "[download] fragment not found; Skipping fragment 466 ...\n",
      "[download] fragment not found; Skipping fragment 467 ...\n",
      "[download] fragment not found; Skipping fragment 468 ...\n",
      "[download] fragment not found; Skipping fragment 469 ...\n",
      "[download] fragment not found; Skipping fragment 470 ...\n",
      "[download] fragment not found; Skipping fragment 471 ...\n",
      "[download] fragment not found; Skipping fragment 472 ...\n",
      "[download] fragment not found; Skipping fragment 473 ...\n",
      "[download] fragment not found; Skipping fragment 474 ...\n",
      "[download] fragment not found; Skipping fragment 475 ...\n",
      "[download] fragment not found; Skipping fragment 476 ...\n",
      "[download] fragment not found; Skipping fragment 477 ...\n",
      "[download] fragment not found; Skipping fragment 478 ...\n",
      "[download] fragment not found; Skipping fragment 479 ...\n",
      "[download] fragment not found; Skipping fragment 480 ...\n",
      "[download] fragment not found; Skipping fragment 481 ...\n",
      "[download] fragment not found; Skipping fragment 482 ...\n",
      "[download] fragment not found; Skipping fragment 483 ...\n",
      "[download] fragment not found; Skipping fragment 484 ...\n",
      "[download] fragment not found; Skipping fragment 485 ...\n",
      "[download] fragment not found; Skipping fragment 486 ...\n",
      "[download] fragment not found; Skipping fragment 487 ...\n",
      "[download] fragment not found; Skipping fragment 488 ...\n",
      "[download] fragment not found; Skipping fragment 489 ...\n",
      "[download] fragment not found; Skipping fragment 490 ...\n",
      "[download] fragment not found; Skipping fragment 491 ...\n",
      "[download] fragment not found; Skipping fragment 492 ...\n",
      "[download] fragment not found; Skipping fragment 493 ...\n",
      "[download] fragment not found; Skipping fragment 494 ...\n",
      "[download] fragment not found; Skipping fragment 495 ...\n",
      "[download] fragment not found; Skipping fragment 496 ...\n",
      "[download] fragment not found; Skipping fragment 497 ...\n",
      "[download] fragment not found; Skipping fragment 498 ...\n",
      "[download] fragment not found; Skipping fragment 499 ...\n",
      "[download] fragment not found; Skipping fragment 500 ...\n",
      "[download] fragment not found; Skipping fragment 501 ...\n",
      "[download] fragment not found; Skipping fragment 502 ...\n",
      "[download] fragment not found; Skipping fragment 503 ...\n",
      "[download] fragment not found; Skipping fragment 504 ...\n",
      "[download] fragment not found; Skipping fragment 505 ...\n",
      "[download] fragment not found; Skipping fragment 506 ...\n",
      "[download] fragment not found; Skipping fragment 507 ...\n",
      "[download] fragment not found; Skipping fragment 508 ...\n",
      "[download] fragment not found; Skipping fragment 509 ...\n",
      "[download] fragment not found; Skipping fragment 510 ...\n",
      "[download] fragment not found; Skipping fragment 511 ...\n",
      "[download] fragment not found; Skipping fragment 512 ...\n",
      "[download] fragment not found; Skipping fragment 513 ...\n",
      "[download] fragment not found; Skipping fragment 514 ...\n",
      "[download] fragment not found; Skipping fragment 515 ...\n",
      "[download] fragment not found; Skipping fragment 516 ...\n",
      "[download] fragment not found; Skipping fragment 517 ...\n",
      "[download] fragment not found; Skipping fragment 518 ...\n",
      "[download] fragment not found; Skipping fragment 519 ...\n",
      "[download] fragment not found; Skipping fragment 520 ...\n",
      "[download] fragment not found; Skipping fragment 521 ...\n",
      "[download] fragment not found; Skipping fragment 522 ...\n",
      "[download] fragment not found; Skipping fragment 523 ...\n",
      "[download] fragment not found; Skipping fragment 524 ...\n",
      "[download] fragment not found; Skipping fragment 525 ...\n",
      "[download] fragment not found; Skipping fragment 526 ...\n",
      "[download] fragment not found; Skipping fragment 527 ...\n",
      "[download] fragment not found; Skipping fragment 528 ...\n",
      "[download] fragment not found; Skipping fragment 529 ...\n",
      "[download] fragment not found; Skipping fragment 530 ...\n",
      "[download] fragment not found; Skipping fragment 531 ...\n",
      "[download] fragment not found; Skipping fragment 532 ...\n",
      "[download] fragment not found; Skipping fragment 533 ...\n",
      "[download] fragment not found; Skipping fragment 534 ...\n",
      "[download] fragment not found; Skipping fragment 535 ...\n",
      "[download] fragment not found; Skipping fragment 536 ...\n",
      "[download] fragment not found; Skipping fragment 537 ...\n",
      "[download] fragment not found; Skipping fragment 538 ...\n",
      "[download] fragment not found; Skipping fragment 539 ...\n",
      "[download] fragment not found; Skipping fragment 540 ...\n",
      "[download] fragment not found; Skipping fragment 541 ...\n",
      "[download] fragment not found; Skipping fragment 542 ...\n",
      "[download] fragment not found; Skipping fragment 543 ...\n",
      "[download] fragment not found; Skipping fragment 544 ...\n",
      "[download] fragment not found; Skipping fragment 545 ...\n",
      "[download] fragment not found; Skipping fragment 546 ...\n",
      "[download] fragment not found; Skipping fragment 547 ...\n",
      "[download] fragment not found; Skipping fragment 548 ...\n",
      "[download] fragment not found; Skipping fragment 549 ...\n",
      "[download] fragment not found; Skipping fragment 550 ...\n",
      "[download] fragment not found; Skipping fragment 551 ...\n",
      "[download] fragment not found; Skipping fragment 552 ...\n",
      "[download] fragment not found; Skipping fragment 553 ...\n",
      "[download] fragment not found; Skipping fragment 554 ...\n",
      "[download] fragment not found; Skipping fragment 555 ...\n",
      "[download] fragment not found; Skipping fragment 556 ...\n",
      "[download] fragment not found; Skipping fragment 557 ...\n",
      "[download] fragment not found; Skipping fragment 558 ...\n",
      "[download] fragment not found; Skipping fragment 559 ...\n",
      "[download] fragment not found; Skipping fragment 560 ...\n",
      "[download] fragment not found; Skipping fragment 561 ...\n",
      "[download] fragment not found; Skipping fragment 562 ...\n",
      "[download] fragment not found; Skipping fragment 563 ...\n",
      "[download] fragment not found; Skipping fragment 564 ...\n",
      "[download] fragment not found; Skipping fragment 565 ...\n",
      "[download] fragment not found; Skipping fragment 566 ...\n",
      "[download] fragment not found; Skipping fragment 567 ...\n",
      "[download] fragment not found; Skipping fragment 568 ...\n",
      "[download] fragment not found; Skipping fragment 569 ...\n",
      "[download] fragment not found; Skipping fragment 570 ...\n",
      "[download] fragment not found; Skipping fragment 571 ...\n",
      "[download] fragment not found; Skipping fragment 572 ...\n",
      "[download] fragment not found; Skipping fragment 573 ...\n",
      "[download] fragment not found; Skipping fragment 574 ...\n",
      "[download] fragment not found; Skipping fragment 575 ...\n",
      "[download] fragment not found; Skipping fragment 576 ...\n",
      "[download] fragment not found; Skipping fragment 577 ...\n",
      "[download] fragment not found; Skipping fragment 578 ...\n",
      "[download] fragment not found; Skipping fragment 579 ...\n",
      "[download] fragment not found; Skipping fragment 580 ...\n",
      "[download] fragment not found; Skipping fragment 581 ...\n",
      "[download] fragment not found; Skipping fragment 582 ...\n",
      "[download] fragment not found; Skipping fragment 583 ...\n",
      "[download] fragment not found; Skipping fragment 584 ...\n",
      "[download] fragment not found; Skipping fragment 585 ...\n",
      "[download] fragment not found; Skipping fragment 586 ...\n",
      "[download] fragment not found; Skipping fragment 587 ...\n",
      "[download] fragment not found; Skipping fragment 588 ...\n",
      "[download] fragment not found; Skipping fragment 589 ...\n",
      "[download] fragment not found; Skipping fragment 590 ...\n",
      "[download] fragment not found; Skipping fragment 591 ...\n",
      "[download] fragment not found; Skipping fragment 592 ...\n",
      "[download] fragment not found; Skipping fragment 593 ...\n",
      "[download] fragment not found; Skipping fragment 594 ...\n",
      "[download] fragment not found; Skipping fragment 595 ...\n",
      "[download] fragment not found; Skipping fragment 596 ...\n",
      "[download] fragment not found; Skipping fragment 597 ...\n",
      "[download] fragment not found; Skipping fragment 598 ...\n",
      "[download] fragment not found; Skipping fragment 599 ...\n",
      "[download] fragment not found; Skipping fragment 600 ...\n",
      "[download] fragment not found; Skipping fragment 601 ...\n",
      "[download] fragment not found; Skipping fragment 602 ...\n",
      "[download] fragment not found; Skipping fragment 603 ...\n",
      "[download] fragment not found; Skipping fragment 604 ...\n",
      "[download] fragment not found; Skipping fragment 605 ...\n",
      "[download] fragment not found; Skipping fragment 606 ...\n",
      "[download] fragment not found; Skipping fragment 607 ...\n",
      "[download] fragment not found; Skipping fragment 608 ...\n",
      "[download] fragment not found; Skipping fragment 609 ...\n",
      "[download] fragment not found; Skipping fragment 610 ...\n",
      "[download] fragment not found; Skipping fragment 611 ...\n",
      "[download] fragment not found; Skipping fragment 612 ...\n",
      "[download] fragment not found; Skipping fragment 613 ...\n",
      "[download] fragment not found; Skipping fragment 614 ...\n",
      "[download] fragment not found; Skipping fragment 615 ...\n",
      "[download] fragment not found; Skipping fragment 616 ...\n",
      "[download] fragment not found; Skipping fragment 617 ...\n",
      "[download] fragment not found; Skipping fragment 618 ...\n",
      "[download] fragment not found; Skipping fragment 619 ...\n",
      "[download] fragment not found; Skipping fragment 620 ...\n",
      "[download] fragment not found; Skipping fragment 621 ...\n",
      "[download] fragment not found; Skipping fragment 622 ...\n",
      "[download] fragment not found; Skipping fragment 623 ...\n",
      "[download] fragment not found; Skipping fragment 624 ...\n",
      "[download] fragment not found; Skipping fragment 625 ...\n",
      "[download] fragment not found; Skipping fragment 626 ...\n",
      "[download] fragment not found; Skipping fragment 627 ...\n",
      "[download] fragment not found; Skipping fragment 628 ...\n",
      "[download] fragment not found; Skipping fragment 629 ...\n",
      "[download] fragment not found; Skipping fragment 630 ...\n",
      "[download] fragment not found; Skipping fragment 631 ...\n",
      "[download] fragment not found; Skipping fragment 632 ...\n",
      "[download] fragment not found; Skipping fragment 633 ...\n",
      "[download] fragment not found; Skipping fragment 634 ...\n",
      "[download] fragment not found; Skipping fragment 635 ...\n",
      "[download] fragment not found; Skipping fragment 636 ...\n",
      "[download] fragment not found; Skipping fragment 637 ...\n",
      "[download] fragment not found; Skipping fragment 638 ...\n",
      "[download] fragment not found; Skipping fragment 639 ...\n",
      "[download] fragment not found; Skipping fragment 640 ...\n",
      "[download] fragment not found; Skipping fragment 641 ...\n",
      "[download] fragment not found; Skipping fragment 642 ...\n",
      "[download] fragment not found; Skipping fragment 643 ...\n",
      "[download] fragment not found; Skipping fragment 644 ...\n",
      "[download] fragment not found; Skipping fragment 645 ...\n",
      "[download] fragment not found; Skipping fragment 646 ...\n",
      "[download] fragment not found; Skipping fragment 647 ...\n",
      "[download] fragment not found; Skipping fragment 648 ...\n",
      "[download] fragment not found; Skipping fragment 649 ...\n",
      "[download] fragment not found; Skipping fragment 650 ...\n",
      "[download] fragment not found; Skipping fragment 651 ...\n",
      "[download] fragment not found; Skipping fragment 652 ...\n",
      "[download] fragment not found; Skipping fragment 653 ...\n",
      "[download] fragment not found; Skipping fragment 654 ...\n",
      "[download] fragment not found; Skipping fragment 655 ...\n",
      "[download] fragment not found; Skipping fragment 656 ...\n",
      "[download] fragment not found; Skipping fragment 657 ...\n",
      "[download] fragment not found; Skipping fragment 658 ...\n",
      "[download] fragment not found; Skipping fragment 659 ...\n",
      "[download] fragment not found; Skipping fragment 660 ...\n",
      "[download] fragment not found; Skipping fragment 661 ...\n",
      "[download] fragment not found; Skipping fragment 662 ...\n",
      "[download] fragment not found; Skipping fragment 663 ...\n",
      "[download] fragment not found; Skipping fragment 664 ...\n",
      "[download] fragment not found; Skipping fragment 665 ...\n",
      "[download] fragment not found; Skipping fragment 666 ...\n",
      "[download] fragment not found; Skipping fragment 667 ...\n",
      "[download] fragment not found; Skipping fragment 668 ...\n",
      "[download] fragment not found; Skipping fragment 669 ...\n",
      "[download] fragment not found; Skipping fragment 670 ...\n",
      "[download] fragment not found; Skipping fragment 671 ...\n",
      "[download] fragment not found; Skipping fragment 672 ...\n",
      "[download] fragment not found; Skipping fragment 673 ...\n",
      "[download] fragment not found; Skipping fragment 674 ...\n",
      "[download] fragment not found; Skipping fragment 675 ...\n",
      "[download] fragment not found; Skipping fragment 676 ...\n",
      "[download] fragment not found; Skipping fragment 677 ...\n",
      "[download] fragment not found; Skipping fragment 678 ...\n",
      "[download] fragment not found; Skipping fragment 679 ...\n",
      "[download] fragment not found; Skipping fragment 680 ...\n",
      "[download] fragment not found; Skipping fragment 681 ...\n",
      "[download] fragment not found; Skipping fragment 682 ...\n",
      "[download] fragment not found; Skipping fragment 683 ...\n",
      "[download] fragment not found; Skipping fragment 684 ...\n",
      "[download] fragment not found; Skipping fragment 685 ...\n",
      "[download] fragment not found; Skipping fragment 686 ...\n",
      "[download] fragment not found; Skipping fragment 687 ...\n",
      "[download] fragment not found; Skipping fragment 688 ...\n",
      "[download] fragment not found; Skipping fragment 689 ...\n",
      "[download] fragment not found; Skipping fragment 690 ...\n",
      "[download] fragment not found; Skipping fragment 691 ...\n",
      "[download] fragment not found; Skipping fragment 692 ...\n",
      "[download] fragment not found; Skipping fragment 693 ...\n",
      "[download] fragment not found; Skipping fragment 694 ...\n",
      "[download] fragment not found; Skipping fragment 695 ...\n",
      "[download] fragment not found; Skipping fragment 696 ...\n",
      "[download] fragment not found; Skipping fragment 697 ...\n",
      "[download] fragment not found; Skipping fragment 698 ...\n",
      "[download] fragment not found; Skipping fragment 699 ...\n",
      "[download] fragment not found; Skipping fragment 700 ...\n",
      "[download] fragment not found; Skipping fragment 701 ...\n",
      "[download] fragment not found; Skipping fragment 702 ...\n",
      "[download] fragment not found; Skipping fragment 703 ...\n",
      "[download] fragment not found; Skipping fragment 704 ...\n",
      "[download] fragment not found; Skipping fragment 705 ...\n",
      "[download] fragment not found; Skipping fragment 706 ...\n",
      "[download] fragment not found; Skipping fragment 707 ...\n",
      "[download] fragment not found; Skipping fragment 708 ...\n",
      "[download] fragment not found; Skipping fragment 709 ...\n",
      "[download] fragment not found; Skipping fragment 710 ...\n",
      "[download] fragment not found; Skipping fragment 711 ...\n",
      "[download] fragment not found; Skipping fragment 712 ...\n",
      "[download] fragment not found; Skipping fragment 713 ...\n",
      "[download] fragment not found; Skipping fragment 714 ...\n",
      "[download] fragment not found; Skipping fragment 715 ...\n",
      "[download] fragment not found; Skipping fragment 716 ...\n",
      "[download] fragment not found; Skipping fragment 717 ...\n",
      "[download] fragment not found; Skipping fragment 718 ...\n",
      "[download] fragment not found; Skipping fragment 719 ...\n",
      "[download] fragment not found; Skipping fragment 720 ...\n",
      "[download] fragment not found; Skipping fragment 721 ...\n",
      "[download] fragment not found; Skipping fragment 722 ...\n",
      "[download] fragment not found; Skipping fragment 723 ...\n",
      "[download] fragment not found; Skipping fragment 724 ...\n",
      "[download] fragment not found; Skipping fragment 725 ...\n",
      "[download] fragment not found; Skipping fragment 726 ...\n",
      "[download] fragment not found; Skipping fragment 727 ...\n",
      "[download] fragment not found; Skipping fragment 728 ...\n",
      "[download] fragment not found; Skipping fragment 729 ...\n",
      "[download] fragment not found; Skipping fragment 730 ...\n",
      "[download] fragment not found; Skipping fragment 731 ...\n",
      "[download] fragment not found; Skipping fragment 732 ...\n",
      "[download] fragment not found; Skipping fragment 733 ...\n",
      "[download] fragment not found; Skipping fragment 734 ...\n",
      "[download] fragment not found; Skipping fragment 735 ...\n",
      "[download] fragment not found; Skipping fragment 736 ...\n",
      "[download] fragment not found; Skipping fragment 737 ...\n",
      "[download] fragment not found; Skipping fragment 738 ...\n",
      "[download] fragment not found; Skipping fragment 739 ...\n",
      "[download] fragment not found; Skipping fragment 740 ...\n",
      "[download] fragment not found; Skipping fragment 741 ...\n",
      "[download] fragment not found; Skipping fragment 742 ...\n",
      "[download] fragment not found; Skipping fragment 743 ...\n",
      "[download] fragment not found; Skipping fragment 744 ...\n",
      "[download] fragment not found; Skipping fragment 745 ...\n",
      "[download] fragment not found; Skipping fragment 746 ...\n",
      "[download] fragment not found; Skipping fragment 747 ...\n",
      "[download] fragment not found; Skipping fragment 748 ...\n",
      "[download] fragment not found; Skipping fragment 749 ...\n",
      "[download] fragment not found; Skipping fragment 750 ...\n",
      "[download] fragment not found; Skipping fragment 751 ...\n",
      "[download] fragment not found; Skipping fragment 752 ...\n",
      "[download] fragment not found; Skipping fragment 753 ...\n",
      "[download] fragment not found; Skipping fragment 754 ...\n",
      "[download] fragment not found; Skipping fragment 755 ...\n",
      "[download] fragment not found; Skipping fragment 756 ...\n",
      "[download] fragment not found; Skipping fragment 757 ...\n",
      "[download] fragment not found; Skipping fragment 758 ...\n",
      "[download] fragment not found; Skipping fragment 759 ...\n",
      "[download] fragment not found; Skipping fragment 760 ...\n",
      "[download] fragment not found; Skipping fragment 761 ...\n",
      "[download] fragment not found; Skipping fragment 762 ...\n",
      "[download] fragment not found; Skipping fragment 763 ...\n",
      "[download] fragment not found; Skipping fragment 764 ...\n",
      "[download] fragment not found; Skipping fragment 765 ...\n",
      "[download] fragment not found; Skipping fragment 766 ...\n",
      "[download] fragment not found; Skipping fragment 767 ...\n",
      "[download] fragment not found; Skipping fragment 768 ...\n",
      "[download] fragment not found; Skipping fragment 769 ...\n",
      "[download] fragment not found; Skipping fragment 770 ...\n",
      "[download] fragment not found; Skipping fragment 771 ...\n",
      "[download] fragment not found; Skipping fragment 772 ...\n",
      "[download] fragment not found; Skipping fragment 773 ...\n",
      "[download] fragment not found; Skipping fragment 774 ...\n",
      "[download] fragment not found; Skipping fragment 775 ...\n",
      "[download] fragment not found; Skipping fragment 776 ...\n",
      "[download] fragment not found; Skipping fragment 777 ...\n",
      "[download] fragment not found; Skipping fragment 778 ...\n",
      "[download] fragment not found; Skipping fragment 779 ...\n",
      "[download] fragment not found; Skipping fragment 780 ...\n",
      "[download] fragment not found; Skipping fragment 781 ...\n",
      "[download] fragment not found; Skipping fragment 782 ...\n",
      "[download] fragment not found; Skipping fragment 783 ...\n",
      "[download] fragment not found; Skipping fragment 784 ...\n",
      "[download] fragment not found; Skipping fragment 785 ...\n",
      "[download] fragment not found; Skipping fragment 786 ...\n",
      "[download] fragment not found; Skipping fragment 787 ...\n",
      "[download] fragment not found; Skipping fragment 788 ...\n",
      "[download] fragment not found; Skipping fragment 789 ...\n",
      "[download] fragment not found; Skipping fragment 790 ...\n",
      "[download] fragment not found; Skipping fragment 791 ...\n",
      "[download] fragment not found; Skipping fragment 792 ...\n",
      "[download] fragment not found; Skipping fragment 793 ...\n",
      "[download] fragment not found; Skipping fragment 794 ...\n",
      "[download] fragment not found; Skipping fragment 795 ...\n",
      "[download] fragment not found; Skipping fragment 796 ...\n",
      "[download] fragment not found; Skipping fragment 797 ...\n",
      "[download] fragment not found; Skipping fragment 798 ...\n",
      "[download] fragment not found; Skipping fragment 799 ...\n",
      "[download] fragment not found; Skipping fragment 800 ...\n",
      "[download] fragment not found; Skipping fragment 801 ...\n",
      "[download] fragment not found; Skipping fragment 802 ...\n",
      "[download] fragment not found; Skipping fragment 803 ...\n",
      "[download] fragment not found; Skipping fragment 804 ...\n",
      "[download] fragment not found; Skipping fragment 805 ...\n",
      "[download] fragment not found; Skipping fragment 806 ...\n",
      "[download] fragment not found; Skipping fragment 807 ...\n",
      "[download] fragment not found; Skipping fragment 808 ...\n",
      "[download] fragment not found; Skipping fragment 809 ...\n",
      "[download] fragment not found; Skipping fragment 810 ...\n",
      "[download] fragment not found; Skipping fragment 811 ...\n",
      "[download] fragment not found; Skipping fragment 812 ...\n",
      "[download] fragment not found; Skipping fragment 813 ...\n",
      "[download] fragment not found; Skipping fragment 814 ...\n",
      "[download] fragment not found; Skipping fragment 815 ...\n",
      "[download] fragment not found; Skipping fragment 816 ...\n",
      "[download] fragment not found; Skipping fragment 817 ...\n",
      "[download] fragment not found; Skipping fragment 818 ...\n",
      "[download] fragment not found; Skipping fragment 819 ...\n",
      "[download] fragment not found; Skipping fragment 820 ...\n",
      "[download] fragment not found; Skipping fragment 821 ...\n",
      "[download] fragment not found; Skipping fragment 822 ...\n",
      "[download] fragment not found; Skipping fragment 823 ...\n",
      "[download] fragment not found; Skipping fragment 824 ...\n",
      "[download] fragment not found; Skipping fragment 825 ...\n",
      "[download] fragment not found; Skipping fragment 826 ...\n",
      "[download] fragment not found; Skipping fragment 827 ...\n",
      "[download] fragment not found; Skipping fragment 828 ...\n",
      "[download] fragment not found; Skipping fragment 829 ...\n",
      "[download] fragment not found; Skipping fragment 830 ...\n",
      "[download] fragment not found; Skipping fragment 831 ...\n",
      "[download] fragment not found; Skipping fragment 832 ...\n",
      "[download] fragment not found; Skipping fragment 833 ...\n",
      "[download] fragment not found; Skipping fragment 834 ...\n",
      "[download] fragment not found; Skipping fragment 835 ...\n",
      "[download] fragment not found; Skipping fragment 836 ...\n",
      "[download] fragment not found; Skipping fragment 837 ...\n",
      "[download] fragment not found; Skipping fragment 838 ...\n",
      "[download] fragment not found; Skipping fragment 839 ...\n",
      "[download] fragment not found; Skipping fragment 840 ...\n",
      "[download] fragment not found; Skipping fragment 841 ...\n",
      "[download] fragment not found; Skipping fragment 842 ...\n",
      "[download] fragment not found; Skipping fragment 843 ...\n",
      "[download] fragment not found; Skipping fragment 844 ...\n",
      "[download] fragment not found; Skipping fragment 845 ...\n",
      "[download] fragment not found; Skipping fragment 846 ...\n",
      "[download] fragment not found; Skipping fragment 847 ...\n",
      "[download] fragment not found; Skipping fragment 848 ...\n",
      "[download] fragment not found; Skipping fragment 849 ...\n",
      "[download] fragment not found; Skipping fragment 850 ...\n",
      "[download] fragment not found; Skipping fragment 851 ...\n",
      "[download] fragment not found; Skipping fragment 852 ...\n",
      "[download] fragment not found; Skipping fragment 853 ...\n",
      "[download] fragment not found; Skipping fragment 854 ...\n",
      "[download] fragment not found; Skipping fragment 855 ...\n",
      "[download] fragment not found; Skipping fragment 856 ...\n",
      "[download] fragment not found; Skipping fragment 857 ...\n",
      "[download] fragment not found; Skipping fragment 858 ...\n",
      "[download] fragment not found; Skipping fragment 859 ...\n",
      "[download] fragment not found; Skipping fragment 860 ...\n",
      "[download] fragment not found; Skipping fragment 861 ...\n",
      "[download] fragment not found; Skipping fragment 862 ...\n",
      "[download] fragment not found; Skipping fragment 863 ...\n",
      "[download] fragment not found; Skipping fragment 864 ...\n",
      "[download] fragment not found; Skipping fragment 865 ...\n",
      "[download] fragment not found; Skipping fragment 866 ...\n",
      "[download] fragment not found; Skipping fragment 867 ...\n",
      "[download] fragment not found; Skipping fragment 868 ...\n",
      "[download] fragment not found; Skipping fragment 869 ...\n",
      "[download] fragment not found; Skipping fragment 870 ...\n",
      "[download] fragment not found; Skipping fragment 871 ...\n",
      "[download] fragment not found; Skipping fragment 872 ...\n",
      "[download] fragment not found; Skipping fragment 873 ...\n",
      "[download] fragment not found; Skipping fragment 874 ...\n",
      "[download] fragment not found; Skipping fragment 875 ...\n",
      "[download] fragment not found; Skipping fragment 876 ...\n",
      "[download] fragment not found; Skipping fragment 877 ...\n",
      "[download] fragment not found; Skipping fragment 878 ...\n",
      "[download] fragment not found; Skipping fragment 879 ...\n",
      "[download] fragment not found; Skipping fragment 880 ...\n",
      "[download] fragment not found; Skipping fragment 881 ...\n",
      "[download] fragment not found; Skipping fragment 882 ...\n",
      "[download] fragment not found; Skipping fragment 883 ...\n",
      "[download] fragment not found; Skipping fragment 884 ...\n",
      "[download] fragment not found; Skipping fragment 885 ...\n",
      "[download] fragment not found; Skipping fragment 886 ...\n",
      "[download] fragment not found; Skipping fragment 887 ...\n",
      "[download] fragment not found; Skipping fragment 888 ...\n",
      "[download] fragment not found; Skipping fragment 889 ...\n",
      "[download] fragment not found; Skipping fragment 890 ...\n",
      "[download] fragment not found; Skipping fragment 891 ...\n",
      "[download] fragment not found; Skipping fragment 892 ...\n",
      "[download] fragment not found; Skipping fragment 893 ...\n",
      "[download] fragment not found; Skipping fragment 894 ...\n",
      "[download] fragment not found; Skipping fragment 895 ...\n",
      "[download] fragment not found; Skipping fragment 896 ...\n",
      "[download] fragment not found; Skipping fragment 897 ...\n",
      "[download] fragment not found; Skipping fragment 898 ...\n",
      "[download] fragment not found; Skipping fragment 899 ...\n",
      "[download] fragment not found; Skipping fragment 900 ...\n",
      "[download] fragment not found; Skipping fragment 901 ...\n",
      "[download] fragment not found; Skipping fragment 902 ...\n",
      "[download] fragment not found; Skipping fragment 903 ...\n",
      "[download] fragment not found; Skipping fragment 904 ...\n",
      "[download] fragment not found; Skipping fragment 905 ...\n",
      "[download] fragment not found; Skipping fragment 906 ...\n",
      "[download] fragment not found; Skipping fragment 907 ...\n",
      "[download] fragment not found; Skipping fragment 908 ...\n",
      "[download] fragment not found; Skipping fragment 909 ...\n",
      "[download] fragment not found; Skipping fragment 910 ...\n",
      "[download] fragment not found; Skipping fragment 911 ...\n",
      "[download] fragment not found; Skipping fragment 912 ...\n",
      "[download] fragment not found; Skipping fragment 913 ...\n",
      "[download] fragment not found; Skipping fragment 914 ...\n",
      "[download] fragment not found; Skipping fragment 915 ...\n",
      "[download] fragment not found; Skipping fragment 916 ...\n",
      "[download] fragment not found; Skipping fragment 917 ...\n",
      "[download] fragment not found; Skipping fragment 918 ...\n",
      "[download] fragment not found; Skipping fragment 919 ...\n",
      "[download] fragment not found; Skipping fragment 920 ...\n",
      "[download] fragment not found; Skipping fragment 921 ...\n",
      "[download] fragment not found; Skipping fragment 922 ...\n",
      "[download] fragment not found; Skipping fragment 923 ...\n",
      "[download] fragment not found; Skipping fragment 924 ...\n",
      "[download] fragment not found; Skipping fragment 925 ...\n",
      "[download] fragment not found; Skipping fragment 926 ...\n",
      "[download] fragment not found; Skipping fragment 927 ...\n",
      "[download] fragment not found; Skipping fragment 928 ...\n",
      "[download] fragment not found; Skipping fragment 929 ...\n",
      "[download] fragment not found; Skipping fragment 930 ...\n",
      "[download] fragment not found; Skipping fragment 931 ...\n",
      "[download] fragment not found; Skipping fragment 932 ...\n",
      "[download] fragment not found; Skipping fragment 933 ...\n",
      "[download] fragment not found; Skipping fragment 934 ...\n",
      "[download] fragment not found; Skipping fragment 935 ...\n",
      "[download] fragment not found; Skipping fragment 936 ...\n",
      "[download] fragment not found; Skipping fragment 937 ...\n",
      "[download] fragment not found; Skipping fragment 938 ...\n",
      "[download] fragment not found; Skipping fragment 939 ...\n",
      "[download] fragment not found; Skipping fragment 940 ...\n",
      "[download] fragment not found; Skipping fragment 941 ...\n",
      "[download] fragment not found; Skipping fragment 942 ...\n",
      "[download] fragment not found; Skipping fragment 943 ...\n",
      "[download] fragment not found; Skipping fragment 944 ...\n",
      "[download] fragment not found; Skipping fragment 945 ...\n",
      "[download] fragment not found; Skipping fragment 946 ...\n",
      "[download] fragment not found; Skipping fragment 947 ...\n",
      "[download] fragment not found; Skipping fragment 948 ...\n",
      "[download] fragment not found; Skipping fragment 949 ...\n",
      "[download] fragment not found; Skipping fragment 950 ...\n",
      "[download] fragment not found; Skipping fragment 951 ...\n",
      "[download] fragment not found; Skipping fragment 952 ...\n",
      "[download] fragment not found; Skipping fragment 953 ...\n",
      "[download] fragment not found; Skipping fragment 954 ...\n",
      "[download] fragment not found; Skipping fragment 955 ...\n",
      "[download] fragment not found; Skipping fragment 956 ...\n",
      "[download] fragment not found; Skipping fragment 957 ...\n",
      "[download] fragment not found; Skipping fragment 958 ...\n",
      "[download] fragment not found; Skipping fragment 959 ...\n",
      "[download] fragment not found; Skipping fragment 960 ...\n",
      "[download] fragment not found; Skipping fragment 961 ...\n",
      "[download] fragment not found; Skipping fragment 962 ...\n",
      "[download] fragment not found; Skipping fragment 963 ...\n",
      "[download] fragment not found; Skipping fragment 964 ...\n",
      "[download] fragment not found; Skipping fragment 965 ...\n",
      "[download] fragment not found; Skipping fragment 966 ...\n",
      "[download] fragment not found; Skipping fragment 967 ...\n",
      "[download] fragment not found; Skipping fragment 968 ...\n",
      "[download] fragment not found; Skipping fragment 969 ...\n",
      "[download] fragment not found; Skipping fragment 970 ...\n",
      "[download] fragment not found; Skipping fragment 971 ...\n",
      "[download] fragment not found; Skipping fragment 972 ...\n",
      "[download] fragment not found; Skipping fragment 973 ...\n",
      "[download] fragment not found; Skipping fragment 974 ...\n",
      "[download] fragment not found; Skipping fragment 975 ...\n",
      "[download] fragment not found; Skipping fragment 976 ...\n",
      "[download] fragment not found; Skipping fragment 977 ...\n",
      "[download] fragment not found; Skipping fragment 978 ...\n",
      "[download] fragment not found; Skipping fragment 979 ...\n",
      "[download] fragment not found; Skipping fragment 980 ...\n",
      "[download] fragment not found; Skipping fragment 981 ...\n",
      "[download] 100% of  493.42MiB in 00:01:28 at 5.59MiB/s                   \n",
      "[FixupM3u8] Fixing MPEG-TS in MP4 container of \"第17集.mp4\"\n",
      "第 17 集下載完成！\n",
      "正在嘗試下載第 18 集: https://www.cimy.cc/play/12615-1-18\n",
      "第 18 集找到 .m3u8 連結: https://api.heimuer.app/play/f44de07eafb14664a053353cdb88172b.m3u8\n",
      "[generic] Extracting URL: https://api.heimuer.app/play/f44de07eafb14664a053353cdb88172b.m3u8\n",
      "[generic] f44de07eafb14664a053353cdb88172b: Downloading webpage\n",
      "[generic] f44de07eafb14664a053353cdb88172b: Downloading m3u8 information\n",
      "[generic] f44de07eafb14664a053353cdb88172b: Checking m3u8 live status\n",
      "[info] f44de07eafb14664a053353cdb88172b: Downloading 1 format(s): 0\n",
      "[hlsnative] Downloading m3u8 manifest\n",
      "[hlsnative] Total fragments: 977\n",
      "[download] Destination: 第18集.mp4\n",
      "[download] 100% of    1.55GiB in 00:03:58 at 6.64MiB/s                   \n",
      "[FixupM3u8] Fixing MPEG-TS in MP4 container of \"第18集.mp4\"\n",
      "第 18 集下載完成！\n",
      "正在嘗試下載第 19 集: https://www.cimy.cc/play/12615-1-19\n",
      "第 19 集找到 .m3u8 連結: https://api.heimuer.app/play/90ef326661b74cd2aba1c7135d5a5e0b.m3u8\n",
      "[generic] Extracting URL: https://api.heimuer.app/play/90ef326661b74cd2aba1c7135d5a5e0b.m3u8\n",
      "[generic] 90ef326661b74cd2aba1c7135d5a5e0b: Downloading webpage\n",
      "[generic] 90ef326661b74cd2aba1c7135d5a5e0b: Downloading m3u8 information\n",
      "[generic] 90ef326661b74cd2aba1c7135d5a5e0b: Checking m3u8 live status\n",
      "[info] 90ef326661b74cd2aba1c7135d5a5e0b: Downloading 1 format(s): 0\n",
      "[hlsnative] Downloading m3u8 manifest\n",
      "[hlsnative] Total fragments: 967\n",
      "[download] Destination: 第19集.mp4\n",
      "[download]  34.6% of ~   1.54GiB at    2.08MiB/s ETA 08:32 (frag 336/967) "
     ]
    },
    {
     "name": "stderr",
     "output_type": "stream",
     "text": [
      "[download] Got error: HTTPSConnectionPool(host='4t74723ents.com', port=443): Read timed out. (read timeout=20.0)\n"
     ]
    },
    {
     "name": "stdout",
     "output_type": "stream",
     "text": [
      "[download] fragment not found; Skipping fragment 337 ...\n",
      "[download] 100% of    1.53GiB in 00:10:35 at 2.47MiB/s                     \n",
      "[FixupM3u8] Fixing MPEG-TS in MP4 container of \"第19集.mp4\"\n",
      "第 19 集下載完成！\n",
      "正在嘗試下載第 20 集: https://www.cimy.cc/play/12615-1-20\n",
      "第 20 集找到 .m3u8 連結: https://api.heimuer.app/play/ff49cbfc7be34a71b7e1b0e17cfd53b6.m3u8\n",
      "[generic] Extracting URL: https://api.heimuer.app/play/ff49cbfc7be34a71b7e1b0e17cfd53b6.m3u8\n",
      "[generic] ff49cbfc7be34a71b7e1b0e17cfd53b6: Downloading webpage\n",
      "[generic] ff49cbfc7be34a71b7e1b0e17cfd53b6: Downloading m3u8 information\n",
      "[generic] ff49cbfc7be34a71b7e1b0e17cfd53b6: Checking m3u8 live status\n",
      "[info] ff49cbfc7be34a71b7e1b0e17cfd53b6: Downloading 1 format(s): 0\n",
      "[hlsnative] Downloading m3u8 manifest\n",
      "[hlsnative] Total fragments: 994\n",
      "[download] Destination: 第20集.mp4\n",
      "[download] 100% of    1.58GiB in 00:10:07 at 2.66MiB/s                    \n",
      "[FixupM3u8] Fixing MPEG-TS in MP4 container of \"第20集.mp4\"\n",
      "第 20 集下載完成！\n"
     ]
    }
   ],
   "source": [
    "from selenium import webdriver\n",
    "from selenium.webdriver.chrome.service import Service\n",
    "from bs4 import BeautifulSoup\n",
    "import yt_dlp\n",
    "import re\n",
    "import time\n",
    "import urllib.parse\n",
    "\n",
    "# 基本 URL 結構\n",
    "base_episode_url = \"https://www.cimy.cc/play/12615-1-{}\"  # URL 格式\n",
    "ydl_opts = {\n",
    "    'format': 'bestvideo+bestaudio/best',  # 選擇最高解析度並確保包含音訊\n",
    "    'merge_output_format': 'mp4',          # 合併為 mp4 格式\n",
    "}\n",
    "\n",
    "# 設置 Selenium Chrome 瀏覽器\n",
    "options = webdriver.ChromeOptions()\n",
    "options.add_argument(\"--headless\")\n",
    "options.add_argument(\"--no-sandbox\")\n",
    "options.add_argument(\"--disable-dev-shm-usage\")\n",
    "service = Service()\n",
    "driver = webdriver.Chrome(service=service, options=options)\n",
    "\n",
    "def get_m3u8_url_dynamic(page_url):\n",
    "    driver.get(page_url)\n",
    "    time.sleep(3)  # 等待頁面完全加載\n",
    "\n",
    "    # 解析頁面 HTML 內容\n",
    "    soup = BeautifulSoup(driver.page_source, 'html.parser')\n",
    "    m3u8_url = None\n",
    "\n",
    "    # 檢查每個 iframe 並嘗試取得其內容中的 m3u8 連結\n",
    "    for iframe in soup.find_all('iframe'):\n",
    "        if 'src' in iframe.attrs:\n",
    "            iframe_src = iframe['src']\n",
    "            # 確保 URL 是完整的（若不是則自動補全）\n",
    "            if not urllib.parse.urlparse(iframe_src).scheme:\n",
    "                iframe_src = urllib.parse.urljoin(page_url, iframe_src)\n",
    "\n",
    "            # 訪問嵌入 iframe 網址\n",
    "            driver.get(iframe_src)\n",
    "            time.sleep(2)\n",
    "            m3u8_match = re.search(r'https?://[^\\s\\'\"]+\\.m3u8', driver.page_source)\n",
    "            if m3u8_match:\n",
    "                m3u8_url = m3u8_match.group(0)\n",
    "                break\n",
    "\n",
    "    return m3u8_url\n",
    "\n",
    "# 逐集解析和下載\n",
    "for episode_number in range(9, 21):\n",
    "    episode_url = base_episode_url.format(episode_number)\n",
    "    print(f\"正在嘗試下載第 {episode_number} 集: {episode_url}\")\n",
    "    m3u8_url = get_m3u8_url_dynamic(episode_url)\n",
    "    \n",
    "    if m3u8_url:\n",
    "        print(f\"第 {episode_number} 集找到 .m3u8 連結: {m3u8_url}\")\n",
    "        output_filename = f\"第{episode_number}集.%(ext)s\"\n",
    "        try:\n",
    "            with yt_dlp.YoutubeDL({**ydl_opts, 'outtmpl': output_filename}) as ydl:\n",
    "                ydl.download([m3u8_url])\n",
    "            print(f\"第 {episode_number} 集下載完成！\")\n",
    "        except yt_dlp.utils.DownloadError:\n",
    "            print(f\"第 {episode_number} 集下載失敗，請檢查 .m3u8 連結是否有效。\")\n",
    "    else:\n",
    "        print(f\"第 {episode_number} 集未找到有效的 .m3u8 連結。\")\n",
    "\n",
    "# 關閉瀏覽器\n",
    "driver.quit()\n"
   ]
  }
 ],
 "metadata": {
  "kernelspec": {
   "display_name": "envAWS",
   "language": "python",
   "name": "python3"
  },
  "language_info": {
   "codemirror_mode": {
    "name": "ipython",
    "version": 3
   },
   "file_extension": ".py",
   "mimetype": "text/x-python",
   "name": "python",
   "nbconvert_exporter": "python",
   "pygments_lexer": "ipython3",
   "version": "3.10.11"
  }
 },
 "nbformat": 4,
 "nbformat_minor": 2
}
