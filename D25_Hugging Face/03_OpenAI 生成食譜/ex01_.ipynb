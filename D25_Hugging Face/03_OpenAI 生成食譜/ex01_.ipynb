{
 "cells": [
  {
   "cell_type": "markdown",
   "metadata": {},
   "source": [
    "圖片轉文本"
   ]
  },
  {
   "cell_type": "code",
   "execution_count": null,
   "metadata": {},
   "outputs": [],
   "source": [
    "import os\n",
    "from dotenv import load_dotenv\n",
    "from transformers import pipeline\n",
    "from PIL import Image\n",
    "\n",
    "# 載入 .env 文件中的環境變數\n",
    "load_dotenv()\n",
    "\n",
    "def image_to_text(image_path):\n",
    "    try:\n",
    "        pipe = pipeline(\n",
    "            \"image-to-text\",\n",
    "            model=\"Salesforce/blip-image-captioning-large\",\n",
    "            max_new_tokens=1000,\n",
    "        )\n",
    "        # 讀取本地圖片\n",
    "        image = Image.open(image_path)\n",
    "        text = pipe(image)[0][\"generated_text\"]\n",
    "        return text\n",
    "    except Exception as e:\n",
    "        return f\"Error: {e}\"\n",
    "\n",
    "# 測試函數\n",
    "def test_image_to_text():\n",
    "    # 替換為您的本地圖片路徑\n",
    "    # test_image_path = \"麻婆豆腐.png\"\n",
    "    test_image_path = \"棒球場.png\"\n",
    "    result = image_to_text(test_image_path)\n",
    "    print(\"圖像轉換為文字結果:\", result)\n",
    "\n",
    "if __name__ == \"__main__\":\n",
    "    test_image_to_text()\n"
   ]
  }
 ],
 "metadata": {
  "language_info": {
   "name": "python"
  }
 },
 "nbformat": 4,
 "nbformat_minor": 2
}
