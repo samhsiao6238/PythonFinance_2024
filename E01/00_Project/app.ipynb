{
 "cells": [
  {
   "cell_type": "code",
   "execution_count": 2,
   "metadata": {},
   "outputs": [],
   "source": [
    "# 導入 pandas 庫\n",
    "import pandas as pd\n",
    "\n",
    "'''載入數據集'''\n",
    "# 讀取 Netflix 數據檔案\n",
    "df = pd.read_csv('netflix_titles.csv')\n",
    "\n",
    "'''處理遺漏值'''\n",
    "# 將導演列遺漏值填充為 'No director'\n",
    "df['director'].fillna('No director', inplace=True)\n",
    "# 演員：'No cast'\n",
    "df['cast'].fillna('No cast', inplace=True)\n",
    "# 國家：'No country'\n",
    "df['country'].fillna('No country', inplace=True)\n",
    "\n",
    "'''數據清洗'''\n",
    "# 刪除包含遺漏值的 row\n",
    "df.dropna(inplace=True)\n",
    "# 刪除有重複值的 row\n",
    "df.drop_duplicates(inplace=True)\n",
    "\n",
    "# 清理 `date_added` 列的空白字符並轉換為 `datetime`\n",
    "df['date_added'] = pd.to_datetime(df['date_added'].str.strip())\n",
    "\n",
    "# 保存：不包含索引\n",
    "df.to_csv('netflix_titles.csv', index=False)"
   ]
  },
  {
   "cell_type": "code",
   "execution_count": null,
   "metadata": {},
   "outputs": [],
   "source": []
  }
 ],
 "metadata": {
  "kernelspec": {
   "display_name": "envDash",
   "language": "python",
   "name": "python3"
  },
  "language_info": {
   "codemirror_mode": {
    "name": "ipython",
    "version": 3
   },
   "file_extension": ".py",
   "mimetype": "text/x-python",
   "name": "python",
   "nbconvert_exporter": "python",
   "pygments_lexer": "ipython3",
   "version": "3.9.6"
  }
 },
 "nbformat": 4,
 "nbformat_minor": 2
}
