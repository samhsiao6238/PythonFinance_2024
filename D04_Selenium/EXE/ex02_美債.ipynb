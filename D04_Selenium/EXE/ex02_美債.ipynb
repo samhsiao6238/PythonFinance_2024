{
 "cells": [
  {
   "cell_type": "code",
   "execution_count": null,
   "metadata": {},
   "outputs": [],
   "source": [
    "# pip install pandas openpyxl"
   ]
  },
  {
   "cell_type": "code",
   "execution_count": 8,
   "metadata": {},
   "outputs": [
    {
     "name": "stdout",
     "output_type": "stream",
     "text": [
      "資料已保存為 price_information.xlsx\n"
     ]
    }
   ],
   "source": [
    "import requests\n",
    "import json\n",
    "import pandas as pd\n",
    "\n",
    "# 指定 ISIN 代碼和 URL\n",
    "_ISIN_CODE = 'US872898AJ06'\n",
    "url = f\"https://api.boerse-frankfurt.de/v1/data/price_information?isin={_ISIN_CODE}&mic=XFRA\"\n",
    "\n",
    "# 發送請求並獲取響應\n",
    "response = requests.get(url)\n",
    "\n",
    "# 檢查響應狀態碼\n",
    "if response.status_code == 200:\n",
    "    # 將回應內容按照 \"data:\" 進行分割\n",
    "    parts = response.text.split(\"data:\")\n",
    "\n",
    "    # 檢查是否存在至少兩個部分\n",
    "    if len(parts) > 1:\n",
    "        # 嘗試解析第一部分的 JSON 數據\n",
    "        try:\n",
    "            data_json = parts[1].strip()\n",
    "            data = json.loads(data_json)\n",
    "\n",
    "            # 轉換為 pandas DataFrame\n",
    "            df = pd.DataFrame([data])\n",
    "\n",
    "            # 保存為 Excel 文件\n",
    "            excel_file = 'price_information.xlsx'\n",
    "            df.to_excel(excel_file, index=False)\n",
    "\n",
    "            print(f\"資料已保存為 {excel_file}\")\n",
    "\n",
    "        except json.JSONDecodeError as e:\n",
    "            print(f\"JSON 無法解析： {e}\")\n",
    "    else:\n",
    "        print(\"未找到有效的 'data:' 資料\")\n",
    "else:\n",
    "    print(f\"發生錯誤：無法取得資料：{response.status_code}\")\n"
   ]
  }
 ],
 "metadata": {
  "kernelspec": {
   "display_name": "envDash",
   "language": "python",
   "name": "python3"
  },
  "language_info": {
   "codemirror_mode": {
    "name": "ipython",
    "version": 3
   },
   "file_extension": ".py",
   "mimetype": "text/x-python",
   "name": "python",
   "nbconvert_exporter": "python",
   "pygments_lexer": "ipython3",
   "version": "3.10.11"
  }
 },
 "nbformat": 4,
 "nbformat_minor": 2
}
