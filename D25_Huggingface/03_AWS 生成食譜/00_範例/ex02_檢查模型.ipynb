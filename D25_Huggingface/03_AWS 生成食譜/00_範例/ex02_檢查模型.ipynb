{
 "cells": [
  {
   "cell_type": "markdown",
   "metadata": {},
   "source": [
    "[參考](https://medium.com/@simon3458/aws-workshop-bedrock-llm-note-202404-4016d9ce9dc5)"
   ]
  },
  {
   "cell_type": "code",
   "execution_count": 1,
   "metadata": {},
   "outputs": [
    {
     "name": "stdout",
     "output_type": "stream",
     "text": [
      "No models available.\n",
      "Access Denied: You don't have access to the model with the specified model ID.\n"
     ]
    }
   ],
   "source": [
    "import os\n",
    "import boto3\n",
    "from botocore.exceptions import ClientError\n",
    "from dotenv import load_dotenv\n",
    "\n",
    "# 加载环境变量\n",
    "load_dotenv()\n",
    "\n",
    "def check_model_access():\n",
    "    aws_access_key_id = os.getenv(\"AWS_ACCESS_KEY_ID\")\n",
    "    aws_secret_access_key = os.getenv(\"AWS_SECRET_ACCESS_KEY\")\n",
    "    region_name = os.getenv(\"AWS_REGION\")\n",
    "\n",
    "    if not all([aws_access_key_id, aws_secret_access_key, region_name]):\n",
    "        print(\"错误：环境变量中未设置 AWS 凭证或区域。\")\n",
    "        return\n",
    "\n",
    "    client = boto3.client(\n",
    "        \"bedrock-runtime\",\n",
    "        aws_access_key_id=aws_access_key_id,\n",
    "        aws_secret_access_key=aws_secret_access_key,\n",
    "        region_name=region_name,\n",
    "    )\n",
    "    model_id = \"anthropic.claude-v2\"  \n",
    "\n",
    "    try:\n",
    "        response = client.invoke_model(\n",
    "            modelId=model_id,\n",
    "            body=b'Test input to check access.'\n",
    "        )\n",
    "        print(\"成功：访问模型已经被允许。\")\n",
    "        print(response)\n",
    "    except ClientError as e:\n",
    "        if e.response[\"Error\"][\"Code\"] == \"AccessDeniedException\":\n",
    "            print(f\"Access Denied: {e.response['Error']['Message']}\")\n",
    "        else:\n",
    "            print(f\"Error: {e.response['Error']['Message']}\")\n",
    "    except Exception as e:\n",
    "        print(f\"Unexpected error: {e}\")\n",
    "\n",
    "def list_available_models():\n",
    "    aws_access_key_id = os.getenv(\"AWS_ACCESS_KEY_ID\")\n",
    "    aws_secret_access_key = os.getenv(\"AWS_SECRET_ACCESS_KEY\")\n",
    "    region_name = os.getenv(\"AWS_REGION\")\n",
    "\n",
    "    client = boto3.client(\n",
    "        \"bedrock\",\n",
    "        aws_access_key_id=aws_access_key_id,\n",
    "        aws_secret_access_key=aws_secret_access_key,\n",
    "        region_name=region_name,\n",
    "    )\n",
    "\n",
    "    try:\n",
    "        response = client.list_foundation_models()\n",
    "        models = response.get('models', [])\n",
    "        if models:\n",
    "            print(\"Available models:\")\n",
    "            for model in models:\n",
    "                print(f\"Model ID: {model['modelId']}, Name: {model['name']}\")\n",
    "        else:\n",
    "            print(\"No models available.\")\n",
    "    except ClientError as e:\n",
    "        print(f\"Error: {e.response['Error']['Message']}\")\n",
    "    except Exception as e:\n",
    "        print(f\"Unexpected error: {e}\")\n",
    "\n",
    "if __name__ == \"__main__\":\n",
    "    list_available_models()\n",
    "    check_model_access()\n"
   ]
  }
 ],
 "metadata": {
  "kernelspec": {
   "display_name": "envllmChatBot",
   "language": "python",
   "name": "python3"
  },
  "language_info": {
   "codemirror_mode": {
    "name": "ipython",
    "version": 3
   },
   "file_extension": ".py",
   "mimetype": "text/x-python",
   "name": "python",
   "nbconvert_exporter": "python",
   "pygments_lexer": "ipython3",
   "version": "3.11.7"
  }
 },
 "nbformat": 4,
 "nbformat_minor": 2
}
