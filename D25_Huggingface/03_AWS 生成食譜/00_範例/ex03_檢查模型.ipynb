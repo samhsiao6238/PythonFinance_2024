{
 "cells": [
  {
   "cell_type": "markdown",
   "metadata": {},
   "source": [
    "檢查模型存取權限腳本"
   ]
  },
  {
   "cell_type": "code",
   "execution_count": 2,
   "metadata": {},
   "outputs": [
    {
     "name": "stdout",
     "output_type": "stream",
     "text": [
      "没有找到可用模型。\n"
     ]
    }
   ],
   "source": [
    "import os\n",
    "import boto3\n",
    "from botocore.exceptions import ClientError\n",
    "from dotenv import load_dotenv\n",
    "\n",
    "# 加载环境变量\n",
    "load_dotenv()\n",
    "\n",
    "def list_available_models():\n",
    "    aws_access_key_id = os.getenv(\"AWS_ACCESS_KEY_ID\")\n",
    "    aws_secret_access_key = os.getenv(\"AWS_SECRET_ACCESS_KEY\")\n",
    "    region_name = os.getenv(\"AWS_REGION\")\n",
    "\n",
    "    client = boto3.client(\n",
    "        \"bedrock\",\n",
    "        aws_access_key_id=aws_access_key_id,\n",
    "        aws_secret_access_key=aws_secret_access_key,\n",
    "        region_name=region_name,\n",
    "    )\n",
    "\n",
    "    try:\n",
    "        response = client.list_foundation_models()\n",
    "        models = response.get('models', [])\n",
    "        if models:\n",
    "            print(\"可用模型：\")\n",
    "            for model in models:\n",
    "                print(f\"模型 ID: {model['modelId']}, 名称: {model['name']}\")\n",
    "        else:\n",
    "            print(\"没有找到可用模型。\")\n",
    "    except ClientError as e:\n",
    "        print(f\"错误: {e.response['Error']['Message']}\")\n",
    "    except Exception as e:\n",
    "        print(f\"意外错误: {e}\")\n",
    "\n",
    "if __name__ == \"__main__\":\n",
    "    list_available_models()"
   ]
  }
 ],
 "metadata": {
  "kernelspec": {
   "display_name": "envllmChatBot",
   "language": "python",
   "name": "python3"
  },
  "language_info": {
   "codemirror_mode": {
    "name": "ipython",
    "version": 3
   },
   "file_extension": ".py",
   "mimetype": "text/x-python",
   "name": "python",
   "nbconvert_exporter": "python",
   "pygments_lexer": "ipython3",
   "version": "3.11.7"
  }
 },
 "nbformat": 4,
 "nbformat_minor": 2
}
