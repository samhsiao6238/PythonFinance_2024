{
 "cells": [
  {
   "cell_type": "markdown",
   "metadata": {},
   "source": [
    "檢查 AWS 權限\n"
   ]
  },
  {
   "cell_type": "code",
   "execution_count": 8,
   "metadata": {},
   "outputs": [
    {
     "name": "stdout",
     "output_type": "stream",
     "text": [
      "Access Denied: You don't have access to the model with the specified model ID.\n"
     ]
    }
   ],
   "source": [
    "import os\n",
    "import boto3\n",
    "from botocore.exceptions import ClientError\n",
    "from dotenv import load_dotenv\n",
    "\n",
    "# 環境變數\n",
    "load_dotenv()\n",
    "\n",
    "def check_model_access():\n",
    "    # 取得密鑰\n",
    "    aws_access_key_id = os.getenv(\"AWS_ACCESS_KEY_ID\")\n",
    "    aws_secret_access_key = os.getenv(\"AWS_SECRET_ACCESS_KEY\")\n",
    "    region_name = os.getenv(\"AWS_REGION\")\n",
    "\n",
    "    # 確認環境變數\n",
    "    if not all([aws_access_key_id, aws_secret_access_key, region_name]):\n",
    "        print(\"錯誤：環境變數中未設定 AWS 憑證或區域。\")\n",
    "        return\n",
    "\n",
    "    # 建立 AWS Bedrock 客戶端\n",
    "    client = boto3.client(\n",
    "        \"bedrock-runtime\",\n",
    "        aws_access_key_id=aws_access_key_id,\n",
    "        aws_secret_access_key=aws_secret_access_key,\n",
    "        region_name=region_name,\n",
    "    )\n",
    "    # 模型 ID\n",
    "    model_id = \"anthropic.claude-v2\"  \n",
    "\n",
    "    try:\n",
    "        # 調用模型\n",
    "        response = client.invoke_model(\n",
    "            modelId=model_id,\n",
    "            body=b'Test input to check access.'\n",
    "        )\n",
    "        print(\"成功：訪問模型已經被允許。\")\n",
    "    except ClientError as e:\n",
    "        if e.response[\"Error\"][\"Code\"] == \"AccessDeniedException\":\n",
    "            print(f\"Access Denied: {e.response['Error']['Message']}\")\n",
    "        else:\n",
    "            print(f\"Error: {e.response['Error']['Message']}\")\n",
    "    except Exception as e:\n",
    "        print(f\"Unexpected error: {e}\")\n",
    "\n",
    "if __name__ == \"__main__\":\n",
    "    check_model_access()\n"
   ]
  },
  {
   "cell_type": "markdown",
   "metadata": {},
   "source": [
    "檢查"
   ]
  },
  {
   "cell_type": "code",
   "execution_count": 7,
   "metadata": {},
   "outputs": [
    {
     "name": "stdout",
     "output_type": "stream",
     "text": [
      "Access Denied: You don't have access to the model with the specified model ID.\n"
     ]
    }
   ],
   "source": [
    "import os\n",
    "import boto3\n",
    "from botocore.exceptions import ClientError\n",
    "from dotenv import load_dotenv\n",
    "\n",
    "# 加载环境变量\n",
    "load_dotenv()\n",
    "\n",
    "def check_model_access(model_id):\n",
    "    aws_access_key_id = os.getenv(\"AWS_ACCESS_KEY_ID\")\n",
    "    aws_secret_access_key = os.getenv(\"AWS_SECRET_ACCESS_KEY\")\n",
    "    region_name = os.getenv(\"AWS_REGION\")\n",
    "\n",
    "    if not all([aws_access_key_id, aws_secret_access_key, region_name]):\n",
    "        print(\"错误：环境变量中未设置 AWS 凭证或区域。\")\n",
    "        return\n",
    "\n",
    "    client = boto3.client(\n",
    "        \"bedrock-runtime\",\n",
    "        aws_access_key_id=aws_access_key_id,\n",
    "        aws_secret_access_key=aws_secret_access_key,\n",
    "        region_name=region_name,\n",
    "    )\n",
    "\n",
    "    try:\n",
    "        response = client.invoke_model(\n",
    "            modelId=model_id,\n",
    "            body=b'Test input to check access.'\n",
    "        )\n",
    "        print(\"成功：访问模型已经被允许。\")\n",
    "        print(response)\n",
    "    except ClientError as e:\n",
    "        if e.response[\"Error\"][\"Code\"] == \"AccessDeniedException\":\n",
    "            print(f\"Access Denied: {e.response['Error']['Message']}\")\n",
    "        else:\n",
    "            print(f\"Error: {e.response['Error']['Message']}\")\n",
    "    except Exception as e:\n",
    "        print(f\"Unexpected error: {e}\")\n",
    "\n",
    "if __name__ == \"__main__\":\n",
    "    # 检查特定模型的访问权限\n",
    "    model_id = \"anthropic.claude-v2\"  # 替换为你要检查的模型 ID\n",
    "    check_model_access(model_id)\n"
   ]
  }
 ],
 "metadata": {
  "kernelspec": {
   "display_name": "envllmChatBot",
   "language": "python",
   "name": "python3"
  },
  "language_info": {
   "codemirror_mode": {
    "name": "ipython",
    "version": 3
   },
   "file_extension": ".py",
   "mimetype": "text/x-python",
   "name": "python",
   "nbconvert_exporter": "python",
   "pygments_lexer": "ipython3",
   "version": "3.11.7"
  }
 },
 "nbformat": 4,
 "nbformat_minor": 2
}
