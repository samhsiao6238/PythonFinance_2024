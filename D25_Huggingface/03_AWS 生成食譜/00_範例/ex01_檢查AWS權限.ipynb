{
 "cells": [
  {
   "cell_type": "markdown",
   "metadata": {},
   "source": [
    "檢查 AWS 權限\n"
   ]
  },
  {
   "cell_type": "code",
   "execution_count": 8,
   "metadata": {},
   "outputs": [
    {
     "name": "stdout",
     "output_type": "stream",
     "text": [
      "Access Denied: You don't have access to the model with the specified model ID.\n"
     ]
    }
   ],
   "source": [
    "import os\n",
    "import boto3\n",
    "from botocore.exceptions import ClientError\n",
    "from dotenv import load_dotenv\n",
    "import json\n",
    "\n",
    "# 環境變數\n",
    "load_dotenv()\n",
    "\n",
    "def check_model_access():\n",
    "    # 獲取密鑰\n",
    "    aws_access_key_id = os.getenv(\"AWS_ACCESS_KEY_ID\")\n",
    "    aws_secret_access_key = os.getenv(\"AWS_SECRET_ACCESS_KEY\")\n",
    "    region_name = os.getenv(\"AWS_REGION\")\n",
    "\n",
    "    # 確認取得變數\n",
    "    if not all([\n",
    "        aws_access_key_id,\n",
    "        aws_secret_access_key,\n",
    "        region_name\n",
    "    ]):\n",
    "        print(\"錯誤：環境變數中並未設置 AWS 憑證或區域。\")\n",
    "        return\n",
    "\n",
    "    # 建立 AWS Bedrock 客戶端實體\n",
    "    client = boto3.client(\n",
    "        \"bedrock-runtime\",\n",
    "        aws_access_key_id=aws_access_key_id,\n",
    "        aws_secret_access_key=aws_secret_access_key,\n",
    "        region_name=region_name,\n",
    "    )\n",
    "    \n",
    "    # 指定要使用的模型 ID\n",
    "    # model_id = \"anthropic.claude-v2\"\n",
    "    model_id = \"amazon.titan-tg1-large\"\n",
    "\n",
    "    try:\n",
    "        # 調用模型\n",
    "        body = json.dumps({\n",
    "            # 這是對話指定的格式\n",
    "            \"prompt\": \"\\n\\nHuman: 請簡短一句話介紹自己。\\n\\nAssistant:\",\n",
    "            \"max_tokens_to_sample\": 100\n",
    "        })\n",
    "        response = client.invoke_model(\n",
    "            modelId=model_id,\n",
    "            body=body.encode('utf-8'),\n",
    "            contentType='application/json',\n",
    "            accept='application/json'\n",
    "        )\n",
    "        response_body = json.loads(response['body'].read())\n",
    "        print(\"成功：存取模型已經被允許。\")\n",
    "        print(\"響應內容：\", response_body.get('completion', 'No completion in response'))\n",
    "    except ClientError as e:\n",
    "        if e.response[\"Error\"][\"Code\"] == \"AccessDeniedException\":\n",
    "            print(f\"Access Denied: {e.response['Error']['Message']}\")\n",
    "        else:\n",
    "            print(f\"Error: {e.response['Error']['Message']}\")\n",
    "    except Exception as e:\n",
    "        print(f\"Unexpected error: {e}\")\n",
    "\n",
    "if __name__ == \"__main__\":\n",
    "    check_model_access()\n"
   ]
  }
 ],
 "metadata": {
  "kernelspec": {
   "display_name": "envllmChatBot",
   "language": "python",
   "name": "python3"
  },
  "language_info": {
   "codemirror_mode": {
    "name": "ipython",
    "version": 3
   },
   "file_extension": ".py",
   "mimetype": "text/x-python",
   "name": "python",
   "nbconvert_exporter": "python",
   "pygments_lexer": "ipython3",
   "version": "3.11.7"
  }
 },
 "nbformat": 4,
 "nbformat_minor": 2
}
