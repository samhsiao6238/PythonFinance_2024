{
 "cells": [
  {
   "cell_type": "markdown",
   "id": "81555d2e-76bc-4738-a06f-4e1d421d8108",
   "metadata": {
    "tags": []
   },
   "source": [
    "# 向量儲存 Vector datastore\n"
   ]
  },
  {
   "cell_type": "markdown",
   "id": "e666e017",
   "metadata": {},
   "source": [
    "Amazon Aurora 使用 `pgvector`\n"
   ]
  },
  {
   "cell_type": "markdown",
   "id": "621b91c0-f5f4-49f1-9a44-f53d8338f63f",
   "metadata": {
    "tags": []
   },
   "source": [
    "請注意，\n",
    "\n",
    "準備好 Aurora 集群\n",
    "在 Aurora PostgreSQL 資料庫 (DB) 叢集上建立 pgvector 擴充\n",
    "建立擴展向量；\n"
   ]
  },
  {
   "cell_type": "markdown",
   "id": "982876f2-fce3-4af7-ae2d-4061a35e2915",
   "metadata": {
    "tags": []
   },
   "source": [
    "連接到 Aurora 叢集並檢查\n",
    "\n",
    "```sql\n",
    "-- 顯示當前資料庫\n",
    "SELECT current_database();\n",
    "\n",
    "-- 顯示資料庫中的資料表\n",
    "SELECT table_name\n",
    "FROM postgres.information_schema.tables\n",
    "WHERE table_schema = 'public';\n",
    "```\n"
   ]
  },
  {
   "cell_type": "markdown",
   "id": "d436e685-01d0-4ba5-8807-b0527d3e462d",
   "metadata": {
    "tags": []
   },
   "source": [
    "## 導入函式庫\n"
   ]
  },
  {
   "cell_type": "code",
   "execution_count": 1,
   "id": "adfe5d1b-554c-43af-b1b5-df181ddf5efc",
   "metadata": {
    "tags": []
   },
   "outputs": [
    {
     "data": {
      "text/plain": [
       "True"
      ]
     },
     "execution_count": 1,
     "metadata": {},
     "output_type": "execute_result"
    }
   ],
   "source": [
    "# BedrockEmbeddings 類別是用來將文本轉換成嵌入向量的工具\n",
    "from langchain.embeddings import BedrockEmbeddings\n",
    "from langchain.vectorstores.pgvector import PGVector, DistanceStrategy\n",
    "import os\n",
    "from dotenv import load_dotenv\n",
    "\n",
    "# 載入環境參數\n",
    "load_dotenv()"
   ]
  },
  {
   "cell_type": "markdown",
   "id": "d94c137f-2a55-4d87-8cb3-ea0bbd2df59a",
   "metadata": {
    "tags": []
   },
   "source": [
    "## Create a `collection` and `connect` with the Vector store\n"
   ]
  },
  {
   "cell_type": "code",
   "execution_count": 2,
   "id": "86c1240c-4765-4837-8737-64a3a4cb634e",
   "metadata": {
    "tags": []
   },
   "outputs": [
    {
     "name": "stderr",
     "output_type": "stream",
     "text": [
      "/Users/samhsiao/Documents/PythonVenv/envllmChatBot/lib/python3.11/site-packages/langchain_core/_api/deprecation.py:119: LangChainPendingDeprecationWarning: This class is pending deprecation and may be removed in a future version. You can swap to using the `PGVector` implementation in `langchain_postgres`. Please read the guidelines in the doc-string of this class to follow prior to migrating as there are some differences between the implementations. See https://github.com/langchain-ai/langchain-postgres for details aboutthe new implementation.\n",
      "  warn_deprecated(\n",
      "/Users/samhsiao/Documents/PythonVenv/envllmChatBot/lib/python3.11/site-packages/langchain_community/vectorstores/pgvector.py:322: LangChainPendingDeprecationWarning: Please use JSONB instead of JSON for metadata. This change will allow for more efficient querying that involves filtering based on metadata.Please note that filtering operators have been changed when using JSOB metadata to be prefixed with a $ sign to avoid name collisions with columns. If you're using an existing database, you will need to create adb migration for your metadata column to be JSONB and update your queries to use the new operators. \n",
      "  warn_deprecated(\n"
     ]
    }
   ],
   "source": [
    "# Collection Name\n",
    "COLLECTION_NAME = \"my_collection\"\n",
    "\n",
    "# Connection String\n",
    "CONNECTION_STRING = PGVector.connection_string_from_db_params(\n",
    "    driver=os.getenv(\"PGVECTOR_DRIVER\"),\n",
    "    user=os.getenv(\"PGVECTOR_USER\"),\n",
    "    password=os.getenv(\"PGVECTOR_PASSWORD\"),\n",
    "    host=os.getenv(\"PGVECTOR_HOST\"),\n",
    "    port=os.getenv(\"PGVECTOR_PORT\"),\n",
    "    database=os.getenv(\"PGVECTOR_DATABASE\"),\n",
    ")\n",
    "\n",
    "# 創建一個實例，用來將文本轉換成嵌入向量\n",
    "embeddings = BedrockEmbeddings()\n",
    "\n",
    "# 建立 VectorDB 儲存實例\n",
    "my_vector_store = PGVector(\n",
    "    collection_name=COLLECTION_NAME,\n",
    "    connection_string=CONNECTION_STRING,\n",
    "    embedding_function=embeddings,\n",
    "    distance_strategy=DistanceStrategy.EUCLIDEAN,\n",
    ")"
   ]
  },
  {
   "cell_type": "markdown",
   "id": "95298e96-abb4-4315-97f8-40034ab7c061",
   "metadata": {
    "tags": []
   },
   "source": [
    "此時，`LangChain`將在 Aurora 資料庫中建立**兩個**表：\n",
    "\n",
    "- `langchain_pg_collection`\n",
    "- `langchain_pg_embedding`\n",
    "\n",
    "We can see these **two** tables\n"
   ]
  },
  {
   "cell_type": "markdown",
   "id": "d3ee517e-38c7-42c4-b1af-ebf31051eca7",
   "metadata": {
    "tags": []
   },
   "source": [
    "![Vector Store on AWS](images/sql_lc_show_tables.png)\n"
   ]
  },
  {
   "cell_type": "markdown",
   "id": "137b9498-b269-47f5-89a8-794709244a7d",
   "metadata": {},
   "source": [
    "We can see our newly created `COLLECTION` **my_collection**\n"
   ]
  },
  {
   "cell_type": "markdown",
   "id": "155bca0c-7058-47dc-9cf9-3fde0415fd2d",
   "metadata": {
    "tags": []
   },
   "source": [
    "![Vector Store on AWS](images/sql_lc_show_tables2.png)\n"
   ]
  },
  {
   "cell_type": "markdown",
   "id": "541a3e1a-e6dd-4bbe-bc95-7640b3d9dd4f",
   "metadata": {},
   "source": [
    "Let's see what we have inside the other table `langchain_pg_embedding`\n"
   ]
  },
  {
   "cell_type": "markdown",
   "id": "a8f0d599-35a7-4d0d-b82d-005d669c3e30",
   "metadata": {
    "tags": []
   },
   "source": [
    "![Vector Store on AWS](images/sql_lc_show_tables3.png)\n"
   ]
  },
  {
   "cell_type": "markdown",
   "id": "1650de41-3b6b-4dbd-b4e1-084b4f574222",
   "metadata": {
    "tags": []
   },
   "source": [
    "## Create some `vectors`\n"
   ]
  },
  {
   "cell_type": "code",
   "execution_count": 8,
   "id": "39a3c8ea-d196-42d3-9b91-f2db18a0d586",
   "metadata": {
    "tags": []
   },
   "outputs": [
    {
     "data": {
      "text/plain": [
       "<langchain_community.vectorstores.pgvector.PGVector at 0x120691f10>"
      ]
     },
     "execution_count": 8,
     "metadata": {},
     "output_type": "execute_result"
    }
   ],
   "source": [
    "texts = [\"新德里是印度的首都\", \"歡迎來到印度\", \"我今天要去踢足球\"]\n",
    "\n",
    "# Text --> Embeddings --> Vectors --> Aurora\n",
    "my_vector_store.from_texts(\n",
    "    texts=texts,\n",
    "    collection_name=COLLECTION_NAME,\n",
    "    connection_string=CONNECTION_STRING,\n",
    "    embedding=embeddings,\n",
    ")"
   ]
  },
  {
   "cell_type": "markdown",
   "id": "3b60e0fd-e743-4c8d-9d1e-d59d5114a0b9",
   "metadata": {},
   "source": [
    "Let's now check the `langchain_pg_embedding` table\n"
   ]
  },
  {
   "cell_type": "markdown",
   "id": "4fa9bfe6-f992-4f03-97c8-0ee92a88f9df",
   "metadata": {
    "tags": []
   },
   "source": [
    "![Vector Store on AWS](images/sql_lc_show_tables4.png)\n"
   ]
  },
  {
   "cell_type": "markdown",
   "id": "00d08b1c-a47f-451b-b0ea-93717f3ff453",
   "metadata": {},
   "source": [
    "#### Add few more vectors\n"
   ]
  },
  {
   "cell_type": "code",
   "execution_count": 12,
   "id": "6fdc0bfc-6748-484d-9a89-83944a4f8106",
   "metadata": {
    "tags": []
   },
   "outputs": [
    {
     "data": {
      "text/plain": [
       "<langchain_community.vectorstores.pgvector.PGVector at 0x11fe0a850>"
      ]
     },
     "execution_count": 12,
     "metadata": {},
     "output_type": "execute_result"
    }
   ],
   "source": [
    "texts = [\n",
    "    \"今晚的天空晴朗\",\n",
    "    \"貓是好奇的動物\",\n",
    "    \"巴黎正在下雨\",\n",
    "    \"學習 Python 可以很有趣\",\n",
    "    \"和朋友一起喝咖啡味道更好\",\n",
    "    \"我住在波士頓，這是一個美麗的城市\",\n",
    "    \"我家旁邊有一個博物館\",\n",
    "    \"音樂將人們聚集在一起\",\n",
    "    \"博物館在少數地方週一休館\",\n",
    "    \"很少有地方博物館每週開放 7 天，就像在我的城市一樣\"\n",
    "]\n",
    "\n",
    "# Text --> Embeddings --> Vectors --> Aurora\n",
    "my_vector_store.from_texts(\n",
    "    texts=texts,\n",
    "    collection_name=COLLECTION_NAME,\n",
    "    connection_string=CONNECTION_STRING,\n",
    "    embedding=embeddings,\n",
    ")"
   ]
  },
  {
   "cell_type": "markdown",
   "id": "bff3e51e-0919-4823-87b4-9fff4b81d5a2",
   "metadata": {
    "tags": []
   },
   "source": [
    "## 使用 `PGVector` 進行 `相似度搜尋`\n"
   ]
  },
  {
   "cell_type": "code",
   "execution_count": 13,
   "id": "c2c1c245-6e5b-4afa-baf6-c630e6dd804f",
   "metadata": {
    "tags": []
   },
   "outputs": [
    {
     "data": {
      "text/plain": [
       "[Document(page_content='很少有地方博物館每週開放 7 天，就像在我的城市一樣'),\n",
       " Document(page_content='很少有地方博物館每週開放 7 天，就像在我的城市一樣'),\n",
       " Document(page_content='博物館在少數地方週一休館'),\n",
       " Document(page_content='博物館在少數地方週一休館')]"
      ]
     },
     "execution_count": 13,
     "metadata": {},
     "output_type": "execute_result"
    }
   ],
   "source": [
    "my_vector_store.similarity_search(\n",
    "    query=\"任何城市的博物館都是全天開放嗎\",\n",
    "    # 從搜索結果中返回最相似的4個結果\n",
    "    k=4\n",
    ")"
   ]
  }
 ],
 "metadata": {
  "kernelspec": {
   "display_name": "envllmChatBot",
   "language": "python",
   "name": "python3"
  },
  "language_info": {
   "codemirror_mode": {
    "name": "ipython",
    "version": 3
   },
   "file_extension": ".py",
   "mimetype": "text/x-python",
   "name": "python",
   "nbconvert_exporter": "python",
   "pygments_lexer": "ipython3",
   "version": "3.11.7"
  }
 },
 "nbformat": 4,
 "nbformat_minor": 5
}
