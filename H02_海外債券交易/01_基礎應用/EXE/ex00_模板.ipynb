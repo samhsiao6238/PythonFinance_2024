{
 "cells": [
  {
   "cell_type": "markdown",
   "metadata": {},
   "source": [
    "# 測試 selenium"
   ]
  },
  {
   "cell_type": "code",
   "execution_count": null,
   "metadata": {},
   "outputs": [
    {
     "name": "stdout",
     "output_type": "stream",
     "text": [
      "🔍 正在訪問: https://news.google.com/home?hl=zh-TW&gl=TW&ceid=TW:zh-Hant\n",
      "頁面加載成功。\n",
      "頁面長度: 1597110 字元\n",
      "瀏覽器已關閉\n"
     ]
    }
   ],
   "source": [
    "from selenium import webdriver\n",
    "from selenium.webdriver.chrome.service import Service\n",
    "from selenium.webdriver.common.by import By\n",
    "from selenium.webdriver.chrome.options import Options\n",
    "from selenium.webdriver.support.ui import WebDriverWait\n",
    "from selenium.webdriver.support import expected_conditions as EC\n",
    "from webdriver_manager.chrome import ChromeDriverManager\n",
    "\n",
    "# 設定 Chrome 選項\n",
    "options = Options()\n",
    "# 無頭模式 (新版)\n",
    "options.add_argument(\"--headless=new\") \n",
    "# 避免某些環境問題\n",
    "options.add_argument(\"--disable-gpu\")\n",
    "# 在 Linux 環境避免權限問題\n",
    "options.add_argument(\"--no-sandbox\")\n",
    "# 避免 Chrome 在 Docker 內記憶體不足\n",
    "options.add_argument(\"--disable-dev-shm-usage\")\n",
    "# 防止 Selenium 被檢測\n",
    "options.add_argument(\"--disable-blink-features=AutomationControlled\")\n",
    "\n",
    "# 自動安裝 ChromeDriver\n",
    "service = Service(ChromeDriverManager().install())\n",
    "\n",
    "# 啟動 WebDriver\n",
    "driver = webdriver.Chrome(service=service, options=options)\n",
    "\n",
    "# 目標網址\n",
    "_URL = \"https://news.google.com/home?hl=zh-TW&gl=TW&ceid=TW:zh-Hant\"\n",
    "print(f\"🔍 正在訪問: {_URL}\")\n",
    "driver.get(_URL)\n",
    "\n",
    "# 使用 WebDriverWait 確保頁面載入\n",
    "try:\n",
    "    WebDriverWait(driver, 10).until(\n",
    "        EC.presence_of_element_located((By.TAG_NAME, \"body\"))\n",
    "    )\n",
    "    print(\"頁面加載成功\")\n",
    "\n",
    "    # 取得頁面原始碼\n",
    "    page_source = driver.page_source\n",
    "    print(f\"頁面長度：{len(page_source)} 字元\")\n",
    "\n",
    "except Exception as e:\n",
    "    print(f\"頁面加載失敗：{e}\")\n",
    "\n",
    "finally:\n",
    "    # 關閉 WebDriver\n",
    "    driver.quit()\n",
    "    print(\"瀏覽器已關閉\")\n"
   ]
  }
 ],
 "metadata": {
  "kernelspec": {
   "display_name": "envStock",
   "language": "python",
   "name": "python3"
  },
  "language_info": {
   "codemirror_mode": {
    "name": "ipython",
    "version": 3
   },
   "file_extension": ".py",
   "mimetype": "text/x-python",
   "name": "python",
   "nbconvert_exporter": "python",
   "pygments_lexer": "ipython3",
   "version": "3.10.11"
  }
 },
 "nbformat": 4,
 "nbformat_minor": 2
}
