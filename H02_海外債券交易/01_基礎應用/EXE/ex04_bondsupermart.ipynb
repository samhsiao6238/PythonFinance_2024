{
 "cells": [
  {
   "cell_type": "markdown",
   "metadata": {},
   "source": [
    "bondsupermart"
   ]
  },
  {
   "cell_type": "code",
   "execution_count": 1,
   "metadata": {},
   "outputs": [
    {
     "name": "stdout",
     "output_type": "stream",
     "text": [
      "Bid Price: 90.377\n",
      "Offer Price: 91.358\n",
      "Last Updated Date: 2025-02-20 19:10:00\n"
     ]
    }
   ],
   "source": [
    "import requests\n",
    "from datetime import datetime\n",
    "import pytz\n",
    "\n",
    "# 設置目標網址\n",
    "url = 'https://www.bondsupermart.com/main/ws/v3/bond-info/bond-factsheet/US872898AJ06'\n",
    "# 發送 GET 請求\n",
    "response = requests.get(url)\n",
    "\n",
    "# 封裝函數\n",
    "def transform_date(_date_str):\n",
    "    # 轉換為秒\n",
    "    timestamp_s = _date_str / 1000.0\n",
    "    # 建立 datetime 對象\n",
    "    dt = datetime.utcfromtimestamp(timestamp_s)\n",
    "    # 設置時區為 UTC\n",
    "    dt = dt.replace(tzinfo=pytz.utc)\n",
    "    # 轉換為台灣時區\n",
    "    taipei_tz = pytz.timezone('Asia/Taipei')\n",
    "    dt_taipei = dt.astimezone(taipei_tz)\n",
    "    _result = dt_taipei.strftime('%Y-%m-%d %H:%M:%S')\n",
    "    # 輸出轉換後的台灣時間\n",
    "    return _result\n",
    "\n",
    "# 確認請求成功\n",
    "if response.status_code == 200:\n",
    "    # 解析 JSON 數據\n",
    "    data = response.json()\n",
    "    \n",
    "    # 提取 bondDailyPriceBean 下的 bidPrice 和 offerPrice、lastUpdatedDate\n",
    "    bond_daily_price_bean = data.get('bondDailyPriceBean', {})\n",
    "    #\n",
    "    bid_price = bond_daily_price_bean.get('bidPrice')\n",
    "    offer_price = bond_daily_price_bean.get('offerPrice')\n",
    "    last_updated_date = bond_daily_price_bean.get('lastUpdatedDate')\n",
    "    last_updated_date = transform_date(last_updated_date)\n",
    "\n",
    "    # 輸出結果\n",
    "    print(f'Bid Price: {bid_price}')\n",
    "    print(f'Offer Price: {offer_price}')\n",
    "    print(f'Last Updated Date: {last_updated_date}')\n",
    "else:\n",
    "    print(f'Failed to retrieve data, status code: {response.status_code}')"
   ]
  }
 ],
 "metadata": {
  "kernelspec": {
   "display_name": "envStock",
   "language": "python",
   "name": "python3"
  },
  "language_info": {
   "codemirror_mode": {
    "name": "ipython",
    "version": 3
   },
   "file_extension": ".py",
   "mimetype": "text/x-python",
   "name": "python",
   "nbconvert_exporter": "python",
   "pygments_lexer": "ipython3",
   "version": "3.10.11"
  }
 },
 "nbformat": 4,
 "nbformat_minor": 2
}
