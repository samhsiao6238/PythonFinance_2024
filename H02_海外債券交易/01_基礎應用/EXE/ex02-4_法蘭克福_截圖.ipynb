{
 "cells": [
  {
   "cell_type": "markdown",
   "metadata": {},
   "source": [
    "嘗試定位點擊可能出現的 Accept 按鈕"
   ]
  },
  {
   "cell_type": "code",
   "execution_count": 5,
   "metadata": {},
   "outputs": [
    {
     "name": "stdout",
     "output_type": "stream",
     "text": [
      "🔍 正在訪問: https://www.boerse-frankfurt.de/bond/us872898aj06-tsmc-arizona-corp-4-5-22-52\n",
      "已接受 Cookie 設定\n",
      "頁面與線圖載入完成，開始截圖\n",
      "📸 截圖已儲存至: screenshot.png\n",
      "🚪 瀏覽器已關閉\n"
     ]
    }
   ],
   "source": [
    "from selenium import webdriver\n",
    "from selenium.webdriver.chrome.service import Service\n",
    "from selenium.webdriver.common.by import By\n",
    "from selenium.webdriver.support.ui import WebDriverWait\n",
    "from selenium.webdriver.support import expected_conditions as EC\n",
    "from webdriver_manager.chrome import ChromeDriverManager\n",
    "\n",
    "# 設定 Chrome 瀏覽器參數\n",
    "options = webdriver.ChromeOptions()\n",
    "# 使用新版無頭模式\n",
    "options.add_argument(\"--headless=new\")\n",
    "# 避免 GPU 問題\n",
    "options.add_argument(\"--disable-gpu\")\n",
    "# 避免 Linux 權限問題\n",
    "options.add_argument(\"--no-sandbox\")\n",
    "# 避免 Docker 記憶體不足\n",
    "options.add_argument(\"--disable-dev-shm-usage\")\n",
    "# 防止 Selenium 被檢測\n",
    "options.add_argument(\"--disable-blink-features=AutomationControlled\")\n",
    "\n",
    "# 自動安裝 ChromeDriver 並啟動 WebDriver\n",
    "service = Service(ChromeDriverManager().install())\n",
    "driver = webdriver.Chrome(\n",
    "    service=service, options=options\n",
    ")\n",
    "\n",
    "# 設定目標網址\n",
    "url = \"https://www.boerse-frankfurt.de/bond/us872898aj06-tsmc-arizona-corp-4-5-22-52\"\n",
    "print(f\"🔍 正在訪問: {url}\")\n",
    "driver.get(url)\n",
    "\n",
    "try:\n",
    "    # 等待 Cookie 同意按鈕並點擊\n",
    "    WebDriverWait(driver, 5).until(\n",
    "        EC.element_to_be_clickable((\n",
    "            By.ID, \"cookie-hint-btn-accept\"\n",
    "        ))\n",
    "    ).click()\n",
    "    print(\"已接受 Cookie 設定\")\n",
    "except Exception:\n",
    "    print(\"⚠️ 未偵測到 Cookie 按鈕，可能已自動接受或不存在\")\n",
    "\n",
    "try:\n",
    "    # 確保主要內容區塊載入完成\n",
    "    WebDriverWait(driver, 15).until(\n",
    "        EC.presence_of_element_located((\n",
    "            By.CLASS_NAME, \"content-wrapper\"\n",
    "        ))\n",
    "    )\n",
    "    # 確保 `document.readyState` 為 \"complete\"\n",
    "    WebDriverWait(driver, 10).until(\n",
    "        lambda d: d.execute_script(\"return document.readyState\") == \"complete\"\n",
    "    )\n",
    "    # 等待圖表載入 (嘗試找到 `canvas` 或 `svg` 元素)\n",
    "    WebDriverWait(driver, 10).until(\n",
    "        EC.presence_of_element_located((\n",
    "            By.TAG_NAME, \"canvas\"\n",
    "        ))\n",
    "    )\n",
    "    print(\"頁面與線圖載入完成，開始截圖\")\n",
    "    # 截取整個頁面的圖片\n",
    "    screenshot_path = \"screenshot.png\"\n",
    "    driver.save_screenshot(screenshot_path)\n",
    "    print(f\"📸 截圖已儲存至: {screenshot_path}\")\n",
    "except Exception as e:\n",
    "    print(f\"❌ 頁面或圖表加載失敗: {e}\")\n",
    "finally:\n",
    "    # 關閉 WebDriver\n",
    "    driver.quit()\n",
    "    print(\"🚪 瀏覽器已關閉\")"
   ]
  }
 ],
 "metadata": {
  "kernelspec": {
   "display_name": "envStock",
   "language": "python",
   "name": "python3"
  },
  "language_info": {
   "codemirror_mode": {
    "name": "ipython",
    "version": 3
   },
   "file_extension": ".py",
   "mimetype": "text/x-python",
   "name": "python",
   "nbconvert_exporter": "python",
   "pygments_lexer": "ipython3",
   "version": "3.10.11"
  }
 },
 "nbformat": 4,
 "nbformat_minor": 2
}
