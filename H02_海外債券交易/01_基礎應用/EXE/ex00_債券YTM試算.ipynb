{
 "cells": [
  {
   "cell_type": "markdown",
   "metadata": {},
   "source": [
    "公債殖利率"
   ]
  },
  {
   "cell_type": "code",
   "execution_count": 1,
   "metadata": {},
   "outputs": [
    {
     "data": {
      "text/plain": [
       "'data/債券YTM試算.xlsx'"
      ]
     },
     "execution_count": 1,
     "metadata": {},
     "output_type": "execute_result"
    }
   ],
   "source": [
    "import pandas as pd\n",
    "\n",
    "# 建立 Excel 試算表數據\n",
    "data = {\n",
    "    \"參數\": [\"結算日\", \"到期日\", \"票面利率\", \"市場價格\", \"票面價值\", \"年付息次數\", \"計算基準\", \"YTM 計算\"],\n",
    "    \"數值\": [\"2045/08/23\", \"2046/02/23\", 0.0465, 93.46, 100, 2, 0, \"=YIELD(A2, A3, A4, A5, A6, A7, A8)\"]\n",
    "}\n",
    "\n",
    "# 建立 DataFrame\n",
    "df = pd.DataFrame(data)\n",
    "\n",
    "# 定義 Excel 檔案名稱\n",
    "file_path = \"data/債券YTM試算.xlsx\"\n",
    "\n",
    "# 儲存 Excel\n",
    "df.to_excel(file_path, index=False)\n",
    "\n",
    "file_path\n"
   ]
  }
 ],
 "metadata": {
  "kernelspec": {
   "display_name": "envStock",
   "language": "python",
   "name": "python3"
  },
  "language_info": {
   "codemirror_mode": {
    "name": "ipython",
    "version": 3
   },
   "file_extension": ".py",
   "mimetype": "text/x-python",
   "name": "python",
   "nbconvert_exporter": "python",
   "pygments_lexer": "ipython3",
   "version": "3.10.11"
  }
 },
 "nbformat": 4,
 "nbformat_minor": 2
}
