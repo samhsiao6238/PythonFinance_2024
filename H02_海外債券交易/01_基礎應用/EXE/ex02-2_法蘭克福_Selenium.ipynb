{
 "cells": [
  {
   "cell_type": "code",
   "execution_count": 1,
   "metadata": {},
   "outputs": [],
   "source": [
    "from selenium import webdriver\n",
    "from selenium.webdriver.chrome.service import Service\n",
    "from selenium.webdriver.common.by import By\n",
    "from selenium.webdriver.chrome.options import Options\n",
    "from selenium.webdriver.support.ui import WebDriverWait\n",
    "from selenium.webdriver.support import expected_conditions as EC\n",
    "from webdriver_manager.chrome import ChromeDriverManager\n",
    "\n",
    "# 設定 Chrome 選項\n",
    "options = Options()\n",
    "# 無頭模式 (新版)\n",
    "options.add_argument(\"--headless=new\") \n",
    "# 避免某些環境問題\n",
    "options.add_argument(\"--disable-gpu\")\n",
    "# 在 Linux 環境避免權限問題\n",
    "options.add_argument(\"--no-sandbox\")\n",
    "# 避免 Chrome 在 Docker 內記憶體不足\n",
    "options.add_argument(\"--disable-dev-shm-usage\")\n",
    "# 防止 Selenium 被檢測\n",
    "options.add_argument(\"--disable-blink-features=AutomationControlled\")\n",
    "\n",
    "# 自動安裝 ChromeDriver\n",
    "service = Service(ChromeDriverManager().install())\n",
    "\n",
    "# 啟動 WebDriver：帶入 service 及 options\n",
    "driver = webdriver.Chrome(service=service, options=options)"
   ]
  },
  {
   "cell_type": "code",
   "execution_count": null,
   "metadata": {},
   "outputs": [
    {
     "name": "stdout",
     "output_type": "stream",
     "text": [
      "🔍 訪問網址: https://www.boerse-frankfurt.de/bond/us02209sbe28\n",
      "📈 US02209SBE28 債券價格: 99.56\n",
      "🚪 瀏覽器已關閉\n"
     ]
    }
   ],
   "source": [
    "# 設定 ISIN Code，可以改成不同的債券 ISIN\n",
    "ISIN_CODE = \"US02209SBE28\"\n",
    "bond_url = f\"https://www.boerse-frankfurt.de/bond/{ISIN_CODE.lower()}\"\n",
    "\n",
    "print(f\"🔍 訪問網址: {bond_url}\")\n",
    "driver.get(bond_url)\n",
    "\n",
    "try:\n",
    "    # 等待價格數據加載\n",
    "    price_element = WebDriverWait(driver, 10).until(\n",
    "        EC.presence_of_element_located(\n",
    "            (By.XPATH, \"/html/body/app-root/app-wrapper/div/div/div/app-bond/div/div[2]/div[2]/div/div[1]/app-widget-price-box/div/div/table/tbody/tr[1]/td[@class='widget-table-cell text-right last-price text-color-green']\")\n",
    "        )\n",
    "    )\n",
    "\n",
    "    # 取得價格\n",
    "    bond_price = price_element.text\n",
    "    print(f\"📈 {ISIN_CODE} 債券價格: {bond_price}\")\n",
    "\n",
    "except Exception as e:\n",
    "    print(f\"❌ 無法獲取價格: {e}\")\n",
    "\n",
    "finally:\n",
    "    # 關閉瀏覽器\n",
    "    driver.quit()\n",
    "    print(\"🚪 瀏覽器已關閉\")"
   ]
  }
 ],
 "metadata": {
  "kernelspec": {
   "display_name": "envStock",
   "language": "python",
   "name": "python3"
  },
  "language_info": {
   "codemirror_mode": {
    "name": "ipython",
    "version": 3
   },
   "file_extension": ".py",
   "mimetype": "text/x-python",
   "name": "python",
   "nbconvert_exporter": "python",
   "pygments_lexer": "ipython3",
   "version": "3.10.11"
  }
 },
 "nbformat": 4,
 "nbformat_minor": 2
}
