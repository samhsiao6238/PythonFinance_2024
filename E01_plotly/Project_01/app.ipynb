{
 "cells": [
  {
   "cell_type": "code",
   "execution_count": 1,
   "metadata": {},
   "outputs": [],
   "source": [
    "# from dash import Dash, dash_table, html\n",
    "from dash import Dash, dcc, html, Input, Output\n",
    "# 導入 dash_core_components 和 dash_html_components\n",
    "import dash_bootstrap_components as dbc\n",
    "# 加入自訂模組\n",
    "from components import geographical_content, content_classification"
   ]
  },
  {
   "cell_type": "code",
   "execution_count": 2,
   "metadata": {},
   "outputs": [],
   "source": [
    "# 初始化一個 Dash 應用\n",
    "app = Dash(__name__, external_stylesheets=[dbc.themes.BOOTSTRAP])"
   ]
  },
  {
   "cell_type": "code",
   "execution_count": 3,
   "metadata": {},
   "outputs": [],
   "source": [
    "# 定義應用的佈局：使用 dbc 的 Container 組織佈局\n",
    "app.layout = dbc.Container(\n",
    "    [\n",
    "        dcc.Store(id=\"store\"),\n",
    "        html.H1(\"Netflix Movies and TV Shows Dashboard\"),\n",
    "        html.Hr(),\n",
    "        dbc.Tabs(\n",
    "            [\n",
    "                dbc.Tab(\n",
    "                    label=\"Geographical content distribution\", tab_id=\"tab1\"\n",
    "                ),\n",
    "                dbc.Tab(label=\"Content classification\", tab_id=\"tab2\"),\n",
    "            ],\n",
    "            id=\"tabs\",\n",
    "            active_tab=\"tab1\",\n",
    "        ),\n",
    "        html.Div(id=\"tab-content\", className=\"p-4\"),\n",
    "    ]\n",
    ")"
   ]
  },
  {
   "cell_type": "code",
   "execution_count": 4,
   "metadata": {},
   "outputs": [],
   "source": [
    "# 加入回調\n",
    "@app.callback(Output(\"tab-content\", \"children\"), [Input(\"tabs\", \"active_tab\")])\n",
    "def switch_tab(at):\n",
    "    if at == \"tab1\":\n",
    "        return geographical_content.layout\n",
    "    elif at == \"tab2\":\n",
    "        return content_classification.layout"
   ]
  },
  {
   "cell_type": "code",
   "execution_count": 5,
   "metadata": {},
   "outputs": [
    {
     "data": {
      "text/html": [
       "\n",
       "        <iframe\n",
       "            width=\"100%\"\n",
       "            height=\"650\"\n",
       "            src=\"http://127.0.0.1:8050/\"\n",
       "            frameborder=\"0\"\n",
       "            allowfullscreen\n",
       "            \n",
       "        ></iframe>\n",
       "        "
      ],
      "text/plain": [
       "<IPython.lib.display.IFrame at 0x11f756890>"
      ]
     },
     "metadata": {},
     "output_type": "display_data"
    }
   ],
   "source": [
    "# 檢查該腳本是否作為主程序運行：在本地開發模式下啟動 Dash 應用\n",
    "if __name__ == \"__main__\":\n",
    "    # 運行伺服器，開啟 debug 模式以支持熱重新載入和錯誤日誌\n",
    "    app.run_server(debug=True)\n"
   ]
  }
 ],
 "metadata": {
  "kernelspec": {
   "display_name": "envDash",
   "language": "python",
   "name": "python3"
  },
  "language_info": {
   "codemirror_mode": {
    "name": "ipython",
    "version": 3
   },
   "file_extension": ".py",
   "mimetype": "text/x-python",
   "name": "python",
   "nbconvert_exporter": "python",
   "pygments_lexer": "ipython3",
   "version": "3.10.11"
  }
 },
 "nbformat": 4,
 "nbformat_minor": 2
}
