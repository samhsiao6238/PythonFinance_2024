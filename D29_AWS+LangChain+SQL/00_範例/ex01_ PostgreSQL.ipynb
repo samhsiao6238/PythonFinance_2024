{
 "cells": [
  {
   "cell_type": "markdown",
   "metadata": {},
   "source": [
    "資料庫操作"
   ]
  },
  {
   "cell_type": "code",
   "execution_count": 4,
   "metadata": {},
   "outputs": [
    {
     "name": "stdout",
     "output_type": "stream",
     "text": [
      "Database version: ('PostgreSQL 15.5 on aarch64-apple-darwin21.6.0, compiled by Apple clang version 14.0.0 (clang-1400.0.29.102), 64-bit',)\n"
     ]
    }
   ],
   "source": [
    "import psycopg2\n",
    "from psycopg2 import sql\n",
    "import os\n",
    "from dotenv import load_dotenv\n",
    "\n",
    "load_dotenv()\n",
    "\n",
    "PGVECTOR_DRIVER = os.getenv('PGVECTOR_DRIVER')\n",
    "PGVECTOR_USER = os.getenv('PGVECTOR_USER')\n",
    "PGVECTOR_PASSWORD = os.getenv('PGVECTOR_PASSWORD')\n",
    "PGVECTOR_HOST = 'localhost'\n",
    "PGVECTOR_PORT = '5432'\n",
    "PGVECTOR_DATABASE = 'mydatabase'\n",
    "\n",
    "# 使用 psycopg2 連接到 PostgreSQL 資料庫\n",
    "conn = psycopg2.connect(\n",
    "    dbname=PGVECTOR_DATABASE,\n",
    "    user=PGVECTOR_USER,\n",
    "    password=PGVECTOR_PASSWORD,\n",
    "    # 如果是本機，使用 \"localhost\"\n",
    "    # 如果是雲端，使用雲端資料庫的終端點\n",
    "    host=PGVECTOR_HOST,\n",
    "    port=PGVECTOR_PORT\n",
    ")\n",
    "\n",
    "# 建立游標以執行 SQL 查詢\n",
    "cur = conn.cursor()\n",
    "\n",
    "# 執行範例查詢\n",
    "cur.execute(\"SELECT version();\")\n",
    "db_version = cur.fetchone()\n",
    "print(f\"Database version: {db_version}\")\n",
    "\n",
    "# 關閉游標和連接\n",
    "cur.close()\n",
    "conn.close()"
   ]
  }
 ],
 "metadata": {
  "kernelspec": {
   "display_name": "envllmChatBot",
   "language": "python",
   "name": "python3"
  },
  "language_info": {
   "codemirror_mode": {
    "name": "ipython",
    "version": 3
   },
   "file_extension": ".py",
   "mimetype": "text/x-python",
   "name": "python",
   "nbconvert_exporter": "python",
   "pygments_lexer": "ipython3",
   "version": "3.11.7"
  }
 },
 "nbformat": 4,
 "nbformat_minor": 2
}
