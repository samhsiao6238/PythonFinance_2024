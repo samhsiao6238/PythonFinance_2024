{
 "cells": [
  {
   "cell_type": "markdown",
   "metadata": {},
   "source": [
    "## 清除資料庫中所有節點\n",
    "\n",
    "1. MATCH (n)：匹配資料庫中的所有節點。\n",
    "\n",
    "2. DETACH DELETE n：刪除匹配到的所有節點及其所有關係。使用 DETACH 可以確保在刪除節點之前先刪除與該節點相關的所有關係。"
   ]
  },
  {
   "cell_type": "code",
   "execution_count": 2,
   "metadata": {},
   "outputs": [
    {
     "name": "stdout",
     "output_type": "stream",
     "text": [
      "所有資料已刪除.\n"
     ]
    }
   ],
   "source": [
    "from neo4j import GraphDatabase\n",
    "\n",
    "# 設定Neo4j的URI和認證資訊\n",
    "URI = \"neo4j+s://bfc46ed1.databases.neo4j.io\"\n",
    "AUTH = (\"neo4j\", \"8Yc-sCEfoQN5XjrKlV4VqqMilhv6HM4jLrwzLf2P-Ic\")\n",
    "\n",
    "# 連接到Neo4j資料庫\n",
    "driver = GraphDatabase.driver(URI, auth=AUTH)\n",
    "\n",
    "def delete_all_data():\n",
    "    \"\"\"刪除資料庫中的所有節點與關係\"\"\"\n",
    "    cypher_query = \"\"\"\n",
    "    MATCH (n)\n",
    "    DETACH DELETE n\n",
    "    \"\"\"\n",
    "    with driver.session(database=\"neo4j\") as session:\n",
    "        session.run(cypher_query)\n",
    "        print(\"所有資料已刪除.\")\n",
    "\n",
    "if __name__ == \"__main__\":\n",
    "    delete_all_data()\n",
    "    driver.close()\n"
   ]
  }
 ],
 "metadata": {
  "kernelspec": {
   "display_name": "neo4j0514",
   "language": "python",
   "name": "python3"
  },
  "language_info": {
   "codemirror_mode": {
    "name": "ipython",
    "version": 3
   },
   "file_extension": ".py",
   "mimetype": "text/x-python",
   "name": "python",
   "nbconvert_exporter": "python",
   "pygments_lexer": "ipython3",
   "version": "3.10.11"
  }
 },
 "nbformat": 4,
 "nbformat_minor": 2
}
