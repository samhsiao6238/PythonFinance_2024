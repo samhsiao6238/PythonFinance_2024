{
 "cells": [
  {
   "cell_type": "code",
   "execution_count": 2,
   "metadata": {},
   "outputs": [
    {
     "name": "stdout",
     "output_type": "stream",
     "text": [
      "CSV 文件列名：\n",
      "['Date', 'Open', 'High', 'Low', 'Close', 'Adj Close', 'Volume']\n",
      "\n",
      "CSV 文件前幾行數據：\n",
      "         Date         Open         High          Low        Close  \\\n",
      "0  1997-07-02  9094.269531  9124.299805  8988.129883  8996.719727   \n",
      "1  1997-07-03  9061.599609  9061.599609  8997.509766  9027.629883   \n",
      "2  1997-07-04  9144.959961  9218.209961  9119.250000  9192.570313   \n",
      "3  1997-07-07  9365.190430  9370.410156  9304.820313  9322.839844   \n",
      "4  1997-07-08  9345.549805  9371.500000  9282.099609  9305.269531   \n",
      "\n",
      "     Adj Close  Volume  \n",
      "0  8996.686523     0.0  \n",
      "1  9027.596680     0.0  \n",
      "2  9192.536133     0.0  \n",
      "3  9322.805664     0.0  \n",
      "4  9305.235352     0.0  \n"
     ]
    }
   ],
   "source": [
    "import pandas as pd\n",
    "\n",
    "# 載入 CSV 文件\n",
    "def load_data(file_path):\n",
    "    df = pd.read_csv(file_path)\n",
    "    return df\n",
    "\n",
    "# 指定文件路徑\n",
    "file_path = \"台股大盤1997_2024.csv\"\n",
    "\n",
    "# 載入數據\n",
    "df = load_data(file_path)\n",
    "\n",
    "# 顯示列名和前幾行數據\n",
    "print(\"CSV 文件列名：\")\n",
    "print(df.columns.tolist())\n",
    "\n",
    "print(\"\\nCSV 文件前幾行數據：\")\n",
    "print(df.head())\n"
   ]
  }
 ],
 "metadata": {
  "kernelspec": {
   "display_name": "env0521",
   "language": "python",
   "name": "python3"
  },
  "language_info": {
   "codemirror_mode": {
    "name": "ipython",
    "version": 3
   },
   "file_extension": ".py",
   "mimetype": "text/x-python",
   "name": "python",
   "nbconvert_exporter": "python",
   "pygments_lexer": "ipython3",
   "version": "3.11.7"
  }
 },
 "nbformat": 4,
 "nbformat_minor": 2
}
