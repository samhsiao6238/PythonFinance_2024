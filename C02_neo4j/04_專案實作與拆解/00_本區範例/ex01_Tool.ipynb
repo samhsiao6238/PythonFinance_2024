{
 "cells": [
  {
   "cell_type": "markdown",
   "metadata": {},
   "source": [
    "## 使用 @tool 裝飾器\n"
   ]
  },
  {
   "cell_type": "code",
   "execution_count": 67,
   "metadata": {},
   "outputs": [
    {
     "name": "stdout",
     "output_type": "stream",
     "text": [
      "1. search.name： search\n",
      "2. search.description： 在線搜尋內容。\n",
      "3. search.args： {'query': {'title': 'Query', 'type': 'string'}}\n",
      "\n",
      "\n",
      "1. multiply.name： multiply\n",
      "2. multiply.description： 將兩個數字相乘。\n",
      "3. multiply.args： {'a': {'title': 'A', 'type': 'integer'}, 'b': {'title': 'B', 'type': 'integer'}}\n"
     ]
    }
   ],
   "source": [
    "from langchain.pydantic_v1 import BaseModel, Field\n",
    "from langchain.tools import BaseTool, StructuredTool, tool\n",
    "\n",
    "\n",
    "@tool\n",
    "def search(query: str) -> str:\n",
    "    \"\"\"在線搜尋內容。\"\"\"\n",
    "    return \"LangChain\"\n",
    "\n",
    "\n",
    "#\n",
    "print(\"1. search.name：\", search.name)\n",
    "#\n",
    "print(\"2. search.description：\", search.description)\n",
    "#\n",
    "print(\"3. search.args：\", search.args)\n",
    "\n",
    "\n",
    "@tool\n",
    "def multiply(a: int, b: int) -> int:\n",
    "    \"\"\"將兩個數字相乘。\"\"\"\n",
    "    return a * b\n",
    "\n",
    "\n",
    "print(\"\\n\")\n",
    "print(\"1. multiply.name：\", multiply.name)\n",
    "print(\"2. multiply.description：\", multiply.description)\n",
    "print(\"3. multiply.args：\", multiply.args)"
   ]
  },
  {
   "cell_type": "markdown",
   "metadata": {},
   "source": [
    "## 自訂工具名稱和 JSON 參數\n"
   ]
  },
  {
   "cell_type": "code",
   "execution_count": 68,
   "metadata": {},
   "outputs": [
    {
     "name": "stdout",
     "output_type": "stream",
     "text": [
      "search.name： search-tool\n",
      "search.description： 在線搜尋內容。\n",
      "search.args： {'query': {'title': 'Query', 'description': '應該是一個搜尋查詢', 'type': 'string'}}\n",
      "search.return_direct： True\n"
     ]
    }
   ],
   "source": [
    "class SearchInput(BaseModel):\n",
    "    query: str = Field(description=\"應該是一個搜尋查詢\")\n",
    "\n",
    "\n",
    "@tool(\"search-tool\", args_schema=SearchInput, return_direct=True)\n",
    "def search(query: str) -> str:\n",
    "    \"\"\"在線搜尋內容。\"\"\"\n",
    "    return \"LangChain\"\n",
    "\n",
    "\n",
    "print('search.name：', search.name)\n",
    "print('search.description：', search.description)\n",
    "print('search.args：', search.args)\n",
    "print('search.return_direct：', search.return_direct)"
   ]
  },
  {
   "cell_type": "markdown",
   "metadata": {},
   "source": [
    "## 繼承 BaseTool 類\n"
   ]
  },
  {
   "cell_type": "code",
   "execution_count": 69,
   "metadata": {},
   "outputs": [
    {
     "name": "stdout",
     "output_type": "stream",
     "text": [
      "search.name custom_search\n",
      "search.description 當你需要回答關於當前事件的問題時很有用\n",
      "search.args {'query': {'title': 'Query', 'description': '應該是一個搜尋查詢', 'type': 'string'}}\n",
      "\n",
      "\n",
      "multiply.name Calculator\n",
      "multiply.description 當你需要回答數學問題時很有用\n",
      "multiply.args {'a': {'title': 'A', 'description': '第一個數字', 'type': 'integer'}, 'b': {'title': 'B', 'description': '第二個數字', 'type': 'integer'}}\n",
      "multiply.return_direct True\n"
     ]
    }
   ],
   "source": [
    "from typing import Optional, Type\n",
    "\n",
    "from langchain.callbacks.manager import (\n",
    "    AsyncCallbackManagerForToolRun,\n",
    "    CallbackManagerForToolRun,\n",
    ")\n",
    "\n",
    "\n",
    "class SearchInput(BaseModel):\n",
    "    query: str = Field(description=\"應該是一個搜尋查詢\")\n",
    "\n",
    "\n",
    "class CalculatorInput(BaseModel):\n",
    "    a: int = Field(description=\"第一個數字\")\n",
    "    b: int = Field(description=\"第二個數字\")\n",
    "\n",
    "\n",
    "class CustomSearchTool(BaseTool):\n",
    "    name = \"custom_search\"\n",
    "    description = \"當你需要回答關於當前事件的問題時很有用\"\n",
    "    args_schema: Type[BaseModel] = SearchInput\n",
    "\n",
    "    def _run(\n",
    "        self, query: str, run_manager: Optional[CallbackManagerForToolRun] = None\n",
    "    ) -> str:\n",
    "        \"\"\"使用這個工具。\"\"\"\n",
    "        return \"LangChain\"\n",
    "\n",
    "    async def _arun(\n",
    "        self, query: str, run_manager: Optional[AsyncCallbackManagerForToolRun] = None\n",
    "    ) -> str:\n",
    "        \"\"\"異步使用這個工具。\"\"\"\n",
    "        raise NotImplementedError(\"custom_search 不支持異步\")\n",
    "\n",
    "\n",
    "class CustomCalculatorTool(BaseTool):\n",
    "    name = \"Calculator\"\n",
    "    description = \"當你需要回答數學問題時很有用\"\n",
    "    args_schema: Type[BaseModel] = CalculatorInput\n",
    "    return_direct: bool = True\n",
    "\n",
    "    def _run(\n",
    "        self, a: int, b: int, run_manager: Optional[CallbackManagerForToolRun] = None\n",
    "    ) -> str:\n",
    "        \"\"\"使用這個工具。\"\"\"\n",
    "        return a * b\n",
    "\n",
    "    async def _arun(\n",
    "        self,\n",
    "        a: int,\n",
    "        b: int,\n",
    "        run_manager: Optional[AsyncCallbackManagerForToolRun] = None,\n",
    "    ) -> str:\n",
    "        \"\"\"異步使用這個工具。\"\"\"\n",
    "        raise NotImplementedError(\"Calculator 不支持異步\")\n",
    "\n",
    "\n",
    "search = CustomSearchTool()\n",
    "print(\"search.name\", search.name)\n",
    "print(\"search.description\", search.description)\n",
    "print(\"search.args\", search.args)\n",
    "print(\"\\n\")\n",
    "\n",
    "multiply = CustomCalculatorTool()\n",
    "print(\"multiply.name\", multiply.name)\n",
    "print(\"multiply.description\", multiply.description)\n",
    "print(\"multiply.args\", multiply.args)\n",
    "print(\"multiply.return_direct\", multiply.return_direct)"
   ]
  },
  {
   "cell_type": "markdown",
   "metadata": {},
   "source": [
    "## 使用 StructuredTool 類\n"
   ]
  },
  {
   "cell_type": "code",
   "execution_count": 70,
   "metadata": {},
   "outputs": [
    {
     "name": "stdout",
     "output_type": "stream",
     "text": [
      "search.name Search\n",
      "search.description 當你需要回答關於當前事件的問題時很有用\n",
      "search.args {'query': {'title': 'Query', 'type': 'string'}}\n"
     ]
    }
   ],
   "source": [
    "def search_function(query: str):\n",
    "    return \"LangChain\"\n",
    "\n",
    "\n",
    "search = StructuredTool.from_function(\n",
    "    func=search_function,\n",
    "    name=\"Search\",\n",
    "    description=\"當你需要回答關於當前事件的問題時很有用\",\n",
    ")\n",
    "\n",
    "print('search.name', search.name)\n",
    "print('search.description', search.description)\n",
    "print('search.args', search.args)"
   ]
  },
  {
   "cell_type": "markdown",
   "metadata": {},
   "source": [
    "## 例外處理\n"
   ]
  },
  {
   "cell_type": "markdown",
   "metadata": {},
   "source": [
    "當工具在執行過程中遇到錯誤且未捕捉例外時，程序將崩潰並停止執行。"
   ]
  },
  {
   "cell_type": "code",
   "execution_count": 71,
   "metadata": {},
   "outputs": [
    {
     "ename": "ToolException",
     "evalue": "搜索工具1不可用。",
     "output_type": "error",
     "traceback": [
      "\u001b[0;31m---------------------------------------------------------------------------\u001b[0m",
      "\u001b[0;31mToolException\u001b[0m                             Traceback (most recent call last)",
      "Cell \u001b[0;32mIn[71], line 18\u001b[0m\n\u001b[1;32m     11\u001b[0m search \u001b[38;5;241m=\u001b[39m StructuredTool\u001b[38;5;241m.\u001b[39mfrom_function(\n\u001b[1;32m     12\u001b[0m     func\u001b[38;5;241m=\u001b[39msearch_tool1,\n\u001b[1;32m     13\u001b[0m     name\u001b[38;5;241m=\u001b[39m\u001b[38;5;124m\"\u001b[39m\u001b[38;5;124mSearch_tool1\u001b[39m\u001b[38;5;124m\"\u001b[39m,\n\u001b[1;32m     14\u001b[0m     description\u001b[38;5;241m=\u001b[39m\u001b[38;5;124m\"\u001b[39m\u001b[38;5;124m一個查詢工具\u001b[39m\u001b[38;5;124m\"\u001b[39m\n\u001b[1;32m     15\u001b[0m )\n\u001b[1;32m     17\u001b[0m \u001b[38;5;66;03m# 嘗試運行工具，將引發未處理的異常\u001b[39;00m\n\u001b[0;32m---> 18\u001b[0m \u001b[43msearch\u001b[49m\u001b[38;5;241;43m.\u001b[39;49m\u001b[43mrun\u001b[49m\u001b[43m(\u001b[49m\u001b[38;5;124;43m\"\u001b[39;49m\u001b[38;5;124;43merror\u001b[39;49m\u001b[38;5;124;43m\"\u001b[39;49m\u001b[43m)\u001b[49m\n\u001b[1;32m     20\u001b[0m \u001b[38;5;66;03m# 這行程式碼永遠不會被執行，因為程序在前面已經崩潰\u001b[39;00m\n\u001b[1;32m     21\u001b[0m \u001b[38;5;28mprint\u001b[39m(\u001b[38;5;124m\"\u001b[39m\u001b[38;5;124m程序仍然在運行。\u001b[39m\u001b[38;5;124m\"\u001b[39m)\n",
      "File \u001b[0;32m~/Documents/PythonVenv/env0521/lib/python3.11/site-packages/langchain_core/tools.py:433\u001b[0m, in \u001b[0;36mBaseTool.run\u001b[0;34m(self, tool_input, verbose, start_color, color, callbacks, tags, metadata, run_name, run_id, config, **kwargs)\u001b[0m\n\u001b[1;32m    431\u001b[0m \u001b[38;5;28;01mif\u001b[39;00m \u001b[38;5;129;01mnot\u001b[39;00m \u001b[38;5;28mself\u001b[39m\u001b[38;5;241m.\u001b[39mhandle_tool_error:\n\u001b[1;32m    432\u001b[0m     run_manager\u001b[38;5;241m.\u001b[39mon_tool_error(e)\n\u001b[0;32m--> 433\u001b[0m     \u001b[38;5;28;01mraise\u001b[39;00m e\n\u001b[1;32m    434\u001b[0m \u001b[38;5;28;01melif\u001b[39;00m \u001b[38;5;28misinstance\u001b[39m(\u001b[38;5;28mself\u001b[39m\u001b[38;5;241m.\u001b[39mhandle_tool_error, \u001b[38;5;28mbool\u001b[39m):\n\u001b[1;32m    435\u001b[0m     \u001b[38;5;28;01mif\u001b[39;00m e\u001b[38;5;241m.\u001b[39margs:\n",
      "File \u001b[0;32m~/Documents/PythonVenv/env0521/lib/python3.11/site-packages/langchain_core/tools.py:409\u001b[0m, in \u001b[0;36mBaseTool.run\u001b[0;34m(self, tool_input, verbose, start_color, color, callbacks, tags, metadata, run_name, run_id, config, **kwargs)\u001b[0m\n\u001b[1;32m    406\u001b[0m     parsed_input \u001b[38;5;241m=\u001b[39m \u001b[38;5;28mself\u001b[39m\u001b[38;5;241m.\u001b[39m_parse_input(tool_input)\n\u001b[1;32m    407\u001b[0m     tool_args, tool_kwargs \u001b[38;5;241m=\u001b[39m \u001b[38;5;28mself\u001b[39m\u001b[38;5;241m.\u001b[39m_to_args_and_kwargs(parsed_input)\n\u001b[1;32m    408\u001b[0m     observation \u001b[38;5;241m=\u001b[39m (\n\u001b[0;32m--> 409\u001b[0m         \u001b[43mcontext\u001b[49m\u001b[38;5;241;43m.\u001b[39;49m\u001b[43mrun\u001b[49m\u001b[43m(\u001b[49m\n\u001b[1;32m    410\u001b[0m \u001b[43m            \u001b[49m\u001b[38;5;28;43mself\u001b[39;49m\u001b[38;5;241;43m.\u001b[39;49m\u001b[43m_run\u001b[49m\u001b[43m,\u001b[49m\u001b[43m \u001b[49m\u001b[38;5;241;43m*\u001b[39;49m\u001b[43mtool_args\u001b[49m\u001b[43m,\u001b[49m\u001b[43m \u001b[49m\u001b[43mrun_manager\u001b[49m\u001b[38;5;241;43m=\u001b[39;49m\u001b[43mrun_manager\u001b[49m\u001b[43m,\u001b[49m\u001b[43m \u001b[49m\u001b[38;5;241;43m*\u001b[39;49m\u001b[38;5;241;43m*\u001b[39;49m\u001b[43mtool_kwargs\u001b[49m\n\u001b[1;32m    411\u001b[0m \u001b[43m        \u001b[49m\u001b[43m)\u001b[49m\n\u001b[1;32m    412\u001b[0m         \u001b[38;5;28;01mif\u001b[39;00m new_arg_supported\n\u001b[1;32m    413\u001b[0m         \u001b[38;5;28;01melse\u001b[39;00m context\u001b[38;5;241m.\u001b[39mrun(\u001b[38;5;28mself\u001b[39m\u001b[38;5;241m.\u001b[39m_run, \u001b[38;5;241m*\u001b[39mtool_args, \u001b[38;5;241m*\u001b[39m\u001b[38;5;241m*\u001b[39mtool_kwargs)\n\u001b[1;32m    414\u001b[0m     )\n\u001b[1;32m    415\u001b[0m \u001b[38;5;28;01mexcept\u001b[39;00m ValidationError \u001b[38;5;28;01mas\u001b[39;00m e:\n\u001b[1;32m    416\u001b[0m     \u001b[38;5;28;01mif\u001b[39;00m \u001b[38;5;129;01mnot\u001b[39;00m \u001b[38;5;28mself\u001b[39m\u001b[38;5;241m.\u001b[39mhandle_validation_error:\n",
      "File \u001b[0;32m~/Documents/PythonVenv/env0521/lib/python3.11/site-packages/langchain_core/tools.py:750\u001b[0m, in \u001b[0;36mStructuredTool._run\u001b[0;34m(self, run_manager, *args, **kwargs)\u001b[0m\n\u001b[1;32m    741\u001b[0m \u001b[38;5;28;01mif\u001b[39;00m \u001b[38;5;28mself\u001b[39m\u001b[38;5;241m.\u001b[39mfunc:\n\u001b[1;32m    742\u001b[0m     new_argument_supported \u001b[38;5;241m=\u001b[39m signature(\u001b[38;5;28mself\u001b[39m\u001b[38;5;241m.\u001b[39mfunc)\u001b[38;5;241m.\u001b[39mparameters\u001b[38;5;241m.\u001b[39mget(\u001b[38;5;124m\"\u001b[39m\u001b[38;5;124mcallbacks\u001b[39m\u001b[38;5;124m\"\u001b[39m)\n\u001b[1;32m    743\u001b[0m     \u001b[38;5;28;01mreturn\u001b[39;00m (\n\u001b[1;32m    744\u001b[0m         \u001b[38;5;28mself\u001b[39m\u001b[38;5;241m.\u001b[39mfunc(\n\u001b[1;32m    745\u001b[0m             \u001b[38;5;241m*\u001b[39margs,\n\u001b[1;32m    746\u001b[0m             callbacks\u001b[38;5;241m=\u001b[39mrun_manager\u001b[38;5;241m.\u001b[39mget_child() \u001b[38;5;28;01mif\u001b[39;00m run_manager \u001b[38;5;28;01melse\u001b[39;00m \u001b[38;5;28;01mNone\u001b[39;00m,\n\u001b[1;32m    747\u001b[0m             \u001b[38;5;241m*\u001b[39m\u001b[38;5;241m*\u001b[39mkwargs,\n\u001b[1;32m    748\u001b[0m         )\n\u001b[1;32m    749\u001b[0m         \u001b[38;5;28;01mif\u001b[39;00m new_argument_supported\n\u001b[0;32m--> 750\u001b[0m         \u001b[38;5;28;01melse\u001b[39;00m \u001b[38;5;28;43mself\u001b[39;49m\u001b[38;5;241;43m.\u001b[39;49m\u001b[43mfunc\u001b[49m\u001b[43m(\u001b[49m\u001b[38;5;241;43m*\u001b[39;49m\u001b[43margs\u001b[49m\u001b[43m,\u001b[49m\u001b[43m \u001b[49m\u001b[38;5;241;43m*\u001b[39;49m\u001b[38;5;241;43m*\u001b[39;49m\u001b[43mkwargs\u001b[49m\u001b[43m)\u001b[49m\n\u001b[1;32m    751\u001b[0m     )\n\u001b[1;32m    752\u001b[0m \u001b[38;5;28;01mraise\u001b[39;00m \u001b[38;5;167;01mNotImplementedError\u001b[39;00m(\u001b[38;5;124m\"\u001b[39m\u001b[38;5;124mTool does not support sync\u001b[39m\u001b[38;5;124m\"\u001b[39m)\n",
      "Cell \u001b[0;32mIn[71], line 7\u001b[0m, in \u001b[0;36msearch_tool1\u001b[0;34m(query)\u001b[0m\n\u001b[1;32m      4\u001b[0m \u001b[38;5;28;01mdef\u001b[39;00m \u001b[38;5;21msearch_tool1\u001b[39m(query: \u001b[38;5;28mstr\u001b[39m) \u001b[38;5;241m-\u001b[39m\u001b[38;5;241m>\u001b[39m \u001b[38;5;28mstr\u001b[39m:\n\u001b[1;32m      5\u001b[0m     \u001b[38;5;66;03m# 模擬正常的查詢邏輯\u001b[39;00m\n\u001b[1;32m      6\u001b[0m     \u001b[38;5;28;01mif\u001b[39;00m query \u001b[38;5;241m==\u001b[39m \u001b[38;5;124m\"\u001b[39m\u001b[38;5;124merror\u001b[39m\u001b[38;5;124m\"\u001b[39m:\n\u001b[0;32m----> 7\u001b[0m         \u001b[38;5;28;01mraise\u001b[39;00m ToolException(\u001b[38;5;124m\"\u001b[39m\u001b[38;5;124m搜索工具1不可用。\u001b[39m\u001b[38;5;124m\"\u001b[39m)\n\u001b[1;32m      8\u001b[0m     \u001b[38;5;28;01mreturn\u001b[39;00m \u001b[38;5;124m\"\u001b[39m\u001b[38;5;124m搜尋結果\u001b[39m\u001b[38;5;124m\"\u001b[39m\n",
      "\u001b[0;31mToolException\u001b[0m: 搜索工具1不可用。"
     ]
    }
   ],
   "source": [
    "from langchain_core.tools import ToolException\n",
    "from langchain.tools import StructuredTool\n",
    "\n",
    "def search_tool1(query: str) -> str:\n",
    "    # 模擬正常的查詢邏輯\n",
    "    if query == \"error\":\n",
    "        raise ToolException(\"搜索工具1不可用。\")\n",
    "    return \"搜尋結果\"\n",
    "\n",
    "# 定義一個沒有 handle_tool_error 的工具\n",
    "search = StructuredTool.from_function(\n",
    "    func=search_tool1,\n",
    "    name=\"Search_tool1\",\n",
    "    description=\"一個查詢工具\"\n",
    ")\n",
    "\n",
    "# 嘗試運行工具，將引發未處理的異常\n",
    "search.run(\"error\")\n",
    "\n",
    "# 這行程式碼永遠不會被執行，因為程序在前面已經崩潰\n",
    "print(\"程序仍然在運行。\")\n"
   ]
  },
  {
   "cell_type": "markdown",
   "metadata": {},
   "source": [
    "透過手動進行例外捕捉"
   ]
  },
  {
   "cell_type": "code",
   "execution_count": null,
   "metadata": {},
   "outputs": [
    {
     "name": "stdout",
     "output_type": "stream",
     "text": [
      "搜索工具1不可用。\n",
      "程序仍然在運行。\n"
     ]
    }
   ],
   "source": [
    "from langchain_core.tools import ToolException\n",
    "from langchain.tools import StructuredTool\n",
    "\n",
    "def search_tool1(query: str) -> str:\n",
    "    # 模擬正常的查詢邏輯\n",
    "    if query == \"error\":\n",
    "        raise ToolException(\"搜索工具1不可用。\")\n",
    "    return \"搜尋結果\"\n",
    "\n",
    "# 定義一個沒有 handle_tool_error 的工具\n",
    "search = StructuredTool.from_function(\n",
    "    func=search_tool1,\n",
    "    name=\"Search_tool1\",\n",
    "    description=\"一個查詢工具\"\n",
    ")\n",
    "\n",
    "# 手動進行例外捕捉\n",
    "try:\n",
    "    search.run(\"error\")\n",
    "except ToolException as e:\n",
    "    print(e)\n",
    "\n",
    "# 進行了例外捕捉，所以程序不會崩潰\n",
    "print(\"程序仍然在運行。\")\n"
   ]
  },
  {
   "cell_type": "markdown",
   "metadata": {},
   "source": [
    "設置 handle_tool_error 為 True，自動進行例外捕捉"
   ]
  },
  {
   "cell_type": "code",
   "execution_count": null,
   "metadata": {},
   "outputs": [
    {
     "name": "stdout",
     "output_type": "stream",
     "text": [
      "搜尋結果\n",
      "搜索工具1不可用。\n",
      "程序仍然在運行。\n"
     ]
    }
   ],
   "source": [
    "from langchain_core.tools import ToolException\n",
    "from langchain.tools import StructuredTool\n",
    "\n",
    "def search_tool1(query: str) -> str:\n",
    "    # 模擬正常的查詢邏輯\n",
    "    if query == \"error\":\n",
    "        raise ToolException(\"搜索工具1不可用。\")\n",
    "    return \"搜尋結果\"\n",
    "\n",
    "search_with_error_handling = StructuredTool.from_function(\n",
    "    func=search_tool1,\n",
    "    name=\"Search_tool1\",\n",
    "    description=\"一個查詢工具\",\n",
    "    # 設置為 True\n",
    "    handle_tool_error=True,\n",
    ")\n",
    "\n",
    "# 測試正常查詢情況\n",
    "result = search_with_error_handling.run(\"test\")\n",
    "print(result)  # Output: '搜尋結果'\n",
    "\n",
    "# 測試引發錯誤的情況\n",
    "result = search_with_error_handling.run(\"error\")\n",
    "# 預設的例外捕捉\n",
    "print(result)  # Output: '搜索工具1不可用。'\n",
    "# 進行了例外捕捉，所以程序不會崩潰\n",
    "print(\"進行了例外捕捉，所以程序不會崩潰。\")\n"
   ]
  },
  {
   "cell_type": "markdown",
   "metadata": {},
   "source": [
    "設置 handle_tool_error 為字串"
   ]
  },
  {
   "cell_type": "code",
   "execution_count": null,
   "metadata": {},
   "outputs": [
    {
     "name": "stdout",
     "output_type": "stream",
     "text": [
      "工具執行過程中發生錯誤，請嘗試使用其他工具。\n"
     ]
    }
   ],
   "source": [
    "from langchain_core.tools import ToolException\n",
    "from langchain.tools import StructuredTool\n",
    "\n",
    "def search_tool1(query: str) -> str:\n",
    "    # 模擬正常的查詢邏輯\n",
    "    if query == \"error\":\n",
    "        raise ToolException(\"搜索工具1不可用。\")\n",
    "    return \"搜尋結果\"\n",
    "\n",
    "search_with_string_error_handling = StructuredTool.from_function(\n",
    "    func=search_tool1,\n",
    "    name=\"Search_tool1\",\n",
    "    description=\"一個壞工具\",\n",
    "    handle_tool_error=\"工具執行過程中發生錯誤，請嘗試使用其他工具。\",\n",
    ")\n",
    "\n",
    "result = search_with_string_error_handling.run(\"error\")\n",
    "print(result)"
   ]
  },
  {
   "cell_type": "markdown",
   "metadata": {},
   "source": [
    "設置 handle_tool_error 為字串時，代理捕捉到異常後返回該字串作為錯誤訊息，而設置為 True 時則會返回異常本身的訊息。"
   ]
  },
  {
   "cell_type": "code",
   "execution_count": null,
   "metadata": {},
   "outputs": [
    {
     "name": "stdout",
     "output_type": "stream",
     "text": [
      "搜尋結果\n",
      "搜索工具1不可用。\n"
     ]
    }
   ],
   "source": [
    "from langchain_core.tools import ToolException\n",
    "from langchain.tools import StructuredTool\n",
    "\n",
    "def search_tool1(query: str) -> str:\n",
    "    # 模擬正常的查詢邏輯\n",
    "    if query == \"error\":\n",
    "        raise ToolException(\"搜索工具1不可用。\")\n",
    "    return \"搜尋結果\"\n",
    "\n",
    "search_with_string_error_handling = StructuredTool.from_function(\n",
    "    func=search_tool1,\n",
    "    name=\"Search_tool1\",\n",
    "    description=\"一個查詢工具\",\n",
    "    # 錯誤發生將返回字串\n",
    "    # handle_tool_error=\"工具執行過程中發生錯誤，請嘗試使用其他工具。\",\n",
    "    # 錯誤發生將返回錯誤本身\n",
    "    handle_tool_error=True,\n",
    ")\n",
    "\n",
    "# 測試正常查詢情況\n",
    "result = search_with_string_error_handling.run(\"test\")\n",
    "print(result)\n",
    "\n",
    "# 測試引發錯誤的情況\n",
    "result = search_with_string_error_handling.run(\"error\")\n",
    "print(result)\n"
   ]
  },
  {
   "cell_type": "markdown",
   "metadata": {},
   "source": [
    "異步處理"
   ]
  },
  {
   "cell_type": "code",
   "execution_count": null,
   "metadata": {},
   "outputs": [
    {
     "name": "stdout",
     "output_type": "stream",
     "text": [
      "異步查詢結果\n",
      "捕捉到異常: 異步查詢工具不可用。\n"
     ]
    }
   ],
   "source": [
    "import asyncio\n",
    "from langchain_core.tools import ToolException\n",
    "from langchain.tools import BaseTool\n",
    "from typing import Optional, Type\n",
    "from pydantic import BaseModel, Field\n",
    "import nest_asyncio\n",
    "\n",
    "# 避免 Jupyter Notebook 中的事件循環錯誤\n",
    "nest_asyncio.apply()\n",
    "\n",
    "class SearchInput(BaseModel):\n",
    "    query: str = Field(description=\"要查詢的字串\")\n",
    "\n",
    "class AsyncSearchTool(BaseTool):\n",
    "    name = \"async_search\"\n",
    "    description = \"異步查詢工具\"\n",
    "    args_schema: Type[BaseModel] = SearchInput\n",
    "\n",
    "    def _run(\n",
    "        self, query: str, run_manager: Optional = None\n",
    "    ) -> str:\n",
    "        # 同步版本的查詢邏輯\n",
    "        if query == \"error\":\n",
    "            raise ToolException(\"同步查詢工具不可用。\")\n",
    "        return \"同步查詢結果\"\n",
    "\n",
    "    async def _arun(\n",
    "        self, query: str, run_manager: Optional = None\n",
    "    ) -> str:\n",
    "        # 異步版本的查詢邏輯\n",
    "        await asyncio.sleep(1)  # 模擬異步操作\n",
    "        if query == \"error\":\n",
    "            raise ToolException(\"異步查詢工具不可用。\")\n",
    "        return \"異步查詢結果\"\n",
    "\n",
    "# 定義一個異步工具\n",
    "async_search_tool = AsyncSearchTool()\n",
    "\n",
    "# 測試異步查詢工具\n",
    "async def test_async_tool():\n",
    "    try:\n",
    "        result = await async_search_tool._arun(\"test\")\n",
    "        print(result)  # Output: '異步查詢結果'\n",
    "    except ToolException as e:\n",
    "        print(f\"捕捉到異常: {e}\")\n",
    "\n",
    "    try:\n",
    "        result = await async_search_tool._arun(\"error\")\n",
    "        print(result)\n",
    "    except ToolException as e:\n",
    "        print(f\"捕捉到異常: {e}\")  # Output: '捕捉到異常: 異步查詢工具不可用。'\n",
    "\n",
    "# 執行測試異步工具的函數\n",
    "asyncio.get_event_loop().run_until_complete(test_async_tool())\n"
   ]
  }
 ],
 "metadata": {
  "kernelspec": {
   "display_name": "env0521",
   "language": "python",
   "name": "python3"
  },
  "language_info": {
   "codemirror_mode": {
    "name": "ipython",
    "version": 3
   },
   "file_extension": ".py",
   "mimetype": "text/x-python",
   "name": "python",
   "nbconvert_exporter": "python",
   "pygments_lexer": "ipython3",
   "version": "3.11.7"
  }
 },
 "nbformat": 4,
 "nbformat_minor": 2
}
