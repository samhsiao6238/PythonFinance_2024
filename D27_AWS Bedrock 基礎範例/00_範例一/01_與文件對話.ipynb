{
 "cells": [
  {
   "cell_type": "markdown",
   "id": "645c0cae-c6f6-4855-a265-1083891f7c5c",
   "metadata": {},
   "source": [
    "# Amazon Bedrock"
   ]
  },
  {
   "cell_type": "markdown",
   "id": "f9001d6e-1ddc-4bf7-b002-c92b9ce221f7",
   "metadata": {},
   "source": [
    "導入庫"
   ]
  },
  {
   "cell_type": "code",
   "execution_count": null,
   "id": "132a2518-8e4c-451b-881a-9a792fb717ce",
   "metadata": {},
   "outputs": [],
   "source": [
    "# 導入庫\n",
    "import boto3\n",
    "# 建立 AWS 客戶端\n",
    "bedrock_client = boto3.client(\n",
    "    service_name='bedrock-agent-runtime'\n",
    ")\n",
    "\n",
    "session = boto3.session.Session()\n",
    "region = session.region_name"
   ]
  },
  {
   "cell_type": "markdown",
   "id": "a1192530-c4c9-424f-af42-d98469e59f01",
   "metadata": {},
   "source": [
    "調用 API 的函數 `retrieve_and_generate`"
   ]
  },
  {
   "cell_type": "code",
   "execution_count": null,
   "id": "de9f5f31-74ec-47de-915f-2ef8d02e2beb",
   "metadata": {},
   "outputs": [],
   "source": [
    "def retrieveAndGenerate(\n",
    "    input_text,\n",
    "    sourceType,\n",
    "    model_id,\n",
    "    region,\n",
    "    document_s3_uri=None,\n",
    "    data=None,\n",
    "    identifier=None\n",
    "):\n",
    "    # URI \n",
    "    model_arn = f'arn:aws:bedrock:{region}::foundation-model/{model_id}'\n",
    "    # 假如是 S3\n",
    "    if sourceType == \"S3\":\n",
    "        # 透過客戶端調用 retrieve_and_generate 函數\n",
    "        return bedrock_client.retrieve_and_generate(\n",
    "            input={'text': input_text},\n",
    "            retrieveAndGenerateConfiguration={\n",
    "                'type': 'EXTERNAL_SOURCES',\n",
    "                'externalSourcesConfiguration': {\n",
    "                    'modelArn': model_arn,\n",
    "                    'sources': [\n",
    "                        {\n",
    "                            \"sourceType\": sourceType,\n",
    "                            \"s3Location\": {\n",
    "                                \"uri\": document_s3_uri  \n",
    "                            }\n",
    "                        }\n",
    "                    ]\n",
    "                }\n",
    "            }\n",
    "        )\n",
    "    else:\n",
    "        return bedrock_client.retrieve_and_generate(\n",
    "            input={'text': input_text},\n",
    "            retrieveAndGenerateConfiguration={\n",
    "                'type': 'EXTERNAL_SOURCES',\n",
    "                'externalSourcesConfiguration': {\n",
    "                    'modelArn': model_arn,\n",
    "                    'sources': [\n",
    "                        {\n",
    "                            \"sourceType\": sourceType,\n",
    "                            \"byteContent\": {\n",
    "                                \"identifier\": identifier,\n",
    "                                \"contentType\": \"text/plain\",\n",
    "                                \"data\": data  \n",
    "                            }\n",
    "                        }\n",
    "                    ]\n",
    "                }\n",
    "            }\n",
    "        )"
   ]
  },
  {
   "cell_type": "markdown",
   "id": "36bf9766-47fd-4366-a9e0-d26cb6074910",
   "metadata": {},
   "source": [
    "跟文件對話"
   ]
  },
  {
   "cell_type": "code",
   "execution_count": null,
   "id": "a2387141-2e5b-48f2-b01d-479bf7ed2e72",
   "metadata": {},
   "outputs": [],
   "source": [
    "# 模型 ID\n",
    "model_id = \"anthropic.claude-3-sonnet-20240229-v1:0\"\n",
    "# 替換自己的 S3 URI\n",
    "document_uri = \"s3://data-dump-2024/FAQ_Zappos.com.pdf\""
   ]
  },
  {
   "cell_type": "code",
   "execution_count": null,
   "id": "33db198a-4ed6-4f83-abc1-8652f20d2929",
   "metadata": {},
   "outputs": [],
   "source": [
    "def my_chatbot(question):\n",
    "    response = retrieveAndGenerate(\n",
    "        input_text=question,\n",
    "        sourceType=\"S3\",\n",
    "        model_id=model_id,\n",
    "        region=region,\n",
    "        document_s3_uri=document_uri,\n",
    "    )\n",
    "    return response"
   ]
  },
  {
   "cell_type": "markdown",
   "id": "f9905302",
   "metadata": {},
   "source": [
    "提問"
   ]
  },
  {
   "cell_type": "code",
   "execution_count": null,
   "id": "9723950b-db59-4454-ac33-76c8b9afa87e",
   "metadata": {},
   "outputs": [],
   "source": [
    "my_question = \"你們的退費政策是什麼？\"\n",
    "response = my_chatbot(question=my_question)\n",
    "print(response['output']['text'])"
   ]
  },
  {
   "cell_type": "markdown",
   "id": "7432dbef",
   "metadata": {},
   "source": [
    "提問"
   ]
  },
  {
   "cell_type": "code",
   "execution_count": null,
   "id": "f6c37821-96b0-4439-94ef-71332e3dcf0b",
   "metadata": {},
   "outputs": [],
   "source": [
    "my_question =  \"我需要多長時間才能收到退款？\"\n",
    "response = my_chatbot(question=my_question)\n",
    "print(response['output']['text'])"
   ]
  },
  {
   "cell_type": "markdown",
   "id": "d2207796",
   "metadata": {},
   "source": [
    "查詢版本"
   ]
  },
  {
   "cell_type": "code",
   "execution_count": null,
   "id": "c1725b1a-4c60-4090-b436-3c8f562f6115",
   "metadata": {},
   "outputs": [],
   "source": [
    "boto3.__version__"
   ]
  },
  {
   "cell_type": "markdown",
   "id": "1fbeb4a0",
   "metadata": {},
   "source": [
    "# 改為本地文件"
   ]
  },
  {
   "cell_type": "code",
   "execution_count": null,
   "id": "1d086150",
   "metadata": {},
   "outputs": [],
   "source": [
    "%pip install PyPDF2"
   ]
  },
  {
   "cell_type": "code",
   "execution_count": 19,
   "id": "6e5da323",
   "metadata": {},
   "outputs": [
    {
     "name": "stdout",
     "output_type": "stream",
     "text": [
      "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\n",
      "根據搜索結果,Hugging Face主要的技術重點包括:\n",
      "\n",
      "1. 提供大型預訓練模型,如BERT、GPT等,用於自然語言處理和電腦視覺任務。\n",
      "\n",
      "2. 開發了一個開源的模型庫,方便用戶訓練和部署模型。\n",
      "\n",
      "3. 提供了一個AI社區,用戶可以分享和討論模型。\n",
      "\n",
      "4. 發布了多個數據集,如CPPE-5數據集,用於訓練和評估物體檢測模型。\n",
      "根據搜索結果,最終成品是將 Hugging Face 的 CPPE-5 數據集轉換為 JSON 格式的檔案,包含 train.json 和 val.json。這些 JSON 檔案包含了圖像路徑、標註框座標、類別 ID 等資訊,可用於訓練物件檢測模型。\n"
     ]
    }
   ],
   "source": [
    "import boto3\n",
    "from PyPDF2 import PdfReader\n",
    "import base64\n",
    "import os\n",
    "from dotenv import load_dotenv\n",
    "\n",
    "# 環境變數\n",
    "load_dotenv()\n",
    "\n",
    "bedrock_client = boto3.client(service_name='bedrock-agent-runtime')\n",
    "\n",
    "session = boto3.session.Session()\n",
    "region = session.region_name\n",
    "\n",
    "def retrieveAndGenerate(\n",
    "    input_text,\n",
    "    sourceType,\n",
    "    model_id,\n",
    "    region,\n",
    "    document_content=None,\n",
    "    identifier=None\n",
    "):\n",
    "    model_arn = f'arn:aws:bedrock:{region}::foundation-model/{model_id}'\n",
    "\n",
    "    if sourceType == \"S3\":\n",
    "        return bedrock_client.retrieve_and_generate(\n",
    "            input={'text': input_text},\n",
    "            retrieveAndGenerateConfiguration={\n",
    "                'type': 'EXTERNAL_SOURCES',\n",
    "                'externalSourcesConfiguration': {\n",
    "                    'modelArn': model_arn,\n",
    "                    'sources': [\n",
    "                        {\n",
    "                            \"sourceType\": sourceType,\n",
    "                            \"s3Location\": {\n",
    "                                \"uri\": document_content  \n",
    "                            }\n",
    "                        }\n",
    "                    ]\n",
    "                }\n",
    "            }\n",
    "        )\n",
    "    else:\n",
    "        return bedrock_client.retrieve_and_generate(\n",
    "            input={'text': input_text},\n",
    "            retrieveAndGenerateConfiguration={\n",
    "                'type': 'EXTERNAL_SOURCES',\n",
    "                'externalSourcesConfiguration': {\n",
    "                    'modelArn': model_arn,\n",
    "                    'sources': [\n",
    "                        {\n",
    "                            \"sourceType\": sourceType,\n",
    "                            \"byteContent\": {\n",
    "                                \"identifier\": identifier,\n",
    "                                \"contentType\": \"application/pdf\",\n",
    "                                \"data\": document_content  \n",
    "                            }\n",
    "                        }\n",
    "                    ]\n",
    "                }\n",
    "            }\n",
    "        )\n",
    "\n",
    "def read_pdf_as_base64(file_path, max_pages=5):\n",
    "    pdf_text = \"\"\n",
    "    with open(file_path, \"rb\") as pdf_file:\n",
    "        pdf_reader = PdfReader(pdf_file)\n",
    "        for page in range(min(max_pages, len(pdf_reader.pages))):\n",
    "            pdf_text += pdf_reader.pages[page].extract_text()\n",
    "        return base64.b64encode(pdf_text.encode('utf-8')).decode('utf-8')\n",
    "\n",
    "model_id = \"anthropic.claude-3-sonnet-20240229-v1:0\"\n",
    "document_path = \"HuggingFace物件偵測應用.pdf\"\n",
    "pdf_content_base64 = read_pdf_as_base64(document_path)\n",
    "print(pdf_content_base64)\n",
    "\n",
    "def my_chatbot(question):\n",
    "    response = retrieveAndGenerate(\n",
    "        input_text=question,\n",
    "        sourceType=\"BYTE_CONTENT\",\n",
    "        model_id=model_id,\n",
    "        region=region,\n",
    "        document_content=pdf_content_base64,\n",
    "        identifier=document_path\n",
    "    )\n",
    "    return response\n",
    "\n",
    "# 提問一\n",
    "my_question = \"主要技術重點為何？\"\n",
    "response = my_chatbot(question=my_question)\n",
    "print(response['output']['text'], '\\n\\n')\n",
    "\n",
    "# 提問二\n",
    "my_question =  \"最終成品為何？\"\n",
    "response = my_chatbot(question=my_question)\n",
    "print(response['output']['text'])\n"
   ]
  }
 ],
 "metadata": {
  "kernelspec": {
   "display_name": "Python 3 (ipykernel)",
   "language": "python",
   "name": "python3"
  },
  "language_info": {
   "codemirror_mode": {
    "name": "ipython",
    "version": 3
   },
   "file_extension": ".py",
   "mimetype": "text/x-python",
   "name": "python",
   "nbconvert_exporter": "python",
   "pygments_lexer": "ipython3",
   "version": "3.11.7"
  }
 },
 "nbformat": 4,
 "nbformat_minor": 5
}
