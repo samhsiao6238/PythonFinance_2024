{
 "cells": [
  {
   "cell_type": "markdown",
   "metadata": {},
   "source": [
    "### 取得影像資訊"
   ]
  },
  {
   "cell_type": "code",
   "execution_count": 1,
   "metadata": {},
   "outputs": [
    {
     "name": "stdout",
     "output_type": "stream",
     "text": [
      "寬度 = 278\n",
      "高度 = 181\n"
     ]
    }
   ],
   "source": [
    "from PIL import Image\n",
    "\n",
    "# 建立Pillow物件\n",
    "image = Image.open(\"rushmore.jpg\")\n",
    "# 獲得影像寬度和高度\n",
    "width, height = image.size\n",
    "print(f\"寬度 = {width}\")\n",
    "print(f\"高度 = {height}\")"
   ]
  },
  {
   "cell_type": "markdown",
   "metadata": {},
   "source": [
    "### 另存新檔"
   ]
  },
  {
   "cell_type": "code",
   "execution_count": 2,
   "metadata": {},
   "outputs": [],
   "source": [
    "# 建立Pillow物件\n",
    "image = Image.open(\"rushmore.jpg\")\n",
    "# 另存新檔\n",
    "image.save(\"_new.png\")"
   ]
  },
  {
   "cell_type": "markdown",
   "metadata": {},
   "source": [
    "### 顯示影像"
   ]
  },
  {
   "cell_type": "code",
   "execution_count": 3,
   "metadata": {},
   "outputs": [],
   "source": [
    "image = Image.open(\"rushmore.jpg\")\n",
    "image.show()"
   ]
  },
  {
   "cell_type": "markdown",
   "metadata": {},
   "source": [
    "### 縮放"
   ]
  },
  {
   "cell_type": "code",
   "execution_count": 4,
   "metadata": {},
   "outputs": [],
   "source": [
    "image = Image.open(\"rushmore.jpg\")\n",
    "width, height = image.size\n",
    "\n",
    "# 寬度放大 2 倍\n",
    "newPict1 = image.resize((width*2, height))\n",
    "newPict1.save(\"_widthx2.jpg\")\n",
    "newPict1.show()\n",
    "# 高度放大 2 倍\n",
    "newPict2 = image.resize((width, height*2))\n",
    "newPict2.save(\"_heightx2.jpg\")\n",
    "newPict2.show()"
   ]
  },
  {
   "cell_type": "markdown",
   "metadata": {},
   "source": [
    "### 旋轉"
   ]
  },
  {
   "cell_type": "code",
   "execution_count": 5,
   "metadata": {},
   "outputs": [],
   "source": [
    "image = Image.open(\"rushmore.jpg\")\n",
    "# 旋轉90度\n",
    "image.rotate(90).show()\n",
    "# 旋轉180度\n",
    "image.rotate(180).show()"
   ]
  },
  {
   "cell_type": "markdown",
   "metadata": {},
   "source": [
    "### 翻轉"
   ]
  },
  {
   "cell_type": "code",
   "execution_count": 6,
   "metadata": {},
   "outputs": [],
   "source": [
    "image = Image.open(\"rushmore.jpg\")\n",
    "# 左右翻轉\n",
    "image.transpose(Image.FLIP_LEFT_RIGHT).show()\n",
    "# 上下翻轉\n",
    "image.transpose(Image.FLIP_TOP_BOTTOM).show()"
   ]
  },
  {
   "cell_type": "markdown",
   "metadata": {},
   "source": [
    "### 裁切"
   ]
  },
  {
   "cell_type": "code",
   "execution_count": 7,
   "metadata": {},
   "outputs": [],
   "source": [
    "pict = Image.open(\"rushmore.jpg\")\n",
    "# 裁切區間\n",
    "cropPict = pict.crop((80, 30, 150, 100))\n",
    "cropPict.show()"
   ]
  },
  {
   "cell_type": "markdown",
   "metadata": {},
   "source": [
    "### 複製"
   ]
  },
  {
   "cell_type": "code",
   "execution_count": 8,
   "metadata": {},
   "outputs": [],
   "source": [
    "pict = Image.open(\"rushmore.jpg\")\n",
    "# 複製\n",
    "copyPict = pict.copy()\n",
    "copyPict.save(\"_copy.jpg\")"
   ]
  },
  {
   "cell_type": "markdown",
   "metadata": {},
   "source": [
    "### 貼上"
   ]
  },
  {
   "cell_type": "code",
   "execution_count": 9,
   "metadata": {},
   "outputs": [],
   "source": [
    "# 用於編輯的圖片\n",
    "pict = Image.open(\"rushmore.jpg\")\n",
    "# 背景，便於觀察編輯的圖片\n",
    "background = Image.open(\"background.jpg\")\n",
    "# 複製要編輯的圖片\n",
    "copyPict = pict.copy()\n",
    "# 裁切區域\n",
    "cropPict = copyPict.crop((80, 30, 150, 100))\n",
    "# 第一次貼上\n",
    "background.paste(cropPict, (20, 20))\n",
    "background.save(\"_paste1.jpg\")\n",
    "background.show()\n",
    "# 第二次貼上\n",
    "background.paste(cropPict, (20, 100))\n",
    "# 儲存\n",
    "background.save(\"_paste2.jpg\")\n",
    "background.show()"
   ]
  },
  {
   "cell_type": "markdown",
   "metadata": {},
   "source": [
    "### 濾鏡：模糊"
   ]
  },
  {
   "cell_type": "code",
   "execution_count": 17,
   "metadata": {},
   "outputs": [],
   "source": [
    "from PIL import ImageFilter\n",
    "\n",
    "rushMore = Image.open(\"rushmore.jpg\")\n",
    "#\n",
    "filterPict = rushMore.filter(ImageFilter.BLUR)\n",
    "filterPict.show()"
   ]
  },
  {
   "cell_type": "markdown",
   "metadata": {},
   "source": [
    "### 濾鏡：輪廓"
   ]
  },
  {
   "cell_type": "code",
   "execution_count": 11,
   "metadata": {},
   "outputs": [],
   "source": [
    "#\n",
    "filterPict = rushMore.filter(ImageFilter.CONTOUR)\n",
    "filterPict.show()"
   ]
  },
  {
   "cell_type": "markdown",
   "metadata": {},
   "source": [
    "### 濾鏡：浮雕"
   ]
  },
  {
   "cell_type": "code",
   "execution_count": 12,
   "metadata": {},
   "outputs": [],
   "source": [
    "#\n",
    "filterPict = rushMore.filter(ImageFilter.EMBOSS)\n",
    "filterPict.show()"
   ]
  },
  {
   "cell_type": "markdown",
   "metadata": {},
   "source": [
    "### 濾鏡：邊緣"
   ]
  },
  {
   "cell_type": "code",
   "execution_count": 13,
   "metadata": {},
   "outputs": [],
   "source": [
    "#\n",
    "filterPict = rushMore.filter(ImageFilter.FIND_EDGES)\n",
    "filterPict.show()"
   ]
  },
  {
   "cell_type": "markdown",
   "metadata": {},
   "source": [
    "### 建立 QR code 物件"
   ]
  },
  {
   "cell_type": "code",
   "execution_count": 14,
   "metadata": {},
   "outputs": [],
   "source": [
    "import qrcode\n",
    "\n",
    "codeText = 'https://deepwisdom.com.tw/'\n",
    "img = qrcode.make(codeText)\n",
    "img.show()"
   ]
  },
  {
   "cell_type": "markdown",
   "metadata": {},
   "source": [
    "### QR code 添加圖片"
   ]
  },
  {
   "cell_type": "code",
   "execution_count": 15,
   "metadata": {},
   "outputs": [],
   "source": [
    "# version 5\n",
    "qr = qrcode.QRCode(version=5)\n",
    "# 設定搜尋資料\n",
    "qr.add_data(\"中華職棒\")\n",
    "# 指定顏色：藍色\n",
    "img = qr.make_image(fill_color='blue')\n",
    "# QR code 的尺寸\n",
    "width, height = img.size\n",
    "with Image.open('cpbl.jpg') as obj:\n",
    "    obj_width, obj_height = obj.size\n",
    "    # 縮小圖片尺寸，例如縮小為原來的 1/4\n",
    "    new_obj_width = obj_width // 4\n",
    "    new_obj_height = obj_height // 4\n",
    "    obj = obj.resize(\n",
    "        (new_obj_width, new_obj_height),\n",
    "        Image.Resampling.LANCZOS\n",
    "    )\n",
    "    # 確保縮小後的圖片仍然可以貼到 QR code 中心\n",
    "    img.paste(\n",
    "        obj,\n",
    "        ((width-new_obj_width)//2, (height-new_obj_height)//2)\n",
    "    )\n",
    "img.show()\n"
   ]
  },
  {
   "cell_type": "markdown",
   "metadata": {},
   "source": [
    "### QR code 添加圖片、網址並指定顏色"
   ]
  },
  {
   "cell_type": "code",
   "execution_count": 16,
   "metadata": {},
   "outputs": [],
   "source": [
    "import qrcode\n",
    "from PIL import Image\n",
    "\n",
    "# 建立 QR code\n",
    "qr = qrcode.QRCode(version=5)\n",
    "# 設定 QR code 包含的資料\n",
    "codeText = 'https://www.cpbl.com.tw/'\n",
    "qr.add_data(codeText)\n",
    "qr.make(fit=True)\n",
    "# 指定顏色：藍色\n",
    "img = qr.make_image(fill_color='blue', back_color='white')\n",
    "# QR code 的尺寸\n",
    "width, height = img.size\n",
    "\n",
    "# 打開 cpbl.jpg 並縮小圖片尺寸\n",
    "with Image.open('cpbl.jpg') as obj:\n",
    "    obj_width, obj_height = obj.size\n",
    "    # 縮小圖片尺寸，例如縮小為原來的 1/4\n",
    "    new_obj_width = obj_width // 4\n",
    "    new_obj_height = obj_height // 4\n",
    "    obj = obj.resize((new_obj_width, new_obj_height), Image.Resampling.LANCZOS)\n",
    "    \n",
    "    # 確保縮小後的圖片仍然可以貼到 QR code 中心\n",
    "    img.paste(\n",
    "        obj,\n",
    "        ((width-new_obj_width)//2, (height-new_obj_height)//2)\n",
    "    )\n",
    "\n",
    "# 顯示最終結果\n",
    "img.show()\n"
   ]
  }
 ],
 "metadata": {
  "kernelspec": {
   "display_name": "envLCG",
   "language": "python",
   "name": "python3"
  },
  "language_info": {
   "codemirror_mode": {
    "name": "ipython",
    "version": 3
   },
   "file_extension": ".py",
   "mimetype": "text/x-python",
   "name": "python",
   "nbconvert_exporter": "python",
   "pygments_lexer": "ipython3",
   "version": "3.10.11"
  }
 },
 "nbformat": 4,
 "nbformat_minor": 2
}
