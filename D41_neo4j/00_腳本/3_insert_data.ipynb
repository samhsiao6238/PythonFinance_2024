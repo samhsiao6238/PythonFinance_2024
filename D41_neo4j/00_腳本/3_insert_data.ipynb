{
 "cells": [
  {
   "cell_type": "code",
   "execution_count": 1,
   "metadata": {},
   "outputs": [
    {
     "name": "stdout",
     "output_type": "stream",
     "text": [
      "Movies created in the database.\n"
     ]
    }
   ],
   "source": [
    "\"\"\"模擬數據\"\"\"\n",
    "\n",
    "from neo4j import GraphDatabase\n",
    "import os\n",
    "from dotenv import load_dotenv\n",
    "\n",
    "# 載入環境變數\n",
    "load_dotenv()\n",
    "\n",
    "# 取得環境變數\n",
    "URI = os.getenv(\"NEO4J_URI\")\n",
    "USER = os.getenv(\"NEO4J_USER\")\n",
    "PASSWORD = os.getenv(\"NEO4J_PASSWORD\")\n",
    "\n",
    "# 連接到 Neo4j 數據庫\n",
    "driver = GraphDatabase.driver(URI, auth=(USER, PASSWORD))\n",
    "\n",
    "\n",
    "def create_movies(session):\n",
    "    # 創建電影數據\n",
    "    create_query = \"\"\"\n",
    "    CREATE (a:Movie {title: 'The Matrix', released: 1999}),\n",
    "           (b:Movie {title: 'The Matrix Reloaded', released: 2003}),\n",
    "           (c:Movie {title: 'The Matrix Revolutions', released: 2003}),\n",
    "           (d:Movie {title: 'John Wick', released: 2014}),\n",
    "           (e:Movie {title: 'John Wick: Chapter 2', released: 2017})\n",
    "    \"\"\"\n",
    "    session.run(create_query)\n",
    "    print(\"Movies created in the database.\")\n",
    "\n",
    "\n",
    "# 執行建立電影數據庫的操作\n",
    "with driver.session() as session:\n",
    "    create_movies(session)\n",
    "\n",
    "# 關閉資料庫連接\n",
    "driver.close()"
   ]
  },
  {
   "cell_type": "code",
   "execution_count": 1,
   "metadata": {},
   "outputs": [
    {
     "name": "stdout",
     "output_type": "stream",
     "text": [
      "Sample data created.\n"
     ]
    }
   ],
   "source": [
    "# insert_data.py\n",
    "from neo4j import GraphDatabase\n",
    "import os\n",
    "from dotenv import load_dotenv\n",
    "\n",
    "# 載入環境變數\n",
    "load_dotenv()\n",
    "\n",
    "# 取得環境變數\n",
    "URI = os.getenv(\"NEO4J_URI\")\n",
    "USER = os.getenv(\"NEO4J_USER\")\n",
    "PASSWORD = os.getenv(\"NEO4J_PASSWORD\")\n",
    "\n",
    "driver = GraphDatabase.driver(URI, auth=(USER, PASSWORD))\n",
    "\n",
    "\n",
    "def create_sample_data():\n",
    "    \"\"\"向資料庫中插入範例數據，創建電影和演員節點及其關係\"\"\"\n",
    "    cypher_query = \"\"\"\n",
    "    CREATE (TheMatrix:Movie {title:\"The Matrix\", released:1999, tagline:\"Welcome to the Real World\"})\n",
    "    CREATE (Keanu:Person {name:\"Keanu Reeves\", born:1964})\n",
    "    CREATE (Carrie:Person {name:\"Carrie-Anne Moss\", born:1967})\n",
    "    CREATE (Laurence:Person {name:\"Laurence Fishburne\", born:1961})\n",
    "    CREATE (Hugo:Person {name:\"Hugo Weaving\", born:1960})\n",
    "    CREATE (LillyW:Person {name:\"Lilly Wachowski\", born:1967})\n",
    "    CREATE (LanaW:Person {name:\"Lana Wachowski\", born:1965})\n",
    "    CREATE (JoelS:Person {name:\"Joel Silver\", born:1952})\n",
    "    CREATE (Keanu)-[:ACTED_IN {roles:[\"Neo\"]}]->(TheMatrix)\n",
    "    CREATE (Carrie)-[:ACTED_IN {roles:[\"Trinity\"]}]->(TheMatrix)\n",
    "    CREATE (Laurence)-[:ACTED_IN {roles:[\"Morpheus\"]}]->(TheMatrix)\n",
    "    CREATE (Hugo)-[:ACTED_IN {roles:[\"Agent Smith\"]}]->(TheMatrix)\n",
    "    CREATE (LillyW)-[:DIRECTED]->(TheMatrix)\n",
    "    CREATE (LanaW)-[:DIRECTED]->(TheMatrix)\n",
    "    CREATE (JoelS)-[:PRODUCED]->(TheMatrix)\n",
    "    \"\"\"\n",
    "    with driver.session() as session:\n",
    "        session.run(cypher_query)\n",
    "        print(\"Sample data created.\")\n",
    "\n",
    "\n",
    "if __name__ == \"__main__\":\n",
    "    create_sample_data()\n",
    "    driver.close()"
   ]
  }
 ],
 "metadata": {
  "kernelspec": {
   "display_name": "envST",
   "language": "python",
   "name": "python3"
  },
  "language_info": {
   "codemirror_mode": {
    "name": "ipython",
    "version": 3
   },
   "file_extension": ".py",
   "mimetype": "text/x-python",
   "name": "python",
   "nbconvert_exporter": "python",
   "pygments_lexer": "ipython3",
   "version": "3.10.11"
  }
 },
 "nbformat": 4,
 "nbformat_minor": 2
}
