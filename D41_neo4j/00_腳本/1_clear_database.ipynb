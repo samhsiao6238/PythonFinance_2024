{
 "cells": [
  {
   "cell_type": "code",
   "execution_count": 2,
   "metadata": {},
   "outputs": [
    {
     "name": "stdout",
     "output_type": "stream",
     "text": [
      "All data has been cleared from the database.\n"
     ]
    }
   ],
   "source": [
    "# 清空資料庫\n",
    "from neo4j import GraphDatabase\n",
    "import os\n",
    "from dotenv import load_dotenv\n",
    "\n",
    "# 取得環境變數\n",
    "URI = os.getenv(\"NEO4J_URI\")\n",
    "USER = os.getenv(\"NEO4J_USER\")\n",
    "PASSWORD = os.getenv(\"NEO4J_PASSWORD\")\n",
    "\n",
    "driver = GraphDatabase.driver(URI, auth=(USER, PASSWORD))\n",
    "\n",
    "def clear_data():\n",
    "    \"\"\"删除数据库中的所有节点和关系\"\"\"\n",
    "    cypher_query = '''\n",
    "    MATCH (n)\n",
    "    DETACH DELETE n\n",
    "    '''\n",
    "    with driver.session() as session:\n",
    "        session.run(cypher_query)\n",
    "        print(\"All data has been cleared from the database.\")\n",
    "\n",
    "if __name__ == \"__main__\":\n",
    "    clear_data()\n",
    "    driver.close()"
   ]
  }
 ],
 "metadata": {
  "kernelspec": {
   "display_name": "envST",
   "language": "python",
   "name": "python3"
  },
  "language_info": {
   "codemirror_mode": {
    "name": "ipython",
    "version": 3
   },
   "file_extension": ".py",
   "mimetype": "text/x-python",
   "name": "python",
   "nbconvert_exporter": "python",
   "pygments_lexer": "ipython3",
   "version": "3.10.11"
  }
 },
 "nbformat": 4,
 "nbformat_minor": 2
}
