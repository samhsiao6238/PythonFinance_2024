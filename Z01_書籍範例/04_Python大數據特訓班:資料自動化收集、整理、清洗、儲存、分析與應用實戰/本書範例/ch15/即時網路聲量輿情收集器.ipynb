{
  "nbformat": 4,
  "nbformat_minor": 0,
  "metadata": {
    "colab": {
      "name": "即時網路聲量輿情收集器.ipynb",
      "provenance": [],
      "collapsed_sections": [],
      "toc_visible": true
    },
    "kernelspec": {
      "name": "python3",
      "display_name": "Python 3"
    },
    "language_info": {
      "name": "python"
    }
  },
  "cells": [
    {
      "cell_type": "markdown",
      "source": [
        "# 實戰：即時網路聲量輿情資料下載"
      ],
      "metadata": {
        "id": "wd6j8VbHJzNB"
      }
    },
    {
      "cell_type": "markdown",
      "source": [
        "## 擷取即時熱門關鍵字及資訊"
      ],
      "metadata": {
        "id": "MUF0sjwcJ2Qx"
      }
    },
    {
      "cell_type": "code",
      "execution_count": null,
      "metadata": {
        "id": "2JXS7UOQ629k"
      },
      "outputs": [],
      "source": [
        "import requests,json\n",
        "\n",
        "# 官網 https://trends.google.com/trends/trendingsearches/daily?geo=TW\n",
        "# Google熱搜關鍵字，預設會取得最近兩天的關鍵字\n",
        "url = 'https://trends.google.com/trends/api/dailytrends'\n",
        "\n",
        "# 以 payload 設定 params，ed 可以設定日期 \n",
        "payload = {\n",
        "            \"hl\": \"zh-TW\",\n",
        "            \"tz\": \"-480\",\n",
        "            # 如果要指定日期可以加上 ed 參數\n",
        "            # \"ed\": \"20220819\",\n",
        "            \"geo\": \"TW\",\n",
        "            \"ns\": \"15\",\n",
        "          }\n",
        "html = requests.get(url,params=payload)\n",
        "html.encoding='utf-8'\n",
        "\n",
        "_,datas=html.text.split(',',1)\n",
        "jsondata=json.loads(datas) #將下載資料轉換為字典\n",
        "trendingSearchesDays=jsondata['default']['trendingSearchesDays']\n",
        "\n",
        "for trendingSearchesDay in trendingSearchesDays:\n",
        "  formattedDate=trendingSearchesDay['formattedDate']\n",
        "  print('日期:' + formattedDate)\n",
        "  print()\n",
        "  for data in trendingSearchesDay['trendingSearches']:\n",
        "    print('【主題關鍵字:' + data['title']['query'] + '】')\n",
        "    print()\n",
        "    for content in data['articles']:\n",
        "      print('標題:', content['title'])\n",
        "      print('媒體:', content['source'])        \n",
        "      print('發佈時間:', content['timeAgo'])\n",
        "      print('內容:', content['snippet'])\n",
        "      print('相關連結:', content['url'])\n",
        "      print()\n",
        "    print('-'*50)"
      ]
    },
    {
      "cell_type": "markdown",
      "source": [
        "## 依日期儲存收集結果"
      ],
      "metadata": {
        "id": "YNoi9RaLJ-eR"
      }
    },
    {
      "cell_type": "code",
      "source": [
        "import requests,json\n",
        "\n",
        "# 官網 https://trends.google.com/trends/trendingsearches/daily?geo=TW\n",
        "# Google熱搜關鍵字，預設會取得最近兩天的關鍵字\n",
        "url = 'https://trends.google.com/trends/api/dailytrends'\n",
        "\n",
        "# 以 payload 設定 params，ed 可以設定日期 \n",
        "payload = {\n",
        "            \"hl\": \"zh-TW\",\n",
        "            \"tz\": \"-480\",\n",
        "            # 如果要指定日期可以加上 ed 參數\n",
        "            # \"ed\": \"20220819\",\n",
        "            \"geo\": \"TW\",\n",
        "            \"ns\": \"15\",\n",
        "          }\n",
        "html = requests.get(url,params=payload)\n",
        "html.encoding='utf-8'\n",
        "\n",
        "_,datas=html.text.split(',',1)\n",
        "jsondata=json.loads(datas) #將下載資料轉換為字典\n",
        "trendingSearchesDays=jsondata['default']['trendingSearchesDays']\n",
        "\n",
        "for trendingSearchesDay in trendingSearchesDays:\n",
        "  news=\"\"\n",
        "  formattedDate=trendingSearchesDay['formattedDate']\n",
        "  news += '日期:' + formattedDate + '\\n\\n'\n",
        "  \n",
        "  for data in trendingSearchesDay['trendingSearches']:\n",
        "    news += '【主題關鍵字:' + data['title']['query'] + '】' + '\\n\\n'\n",
        "    for content in data['articles']:\n",
        "      news += '標題:' + content['title'] + '\\n'\n",
        "      news += '媒體:' + content['source'] + '\\n'\n",
        "      news += '發佈時間:' + content['timeAgo'] + '\\n'\n",
        "      news += '內容:' + content['snippet'] + '\\n'\n",
        "      news += '相關連結:' + content['url'] + '\\n\\n'            \n",
        "\n",
        "  filename= trendingSearchesDay['date'] + '.txt'    \n",
        "  with open(filename,'w',encoding='utf-8') as f:\n",
        "    f.write(news)\n",
        "  print(filename + \" 已存檔!\") "
      ],
      "metadata": {
        "id": "Q8CU4AlcKA7R",
        "colab": {
          "base_uri": "https://localhost:8080/"
        },
        "outputId": "463ec155-0915-4360-a14a-b2e6fe71f8be"
      },
      "execution_count": null,
      "outputs": [
        {
          "output_type": "stream",
          "name": "stdout",
          "text": [
            "20220820.txt 已存檔!\n",
            "20220819.txt 已存檔!\n"
          ]
        }
      ]
    }
  ]
}