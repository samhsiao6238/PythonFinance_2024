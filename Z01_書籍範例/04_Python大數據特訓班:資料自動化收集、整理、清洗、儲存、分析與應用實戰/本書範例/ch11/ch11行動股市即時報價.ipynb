{
  "nbformat": 4,
  "nbformat_minor": 0,
  "metadata": {
    "colab": {
      "name": "ch11行動股市即時報價.ipynb",
      "provenance": [],
      "collapsed_sections": []
    },
    "kernelspec": {
      "name": "python3",
      "display_name": "Python 3"
    },
    "language_info": {
      "name": "python"
    }
  },
  "cells": [
    {
      "cell_type": "markdown",
      "source": [
        "## 台灣股市資訊模組：twstock"
      ],
      "metadata": {
        "id": "0BHjvAQqN1zJ"
      }
    },
    {
      "cell_type": "markdown",
      "source": [
        "### 查詢歷史股票資料"
      ],
      "metadata": {
        "id": "dzWZVPJAPEzM"
      }
    },
    {
      "cell_type": "code",
      "execution_count": null,
      "metadata": {
        "colab": {
          "base_uri": "https://localhost:8080/"
        },
        "id": "_Pun-rnCNi47",
        "outputId": "c3c39d56-45f1-49c2-b36c-1c5740a412b6"
      },
      "outputs": [
        {
          "output_type": "stream",
          "name": "stdout",
          "text": [
            "Looking in indexes: https://pypi.org/simple, https://us-python.pkg.dev/colab-wheels/public/simple/\n",
            "Requirement already satisfied: twstock in /usr/local/lib/python3.7/dist-packages (1.3.1)\n",
            "Requirement already satisfied: requests in /usr/local/lib/python3.7/dist-packages (from twstock) (2.23.0)\n",
            "Requirement already satisfied: certifi>=2017.4.17 in /usr/local/lib/python3.7/dist-packages (from requests->twstock) (2022.6.15)\n",
            "Requirement already satisfied: urllib3!=1.25.0,!=1.25.1,<1.26,>=1.21.1 in /usr/local/lib/python3.7/dist-packages (from requests->twstock) (1.24.3)\n",
            "Requirement already satisfied: chardet<4,>=3.0.2 in /usr/local/lib/python3.7/dist-packages (from requests->twstock) (3.0.4)\n",
            "Requirement already satisfied: idna<3,>=2.5 in /usr/local/lib/python3.7/dist-packages (from requests->twstock) (2.10)\n"
          ]
        }
      ],
      "source": [
        "!pip install twstock"
      ]
    },
    {
      "cell_type": "code",
      "source": [
        "import twstock"
      ],
      "metadata": {
        "id": "dtDNNYtpOHnC"
      },
      "execution_count": null,
      "outputs": []
    },
    {
      "cell_type": "code",
      "source": [
        "stock = twstock.Stock('2317')"
      ],
      "metadata": {
        "id": "Ldx6rK3dOM6h"
      },
      "execution_count": null,
      "outputs": []
    },
    {
      "cell_type": "code",
      "source": [
        "print(stock.price)"
      ],
      "metadata": {
        "colab": {
          "base_uri": "https://localhost:8080/"
        },
        "id": "uk4zeO8IOUzm",
        "outputId": "306758f9-cf3d-4724-f944-3641bed0fdb4"
      },
      "execution_count": null,
      "outputs": [
        {
          "output_type": "stream",
          "name": "stdout",
          "text": [
            "[111.5, 111.5, 112.0, 111.5, 109.5, 109.0, 112.0, 109.5, 108.0, 110.0, 111.0, 112.0, 111.0, 109.0, 106.0, 100.0, 102.5, 100.5, 103.5, 102.0, 101.0, 100.5, 102.5, 105.0, 105.0, 105.0, 104.0, 103.5, 105.5, 106.0, 107.5]\n"
          ]
        }
      ]
    },
    {
      "cell_type": "code",
      "source": [
        "print(stock.price[-5:])"
      ],
      "metadata": {
        "colab": {
          "base_uri": "https://localhost:8080/"
        },
        "id": "uPeHSJNOOZB0",
        "outputId": "5e8fabba-e596-4a9b-fc78-4c5feb90b3a9"
      },
      "execution_count": null,
      "outputs": [
        {
          "output_type": "stream",
          "name": "stdout",
          "text": [
            "[104.0, 103.5, 105.5, 106.0, 107.5]\n"
          ]
        }
      ]
    },
    {
      "cell_type": "markdown",
      "source": [
        "### 查詢即時股票資料"
      ],
      "metadata": {
        "id": "cpUcGVukPIR0"
      }
    },
    {
      "cell_type": "code",
      "source": [
        "real = twstock.realtime.get('2317')\n",
        "real"
      ],
      "metadata": {
        "colab": {
          "base_uri": "https://localhost:8080/"
        },
        "id": "nmt5VZDfOy3s",
        "outputId": "a32cdd2d-4f6f-4f45-c76a-9c04c04f07d5"
      },
      "execution_count": null,
      "outputs": [
        {
          "output_type": "execute_result",
          "data": {
            "text/plain": [
              "{'info': {'channel': '2317.tw',\n",
              "  'code': '2317',\n",
              "  'fullname': '鴻海精密工業股份有限公司',\n",
              "  'name': '鴻海',\n",
              "  'time': '2022-07-26 02:51:35'},\n",
              " 'realtime': {'accumulate_trade_volume': '10374',\n",
              "  'best_ask_price': ['108.0000',\n",
              "   '108.5000',\n",
              "   '109.0000',\n",
              "   '109.5000',\n",
              "   '110.0000'],\n",
              "  'best_ask_volume': ['4332', '5948', '4842', '5284', '5882'],\n",
              "  'best_bid_price': ['107.5000',\n",
              "   '107.0000',\n",
              "   '106.5000',\n",
              "   '106.0000',\n",
              "   '105.5000'],\n",
              "  'best_bid_volume': ['1932', '8490', '5480', '3236', '3153'],\n",
              "  'high': '108.5000',\n",
              "  'latest_trade_price': '108.0000',\n",
              "  'low': '107.0000',\n",
              "  'open': '108.0000',\n",
              "  'trade_volume': '4'},\n",
              " 'success': True,\n",
              " 'timestamp': 1658803895.0}"
            ]
          },
          "metadata": {},
          "execution_count": 12
        }
      ]
    },
    {
      "cell_type": "code",
      "source": [
        "real['realtime']['latest_trade_price']"
      ],
      "metadata": {
        "colab": {
          "base_uri": "https://localhost:8080/",
          "height": 36
        },
        "id": "Sor2JrDdPb6I",
        "outputId": "dfe81a11-aa39-4280-937c-a2b583093039"
      },
      "execution_count": null,
      "outputs": [
        {
          "output_type": "execute_result",
          "data": {
            "text/plain": [
              "'108.0000'"
            ],
            "application/vnd.google.colaboratory.intrinsic+json": {
              "type": "string"
            }
          },
          "metadata": {},
          "execution_count": 13
        }
      ]
    },
    {
      "cell_type": "code",
      "source": [
        "import twstock\n",
        "\n",
        "stock = twstock.Stock('2317')  #鴻海\n",
        "print('近31個收盤價：')\n",
        "print(stock.price)   #近31個收盤價\n",
        "print('近6個收盤價：')\n",
        "print(stock.price[-6:])   #近6日之收盤價\n",
        "while True:\n",
        "    real = twstock.realtime.get('2317')\n",
        "    if real['success']:\n",
        "        if real['realtime']['latest_trade_price'] != '-':\n",
        "            print('即時股票資料：')\n",
        "            print(real)  #即時資料\n",
        "            print('目前股價：')\n",
        "            print(real['realtime']['latest_trade_price']) #即時價格\n",
        "            break\n",
        "    else:\n",
        "        print('錯誤：' + real['rtmessage'])\n"
      ],
      "metadata": {
        "colab": {
          "base_uri": "https://localhost:8080/"
        },
        "id": "NaycOIqXbExr",
        "outputId": "3b9c25e7-bc87-4b36-9795-7505fafda170"
      },
      "execution_count": null,
      "outputs": [
        {
          "output_type": "stream",
          "name": "stdout",
          "text": [
            "近31個收盤價：\n",
            "[111.5, 111.5, 112.0, 111.5, 109.5, 109.0, 112.0, 109.5, 108.0, 110.0, 111.0, 112.0, 111.0, 109.0, 106.0, 100.0, 102.5, 100.5, 103.5, 102.0, 101.0, 100.5, 102.5, 105.0, 105.0, 105.0, 104.0, 103.5, 105.5, 106.0, 107.5]\n",
            "近6個收盤價：\n",
            "[105.0, 104.0, 103.5, 105.5, 106.0, 107.5]\n",
            "即時股票資料：\n",
            "{'timestamp': 1658805629.0, 'info': {'code': '2317', 'channel': '2317.tw', 'name': '鴻海', 'fullname': '鴻海精密工業股份有限公司', 'time': '2022-07-26 03:20:29'}, 'realtime': {'latest_trade_price': '107.5000', 'trade_volume': '2', 'accumulate_trade_volume': '11213', 'best_bid_price': ['107.5000', '107.0000', '106.5000', '106.0000', '105.5000'], 'best_bid_volume': ['2145', '8486', '5927', '3233', '2990'], 'best_ask_price': ['108.0000', '108.5000', '109.0000', '109.5000', '110.0000'], 'best_ask_volume': ['4708', '6121', '4981', '5332', '5949'], 'open': '108.0000', 'high': '108.5000', 'low': '107.0000'}, 'success': True}\n",
            "目前股價：\n",
            "107.5000\n"
          ]
        }
      ]
    },
    {
      "cell_type": "markdown",
      "source": [
        "## 發送 LINE Notify 通知"
      ],
      "metadata": {
        "id": "df5FlXAHhrBJ"
      }
    },
    {
      "cell_type": "code",
      "source": [
        "import requests\n",
        "\n",
        "msg = '這是 LINE Notify 發送的訊息。'\n",
        "token = '輸入自己的權杖'  #權杖\n",
        "headers = {\n",
        "    \"Authorization\": \"Bearer \" + token, \n",
        "    \"Content-Type\" : \"application/x-www-form-urlencoded\"\n",
        "}\n",
        "payload = {'message': msg}\n",
        "notify = requests.post(\"https://notify-api.line.me/api/notify\", headers = headers, params = payload)\n",
        "if notify.status_code == 200:\n",
        "    print('發送 LINE Notify 成功！')\n",
        "else:\n",
        "    print('發送 LINE Notify 失敗！')"
      ],
      "metadata": {
        "colab": {
          "base_uri": "https://localhost:8080/"
        },
        "id": "yI8LMeJmhs1i",
        "outputId": "d7604a53-8170-4462-af7b-d852462b629c"
      },
      "execution_count": null,
      "outputs": [
        {
          "output_type": "stream",
          "name": "stdout",
          "text": [
            "發送 LINE Notify 成功！\n"
          ]
        }
      ]
    },
    {
      "cell_type": "markdown",
      "source": [
        "## 實戰：用LINE傳送即時股價"
      ],
      "metadata": {
        "id": "9FwAAsuGkMsR"
      }
    },
    {
      "cell_type": "code",
      "source": [
        "import twstock\n",
        "import time\n",
        "import requests\n",
        "\n",
        "def lineNotify(token, msg):\n",
        "    headers = {\n",
        "        \"Authorization\": \"Bearer \" + token, \n",
        "        \"Content-Type\" : \"application/x-www-form-urlencoded\"\n",
        "    }\n",
        "\n",
        "    payload = {'message': msg}\n",
        "    notify = requests.post(\"https://notify-api.line.me/api/notify\", headers = headers, params = payload)\n",
        "    return notify.status_code\n",
        "\n",
        "def sendline(mode, realprice, counterLine, token):\n",
        "    print('鴻海目前股價：' + str(realprice))\n",
        "    if mode == 1:\n",
        "        message = '現在鴻海股價為 ' + str(realprice) + '元，可以賣出股票了！'\n",
        "    else:\n",
        "        message = '現在鴻海股價為 ' + str(realprice) + '元，可以買入股票了！'\n",
        "    code = lineNotify(token, message)\n",
        "    if code == 200:\n",
        "        counterLine = counterLine + 1\n",
        "        print('第 ' + str(counterLine) + ' 次發送 LINE 訊息。')\n",
        "    else:\n",
        "        print('發送 LINE 訊息失敗！')\n",
        "    return counterLine\n",
        "\n",
        "token = '輸入自己的權杖'  #權杖\n",
        "counterLine = 0  #儲存發送次數\n",
        "counterError = 0  #儲存錯誤次數\n",
        "\n",
        "print('程式開始執行！')\n",
        "while True:\n",
        "    realdata = twstock.realtime.get('2317')  #即時資料\n",
        "    if realdata['success']:\n",
        "        realprice = realdata['realtime']['latest_trade_price']  #目前股價\n",
        "        if realprice != '-':\n",
        "            if float(realprice) >= 80:\n",
        "                counterLine = sendline(1, realprice, counterLine, token)\n",
        "            elif float(realprice) <= 60:\n",
        "                counterLine = sendline(2, realprice, counterLine, token)\n",
        "            if counterLine >= 3:  #最多發送3次就結束程式\n",
        "                print('程式結束！')\n",
        "                break\n",
        "            for i in range(300):  #每5分鐘讀一次\n",
        "                time.sleep(1)       \n",
        "    else:\n",
        "        print('twstock 讀取錯誤，錯誤原因：' + realdata['rtmessage'])\n",
        "        counterError = counterError + 1\n",
        "        if counterError >= 3:  #最多錯誤3次\n",
        "            print('程式結束！')\n",
        "            break\n"
      ],
      "metadata": {
        "colab": {
          "base_uri": "https://localhost:8080/"
        },
        "id": "6UdcSQAzkOlM",
        "outputId": "3f1fa6de-485e-4d9e-f4f7-dd95cf6b81e6"
      },
      "execution_count": null,
      "outputs": [
        {
          "output_type": "stream",
          "name": "stdout",
          "text": [
            "程式開始執行！\n",
            "鴻海目前股價：107.5000\n",
            "第 1 次發送 LINE 訊息。\n",
            "鴻海目前股價：107.5000\n",
            "第 2 次發送 LINE 訊息。\n",
            "鴻海目前股價：107.5000\n",
            "第 3 次發送 LINE 訊息。\n",
            "程式結束！\n"
          ]
        }
      ]
    }
  ]
}