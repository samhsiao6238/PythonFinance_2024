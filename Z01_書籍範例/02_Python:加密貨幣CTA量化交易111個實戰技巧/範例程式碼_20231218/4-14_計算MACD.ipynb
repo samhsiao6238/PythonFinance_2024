{
 "cells": [
  {
   "cell_type": "code",
   "execution_count": 2,
   "metadata": {},
   "outputs": [
    {
     "name": "stderr",
     "output_type": "stream",
     "text": [
      "/Volumes/SSD_01/00_Python課程專用/PythonAI_Web_20231217/D91_書籍範例/02_Python:加密貨幣CTA量化交易111個實戰技巧/範例程式碼_20231218/historical_data.py:20: FutureWarning: Series.__getitem__ treating keys as positions is deprecated. In a future version, integer keys will always be treated as labels (consistent with DataFrame behavior). To access a value by position, use `ser.iloc[pos]`\n",
      "  old_ts = file_data.iloc[-1][0]\n"
     ]
    },
    {
     "name": "stdout",
     "output_type": "stream",
     "text": [
      "                                macd  macdsignal   macdhist\n",
      "datetime                                                   \n",
      "2021-01-12 06:00:00+00:00        NaN         NaN        NaN\n",
      "2021-01-12 12:00:00+00:00        NaN         NaN        NaN\n",
      "2021-01-12 18:00:00+00:00        NaN         NaN        NaN\n",
      "2021-01-13 00:00:00+00:00        NaN         NaN        NaN\n",
      "2021-01-13 06:00:00+00:00        NaN         NaN        NaN\n",
      "...                              ...         ...        ...\n",
      "2023-12-17 00:00:00+00:00 -10.175269   47.501298 -57.676567\n",
      "2023-12-17 06:00:00+00:00 -16.012703   34.798498 -50.811200\n",
      "2023-12-17 12:00:00+00:00 -20.962165   23.646365 -44.608530\n",
      "2023-12-17 18:00:00+00:00 -25.124422   13.892208 -39.016630\n",
      "2023-12-18 00:00:00+00:00 -28.589852    5.395796 -33.985647\n",
      "\n",
      "[4280 rows x 3 columns]\n"
     ]
    }
   ],
   "source": [
    "from historical_data import get_klines_df\n",
    "from talib.abstract import MACD\n",
    "\n",
    "# 取得歷史資料\n",
    "symbol = \"BTCBUSD\"\n",
    "interval = \"6h\"\n",
    "klines = get_klines_df(symbol, interval)\n",
    "\n",
    "# 計算技術指標\n",
    "data = klines.copy()\n",
    "data[[\"macd\", \"macdsignal\", \"macdhist\"]] = MACD(\n",
    "    data, fastperiod=20, slowperiod=40, signalperiod=9\n",
    ")\n",
    "\n",
    "#\n",
    "print(data[[\"macd\", \"macdsignal\", \"macdhist\"]])\n"
   ]
  }
 ],
 "metadata": {
  "kernelspec": {
   "display_name": "envDash",
   "language": "python",
   "name": "python3"
  },
  "language_info": {
   "codemirror_mode": {
    "name": "ipython",
    "version": 3
   },
   "file_extension": ".py",
   "mimetype": "text/x-python",
   "name": "python",
   "nbconvert_exporter": "python",
   "pygments_lexer": "ipython3",
   "version": "3.10.11"
  }
 },
 "nbformat": 4,
 "nbformat_minor": 2
}
