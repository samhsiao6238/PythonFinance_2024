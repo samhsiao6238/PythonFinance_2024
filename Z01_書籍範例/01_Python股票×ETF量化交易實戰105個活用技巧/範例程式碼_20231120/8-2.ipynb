{
 "cells": [
  {
   "cell_type": "code",
   "execution_count": 9,
   "metadata": {},
   "outputs": [
    {
     "name": "stdout",
     "output_type": "stream",
     "text": [
      "[*********************100%%**********************]  1 of 1 completed"
     ]
    },
    {
     "name": "stdout",
     "output_type": "stream",
     "text": [
      "\n"
     ]
    },
    {
     "data": {
      "image/png": "[encoded data removed]",
      "text/plain": [
       "<Figure size 800x575 with 4 Axes>"
      ]
     },
     "metadata": {},
     "output_type": "display_data"
    }
   ],
   "source": [
    "# 載入必要套件\n",
    "from BackTest import ChartTrade\n",
    "import mplfinance as mpf\n",
    "import pandas as pd\n",
    "import os\n",
    "import yfinance as yf\n",
    "\n",
    "\n",
    "# 設定在根目錄即可，之後可以改到 /data\n",
    "datapath = \"./\"\n",
    "\n",
    "# 更新資料源為 yahoo finance\n",
    "def getDataFM(prod, st, en):\n",
    "    #\n",
    "    bakfile = f\"data//YF_{prod}_{st}_{en}_stock_daily_adj.csv\"\n",
    "    if os.path.exists(bakfile):\n",
    "        data = pd.read_csv(bakfile)\n",
    "        data[\"Date\"] = pd.to_datetime(data[\"Date\"])\n",
    "        data = data.set_index(\"Date\")\n",
    "    else:\n",
    "        data = yf.download(f\"{prod}.TW\", start=st, end=en)\n",
    "        data.columns = [i.lower() for i in data.columns]\n",
    "        # 除錯 如果沒有資料\n",
    "        if data.shape[0] == 0:\n",
    "            print(\"沒有資料\")\n",
    "            return pd.DataFrame()\n",
    "        # 將資料寫入備份檔\n",
    "        data.to_csv(bakfile)\n",
    "    return data\n",
    "\n",
    "\n",
    "# 取得三大法人 證交所資料來源\n",
    "def getTSEInstitutionalInvestors(prod, st, en):\n",
    "    # 備份檔名\n",
    "    bakfile = f\"{datapath}//{prod}_{st}_{en}_TSE_InstitutionalInvestorsBuySell.csv\"\n",
    "    # 檢視是否有該檔案存在\n",
    "    if os.path.exists(bakfile):\n",
    "        # 取得檔案內容\n",
    "        tmpdata = pd.read_csv(bakfile)\n",
    "        tmpdata[\"日期\"] = pd.to_datetime(tmpdata[\"日期\"])\n",
    "        tmpdata = tmpdata.set_index(tmpdata[\"日期\"])\n",
    "        tmpdata.drop(\"日期\", axis=1, inplace=True)\n",
    "\n",
    "    # 沒有的話就取檔案內容\n",
    "    else:\n",
    "        # 取得檔案內容\n",
    "        tmpdata = pd.read_csv(\"三大法人爬蟲資料.csv\", encoding=\"utf-8\")\n",
    "        tmpdata = tmpdata[\n",
    "            (tmpdata[\"證券代號\"] == prod) &\n",
    "            (tmpdata[\"日期\"] >= int(st)) &\n",
    "            (tmpdata[\"日期\"] <= int(en))\n",
    "        ]\n",
    "        tmpdata[\"日期\"] = pd.to_datetime(tmpdata[\"日期\"], format=\"%Y%m%d\")\n",
    "        tmpdata = tmpdata.set_index(tmpdata[\"日期\"])\n",
    "        tmpdata.drop(\"日期\", axis=1, inplace=True)\n",
    "        # 將資料內容轉換為數值\n",
    "        for i in range(2, tmpdata.shape[1]):\n",
    "            tmpdata.iloc[:, i] = tmpdata.iloc[:, i].str.replace(\",\", \"\")\n",
    "            tmpdata.iloc[:, i].astype(int)\n",
    "        # 將單一證券內容寫入備份檔中\n",
    "        tmpdata.to_csv(bakfile)\n",
    "    # 回傳資料\n",
    "    return tmpdata\n",
    "\n",
    "\n",
    "# 取得K線與三大法人的集合資料 透過 證交所\n",
    "def getPriceAndInstInvest_TSE(prod, st, en):\n",
    "    # 取得還原股價\n",
    "    data1 = getDataFM(prod, st, en)\n",
    "    # 取得證交所的三大法人\n",
    "    st = st.replace(\"-\", \"\")\n",
    "    en = en.replace(\"-\", \"\")\n",
    "    data2 = getTSEInstitutionalInvestors(prod, st, en)\n",
    "    data3 = pd.concat([data1, data2], axis=1, join=\"inner\")\n",
    "    return data3\n",
    "\n",
    "\n",
    "# 取得回測資料\n",
    "prod = \"0050\"\n",
    "data = getPriceAndInstInvest_TSE(prod, \"2023-12-01\", \"2023-12-10\")\n",
    "\n",
    "# 先將這兩列轉換為數值類型\n",
    "data[\"外陸資買進股數(不含外資自營商)\"] = pd.to_numeric(data[\"外陸資買進股數(不含外資自營商)\"], errors='coerce')\n",
    "data[\"外陸資賣出股數(不含外資自營商)\"] = pd.to_numeric(data[\"外陸資賣出股數(不含外資自營商)\"], errors='coerce')\n",
    "# 計算 外資平均買賣\n",
    "data[\"F_day\"] = data[\"外陸資買進股數(不含外資自營商)\"] - data[\"外陸資賣出股數(不含外資自營商)\"]\n",
    "data[\"F_month\"] = (data[\"F_day\"]).rolling(20).sum()\n",
    "data[\"F_mean\"] = (data[\"F_month\"]).rolling(40).mean()\n",
    "\n",
    "# 繪製副圖\n",
    "addp = []\n",
    "# 外資買賣力道\n",
    "addp.append(mpf.make_addplot(data[\"F_day\"], panel=1, type=\"bar\", secondary_y=False))\n",
    "addp.append(mpf.make_addplot(data[\"F_month\"], panel=1, color=\"red\", secondary_y=False))\n",
    "addp.append(mpf.make_addplot(data[\"F_mean\"], panel=1, color=\"blue\", secondary_y=False))\n",
    "\n",
    "# 繪製K線圖與交易明細\n",
    "ChartTrade(data, addp=addp, v_enable=False)\n"
   ]
  }
 ],
 "metadata": {
  "kernelspec": {
   "display_name": "envDash",
   "language": "python",
   "name": "python3"
  },
  "language_info": {
   "codemirror_mode": {
    "name": "ipython",
    "version": 3
   },
   "file_extension": ".py",
   "mimetype": "text/x-python",
   "name": "python",
   "nbconvert_exporter": "python",
   "pygments_lexer": "ipython3",
   "version": "3.10.11"
  }
 },
 "nbformat": 4,
 "nbformat_minor": 2
}
