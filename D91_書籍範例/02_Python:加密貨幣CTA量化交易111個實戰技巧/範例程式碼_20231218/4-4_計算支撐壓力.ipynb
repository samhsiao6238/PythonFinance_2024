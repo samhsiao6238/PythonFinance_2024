{
 "cells": [
  {
   "cell_type": "code",
   "execution_count": 2,
   "metadata": {},
   "outputs": [
    {
     "name": "stderr",
     "output_type": "stream",
     "text": [
      "/Volumes/SSD_01/00_Python課程專用/PythonAI_Web_20231217/D91_書籍範例/02_Python:加密貨幣CTA量化交易111個實戰技巧/範例程式碼_20231218/historical_data.py:20: FutureWarning: Series.__getitem__ treating keys as positions is deprecated. In a future version, integer keys will always be treated as labels (consistent with DataFrame behavior). To access a value by position, use `ser.iloc[pos]`\n",
      "  old_ts = file_data.iloc[-1][0]\n"
     ]
    },
    {
     "name": "stdout",
     "output_type": "stream",
     "text": [
      "支撐 datetime\n",
      "2021-01-12 06:00:00+00:00        NaN\n",
      "2021-01-12 12:00:00+00:00        NaN\n",
      "2021-01-12 18:00:00+00:00        NaN\n",
      "2021-01-13 00:00:00+00:00        NaN\n",
      "2021-01-13 06:00:00+00:00        NaN\n",
      "                              ...   \n",
      "2023-12-17 00:00:00+00:00    38656.7\n",
      "2023-12-17 06:00:00+00:00    38663.6\n",
      "2023-12-17 12:00:00+00:00    38720.3\n",
      "2023-12-17 18:00:00+00:00    38800.6\n",
      "2023-12-18 00:00:00+00:00    39292.4\n",
      "Name: floor, Length: 4280, dtype: float64\n",
      "壓力 datetime\n",
      "2021-01-12 06:00:00+00:00        NaN\n",
      "2021-01-12 12:00:00+00:00        NaN\n",
      "2021-01-12 18:00:00+00:00        NaN\n",
      "2021-01-13 00:00:00+00:00        NaN\n",
      "2021-01-13 06:00:00+00:00        NaN\n",
      "                              ...   \n",
      "2023-12-17 00:00:00+00:00    44736.9\n",
      "2023-12-17 06:00:00+00:00    44736.9\n",
      "2023-12-17 12:00:00+00:00    44736.9\n",
      "2023-12-17 18:00:00+00:00    44736.9\n",
      "2023-12-18 00:00:00+00:00    44736.9\n",
      "Name: ceil, Length: 4280, dtype: float64\n"
     ]
    }
   ],
   "source": [
    "from historical_data import get_klines_df\n",
    "\n",
    "# 取得歷史資料\n",
    "symbol = \"BTCBUSD\"\n",
    "interval = \"6h\"\n",
    "klines = get_klines_df(symbol, interval)\n",
    "\n",
    "# 繪製K線圖\n",
    "data = klines.copy()\n",
    "data[\"floor\"] = data.rolling(60)[\"low\"].min().shift(1)\n",
    "data[\"ceil\"] = data.rolling(60)[\"high\"].max().shift(1)\n",
    "#\n",
    "print(f'支撐 {data[\"floor\"]}')\n",
    "print(f'壓力 {data[\"ceil\"]}')\n"
   ]
  }
 ],
 "metadata": {
  "kernelspec": {
   "display_name": "envDash",
   "language": "python",
   "name": "python3"
  },
  "language_info": {
   "codemirror_mode": {
    "name": "ipython",
    "version": 3
   },
   "file_extension": ".py",
   "mimetype": "text/x-python",
   "name": "python",
   "nbconvert_exporter": "python",
   "pygments_lexer": "ipython3",
   "version": "3.10.11"
  }
 },
 "nbformat": 4,
 "nbformat_minor": 2
}
