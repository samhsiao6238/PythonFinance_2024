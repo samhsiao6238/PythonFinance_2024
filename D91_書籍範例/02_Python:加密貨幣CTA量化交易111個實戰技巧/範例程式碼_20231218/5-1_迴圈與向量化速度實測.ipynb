{
 "cells": [
  {
   "cell_type": "code",
   "execution_count": 1,
   "metadata": {},
   "outputs": [
    {
     "name": "stderr",
     "output_type": "stream",
     "text": [
      "/var/folders/vm/_zft15050r7cfh47y6v5z4k40000gn/T/ipykernel_45049/1051009724.py:17: FutureWarning: Setting an item of incompatible dtype is deprecated and will raise in a future error of pandas. Value 'False' has dtype incompatible with float64, please explicitly cast to a compatible dtype first.\n",
      "  data.loc[index, \"up\"] = False\n"
     ]
    },
    {
     "name": "stdout",
     "output_type": "stream",
     "text": [
      "迴圈寫法共花費:3.7185678482055664秒\n",
      "向量化寫法共花費:0.0029702186584472656秒\n"
     ]
    }
   ],
   "source": [
    "from historical_data import get_klines_df\n",
    "import time\n",
    "\n",
    "# 取得歷史資料\n",
    "symbol = \"BTCBUSD\"\n",
    "interval = \"15m\"\n",
    "klines = get_klines_df(symbol, interval)\n",
    "\n",
    "# 計算指標以及定義策略(迴圈寫法)\n",
    "start_ts = time.time()\n",
    "data = klines.copy()\n",
    "\n",
    "for index, row in data.iterrows():\n",
    "    if row[\"low\"] == row[\"open\"]:\n",
    "        data.loc[index, \"up\"] = True\n",
    "    else:\n",
    "        data.loc[index, \"up\"] = False\n",
    "\n",
    "print(f\"迴圈寫法共花費:{time.time() - start_ts}秒\")\n",
    "\n",
    "# 計算指標以及定義策略(向量化寫法)\n",
    "start_ts = time.time()\n",
    "data = klines.copy()\n",
    "\n",
    "data[\"up\"] = False\n",
    "data.loc[data[\"low\"] > data[\"open\"], \"up\"] = True\n",
    "print(f\"向量化寫法共花費:{time.time() - start_ts}秒\")\n"
   ]
  }
 ],
 "metadata": {
  "kernelspec": {
   "display_name": "envDash",
   "language": "python",
   "name": "python3"
  },
  "language_info": {
   "codemirror_mode": {
    "name": "ipython",
    "version": 3
   },
   "file_extension": ".py",
   "mimetype": "text/x-python",
   "name": "python",
   "nbconvert_exporter": "python",
   "pygments_lexer": "ipython3",
   "version": "3.10.11"
  }
 },
 "nbformat": 4,
 "nbformat_minor": 2
}
