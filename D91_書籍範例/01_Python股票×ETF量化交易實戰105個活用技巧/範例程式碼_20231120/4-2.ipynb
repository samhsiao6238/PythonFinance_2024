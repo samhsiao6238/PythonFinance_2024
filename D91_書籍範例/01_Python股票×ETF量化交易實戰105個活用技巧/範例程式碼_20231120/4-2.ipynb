{
 "cells": [
  {
   "cell_type": "code",
   "execution_count": 2,
   "metadata": {},
   "outputs": [
    {
     "name": "stdout",
     "output_type": "stream",
     "text": [
      "        0    1          2           3          4           5  6\n",
      "0    0050  Buy 2009-01-06   36.590000 2009-01-13   34.189999  1\n",
      "1    0050  Buy 2009-02-02   30.400000 2009-02-09   29.950001  1\n",
      "2    0050  Buy 2009-02-27   30.510000 2009-03-05   35.040001  1\n",
      "3    0050  Buy 2009-04-08   40.000000 2009-04-14   42.990002  1\n",
      "4    0050  Buy 2009-06-17   43.049999 2009-06-23   42.849998  1\n",
      "..    ...  ...        ...         ...        ...         ... ..\n",
      "177  0050  Buy 2021-10-25  136.000000 2021-11-02  136.800003  1\n",
      "178  0050  Buy 2021-11-12  139.899994 2021-11-18  141.750000  1\n",
      "179  0050  Buy 2021-12-08  143.100006 2021-12-16  141.350006  1\n",
      "180  0050  Buy 2022-01-13  149.550003 2022-01-21  143.899994  1\n",
      "181  0050  Buy 2022-02-14  143.949997 2022-02-18  143.500000  1\n",
      "\n",
      "[182 rows x 7 columns]\n"
     ]
    }
   ],
   "source": [
    "# 載入必要套件\n",
    "from Data import getDataFM\n",
    "import pandas as pd\n",
    "\n",
    "# 取得回測資料\n",
    "prod = \"0050\"\n",
    "data = getDataFM(prod, \"2007-01-01\", \"2022-05-01\")\n",
    "\n",
    "# 初始部位\n",
    "position = 0\n",
    "trade = pd.DataFrame()\n",
    "# 開始回測\n",
    "for i in range(data.shape[0] - 1):\n",
    "    # 取得策略會應用到的變數\n",
    "    c_time = data.index[i]\n",
    "    c_low = data.loc[c_time, \"low\"]\n",
    "    c_high = data.loc[c_time, \"high\"]\n",
    "    c_close = data.loc[c_time, \"close\"]\n",
    "    c_open = data.loc[c_time, \"open\"]\n",
    "    # 取下一期資料做為進場資料\n",
    "    n_time = data.index[i + 1]\n",
    "    n_open = data.loc[n_time, \"open\"]\n",
    "\n",
    "    # 進場程序\n",
    "    if position == 0:\n",
    "        # 進場邏輯\n",
    "        if c_close > c_open and (c_close - c_open) * 2 < (c_open - c_low):\n",
    "            position = 1\n",
    "            order_i = i\n",
    "            order_time = n_time\n",
    "            order_price = n_open\n",
    "            order_unit = 1\n",
    "    # 出場程序\n",
    "    elif position == 1:\n",
    "        # 出場邏輯\n",
    "        if i > order_i + 3 and c_close > c_open:\n",
    "            position = 0\n",
    "            cover_time = n_time\n",
    "            cover_price = n_open\n",
    "            # 交易紀錄\n",
    "            trade = trade._append(\n",
    "                pd.Series(\n",
    "                    [\n",
    "                        prod,\n",
    "                        \"Buy\",\n",
    "                        order_time,\n",
    "                        order_price,\n",
    "                        cover_time,\n",
    "                        cover_price,\n",
    "                        order_unit,\n",
    "                    ]\n",
    "                ),\n",
    "                ignore_index=True,\n",
    "            )\n",
    "# 顯示交易紀錄\n",
    "print(trade)\n"
   ]
  }
 ],
 "metadata": {
  "kernelspec": {
   "display_name": "envDash",
   "language": "python",
   "name": "python3"
  },
  "language_info": {
   "codemirror_mode": {
    "name": "ipython",
    "version": 3
   },
   "file_extension": ".py",
   "mimetype": "text/x-python",
   "name": "python",
   "nbconvert_exporter": "python",
   "pygments_lexer": "ipython3",
   "version": "3.10.11"
  }
 },
 "nbformat": 4,
 "nbformat_minor": 2
}
