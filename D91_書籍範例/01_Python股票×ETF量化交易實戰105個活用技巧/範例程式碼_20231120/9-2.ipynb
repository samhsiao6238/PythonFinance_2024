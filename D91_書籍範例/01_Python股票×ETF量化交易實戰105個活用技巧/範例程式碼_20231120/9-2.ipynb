{
 "cells": [
  {
   "cell_type": "code",
   "execution_count": null,
   "metadata": {},
   "outputs": [],
   "source": [
    "# 載入必要的套件\n",
    "import time\n",
    "import requests\n",
    "import os\n",
    "import datetime\n",
    "import random\n",
    "from json import loads\n",
    "import pandas as pd\n",
    "\n",
    "# 切換工作路徑\n",
    "os.chdir(\"./\")\n",
    "\n",
    "c_datetime = datetime.datetime.now()\n",
    "c_day = c_datetime.strftime(\"%Y%m%d\")\n",
    "\n",
    "first_write = True\n",
    "\n",
    "while c_day > \"20231210\":\n",
    "    c_datetime -= datetime.timedelta(1)\n",
    "    c_day = c_datetime.strftime(\"%Y%m%d\")\n",
    "\n",
    "    print(c_day)\n",
    "    url = (\n",
    "        \"https://www.twse.com.tw/exchangeReport/TWT93U?response=json&date=\" +\n",
    "        c_day +\n",
    "        \"&_=1653293058208\"\n",
    "    )\n",
    "\n",
    "    html = requests.get(url)\n",
    "    jsdata = loads(html.text)\n",
    "\n",
    "    if \"data\" not in jsdata.keys():\n",
    "        print(c_day, \"爬蟲失敗\")\n",
    "        continue\n",
    "\n",
    "    data = pd.DataFrame(jsdata[\"data\"], columns=jsdata[\"fields\"])\n",
    "    data[\"日期\"] = c_day\n",
    "\n",
    "    if first_write:\n",
    "        data.to_csv(\"融券借券爬蟲資料.csv\", encoding=\"utf-8\", index=False)\n",
    "        first_write = False\n",
    "    else:\n",
    "        data.to_csv(\n",
    "            \"融券借券爬蟲資料.csv\", encoding=\"utf-8\", mode=\"a\", index=False, header=False\n",
    "        )\n",
    "\n",
    "    # 隨機休息 5-10秒\n",
    "    time.sleep(random.randint(5, 10))\n"
   ]
  }
 ],
 "metadata": {
  "language_info": {
   "name": "python"
  }
 },
 "nbformat": 4,
 "nbformat_minor": 2
}
