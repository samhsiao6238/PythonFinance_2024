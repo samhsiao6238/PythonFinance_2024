{
 "cells": [
  {
   "cell_type": "code",
   "execution_count": null,
   "metadata": {},
   "outputs": [],
   "source": [
    "# 載入必要套件\n",
    "from Data import getDataYF, getDataFM\n",
    "\n",
    "# 取得回測資料\n",
    "data = getDataFM(\"0050\", \"2007-01-01\", \"2022-05-01\")\n",
    "\n",
    "# 初始部位\n",
    "position = 0\n",
    "# 開始回測\n",
    "for i in range(data.shape[0] - 1):\n",
    "    # 取得策略會應用到的變數\n",
    "    c_time = data.index[i]\n",
    "    c_low = data.loc[c_time, \"low\"]\n",
    "    c_high = data.loc[c_time, \"high\"]\n",
    "    c_close = data.loc[c_time, \"close\"]\n",
    "    c_open = data.loc[c_time, \"open\"]\n",
    "    # 取下一期資料做為進場資料\n",
    "    n_time = data.index[i + 1]\n",
    "    n_open = data.loc[n_time, \"open\"]\n",
    "\n",
    "    # 進場程序\n",
    "    if position == 0:\n",
    "        # 進場邏輯\n",
    "        if c_close > c_open and (c_close - c_open) * 2 < (c_open - c_low):\n",
    "            position = 1\n",
    "            order_i = i\n",
    "            order_time = n_time\n",
    "            order_price = n_open\n",
    "            order_unit = 1\n",
    "            print(\n",
    "                c_time,\n",
    "                \"觸發進場訊號 隔日進場\",\n",
    "                order_time,\n",
    "                \"進場價\",\n",
    "                order_price,\n",
    "                \"進場\",\n",
    "                order_unit,\n",
    "                \"單位\",\n",
    "            )\n",
    "    # 出場程序\n",
    "    elif position == 1:\n",
    "        # 出場邏輯\n",
    "        if i > order_i + 3 and c_close > c_open:\n",
    "            position = 0\n",
    "            cover_time = n_time\n",
    "            cover_price = n_open\n",
    "            print(c_time, \"觸發出場訊號 隔日出場\", cover_time, \"出場價\", cover_price)\n"
   ]
  }
 ],
 "metadata": {
  "language_info": {
   "name": "python"
  }
 },
 "nbformat": 4,
 "nbformat_minor": 2
}
