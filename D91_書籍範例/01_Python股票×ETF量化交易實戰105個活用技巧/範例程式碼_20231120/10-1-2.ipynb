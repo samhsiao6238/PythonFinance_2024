{
 "cells": [
  {
   "cell_type": "code",
   "execution_count": null,
   "metadata": {},
   "outputs": [],
   "source": [
    "'''\n",
    "這個部分範例中沒有，但書中有提到，我是依照書中的指引寫的\n",
    "'''\n",
    "from FinMind.data import DataLoader\n",
    "\n",
    "\n",
    "FM = DataLoader()\n",
    "\n",
    "_stock_id = '2330'\n",
    "_start_date = \"2023-01-01\"\n",
    "_end_date = \"2023-11-30\"\n",
    "\n",
    "a = FM.taiwan_stock_month_revenue(\n",
    "    stock_id=_stock_id,\n",
    "    start_date=_start_date,\n",
    "    end_date=_end_date\n",
    ")\n",
    "\n",
    "print(a)\n"
   ]
  }
 ],
 "metadata": {
  "language_info": {
   "name": "python"
  }
 },
 "nbformat": 4,
 "nbformat_minor": 2
}
