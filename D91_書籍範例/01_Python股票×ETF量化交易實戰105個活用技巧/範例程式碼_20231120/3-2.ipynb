{
 "cells": [
  {
   "cell_type": "markdown",
   "metadata": {},
   "source": [
    "[富邦證券](https://www.fbs.com.tw/Home/Index)\n",
    "\n",
    "上市股價漲幅五日排行"
   ]
  },
  {
   "cell_type": "code",
   "execution_count": 1,
   "metadata": {},
   "outputs": [
    {
     "name": "stdout",
     "output_type": "stream",
     "text": [
      "['1805  寶徠', '8201  無敵', '6239  力成', '5521  工信', '2443  昶虹', '6285  啟��', '6658  聯策', '5515  建國', '3008  大立光', '1521  大億', '3533  嘉澤', '8442  威宏-KY', '2356  英業達', '3532  台勝科', '6873  泓德能源-創', '2603  長榮', '2392  正崴', '2014  中鴻', '2516  新建', '3296  勝德', '6691  洋基工程', '3622  洋華', '2211  長榮鋼', '4766  南寶', '5388  中磊', '1435  中福', '2365  昆盈', '2031  新光鋼', '1538  正峰', '2033  佳大', '2012  春雨', '2515  中工', '6743  安普新', '2236  百達-KY', '2069  運錩', '8011  台通', '2008  高興昌', '00911 兆豐洲際半導體', '2425  承啟', '2023  燁輝', '6139  亞翔', '3018  隆銘綠能', '00830 國泰費城半導體', '2030  彰源', '6168  宏齊', '6668  中揚光', '8112  至上', '2404  漢唐', '3596  智易', '6526  達發']\n"
     ]
    }
   ],
   "source": [
    "import requests\n",
    "from bs4 import BeautifulSoup\n",
    "\n",
    "# 設置 headers User-Agent\n",
    "headers = {\n",
    "    'User-Agent': 'Mozilla/5.0 (Windows NT 10.0; Win64; x64) AppleWebKit/537.36 (KHTML, like Gecko) Chrome/58.0.3029.110 Safari/537.3'\n",
    "}\n",
    "_URL = \"https://fubon-ebrokerdj.fbs.com.tw/z/zg/zg_A_0_5.djhtm\"\n",
    "# 發送帶有 User-Agent 的請求\n",
    "req = requests.get(\n",
    "    _URL,\n",
    "    headers=headers\n",
    ")\n",
    "\n",
    "# 檢查是否成功獲得網頁內容\n",
    "if req.status_code == 200:\n",
    "    # 取得網頁原始碼文字\n",
    "    html = req.text\n",
    "    # 將網頁原始碼轉為Beautiful Soup\n",
    "    soup = BeautifulSoup(html, \"html.parser\")\n",
    "    '''以列表生成式遍歷網頁內容'''\n",
    "    # product = [i.text.strip() for i in soup.find_all(\"td\", class_=\"t3t1\")]\n",
    "    \n",
    "    '''我個人比較建議用易讀性高的寫法，多寫幾行沒關係的，改寫為以下'''\n",
    "    # 建立列表\n",
    "    product = []\n",
    "    # 遍歷\n",
    "    for i in soup.find_all(\"td\", class_=\"t3t1\"):\n",
    "        # 取除空格\n",
    "        product_text = i.text.strip()\n",
    "        # 加入列表\n",
    "        product.append(product_text)\n",
    "    # 顯示\n",
    "    print(product)\n",
    "else:\n",
    "    print(f\"發生錯誤 {req.status_code}：無法訪問網頁。\")\n",
    "\n",
    "'''結果\n",
    "['1805  寶徠', '8201  無敵', '6239  力成', '5521  工信', '2443  昶虹', '6285  啟��',\n",
    "'6658  聯策', '5515  建國', '3008  大立光', '1521  大億', '3533  嘉澤', '8442  威宏-KY',\n",
    "'2356  英業達', '3532  台勝科', '6873  泓德能源-創', '2603  長榮', '2392  正崴',\n",
    "'2014  中鴻', '2516  新建', '3296  勝德', '6691  洋基工程', '3622  洋華', '2211  長榮鋼',\n",
    "'4766  南寶', '5388  中磊', '1435  中福', '2365  昆盈', '2031  新光鋼', '1538  正峰',\n",
    "'2033  佳大', '2012  春雨', '2515  中工', '6743  安普新', '2236  百達-KY', '2069  運錩',\n",
    "'8011  台通', '2008  高興昌', '00911 兆豐洲際半導體', '2425  承啟', '2023  燁輝', '6139  亞翔',\n",
    "'3018  隆銘綠能', '00830 國泰費城半導體', '2030  彰源', '6168  宏齊', '6668  中揚光', '8112  至上',\n",
    "'2404  漢唐', '3596  智易', '6526  達發']\n",
    "'''"
   ]
  }
 ],
 "metadata": {
  "kernelspec": {
   "display_name": "envDash",
   "language": "python",
   "name": "python3"
  },
  "language_info": {
   "codemirror_mode": {
    "name": "ipython",
    "version": 3
   },
   "file_extension": ".py",
   "mimetype": "text/x-python",
   "name": "python",
   "nbconvert_exporter": "python",
   "pygments_lexer": "ipython3",
   "version": "3.10.11"
  }
 },
 "nbformat": 4,
 "nbformat_minor": 2
}
