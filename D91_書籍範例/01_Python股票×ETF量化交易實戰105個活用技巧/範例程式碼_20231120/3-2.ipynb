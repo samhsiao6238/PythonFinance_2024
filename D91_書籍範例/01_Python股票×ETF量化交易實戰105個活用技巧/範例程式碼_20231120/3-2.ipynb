{
 "cells": [
  {
   "cell_type": "code",
   "execution_count": 5,
   "metadata": {},
   "outputs": [
    {
     "data": {
      "text/plain": [
       "'<!DOCTYPE html PUBLIC \"-//W3C//DTD XHTML 1.0 Strict//EN\" \"http://www.w3.org/TR/xhtml1/DTD/xhtml1-strict.dtd\">\\r\\n<html xmlns=\"http://www.w3.org/1999/xhtml\">\\r\\n<head>\\r\\n<meta http-equiv=\"Content-Type\" content=\"text/html; charset=big5\"/>\\r\\n<title>403 - ¸T¤î: ©Úµ´¦s¨ú¡C</title>\\r\\n<style type=\"text/css\">\\r\\n<!--\\r\\nbody{margin:0;font-size:.7em;font-family:Verdana, Arial, Helvetica, sans-serif;background:#EEEEEE;}\\r\\nfieldset{padding:0 15px 10px 15px;} \\r\\nh1{font-size:2.4em;margin:0;color:#FFF;}\\r\\nh2{font-size:1.7em;margin:0;color:#CC0000;} \\r\\nh3{font-size:1.2em;margin:10px 0 0 0;color:#000000;} \\r\\n#header{width:96%;margin:0 0 0 0;padding:6px 2% 6px 2%;font-family:\"trebuchet MS\", Verdana, sans-serif;color:#FFF;\\r\\nbackground-color:#555555;}\\r\\n#content{margin:0 0 0 2%;position:relative;}\\r\\n.content-container{background:#FFF;width:96%;margin-top:9px;padding:10px;position:relative;}\\r\\n-->\\r\\n</style>\\r\\n</head>\\r\\n<body>\\r\\n<div id=\"header\"><h1>Server Error</h1></div>\\r\\n<div id=\"content\">\\r\\n <div class=\"content-container\"><fieldset>\\r\\n  <h2>403 - Forbidden: Access is denied.</h2>\\r\\n  <h3>You do not have permission to view this directory or page using the credentials that you supplied.</h3>\\r\\n </fieldset></div>\\r\\n</div>\\r\\n</body>\\r\\n</html>\\r\\n'"
      ]
     },
     "execution_count": 5,
     "metadata": {},
     "output_type": "execute_result"
    }
   ],
   "source": [
    "import requests\n",
    "from bs4 import BeautifulSoup\n",
    "\n",
    "# 取得reponse\n",
    "req = requests.get(\"https://fubon-ebrokerdj.fbs.com.tw/z/zg/zg_A_0_5.djhtm\")\n",
    "# 取得網頁原始碼文字\n",
    "html = req.text\n",
    "html"
   ]
  },
  {
   "cell_type": "code",
   "execution_count": 4,
   "metadata": {},
   "outputs": [
    {
     "data": {
      "text/plain": [
       "<!DOCTYPE html PUBLIC \"-//W3C//DTD XHTML 1.0 Strict//EN\" \"http://www.w3.org/TR/xhtml1/DTD/xhtml1-strict.dtd\">\n",
       "\n",
       "<html xmlns=\"http://www.w3.org/1999/xhtml\">\n",
       "<head>\n",
       "<meta content=\"text/html; charset=utf-8\" http-equiv=\"Content-Type\"/>\n",
       "<title>403 - ¸T¤î: ©Úµ´¦s¨ú¡C</title>\n",
       "<style type=\"text/css\">\n",
       "<!--\n",
       "body{margin:0;font-size:.7em;font-family:Verdana, Arial, Helvetica, sans-serif;background:#EEEEEE;}\n",
       "fieldset{padding:0 15px 10px 15px;} \n",
       "h1{font-size:2.4em;margin:0;color:#FFF;}\n",
       "h2{font-size:1.7em;margin:0;color:#CC0000;} \n",
       "h3{font-size:1.2em;margin:10px 0 0 0;color:#000000;} \n",
       "#header{width:96%;margin:0 0 0 0;padding:6px 2% 6px 2%;font-family:\"trebuchet MS\", Verdana, sans-serif;color:#FFF;\n",
       "background-color:#555555;}\n",
       "#content{margin:0 0 0 2%;position:relative;}\n",
       ".content-container{background:#FFF;width:96%;margin-top:9px;padding:10px;position:relative;}\n",
       "-->\n",
       "</style>\n",
       "</head>\n",
       "<body>\n",
       "<div id=\"header\"><h1>Server Error</h1></div>\n",
       "<div id=\"content\">\n",
       "<div class=\"content-container\"><fieldset>\n",
       "<h2>403 - Forbidden: Access is denied.</h2>\n",
       "<h3>You do not have permission to view this directory or page using the credentials that you supplied.</h3>\n",
       "</fieldset></div>\n",
       "</div>\n",
       "</body>\n",
       "</html>"
      ]
     },
     "execution_count": 4,
     "metadata": {},
     "output_type": "execute_result"
    }
   ],
   "source": [
    "# 將網頁原始碼轉為Beautiful Soup\n",
    "soup = BeautifulSoup(html, \"html.parser\")\n",
    "soup"
   ]
  },
  {
   "cell_type": "code",
   "execution_count": 6,
   "metadata": {},
   "outputs": [
    {
     "name": "stdout",
     "output_type": "stream",
     "text": [
      "[]\n"
     ]
    }
   ],
   "source": [
    "# 取出所有的商品欄位\n",
    "product = [i.text.strip() for i in soup.find_all(\"td\", class_=\"t3t1\")]\n",
    "# 顯示\n",
    "print(product)"
   ]
  },
  {
   "cell_type": "code",
   "execution_count": 8,
   "metadata": {},
   "outputs": [
    {
     "name": "stdout",
     "output_type": "stream",
     "text": [
      "<!DOCTYPE html PUBLIC \"-//W3C//DTD XHTML 1.0 Strict//EN\" \"http://www.w3.org/TR/xhtml1/DTD/xhtml1-strict.dtd\">\n",
      "\n",
      "<html xmlns=\"http://www.w3.org/1999/xhtml\">\n",
      "<head>\n",
      "<meta content=\"text/html; charset=utf-8\" http-equiv=\"Content-Type\"/>\n",
      "<title>403 - ¸T¤î: ©Úµ´¦s¨ú¡C</title>\n",
      "<style type=\"text/css\">\n",
      "<!--\n",
      "body{margin:0;font-size:.7em;font-family:Verdana, Arial, Helvetica, sans-serif;background:#EEEEEE;}\n",
      "fieldset{padding:0 15px 10px 15px;} \n",
      "h1{font-size:2.4em;margin:0;color:#FFF;}\n",
      "h2{font-size:1.7em;margin:0;color:#CC0000;} \n",
      "h3{font-size:1.2em;margin:10px 0 0 0;color:#000000;} \n",
      "#header{width:96%;margin:0 0 0 0;padding:6px 2% 6px 2%;font-family:\"trebuchet MS\", Verdana, sans-serif;color:#FFF;\n",
      "background-color:#555555;}\n",
      "#content{margin:0 0 0 2%;position:relative;}\n",
      ".content-container{background:#FFF;width:96%;margin-top:9px;padding:10px;position:relative;}\n",
      "-->\n",
      "</style>\n",
      "</head>\n",
      "<body>\n",
      "<div id=\"header\"><h1>Server Error</h1></div>\n",
      "<div id=\"content\">\n",
      "<div class=\"content-container\"><fieldset>\n",
      "<h2>403 - Forbidden: Access is denied.</h2>\n",
      "<h3>You do not have permission to view this directory or page using the credentials that you supplied.</h3>\n",
      "</fieldset></div>\n",
      "</div>\n",
      "</body>\n",
      "</html>\n",
      "\n",
      "[]\n"
     ]
    }
   ],
   "source": [
    "# 取得reponse\n",
    "req = requests.get(\"https://fubon-ebrokerdj.fbs.com.tw/z/zg/zg_A_0_5.djhtm\")\n",
    "# 取得網頁原始碼文字\n",
    "html = req.text\n",
    "# 將網頁原始碼轉為Beautiful Soup\n",
    "soup = BeautifulSoup(html, \"html.parser\")\n",
    "print(soup)\n",
    "# 取出所有的商品欄位\n",
    "product = [i.text.strip() for i in soup.find_all(\"td\", class_=\"t3t1\")]\n",
    "# 顯示\n",
    "print(product)"
   ]
  },
  {
   "cell_type": "code",
   "execution_count": 7,
   "metadata": {},
   "outputs": [
    {
     "name": "stdout",
     "output_type": "stream",
     "text": [
      "['1805  寶徠', '8201  無敵', '6239  力成', '5521  工信', '2443  昶虹', '6285  啟��', '6658  聯策', '5515  建國', '3008  大立光', '1521  大億', '3533  嘉澤', '8442  威宏-KY', '2356  英業達', '3532  台勝科', '6873  泓德能源-創', '2603  長榮', '2392  正崴', '2014  中鴻', '2516  新建', '3296  勝德', '6691  洋基工程', '3622  洋華', '2211  長榮鋼', '4766  南寶', '5388  中磊', '1435  中福', '2365  昆盈', '2031  新光鋼', '1538  正峰', '2033  佳大', '2012  春雨', '2515  中工', '6743  安普新', '2236  百達-KY', '2069  運錩', '8011  台通', '2008  高興昌', '00911 兆豐洲際半導體', '2425  承啟', '2023  燁輝', '6139  亞翔', '3018  隆銘綠能', '00830 國泰費城半導體', '2030  彰源', '6168  宏齊', '6668  中揚光', '8112  至上', '2404  漢唐', '3596  智易', '6526  達發']\n"
     ]
    }
   ],
   "source": [
    "import requests\n",
    "from bs4 import BeautifulSoup\n",
    "\n",
    "# 設置 User-Agent\n",
    "headers = {\n",
    "    'User-Agent': 'Mozilla/5.0 (Windows NT 10.0; Win64; x64) AppleWebKit/537.36 (KHTML, like Gecko) Chrome/58.0.3029.110 Safari/537.3'\n",
    "}\n",
    "\n",
    "# 發送帶有 User-Agent 的請求\n",
    "req = requests.get(\"https://fubon-ebrokerdj.fbs.com.tw/z/zg/zg_A_0_5.djhtm\", headers=headers)\n",
    "\n",
    "# 檢查是否成功獲得網頁內容\n",
    "if req.status_code == 200:\n",
    "    # 取得網頁原始碼文字\n",
    "    html = req.text\n",
    "    # 將網頁原始碼轉為Beautiful Soup\n",
    "    soup = BeautifulSoup(html, \"html.parser\")\n",
    "    # 取出所有的商品欄位\n",
    "    product = [i.text.strip() for i in soup.find_all(\"td\", class_=\"t3t1\")]\n",
    "    # 顯示\n",
    "    print(product)\n",
    "else:\n",
    "    print(f\"Error {req.status_code}: Unable to access the website.\")\n"
   ]
  }
 ],
 "metadata": {
  "kernelspec": {
   "display_name": "envDash",
   "language": "python",
   "name": "python3"
  },
  "language_info": {
   "codemirror_mode": {
    "name": "ipython",
    "version": 3
   },
   "file_extension": ".py",
   "mimetype": "text/x-python",
   "name": "python",
   "nbconvert_exporter": "python",
   "pygments_lexer": "ipython3",
   "version": "3.10.11"
  }
 },
 "nbformat": 4,
 "nbformat_minor": 2
}
