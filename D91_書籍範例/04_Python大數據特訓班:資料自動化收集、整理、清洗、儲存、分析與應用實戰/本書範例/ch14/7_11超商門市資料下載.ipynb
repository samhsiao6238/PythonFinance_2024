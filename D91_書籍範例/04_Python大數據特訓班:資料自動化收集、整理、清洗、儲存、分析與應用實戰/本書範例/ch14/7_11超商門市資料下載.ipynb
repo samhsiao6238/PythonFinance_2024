{
  "nbformat": 4,
  "nbformat_minor": 0,
  "metadata": {
    "colab": {
      "name": "7-11超商門市資料下載.ipynb",
      "provenance": [],
      "collapsed_sections": []
    },
    "kernelspec": {
      "name": "python3",
      "display_name": "Python 3"
    },
    "language_info": {
      "name": "python"
    }
  },
  "cells": [
    {
      "cell_type": "markdown",
      "source": [
        "# 實戰：7-11超商門市資料下載"
      ],
      "metadata": {
        "id": "_uXpJRVP1wyK"
      }
    },
    {
      "cell_type": "markdown",
      "source": [
        "## 下載單一縣市超商門市資料"
      ],
      "metadata": {
        "id": "_ZD0wYxY13Cj"
      }
    },
    {
      "cell_type": "code",
      "execution_count": 1,
      "metadata": {
        "id": "mSbQJ5OhbG1h",
        "colab": {
          "base_uri": "https://localhost:8080/"
        },
        "outputId": "32953095-3957-4819-ca41-927bd7106d6e"
      },
      "outputs": [
        {
          "output_type": "stream",
          "name": "stdout",
          "text": [
            "[<tr> <td align=\"center\" bgcolor=\"#c9e293\" class=\"black\" style=\"border:1px solid #fff; border-width:0 1px 1px 0;\" width=\"20%\">店號 </td> <td align=\"center\" bgcolor=\"#c9e293\" class=\"black\" style=\"border:1px solid #fff; border-width:0 1px 1px 0;\" width=\"20%\">店名 </td> <td align=\"center\" bgcolor=\"#c9e293\" class=\"black\" style=\"border:1px solid #fff; border-width:0 1px 1px 0;\"> 地址</td> </tr>, <tr style=\"background-color:#FFFFFF;\"> <td align=\"center\" class=\"banner\" onclick=\"return SendProcess_Retail_Inquiry_ShowRetailInformation('110079');\" style=\"cursor:pointer;font-size:large;\"><a href=\"javascript:void(0)\">110079</a></td> <td align=\"center\">竹秀  </td> <td>南投縣竹山鎮集山路二段58號                                  </td></tr>, <tr style=\"background-color:#E9E9E9;\"> <td align=\"center\" class=\"banner\" onclick=\"return SendProcess_Retail_Inquiry_ShowRetailInformation('110208');\" style=\"cursor:pointer;font-size:large;\"><a href=\"javascript:void(0)\">110208</a></td> <td align=\"center\">集寶  </td> <td>南投縣集集鎮八張街75號                                      </td></tr>]\n",
            "110079,竹秀,南投縣竹山鎮集山路二段58號,\n",
            "110208,集寶,南投縣集集鎮八張街75號,\n",
            "110219,國寶,南投縣草屯鎮中正路557之26號,\n",
            "111005,前山,南投縣竹山鎮集山路三段1089號,\n",
            "111544,向日葵,南投縣草屯鎮芬草路三段219-1號,\n",
            "113687,六合,南投縣水里鄉民生路175號1樓,\n",
            "114680,恆吉,南投縣埔里鎮南興街172號,\n",
            "120261,埔德,南投縣埔里鎮仁愛路450之2號1樓,\n",
            "121091,愛蘭,南投縣埔里鎮鐵山路36號1樓,\n",
            "121574,福元,南投縣草屯鎮中正路885號1樓,\n",
            "121736,草鞋鐓,南投縣草屯鎮中正路344之30號,\n",
            "122441,水社,南投縣魚池鄉中興路32之3號1樓,\n",
            "124540,狀元,南投縣竹山鎮大明路500號,\n",
            "126292,埔惠,南投縣埔里鎮大城里中山路三段546號1樓,\n",
            "126351,鑫永安,南投縣草屯鎮御史里登輝路558號,\n",
            "126764,祖祠,南投縣南投市祖祠路16-4號,\n",
            "127538,國泰,南投縣草屯鎮中正路636號1樓及和興街93號1樓,\n",
            "131825,日月潭,南投縣魚池鄉水社村中山路118號,\n",
            "132161,竹寶,南投縣竹山鎮延正里延正路45之30號1樓,\n",
            "136370,清境,南投縣仁愛鄉定遠新村26之1號,\n",
            "137823,長崗,南投縣南投市南崗二路581號,\n",
            "138011,信義鄉,南投縣信義鄉明德村玉山路82-2號,\n",
            "139070,水里,南投縣水里鄉中山路一段63號,\n",
            "141615,和雅,南投縣鹿谷鄉廣興村中正一路225號,\n",
            "144212,龍揚,南投縣埔里鎮樹人路221之2號,\n",
            "151645,龍辰,南投縣南投市中學西路61號,\n",
            "153652,恩泉,南投縣仁愛鄉南豐村中正路88附1號,\n",
            "153663,埔灃,南投縣埔里鎮中山路二段108號中華路184之2號,\n",
            "154530,鴻寶,南投縣草屯鎮民權西路221號,\n",
            "155289,鑫潭,南投縣埔里鎮中山路四段97之1.97之2號,\n",
            "155441,鳳凰谷,南投縣鹿谷鄉中正路三段63號,\n",
            "160144,集利,南投縣集集鎮吳厝里民生路65-1號,\n",
            "163501,樂天,南投縣南投市南陽路476號,\n",
            "164191,龍泰,南投縣草屯鎮碧興路一段798-1號,\n",
            "164401,名間,南投縣名間鄉彰南路71之5號,\n",
            "164412,雅集,南投縣名間鄉員集路137號,\n",
            "174017,猴探井,南投縣南投市八德路600之1號,\n",
            "179908,中心園,南投縣埔里鎮中山路一段427號1樓,\n",
            "181303,合廣,南投縣草屯鎮碧山路307.309號,\n",
            "183332,京鑫,南投縣草屯鎮中正路483號,\n",
            "187518,鹿山,南投縣竹山鎮延祥里集山路三段73號,\n",
            "187828,福新,南投縣草屯鎮虎山路495號497號,\n",
            "188348,鑫魚池,南投縣魚池鄉魚池街799號,\n",
            "192646,育溪,南投縣埔里鎮安七街89-1號,\n",
            "193074,鑫驛,南投縣埔里鎮中山路四段106號,\n",
            "193085,穀昌,南投縣名間鄉彰南路450號,\n",
            "193971,鈺興,南投縣竹山鎮集山路三段912.914號,\n",
            "195357,龍星,南投縣草屯鎮復興里碧山路731之5號,\n",
            "195782,欣鑫,南投縣南投市仁和路26號,\n",
            "196006,埔安,南投縣埔里鎮西安路一段409-1號,\n",
            "196372,墩煌,南投縣草屯鎮芬草路三段36號,\n",
            "196408,鄉親寮,南投縣中寮鄉永安街79之1號1樓,\n",
            "200424,莘鑫,南投縣南投市中興路221號,\n",
            "202040,大庄,南投縣名間鄉大庄村南田路142之12號,\n",
            "207931,寶棧,南投縣竹山鎮保甲路10號,\n",
            "209384,御新,南投縣草屯鎮中正路1397-6號,\n",
            "213947,南投,南投縣南投市民族路289、291、293號中山街143號1.2樓,\n",
            "215529,京埔,南投縣草屯鎮南埔里中正路254-10號,\n",
            "228695,芳美,南投縣南投市中興路413號,\n",
            "230447,世翊,南投縣埔里鎮和平東路223號,\n",
            "231679,鑫台一,南投縣埔里鎮中山路一段176號,\n",
            "231680,茶鄉,南投縣名間鄉彰南路335之8號,\n",
            "233332,水信,南投縣水里鄉水信路二段149號,\n",
            "233402,興中,南投縣南投市光明一路561號,\n",
            "238784,豐詳,南投縣南投市民族路66、68號1樓,\n",
            "240695,中翔,南投縣埔里鎮中正路704號,\n",
            "240721,合立,南投縣南投市營北里向陽路101號,\n",
            "251824,邵月,南投縣魚池鄉新城村通文巷6之28號,\n",
            "882079,龍寶,南投縣水里鄉民權路170號,\n",
            "894315,龍巳,南投縣南投市東山路408號,\n",
            "898351,南崗,南投縣南投市民族路515號及南崗一路387號,\n",
            "900614,新鹿谷,南投縣鹿谷鄉仁義路148號,\n",
            "901776,東東,南投縣埔里鎮忠孝路138-140號,\n",
            "902562,佳軒,南投縣魚池鄉魚池街350號,\n",
            "913229,中營,南投縣南投市中華路130號,\n",
            "913355,新國姓,南投縣國姓鄉國姓村中興路301號,\n",
            "922290,和育,南投縣竹山鎮大智路57號,\n",
            "923466,豐億,南投縣南投市彰南路一段573號,\n",
            "923765,見晴園,南投縣仁愛鄉大同村定遠新村路18-1號,\n",
            "931168,社寮,南投縣竹山鎮集山路一段2051號,\n",
            "931180,常春藤,南投縣南投市工業路33號,\n",
            "932367,埔慶,南投縣埔里鎮中山路三段168號170號,\n",
            "940092,詠旭,南投縣南投市彰南路一段1031-2號1樓,\n",
            "941741,瑞峰,南投縣水里鄉北埔村中山路一段540號,\n",
            "950561,竹山大,南投縣竹山鎮中山里自強路176號,\n",
            "954415,合心,南投縣名間鄉中山村彰南路218-32號,\n",
            "954596,登瀛,南投縣草屯鎮新庄里博愛路1012號,\n",
            "958691,佑民,南投縣草屯鎮太平路一段221號,\n",
            "966832,稻豐,南投縣草屯鎮新豐路351號,\n",
            "969037,伊達邵,南投縣魚池鄉日月村義勇街89號,\n",
            "970510,富嘉,南投縣仁愛鄉仁和路223-1號,\n",
            "970716,宏旺,南投縣南投市復興路38號,\n",
            "972804,小瑞士,南投縣仁愛鄉定遠新村28號,\n",
            "977577,敦和,南投縣草屯鎮仁愛街197號199號1樓,\n",
            "977706,豐登,南投縣埔里鎮枇杷里中正路183-23號,\n",
            "981222,和社,南投縣信義鄉同和巷8號1樓,\n",
            "981956,唯鑫,南投縣南投市南崗三路8號2樓,\n",
            "982306,勝財興,南投縣埔里鎮榮光路1-11號,\n",
            "992956,霧社,南投縣仁愛鄉仁和路43號45號1樓,\n",
            "993052,埔佑,南投縣埔里鎮中華路116號1樓,\n",
            "993203,中銘,南投縣埔里鎮西安路一段104號,\n",
            "993672,康壽,南投縣南投市復興路311號1樓,\n"
          ]
        }
      ],
      "source": [
        "# 網址：https://www.ibon.com.tw/retail_inquiry.aspx#gsc.tab=0\n",
        "\n",
        "import requests\n",
        "url = 'https://www.ibon.com.tw/retail_inquiry_ajax.aspx'\n",
        "payload = {'strTargetField': 'COUNTY', 'strKeyWords': '南投縣'}\n",
        "html = requests.post(url, data=payload)\n",
        "html.encoding='utf-8'\n",
        "\n",
        "from bs4 import BeautifulSoup\n",
        "soup = BeautifulSoup(html.text, 'html.parser')\n",
        "datas = soup.find_all('tr')\n",
        "print(datas[0:3]) # 顯示前 3 筆表格資料\n",
        "\n",
        "del datas[0]  # 去掉表頭\n",
        "for data in datas:\n",
        "  items = data.find_all('td')\n",
        "  for item in items:\n",
        "      print(item.text.strip() , end=',')\n",
        "  print()"
      ]
    },
    {
      "cell_type": "markdown",
      "source": [
        "## 使用Pandas將資料儲存成 Excel檔案\n"
      ],
      "metadata": {
        "id": "qdee-iwI3uXB"
      }
    },
    {
      "cell_type": "code",
      "source": [
        "# 建立　XlsxWriter　物件　\n",
        "import pandas as pd\n",
        "writer = pd.ExcelWriter('test.xlsx')"
      ],
      "metadata": {
        "id": "a6BHg2ey3z-X"
      },
      "execution_count": 16,
      "outputs": []
    },
    {
      "cell_type": "code",
      "source": [
        "# 建立數據一\n",
        "df1 = pd.DataFrame({\"name\":[\"david\",\"tom\",\"chiou\"],\n",
        "                    \"id\":[123,456,789] })\n",
        "df1.to_excel(writer,sheet_name='sheet1',index=False)"
      ],
      "metadata": {
        "id": "TUaDakwYfdR7"
      },
      "execution_count": 17,
      "outputs": []
    },
    {
      "cell_type": "code",
      "source": [
        "# 建立數據二\n",
        "df2 = pd.DataFrame({\"電話\":[\"0912-112233\",\"0987-556677\"],\n",
        "                    \"地址\":[\"台北市\",\"埔里鎮\"] })\n",
        "df2.to_excel(writer,sheet_name='工作表二')"
      ],
      "metadata": {
        "id": "iRcE6k6LfxNk"
      },
      "execution_count": 18,
      "outputs": []
    },
    {
      "cell_type": "code",
      "source": [
        "# 儲存至 Excel文件中\n",
        "writer.save()"
      ],
      "metadata": {
        "id": "kgd5m6DZf3a0"
      },
      "execution_count": 19,
      "outputs": []
    },
    {
      "cell_type": "markdown",
      "source": [
        "## 以縣市為工作表儲存成 Excel 活頁簿"
      ],
      "metadata": {
        "id": "gRkntsbl37vS"
      }
    },
    {
      "cell_type": "code",
      "source": [
        "import requests\n",
        "from bs4 import BeautifulSoup\n",
        "import pandas as pd\n",
        "# 取得所有縣市\n",
        "url = 'https://www.ibon.com.tw/retail_inquiry.aspx#gsc.tab=0'\n",
        "r = requests.get(url)\n",
        "r.encoding = 'utf-8'\n",
        "html = BeautifulSoup(r.text, 'html.parser')\n",
        "areas = html.find('select', id='Class1').find_all('option')\n",
        "for i in range(len(areas)):\n",
        "  areas[i] = areas[i].text \n",
        "    \n",
        "# 開始批次擷取\n",
        "writer = pd.ExcelWriter('711.xlsx')\n",
        "for county in areas:\n",
        "  url = 'https://www.ibon.com.tw/retail_inquiry_ajax.aspx'\n",
        "  payload = {'strTargetField': 'COUNTY', 'strKeyWords': county}\n",
        "  r = requests.post(url, data=payload)\n",
        "  r.encoding='utf-8'\n",
        "  \n",
        "  print(county,\"下載中…\")\n",
        "  df = pd.read_html(r.text, header=0)[0]\n",
        "  df.to_excel(writer, sheet_name=county,index=False)\n",
        "      \n",
        "# 儲存至 Excel文件中\n",
        "writer.save()        \n",
        "print(\"下載完畢\")"
      ],
      "metadata": {
        "colab": {
          "base_uri": "https://localhost:8080/"
        },
        "id": "xmvOSAAr3-s6",
        "outputId": "c63bf2e1-6b2d-4464-c990-fd138ba744df"
      },
      "execution_count": 20,
      "outputs": [
        {
          "output_type": "stream",
          "name": "stdout",
          "text": [
            "台北市 下載中…\n",
            "新北市 下載中…\n",
            "基隆市 下載中…\n",
            "宜蘭縣 下載中…\n",
            "桃園市 下載中…\n",
            "新竹市 下載中…\n",
            "新竹縣 下載中…\n",
            "苗栗縣 下載中…\n",
            "台中市 下載中…\n",
            "彰化縣 下載中…\n",
            "南投縣 下載中…\n",
            "雲林縣 下載中…\n",
            "嘉義市 下載中…\n",
            "嘉義縣 下載中…\n",
            "台南市 下載中…\n",
            "高雄市 下載中…\n",
            "屏東縣 下載中…\n",
            "花蓮縣 下載中…\n",
            "台東縣 下載中…\n",
            "澎湖縣 下載中…\n",
            "金門縣 下載中…\n",
            "連江縣 下載中…\n",
            "南海諸島 下載中…\n",
            "下載完畢\n"
          ]
        }
      ]
    }
  ]
}