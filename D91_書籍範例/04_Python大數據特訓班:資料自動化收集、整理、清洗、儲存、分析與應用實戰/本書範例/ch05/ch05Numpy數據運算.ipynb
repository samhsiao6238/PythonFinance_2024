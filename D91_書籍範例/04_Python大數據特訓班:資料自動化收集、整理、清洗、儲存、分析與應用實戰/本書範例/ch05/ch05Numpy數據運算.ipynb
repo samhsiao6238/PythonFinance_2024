{
  "nbformat": 4,
  "nbformat_minor": 0,
  "metadata": {
    "colab": {
      "name": "ch05Numpy數據運算.ipynb",
      "provenance": [],
      "collapsed_sections": []
    },
    "kernelspec": {
      "name": "python3",
      "display_name": "Python 3"
    },
    "language_info": {
      "name": "python"
    }
  },
  "cells": [
    {
      "cell_type": "markdown",
      "source": [
        "# Numpy"
      ],
      "metadata": {
        "id": "ZqmqY68GnYOq"
      }
    },
    {
      "cell_type": "markdown",
      "source": [
        "## 建立基本陣列"
      ],
      "metadata": {
        "id": "BbgneFZPnaE_"
      }
    },
    {
      "cell_type": "code",
      "execution_count": null,
      "metadata": {
        "colab": {
          "base_uri": "https://localhost:8080/"
        },
        "id": "lcmD3fm170cF",
        "outputId": "c8cefef9-a6c5-47e9-b64e-b3a37a1f6fc3"
      },
      "outputs": [
        {
          "output_type": "stream",
          "name": "stdout",
          "text": [
            "[1 2 3 4]\n",
            "[5 6 7 8]\n",
            "<class 'numpy.ndarray'> <class 'numpy.ndarray'>\n"
          ]
        }
      ],
      "source": [
        "import numpy as np\n",
        "np1 = np.array([1,2,3,4])\t\t#使用list\n",
        "np2 = np.array((5,6,7,8))\t\t#使用tuple\n",
        "print(np1)\n",
        "print(np2)\n",
        "print(type(np1), type(np2))"
      ]
    },
    {
      "cell_type": "code",
      "source": [
        "import numpy as np\n",
        "na = np.arange(0, 31, 2)\n",
        "print(na)"
      ],
      "metadata": {
        "colab": {
          "base_uri": "https://localhost:8080/"
        },
        "id": "pgV8eShaCFUT",
        "outputId": "e97a6bce-07ba-4125-e282-d6c3f51e0884"
      },
      "execution_count": null,
      "outputs": [
        {
          "output_type": "stream",
          "name": "stdout",
          "text": [
            "[ 0  2  4  6  8 10 12 14 16 18 20 22 24 26 28 30]\n"
          ]
        }
      ]
    },
    {
      "cell_type": "code",
      "source": [
        "import numpy as np\n",
        "na = np.linspace(1, 15, 3)\n",
        "print(na)"
      ],
      "metadata": {
        "colab": {
          "base_uri": "https://localhost:8080/"
        },
        "id": "c3EaENHHE-68",
        "outputId": "8ef1324e-384c-41cb-a44a-093a3802ffa1"
      },
      "execution_count": null,
      "outputs": [
        {
          "output_type": "stream",
          "name": "stdout",
          "text": [
            "[ 1.  8. 15.]\n"
          ]
        }
      ]
    },
    {
      "cell_type": "code",
      "source": [
        "import numpy as np\n",
        "a = np.zeros((5,))\n",
        "print(a)"
      ],
      "metadata": {
        "colab": {
          "base_uri": "https://localhost:8080/"
        },
        "id": "NEVHcKT8FGdi",
        "outputId": "e194d057-cbec-4e18-98ae-b78c7273ca9b"
      },
      "execution_count": null,
      "outputs": [
        {
          "output_type": "stream",
          "name": "stdout",
          "text": [
            "[0. 0. 0. 0. 0.]\n"
          ]
        }
      ]
    },
    {
      "cell_type": "code",
      "source": [
        "import numpy as np\n",
        "b = np.ones((5,))\n",
        "print(b)"
      ],
      "metadata": {
        "colab": {
          "base_uri": "https://localhost:8080/"
        },
        "id": "gvFXvSp9FL-r",
        "outputId": "1621a979-1cbf-486b-d411-3eddfa7e8bbe"
      },
      "execution_count": null,
      "outputs": [
        {
          "output_type": "stream",
          "name": "stdout",
          "text": [
            "[1. 1. 1. 1. 1.]\n"
          ]
        }
      ]
    },
    {
      "cell_type": "markdown",
      "source": [
        "## 建立多維陣列"
      ],
      "metadata": {
        "id": "H_vU-jtPnqlA"
      }
    },
    {
      "cell_type": "code",
      "source": [
        "import numpy as np\n",
        "listdata = [[1,2,3,4,5],\n",
        "       [6,7,8,9,10]]\n",
        "na = np.array(listdata)\n",
        "print(na)\n",
        "print('維度', na.ndim)\n",
        "print('形狀', na.shape)\n",
        "print('數量', na.size)"
      ],
      "metadata": {
        "colab": {
          "base_uri": "https://localhost:8080/"
        },
        "id": "LcqPM5GSFm6s",
        "outputId": "d60097dd-6253-417b-a0b2-b1f631522653"
      },
      "execution_count": null,
      "outputs": [
        {
          "output_type": "stream",
          "name": "stdout",
          "text": [
            "[[ 1  2  3  4  5]\n",
            " [ 6  7  8  9 10]]\n",
            "維度 2\n",
            "形狀 (2, 5)\n",
            "數量 10\n"
          ]
        }
      ]
    },
    {
      "cell_type": "markdown",
      "source": [
        "## 改變陣列形狀：reshape()"
      ],
      "metadata": {
        "id": "rV26mTHYnxvR"
      }
    },
    {
      "cell_type": "code",
      "source": [
        "import numpy as np\n",
        "adata = np.arange(1,17)\n",
        "print(adata)\n",
        "bdata = adata.reshape(4,4)\n",
        "print(bdata)"
      ],
      "metadata": {
        "colab": {
          "base_uri": "https://localhost:8080/"
        },
        "id": "vBsTMuLoF8QC",
        "outputId": "c444a4dd-9a80-4b8e-ed49-13452485af10"
      },
      "execution_count": null,
      "outputs": [
        {
          "output_type": "stream",
          "name": "stdout",
          "text": [
            "[ 1  2  3  4  5  6  7  8  9 10 11 12 13 14 15 16]\n",
            "[[ 1  2  3  4]\n",
            " [ 5  6  7  8]\n",
            " [ 9 10 11 12]\n",
            " [13 14 15 16]]\n"
          ]
        }
      ]
    },
    {
      "cell_type": "markdown",
      "source": [
        "## 一維陣列取值"
      ],
      "metadata": {
        "id": "RLnj8rOjn2pf"
      }
    },
    {
      "cell_type": "code",
      "source": [
        "import numpy as np\n",
        "na = np.arange(0,6)\n",
        "print(na)\n",
        "print(na[0])\n",
        "print(na[5])\n",
        "print(na[1:5])\n",
        "print(na[1:5:2])\n",
        "print(na[5:1:-1])\n",
        "print(na[:])\n",
        "print(na[:3])\n",
        "print(na[3:])"
      ],
      "metadata": {
        "colab": {
          "base_uri": "https://localhost:8080/"
        },
        "id": "UP54x5eCHTiU",
        "outputId": "3d1336a2-31b8-404a-ede8-928375cfc838"
      },
      "execution_count": null,
      "outputs": [
        {
          "output_type": "stream",
          "name": "stdout",
          "text": [
            "[0 1 2 3 4 5]\n",
            "0\n",
            "5\n",
            "[1 2 3 4]\n",
            "[1 3]\n",
            "[5 4 3 2]\n",
            "[0 1 2 3 4 5]\n",
            "[0 1 2]\n",
            "[3 4 5]\n"
          ]
        }
      ]
    },
    {
      "cell_type": "markdown",
      "source": [
        "## 多維陣列取值"
      ],
      "metadata": {
        "id": "_qmcE7lboBTf"
      }
    },
    {
      "cell_type": "code",
      "source": [
        "import numpy as np\n",
        "na = np.arange(1, 17).reshape(4, 4)\n",
        "na"
      ],
      "metadata": {
        "colab": {
          "base_uri": "https://localhost:8080/"
        },
        "id": "8AiLWZQDMmth",
        "outputId": "91f9d61b-1c28-4d3a-face-e8ed9eef2387"
      },
      "execution_count": null,
      "outputs": [
        {
          "output_type": "execute_result",
          "data": {
            "text/plain": [
              "array([[ 1,  2,  3,  4],\n",
              "       [ 5,  6,  7,  8],\n",
              "       [ 9, 10, 11, 12],\n",
              "       [13, 14, 15, 16]])"
            ]
          },
          "metadata": {},
          "execution_count": 9
        }
      ]
    },
    {
      "cell_type": "code",
      "source": [
        "na[2, 3]"
      ],
      "metadata": {
        "colab": {
          "base_uri": "https://localhost:8080/"
        },
        "id": "ytMjWi4aS2lI",
        "outputId": "d5b8c572-dd30-4a65-9043-1af3ebaddf3e"
      },
      "execution_count": null,
      "outputs": [
        {
          "output_type": "execute_result",
          "data": {
            "text/plain": [
              "12"
            ]
          },
          "metadata": {},
          "execution_count": 10
        }
      ]
    },
    {
      "cell_type": "code",
      "source": [
        "print(na[1, 1:3])\t\t\t#[6,7]\n",
        "print(na[1:3, 2])\t\t\t#[7,11]\n",
        "print(na[1:3, 1:3])\t\t#[[6,7],[7,11]]\n",
        "print(na[::2, ::2])\t\t#[[1,3],[9,11]]\n",
        "print(na[:, 2])\t\t\t\t#[3,7,11,15]\n",
        "print(na[1, :])\t\t\t\t#[5,6,7,8]\n",
        "print(na[:, :])\t\t\t\t#矩陣全部"
      ],
      "metadata": {
        "colab": {
          "base_uri": "https://localhost:8080/"
        },
        "id": "vCOFAr0JNF04",
        "outputId": "94a46df7-0e2a-485e-c90d-966b57f04645"
      },
      "execution_count": null,
      "outputs": [
        {
          "output_type": "stream",
          "name": "stdout",
          "text": [
            "[6 7]\n",
            "[ 7 11]\n",
            "[[ 6  7]\n",
            " [10 11]]\n",
            "[[ 1  3]\n",
            " [ 9 11]]\n",
            "[ 3  7 11 15]\n",
            "[5 6 7 8]\n",
            "[[ 1  2  3  4]\n",
            " [ 5  6  7  8]\n",
            " [ 9 10 11 12]\n",
            " [13 14 15 16]]\n"
          ]
        }
      ]
    },
    {
      "cell_type": "markdown",
      "source": [
        "## 產生隨機資料:np.ramdom()"
      ],
      "metadata": {
        "id": "FWTU4QqEoJx_"
      }
    },
    {
      "cell_type": "code",
      "source": [
        "import numpy as np\n",
        "print('1.產生2x3 0~1之間的隨機浮點數\\n',\n",
        "      np.random.rand(2,3))\n",
        "print('2.產生2x3常態分佈的隨機浮點數\\n',\n",
        "      np.random.randn(2,3))\n",
        "print('3.產生0~4(不含5)隨機整數\\n',\n",
        "      np.random.randint(5))\n",
        "print('4.產生2~4(不含5)5個隨機整數\\n',\n",
        "      np.random.randint(2,5,[5]))\n",
        "print('5.產生3個 0~1之間的隨機浮點數\\n',\n",
        "      np.random.random(3),'\\n',\n",
        "      np.random.random_sample(3),'\\n',\n",
        "      np.random.sample(3))"
      ],
      "metadata": {
        "colab": {
          "base_uri": "https://localhost:8080/"
        },
        "id": "qHZH8mLZOCd4",
        "outputId": "5e3e8355-1a35-4598-89cc-37d948cc589a"
      },
      "execution_count": null,
      "outputs": [
        {
          "output_type": "stream",
          "name": "stdout",
          "text": [
            "1.產生2x3 0~1之間的隨機浮點數\n",
            " [[0.94329398 0.02171785 0.93177655]\n",
            " [0.07233092 0.22129355 0.87224119]]\n",
            "2.產生2x3常態分佈的隨機浮點數\n",
            " [[-2.4608004   0.26916451  1.20200225]\n",
            " [-1.00016318  0.78986006  0.17624573]]\n",
            "3.產生0~4(不含5)隨機整數\n",
            " 1\n",
            "4.產生2~4(不含5)5個隨機整數\n",
            " [3 2 2 3 4]\n",
            "5.產生3個 0~1之間的隨機浮點數\n",
            " [0.01449087 0.50213467 0.40689873] \n",
            " [0.19960448 0.31882974 0.47923504] \n",
            " [0.75353886 0.43912385 0.08078347]\n"
          ]
        }
      ]
    },
    {
      "cell_type": "markdown",
      "source": [
        "## Numpy讀取CSV 檔案"
      ],
      "metadata": {
        "id": "CRbIb1T0oO-D"
      }
    },
    {
      "cell_type": "code",
      "source": [
        "import numpy as np\n",
        "na = np.genfromtxt('scores.csv', delimiter=',', skip_header=1)\n",
        "print(na.shape)"
      ],
      "metadata": {
        "colab": {
          "base_uri": "https://localhost:8080/"
        },
        "id": "gIjbQ5htPFN7",
        "outputId": "430d107b-77a5-42e0-a434-cff7120abc6a"
      },
      "execution_count": null,
      "outputs": [
        {
          "output_type": "stream",
          "name": "stdout",
          "text": [
            "(30, 4)\n"
          ]
        }
      ]
    },
    {
      "cell_type": "markdown",
      "source": [
        "## Numpy陣列運算"
      ],
      "metadata": {
        "id": "ZI64oNPqoUJT"
      }
    },
    {
      "cell_type": "code",
      "source": [
        "import numpy as np\n",
        "a = np.arange(1,10).reshape(3,3)\n",
        "b = np.arange(10,19).reshape(3,3)\n",
        "print('a 陣列內容：\\n', a)\n",
        "print('b 陣列內容：\\n', b)"
      ],
      "metadata": {
        "colab": {
          "base_uri": "https://localhost:8080/"
        },
        "id": "Tam4N7q5Q81z",
        "outputId": "62702d9c-8f76-446f-e77c-06a777c58d9d"
      },
      "execution_count": null,
      "outputs": [
        {
          "output_type": "stream",
          "name": "stdout",
          "text": [
            "a 陣列內容：\n",
            " [[1 2 3]\n",
            " [4 5 6]\n",
            " [7 8 9]]\n",
            "b 陣列內容：\n",
            " [[10 11 12]\n",
            " [13 14 15]\n",
            " [16 17 18]]\n"
          ]
        }
      ]
    },
    {
      "cell_type": "code",
      "source": [
        "print('a 陣列元素都加值：\\n', a + 1)"
      ],
      "metadata": {
        "colab": {
          "base_uri": "https://localhost:8080/"
        },
        "id": "_bC1KUfKQ-va",
        "outputId": "1f805c60-aa66-4f70-ca4b-32261d8a4c0e"
      },
      "execution_count": null,
      "outputs": [
        {
          "output_type": "stream",
          "name": "stdout",
          "text": [
            "a 陣列元素都加值：\n",
            " [[ 2  3  4]\n",
            " [ 5  6  7]\n",
            " [ 8  9 10]]\n"
          ]
        }
      ]
    },
    {
      "cell_type": "code",
      "source": [
        "print('a 陣列元素都平方：\\n', a ** 2)"
      ],
      "metadata": {
        "colab": {
          "base_uri": "https://localhost:8080/"
        },
        "id": "-ESpSr-jRc9k",
        "outputId": "3e5730b5-06f0-4686-e6fa-94da091c7930"
      },
      "execution_count": null,
      "outputs": [
        {
          "output_type": "stream",
          "name": "stdout",
          "text": [
            "a 陣列元素都平方：\n",
            " [[ 1  4  9]\n",
            " [16 25 36]\n",
            " [49 64 81]]\n"
          ]
        }
      ]
    },
    {
      "cell_type": "code",
      "source": [
        "print('a 陣列元素加判斷：\\n', a < 5)"
      ],
      "metadata": {
        "colab": {
          "base_uri": "https://localhost:8080/"
        },
        "id": "dhLUrC_IRibe",
        "outputId": "d298002b-44b7-4766-87c3-6ff9aef70caa"
      },
      "execution_count": null,
      "outputs": [
        {
          "output_type": "stream",
          "name": "stdout",
          "text": [
            "a 陣列元素加判斷：\n",
            " [[ True  True  True]\n",
            " [ True False False]\n",
            " [False False False]]\n"
          ]
        }
      ]
    },
    {
      "cell_type": "code",
      "source": [
        "print('a 陣列取出第一個row都加1：\\n', a[0,:] + 1)\n",
        "print('a 陣列取出第一個col都加1：\\n', a[:,0] + 1)"
      ],
      "metadata": {
        "colab": {
          "base_uri": "https://localhost:8080/"
        },
        "id": "k2I44sP9RtDL",
        "outputId": "f4ccfe2b-9ffd-4dda-c466-75f6872646a8"
      },
      "execution_count": null,
      "outputs": [
        {
          "output_type": "stream",
          "name": "stdout",
          "text": [
            "a 陣列取出第一個row都加1：\n",
            " [2 3 4]\n",
            "a 陣列取出第一個col都加1：\n",
            " [2 5 8]\n"
          ]
        }
      ]
    },
    {
      "cell_type": "code",
      "source": [
        "print('a b 陣列對應元素相加：\\n', a + b)\n",
        "print('a b 陣列對應元素相乘：\\n', a * b)"
      ],
      "metadata": {
        "colab": {
          "base_uri": "https://localhost:8080/"
        },
        "id": "kG6qzPRQRwZ5",
        "outputId": "ad19d696-bc24-4180-9522-b64ad6f21590"
      },
      "execution_count": null,
      "outputs": [
        {
          "output_type": "stream",
          "name": "stdout",
          "text": [
            "a b 陣列對應元素相加：\n",
            " [[11 13 15]\n",
            " [17 19 21]\n",
            " [23 25 27]]\n",
            "a b 陣列對應元素相乘：\n",
            " [[ 10  22  36]\n",
            " [ 52  70  90]\n",
            " [112 136 162]]\n"
          ]
        }
      ]
    },
    {
      "cell_type": "code",
      "source": [
        "print('a b 陣列內積計算：\\n', np.dot(a,b))"
      ],
      "metadata": {
        "colab": {
          "base_uri": "https://localhost:8080/"
        },
        "id": "qA0NUwPnR32-",
        "outputId": "4ed031be-8b39-4ec6-f9c2-b9459365b6ac"
      },
      "execution_count": null,
      "outputs": [
        {
          "output_type": "stream",
          "name": "stdout",
          "text": [
            "a b 陣列內積計算：\n",
            " [[ 84  90  96]\n",
            " [201 216 231]\n",
            " [318 342 366]]\n"
          ]
        }
      ]
    },
    {
      "cell_type": "markdown",
      "source": [
        "## Numpy常用的計算及統計函式"
      ],
      "metadata": {
        "id": "U6dL5dueocGR"
      }
    },
    {
      "cell_type": "code",
      "source": [
        "import numpy as np\n",
        "a = np.arange(1,10).reshape(3,3)\n",
        "print('陣列的內容：\\n', a)\n",
        "print('1.最小值與最大值：\\n',\n",
        "      np.min(a), np.max(a))\n",
        "print('2.每一直行最小值與最大值：\\n',\n",
        "      np.min(a, axis=0), np.max(a, axis=0))\n",
        "print('3.每一橫列最小值與最大值：\\n',\n",
        "      np.min(a, axis=1), np.max(a, axis=1))\n",
        "print('4.加總、乘積及平均值：\\n',\n",
        "      np.sum(a), np.prod(a), np.mean(a))\n",
        "print('5.每一直行加總、乘積與平均值：\\n',\n",
        "      np.sum(a, axis=0), np.prod(a, axis=0), np.mean(a, axis=0))\n",
        "print('6.每一橫列加總、乘積與平均值：\\n',\n",
        "      np.sum(a, axis=1), np.prod(a, axis=1), np.mean(a, axis=1))"
      ],
      "metadata": {
        "colab": {
          "base_uri": "https://localhost:8080/"
        },
        "id": "LEsBIyloR8Wf",
        "outputId": "d4828466-1d37-4636-f44b-3c64931e1731"
      },
      "execution_count": null,
      "outputs": [
        {
          "output_type": "stream",
          "name": "stdout",
          "text": [
            "陣列的內容：\n",
            " [[1 2 3]\n",
            " [4 5 6]\n",
            " [7 8 9]]\n",
            "1.最小值與最大值：\n",
            " 1 9\n",
            "2.每一直行最小值與最大值：\n",
            " [1 2 3] [7 8 9]\n",
            "3.每一橫列最小值與最大值：\n",
            " [1 4 7] [3 6 9]\n",
            "4.加總、乘積及平均值：\n",
            " 45 362880 5.0\n",
            "5.每一直行加總、乘積與平均值：\n",
            " [12 15 18] [ 28  80 162] [4. 5. 6.]\n",
            "6.每一橫列加總、乘積與平均值：\n",
            " [ 6 15 24] [  6 120 504] [2. 5. 8.]\n"
          ]
        }
      ]
    },
    {
      "cell_type": "code",
      "source": [
        "import numpy as np\n",
        "a = np.random.randint(100,size=50)\n",
        "print('陣列的內容：', a)\n",
        "print('1.標準差：', np.std(a))\n",
        "print('2.變異數：', np.var(a))\n",
        "print('3.中位數：', np.median(a))\n",
        "print('4.百分比值：', np.percentile(a, 80))\n",
        "print('5.最大最小差值：', np.ptp(a))"
      ],
      "metadata": {
        "colab": {
          "base_uri": "https://localhost:8080/"
        },
        "id": "0F7KVTHrSByH",
        "outputId": "5b70e843-0bf2-41db-c5cd-2691515239c0"
      },
      "execution_count": null,
      "outputs": [
        {
          "output_type": "stream",
          "name": "stdout",
          "text": [
            "陣列的內容： [38 66 31 74 31  6 66 33 79 59 34 35 82 59 31 75 28 48 38 85 78 11 79 89\n",
            " 33 14 61  9 85 92 90 42 43 78 23 25 57 92 30 95 90 37  3 94 16 34 17 12\n",
            " 65 52]\n",
            "1.標準差： 27.82490970335753\n",
            "2.變異數： 774.2256\n",
            "3.中位數： 45.5\n",
            "4.百分比值： 79.60000000000001\n",
            "5.最大最小差值： 92\n"
          ]
        }
      ]
    },
    {
      "cell_type": "markdown",
      "source": [
        "## Numpy的排序"
      ],
      "metadata": {
        "id": "twmSqucSopPA"
      }
    },
    {
      "cell_type": "code",
      "source": [
        "import numpy as np\n",
        "a = np.random.choice(50, size=10, replace=False)\n",
        "print('排序前的陣列：', a)\n",
        "print('排序後的陣列：', np.sort(a))\n",
        "print('排序後的索引：', np.argsort(a))\n",
        "#用索引到陣列取值\n",
        "for i in np.argsort(a):\n",
        "    print(a[i], end=',')"
      ],
      "metadata": {
        "colab": {
          "base_uri": "https://localhost:8080/"
        },
        "id": "NkgIe_8uTYoh",
        "outputId": "2bc357a1-03c9-4889-eb80-79f3affac22b"
      },
      "execution_count": null,
      "outputs": [
        {
          "output_type": "stream",
          "name": "stdout",
          "text": [
            "排序前的陣列： [24  6  3 12 11 37 26  5  4 35]\n",
            "排序後的陣列： [ 3  4  5  6 11 12 24 26 35 37]\n",
            "排序後的索引： [2 8 7 1 4 3 0 6 9 5]\n",
            "3,4,5,6,11,12,24,26,35,37,"
          ]
        }
      ]
    },
    {
      "cell_type": "code",
      "source": [
        "import numpy as np\n",
        "a = np.random.randint(0,10,(3,5))\n",
        "print('原陣列內容：')\n",
        "print(a)\n",
        "print('將每一直行進行排序：')\n",
        "print(np.sort(a, axis=0))\n",
        "print('將每一橫列進行排序：')\n",
        "print(np.sort(a, axis=1))"
      ],
      "metadata": {
        "colab": {
          "base_uri": "https://localhost:8080/"
        },
        "id": "gig1VsVyTwkA",
        "outputId": "56955348-0c51-4c31-9f3f-8d2cba0f7fe2"
      },
      "execution_count": null,
      "outputs": [
        {
          "output_type": "stream",
          "name": "stdout",
          "text": [
            "原陣列內容：\n",
            "[[9 2 9 2 2]\n",
            " [5 5 6 9 7]\n",
            " [3 8 7 8 3]]\n",
            "將每一直行進行排序：\n",
            "[[3 2 6 2 2]\n",
            " [5 5 7 8 3]\n",
            " [9 8 9 9 7]]\n",
            "將每一橫列進行排序：\n",
            "[[2 2 2 9 9]\n",
            " [5 5 6 7 9]\n",
            " [3 3 7 8 8]]\n"
          ]
        }
      ]
    }
  ]
}