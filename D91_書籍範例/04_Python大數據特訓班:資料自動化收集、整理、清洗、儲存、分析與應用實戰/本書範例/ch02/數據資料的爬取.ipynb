{
  "nbformat": 4,
  "nbformat_minor": 0,
  "metadata": {
    "colab": {
      "name": "數據資料的爬取.ipynb",
      "provenance": [],
      "collapsed_sections": [],
      "toc_visible": true
    },
    "kernelspec": {
      "name": "python3",
      "display_name": "Python 3"
    },
    "language_info": {
      "name": "python"
    }
  },
  "cells": [
    {
      "cell_type": "markdown",
      "source": [
        "# requests 模組：讀取網站檔案"
      ],
      "metadata": {
        "id": "67Pcatw7vY7W"
      }
    },
    {
      "cell_type": "markdown",
      "source": [
        "## 讀取網頁原始碼"
      ],
      "metadata": {
        "id": "YCAtT6q1upoU"
      }
    },
    {
      "cell_type": "code",
      "execution_count": null,
      "metadata": {
        "id": "6gkohlk7uYOe",
        "colab": {
          "base_uri": "https://localhost:8080/"
        },
        "outputId": "e1fd5414-5907-445f-b6cb-6ecf98ca81db"
      },
      "outputs": [
        {
          "output_type": "stream",
          "name": "stdout",
          "text": [
            "<!doctype html>\n",
            "<html>\n",
            "  <head>\n",
            "    <meta charset=\"UTF-8\">\n",
            "    <title>Hello</title>\n",
            "  </head>\n",
            "  <body>\n",
            "    <p>Hello World!</p>\n",
            "  </body>\n",
            "</html>\n"
          ]
        }
      ],
      "source": [
        "import requests\n",
        "url = 'http://www.ehappy.tw/demo.htm'\n",
        "html = requests.get(url)\n",
        "# 檢查HTTP回應碼是否為200(requests.code.ok)\n",
        "if html.status_code == requests.codes.ok:\n",
        "    print(html.text)"
      ]
    },
    {
      "cell_type": "markdown",
      "source": [
        "## 加上 URL 參數"
      ],
      "metadata": {
        "id": "EKm2uq_Kvwy8"
      }
    },
    {
      "cell_type": "code",
      "source": [
        "import requests\n",
        "# 將查詢參數定義為字典資料加入GET請求中\n",
        "payload = {'key1': 'value1', 'key2': 'value2'}\n",
        "html = requests.get(\"http://httpbin.org/get\",\n",
        "                     params=payload)\n",
        "print(html.text)"
      ],
      "metadata": {
        "id": "5xTaLcg7upWc",
        "colab": {
          "base_uri": "https://localhost:8080/"
        },
        "outputId": "5da4a8f8-9abf-4b75-88f2-5f0c38f7b8d0"
      },
      "execution_count": null,
      "outputs": [
        {
          "output_type": "stream",
          "name": "stdout",
          "text": [
            "{\n",
            "  \"args\": {\n",
            "    \"key1\": \"value1\", \n",
            "    \"key2\": \"value2\"\n",
            "  }, \n",
            "  \"headers\": {\n",
            "    \"Accept\": \"*/*\", \n",
            "    \"Accept-Encoding\": \"gzip, deflate\", \n",
            "    \"Host\": \"httpbin.org\", \n",
            "    \"User-Agent\": \"python-requests/2.23.0\", \n",
            "    \"X-Amzn-Trace-Id\": \"Root=1-6308729f-3658acd80f708273566db948\"\n",
            "  }, \n",
            "  \"origin\": \"34.125.157.164\", \n",
            "  \"url\": \"http://httpbin.org/get?key1=value1&key2=value2\"\n",
            "}\n",
            "\n"
          ]
        }
      ]
    },
    {
      "cell_type": "markdown",
      "source": [
        "## 發送POST請求"
      ],
      "metadata": {
        "id": "hSsOMyYPwINz"
      }
    },
    {
      "cell_type": "code",
      "source": [
        "import requests\n",
        "# 將查詢參數加入 POST 請求中\n",
        "payload = {'key1': 'value1', 'key2': 'value2'}\n",
        "html = requests.post(\"http://httpbin.org/post\",\n",
        "                   data=payload)\n",
        "print(html.text)"
      ],
      "metadata": {
        "id": "UtVDOS60v1PE",
        "colab": {
          "base_uri": "https://localhost:8080/"
        },
        "outputId": "60ea514f-b5aa-484f-eaa9-6fb9d46f7f35"
      },
      "execution_count": 6,
      "outputs": [
        {
          "output_type": "stream",
          "name": "stdout",
          "text": [
            "{\n",
            "  \"args\": {}, \n",
            "  \"data\": \"\", \n",
            "  \"files\": {}, \n",
            "  \"form\": {\n",
            "    \"key1\": \"value1\", \n",
            "    \"key2\": \"value2\"\n",
            "  }, \n",
            "  \"headers\": {\n",
            "    \"Accept\": \"*/*\", \n",
            "    \"Accept-Encoding\": \"gzip, deflate\", \n",
            "    \"Content-Length\": \"23\", \n",
            "    \"Content-Type\": \"application/x-www-form-urlencoded\", \n",
            "    \"Host\": \"httpbin.org\", \n",
            "    \"User-Agent\": \"python-requests/2.23.0\", \n",
            "    \"X-Amzn-Trace-Id\": \"Root=1-6308751e-690491a96bb475df77855ee0\"\n",
            "  }, \n",
            "  \"json\": null, \n",
            "  \"origin\": \"34.125.157.164\", \n",
            "  \"url\": \"http://httpbin.org/post\"\n",
            "}\n",
            "\n"
          ]
        }
      ]
    },
    {
      "cell_type": "markdown",
      "source": [
        "## 自訂HTTP Headers偽裝瀏覽器操作"
      ],
      "metadata": {
        "id": "AJ3VO-8wwqu1"
      }
    },
    {
      "cell_type": "code",
      "source": [
        "import requests\n",
        "url = 'https://irs.thsrc.com.tw/IMINT/'\n",
        "# 自訂表頭\n",
        "headers = {'user-agent': 'Mozilla/5.0 (Linux; Android 8.0.0; \\\n",
        "            SM-G960F Build/R16NW) AppleWebKit \\\n",
        "            /537.36 (KHTML, like Gecko) \\\n",
        "            Chrome/62.0.3202.84 Mobile Safari/537.36'\n",
        "}\n",
        "# 將自訂表頭加入 GET 請求中\n",
        "html = requests.get(url, headers=headers)\n",
        "print(html)"
      ],
      "metadata": {
        "colab": {
          "base_uri": "https://localhost:8080/"
        },
        "id": "PhKrkAlM5b46",
        "outputId": "97c11b3e-b93b-4e22-f25e-62034380ed68"
      },
      "execution_count": null,
      "outputs": [
        {
          "output_type": "stream",
          "name": "stdout",
          "text": [
            "<Response [200]>\n"
          ]
        }
      ]
    },
    {
      "cell_type": "markdown",
      "source": [
        "## 在requests請求時加入Cookie\n"
      ],
      "metadata": {
        "id": "FLxTAMM-3Hvx"
      }
    },
    {
      "cell_type": "code",
      "source": [
        "import requests\n",
        "url = 'https://www.ptt.cc/bbs/Gossiping/index.html'\n",
        "# 設定cookies的值\n",
        "cookies = {'over18':'1'}\n",
        "html = requests.get(url, cookies=cookies)\n",
        "print(html.text)"
      ],
      "metadata": {
        "id": "azxM8E2Pwrat"
      },
      "execution_count": null,
      "outputs": []
    },
    {
      "cell_type": "markdown",
      "source": [
        "# BeautifulSoup 模組：網頁解析"
      ],
      "metadata": {
        "id": "4ByWJud04AFI"
      }
    },
    {
      "cell_type": "markdown",
      "source": [
        "## 認識網頁的結構"
      ],
      "metadata": {
        "id": "hu1y5Jz-yvAR"
      }
    },
    {
      "cell_type": "code",
      "source": [
        "# bsdemo1.htm\n",
        "'''\n",
        "<!doctype html>\n",
        "<html>\n",
        "  <head>\n",
        "    <meta charset=\"UTF-8\">\n",
        "    <title>我是網頁標題</title>\n",
        "  </head>\n",
        "  <body>\n",
        "    <h1 class=\"large\">我是標題</h1>\n",
        "    <div>\n",
        "      <p>我是段落</p>\n",
        "      <img src=\"https://www.w3.org/html/logo/\n",
        "\t\t\tdownloads/HTML5_Logo_256.png\" alt=\"我是圖片\">\n",
        "      <a href=\"http://www.e-happy.com.tw\">我是超連結</a>\n",
        "    </div>\n",
        "      </body>\n",
        "</html>\n",
        "'''"
      ],
      "metadata": {
        "id": "7B2RJfqLy3fS"
      },
      "execution_count": null,
      "outputs": []
    },
    {
      "cell_type": "markdown",
      "source": [
        "## BeautifulSoup 常用的屬性"
      ],
      "metadata": {
        "id": "vmJUvs_14vLp"
      }
    },
    {
      "cell_type": "code",
      "source": [
        "import requests\n",
        "from bs4 import BeautifulSoup\n",
        "url = 'http://ehappy.tw/bsdemo1.htm'\n",
        "html = requests.get(url)\n",
        "html.encoding = 'UTF-8'\n",
        "sp = BeautifulSoup(html.text, 'lxml')\n",
        "print(sp.title)\n",
        "print(sp.title.text)\n",
        "print(sp.h1)\n",
        "print(sp.p)"
      ],
      "metadata": {
        "colab": {
          "base_uri": "https://localhost:8080/"
        },
        "id": "NZTxcMOv4fCR",
        "outputId": "98f0c2cd-b5f9-4dcc-c580-c5e012eecead"
      },
      "execution_count": 8,
      "outputs": [
        {
          "output_type": "stream",
          "name": "stdout",
          "text": [
            "<title>我是網頁標題</title>\n",
            "我是網頁標題\n",
            "<h1 class=\"large\">我是標題</h1>\n",
            "<p>我是段落</p>\n"
          ]
        }
      ]
    },
    {
      "cell_type": "markdown",
      "source": [
        "## 找尋指定標籤的內容：find()、find_all()"
      ],
      "metadata": {
        "id": "dGNgc7Gm45sZ"
      }
    },
    {
      "cell_type": "code",
      "source": [
        "html = '''\n",
        "<html>\n",
        "  <head><meta charset=\"UTF-8\"><title>我是網頁標題</title></head>\n",
        "  <body>\n",
        "      <p id=\"p1\">我是段落一</p>\n",
        "      <p id=\"p2\" class='red'>我是段落二</p>\n",
        "  </body>\n",
        "</html>\n",
        "'''"
      ],
      "metadata": {
        "id": "Ck1y81s05Jgx"
      },
      "execution_count": 9,
      "outputs": []
    },
    {
      "cell_type": "code",
      "source": [
        "from bs4 import BeautifulSoup\n",
        "sp = BeautifulSoup(html, 'lxml')\n",
        "print(sp.find('p'))\n",
        "print(sp.find_all('p'))\n",
        "print(sp.find('p', {'id':'p2', 'class':'red'}))\n",
        "print(sp.find('p', id='p2', class_= 'red'))"
      ],
      "metadata": {
        "id": "Q20bjJMqwrd1",
        "colab": {
          "base_uri": "https://localhost:8080/"
        },
        "outputId": "816f4b7f-08b5-4cbb-c6f7-05b9631ece25"
      },
      "execution_count": null,
      "outputs": [
        {
          "output_type": "stream",
          "name": "stdout",
          "text": [
            "<p id=\"p1\">我是段落一</p>\n",
            "[<p id=\"p1\">我是段落一</p>, <p class=\"red\" id=\"p2\">我是段落二</p>]\n",
            "<p class=\"red\" id=\"p2\">我是段落二</p>\n",
            "<p class=\"red\" id=\"p2\">我是段落二</p>\n"
          ]
        }
      ]
    },
    {
      "cell_type": "markdown",
      "source": [
        "## 利用CSS選擇器找尋內容：select()"
      ],
      "metadata": {
        "id": "YViNrNs855ni"
      }
    },
    {
      "cell_type": "code",
      "source": [
        "from bs4 import BeautifulSoup\n",
        "sp = BeautifulSoup(html, 'lxml')\n",
        "print(sp.select('title'))\n",
        "print(sp.select('p'))\n",
        "print(sp.select('#p1'))\n",
        "print(sp.select('.red'))"
      ],
      "metadata": {
        "colab": {
          "base_uri": "https://localhost:8080/"
        },
        "id": "UkwcWVC556PB",
        "outputId": "00875ccd-646d-4cee-c52f-c7e84968823a"
      },
      "execution_count": 10,
      "outputs": [
        {
          "output_type": "stream",
          "name": "stdout",
          "text": [
            "[<title>我是網頁標題</title>]\n",
            "[<p id=\"p1\">我是段落一</p>, <p class=\"red\" id=\"p2\">我是段落二</p>]\n",
            "[<p id=\"p1\">我是段落一</p>]\n",
            "[<p class=\"red\" id=\"p2\">我是段落二</p>]\n"
          ]
        }
      ]
    },
    {
      "cell_type": "markdown",
      "source": [
        "## *取得標籤的屬性內容*"
      ],
      "metadata": {
        "id": "ukfmGZfL66Ta"
      }
    },
    {
      "cell_type": "code",
      "source": [
        "html = '''\n",
        "<html>\n",
        "  <head><meta charset=\"UTF-8\"><title>我是網頁標題</title></head>\n",
        "  <body>\n",
        "      <img src=\"http://www.ehappy.tw/python.png\">\n",
        "      <a href=\"http://www.e-happy.com.tw\">超連結</a>\n",
        "  </body>\n",
        "</html>\n",
        "'''"
      ],
      "metadata": {
        "id": "fZuuT3oh6-GC"
      },
      "execution_count": 11,
      "outputs": []
    },
    {
      "cell_type": "code",
      "source": [
        "from bs4 import BeautifulSoup\n",
        "sp = BeautifulSoup(html, 'lxml')\n",
        "print(sp.select('img')[0].get('src'))\n",
        "print(sp.select('a')[0].get('href'))\n",
        "print(sp.select('img')[0]['src'])\n",
        "print(sp.select('a')[0]['href'])"
      ],
      "metadata": {
        "colab": {
          "base_uri": "https://localhost:8080/"
        },
        "id": "vUxWes-a7Ymz",
        "outputId": "1f69e138-45f6-419a-89c0-1c63338b9281"
      },
      "execution_count": 12,
      "outputs": [
        {
          "output_type": "stream",
          "name": "stdout",
          "text": [
            "http://www.ehappy.tw/python.png\n",
            "http://www.e-happy.com.tw\n",
            "http://www.ehappy.tw/python.png\n",
            "http://www.e-happy.com.tw\n"
          ]
        }
      ]
    },
    {
      "cell_type": "markdown",
      "source": [
        "## 專題：威力彩開獎號碼"
      ],
      "metadata": {
        "id": "nON_r7sqCo4P"
      }
    },
    {
      "cell_type": "code",
      "source": [
        "import requests\n",
        "from bs4 import BeautifulSoup\n",
        "url = 'https://www.taiwanlottery.com.tw/'\n",
        "r = requests.get(url)\n",
        "sp = BeautifulSoup(r.text, 'lxml')\n",
        "# 找到威力彩的區塊\n",
        "datas = sp.find('div', class_='contents_box02')\n",
        "# 開獎期數\n",
        "title = datas.find('span', 'font_black15').text\n",
        "print('威力彩期數：', title)\n",
        "# 開獎號碼\n",
        "nums = datas.find_all('div', class_='ball_tx ball_green')\n",
        "# 開出順序\n",
        "print('開出順序：', end=' ')\n",
        "for i in range(0,6):\n",
        "    print(nums[i].text, end=' ')\n",
        "# 大小順序\n",
        "print('\\n大小順序：', end=' ')\n",
        "for i in range(6,12):\n",
        "    print(nums[i].text, end=' ')\n",
        "# 第二區\n",
        "num = datas.find('div', class_='ball_red').text\n",
        "print('\\n第二區：', num)"
      ],
      "metadata": {
        "colab": {
          "base_uri": "https://localhost:8080/"
        },
        "id": "bcRuMI24j-4Z",
        "outputId": "baa4846f-8d20-4928-bfa7-f7ab7a5b955a"
      },
      "execution_count": 13,
      "outputs": [
        {
          "output_type": "stream",
          "name": "stdout",
          "text": [
            "威力彩期數： 111/8/25 第111000068期 \n",
            "開出順序： 38  27  13  11  28  08  \n",
            "大小順序： 08  11  13  27  28  38  \n",
            "第二區： 05 \n"
          ]
        }
      ]
    },
    {
      "cell_type": "markdown",
      "source": [
        "# 使用正規表達式"
      ],
      "metadata": {
        "id": "1Bc7nC73n7z4"
      }
    },
    {
      "cell_type": "markdown",
      "source": [
        "## 建立正規表達式物件"
      ],
      "metadata": {
        "id": "X24-X2J-oIQG"
      }
    },
    {
      "cell_type": "code",
      "source": [
        "import re\n",
        "m = re.search(r'[0-9]+','abc123xyz')"
      ],
      "metadata": {
        "id": "spxxGh3DD234"
      },
      "execution_count": 14,
      "outputs": []
    },
    {
      "cell_type": "markdown",
      "source": [
        "### match()方法"
      ],
      "metadata": {
        "id": "X4Nf5WvNoelO"
      }
    },
    {
      "cell_type": "code",
      "source": [
        "import re\n",
        "m = re.match(r'[a-z]+','abc123xyz')\n",
        "print(m)"
      ],
      "metadata": {
        "colab": {
          "base_uri": "https://localhost:8080/"
        },
        "id": "rkKSTwGloave",
        "outputId": "3c8c3659-130d-45a5-ff41-c156a6573df1"
      },
      "execution_count": 22,
      "outputs": [
        {
          "output_type": "stream",
          "name": "stdout",
          "text": [
            "<re.Match object; span=(0, 3), match='abc'>\n"
          ]
        }
      ]
    },
    {
      "cell_type": "code",
      "source": [
        "if m != None:\n",
        "    print(m.group())    #abc\n",
        "    print(m.start())    #0\n",
        "    print(m.end())      #3\n",
        "    print(m.span())     #(0, 3)"
      ],
      "metadata": {
        "colab": {
          "base_uri": "https://localhost:8080/"
        },
        "id": "a6Y--kNWoy5e",
        "outputId": "ce895713-172c-4733-fdc1-b54c0ec409a4"
      },
      "execution_count": 23,
      "outputs": [
        {
          "output_type": "stream",
          "name": "stdout",
          "text": [
            "abc\n",
            "0\n",
            "3\n",
            "(0, 3)\n"
          ]
        }
      ]
    },
    {
      "cell_type": "markdown",
      "source": [
        "### search()方法"
      ],
      "metadata": {
        "id": "MVTQyg-Co8x-"
      }
    },
    {
      "cell_type": "code",
      "source": [
        "import re\n",
        "m = re.search(r'[a-z]+', 'abc123xyz')\n",
        "print(m)    # <re.Match object; span=(0, 3), match='abc'>\n",
        "if m != None:\n",
        "    print(m.group())  # abc\n",
        "    print(m.start())  # 0\n",
        "    print(m.end())    # 3\n",
        "    print(m.span())   # (0,3)"
      ],
      "metadata": {
        "colab": {
          "base_uri": "https://localhost:8080/"
        },
        "id": "QruC_zPCozBu",
        "outputId": "a027020c-c1a1-4c31-9bc7-a15d9c8aefee"
      },
      "execution_count": 24,
      "outputs": [
        {
          "output_type": "stream",
          "name": "stdout",
          "text": [
            "<re.Match object; span=(0, 3), match='abc'>\n",
            "abc\n",
            "0\n",
            "3\n",
            "(0, 3)\n"
          ]
        }
      ]
    },
    {
      "cell_type": "markdown",
      "source": [
        "### findall()方法"
      ],
      "metadata": {
        "id": "fZkls1-npiG_"
      }
    },
    {
      "cell_type": "code",
      "source": [
        "import re\n",
        "m = re.findall(r'[a-z]+', 'abc123xyz')\n",
        "print(m)    # ['abc', 'xyz'] "
      ],
      "metadata": {
        "colab": {
          "base_uri": "https://localhost:8080/"
        },
        "id": "9Q0TxTxzpihX",
        "outputId": "2b9e5c77-01e5-4b84-d217-6a380d7a5362"
      },
      "execution_count": 25,
      "outputs": [
        {
          "output_type": "stream",
          "name": "stdout",
          "text": [
            "['abc', 'xyz']\n"
          ]
        }
      ]
    },
    {
      "cell_type": "markdown",
      "source": [
        "## 使用正規表達式取代內容"
      ],
      "metadata": {
        "id": "kNCJ6WcPpp8o"
      }
    },
    {
      "cell_type": "code",
      "source": [
        "import re\n",
        "result = re.sub(r\"\\d+\", \"*\", \"Password:1234,ID:5678\")\n",
        "print(result)\t\t# Password:*,ID:*"
      ],
      "metadata": {
        "colab": {
          "base_uri": "https://localhost:8080/"
        },
        "id": "wH7AxNS-pqOO",
        "outputId": "d71f0dcf-0663-4658-9339-d35a9dcdbab3"
      },
      "execution_count": 26,
      "outputs": [
        {
          "output_type": "stream",
          "name": "stdout",
          "text": [
            "Password:*,ID:*\n"
          ]
        }
      ]
    },
    {
      "cell_type": "markdown",
      "source": [
        "## 範例：正規表示式練習"
      ],
      "metadata": {
        "id": "IWJjCqhrp1Nf"
      }
    },
    {
      "cell_type": "code",
      "source": [
        "html = \"\"\"\n",
        "<div class=\"content\">\n",
        "    E-Mail：<a href=\"mailto:mail@test.com.tw\">\n",
        "      mail</a><br>\n",
        "    E-Mail2：<a href=\"mailto:mail2@test.com.tw\">\n",
        "      mail2</a><br>\n",
        "    <ul class=\"price\">定價：360元 </ul>\n",
        "    <img src=\"http://test.com.tw/p1.jpg\">\n",
        "    <img src=\"http://test.com.tw/p2.png\">\n",
        "    電話：(04)-76543210、0937-123456\n",
        "</div>\n",
        "\"\"\""
      ],
      "metadata": {
        "id": "jj-OLmkZp1UZ"
      },
      "execution_count": 27,
      "outputs": []
    },
    {
      "cell_type": "code",
      "source": [
        "import re\n",
        "pattern=r'[a-zA-Z0-9_.+-]+@[a-zA-Z0-9-]+\\.[a-zA-Z0-9-.]+'\n",
        "emails = re.findall(pattern,html)\n",
        "for email in emails: #顯示 email\n",
        "    print(email)\n",
        "\n",
        "price=re.findall(r'[\\d]+元',html)[0].split('元')[0] #價格\n",
        "print(price) #顯示定價金額\n",
        "\n",
        "imglist = re.findall(r'[http://]+[a-zA-Z0-9-/.]+\\.[jpgpng]+',html)\n",
        "for img in imglist: #\n",
        "    print(img) #顯示圖片網址\n",
        "    \n",
        "phonelist = re.findall(r'\\(?\\d{2,4}\\)?\\-\\d{6,8}',html)\n",
        "for phone in phonelist:\n",
        "    print(phone) #顯示電話號碼 "
      ],
      "metadata": {
        "colab": {
          "base_uri": "https://localhost:8080/"
        },
        "id": "a-7fDNkIp9Xf",
        "outputId": "437be839-3a6d-4c4e-c204-e6f6f1e8b684"
      },
      "execution_count": 28,
      "outputs": [
        {
          "output_type": "stream",
          "name": "stdout",
          "text": [
            "mail@test.com.tw\n",
            "mail2@test.com.tw\n",
            "360\n",
            "http://test.com.tw/p1.jpg\n",
            "http://test.com.tw/p2.png\n",
            "(04)-76543210\n",
            "0937-123456\n"
          ]
        }
      ]
    }
  ]
}