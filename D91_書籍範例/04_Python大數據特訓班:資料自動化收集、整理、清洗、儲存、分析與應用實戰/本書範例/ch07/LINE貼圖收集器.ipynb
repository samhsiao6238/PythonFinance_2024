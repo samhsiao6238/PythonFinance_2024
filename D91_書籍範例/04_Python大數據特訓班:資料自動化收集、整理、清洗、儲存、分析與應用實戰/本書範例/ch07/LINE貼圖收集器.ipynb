{
  "nbformat": 4,
  "nbformat_minor": 0,
  "metadata": {
    "colab": {
      "name": "LINE貼圖收集器.ipynb",
      "provenance": [],
      "collapsed_sections": [],
      "toc_visible": true
    },
    "kernelspec": {
      "name": "python3",
      "display_name": "Python 3"
    },
    "language_info": {
      "name": "python"
    }
  },
  "cells": [
    {
      "cell_type": "markdown",
      "source": [
        "#LINE貼圖收集器"
      ],
      "metadata": {
        "id": "Nb_x61UKTJlw"
      }
    },
    {
      "cell_type": "markdown",
      "source": [
        "## LINE貼圖下載"
      ],
      "metadata": {
        "id": "1JlreQMY7yOi"
      }
    },
    {
      "cell_type": "markdown",
      "source": [
        "### 載入相關的模組"
      ],
      "metadata": {
        "id": "xhmEN9oT629C"
      }
    },
    {
      "cell_type": "code",
      "execution_count": 1,
      "metadata": {
        "id": "MckNtYbXtc9N"
      },
      "outputs": [],
      "source": [
        "import requests,os,json\n",
        "from bs4 import BeautifulSoup"
      ]
    },
    {
      "cell_type": "markdown",
      "source": [
        "### 設定貼圖網址"
      ],
      "metadata": {
        "id": "OCE9_mMX65ma"
      }
    },
    {
      "cell_type": "code",
      "source": [
        "# 設定url儲存貼圖網址，向該網站提出get請求，並傳回結果\n",
        "url = 'https://store.line.me/stickershop/product/8991459/zh-Hant'\n",
        "html = requests.get(url)"
      ],
      "metadata": {
        "id": "4IEF-DmntpOk"
      },
      "execution_count": 2,
      "outputs": []
    },
    {
      "cell_type": "markdown",
      "source": [
        "### 建立BeautifulSoup物件"
      ],
      "metadata": {
        "id": "Qiwbs0Uq7Gs6"
      }
    },
    {
      "cell_type": "code",
      "source": [
        "soup = BeautifulSoup(html.text,'html.parser')"
      ],
      "metadata": {
        "id": "EBrt-foStpTd"
      },
      "execution_count": 3,
      "outputs": []
    },
    {
      "cell_type": "markdown",
      "source": [
        "### 建立目錄儲存圖片"
      ],
      "metadata": {
        "id": "sQyXxJe87Rgx"
      }
    },
    {
      "cell_type": "code",
      "source": [
        "# 建立目錄儲存圖片\n",
        "images_dir= \"line_image/\" # 存 Colab 本機\n",
        "if not os.path.exists(images_dir):\n",
        "    os.mkdir(images_dir)"
      ],
      "metadata": {
        "id": "2rGKaZHXtu8l"
      },
      "execution_count": 4,
      "outputs": []
    },
    {
      "cell_type": "markdown",
      "source": [
        "### 下載貼圖"
      ],
      "metadata": {
        "id": "Tf2rBfZJ6-Ri"
      }
    },
    {
      "cell_type": "code",
      "source": [
        "datas = soup.find_all('li', {'class':'mdCMN09Li FnStickerPreviewItem'})\n",
        "for data in datas:\n",
        "    # 將字串資料轉換為字典\n",
        "    imginfo = json.loads(data.get('data-preview'))\n",
        "    id=imginfo['id']\n",
        "    imgfile = requests.get(imginfo['staticUrl']) #載入圖片\n",
        "   \n",
        "    full_path = os.path.join(images_dir,id) #儲存的路徑和主檔名\n",
        "    # 儲存圖片           \n",
        "    with open(full_path + '.png', 'wb') as f:\n",
        "        f.write(imgfile.content)\n",
        "    print(full_path + '.png') #顯示儲存的路徑和檔名"
      ],
      "metadata": {
        "id": "vz_S2IfFtvAO",
        "colab": {
          "base_uri": "https://localhost:8080/"
        },
        "outputId": "54a85ec1-27ba-4e58-97ff-59b237565522"
      },
      "execution_count": 5,
      "outputs": [
        {
          "output_type": "stream",
          "name": "stdout",
          "text": [
            "line_image/230054638.png\n",
            "line_image/230054639.png\n",
            "line_image/230054640.png\n",
            "line_image/230054641.png\n",
            "line_image/230054642.png\n",
            "line_image/230054643.png\n",
            "line_image/230054644.png\n",
            "line_image/230054645.png\n",
            "line_image/230054646.png\n",
            "line_image/230054647.png\n",
            "line_image/230054648.png\n",
            "line_image/230054649.png\n",
            "line_image/230054650.png\n",
            "line_image/230054651.png\n",
            "line_image/230054652.png\n",
            "line_image/230054653.png\n",
            "line_image/230054654.png\n",
            "line_image/230054655.png\n",
            "line_image/230054656.png\n",
            "line_image/230054657.png\n",
            "line_image/230054658.png\n",
            "line_image/230054659.png\n",
            "line_image/230054660.png\n",
            "line_image/230054661.png\n",
            "line_image/230054662.png\n",
            "line_image/230054663.png\n",
            "line_image/230054664.png\n",
            "line_image/230054665.png\n",
            "line_image/230054666.png\n",
            "line_image/230054667.png\n",
            "line_image/230054668.png\n",
            "line_image/230054669.png\n"
          ]
        }
      ]
    },
    {
      "cell_type": "markdown",
      "source": [
        "### 將圖檔壓縮"
      ],
      "metadata": {
        "id": "_Vww0gct7Y3C"
      }
    },
    {
      "cell_type": "code",
      "source": [
        "!zip line_image line_image/*"
      ],
      "metadata": {
        "id": "dO0w3Xudo3Xr"
      },
      "execution_count": null,
      "outputs": []
    },
    {
      "cell_type": "markdown",
      "source": [
        "## 完整程式碼"
      ],
      "metadata": {
        "id": "o8651dzN7lyr"
      }
    },
    {
      "cell_type": "code",
      "source": [
        "import requests,os,json\n",
        "from bs4 import BeautifulSoup\n",
        "\n",
        "url = 'https://store.line.me/stickershop/product/10571593/zh-Hant'\n",
        "html = requests.get(url)\n",
        "soup = BeautifulSoup(html.text,'html.parser')\n",
        "\n",
        "# 建立目錄儲存圖片\n",
        "images_dir= \"line_image/\"\n",
        "if not os.path.exists(images_dir):\n",
        "    os.mkdir(images_dir)\n",
        "\n",
        "# 下載貼圖\n",
        "datas = soup.find_all('li', {'class':'mdCMN09Li FnStickerPreviewItem'})\n",
        "for data in datas:\n",
        "    # 將字串資料轉換為字典\n",
        "    imginfo = json.loads(data.get('data-preview'))\n",
        "    id=imginfo['id']\n",
        "    imgfile = requests.get(imginfo['staticUrl']) #載入圖片\n",
        "   \n",
        "    full_path = os.path.join(images_dir,id) #儲存的路徑和主檔名\n",
        "    # 儲存圖片           \n",
        "    with open(full_path + '.png', 'wb') as f:\n",
        "        f.write(imgfile.content)\n",
        "    print(full_path + '.png') #顯示儲存的路徑和檔名"
      ],
      "metadata": {
        "id": "0beU8jec5fHq",
        "colab": {
          "base_uri": "https://localhost:8080/"
        },
        "outputId": "4056355d-9ad9-4c12-ebc2-ebbd5e4225cf"
      },
      "execution_count": null,
      "outputs": [
        {
          "output_type": "stream",
          "name": "stdout",
          "text": [
            "line_image/279673646.png\n",
            "line_image/279673647.png\n",
            "line_image/279673648.png\n",
            "line_image/279673649.png\n",
            "line_image/279673650.png\n",
            "line_image/279673651.png\n",
            "line_image/279673652.png\n",
            "line_image/279673653.png\n",
            "line_image/279673654.png\n",
            "line_image/279673655.png\n",
            "line_image/279673656.png\n",
            "line_image/279673657.png\n",
            "line_image/279673658.png\n",
            "line_image/279673659.png\n",
            "line_image/279673660.png\n",
            "line_image/279673661.png\n",
            "line_image/279673662.png\n",
            "line_image/279673663.png\n",
            "line_image/279673664.png\n",
            "line_image/279673665.png\n",
            "line_image/279673666.png\n",
            "line_image/279673667.png\n",
            "line_image/279673668.png\n",
            "line_image/279673669.png\n",
            "line_image/279673670.png\n",
            "line_image/279673671.png\n",
            "line_image/279673672.png\n",
            "line_image/279673673.png\n",
            "line_image/279673674.png\n",
            "line_image/279673675.png\n",
            "line_image/279673676.png\n",
            "line_image/279673677.png\n",
            "line_image/279673678.png\n",
            "line_image/279673679.png\n",
            "line_image/279673680.png\n",
            "line_image/279673681.png\n",
            "line_image/279673682.png\n",
            "line_image/279673683.png\n",
            "line_image/279673684.png\n",
            "line_image/279673685.png\n"
          ]
        }
      ]
    }
  ]
}