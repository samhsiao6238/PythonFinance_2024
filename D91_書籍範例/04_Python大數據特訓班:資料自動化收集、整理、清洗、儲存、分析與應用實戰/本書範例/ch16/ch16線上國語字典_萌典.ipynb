{
  "nbformat": 4,
  "nbformat_minor": 0,
  "metadata": {
    "colab": {
      "name": "ch16線上國語字典-萌典.ipynb",
      "provenance": [],
      "collapsed_sections": []
    },
    "kernelspec": {
      "name": "python3",
      "display_name": "Python 3"
    },
    "language_info": {
      "name": "python"
    }
  },
  "cells": [
    {
      "cell_type": "markdown",
      "source": [
        "## 萌典API查詢-載入資料"
      ],
      "metadata": {
        "id": "uoOAu38-r6KA"
      }
    },
    {
      "cell_type": "code",
      "execution_count": 1,
      "metadata": {
        "id": "lMXvknybSlwp",
        "colab": {
          "base_uri": "https://localhost:8080/"
        },
        "outputId": "fd08de1f-eea9-419b-8896-daab9e8964d3"
      },
      "outputs": [
        {
          "output_type": "stream",
          "name": "stdout",
          "text": [
            "\t{\n",
            "\t\t\"heteronyms\": [\n",
            "\t\t\t{\n",
            "\t\t\t\t\"bopomofo\": \"（語音）ㄔㄜ\",\n",
            "\t\t\t\t\"bopomofo2\": \"（語音）chē\",\n",
            "\t\t\t\t\"definitions\": [\n",
            "\t\t\t\t\t{\n",
            "\t\t\t\t\t\t\"def\": \"陸地上靠輪子轉動而運行的交通工具。如：「汽車」、「火車」。通稱為「車子」。\",\n",
            "\t\t\t\t\t\t\"type\": \"名\"\n",
            "\t\t\t\t\t},\n",
            "\t\t\t\t\t{\n",
            "\t\t\t\t\t\t\"def\": \"利用輪軸轉動的機械。\",\n",
            "\t\t\t\t\t\t\"example\": [\n",
            "\t\t\t\t\t\t\t\"如：「紡車」、「風車」、「水車」。\"\n",
            "\t\t\t\t\t\t],\n",
            "\t\t\t\t\t\t\"type\": \"名\"\n",
            "\t\t\t\t\t},\n",
            "\t\t\t\t\t{\n",
            "\t\t\t\t\t\t\"def\": \"牙床。\",\n",
            "\t\t\t\t\t\t\"quote\": [\n",
            "\t\t\t\t\t\t\t\"左傳．僖公五年：「輔車相依，脣亡齒寒。」\",\n",
            "\t\t\t\t\t\t\t\"杜預．注：「輔，頰輔之車，牙車。」\",\n",
            "\t\t\t\t\t\t\t\"孔穎達．正義：「牙車，牙下骨之名。」\"\n",
            "\t\t\t\t\t\t],\n",
            "\t\t\t\t\t\t\"type\": \"名\"\n",
            "\t\t\t\t\t},\n",
            "\t\t\t\t\t{\n",
            "\t\t\t\t\t\t\"def\": \"量詞。計算車載物的單位。\",\n",
            "\t\t\t\t\t\t\"example\": [\n",
            "\t\t\t\t\t\t\t\"如：「一車砂石」。\"\n",
            "\t\t\t\t\t\t],\n",
            "\t\t\t\t\t\t\"type\": \"名\"\n",
            "\t\t\t\t\t},\n",
            "\t\t\t\t\t{\n",
            "\t\t\t\t\t\t\"def\": \"姓。如漢代有車順。\",\n",
            "\t\t\t\t\t\t\"type\": \"名\"\n",
            "\t\t\t\t\t},\n",
            "\t\t\t\t\t{\n",
            "\t\t\t\t\t\t\"def\": \"二一四部首之一。\",\n",
            "\t\t\t\t\t\t\"type\": \"名\"\n",
            "\t\t\t\t\t},\n",
            "\t\t\t\t\t{\n",
            "\t\t\t\t\t\t\"def\": \"利用機器轉動來加以縫紉。\",\n",
            "\t\t\t\t\t\t\"example\": [\n",
            "\t\t\t\t\t\t\t\"如：「車布邊」、「車衣服」、「車鞋面」。\"\n",
            "\t\t\t\t\t\t],\n",
            "\t\t\t\t\t\t\"type\": \"動\"\n",
            "\t\t\t\t\t},\n",
            "\t\t\t\t\t{\n",
            "\t\t\t\t\t\t\"def\": \"用機械將物品切削成圓形。\",\n",
            "\t\t\t\t\t\t\"example\": [\n",
            "\t\t\t\t\t\t\t\"如：「車圓」、「車碗」、「車玻璃」。\"\n",
            "\t\t\t\t\t\t],\n",
            "\t\t\t\t\t\t\"type\": \"動\"\n",
            "\t\t\t\t\t},\n",
            "\t\t\t\t\t{\n",
            "\t\t\t\t\t\t\"def\": \"用水車將水引至高處。\",\n",
            "\t\t\t\t\t\t\"quote\": [\n",
            "\t\t\t\t\t\t\t\"唐．段成式．酉陽雜俎．卷七．樂：「車水竭池，窮池索之。」\"\n",
            "\t\t\t\t\t\t],\n",
            "\t\t\t\t\t\t\"type\": \"動\"\n",
            "\t\t\t\t\t},\n",
            "\t\t\t\t\t{\n",
            "\t\t\t\t\t\t\"def\": \"用車搬運。\",\n",
            "\t\t\t\t\t\t\"example\": [\n",
            "\t\t\t\t\t\t\t\"如：「請把這堆垃圾車走。」\"\n",
            "\t\t\t\t\t\t],\n",
            "\t\t\t\t\t\t\"type\": \"動\"\n",
            "\t\t\t\t\t},\n",
            "\t\t\t\t\t{\n",
            "\t\t\t\t\t\t\"def\": \"辨⃞&nbsp似⃞\",\n",
            "\t\t\t\t\t\t\"type\": \"動\"\n",
            "\t\t\t\t\t},\n",
            "\t\t\t\t\t{\n",
            "\t\t\t\t\t\t\"def\": \"見「車」<2>條。（05978）\",\n",
            "\t\t\t\t\t\t\"type\": \"動\"\n",
            "\t\t\t\t\t}\n",
            "\t\t\t\t],\n",
            "\t\t\t\t\"pinyin\": \"（語音）chē\"\n",
            "\t\t\t},\n",
            "\t\t\t{\n",
            "\t\t\t\t\"bopomofo\": \"（讀音）ㄐㄩ\",\n",
            "\t\t\t\t\"bopomofo2\": \"（讀音）jiū\",\n",
            "\t\t\t\t\"definitions\": [\n",
            "\t\t\t\t\t{\n",
            "\t\t\t\t\t\t\"def\": \"<1>之讀音。\"\n",
            "\t\t\t\t\t},\n",
            "\t\t\t\t\t{\n",
            "\t\t\t\t\t\t\"def\": \"辨⃞&nbsp似⃞\"\n",
            "\t\t\t\t\t},\n",
            "\t\t\t\t\t{\n",
            "\t\t\t\t\t\t\"def\": \"車有ㄔㄜ、ㄐㄩ二音，為語、讀音之分，意義上沒有區別，只是在某些文言詞上今日仍習慣使用讀音，如「車馬炮」、「學富五車」等。\"\n",
            "\t\t\t\t\t}\n",
            "\t\t\t\t],\n",
            "\t\t\t\t\"pinyin\": \"（讀音）jū\"\n",
            "\t\t\t}\n",
            "\t\t],\n",
            "\t\t\"non_radical_stroke_count\": 0,\n",
            "\t\t\"radical\": \"車\",\n",
            "\t\t\"stroke_count\": 7,\n",
            "\t\t\"title\": \"車\"\n",
            "\t}\n"
          ]
        }
      ],
      "source": [
        "import requests\n",
        "url = \"https://www.moedict.tw/uni/車\"\n",
        "r = requests.get(url)\n",
        "print(r.text)"
      ]
    },
    {
      "cell_type": "markdown",
      "source": [
        "## JSON模組分析萌典資料"
      ],
      "metadata": {
        "id": "PG0xh_qpEG4L"
      }
    },
    {
      "cell_type": "code",
      "source": [
        "# 文字轉為dict\n",
        "import json\n",
        "datas = json.loads(r.text)\n",
        "datas"
      ],
      "metadata": {
        "id": "QcqnBZylS_Pb",
        "colab": {
          "base_uri": "https://localhost:8080/"
        },
        "outputId": "cd388daa-b5c8-4ce1-a682-e05ad2fd563a"
      },
      "execution_count": 2,
      "outputs": [
        {
          "output_type": "execute_result",
          "data": {
            "text/plain": [
              "{'heteronyms': [{'bopomofo': '（語音）ㄔㄜ',\n",
              "   'bopomofo2': '（語音）chē',\n",
              "   'definitions': [{'def': '陸地上靠輪子轉動而運行的交通工具。如：「汽車」、「火車」。通稱為「車子」。',\n",
              "     'type': '名'},\n",
              "    {'def': '利用輪軸轉動的機械。', 'example': ['如：「紡車」、「風車」、「水車」。'], 'type': '名'},\n",
              "    {'def': '牙床。',\n",
              "     'quote': ['左傳．僖公五年：「輔車相依，脣亡齒寒。」',\n",
              "      '杜預．注：「輔，頰輔之車，牙車。」',\n",
              "      '孔穎達．正義：「牙車，牙下骨之名。」'],\n",
              "     'type': '名'},\n",
              "    {'def': '量詞。計算車載物的單位。', 'example': ['如：「一車砂石」。'], 'type': '名'},\n",
              "    {'def': '姓。如漢代有車順。', 'type': '名'},\n",
              "    {'def': '二一四部首之一。', 'type': '名'},\n",
              "    {'def': '利用機器轉動來加以縫紉。', 'example': ['如：「車布邊」、「車衣服」、「車鞋面」。'], 'type': '動'},\n",
              "    {'def': '用機械將物品切削成圓形。', 'example': ['如：「車圓」、「車碗」、「車玻璃」。'], 'type': '動'},\n",
              "    {'def': '用水車將水引至高處。',\n",
              "     'quote': ['唐．段成式．酉陽雜俎．卷七．樂：「車水竭池，窮池索之。」'],\n",
              "     'type': '動'},\n",
              "    {'def': '用車搬運。', 'example': ['如：「請把這堆垃圾車走。」'], 'type': '動'},\n",
              "    {'def': '辨⃞&nbsp似⃞', 'type': '動'},\n",
              "    {'def': '見「車」<2>條。（05978）', 'type': '動'}],\n",
              "   'pinyin': '（語音）chē'},\n",
              "  {'bopomofo': '（讀音）ㄐㄩ',\n",
              "   'bopomofo2': '（讀音）jiū',\n",
              "   'definitions': [{'def': '<1>之讀音。'},\n",
              "    {'def': '辨⃞&nbsp似⃞'},\n",
              "    {'def': '車有ㄔㄜ、ㄐㄩ二音，為語、讀音之分，意義上沒有區別，只是在某些文言詞上今日仍習慣使用讀音，如「車馬炮」、「學富五車」等。'}],\n",
              "   'pinyin': '（讀音）jū'}],\n",
              " 'non_radical_stroke_count': 0,\n",
              " 'radical': '車',\n",
              " 'stroke_count': 7,\n",
              " 'title': '車'}"
            ]
          },
          "metadata": {},
          "execution_count": 2
        }
      ]
    },
    {
      "cell_type": "code",
      "source": [
        "# 顯示字典第一層\n",
        "print('查詢字詞：', datas['title'])\n",
        "print('部首：', datas['radical'])\n",
        "print('筆劃', datas['stroke_count'])"
      ],
      "metadata": {
        "id": "vug-ZAyQT8Os",
        "colab": {
          "base_uri": "https://localhost:8080/"
        },
        "outputId": "ee266181-2e14-4a11-9de0-665c529e2c24"
      },
      "execution_count": 3,
      "outputs": [
        {
          "output_type": "stream",
          "name": "stdout",
          "text": [
            "查詢字詞： 車\n",
            "部首： 車\n",
            "筆劃 7\n"
          ]
        }
      ]
    },
    {
      "cell_type": "code",
      "source": [
        "# 顯示字典第二層\n",
        "print('注音：', datas['heteronyms'][0]['bopomofo'].\\\n",
        "      replace('（語音）',''))\n",
        "print('羅馬拼音：', datas['heteronyms'][0]['bopomofo2'].\\\n",
        "      replace('（語音）',''))\n",
        "print('漢語拼音：', datas['heteronyms'][0]['pinyin']\\\n",
        "      .replace('（語音）',''))"
      ],
      "metadata": {
        "id": "Rmr1zE6rV6eb",
        "colab": {
          "base_uri": "https://localhost:8080/"
        },
        "outputId": "af699dcb-884f-4cd9-92d4-64ea4a7c915b"
      },
      "execution_count": 4,
      "outputs": [
        {
          "output_type": "stream",
          "name": "stdout",
          "text": [
            "注音： ㄔㄜ\n",
            "羅馬拼音： chē\n",
            "漢語拼音： chē\n"
          ]
        }
      ]
    },
    {
      "cell_type": "code",
      "source": [
        "# 顯示字典第三層\n",
        "print('解釋：', datas['heteronyms'][0]['definitions'][0]['def'])\n",
        "if 'type' in (datas['heteronyms'][0]['definitions'][0]):\n",
        "  print('詞性：<{}>'.format(datas['heteronyms'][0]\\\n",
        "                         ['definitions'][0]['type']))\n",
        "if 'example' in (datas['heteronyms'][0]['definitions'][0]):\n",
        "  print('範例：<{}>'.format(datas['heteronyms'][0]\\\n",
        "                         ['definitions'][0]['example']))"
      ],
      "metadata": {
        "id": "z3RcHPEDWlvD",
        "colab": {
          "base_uri": "https://localhost:8080/"
        },
        "outputId": "38e8e951-685b-4795-d609-53cc526fc5d4"
      },
      "execution_count": 5,
      "outputs": [
        {
          "output_type": "stream",
          "name": "stdout",
          "text": [
            "解釋： 陸地上靠輪子轉動而運行的交通工具。如：「汽車」、「火車」。通稱為「車子」。\n",
            "詞性：<名>\n"
          ]
        }
      ]
    },
    {
      "cell_type": "markdown",
      "source": [
        "## Gradio模組建立Web App"
      ],
      "metadata": {
        "id": "Omd9pVqKtE3x"
      }
    },
    {
      "cell_type": "code",
      "source": [
        "# 安裝Gradio\n",
        "!pip install gradio"
      ],
      "metadata": {
        "colab": {
          "base_uri": "https://localhost:8080/"
        },
        "id": "NJe1mUbxtdLa",
        "outputId": "405d1b7c-7597-45d5-d189-d9327abbc264"
      },
      "execution_count": 6,
      "outputs": [
        {
          "output_type": "stream",
          "name": "stdout",
          "text": [
            "Looking in indexes: https://pypi.org/simple, https://us-python.pkg.dev/colab-wheels/public/simple/\n",
            "Collecting gradio\n",
            "  Downloading gradio-3.1.6-py3-none-any.whl (6.1 MB)\n",
            "\u001b[K     |████████████████████████████████| 6.1 MB 5.1 MB/s \n",
            "\u001b[?25hRequirement already satisfied: matplotlib in /usr/local/lib/python3.7/dist-packages (from gradio) (3.2.2)\n",
            "Requirement already satisfied: numpy in /usr/local/lib/python3.7/dist-packages (from gradio) (1.21.6)\n",
            "Requirement already satisfied: aiohttp in /usr/local/lib/python3.7/dist-packages (from gradio) (3.8.1)\n",
            "Collecting pycryptodome\n",
            "  Downloading pycryptodome-3.15.0-cp35-abi3-manylinux2010_x86_64.whl (2.3 MB)\n",
            "\u001b[K     |████████████████████████████████| 2.3 MB 52.5 MB/s \n",
            "\u001b[?25hCollecting pydub\n",
            "  Downloading pydub-0.25.1-py2.py3-none-any.whl (32 kB)\n",
            "Collecting h11<0.13,>=0.11\n",
            "  Downloading h11-0.12.0-py3-none-any.whl (54 kB)\n",
            "\u001b[K     |████████████████████████████████| 54 kB 3.3 MB/s \n",
            "\u001b[?25hCollecting httpx\n",
            "  Downloading httpx-0.23.0-py3-none-any.whl (84 kB)\n",
            "\u001b[K     |████████████████████████████████| 84 kB 3.9 MB/s \n",
            "\u001b[?25hCollecting ffmpy\n",
            "  Downloading ffmpy-0.3.0.tar.gz (4.8 kB)\n",
            "Collecting uvicorn\n",
            "  Downloading uvicorn-0.18.2-py3-none-any.whl (57 kB)\n",
            "\u001b[K     |████████████████████████████████| 57 kB 4.7 MB/s \n",
            "\u001b[?25hCollecting orjson\n",
            "  Downloading orjson-3.7.12-cp37-cp37m-manylinux_2_17_x86_64.manylinux2014_x86_64.whl (275 kB)\n",
            "\u001b[K     |████████████████████████████████| 275 kB 54.4 MB/s \n",
            "\u001b[?25hRequirement already satisfied: pandas in /usr/local/lib/python3.7/dist-packages (from gradio) (1.3.5)\n",
            "Collecting fastapi\n",
            "  Downloading fastapi-0.79.1-py3-none-any.whl (54 kB)\n",
            "\u001b[K     |████████████████████████████████| 54 kB 3.2 MB/s \n",
            "\u001b[?25hRequirement already satisfied: Jinja2 in /usr/local/lib/python3.7/dist-packages (from gradio) (2.11.3)\n",
            "Collecting websockets\n",
            "  Downloading websockets-10.3-cp37-cp37m-manylinux_2_5_x86_64.manylinux1_x86_64.manylinux_2_12_x86_64.manylinux2010_x86_64.whl (112 kB)\n",
            "\u001b[K     |████████████████████████████████| 112 kB 70.2 MB/s \n",
            "\u001b[?25hRequirement already satisfied: pydantic in /usr/local/lib/python3.7/dist-packages (from gradio) (1.9.2)\n",
            "Requirement already satisfied: requests in /usr/local/lib/python3.7/dist-packages (from gradio) (2.23.0)\n",
            "Requirement already satisfied: pillow in /usr/local/lib/python3.7/dist-packages (from gradio) (7.1.2)\n",
            "Collecting python-multipart\n",
            "  Downloading python-multipart-0.0.5.tar.gz (32 kB)\n",
            "Collecting paramiko\n",
            "  Downloading paramiko-2.11.0-py2.py3-none-any.whl (212 kB)\n",
            "\u001b[K     |████████████████████████████████| 212 kB 42.8 MB/s \n",
            "\u001b[?25hCollecting analytics-python\n",
            "  Downloading analytics_python-1.4.0-py2.py3-none-any.whl (15 kB)\n",
            "Requirement already satisfied: fsspec in /usr/local/lib/python3.7/dist-packages (from gradio) (2022.7.1)\n",
            "Collecting markdown-it-py[linkify,plugins]\n",
            "  Downloading markdown_it_py-2.1.0-py3-none-any.whl (84 kB)\n",
            "\u001b[K     |████████████████████████████████| 84 kB 3.4 MB/s \n",
            "\u001b[?25hRequirement already satisfied: frozenlist>=1.1.1 in /usr/local/lib/python3.7/dist-packages (from aiohttp->gradio) (1.3.1)\n",
            "Requirement already satisfied: charset-normalizer<3.0,>=2.0 in /usr/local/lib/python3.7/dist-packages (from aiohttp->gradio) (2.1.0)\n",
            "Requirement already satisfied: async-timeout<5.0,>=4.0.0a3 in /usr/local/lib/python3.7/dist-packages (from aiohttp->gradio) (4.0.2)\n",
            "Requirement already satisfied: typing-extensions>=3.7.4 in /usr/local/lib/python3.7/dist-packages (from aiohttp->gradio) (4.1.1)\n",
            "Requirement already satisfied: yarl<2.0,>=1.0 in /usr/local/lib/python3.7/dist-packages (from aiohttp->gradio) (1.8.1)\n",
            "Requirement already satisfied: aiosignal>=1.1.2 in /usr/local/lib/python3.7/dist-packages (from aiohttp->gradio) (1.2.0)\n",
            "Requirement already satisfied: multidict<7.0,>=4.5 in /usr/local/lib/python3.7/dist-packages (from aiohttp->gradio) (6.0.2)\n",
            "Requirement already satisfied: asynctest==0.13.0 in /usr/local/lib/python3.7/dist-packages (from aiohttp->gradio) (0.13.0)\n",
            "Requirement already satisfied: attrs>=17.3.0 in /usr/local/lib/python3.7/dist-packages (from aiohttp->gradio) (22.1.0)\n",
            "Requirement already satisfied: idna>=2.0 in /usr/local/lib/python3.7/dist-packages (from yarl<2.0,>=1.0->aiohttp->gradio) (2.10)\n",
            "Requirement already satisfied: python-dateutil>2.1 in /usr/local/lib/python3.7/dist-packages (from analytics-python->gradio) (2.8.2)\n",
            "Collecting backoff==1.10.0\n",
            "  Downloading backoff-1.10.0-py2.py3-none-any.whl (31 kB)\n",
            "Requirement already satisfied: six>=1.5 in /usr/local/lib/python3.7/dist-packages (from analytics-python->gradio) (1.15.0)\n",
            "Collecting monotonic>=1.5\n",
            "  Downloading monotonic-1.6-py2.py3-none-any.whl (8.2 kB)\n",
            "Requirement already satisfied: certifi>=2017.4.17 in /usr/local/lib/python3.7/dist-packages (from requests->gradio) (2022.6.15)\n",
            "Requirement already satisfied: urllib3!=1.25.0,!=1.25.1,<1.26,>=1.21.1 in /usr/local/lib/python3.7/dist-packages (from requests->gradio) (1.24.3)\n",
            "Requirement already satisfied: chardet<4,>=3.0.2 in /usr/local/lib/python3.7/dist-packages (from requests->gradio) (3.0.4)\n",
            "Collecting starlette==0.19.1\n",
            "  Downloading starlette-0.19.1-py3-none-any.whl (63 kB)\n",
            "\u001b[K     |████████████████████████████████| 63 kB 2.2 MB/s \n",
            "\u001b[?25hCollecting anyio<5,>=3.4.0\n",
            "  Downloading anyio-3.6.1-py3-none-any.whl (80 kB)\n",
            "\u001b[K     |████████████████████████████████| 80 kB 9.9 MB/s \n",
            "\u001b[?25hCollecting sniffio>=1.1\n",
            "  Downloading sniffio-1.2.0-py3-none-any.whl (10 kB)\n",
            "Collecting rfc3986[idna2008]<2,>=1.3\n",
            "  Downloading rfc3986-1.5.0-py2.py3-none-any.whl (31 kB)\n",
            "Collecting httpcore<0.16.0,>=0.15.0\n",
            "  Downloading httpcore-0.15.0-py3-none-any.whl (68 kB)\n",
            "\u001b[K     |████████████████████████████████| 68 kB 6.0 MB/s \n",
            "\u001b[?25hRequirement already satisfied: MarkupSafe>=0.23 in /usr/local/lib/python3.7/dist-packages (from Jinja2->gradio) (2.0.1)\n",
            "Collecting mdurl~=0.1\n",
            "  Downloading mdurl-0.1.2-py3-none-any.whl (10.0 kB)\n",
            "Collecting linkify-it-py~=1.0\n",
            "  Downloading linkify_it_py-1.0.3-py3-none-any.whl (19 kB)\n",
            "Collecting mdit-py-plugins\n",
            "  Downloading mdit_py_plugins-0.3.0-py3-none-any.whl (43 kB)\n",
            "\u001b[K     |████████████████████████████████| 43 kB 2.1 MB/s \n",
            "\u001b[?25hCollecting uc-micro-py\n",
            "  Downloading uc_micro_py-1.0.1-py3-none-any.whl (6.2 kB)\n",
            "Requirement already satisfied: cycler>=0.10 in /usr/local/lib/python3.7/dist-packages (from matplotlib->gradio) (0.11.0)\n",
            "Requirement already satisfied: kiwisolver>=1.0.1 in /usr/local/lib/python3.7/dist-packages (from matplotlib->gradio) (1.4.4)\n",
            "Requirement already satisfied: pyparsing!=2.0.4,!=2.1.2,!=2.1.6,>=2.0.1 in /usr/local/lib/python3.7/dist-packages (from matplotlib->gradio) (3.0.9)\n",
            "Requirement already satisfied: pytz>=2017.3 in /usr/local/lib/python3.7/dist-packages (from pandas->gradio) (2022.2.1)\n",
            "Collecting cryptography>=2.5\n",
            "  Downloading cryptography-37.0.4-cp36-abi3-manylinux_2_24_x86_64.whl (4.1 MB)\n",
            "\u001b[K     |████████████████████████████████| 4.1 MB 40.9 MB/s \n",
            "\u001b[?25hCollecting bcrypt>=3.1.3\n",
            "  Downloading bcrypt-3.2.2-cp36-abi3-manylinux_2_17_x86_64.manylinux2014_x86_64.manylinux_2_24_x86_64.whl (62 kB)\n",
            "\u001b[K     |████████████████████████████████| 62 kB 1.1 MB/s \n",
            "\u001b[?25hCollecting pynacl>=1.0.1\n",
            "  Downloading PyNaCl-1.5.0-cp36-abi3-manylinux_2_17_x86_64.manylinux2014_x86_64.manylinux_2_24_x86_64.whl (856 kB)\n",
            "\u001b[K     |████████████████████████████████| 856 kB 49.1 MB/s \n",
            "\u001b[?25hRequirement already satisfied: cffi>=1.1 in /usr/local/lib/python3.7/dist-packages (from bcrypt>=3.1.3->paramiko->gradio) (1.15.1)\n",
            "Requirement already satisfied: pycparser in /usr/local/lib/python3.7/dist-packages (from cffi>=1.1->bcrypt>=3.1.3->paramiko->gradio) (2.21)\n",
            "Requirement already satisfied: click>=7.0 in /usr/local/lib/python3.7/dist-packages (from uvicorn->gradio) (7.1.2)\n",
            "Building wheels for collected packages: ffmpy, python-multipart\n",
            "  Building wheel for ffmpy (setup.py) ... \u001b[?25l\u001b[?25hdone\n",
            "  Created wheel for ffmpy: filename=ffmpy-0.3.0-py3-none-any.whl size=4712 sha256=ed89d3c79fb5c3b853ade59a5512925e4b195a4648c275a32e3ff39f163b4858\n",
            "  Stored in directory: /root/.cache/pip/wheels/13/e4/6c/e8059816e86796a597c6e6b0d4c880630f51a1fcfa0befd5e6\n",
            "  Building wheel for python-multipart (setup.py) ... \u001b[?25l\u001b[?25hdone\n",
            "  Created wheel for python-multipart: filename=python_multipart-0.0.5-py3-none-any.whl size=31678 sha256=561b050bde5dfcd6eee252d0c131dc8a2b5b2b557c1aed7441765c0f205b0b91\n",
            "  Stored in directory: /root/.cache/pip/wheels/2c/41/7c/bfd1c180534ffdcc0972f78c5758f89881602175d48a8bcd2c\n",
            "Successfully built ffmpy python-multipart\n",
            "Installing collected packages: sniffio, mdurl, uc-micro-py, rfc3986, markdown-it-py, h11, anyio, starlette, pynacl, monotonic, mdit-py-plugins, linkify-it-py, httpcore, cryptography, bcrypt, backoff, websockets, uvicorn, python-multipart, pydub, pycryptodome, paramiko, orjson, httpx, ffmpy, fastapi, analytics-python, gradio\n",
            "Successfully installed analytics-python-1.4.0 anyio-3.6.1 backoff-1.10.0 bcrypt-3.2.2 cryptography-37.0.4 fastapi-0.79.1 ffmpy-0.3.0 gradio-3.1.6 h11-0.12.0 httpcore-0.15.0 httpx-0.23.0 linkify-it-py-1.0.3 markdown-it-py-2.1.0 mdit-py-plugins-0.3.0 mdurl-0.1.2 monotonic-1.6 orjson-3.7.12 paramiko-2.11.0 pycryptodome-3.15.0 pydub-0.25.1 pynacl-1.5.0 python-multipart-0.0.5 rfc3986-1.5.0 sniffio-1.2.0 starlette-0.19.1 uc-micro-py-1.0.1 uvicorn-0.18.2 websockets-10.3\n"
          ]
        }
      ]
    },
    {
      "cell_type": "code",
      "source": [
        "# 文字輸入/文字輸出\n",
        "import gradio as gr\n",
        "\n",
        "def rStr(text):\n",
        "  return text.replace('morning', 'night')\n",
        "\n",
        "grobj = gr.Interface(fn=rStr, \n",
        "             inputs=gr.inputs.Textbox(), \n",
        "             outputs=gr.outputs.Textbox())\n",
        "grobj.launch()"
      ],
      "metadata": {
        "colab": {
          "base_uri": "https://localhost:8080/",
          "height": 837
        },
        "id": "-Oiw7CYSttEf",
        "outputId": "144db461-4df0-458f-890a-5e324f9dbec9"
      },
      "execution_count": 7,
      "outputs": [
        {
          "output_type": "stream",
          "name": "stderr",
          "text": [
            "/usr/local/lib/python3.7/dist-packages/gradio/inputs.py:27: UserWarning: Usage of gradio.inputs is deprecated, and will not be supported in the future, please import your component from gradio.components\n",
            "  \"Usage of gradio.inputs is deprecated, and will not be supported in the future, please import your component from gradio.components\",\n",
            "/usr/local/lib/python3.7/dist-packages/gradio/deprecation.py:40: UserWarning: `optional` parameter is deprecated, and it has no effect\n",
            "  warnings.warn(value)\n",
            "/usr/local/lib/python3.7/dist-packages/gradio/deprecation.py:40: UserWarning: `numeric` parameter is deprecated, and it has no effect\n",
            "  warnings.warn(value)\n",
            "/usr/local/lib/python3.7/dist-packages/gradio/deprecation.py:40: UserWarning: The 'type' parameter has been deprecated. Use the Number component instead.\n",
            "  warnings.warn(value)\n",
            "/usr/local/lib/python3.7/dist-packages/gradio/outputs.py:22: UserWarning: Usage of gradio.outputs is deprecated, and will not be supported in the future, please import your components from gradio.components\n",
            "  \"Usage of gradio.outputs is deprecated, and will not be supported in the future, please import your components from gradio.components\",\n"
          ]
        },
        {
          "output_type": "stream",
          "name": "stdout",
          "text": [
            "Colab notebook detected. To show errors in colab notebook, set `debug=True` in `launch()`\n",
            "Running on public URL: https://49951.gradio.app\n",
            "\n",
            "This share link expires in 72 hours. For free permanent hosting, check out Spaces: https://huggingface.co/spaces\n"
          ]
        },
        {
          "output_type": "display_data",
          "data": {
            "text/plain": [
              "<IPython.core.display.HTML object>"
            ],
            "text/html": [
              "<div><iframe src=\"https://49951.gradio.app\" width=\"900\" height=\"500\" allow=\"autoplay; camera; microphone;\" frameborder=\"0\" allowfullscreen></iframe></div>"
            ]
          },
          "metadata": {}
        },
        {
          "output_type": "execute_result",
          "data": {
            "text/plain": [
              "(<gradio.routes.App at 0x7f63106f6650>,\n",
              " 'http://127.0.0.1:7860/',\n",
              " 'https://49951.gradio.app')"
            ]
          },
          "metadata": {},
          "execution_count": 7
        }
      ]
    },
    {
      "cell_type": "markdown",
      "source": [
        "## 建立線上國語字典"
      ],
      "metadata": {
        "id": "d4iia871BF6X"
      }
    },
    {
      "cell_type": "code",
      "source": [
        "import requests\n",
        "import json\n",
        "\n",
        "url = \"https://www.moedict.tw/uni/\"\n",
        "word = input(\"請輸入要查詢的國字：\")\n",
        "r = requests.get(url+word)\n",
        "datas = json.loads(r.text)\n",
        "\n",
        "# 顯示查詢字詞、部首、筆畫\n",
        "print('查詢字詞：', datas['title'])\n",
        "if 'radical' in (datas['heteronyms']):\n",
        "  print(\"部首：{}，筆劃：{}\".format(datas['radical'], datas['stroke_count']))\n",
        "\n",
        "# 顯示多音字\n",
        "for i in range(len(datas['heteronyms'])):\n",
        "  print(\"注音:{}，羅馬拼音:{}，漢語拼音：{}\".format(\n",
        "    datas['heteronyms'][i]['bopomofo'].replace('（語音）',''),\n",
        "    datas['heteronyms'][i]['bopomofo2'].replace('（語音）',''),\n",
        "    datas['heteronyms'][i]['pinyin'].replace('（語音）','')))\n",
        "  print('------------------------------------------------------------')\n",
        "  for j in range(len(datas['heteronyms'][i]['definitions'])):\n",
        "    print('解釋：{}'.format(datas['heteronyms'][i]['definitions'][j]['def']))\n",
        "    if 'quote' in (datas['heteronyms'][i]['definitions'][j]):\n",
        "      print('引用：{}'.format(' | '.join(datas['heteronyms'][i]['definitions'][j]['quote'])))\n",
        "    if 'example' in (datas['heteronyms'][i]['definitions'][j]):\n",
        "      print('範例：{}'.format(' | '.join(datas['heteronyms'][i]['definitions'][j]['example'])))\n",
        "    if 'link' in (datas['heteronyms'][i]['definitions'][j]):\n",
        "      print('連結：{}'.format(' | '.join(datas['heteronyms'][i]['definitions'][j]['link'])))\n",
        "    if 'type' in (datas['heteronyms'][i]['definitions'][j]):\n",
        "      print('詞性：<{}詞>'.format(datas['heteronyms'][i]['definitions'][j]['type']))\n",
        "    if j < len(datas['heteronyms'][i]['definitions'])-1:\n",
        "      print('------------------------------------------------------------') \n",
        "  if i < len(datas['heteronyms'])-1:\n",
        "    print('============================================================')     "
      ],
      "metadata": {
        "id": "6NbdWxk-ttM5",
        "colab": {
          "base_uri": "https://localhost:8080/"
        },
        "outputId": "b715889b-740f-48f6-c980-f0c91ef2be63"
      },
      "execution_count": 8,
      "outputs": [
        {
          "output_type": "stream",
          "name": "stdout",
          "text": [
            "請輸入要查詢的國字：車\n",
            "查詢字詞： 車\n",
            "注音:ㄔㄜ，羅馬拼音:chē，漢語拼音：chē\n",
            "------------------------------------------------------------\n",
            "解釋：陸地上靠輪子轉動而運行的交通工具。如：「汽車」、「火車」。通稱為「車子」。\n",
            "詞性：<名詞>\n",
            "------------------------------------------------------------\n",
            "解釋：利用輪軸轉動的機械。\n",
            "範例：如：「紡車」、「風車」、「水車」。\n",
            "詞性：<名詞>\n",
            "------------------------------------------------------------\n",
            "解釋：牙床。\n",
            "引用：左傳．僖公五年：「輔車相依，脣亡齒寒。」 | 杜預．注：「輔，頰輔之車，牙車。」 | 孔穎達．正義：「牙車，牙下骨之名。」\n",
            "詞性：<名詞>\n",
            "------------------------------------------------------------\n",
            "解釋：量詞。計算車載物的單位。\n",
            "範例：如：「一車砂石」。\n",
            "詞性：<名詞>\n",
            "------------------------------------------------------------\n",
            "解釋：姓。如漢代有車順。\n",
            "詞性：<名詞>\n",
            "------------------------------------------------------------\n",
            "解釋：二一四部首之一。\n",
            "詞性：<名詞>\n",
            "------------------------------------------------------------\n",
            "解釋：利用機器轉動來加以縫紉。\n",
            "範例：如：「車布邊」、「車衣服」、「車鞋面」。\n",
            "詞性：<動詞>\n",
            "------------------------------------------------------------\n",
            "解釋：用機械將物品切削成圓形。\n",
            "範例：如：「車圓」、「車碗」、「車玻璃」。\n",
            "詞性：<動詞>\n",
            "------------------------------------------------------------\n",
            "解釋：用水車將水引至高處。\n",
            "引用：唐．段成式．酉陽雜俎．卷七．樂：「車水竭池，窮池索之。」\n",
            "詞性：<動詞>\n",
            "------------------------------------------------------------\n",
            "解釋：用車搬運。\n",
            "範例：如：「請把這堆垃圾車走。」\n",
            "詞性：<動詞>\n",
            "------------------------------------------------------------\n",
            "解釋：辨⃞&nbsp似⃞\n",
            "詞性：<動詞>\n",
            "------------------------------------------------------------\n",
            "解釋：見「車」<2>條。（05978）\n",
            "詞性：<動詞>\n",
            "============================================================\n",
            "注音:（讀音）ㄐㄩ，羅馬拼音:（讀音）jiū，漢語拼音：（讀音）jū\n",
            "------------------------------------------------------------\n",
            "解釋：<1>之讀音。\n",
            "------------------------------------------------------------\n",
            "解釋：辨⃞&nbsp似⃞\n",
            "------------------------------------------------------------\n",
            "解釋：車有ㄔㄜ、ㄐㄩ二音，為語、讀音之分，意義上沒有區別，只是在某些文言詞上今日仍習慣使用讀音，如「車馬炮」、「學富五車」等。\n"
          ]
        }
      ]
    },
    {
      "cell_type": "markdown",
      "source": [
        "## 建立萌典Web App"
      ],
      "metadata": {
        "id": "sPetlzvjFQ87"
      }
    },
    {
      "cell_type": "code",
      "source": [
        "# 安裝Gradio\n",
        "!pip install gradio"
      ],
      "metadata": {
        "id": "7_0KA_cxttbF",
        "colab": {
          "base_uri": "https://localhost:8080/"
        },
        "outputId": "d4e41fa8-0f57-49a3-af24-6ccc42763d73"
      },
      "execution_count": 9,
      "outputs": [
        {
          "output_type": "stream",
          "name": "stdout",
          "text": [
            "Looking in indexes: https://pypi.org/simple, https://us-python.pkg.dev/colab-wheels/public/simple/\n",
            "Requirement already satisfied: gradio in /usr/local/lib/python3.7/dist-packages (3.1.6)\n",
            "Requirement already satisfied: Jinja2 in /usr/local/lib/python3.7/dist-packages (from gradio) (2.11.3)\n",
            "Requirement already satisfied: pydantic in /usr/local/lib/python3.7/dist-packages (from gradio) (1.9.2)\n",
            "Requirement already satisfied: aiohttp in /usr/local/lib/python3.7/dist-packages (from gradio) (3.8.1)\n",
            "Requirement already satisfied: pillow in /usr/local/lib/python3.7/dist-packages (from gradio) (7.1.2)\n",
            "Requirement already satisfied: requests in /usr/local/lib/python3.7/dist-packages (from gradio) (2.23.0)\n",
            "Requirement already satisfied: pydub in /usr/local/lib/python3.7/dist-packages (from gradio) (0.25.1)\n",
            "Requirement already satisfied: h11<0.13,>=0.11 in /usr/local/lib/python3.7/dist-packages (from gradio) (0.12.0)\n",
            "Requirement already satisfied: analytics-python in /usr/local/lib/python3.7/dist-packages (from gradio) (1.4.0)\n",
            "Requirement already satisfied: paramiko in /usr/local/lib/python3.7/dist-packages (from gradio) (2.11.0)\n",
            "Requirement already satisfied: fsspec in /usr/local/lib/python3.7/dist-packages (from gradio) (2022.7.1)\n",
            "Requirement already satisfied: websockets in /usr/local/lib/python3.7/dist-packages (from gradio) (10.3)\n",
            "Requirement already satisfied: pandas in /usr/local/lib/python3.7/dist-packages (from gradio) (1.3.5)\n",
            "Requirement already satisfied: markdown-it-py[linkify,plugins] in /usr/local/lib/python3.7/dist-packages (from gradio) (2.1.0)\n",
            "Requirement already satisfied: pycryptodome in /usr/local/lib/python3.7/dist-packages (from gradio) (3.15.0)\n",
            "Requirement already satisfied: matplotlib in /usr/local/lib/python3.7/dist-packages (from gradio) (3.2.2)\n",
            "Requirement already satisfied: ffmpy in /usr/local/lib/python3.7/dist-packages (from gradio) (0.3.0)\n",
            "Requirement already satisfied: httpx in /usr/local/lib/python3.7/dist-packages (from gradio) (0.23.0)\n",
            "Requirement already satisfied: numpy in /usr/local/lib/python3.7/dist-packages (from gradio) (1.21.6)\n",
            "Requirement already satisfied: orjson in /usr/local/lib/python3.7/dist-packages (from gradio) (3.7.12)\n",
            "Requirement already satisfied: python-multipart in /usr/local/lib/python3.7/dist-packages (from gradio) (0.0.5)\n",
            "Requirement already satisfied: fastapi in /usr/local/lib/python3.7/dist-packages (from gradio) (0.79.1)\n",
            "Requirement already satisfied: uvicorn in /usr/local/lib/python3.7/dist-packages (from gradio) (0.18.2)\n",
            "Requirement already satisfied: asynctest==0.13.0 in /usr/local/lib/python3.7/dist-packages (from aiohttp->gradio) (0.13.0)\n",
            "Requirement already satisfied: charset-normalizer<3.0,>=2.0 in /usr/local/lib/python3.7/dist-packages (from aiohttp->gradio) (2.1.0)\n",
            "Requirement already satisfied: yarl<2.0,>=1.0 in /usr/local/lib/python3.7/dist-packages (from aiohttp->gradio) (1.8.1)\n",
            "Requirement already satisfied: attrs>=17.3.0 in /usr/local/lib/python3.7/dist-packages (from aiohttp->gradio) (22.1.0)\n",
            "Requirement already satisfied: typing-extensions>=3.7.4 in /usr/local/lib/python3.7/dist-packages (from aiohttp->gradio) (4.1.1)\n",
            "Requirement already satisfied: aiosignal>=1.1.2 in /usr/local/lib/python3.7/dist-packages (from aiohttp->gradio) (1.2.0)\n",
            "Requirement already satisfied: frozenlist>=1.1.1 in /usr/local/lib/python3.7/dist-packages (from aiohttp->gradio) (1.3.1)\n",
            "Requirement already satisfied: async-timeout<5.0,>=4.0.0a3 in /usr/local/lib/python3.7/dist-packages (from aiohttp->gradio) (4.0.2)\n",
            "Requirement already satisfied: multidict<7.0,>=4.5 in /usr/local/lib/python3.7/dist-packages (from aiohttp->gradio) (6.0.2)\n",
            "Requirement already satisfied: idna>=2.0 in /usr/local/lib/python3.7/dist-packages (from yarl<2.0,>=1.0->aiohttp->gradio) (2.10)\n",
            "Requirement already satisfied: monotonic>=1.5 in /usr/local/lib/python3.7/dist-packages (from analytics-python->gradio) (1.6)\n",
            "Requirement already satisfied: six>=1.5 in /usr/local/lib/python3.7/dist-packages (from analytics-python->gradio) (1.15.0)\n",
            "Requirement already satisfied: python-dateutil>2.1 in /usr/local/lib/python3.7/dist-packages (from analytics-python->gradio) (2.8.2)\n",
            "Requirement already satisfied: backoff==1.10.0 in /usr/local/lib/python3.7/dist-packages (from analytics-python->gradio) (1.10.0)\n",
            "Requirement already satisfied: certifi>=2017.4.17 in /usr/local/lib/python3.7/dist-packages (from requests->gradio) (2022.6.15)\n",
            "Requirement already satisfied: chardet<4,>=3.0.2 in /usr/local/lib/python3.7/dist-packages (from requests->gradio) (3.0.4)\n",
            "Requirement already satisfied: urllib3!=1.25.0,!=1.25.1,<1.26,>=1.21.1 in /usr/local/lib/python3.7/dist-packages (from requests->gradio) (1.24.3)\n",
            "Requirement already satisfied: starlette==0.19.1 in /usr/local/lib/python3.7/dist-packages (from fastapi->gradio) (0.19.1)\n",
            "Requirement already satisfied: anyio<5,>=3.4.0 in /usr/local/lib/python3.7/dist-packages (from starlette==0.19.1->fastapi->gradio) (3.6.1)\n",
            "Requirement already satisfied: sniffio>=1.1 in /usr/local/lib/python3.7/dist-packages (from anyio<5,>=3.4.0->starlette==0.19.1->fastapi->gradio) (1.2.0)\n",
            "Requirement already satisfied: rfc3986[idna2008]<2,>=1.3 in /usr/local/lib/python3.7/dist-packages (from httpx->gradio) (1.5.0)\n",
            "Requirement already satisfied: httpcore<0.16.0,>=0.15.0 in /usr/local/lib/python3.7/dist-packages (from httpx->gradio) (0.15.0)\n",
            "Requirement already satisfied: MarkupSafe>=0.23 in /usr/local/lib/python3.7/dist-packages (from Jinja2->gradio) (2.0.1)\n",
            "Requirement already satisfied: mdurl~=0.1 in /usr/local/lib/python3.7/dist-packages (from markdown-it-py[linkify,plugins]->gradio) (0.1.2)\n",
            "Requirement already satisfied: linkify-it-py~=1.0 in /usr/local/lib/python3.7/dist-packages (from markdown-it-py[linkify,plugins]->gradio) (1.0.3)\n",
            "Requirement already satisfied: mdit-py-plugins in /usr/local/lib/python3.7/dist-packages (from markdown-it-py[linkify,plugins]->gradio) (0.3.0)\n",
            "Requirement already satisfied: uc-micro-py in /usr/local/lib/python3.7/dist-packages (from linkify-it-py~=1.0->markdown-it-py[linkify,plugins]->gradio) (1.0.1)\n",
            "Requirement already satisfied: pyparsing!=2.0.4,!=2.1.2,!=2.1.6,>=2.0.1 in /usr/local/lib/python3.7/dist-packages (from matplotlib->gradio) (3.0.9)\n",
            "Requirement already satisfied: cycler>=0.10 in /usr/local/lib/python3.7/dist-packages (from matplotlib->gradio) (0.11.0)\n",
            "Requirement already satisfied: kiwisolver>=1.0.1 in /usr/local/lib/python3.7/dist-packages (from matplotlib->gradio) (1.4.4)\n",
            "Requirement already satisfied: pytz>=2017.3 in /usr/local/lib/python3.7/dist-packages (from pandas->gradio) (2022.2.1)\n",
            "Requirement already satisfied: cryptography>=2.5 in /usr/local/lib/python3.7/dist-packages (from paramiko->gradio) (37.0.4)\n",
            "Requirement already satisfied: bcrypt>=3.1.3 in /usr/local/lib/python3.7/dist-packages (from paramiko->gradio) (3.2.2)\n",
            "Requirement already satisfied: pynacl>=1.0.1 in /usr/local/lib/python3.7/dist-packages (from paramiko->gradio) (1.5.0)\n",
            "Requirement already satisfied: cffi>=1.1 in /usr/local/lib/python3.7/dist-packages (from bcrypt>=3.1.3->paramiko->gradio) (1.15.1)\n",
            "Requirement already satisfied: pycparser in /usr/local/lib/python3.7/dist-packages (from cffi>=1.1->bcrypt>=3.1.3->paramiko->gradio) (2.21)\n",
            "Requirement already satisfied: click>=7.0 in /usr/local/lib/python3.7/dist-packages (from uvicorn->gradio) (7.1.2)\n"
          ]
        }
      ]
    },
    {
      "cell_type": "code",
      "source": [
        "import requests\n",
        "import json\n",
        "import gradio as gr\n",
        "\n",
        "def moedict(word):\n",
        "  reStr = ''\n",
        "  url = 'https://www.moedict.tw/uni/' + word\n",
        "  r = requests.get(url)\n",
        "  datas = json.loads(r.text)\n",
        "\n",
        "  reStr += '【'+ datas['title'] + '】\\n'\n",
        "  if 'radical' in (datas['heteronyms']):\n",
        "    reStr += '部首：{}，筆畫：{}'.format(datas['radical'], datas['stroke_count']) + '\\n'\n",
        "  for i in range(len(datas['heteronyms'])):\n",
        "    reStr += '注音：{}，羅馬拼音：{}，漢語拼音：{}'.format(\n",
        "        datas['heteronyms'][i]['bopomofo'].replace('（語音）',''),\n",
        "        datas['heteronyms'][i]['bopomofo2'].replace('（語音）',''),\n",
        "        datas['heteronyms'][i]['pinyin'].replace('（語音）','')) + '\\n'\n",
        "    reStr += '----------------------------------------\\n'\n",
        "    for j in range(len(datas['heteronyms'][i]['definitions'])):\n",
        "      reStr += '解釋：{}'.format(datas['heteronyms'][i]['definitions'][j]['def']) + '\\n'\n",
        "      if 'quote' in (datas['heteronyms'][i]['definitions'][j]):\n",
        "        reStr += '引用：{}'.format(' | '.join(datas['heteronyms'][i]['definitions'][j]['quote'])) + '\\n'\n",
        "      if 'example' in (datas['heteronyms'][i]['definitions'][j]):\n",
        "        reStr += '範例：{}'.format(' | '.join(datas['heteronyms'][i]['definitions'][j]['example'])) + '\\n'\n",
        "      if 'link' in (datas['heteronyms'][i]['definitions'][j]):\n",
        "        reStr += '連結：{}'.format(' | '.join(datas['heteronyms'][i]['definitions'][j]['link'])) + '\\n'\n",
        "      if 'type' in (datas['heteronyms'][i]['definitions'][j]):\n",
        "        reStr += '詞性：<{}詞>'.format(datas['heteronyms'][i]['definitions'][j]['type']) + '\\n'\n",
        "      if j < len(datas['heteronyms'][i]['definitions'])-1:\n",
        "        reStr += '----------------------------------------\\n' \n",
        "    if i < len(datas['heteronyms'])-1:\n",
        "      reStr += '========================================\\n'\n",
        "  return reStr\n",
        "\n",
        "grobj = gr.Interface(fn=moedict,\n",
        "             inputs=gr.inputs.Textbox(),\n",
        "             outputs=gr.outputs.Textbox())\n",
        "grobj.launch()"
      ],
      "metadata": {
        "colab": {
          "base_uri": "https://localhost:8080/",
          "height": 837
        },
        "id": "MN4PEtK-FawI",
        "outputId": "5db9d896-75d6-4bac-8f3a-809d15ee1ab3"
      },
      "execution_count": 10,
      "outputs": [
        {
          "output_type": "stream",
          "name": "stderr",
          "text": [
            "/usr/local/lib/python3.7/dist-packages/gradio/inputs.py:27: UserWarning: Usage of gradio.inputs is deprecated, and will not be supported in the future, please import your component from gradio.components\n",
            "  \"Usage of gradio.inputs is deprecated, and will not be supported in the future, please import your component from gradio.components\",\n",
            "/usr/local/lib/python3.7/dist-packages/gradio/deprecation.py:40: UserWarning: `optional` parameter is deprecated, and it has no effect\n",
            "  warnings.warn(value)\n",
            "/usr/local/lib/python3.7/dist-packages/gradio/deprecation.py:40: UserWarning: `numeric` parameter is deprecated, and it has no effect\n",
            "  warnings.warn(value)\n",
            "/usr/local/lib/python3.7/dist-packages/gradio/deprecation.py:40: UserWarning: The 'type' parameter has been deprecated. Use the Number component instead.\n",
            "  warnings.warn(value)\n",
            "/usr/local/lib/python3.7/dist-packages/gradio/outputs.py:22: UserWarning: Usage of gradio.outputs is deprecated, and will not be supported in the future, please import your components from gradio.components\n",
            "  \"Usage of gradio.outputs is deprecated, and will not be supported in the future, please import your components from gradio.components\",\n"
          ]
        },
        {
          "output_type": "stream",
          "name": "stdout",
          "text": [
            "Colab notebook detected. To show errors in colab notebook, set `debug=True` in `launch()`\n",
            "Running on public URL: https://26512.gradio.app\n",
            "\n",
            "This share link expires in 72 hours. For free permanent hosting, check out Spaces: https://huggingface.co/spaces\n"
          ]
        },
        {
          "output_type": "display_data",
          "data": {
            "text/plain": [
              "<IPython.core.display.HTML object>"
            ],
            "text/html": [
              "<div><iframe src=\"https://26512.gradio.app\" width=\"900\" height=\"500\" allow=\"autoplay; camera; microphone;\" frameborder=\"0\" allowfullscreen></iframe></div>"
            ]
          },
          "metadata": {}
        },
        {
          "output_type": "execute_result",
          "data": {
            "text/plain": [
              "(<gradio.routes.App at 0x7f630db0c5d0>,\n",
              " 'http://127.0.0.1:7861/',\n",
              " 'https://26512.gradio.app')"
            ]
          },
          "metadata": {},
          "execution_count": 10
        }
      ]
    }
  ]
}