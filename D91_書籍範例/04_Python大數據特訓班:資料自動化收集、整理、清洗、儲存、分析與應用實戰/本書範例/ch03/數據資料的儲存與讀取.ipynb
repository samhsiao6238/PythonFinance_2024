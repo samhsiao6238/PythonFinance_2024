{
  "nbformat": 4,
  "nbformat_minor": 0,
  "metadata": {
    "colab": {
      "name": "數據資料的儲存與讀取.ipynb",
      "provenance": [],
      "collapsed_sections": []
    },
    "kernelspec": {
      "name": "python3",
      "display_name": "Python 3"
    },
    "language_info": {
      "name": "python"
    }
  },
  "cells": [
    {
      "cell_type": "markdown",
      "source": [
        "# 檔案的讀寫"
      ],
      "metadata": {
        "id": "21qpRkQT_GHa"
      }
    },
    {
      "cell_type": "markdown",
      "source": [
        "## 檔案的寫入"
      ],
      "metadata": {
        "id": "xRAs9MIB_I4S"
      }
    },
    {
      "cell_type": "code",
      "execution_count": 1,
      "metadata": {
        "id": "vSsy72z_9EwJ"
      },
      "outputs": [],
      "source": [
        "content='''Hello Python\n",
        "中文字測試\n",
        "Welcome'''\n",
        "f=open('file1.txt', 'w' ,encoding='utf-8')\n",
        "f.write(content)\n",
        "f.close()"
      ]
    },
    {
      "cell_type": "markdown",
      "source": [
        "## 使用with敘述開啟檔案"
      ],
      "metadata": {
        "id": "NnPdgbKNCP06"
      }
    },
    {
      "cell_type": "code",
      "source": [
        "content='''Hello Python\n",
        "中文字測試\n",
        "Welcome'''\n",
        "with open('file1.txt', 'w' ,encoding='utf-8') as f:\n",
        "  f.write(content)"
      ],
      "metadata": {
        "id": "LKtbkPQSCTbi"
      },
      "execution_count": 2,
      "outputs": []
    },
    {
      "cell_type": "markdown",
      "source": [
        "## read()"
      ],
      "metadata": {
        "id": "iPdPViIfFUAK"
      }
    },
    {
      "cell_type": "code",
      "source": [
        "with open('file1.txt', 'r', encoding='utf-8') as f:\n",
        "  output_str=f.read(5)\n",
        "  print(output_str)   # Hello"
      ],
      "metadata": {
        "colab": {
          "base_uri": "https://localhost:8080/"
        },
        "id": "MG0tmErGFhkp",
        "outputId": "53223551-a0b5-4ace-829a-b2891e853662"
      },
      "execution_count": 3,
      "outputs": [
        {
          "output_type": "stream",
          "name": "stdout",
          "text": [
            "Hello\n"
          ]
        }
      ]
    },
    {
      "cell_type": "markdown",
      "source": [
        "## readline()"
      ],
      "metadata": {
        "id": "C_O70M4EGKb5"
      }
    },
    {
      "cell_type": "code",
      "source": [
        "with open('file1.txt', 'r', encoding ='UTF-8') as f:\n",
        "  print(f.readline())\n",
        "  print(f.readline(3))"
      ],
      "metadata": {
        "colab": {
          "base_uri": "https://localhost:8080/"
        },
        "id": "ZS_VsVtmGWf6",
        "outputId": "bc9e9228-b940-4e0e-ac44-c77aa9e892eb"
      },
      "execution_count": null,
      "outputs": [
        {
          "output_type": "stream",
          "name": "stdout",
          "text": [
            "Hello Python\n",
            "\n",
            "中文字\n"
          ]
        }
      ]
    },
    {
      "cell_type": "markdown",
      "source": [
        "## readlines()"
      ],
      "metadata": {
        "id": "cwTE0GMsGXox"
      }
    },
    {
      "cell_type": "code",
      "source": [
        "with open('file1.txt', 'r', encoding='utf-8') as f:\n",
        "  content=f.readlines()\n",
        "  print(type(content))\n",
        "  print(content)"
      ],
      "metadata": {
        "colab": {
          "base_uri": "https://localhost:8080/"
        },
        "id": "20i6g7o4GaCp",
        "outputId": "82596e1a-5c7f-4069-9fa4-62f795761cd8"
      },
      "execution_count": 4,
      "outputs": [
        {
          "output_type": "stream",
          "name": "stdout",
          "text": [
            "<class 'list'>\n",
            "['Hello Python\\n', '中文字測試\\n', 'Welcome']\n"
          ]
        }
      ]
    },
    {
      "cell_type": "markdown",
      "source": [
        "## BOM 的處理"
      ],
      "metadata": {
        "id": "usuKbTVxJZTC"
      }
    },
    {
      "cell_type": "code",
      "source": [
        "with open('file2.txt', 'r', encoding ='UTF-8') as f:\n",
        "  print(f.readlines())"
      ],
      "metadata": {
        "colab": {
          "base_uri": "https://localhost:8080/"
        },
        "id": "MxLT4DnHJbAZ",
        "outputId": "74703e10-9143-43a6-f000-d040a4e6b230"
      },
      "execution_count": 5,
      "outputs": [
        {
          "output_type": "stream",
          "name": "stdout",
          "text": [
            "['\\ufeff123中文字\\n', 'abcde\\n', 'hello\\n']\n"
          ]
        }
      ]
    },
    {
      "cell_type": "markdown",
      "source": [
        "## 開啟含有BOM的檔案"
      ],
      "metadata": {
        "id": "13ZDa7CsNIkA"
      }
    },
    {
      "cell_type": "code",
      "source": [
        "with open('file2.txt', 'r', encoding ='UTF-8-sig') as f:\n",
        "  print(f.readlines())"
      ],
      "metadata": {
        "colab": {
          "base_uri": "https://localhost:8080/"
        },
        "id": "e102TYnRKJyR",
        "outputId": "7c52ada5-caae-49d4-de13-fb611531b36c"
      },
      "execution_count": 6,
      "outputs": [
        {
          "output_type": "stream",
          "name": "stdout",
          "text": [
            "['123中文字\\n', 'abcde\\n', 'hello\\n']\n"
          ]
        }
      ]
    },
    {
      "cell_type": "markdown",
      "source": [
        "# csv 資料的儲存與讀取\n"
      ],
      "metadata": {
        "id": "QOArsDJgRbKx"
      }
    },
    {
      "cell_type": "markdown",
      "source": [
        "## 將一維串列資料寫入csv檔案"
      ],
      "metadata": {
        "id": "p-hylj1vT9Vw"
      }
    },
    {
      "cell_type": "code",
      "source": [
        "import csv\n",
        "# 開啟輸出的 csv 檔案\n",
        "with open('test1.csv', 'w', newline='') as csvfile:\n",
        "  # 建立 csv 檔寫入物件\n",
        "  writer = csv.writer(csvfile)\n",
        "\n",
        "  # 寫入欄位名稱\n",
        "  writer.writerow(['姓名', '身高', '體重'])\n",
        "  # 寫入資料\n",
        "  writer.writerow(['chiou', 170, 65])\n",
        "  writer.writerow(['David', 183, 78])"
      ],
      "metadata": {
        "id": "aXJRQt6lT_P4"
      },
      "execution_count": 7,
      "outputs": []
    },
    {
      "cell_type": "markdown",
      "source": [
        "## 將二維串列資料寫入csv檔案"
      ],
      "metadata": {
        "id": "1DOa3wykT-iQ"
      }
    },
    {
      "cell_type": "code",
      "source": [
        "import csv\n",
        "# 建立csv二維串列資料\n",
        "csvtable = [\n",
        "  ['姓名', '身高', '體重'],\n",
        "  ['Chiou', 170, 65],\n",
        "  ['David', 183, 78],\n",
        "]\n",
        "# 開啟輸出的 csv 檔案\n",
        "with open('test2.csv', 'w', newline='') as csvfile:\n",
        "  # 建立 csv 檔寫入物件\n",
        "  writer = csv.writer(csvfile)\n",
        "\n",
        "  # 寫入二維串列資料\n",
        "  writer.writerows(csvtable)"
      ],
      "metadata": {
        "id": "p9EytMeJUalo"
      },
      "execution_count": 8,
      "outputs": []
    },
    {
      "cell_type": "markdown",
      "source": [
        "## 將字典資料寫入csv檔案"
      ],
      "metadata": {
        "id": "fA3uKRJLUjEI"
      }
    },
    {
      "cell_type": "code",
      "source": [
        "import csv\n",
        "with open('test.csv', 'w', newline='') as csvfile:\n",
        "  # 定義欄位\n",
        "  fieldnames = ['姓名', '身高', '體重']\n",
        "\n",
        "  # 將 dictionary 寫入 csv 檔\n",
        "  writer = csv.DictWriter(csvfile, fieldnames=fieldnames)\n",
        "\n",
        "  # 寫入欄位名稱\n",
        "  writer.writeheader()\n",
        "  # 寫入資料\n",
        "  writer.writerow({'姓名': 'chiou', '身高': 170, '體重': 65})\n",
        "  writer.writerow({'姓名': 'David', '身高': 183, '體重': 78})"
      ],
      "metadata": {
        "id": "kBFoTflnUlrg"
      },
      "execution_count": 9,
      "outputs": []
    },
    {
      "cell_type": "markdown",
      "source": [
        "## 讀取 csv 檔案為串列資料"
      ],
      "metadata": {
        "id": "Kf1BncZaReLI"
      }
    },
    {
      "cell_type": "code",
      "source": [
        "import csv\n",
        "# 開啟 csv 檔案\n",
        "with open('test1.csv', newline='') as csvfile:\n",
        "  # 讀取 csv 檔案內容\n",
        "  rows = csv.reader(csvfile)\n",
        "  # 以迴圈顯示每一列\n",
        "  for row in rows:\n",
        "    print(row)"
      ],
      "metadata": {
        "colab": {
          "base_uri": "https://localhost:8080/"
        },
        "id": "XlgPFahbRs_h",
        "outputId": "d759b690-5fb4-4588-d0bf-47488252c663"
      },
      "execution_count": 10,
      "outputs": [
        {
          "output_type": "stream",
          "name": "stdout",
          "text": [
            "['姓名', '身高', '體重']\n",
            "['chiou', '170', '65']\n",
            "['David', '183', '78']\n"
          ]
        }
      ]
    },
    {
      "cell_type": "markdown",
      "source": [
        "## 讀取 csv 檔案為字典資料"
      ],
      "metadata": {
        "id": "J6nrqB4sRlTw"
      }
    },
    {
      "cell_type": "code",
      "source": [
        "import csv\n",
        "# 開啟 csv 檔案\n",
        "with open('test1.csv', newline='') as csvfile:\n",
        "  # 讀取 csv 檔內容，將每一列轉成 dictionary\n",
        "  rows = csv.DictReader(csvfile)    \n",
        "  # 以迴圈顯示每一列\n",
        "  for row in rows:\n",
        "    print(row['姓名'],row['身高'],row['體重'])"
      ],
      "metadata": {
        "colab": {
          "base_uri": "https://localhost:8080/"
        },
        "id": "QIKWZi5FRte4",
        "outputId": "121c0560-79db-4cb3-e3ad-7b50498a44d9"
      },
      "execution_count": 11,
      "outputs": [
        {
          "output_type": "stream",
          "name": "stdout",
          "text": [
            "chiou 170 65\n",
            "David 183 78\n"
          ]
        }
      ]
    },
    {
      "cell_type": "markdown",
      "source": [
        "# json 資料的儲存與讀取"
      ],
      "metadata": {
        "id": "kMSQfZN5UYQp"
      }
    },
    {
      "cell_type": "markdown",
      "source": [
        "## loads讀取json字串"
      ],
      "metadata": {
        "id": "gJHVW7VpUbQ_"
      }
    },
    {
      "cell_type": "code",
      "source": [
        "import json\n",
        "class_str = \"\"\"\n",
        "{\n",
        "  \"一年甲班\": [\n",
        "    {\n",
        "      \"座號\": 1,\n",
        "      \"姓名\": \"葉大雄\",\n",
        "      \"國文\": 65,\n",
        "      \"英文\": 62,\n",
        "      \"數學\": 40\n",
        "    },\n",
        "    {\n",
        "      \"座號\": 2,\n",
        "      \"姓名\": \"陳靜香\",\n",
        "      \"國文\": 85,\n",
        "      \"英文\": 90,\n",
        "      \"數學\": 87\n",
        "    },\n",
        "    {\n",
        "      \"座號\": 3,\n",
        "      \"姓名\": \"王聰明\",\n",
        "      \"國文\": 92,\n",
        "      \"英文\": 90,\n",
        "      \"數學\": 95\n",
        "    }\n",
        "  ]\n",
        "}\n",
        "\"\"\"\n",
        "datas = json.loads(class_str)\n",
        "print(type(datas))\n",
        "for data in datas[\"一年甲班\"]:\n",
        "  print(data, data['姓名'])"
      ],
      "metadata": {
        "colab": {
          "base_uri": "https://localhost:8080/"
        },
        "id": "X9Y70uZtUg-O",
        "outputId": "60ea7bac-72d2-4fcb-c7cd-ac04a7eb7f2e"
      },
      "execution_count": 12,
      "outputs": [
        {
          "output_type": "stream",
          "name": "stdout",
          "text": [
            "<class 'dict'>\n",
            "{'座號': 1, '姓名': '葉大雄', '國文': 65, '英文': 62, '數學': 40} 葉大雄\n",
            "{'座號': 2, '姓名': '陳靜香', '國文': 85, '英文': 90, '數學': 87} 陳靜香\n",
            "{'座號': 3, '姓名': '王聰明', '國文': 92, '英文': 90, '數學': 95} 王聰明\n"
          ]
        }
      ]
    },
    {
      "cell_type": "markdown",
      "source": [
        "## load讀取json檔案\n"
      ],
      "metadata": {
        "id": "_Rpy91ZWUhT5"
      }
    },
    {
      "cell_type": "code",
      "source": [
        "import json\n",
        "with open('class_str.json', 'r', encoding='utf-8') as f:\n",
        "  datas = json.load(f)\n",
        "  print(type(datas))\n",
        "  for data in datas[\"一年甲班\"]:\n",
        "    print(data, data['姓名'])"
      ],
      "metadata": {
        "colab": {
          "base_uri": "https://localhost:8080/"
        },
        "id": "4tpEgBjmU0oW",
        "outputId": "ff2d656e-4d76-44ed-a2c7-078b72bf46bb"
      },
      "execution_count": null,
      "outputs": [
        {
          "output_type": "stream",
          "name": "stdout",
          "text": [
            "<class 'dict'>\n",
            "{'座號': 1, '姓名': '葉大雄', '國文': 65, '英文': 62, '數學': 40} 葉大雄\n",
            "{'座號': 2, '姓名': '陳靜香', '國文': 85, '英文': 90, '數學': 87} 陳靜香\n",
            "{'座號': 3, '姓名': '王聰明', '國文': 92, '英文': 90, '數學': 95} 王聰明\n"
          ]
        }
      ]
    },
    {
      "cell_type": "markdown",
      "source": [
        "## dumps輸出json字串"
      ],
      "metadata": {
        "id": "vshG4em_VBcB"
      }
    },
    {
      "cell_type": "code",
      "source": [
        "import json\n",
        "with open('class_str.json', 'r', encoding='utf-8') as f:\n",
        "  datas = json.load(f)\n",
        "print(datas, type(datas))\n",
        "dumpdata = json.dumps(datas, ensure_ascii=False)\n",
        "print(dumpdata, type(dumpdata))"
      ],
      "metadata": {
        "colab": {
          "base_uri": "https://localhost:8080/"
        },
        "id": "o2LO3nmeUhmQ",
        "outputId": "564a475b-10c0-4f3c-9bae-65af2f1f2de0"
      },
      "execution_count": 14,
      "outputs": [
        {
          "output_type": "stream",
          "name": "stdout",
          "text": [
            "{'一年甲班': [{'座號': 1, '姓名': '葉大雄', '國文': 65, '英文': 62, '數學': 40}, {'座號': 2, '姓名': '陳靜香', '國文': 85, '英文': 90, '數學': 87}, {'座號': 3, '姓名': '王聰明', '國文': 92, '英文': 90, '數學': 95}]} <class 'dict'>\n",
            "{\"一年甲班\": [{\"座號\": 1, \"姓名\": \"葉大雄\", \"國文\": 65, \"英文\": 62, \"數學\": 40}, {\"座號\": 2, \"姓名\": \"陳靜香\", \"國文\": 85, \"英文\": 90, \"數學\": 87}, {\"座號\": 3, \"姓名\": \"王聰明\", \"國文\": 92, \"英文\": 90, \"數學\": 95}]} <class 'str'>\n"
          ]
        }
      ]
    },
    {
      "cell_type": "markdown",
      "source": [
        "## dump輸出json檔案"
      ],
      "metadata": {
        "id": "llpdaQk8VFzB"
      }
    },
    {
      "cell_type": "code",
      "source": [
        "import json\n",
        "with open('class_str.json', 'r', encoding='utf-8') as f:\n",
        "  datas = json.load(f)\n",
        "with open('new_class_str.json', 'w', encoding='utf-8') as f:\n",
        "  json.dump(datas, f, ensure_ascii=False)"
      ],
      "metadata": {
        "id": "skUn04IiVGEB"
      },
      "execution_count": 15,
      "outputs": []
    },
    {
      "cell_type": "markdown",
      "source": [
        "# Excel 資料儲存與讀取"
      ],
      "metadata": {
        "id": "gc9sYiTOBck0"
      }
    },
    {
      "cell_type": "markdown",
      "source": [
        "## 用openpyxl模組儲存xlsx檔"
      ],
      "metadata": {
        "id": "vuCUsPn4BgGr"
      }
    },
    {
      "cell_type": "code",
      "source": [
        "import openpyxl   \n",
        "# 建立一個工作簿     \n",
        "workbook=openpyxl.Workbook()   \n",
        "# 取得第 1 個工作表\n",
        "sheet = workbook.worksheets[0]\n",
        "# 以儲存格位置寫入資料\n",
        "sheet['A1'] = '一年甲班'\n",
        "# 以串列寫入資料\n",
        "listtitle=['座號', '姓名', '國文', '英文', '數學']\n",
        "sheet.append(listtitle)  \n",
        "listdatas=[[1, '葉大雄', 65, 62, 40],\n",
        "           [2, '陳靜香', 85, 90, 87],\n",
        "           [3, '王聰明', 92, 90, 95]]\n",
        "for listdata in listdatas:\n",
        "    sheet.append(listdata)\n",
        "# 儲存檔案    \n",
        "workbook.save('test.xlsx')"
      ],
      "metadata": {
        "id": "sQZau_IGBgkb"
      },
      "execution_count": 16,
      "outputs": []
    },
    {
      "cell_type": "markdown",
      "source": [
        "## 用openpyxl模組讀取xlsx檔"
      ],
      "metadata": {
        "id": "IfUvKkGEBg3z"
      }
    },
    {
      "cell_type": "code",
      "source": [
        "import openpyxl\n",
        "#  讀取檔案\n",
        "workbook = openpyxl.load_workbook('test.xlsx')\n",
        "# 取得第 1 個工作表\n",
        "sheet = workbook.worksheets[0]\n",
        "# 取得指定儲存格\n",
        "print(sheet['A1'], sheet['A1'].value)\n",
        "# 取得總行、列數\n",
        "print(sheet.max_row, sheet.max_column)\n",
        "# 顯示 cell資料\n",
        "for i in range(1, sheet.max_row+1):\n",
        "    for j in range(1, sheet.max_column+1):\n",
        "        print(sheet.cell(row=i, column=j).value,end=\"   \")\n",
        "    print()\n",
        "sheet['A1'] = '二年甲班' \n",
        "workbook.save('test.xlsx')    "
      ],
      "metadata": {
        "colab": {
          "base_uri": "https://localhost:8080/"
        },
        "id": "WqDLfhFBBhG7",
        "outputId": "f7b18043-8ac2-49ad-b5eb-13fcb517d3e0"
      },
      "execution_count": 17,
      "outputs": [
        {
          "output_type": "stream",
          "name": "stdout",
          "text": [
            "<Cell 'Sheet'.A1> 一年甲班\n",
            "5 5\n",
            "一年甲班   None   None   None   None   \n",
            "座號   姓名   國文   英文   數學   \n",
            "1   葉大雄   65   62   40   \n",
            "2   陳靜香   85   90   87   \n",
            "3   王聰明   92   90   95   \n"
          ]
        }
      ]
    },
    {
      "cell_type": "markdown",
      "source": [
        "# SQLite 資料庫的操作"
      ],
      "metadata": {
        "id": "BZaBg59aQkNS"
      }
    },
    {
      "cell_type": "markdown",
      "source": [
        "## 使用 cursor 物件操作資料庫"
      ],
      "metadata": {
        "id": "ijkezojBQlYB"
      }
    },
    {
      "cell_type": "code",
      "source": [
        "import sqlite3\n",
        "conn = sqlite3.connect('school.db') # 建立資料庫連線\n",
        "cursor = conn.cursor() # 建立 cursor 物件\n",
        "# 建立一個資料表\n",
        "sqlstr='''CREATE TABLE IF NOT EXISTS scores \\\n",
        "(\"id\"  INTEGER PRIMARY KEY NOT NULL,\n",
        " \"name\"  TEXT NOT NULL,\n",
        " \"chinese\"  INTEGER NOT NULL,\n",
        " \"english\"  INTEGER NOT NULL,\n",
        " \"math\"  INTEGER NOT NULL\n",
        " )\n",
        "'''\n",
        "cursor.execute(sqlstr)\n",
        "\n",
        "# 新增記錄\n",
        "cursor.execute('insert into scores values(1, \"葉大雄\", 65, 62, 40)')\n",
        "cursor.execute('insert into scores values(2, \"陳靜香\", 85, 90, 87)')\n",
        "cursor.execute('insert into scores values(3, \"王聰明\", 92, 90, 95)')\n",
        "conn.commit() # 更新\n",
        "conn.close()  # 關閉資料庫連線"
      ],
      "metadata": {
        "id": "yUwh8Ug_QlkS"
      },
      "execution_count": 18,
      "outputs": []
    },
    {
      "cell_type": "markdown",
      "source": [
        "## 新增資料表"
      ],
      "metadata": {
        "id": "oXx_EJ0FQls5"
      }
    },
    {
      "cell_type": "code",
      "source": [
        "import sqlite3\n",
        "conn = sqlite3.connect('school.db') # 建立資料庫連線\n",
        "# 建立一個資料表\n",
        "sqlstr='''CREATE TABLE IF NOT EXISTS scores2 \\\n",
        "(\"id\"  INTEGER PRIMARY KEY NOT NULL,\n",
        " \"name\"  TEXT NOT NULL,\n",
        " \"chinese\"  INTEGER NOT NULL,\n",
        " \"english\"  INTEGER NOT NULL,\n",
        " \"math\"  INTEGER NOT NULL\n",
        " )\n",
        "'''\n",
        "conn.execute(sqlstr)\n",
        "conn.commit() # 更新\n",
        "conn.close()  # 關閉資料庫連線"
      ],
      "metadata": {
        "id": "MNHAmOogQl0S"
      },
      "execution_count": 19,
      "outputs": []
    },
    {
      "cell_type": "markdown",
      "source": [
        "## 新增資料"
      ],
      "metadata": {
        "id": "1zPKvbtAYiAv"
      }
    },
    {
      "cell_type": "code",
      "source": [
        "import sqlite3\n",
        "conn = sqlite3.connect('school.db') # 建立資料庫連線\n",
        "# 定義資料串列\n",
        "datas = [[1,'葉大雄',65,62,40],\n",
        "        [2,'陳靜香',85,90,87],\n",
        "        [3,'王聰明',92,90,95]]\n",
        "\n",
        "# 新增資料\n",
        "for data in datas:\n",
        "  conn.execute(\"INSERT INTO scores2 (id, name, chinese, english,\\\n",
        "   math) VALUES ({}, '{}', {}, {}, {})\".format(data[0], \\\n",
        "   data[1], data[2], data[3], data[4]))\n",
        "conn.commit() # 更新\n",
        "conn.close()  # 關閉資料庫連線"
      ],
      "metadata": {
        "id": "7G7TUnC0YiMB"
      },
      "execution_count": 20,
      "outputs": []
    },
    {
      "cell_type": "markdown",
      "source": [
        "## 更新資料"
      ],
      "metadata": {
        "id": "XSrQ8QbFYnrJ"
      }
    },
    {
      "cell_type": "code",
      "source": [
        "import sqlite3\n",
        "conn = sqlite3.connect('school.db') # 建立資料庫連線\n",
        "# 更新資料\n",
        "conn.execute(\"UPDATE scores2 SET name='{}' WHERE id={}\".format\n",
        "('林胖虎', 1))\n",
        "conn.commit() # 更新\n",
        "conn.close()  # 關閉資料庫連線"
      ],
      "metadata": {
        "id": "WYw8d5RCYnyD"
      },
      "execution_count": 21,
      "outputs": []
    },
    {
      "cell_type": "markdown",
      "source": [
        "## 刪除資料"
      ],
      "metadata": {
        "id": "nO5Fk4wrYxjB"
      }
    },
    {
      "cell_type": "code",
      "source": [
        "import sqlite3\n",
        "conn = sqlite3.connect('school.db') # 建立資料庫連線\n",
        "# 刪除資料\n",
        "conn.execute(\"DELETE FROM scores2 WHERE id={}\".format(1))\n",
        "conn.commit() # 更新\n",
        "conn.close()  # 關閉資料庫連線\t"
      ],
      "metadata": {
        "id": "ltuLv7N4Yxpx"
      },
      "execution_count": 22,
      "outputs": []
    },
    {
      "cell_type": "markdown",
      "source": [
        "## 刪除資料表"
      ],
      "metadata": {
        "id": "pbpNzugBoBkN"
      }
    },
    {
      "cell_type": "code",
      "source": [
        "conn = sqlite3.connect('school.db') # 建立資料庫連線\n",
        "conn.execute(\"DROP TABLE scores2\")\n",
        "conn.close()  # 關閉資料庫連線"
      ],
      "metadata": {
        "id": "mvM8ZGLRoGal"
      },
      "execution_count": 23,
      "outputs": []
    },
    {
      "cell_type": "markdown",
      "source": [
        "## 顯示scores資料表所有的資料"
      ],
      "metadata": {
        "id": "z2ql3ZSYZGB5"
      }
    },
    {
      "cell_type": "code",
      "source": [
        "import sqlite3\n",
        "conn = sqlite3.connect('school.db') # 建立資料庫連線\n",
        "cursor = conn.execute('select * from scores')\n",
        "rows = cursor.fetchall()\n",
        "# 顯示原始資料\n",
        "print(rows)\n",
        "# 逐筆顯示資料\n",
        "for row in rows:\n",
        "  print(row[0],row[1])\n",
        "conn.close()  # 關閉資料庫連線"
      ],
      "metadata": {
        "colab": {
          "base_uri": "https://localhost:8080/"
        },
        "id": "XzZSuN4fZGLC",
        "outputId": "fd87f2ee-547d-432b-c4d9-2e3a2ea00c09"
      },
      "execution_count": 24,
      "outputs": [
        {
          "output_type": "stream",
          "name": "stdout",
          "text": [
            "[(1, '葉大雄', 65, 62, 40), (2, '陳靜香', 85, 90, 87), (3, '王聰明', 92, 90, 95)]\n",
            "1 葉大雄\n",
            "2 陳靜香\n",
            "3 王聰明\n"
          ]
        }
      ]
    },
    {
      "cell_type": "markdown",
      "source": [
        "## 顯示scores資料表中第一筆資料"
      ],
      "metadata": {
        "id": "JsdIJtwhZGYB"
      }
    },
    {
      "cell_type": "code",
      "source": [
        "import sqlite3\n",
        "conn = sqlite3.connect('school.db') # 建立資料庫連線\n",
        "cursor = conn.execute('select * from scores')\n",
        "row = cursor.fetchone()\n",
        "print(row[0], row[1])\n",
        "conn.close()  # 關閉資料庫連線"
      ],
      "metadata": {
        "colab": {
          "base_uri": "https://localhost:8080/"
        },
        "id": "LSfxdT8tZGfx",
        "outputId": "c85f046c-6a59-400d-f75a-177389771bd0"
      },
      "execution_count": 25,
      "outputs": [
        {
          "output_type": "stream",
          "name": "stdout",
          "text": [
            "1 葉大雄\n"
          ]
        }
      ]
    },
    {
      "cell_type": "markdown",
      "source": [
        "# 連結Google試算表\n"
      ],
      "metadata": {
        "id": "q5k4gJBmgzgP"
      }
    },
    {
      "cell_type": "markdown",
      "source": [
        "## 安裝相關模組"
      ],
      "metadata": {
        "id": "K37RJStGg3ft"
      }
    },
    {
      "cell_type": "code",
      "source": [
        "!pip install gspread oauth2client"
      ],
      "metadata": {
        "id": "1ZECicdvg1HQ"
      },
      "execution_count": null,
      "outputs": []
    },
    {
      "cell_type": "markdown",
      "source": [
        "## 範例：寫入Google試算表"
      ],
      "metadata": {
        "id": "32UH67eLg9J-"
      }
    },
    {
      "cell_type": "code",
      "source": [
        "import gspread\n",
        "from oauth2client.service_account import ServiceAccountCredentials as sac\n",
        "# 設定金鑰檔路徑及驗證範圍\n",
        "auth_json = 'PythonConnectGsheet1-6a6086d149c5.json'\n",
        "gs_scopes = ['https://spreadsheets.google.com/feeds']\n",
        "# 連線資料表\n",
        "cr = sac.from_json_keyfile_name(auth_json, gs_scopes)\n",
        "gc = gspread.authorize(cr) \n",
        "# 開啟資料表\n",
        "spreadsheet_key = '您自己的key' \n",
        "sheet = gc.open_by_key(spreadsheet_key)\n",
        "# 開啟工作簿\n",
        "wks = sheet.sheet1\n",
        "# 清除所有內容\n",
        "wks.clear() \n",
        "# 新增列\n",
        "listtitle=['座號', '姓名', '國文', '英文', '數學']\n",
        "wks.append_row(listtitle)  # 標題\n",
        "listdatas=[[1, '葉大雄', 65, 62, 40],\n",
        "           [2, '陳靜香', 85, 90, 87],\n",
        "           [3, '王聰明', 92, 90, 95]]\n",
        "for listdata in listdatas:\n",
        "    wks.append_row(listdata)  # 資料內容"
      ],
      "metadata": {
        "id": "qnpCLO4ig9UW"
      },
      "execution_count": null,
      "outputs": []
    }
  ]
}