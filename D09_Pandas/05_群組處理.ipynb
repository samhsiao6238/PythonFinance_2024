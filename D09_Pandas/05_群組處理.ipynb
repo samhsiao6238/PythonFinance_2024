{
 "cells": [
  {
   "cell_type": "markdown",
   "metadata": {},
   "source": [
    "# 群組處理\n",
    "\n",
    "_在 Pandas 中，groupby、agg、transform、apply、和 filter 用於數據的分組、聚合與變換操作，以下分別說明_"
   ]
  },
  {
   "cell_type": "markdown",
   "metadata": {},
   "source": [
    "建立資料"
   ]
  },
  {
   "cell_type": "code",
   "execution_count": 4,
   "metadata": {},
   "outputs": [
    {
     "name": "stdout",
     "output_type": "stream",
     "text": [
      "            City  Employee  Salary\n",
      "0       New York      John  100000\n",
      "1  San Francisco     Daisy   70000\n",
      "2       New York      Luke   85000\n",
      "3    Los Angeles      Ryan   90000\n",
      "4  San Francisco    Jordan  120000\n",
      "5    Los Angeles     Bruce   95000\n",
      "6       New York  Samantha  110000\n",
      "7  San Francisco      Tina  115000\n"
     ]
    }
   ],
   "source": [
    "import pandas as pd\n",
    "\n",
    "# 建立數據，這是一個關於人員在不同城市的工資數據，藉此計算不同城市的平均工資\n",
    "data = {\n",
    "    'City': ['New York', 'San Francisco', 'New York', 'Los Angeles', 'San Francisco', 'Los Angeles', 'New York', 'San Francisco'],\n",
    "    'Employee': ['John', 'Daisy', 'Luke', 'Ryan', 'Jordan', 'Bruce', 'Samantha', 'Tina'],\n",
    "    'Salary': [100000, 70000, 85000, 90000, 120000, 95000, 110000, 115000]\n",
    "}\n",
    "# 展示初始數據\n",
    "print('展示初始數據：')\n",
    "df = pd.DataFrame(data)\n",
    "print(df)"
   ]
  },
  {
   "cell_type": "markdown",
   "metadata": {},
   "source": [
    "### groupby\n",
    "\n",
    "_用於將數據分組，常與聚合函數（如 sum, mean 等）結合使用來計算每個組的統計數據_"
   ]
  },
  {
   "cell_type": "code",
   "execution_count": 5,
   "metadata": {},
   "outputs": [
    {
     "name": "stdout",
     "output_type": "stream",
     "text": [
      "City\n",
      "Los Angeles       92500.000000\n",
      "New York          98333.333333\n",
      "San Francisco    101666.666667\n",
      "Name: Salary, dtype: float64\n"
     ]
    }
   ],
   "source": [
    "# 以 'City' \n",
    "grouped = df.groupby('City')\n",
    "\n",
    "# 計算分組後的平均工資\n",
    "average_salary = grouped['Salary'].mean()\n",
    "# 輸出\n",
    "print(average_salary)\n"
   ]
  },
  {
   "cell_type": "markdown",
   "metadata": {},
   "source": [
    "### agg \n",
    "\n",
    "_用於在數據分組後應用一個或多個聚合操作，可以一次性計算多個聚合統計_"
   ]
  },
  {
   "cell_type": "code",
   "execution_count": 6,
   "metadata": {},
   "outputs": [
    {
     "name": "stdout",
     "output_type": "stream",
     "text": [
      "                        mean    min     max\n",
      "City                                       \n",
      "Los Angeles     92500.000000  90000   95000\n",
      "New York        98333.333333  85000  110000\n",
      "San Francisco  101666.666667  70000  120000\n"
     ]
    }
   ],
   "source": [
    "# 使用聚合方法 agg() 進行更多的操作：平均值、最小值、最大值\n",
    "result = grouped['Salary'].agg(['mean', 'min', 'max'])\n",
    "# 輸出\n",
    "print(result)\n"
   ]
  },
  {
   "cell_type": "markdown",
   "metadata": {},
   "source": [
    "### transform\n",
    "\n",
    "_用於對分組數據進行某種變換操作，並返回與原始數據相同大小的結果_"
   ]
  },
  {
   "cell_type": "code",
   "execution_count": 7,
   "metadata": {},
   "outputs": [
    {
     "name": "stdout",
     "output_type": "stream",
     "text": [
      "            City  Employee  Salary  Standardized Salary\n",
      "0       New York      John  100000             0.132453\n",
      "1  San Francisco     Daisy   70000            -1.149932\n",
      "2       New York      Luke   85000            -1.059626\n",
      "3    Los Angeles      Ryan   90000            -0.707107\n",
      "4  San Francisco    Jordan  120000             0.665750\n",
      "5    Los Angeles     Bruce   95000             0.707107\n",
      "6       New York  Samantha  110000             0.927173\n",
      "7  San Francisco      Tina  115000             0.484182\n"
     ]
    }
   ],
   "source": [
    "# 使用 transform() 標準化工資\n",
    "# 標準化就是平均數為 0、標準差為 1 的資料集\n",
    "standardized_salary = grouped['Salary'].transform(lambda x: (x - x.mean()) / x.std())\n",
    "# 新增一個標準化的欄位\n",
    "df['Standardized Salary'] = standardized_salary\n",
    "print(df)\n"
   ]
  },
  {
   "cell_type": "markdown",
   "metadata": {},
   "source": [
    "### apply \n",
    "\n",
    "_數據分組後可以應用一個函數到每個分組上_"
   ]
  },
  {
   "cell_type": "code",
   "execution_count": 8,
   "metadata": {},
   "outputs": [
    {
     "name": "stdout",
     "output_type": "stream",
     "text": [
      "City\n",
      "Los Angeles       5000\n",
      "New York         25000\n",
      "San Francisco    50000\n",
      "Name: Salary, dtype: int64\n"
     ]
    }
   ],
   "source": [
    "# 使用 apply 計算每個城市工資的最大差異\n",
    "salary_range = df.groupby('City')['Salary'].apply(lambda x: x.max() - x.min())\n",
    "print(salary_range)\n"
   ]
  },
  {
   "cell_type": "markdown",
   "metadata": {},
   "source": [
    "### filter \n",
    "\n",
    "_使用自定義的函數來過濾數據_"
   ]
  },
  {
   "cell_type": "code",
   "execution_count": 9,
   "metadata": {},
   "outputs": [
    {
     "name": "stdout",
     "output_type": "stream",
     "text": [
      "            City  Employee  Salary  Standardized Salary\n",
      "0       New York      John  100000             0.132453\n",
      "1  San Francisco     Daisy   70000            -1.149932\n",
      "2       New York      Luke   85000            -1.059626\n",
      "4  San Francisco    Jordan  120000             0.665750\n",
      "6       New York  Samantha  110000             0.927173\n",
      "7  San Francisco      Tina  115000             0.484182\n"
     ]
    }
   ],
   "source": [
    "# 使用 filter 過濾出平均工資超過 95000 的城市\n",
    "high_salary_cities = df.groupby('City').filter(lambda x: x['Salary'].mean() > 95000)\n",
    "print(high_salary_cities)"
   ]
  }
 ],
 "metadata": {
  "kernelspec": {
   "display_name": "envST",
   "language": "python",
   "name": "python3"
  },
  "language_info": {
   "codemirror_mode": {
    "name": "ipython",
    "version": 3
   },
   "file_extension": ".py",
   "mimetype": "text/x-python",
   "name": "python",
   "nbconvert_exporter": "python",
   "pygments_lexer": "ipython3",
   "version": "3.10.11"
  }
 },
 "nbformat": 4,
 "nbformat_minor": 2
}
