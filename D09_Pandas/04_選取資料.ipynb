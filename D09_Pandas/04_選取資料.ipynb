{
 "cells": [
  {
   "cell_type": "markdown",
   "metadata": {},
   "source": [
    "### 說明\n",
    "\n",
    "1. DataFrame 是一種表格的型態，可使用 `loc` 透過 row、column 的`名稱` 來訪問成員，或使用 `iloc` 透過 `索引` 來訪問成員。\n",
    "\n",
    "2. 順利訪問成員便可以進行相關操作。"
   ]
  },
  {
   "cell_type": "markdown",
   "metadata": {},
   "source": [
    "透過 iloc 取出列與欄 _索引_ 範圍的值"
   ]
  },
  {
   "cell_type": "code",
   "execution_count": 1,
   "metadata": {},
   "outputs": [
    {
     "name": "stdout",
     "output_type": "stream",
     "text": [
      "原始資料：\n",
      "   data2  data1  data3  data4  data5\n",
      "0     13     33     11     12     31\n",
      "1     22     27      9      4     44\n",
      "2     43     65     13      3     23\n",
      "3     18     29     63     17      4\n",
      "4     66      1      5     38     51 \n",
      "\n",
      "選取範圍：列 0-3、欄 1-3：\n",
      "   data1  data3  data4\n",
      "0     33     11     12\n",
      "1     27      9      4\n",
      "2     65     13      3\n",
      "3     29     63     17\n"
     ]
    }
   ],
   "source": [
    "import pandas as pd\n",
    "\n",
    "# 建立字典\n",
    "data = {\n",
    "    'data2': [13, 22, 43, 18, 66],\n",
    "    'data1': [33, 27, 65, 29, 1],\n",
    "    'data3': [11, 9, 13, 63, 5],\n",
    "    'data4': [12, 4, 3, 17, 38],\n",
    "    'data5': [31, 44, 23, 4, 51]\n",
    "}\n",
    "\n",
    "# 轉換\n",
    "data = pd.DataFrame(data)\n",
    "print('原始資料：')\n",
    "print(data, '\\n')\n",
    "\n",
    "# 選取範圍：列 0-3、欄 1－3\n",
    "print('選取範圍：列 0-3、欄 1-3：')\n",
    "data_select = data.iloc[:4, 1:4]\n",
    "print(data_select)"
   ]
  },
  {
   "cell_type": "markdown",
   "metadata": {},
   "source": [
    "透過 loc 取出指定索引的值"
   ]
  },
  {
   "cell_type": "code",
   "execution_count": 11,
   "metadata": {},
   "outputs": [
    {
     "name": "stdout",
     "output_type": "stream",
     "text": [
      "原始資料：\n",
      "   data2  data1  data3  data4  data5\n",
      "0     13     33     11     12     31\n",
      "1     22     27      9      4     44\n",
      "2     43     65     13      3     23\n",
      "3     18     29     63     17      4\n",
      "4     66      1      5     38     51 \n",
      "\n",
      "取出每個欄位指定列索引的值：\n",
      "data2    43\n",
      "data1    65\n",
      "data3    13\n",
      "data4     3\n",
      "data5    23\n",
      "Name: 2, dtype: int64 \n",
      "\n",
      "取出每個欄位指定列索引的值並作布林判斷：\n",
      "data2     True\n",
      "data1     True\n",
      "data3    False\n",
      "data4    False\n",
      "data5     True\n",
      "Name: 2, dtype: bool\n"
     ]
    }
   ],
   "source": [
    "import pandas as pd\n",
    "\n",
    "# 建立字典\n",
    "data = {\n",
    "    'data2': [13, 22, 43, 18, 66],\n",
    "    'data1': [33, 27, 65, 29, 1],\n",
    "    'data3': [11, 9, 13, 63, 5],\n",
    "    'data4': [12, 4, 3, 17, 38],\n",
    "    'data5': [31, 44, 23, 4, 51]\n",
    "}\n",
    "\n",
    "# 轉換\n",
    "data = pd.DataFrame(data)\n",
    "print('原始資料：')\n",
    "print(data, '\\n')\n",
    "\n",
    "# 取出每個欄位指定列索引的值\n",
    "print('取出每個欄位指定列索引的值：')\n",
    "value_1 = data.loc[2]\n",
    "print(value_1, '\\n')\n",
    "\n",
    "# 取值並作判斷\n",
    "print('取出每個欄位指定列索引的值並作布林判斷：')\n",
    "value_2 = data.loc[2] > 13\n",
    "print(value_2)"
   ]
  },
  {
   "cell_type": "markdown",
   "metadata": {},
   "source": [
    "透過索引列表取值"
   ]
  },
  {
   "cell_type": "code",
   "execution_count": 13,
   "metadata": {},
   "outputs": [
    {
     "name": "stdout",
     "output_type": "stream",
     "text": [
      "原始資料：\n",
      "   data2  data1  data3  data4  data5\n",
      "0     13     33     11     12     31\n",
      "1     22     27      9      4     44\n",
      "2     43     65     13      3     23\n",
      "3     18     29     63     17      4\n",
      "4     66      1      5     38     51 \n",
      "\n",
      "透過 iloc 取出範圍索引的值：\n",
      "   data2  data1  data3  data4  data5\n",
      "0     13     33     11     12     31\n",
      "1     22     27      9      4     44\n",
      "2     43     65     13      3     23 \n",
      "\n",
      "透過傳入索引列表取值：\n",
      "   data1  data2  data5\n",
      "0     33     13     31\n",
      "2     65     43     23\n",
      "4      1     66     51\n"
     ]
    }
   ],
   "source": [
    "import pandas as pd\n",
    "\n",
    "# 建立字典\n",
    "data = {\n",
    "    'data2': [13, 22, 43, 18, 66],\n",
    "    'data1': [33, 27, 65, 29, 1],\n",
    "    'data3': [11, 9, 13, 63, 5],\n",
    "    'data4': [12, 4, 3, 17, 38],\n",
    "    'data5': [31, 44, 23, 4, 51]\n",
    "}\n",
    "\n",
    "# 轉換\n",
    "data = pd.DataFrame(data)\n",
    "print('原始資料：')\n",
    "print(data, '\\n')\n",
    "\n",
    "# 透過 iloc 取出範圍索引的值\n",
    "print('透過 iloc 取出範圍索引的值：')\n",
    "data1 = data.iloc[0:3, :]\n",
    "print(data1, '\\n')\n",
    "\n",
    "# 透過傳入索引列表取值\n",
    "print('透過傳入索引列表取值：')\n",
    "data2 = data.loc[[0, 2, 4], ['data1', 'data2', 'data5']]\n",
    "print(data2)"
   ]
  },
  {
   "cell_type": "markdown",
   "metadata": {},
   "source": [
    "# 遺漏值的判斷與處理\n",
    "\n",
    "_isnull()、isna()、dropna()_\n",
    "\n",
    "## 說明\n",
    "\n",
    "1. Null：是一個 _通用術語_，用於表示 `無值` 或 `缺失值` 的情況。\n",
    "\n",
    "2. NA：Not Available，在統計和數據分析中常見的概念，用來指定數據集中的缺失值或無法取得的值。\n",
    "\n",
    "3. NaN：在 Pandas 中用以代表 NA。\n",
    "\n",
    "4. _特別說明_，在 pandas 中的 isnull()、isna() 是 _完全相同的_ ，都在於檢測 Series 或 DataFrame 中的缺失值，然後返回布林值，並以 True 代表該位置為缺失值，其中是 isnull() 較早引入 pandas，而後來引入 isna() 是為了貼近 R 語言所使用的 is.na()，讓使用 R 語言的開發者更容易使用 Python 的 pandas。"
   ]
  },
  {
   "cell_type": "code",
   "execution_count": 3,
   "metadata": {},
   "outputs": [
    {
     "name": "stdout",
     "output_type": "stream",
     "text": [
      "       A      B\n",
      "0  False  False\n",
      "1  False   True\n",
      "2   True  False\n",
      "3  False  False \n",
      "\n",
      "       A      B\n",
      "0  False  False\n",
      "1  False   True\n",
      "2   True  False\n",
      "3  False  False\n"
     ]
    }
   ],
   "source": [
    "import pandas as pd\n",
    "\n",
    "# 建立一個包含缺失值的 DataFrame\n",
    "data = {'A': [1, 2, None, 4], 'B': ['a', None, 'c', 'd']}\n",
    "df = pd.DataFrame(data)\n",
    "\n",
    "# 使用 isnull() 和 isna() 檢查缺失值\n",
    "print(df.isnull(), '\\n')\n",
    "print(df.isna())"
   ]
  },
  {
   "cell_type": "code",
   "execution_count": 5,
   "metadata": {},
   "outputs": [
    {
     "name": "stdout",
     "output_type": "stream",
     "text": [
      "輸出原始 DataFrame：\n",
      "     A    B    C   D   E\n",
      "0  1.0  4.0  NaN  10  14\n",
      "1  2.0  5.0  7.0  11  15\n",
      "2  NaN  6.0  8.0  12  16\n",
      "3  3.0  NaN  9.0  13  17\n",
      "4  0.0  0.0  0.0   0   0 \n",
      "\n",
      "計算缺失值的「數量」:\n",
      "A    1\n",
      "B    1\n",
      "C    1\n",
      "D    0\n",
      "E    0\n",
      "dtype: int64 \n",
      "\n",
      "判斷成員是否為 NaN：\n",
      "       A      B      C      D      E\n",
      "0  False  False   True  False  False\n",
      "1  False  False  False  False  False\n",
      "2   True  False  False  False  False\n",
      "3  False   True  False  False  False\n",
      "4  False  False  False  False  False \n",
      "\n",
      "移除包含至少一個 NaN 的列：\n",
      "     A    B    C   D   E\n",
      "1  2.0  5.0  7.0  11  15\n",
      "4  0.0  0.0  0.0   0   0 \n",
      "\n",
      "移除包含至少一個 NaN 的欄：\n",
      "    D   E\n",
      "0  10  14\n",
      "1  11  15\n",
      "2  12  16\n",
      "3  13  17\n",
      "4   0   0 \n",
      "\n",
      "移除包含至少一個 NaN 的列或欄：\n",
      "     A    B    C   D   E\n",
      "1  2.0  5.0  7.0  11  15\n",
      "4  0.0  0.0  0.0   0   0 \n",
      "\n"
     ]
    }
   ],
   "source": [
    "import pandas as pd\n",
    "\n",
    "# 建立成員的值包含了 None 的 DataFrame\n",
    "df = pd.DataFrame({\n",
    "    'A': [1, 2, None,3, 0],\n",
    "    'B': [4, 5, 6, None, 0],\n",
    "    'C': [None, 7, 8, 9, 0],\n",
    "    'D': [10, 11, 12, 13, 0],\n",
    "    'E': [14, 15, 16, 17, 0]\n",
    "})\n",
    "\n",
    "# 輸出原始 DataFrame\n",
    "print('輸出原始 DataFrame：')\n",
    "print(df, '\\n')\n",
    "\n",
    "# 計算缺失值的「數量」\n",
    "print('計算缺失值的「數量」:')\n",
    "print(df.isnull().sum(), '\\n')\n",
    "# 若使用以下方式也會一樣\n",
    "# print(df.isna().sum(), '\\n')\n",
    "\n",
    "# 判斷成員是否為 NaN\n",
    "print('判斷成員是否為 NaN：')\n",
    "print(df.isna(), '\\n')\n",
    "\n",
    "# 移除包含至少一個 NaN 的列或欄\n",
    "print('移除包含至少一個 NaN 的列：')\n",
    "df_1 = df.dropna(axis=0)\n",
    "print(df_1, '\\n')\n",
    "\n",
    "# 移除包含至少一個 NaN 的列或欄\n",
    "print('移除包含至少一個 NaN 的欄：')\n",
    "df_2 = df.dropna(axis=1)\n",
    "print(df_2, '\\n')\n",
    "\n",
    "# 移除包含至少一個 NaN 的列或欄\n",
    "print('移除包含至少一個 NaN 的列或欄：')\n",
    "df_3 = df.dropna()\n",
    "print(df_3, '\\n')"
   ]
  },
  {
   "cell_type": "markdown",
   "metadata": {},
   "source": [
    "# 填補遺漏值\n",
    "\n",
    "_fillna()_"
   ]
  },
  {
   "cell_type": "code",
   "execution_count": 6,
   "metadata": {},
   "outputs": [
    {
     "name": "stdout",
     "output_type": "stream",
     "text": [
      "輸出原始 DataFrame：\n",
      "     A    B    C   D   E\n",
      "0  1.0  4.0  NaN  10  14\n",
      "1  2.0  5.0  7.0  11  15\n",
      "2  NaN  6.0  8.0  12  16\n",
      "3  3.0  NaN  9.0  13  17\n",
      "4  0.0  0.0  0.0   0   0 \n",
      "\n",
      "將遺漏值填補為 `0`：\n",
      "     A    B    C   D   E\n",
      "0  1.0  4.0  0.0  10  14\n",
      "1  2.0  5.0  7.0  11  15\n",
      "2  0.0  6.0  8.0  12  16\n",
      "3  3.0  0.0  9.0  13  17\n",
      "4  0.0  0.0  0.0   0   0 \n",
      "\n",
      "將遺漏值填補為 `平均數`：\n",
      "     A     B    C   D   E\n",
      "0  1.0  4.00  6.0  10  14\n",
      "1  2.0  5.00  7.0  11  15\n",
      "2  1.5  6.00  8.0  12  16\n",
      "3  3.0  3.75  9.0  13  17\n",
      "4  0.0  0.00  0.0   0   0 \n",
      "\n"
     ]
    }
   ],
   "source": [
    "import pandas as pd\n",
    "\n",
    "# 建立包含 None 成員的 DataFrame\n",
    "df = pd.DataFrame({\n",
    "    'A': [1, 2, None,3, 0],\n",
    "    'B': [4, 5, 6, None, 0],\n",
    "    'C': [None, 7, 8, 9, 0],\n",
    "    'D': [10, 11, 12, 13, 0],\n",
    "    'E': [14, 15, 16, 17, 0]\n",
    "})\n",
    "\n",
    "# 輸出原始 DataFrame\n",
    "print('輸出原始 DataFrame：')\n",
    "print(df, '\\n')\n",
    "\n",
    "# 將遺漏值填補為 `0`\n",
    "print('將遺漏值填補為 `0`：')\n",
    "df_0 = df.fillna(0)\n",
    "print(df_0, '\\n')\n",
    "\n",
    "# 將遺漏值填補為 `平均數`\n",
    "print('將遺漏值填補為 `平均數`：')\n",
    "df_mean = df.fillna(df.mean())\n",
    "print(df_mean, '\\n')"
   ]
  }
 ],
 "metadata": {
  "kernelspec": {
   "display_name": "envST",
   "language": "python",
   "name": "python3"
  },
  "language_info": {
   "codemirror_mode": {
    "name": "ipython",
    "version": 3
   },
   "file_extension": ".py",
   "mimetype": "text/x-python",
   "name": "python",
   "nbconvert_exporter": "python",
   "pygments_lexer": "ipython3",
   "version": "3.10.11"
  }
 },
 "nbformat": 4,
 "nbformat_minor": 2
}
