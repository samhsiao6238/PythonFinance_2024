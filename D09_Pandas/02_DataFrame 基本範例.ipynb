{
 "cells": [
  {
   "cell_type": "code",
   "execution_count": 11,
   "metadata": {},
   "outputs": [
    {
     "data": {
      "text/plain": [
       "(pandas.core.frame.DataFrame,\n",
       "   name  age\n",
       " 0    a    1\n",
       " 1    b    2\n",
       " 2    c    3\n",
       " 3    d    4\n",
       " 4    e    5)"
      ]
     },
     "execution_count": 11,
     "metadata": {},
     "output_type": "execute_result"
    }
   ],
   "source": [
    "import pandas as pd\n",
    "\n",
    "# 建立一個列表\n",
    "_list = [[\"a\", 1], [\"b\", 2], [\"c\", 3], [\"d\", 4], [\"e\", 5]]\n",
    "# 將列表轉換為 DataFrame，此時每個成員會是一個列（row）\n",
    "df = pd.DataFrame(_list, columns=[\"name\", \"age\"])\n",
    "type(df), df"
   ]
  },
  {
   "cell_type": "code",
   "execution_count": 9,
   "metadata": {},
   "outputs": [
    {
     "data": {
      "text/plain": [
       "(pandas.core.frame.DataFrame,\n",
       "    a  b  c\n",
       " 0  1  4  7\n",
       " 1  2  5  8\n",
       " 2  3  6  9)"
      ]
     },
     "execution_count": 9,
     "metadata": {},
     "output_type": "execute_result"
    }
   ],
   "source": [
    "import pandas as pd\n",
    "\n",
    "# 建立一個字典\n",
    "_list = {\"a\": [1, 2, 3], \"b\": [4, 5, 6], \"c\": [7, 8, 9]}\n",
    "# 將字典轉換為 DataFrame，此時 key 會成為欄（column）\n",
    "df = pd.DataFrame(_list)\n",
    "type(df), df"
   ]
  },
  {
   "cell_type": "code",
   "execution_count": 15,
   "metadata": {},
   "outputs": [
    {
     "data": {
      "text/plain": [
       "(pandas.core.frame.DataFrame,\n",
       "    name  age\n",
       " 0   TOM   20\n",
       " 1  ROSE   18\n",
       " 2  JACK   22)"
      ]
     },
     "execution_count": 15,
     "metadata": {},
     "output_type": "execute_result"
    }
   ],
   "source": [
    "# 建立內容是字典的列表\n",
    "import pandas as pd\n",
    "\n",
    "_list = [\n",
    "    {\"name\": \"TOM\", \"age\": 20},\n",
    "    {\"name\": \"ROSE\", \"age\": 18},\n",
    "    {\"name\": \"JACK\", \"age\": 22},\n",
    "]\n",
    "# 轉換為 DataFrame\n",
    "df = pd.DataFrame(_list)\n",
    "type(df), df"
   ]
  },
  {
   "cell_type": "code",
   "execution_count": 14,
   "metadata": {},
   "outputs": [
    {
     "data": {
      "text/plain": [
       "(pandas.core.frame.DataFrame,\n",
       "      0\n",
       " a  1.0\n",
       " b  2.0\n",
       " c  3.0\n",
       " d  4.0\n",
       " e  5.0)"
      ]
     },
     "execution_count": 14,
     "metadata": {},
     "output_type": "execute_result"
    }
   ],
   "source": [
    "import pandas as pd\n",
    "\n",
    "# 建立一個列表\n",
    "list1 = [1, 2, 3, 4, 5]\n",
    "# 將列表轉換為 Dataframe，並設置index及dtype\n",
    "df = pd.DataFrame(list1, index=[\"a\", \"b\", \"c\", \"d\", \"e\"], dtype=float)\n",
    "# 查看 df 的型態與內容\n",
    "type(df), df"
   ]
  },
  {
   "cell_type": "markdown",
   "metadata": {},
   "source": [
    "添加欄位\n"
   ]
  },
  {
   "cell_type": "code",
   "execution_count": 22,
   "metadata": {},
   "outputs": [
    {
     "name": "stdout",
     "output_type": "stream",
     "text": [
      "   第一組  第二組\n",
      "0    1    4\n",
      "1    2    5\n",
      "2    3    6 \n",
      "\n",
      "   第一組  第二組  合計\n",
      "0    1    4   5\n",
      "1    2    5   7\n",
      "2    3    6   9\n"
     ]
    }
   ],
   "source": [
    "import pandas as pd\n",
    "\n",
    "# 建立一個字典，兩組字典都是整數列表\n",
    "_dict = {\"第一組\": [1, 2, 3], \"第二組\": [4, 5, 6]}\n",
    "# 轉換為 df\n",
    "df = pd.DataFrame(_dict)\n",
    "# 先輸出查看一次\n",
    "print(df, \"\\n\")\n",
    "# 加總 df 中的欄位\n",
    "df[\"合計\"] = df[\"第一組\"] + df[\"第二組\"]\n",
    "# 再次輸出\n",
    "print(df)"
   ]
  },
  {
   "cell_type": "markdown",
   "metadata": {},
   "source": [
    "插入欄位：使用 insert 會修改資料內容\n"
   ]
  },
  {
   "cell_type": "code",
   "execution_count": 31,
   "metadata": {},
   "outputs": [
    {
     "name": "stdout",
     "output_type": "stream",
     "text": [
      "   第一組  第二組\n",
      "0    1    4\n",
      "1    2    5\n",
      "2    3    6 \n",
      "\n",
      "   第一組  第二組  合計\n",
      "0    1    4   5\n",
      "1    2    5   7\n",
      "2    3    6   9 \n",
      "\n",
      "_data = None\n"
     ]
    }
   ],
   "source": [
    "import pandas as pd\n",
    "\n",
    "# 建立一個字典，兩組字典都是整數列表\n",
    "_dict = {\"第一組\": [1, 2, 3], \"第二組\": [4, 5, 6]}\n",
    "# 轉換為 df\n",
    "df = pd.DataFrame(_dict)\n",
    "# 先輸出查看一次\n",
    "print(df, \"\\n\")\n",
    "# 使用 insert 插入「合計」欄位\n",
    "_data = df.insert(2, \"合計\", df.sum(axis=1))\n",
    "# 輸出結果\n",
    "print(df, \"\\n\")\n",
    "# 特別注意，透過 insert 並無回傳值\n",
    "print(f\"_data = {_data}\")"
   ]
  },
  {
   "cell_type": "markdown",
   "metadata": {},
   "source": [
    "透過 reindex() 排序或篩選資料\n"
   ]
  },
  {
   "cell_type": "code",
   "execution_count": 34,
   "metadata": {},
   "outputs": [
    {
     "name": "stdout",
     "output_type": "stream",
     "text": [
      "    name  age\n",
      "0    Tom   28\n",
      "1   Jack   34\n",
      "2  Steve   29\n",
      "3  Ricky   42 \n",
      "\n",
      "    name  age\n",
      "0    Tom   28\n",
      "2  Steve   29\n",
      "3  Ricky   42\n",
      "1   Jack   34 \n",
      "\n",
      "    name  age\n",
      "0    Tom   28\n",
      "2  Steve   29\n",
      "3  Ricky   42\n"
     ]
    }
   ],
   "source": [
    "import pandas as pd\n",
    "\n",
    "# 建立一個字典\n",
    "data = {\"name\": [\"Tom\", \"Jack\", \"Steve\", \"Ricky\"], \"age\": [28, 34, 29, 42]}\n",
    "# 轉換為 df\n",
    "df = pd.DataFrame(data)\n",
    "# 輸出\n",
    "print(df, \"\\n\")\n",
    "# 透過 reindex 排序\n",
    "df = df.reindex([0, 2, 3, 1])\n",
    "# 再次輸出\n",
    "print(df, \"\\n\")\n",
    "\n",
    "# 透過 reindex 進行篩選\n",
    "df = df.reindex([0, 2, 3])\n",
    "# 再次輸出\n",
    "print(df)"
   ]
  },
  {
   "cell_type": "markdown",
   "metadata": {},
   "source": [
    "刪除重複資料\n"
   ]
  },
  {
   "cell_type": "code",
   "execution_count": 36,
   "metadata": {},
   "outputs": [
    {
     "name": "stdout",
     "output_type": "stream",
     "text": [
      "   0\n",
      "0  1\n",
      "1  2\n",
      "2  3\n",
      "3  4\n",
      "9  5\n"
     ]
    }
   ],
   "source": [
    "import pandas as pd\n",
    "\n",
    "# 建立帶有重複資料的列表\n",
    "list1 = [1, 2, 3, 4, 1, 4, 3, 2, 3, 5]\n",
    "# 轉換為 df\n",
    "list1 = pd.DataFrame(list1)\n",
    "# 透過 drop 刪除重複資料\n",
    "list2 = list1.drop_duplicates()\n",
    "#\n",
    "print(list2)"
   ]
  },
  {
   "cell_type": "code",
   "execution_count": 38,
   "metadata": {},
   "outputs": [
    {
     "name": "stdout",
     "output_type": "stream",
     "text": [
      "   name sex  height  age\n",
      "0   Tom   M     175   20\n",
      "1  Jack   M     180   21\n",
      "2  Lucy   F     165   22\n",
      "3   Tom   M     176   21\n",
      "\n",
      "   name sex  height  age\n",
      "1  Jack   M     180   21\n",
      "2  Lucy   F     165   22\n",
      "3   Tom   M     176   21\n"
     ]
    }
   ],
   "source": [
    "import pandas as pd\n",
    "\n",
    "# 建立字典\n",
    "data = {\n",
    "    \"name\": [\"Tom\", \"Jack\", \"Lucy\", \"Tom\"],\n",
    "    \"sex\": [\"M\", \"M\", \"F\", \"M\"],\n",
    "    \"height\": [175, 180, 165, 176],\n",
    "    \"age\": [20, 21, 22, 21],\n",
    "}\n",
    "# 轉換為 df\n",
    "df = pd.DataFrame(data)\n",
    "# 去除重複欄位，透過 keep 參數保留新的資料\n",
    "# keep 使用 'first' 或 'last' 時要加上引號\n",
    "df_new = df.drop_duplicates(subset=[\"name\"], keep=\"last\", inplace=False)\n",
    "# 輸出原始資料\n",
    "print(df, end=\"\\n\\n\")\n",
    "# 輸出新資料\n",
    "print(df_new)"
   ]
  },
  {
   "cell_type": "markdown",
   "metadata": {},
   "source": [
    "刪除所有重複的資料\n"
   ]
  },
  {
   "cell_type": "code",
   "execution_count": 44,
   "metadata": {},
   "outputs": [
    {
     "name": "stdout",
     "output_type": "stream",
     "text": [
      "   name sex  height  age\n",
      "1  Jack   M     180   21\n",
      "2  Lucy   F     165   22\n",
      "\n",
      "None\n"
     ]
    }
   ],
   "source": [
    "import pandas as pd\n",
    "\n",
    "# 建立字典\n",
    "data = {\n",
    "    \"name\": [\"Tom\", \"Jack\", \"Lucy\", \"Tom\"],\n",
    "    \"sex\": [\"M\", \"M\", \"F\", \"M\"],\n",
    "    \"height\": [175, 180, 165, 176],\n",
    "    \"age\": [20, 21, 22, 21],\n",
    "}\n",
    "# 轉換為 df\n",
    "df = pd.DataFrame(data)\n",
    "# 刪除所有重複欄位，並保留新的資料\n",
    "df_new = df.drop_duplicates(subset=[\"name\"], keep=False, inplace=True)\n",
    "# 輸出原始資料\n",
    "print(df, end=\"\\n\\n\")\n",
    "# 特別注意，inplace=True 時無回傳值\n",
    "print(df_new)"
   ]
  },
  {
   "cell_type": "markdown",
   "metadata": {},
   "source": [
    "重置索引 reset_index\n"
   ]
  },
  {
   "cell_type": "code",
   "execution_count": 48,
   "metadata": {},
   "outputs": [
    {
     "name": "stdout",
     "output_type": "stream",
     "text": [
      "   name sex  height  age\n",
      "1  Jack   M     180   21\n",
      "2  Lucy   F     165   22\n",
      "\n",
      "   name sex  height  age\n",
      "1  Jack   M     180   21\n",
      "2  Lucy   F     165   22\n",
      "\n",
      "   name sex  height  age\n",
      "0  Jack   M     180   21\n",
      "1  Lucy   F     165   22\n"
     ]
    }
   ],
   "source": [
    "import pandas as pd\n",
    "\n",
    "# 建立字典\n",
    "data = {\n",
    "    \"name\": [\"Tom\", \"Jack\", \"Lucy\", \"Tom\"],\n",
    "    \"sex\": [\"M\", \"M\", \"F\", \"M\"],\n",
    "    \"height\": [175, 180, 165, 176],\n",
    "    \"age\": [20, 21, 22, 21],\n",
    "}\n",
    "# 轉換為 df\n",
    "df = pd.DataFrame(data)\n",
    "# 刪除所有重複欄位，並保留新的資料\n",
    "df.drop_duplicates(subset=[\"name\"], keep=False, inplace=True)\n",
    "# 輸出原始資料\n",
    "print(df, end=\"\\n\\n\")\n",
    "# 重置索引，並透過 drop 參數刪除原有索引\n",
    "df_new = df.reset_index(drop=True)\n",
    "# 輸出原始資料\n",
    "print(df, end=\"\\n\\n\")\n",
    "# 輸出新資料\n",
    "print(df_new)"
   ]
  },
  {
   "cell_type": "markdown",
   "metadata": {},
   "source": [
    "排序\n"
   ]
  },
  {
   "cell_type": "code",
   "execution_count": 53,
   "metadata": {},
   "outputs": [
    {
     "name": "stdout",
     "output_type": "stream",
     "text": [
      "   第一組  第二組\n",
      "0    1   22\n",
      "1    3   14\n",
      "2    7    6\n",
      "3    4    4\n",
      "4    5    1\n",
      "5    2   11\n",
      "6    9    2 \n",
      "\n",
      "   第一組  第二組\n",
      "1    1   22\n",
      "0    3   14\n",
      "3    7    6\n",
      "2    4    4\n",
      "6    5    1\n",
      "5    2   11\n",
      "4    9    2 \n",
      "\n",
      "   第一組  第二組\n",
      "0    3   14\n",
      "1    1   22\n",
      "2    4    4\n",
      "3    7    6\n",
      "4    9    2\n",
      "5    2   11\n",
      "6    5    1\n"
     ]
    }
   ],
   "source": [
    "import pandas as pd\n",
    "\n",
    "# 建立擁有兩組數值列表的字典\n",
    "dict_data = {\"第一組\": [1, 3, 7, 4, 5, 2, 9], \"第二組\": [22, 14, 6, 4, 1, 11, 2]}\n",
    "# 轉換為 df\n",
    "df = pd.DataFrame(dict_data)\n",
    "# 指定排序索引\n",
    "df = df.sort_index(ascending=True)\n",
    "print(df, \"\\n\")\n",
    "# 透過參數 index 指定排序\n",
    "df = pd.DataFrame(dict_data, index=[1, 0, 3, 2, 6, 5, 4])\n",
    "print(df, \"\\n\")\n",
    "# 重新排列\n",
    "df = df.sort_index(ascending=True)\n",
    "print(df)"
   ]
  },
  {
   "cell_type": "markdown",
   "metadata": {},
   "source": [
    "指定多級（層）資料索引的升冪與降冪\n"
   ]
  },
  {
   "cell_type": "code",
   "execution_count": 12,
   "metadata": {},
   "outputs": [
    {
     "name": "stdout",
     "output_type": "stream",
     "text": [
      "原始 DataFrame：\n",
      "           第一組  第二組\n",
      "外層索引 內層索引          \n",
      "A    1       1   22\n",
      "     2       3   14\n",
      "     3       7    6\n",
      "B    1       4    4\n",
      "     2       5    1\n",
      "     3       2   11\n",
      "C    1       9    2 \n",
      "\n",
      "外層升序，內層降序：\n",
      "           第一組  第二組\n",
      "外層索引 內層索引          \n",
      "A    3       7    6\n",
      "     2       3   14\n",
      "     1       1   22\n",
      "B    3       2   11\n",
      "     2       5    1\n",
      "     1       4    4\n",
      "C    1       9    2 \n",
      "\n",
      "外層降序，內層升序：\n",
      "           第一組  第二組\n",
      "外層索引 內層索引          \n",
      "C    1       9    2\n",
      "B    1       4    4\n",
      "     2       5    1\n",
      "     3       2   11\n",
      "A    1       1   22\n",
      "     2       3   14\n",
      "     3       7    6 \n",
      "\n",
      "內外都降序：\n",
      "           第一組  第二組\n",
      "外層索引 內層索引          \n",
      "C    1       9    2\n",
      "B    3       2   11\n",
      "     2       5    1\n",
      "     1       4    4\n",
      "A    3       7    6\n",
      "     2       3   14\n",
      "     1       1   22\n",
      "內外都升序：\n",
      "           第一組  第二組\n",
      "外層索引 內層索引          \n",
      "A    1       1   22\n",
      "     2       3   14\n",
      "     3       7    6\n",
      "B    1       4    4\n",
      "     2       5    1\n",
      "     3       2   11\n",
      "C    1       9    2\n"
     ]
    }
   ],
   "source": [
    "import pandas as pd\n",
    "\n",
    "# 建立擁有兩組數值列表的字典\n",
    "dict_data = {\"第一組\": [1, 3, 7, 4, 5, 2, 9], \"第二組\": [22, 14, 6, 4, 1, 11, 2]}\n",
    "\n",
    "# 轉換為 DataFrame 並指定自訂索引\n",
    "df = pd.DataFrame(\n",
    "    dict_data,\n",
    "    index=pd.MultiIndex.from_tuples(\n",
    "        [(\"A\", 1), (\"A\", 2), (\"A\", 3), (\"B\", 1), (\"B\", 2), (\"B\", 3), (\"C\", 1)],\n",
    "        names=[\"外層索引\", \"內層索引\"],\n",
    "    ),\n",
    ")\n",
    "\n",
    "print(\"原始 DataFrame：\")\n",
    "print(df, \"\\n\")\n",
    "\n",
    "# 按多重索引進行排序，外層索引升序，內層索引降序\n",
    "# ascending=[True, False] 中 True 代表外層索引升序，False 代表內層索引降序\n",
    "df_sorted_1 = df.sort_index(ascending=[True, False])\n",
    "print(\"外層升序，內層降序：\")\n",
    "print(df_sorted_1, \"\\n\")\n",
    "\n",
    "# ascending=[False, True] 中 False 代表外層索引降序，True 代表內層索引升序\n",
    "df_sorted_2 = df.sort_index(ascending=[False, True])\n",
    "print(\"外層降序，內層升序：\")\n",
    "print(df_sorted_2, \"\\n\")\n",
    "\n",
    "# 只傳入一個排序參數\n",
    "df_sorted_3 = df.sort_index(ascending=False)\n",
    "print(\"內外都降序：\")\n",
    "print(df_sorted_3)\n",
    "\n",
    "# 只傳入一個排序參數\n",
    "df_sorted_4 = df.sort_index(ascending=True)\n",
    "print(\"內外都升序：\")\n",
    "print(df_sorted_4)"
   ]
  },
  {
   "cell_type": "markdown",
   "metadata": {},
   "source": [
    "透過參數 axis 分別針對列或欄作為參考排序"
   ]
  },
  {
   "cell_type": "code",
   "execution_count": 20,
   "metadata": {},
   "outputs": [
    {
     "name": "stdout",
     "output_type": "stream",
     "text": [
      "針對列 3、1、4、0、2 進行排序：\n",
      "   data2  data3  data1\n",
      "0     21     13     42\n",
      "1     32     22     21\n",
      "2      6      5     32\n",
      "3     15     32     11\n",
      "4     17      1      3 \n",
      "\n",
      "針對列 3、1、4、0、2 進行降序排序：\n",
      "   data2  data3  data1\n",
      "4     17      1      3\n",
      "3     15     32     11\n",
      "2      6      5     32\n",
      "1     32     22     21\n",
      "0     21     13     42 \n",
      "\n",
      "針對欄位 data2、data3、data1 進行排序：\n",
      "   data1  data2  data3\n",
      "3     11     15     32\n",
      "1     21     32     22\n",
      "4      3     17      1\n",
      "0     42     21     13\n",
      "2     32      6      5 \n",
      "\n",
      "針對欄位 data2、data3、data1 進行降序排序：\n",
      "   data3  data2  data1\n",
      "3     32     15     11\n",
      "1     22     32     21\n",
      "4      1     17      3\n",
      "0     13     21     42\n",
      "2      5      6     32\n"
     ]
    }
   ],
   "source": [
    "import pandas as pd\n",
    "\n",
    "# 建立一個字典，值都是列表\n",
    "data = {\n",
    "    'data2': [15, 32, 17, 21, 6],\n",
    "    'data3': [32, 22, 1, 13, 5],\n",
    "    'data1': [11, 21, 3, 42, 32]\n",
    "}\n",
    "\n",
    "# 轉換為 pd\n",
    "df = pd.DataFrame(data, index=[3, 1, 4, 0, 2])\n",
    "\n",
    "# 針對列 3、1、4、0、2 進行排序\n",
    "df1 = df.sort_index(axis=0)\n",
    "\n",
    "# 針對欄位 data2、data3、data1 進行排序\n",
    "df2 = df.sort_index(axis=1)\n",
    "\n",
    "print('針對列 3、1、4、0、2 進行排序：')\n",
    "print(df1, '\\n')\n",
    "\n",
    "print('針對列 3、1、4、0、2 進行降序排序：')\n",
    "print(df1.sort_index(axis=0, ascending=False), '\\n')\n",
    "\n",
    "print('針對欄位 data2、data3、data1 進行排序：')\n",
    "print(df2, '\\n')\n",
    "\n",
    "print('針對欄位 data2、data3、data1 進行降序排序：')\n",
    "print(df2.sort_index(axis=1, ascending=False))"
   ]
  },
  {
   "cell_type": "markdown",
   "metadata": {},
   "source": [
    "透過 sort_value() 以 _值_ 作為參考排序"
   ]
  },
  {
   "cell_type": "code",
   "execution_count": 24,
   "metadata": {},
   "outputs": [
    {
     "name": "stdout",
     "output_type": "stream",
     "text": [
      "原始資料：\n",
      "   data2  data1  data3\n",
      "0     13     33     11\n",
      "1     22     27      9\n",
      "2     43     65     13\n",
      "3     18     29     63\n",
      "4     66      1      5\n",
      "\n",
      "以 data1 進行排序：\n",
      "   data2  data1  data3\n",
      "4     66      1      5\n",
      "1     22     27      9\n",
      "3     18     29     63\n",
      "0     13     33     11\n",
      "2     43     65     13\n",
      "\n",
      "以 data2 進行排序：\n",
      "   data2  data1  data3\n",
      "0     13     33     11\n",
      "3     18     29     63\n",
      "1     22     27      9\n",
      "2     43     65     13\n",
      "4     66      1      5\n",
      "\n",
      "先排序 data2，再排序 data1：\n",
      "   data2  data1  data3\n",
      "0     13     33     11\n",
      "3     18     29     63\n",
      "1     22     27      9\n",
      "2     43     65     13\n",
      "4     66      1      5\n"
     ]
    }
   ],
   "source": [
    "import pandas as pd\n",
    "\n",
    "# 建立字典\n",
    "data = {\n",
    "    'data2': [13, 22, 43, 18, 66],\n",
    "    'data1': [33, 27, 65, 29, 1],\n",
    "    'data3': [11, 9, 13, 63, 5]\n",
    "}\n",
    "\n",
    "# 轉換\n",
    "df = pd.DataFrame(data)\n",
    "# 輸出原始資料\n",
    "print('原始資料：')\n",
    "print(df, end='\\n\\n')\n",
    "\n",
    "# 以 data1 進行排序\n",
    "df1 = df.sort_values(by='data1')\n",
    "\n",
    "# 以 data2 進行排序\n",
    "df2 = df.sort_values(by='data2')\n",
    "\n",
    "# 先排序 data2，再排序 data1\n",
    "df3 = df.sort_values(by=['data2', 'data1'])\n",
    "\n",
    "# 輸出結果\n",
    "print('以 data1 進行排序：')\n",
    "print(df1, end='\\n\\n')\n",
    "\n",
    "print('以 data2 進行排序：')\n",
    "print(df2, end='\\n\\n')\n",
    "\n",
    "print('先排序 data2，再排序 data1：')\n",
    "print(df3)\n",
    "\n"
   ]
  }
 ],
 "metadata": {
  "kernelspec": {
   "display_name": "envST",
   "language": "python",
   "name": "python3"
  },
  "language_info": {
   "codemirror_mode": {
    "name": "ipython",
    "version": 3
   },
   "file_extension": ".py",
   "mimetype": "text/x-python",
   "name": "python",
   "nbconvert_exporter": "python",
   "pygments_lexer": "ipython3",
   "version": "3.10.11"
  }
 },
 "nbformat": 4,
 "nbformat_minor": 2
}
