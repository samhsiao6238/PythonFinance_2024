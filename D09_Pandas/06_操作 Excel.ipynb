{
 "cells": [
  {
   "cell_type": "markdown",
   "metadata": {},
   "source": [
    "建立資料"
   ]
  },
  {
   "cell_type": "code",
   "execution_count": 48,
   "metadata": {},
   "outputs": [
    {
     "name": "stdout",
     "output_type": "stream",
     "text": [
      "原始資料：\n",
      "   data2  data1  data3  data4  data5\n",
      "0     13     33     11     12     31\n",
      "1     22     27      9      4     44\n",
      "2     43     65     13      3     23\n",
      "3     18     29     63     17      4\n",
      "4     66      1      5     38     51 \n",
      "\n"
     ]
    }
   ],
   "source": [
    "import pandas as pd\n",
    "\n",
    "# 建立字典\n",
    "data = {\n",
    "    'data2': [13, 22, 43, 18, 66],\n",
    "    'data1': [33, 27, 65, 29, 1],\n",
    "    'data3': [11, 9, 13, 63, 5],\n",
    "    'data4': [12, 4, 3, 17, 38],\n",
    "    'data5': [31, 44, 23, 4, 51]\n",
    "}\n",
    "\n",
    "# 轉換\n",
    "data_df = pd.DataFrame(data)\n",
    "print('原始資料：')\n",
    "print(data_df, '\\n')"
   ]
  },
  {
   "cell_type": "markdown",
   "metadata": {},
   "source": [
    "輸出為 csv，未指定檔案名稱時會輸出為字串"
   ]
  },
  {
   "cell_type": "code",
   "execution_count": 49,
   "metadata": {},
   "outputs": [
    {
     "name": "stdout",
     "output_type": "stream",
     "text": [
      ",data2,data1,data3,data4,data5\n",
      "0,13,33,11,12,31\n",
      "1,22,27,9,4,44\n",
      "2,43,65,13,3,23\n",
      "3,18,29,63,17,4\n",
      "4,66,1,5,38,51\n",
      "\n",
      "<class 'str'> \n",
      "\n"
     ]
    }
   ],
   "source": [
    "# 沒有指定等案名稱會傳回字串\n",
    "_str = data_df.to_csv()\n",
    "print(_str)\n",
    "# 觀察資料型別\n",
    "print(type(_str), '\\n')"
   ]
  },
  {
   "cell_type": "markdown",
   "metadata": {},
   "source": [
    "輸出為 csv 並指定檔案名稱"
   ]
  },
  {
   "cell_type": "code",
   "execution_count": 50,
   "metadata": {},
   "outputs": [
    {
     "name": "stdout",
     "output_type": "stream",
     "text": [
      "回傳值是：None\n"
     ]
    }
   ],
   "source": [
    "# 指定檔名後會寫入，並觀察成功寫入時不會有回傳值\n",
    "_result = data_df.to_csv('data.csv')\n",
    "print(f'回傳值是：{_result}')"
   ]
  },
  {
   "cell_type": "markdown",
   "metadata": {},
   "source": [
    "加入日期索引"
   ]
  },
  {
   "cell_type": "code",
   "execution_count": 52,
   "metadata": {},
   "outputs": [
    {
     "name": "stdout",
     "output_type": "stream",
     "text": [
      "            data2  data1  data3  data4  data5\n",
      "2024-01-01     13     33     11     12     31\n",
      "2024-01-02     22     27      9      4     44\n",
      "2024-01-03     43     65     13      3     23\n",
      "2024-01-04     18     29     63     17      4\n",
      "2024-01-05     66      1      5     38     51\n"
     ]
    }
   ],
   "source": [
    "# 建立索引\n",
    "date_index = pd.date_range('1/1/2024', periods=5)\n",
    "\n",
    "# 指派索引\n",
    "data_df.index = date_index\n",
    "\n",
    "# 輸出\n",
    "print(data_df)\n"
   ]
  },
  {
   "cell_type": "markdown",
   "metadata": {},
   "source": [
    "存入"
   ]
  },
  {
   "cell_type": "code",
   "execution_count": 53,
   "metadata": {},
   "outputs": [],
   "source": [
    "data_df.to_csv('data_df.csv', index=True)"
   ]
  },
  {
   "cell_type": "markdown",
   "metadata": {},
   "source": [
    "讀取資料"
   ]
  },
  {
   "cell_type": "code",
   "execution_count": 54,
   "metadata": {},
   "outputs": [
    {
     "data": {
      "text/html": [
       "<div>\n",
       "<style scoped>\n",
       "    .dataframe tbody tr th:only-of-type {\n",
       "        vertical-align: middle;\n",
       "    }\n",
       "\n",
       "    .dataframe tbody tr th {\n",
       "        vertical-align: top;\n",
       "    }\n",
       "\n",
       "    .dataframe thead th {\n",
       "        text-align: right;\n",
       "    }\n",
       "</style>\n",
       "<table border=\"1\" class=\"dataframe\">\n",
       "  <thead>\n",
       "    <tr style=\"text-align: right;\">\n",
       "      <th></th>\n",
       "      <th>Unnamed: 0</th>\n",
       "      <th>data2</th>\n",
       "      <th>data1</th>\n",
       "      <th>data3</th>\n",
       "      <th>data4</th>\n",
       "      <th>data5</th>\n",
       "    </tr>\n",
       "  </thead>\n",
       "  <tbody>\n",
       "    <tr>\n",
       "      <th>0</th>\n",
       "      <td>2024-01-01</td>\n",
       "      <td>13</td>\n",
       "      <td>33</td>\n",
       "      <td>11</td>\n",
       "      <td>12</td>\n",
       "      <td>31</td>\n",
       "    </tr>\n",
       "    <tr>\n",
       "      <th>1</th>\n",
       "      <td>2024-01-02</td>\n",
       "      <td>22</td>\n",
       "      <td>27</td>\n",
       "      <td>9</td>\n",
       "      <td>4</td>\n",
       "      <td>44</td>\n",
       "    </tr>\n",
       "    <tr>\n",
       "      <th>2</th>\n",
       "      <td>2024-01-03</td>\n",
       "      <td>43</td>\n",
       "      <td>65</td>\n",
       "      <td>13</td>\n",
       "      <td>3</td>\n",
       "      <td>23</td>\n",
       "    </tr>\n",
       "    <tr>\n",
       "      <th>3</th>\n",
       "      <td>2024-01-04</td>\n",
       "      <td>18</td>\n",
       "      <td>29</td>\n",
       "      <td>63</td>\n",
       "      <td>17</td>\n",
       "      <td>4</td>\n",
       "    </tr>\n",
       "    <tr>\n",
       "      <th>4</th>\n",
       "      <td>2024-01-05</td>\n",
       "      <td>66</td>\n",
       "      <td>1</td>\n",
       "      <td>5</td>\n",
       "      <td>38</td>\n",
       "      <td>51</td>\n",
       "    </tr>\n",
       "  </tbody>\n",
       "</table>\n",
       "</div>"
      ],
      "text/plain": [
       "   Unnamed: 0  data2  data1  data3  data4  data5\n",
       "0  2024-01-01     13     33     11     12     31\n",
       "1  2024-01-02     22     27      9      4     44\n",
       "2  2024-01-03     43     65     13      3     23\n",
       "3  2024-01-04     18     29     63     17      4\n",
       "4  2024-01-05     66      1      5     38     51"
      ]
     },
     "execution_count": 54,
     "metadata": {},
     "output_type": "execute_result"
    }
   ],
   "source": [
    "# 讀取資料\n",
    "_csv = pd.read_csv('data_df.csv')\n",
    "_csv"
   ]
  },
  {
   "cell_type": "markdown",
   "metadata": {},
   "source": [
    "連續建立"
   ]
  },
  {
   "cell_type": "code",
   "execution_count": 55,
   "metadata": {},
   "outputs": [],
   "source": [
    "import pandas as pd\n",
    "\n",
    "data = {\n",
    "    'data2': [13, 22, 43, 18, 66],\n",
    "    'data1': [33, 27, 65, 29, 1],\n",
    "    'data3': [11, 9, 13, 63, 5],\n",
    "    'data4': [12, 4, 3, 17, 38],\n",
    "    'data5': [31, 44, 23, 4, 51]\n",
    "}\n",
    "\n",
    "# 建立pd並添加索引\n",
    "data_df = pd.DataFrame(\n",
    "    data,\n",
    "    index=pd.date_range('1/1/2024', periods=5)\n",
    ")\n",
    "\n",
    "# 儲存到 CSV\n",
    "data_df.to_csv('data_df_2.csv', index=True)\n"
   ]
  }
 ],
 "metadata": {
  "kernelspec": {
   "display_name": "envST",
   "language": "python",
   "name": "python3"
  },
  "language_info": {
   "codemirror_mode": {
    "name": "ipython",
    "version": 3
   },
   "file_extension": ".py",
   "mimetype": "text/x-python",
   "name": "python",
   "nbconvert_exporter": "python",
   "pygments_lexer": "ipython3",
   "version": "3.10.11"
  }
 },
 "nbformat": 4,
 "nbformat_minor": 2
}
