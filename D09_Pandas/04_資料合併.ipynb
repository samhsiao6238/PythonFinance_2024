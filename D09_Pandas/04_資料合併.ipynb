{
 "cells": [
  {
   "cell_type": "markdown",
   "metadata": {},
   "source": [
    "# 資料合併\n",
    "\n",
    "_merge、concate、append_\n",
    "\n",
    "###  參數\n",
    "\n",
    "1. on：指定合併的欄位標籤，必須兩者皆有該欄位，預設是以兩者的欄位名稱交集作為合併後的欄位。\n",
    "\n",
    "\n",
    "2. left_on：在左側的 df 中進行欄位指定。\n",
    "\n",
    "3. right_on：在右側的 df 中進行欄位指定。\n",
    "\n",
    "4. left_index：指定為 True 時，使用左側 `列索引` 作為連接的 Key，預設為 `False`。\n",
    "\n",
    "5. right_index：指定為 True 時，使用右側 `列索引` 作為連接的 Key，預設為 `False`。\n",
    "\n",
    "6. sort：合併後的資料是否排序，預設為 `True`。\n",
    "\n",
    "7. suffixed：指定合併後的欄位名稱後綴。\n",
    "\n",
    "8. copy：是否對資料進行複製，預設為 `True`。"
   ]
  },
  {
   "cell_type": "markdown",
   "metadata": {},
   "source": [
    "先建立要用來合併的範例資料"
   ]
  },
  {
   "cell_type": "code",
   "execution_count": 6,
   "metadata": {},
   "outputs": [
    {
     "name": "stdout",
     "output_type": "stream",
     "text": [
      "left:\n",
      "   id   A   B\n",
      "0  K0  A0  B0\n",
      "1  K1  A1  B1\n",
      "2  K2  A2  B2\n",
      "3  K3  A3  B3 \n",
      "\n",
      "right:\n",
      "   id   A   B\n",
      "0  K0  A4  B3\n",
      "1  K1  A5  B4\n",
      "2  K2  A6  B2\n",
      "3  K3  A7  B5 \n",
      "\n"
     ]
    }
   ],
   "source": [
    "import pandas as pd\n",
    "import pandas as pd\n",
    "\n",
    "# 建立左右兩個DataFrame作為後續合併使用\n",
    "left = pd.DataFrame({\n",
    "    'id': ['K0', 'K1', 'K2', 'K3'],\n",
    "    'A': ['A0', 'A1', 'A2', 'A3'],\n",
    "    'B': ['B0', 'B1', 'B2', 'B3']\n",
    "})    \n",
    "right = pd.DataFrame({\n",
    "    'id': ['K0', 'K1', 'K2', 'K3'],\n",
    "    'A': ['A4', 'A5', 'A6', 'A7'],\n",
    "    'B': ['B3', 'B4', 'B2', 'B5']\n",
    "})\n",
    "\n",
    "# 先輸出原始資料\n",
    "print('left:')\n",
    "print(left, '\\n')\n",
    "print('right:')\n",
    "print(right, '\\n')"
   ]
  },
  {
   "cell_type": "markdown",
   "metadata": {},
   "source": [
    "指定欄位用來合併"
   ]
  },
  {
   "cell_type": "code",
   "execution_count": 7,
   "metadata": {},
   "outputs": [
    {
     "data": {
      "text/html": [
       "<div>\n",
       "<style scoped>\n",
       "    .dataframe tbody tr th:only-of-type {\n",
       "        vertical-align: middle;\n",
       "    }\n",
       "\n",
       "    .dataframe tbody tr th {\n",
       "        vertical-align: top;\n",
       "    }\n",
       "\n",
       "    .dataframe thead th {\n",
       "        text-align: right;\n",
       "    }\n",
       "</style>\n",
       "<table border=\"1\" class=\"dataframe\">\n",
       "  <thead>\n",
       "    <tr style=\"text-align: right;\">\n",
       "      <th></th>\n",
       "      <th>id</th>\n",
       "      <th>A_x</th>\n",
       "      <th>B_x</th>\n",
       "      <th>A_y</th>\n",
       "      <th>B_y</th>\n",
       "    </tr>\n",
       "  </thead>\n",
       "  <tbody>\n",
       "    <tr>\n",
       "      <th>0</th>\n",
       "      <td>K0</td>\n",
       "      <td>A0</td>\n",
       "      <td>B0</td>\n",
       "      <td>A4</td>\n",
       "      <td>B3</td>\n",
       "    </tr>\n",
       "    <tr>\n",
       "      <th>1</th>\n",
       "      <td>K1</td>\n",
       "      <td>A1</td>\n",
       "      <td>B1</td>\n",
       "      <td>A5</td>\n",
       "      <td>B4</td>\n",
       "    </tr>\n",
       "    <tr>\n",
       "      <th>2</th>\n",
       "      <td>K2</td>\n",
       "      <td>A2</td>\n",
       "      <td>B2</td>\n",
       "      <td>A6</td>\n",
       "      <td>B2</td>\n",
       "    </tr>\n",
       "    <tr>\n",
       "      <th>3</th>\n",
       "      <td>K3</td>\n",
       "      <td>A3</td>\n",
       "      <td>B3</td>\n",
       "      <td>A7</td>\n",
       "      <td>B5</td>\n",
       "    </tr>\n",
       "  </tbody>\n",
       "</table>\n",
       "</div>"
      ],
      "text/plain": [
       "   id A_x B_x A_y B_y\n",
       "0  K0  A0  B0  A4  B3\n",
       "1  K1  A1  B1  A5  B4\n",
       "2  K2  A2  B2  A6  B2\n",
       "3  K3  A3  B3  A7  B5"
      ]
     },
     "execution_count": 7,
     "metadata": {},
     "output_type": "execute_result"
    }
   ],
   "source": [
    "# 指定用欄位 id 作為合併的 key\n",
    "data1 = pd.merge(left, right, on='id')\n",
    "data1"
   ]
  },
  {
   "cell_type": "markdown",
   "metadata": {},
   "source": [
    "指定兩個欄位作為合併的 key，兩個欄位都必須相同"
   ]
  },
  {
   "cell_type": "code",
   "execution_count": 10,
   "metadata": {},
   "outputs": [
    {
     "data": {
      "text/html": [
       "<div>\n",
       "<style scoped>\n",
       "    .dataframe tbody tr th:only-of-type {\n",
       "        vertical-align: middle;\n",
       "    }\n",
       "\n",
       "    .dataframe tbody tr th {\n",
       "        vertical-align: top;\n",
       "    }\n",
       "\n",
       "    .dataframe thead th {\n",
       "        text-align: right;\n",
       "    }\n",
       "</style>\n",
       "<table border=\"1\" class=\"dataframe\">\n",
       "  <thead>\n",
       "    <tr style=\"text-align: right;\">\n",
       "      <th></th>\n",
       "      <th>id</th>\n",
       "      <th>A_x</th>\n",
       "      <th>B</th>\n",
       "      <th>A_y</th>\n",
       "    </tr>\n",
       "  </thead>\n",
       "  <tbody>\n",
       "    <tr>\n",
       "      <th>0</th>\n",
       "      <td>K2</td>\n",
       "      <td>A2</td>\n",
       "      <td>B2</td>\n",
       "      <td>A6</td>\n",
       "    </tr>\n",
       "  </tbody>\n",
       "</table>\n",
       "</div>"
      ],
      "text/plain": [
       "   id A_x   B A_y\n",
       "0  K2  A2  B2  A6"
      ]
     },
     "execution_count": 10,
     "metadata": {},
     "output_type": "execute_result"
    }
   ],
   "source": [
    "data2 = pd.merge(left, right, on=['id', 'B'])\n",
    "data2"
   ]
  },
  {
   "cell_type": "markdown",
   "metadata": {},
   "source": [
    "使用 concat 進行合併"
   ]
  },
  {
   "cell_type": "code",
   "execution_count": 13,
   "metadata": {},
   "outputs": [
    {
     "name": "stdout",
     "output_type": "stream",
     "text": [
      "第一個 DataFrame:\n",
      "      Name  Score\n",
      "0    Alice     85\n",
      "1      Bob     88\n",
      "2  Charlie     92\n",
      "\n",
      "第二個 DataFrame:\n",
      "    Name  Score\n",
      "0  David     75\n",
      "1    Eve     89\n",
      "2  Frank     90\n",
      "\n",
      "合併後的 DataFrame:\n",
      "      Name  Score\n",
      "0    Alice     85\n",
      "1      Bob     88\n",
      "2  Charlie     92\n",
      "3    David     75\n",
      "4      Eve     89\n",
      "5    Frank     90\n"
     ]
    }
   ],
   "source": [
    "import pandas as pd\n",
    "\n",
    "# 建立第一個 DataFrame\n",
    "df1 = pd.DataFrame({\n",
    "    'Name': ['Alice', 'Bob', 'Charlie'],\n",
    "    'Score': [85, 88, 92]\n",
    "})\n",
    "\n",
    "# 建立第二個 DataFrame\n",
    "df2 = pd.DataFrame({\n",
    "    'Name': ['David', 'Eve', 'Frank'],\n",
    "    'Score': [75, 89, 90]\n",
    "})\n",
    "\n",
    "# 顯示原始 DataFrame\n",
    "print('第一個 DataFrame:')\n",
    "print(df1)\n",
    "print('\\n第二個 DataFrame:')\n",
    "print(df2)\n",
    "\n",
    "# 使用 concat 合併 DataFrame\n",
    "result = pd.concat([df1, df2], ignore_index=True)\n",
    "\n",
    "# 顯示合併後的結果\n",
    "print('\\n合併後的 DataFrame:')\n",
    "print(result)"
   ]
  },
  {
   "cell_type": "markdown",
   "metadata": {},
   "source": [
    "使用 append 進行添加\n",
    "\n",
    "_append 已經被棄用，這裡僅作示範。_"
   ]
  },
  {
   "cell_type": "code",
   "execution_count": 14,
   "metadata": {},
   "outputs": [
    {
     "name": "stdout",
     "output_type": "stream",
     "text": [
      "第一個 DataFrame:\n",
      "      Name  Score\n",
      "0    Alice     85\n",
      "1      Bob     88\n",
      "2  Charlie     92\n",
      "\n",
      "第二個 DataFrame:\n",
      "    Name  Score\n",
      "0  David     75\n",
      "1    Eve     89\n",
      "2  Frank     90\n",
      "\n",
      "合併後的 DataFrame:\n",
      "      Name  Score\n",
      "0    Alice     85\n",
      "1      Bob     88\n",
      "2  Charlie     92\n",
      "3    David     75\n",
      "4      Eve     89\n",
      "5    Frank     90\n"
     ]
    },
    {
     "name": "stderr",
     "output_type": "stream",
     "text": [
      "/var/folders/vm/_zft15050r7cfh47y6v5z4k40000gn/T/ipykernel_97918/1684986690.py:22: FutureWarning: The frame.append method is deprecated and will be removed from pandas in a future version. Use pandas.concat instead.\n",
      "  result = df1.append(df2, ignore_index=True)\n"
     ]
    }
   ],
   "source": [
    "import pandas as pd\n",
    "\n",
    "# 建立第一個 DataFrame\n",
    "df1 = pd.DataFrame({\n",
    "    'Name': ['Alice', 'Bob', 'Charlie'],\n",
    "    'Score': [85, 88, 92]\n",
    "})\n",
    "\n",
    "# 建立第二個 DataFrame\n",
    "df2 = pd.DataFrame({\n",
    "    'Name': ['David', 'Eve', 'Frank'],\n",
    "    'Score': [75, 89, 90]\n",
    "})\n",
    "\n",
    "# 顯示原始 DataFrame\n",
    "print('第一個 DataFrame:')\n",
    "print(df1)\n",
    "print('\\n第二個 DataFrame:')\n",
    "print(df2)\n",
    "\n",
    "# 使用 append 合併 DataFrame\n",
    "result = df1.append(df2, ignore_index=True)\n",
    "\n",
    "# 顯示合併後的結果\n",
    "print('\\n合併後的 DataFrame:')\n",
    "print(result)"
   ]
  }
 ],
 "metadata": {
  "kernelspec": {
   "display_name": "envST",
   "language": "python",
   "name": "python3"
  },
  "language_info": {
   "codemirror_mode": {
    "name": "ipython",
    "version": 3
   },
   "file_extension": ".py",
   "mimetype": "text/x-python",
   "name": "python",
   "nbconvert_exporter": "python",
   "pygments_lexer": "ipython3",
   "version": "3.10.11"
  }
 },
 "nbformat": 4,
 "nbformat_minor": 2
}
