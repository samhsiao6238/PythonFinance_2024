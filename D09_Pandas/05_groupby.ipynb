{
 "cells": [
  {
   "cell_type": "code",
   "execution_count": 1,
   "metadata": {},
   "outputs": [
    {
     "name": "stdout",
     "output_type": "stream",
     "text": [
      "            City  Employee  Salary\n",
      "0       New York      John  100000\n",
      "1  San Francisco     Daisy   70000\n",
      "2       New York      Luke   85000\n",
      "3    Los Angeles      Ryan   90000\n",
      "4  San Francisco    Jordan  120000\n",
      "5    Los Angeles     Bruce   95000\n",
      "6       New York  Samantha  110000\n",
      "7  San Francisco      Tina  115000\n"
     ]
    }
   ],
   "source": [
    "import pandas as pd\n",
    "\n",
    "# 建立數據，這是一個關於人員在不同城市的工資數據，藉此計算不同城市的平均工資\n",
    "data = {\n",
    "    'City': ['New York', 'San Francisco', 'New York', 'Los Angeles', 'San Francisco', 'Los Angeles', 'New York', 'San Francisco'],\n",
    "    'Employee': ['John', 'Daisy', 'Luke', 'Ryan', 'Jordan', 'Bruce', 'Samantha', 'Tina'],\n",
    "    'Salary': [100000, 70000, 85000, 90000, 120000, 95000, 110000, 115000]\n",
    "}\n",
    "# 展示初始數據\n",
    "df = pd.DataFrame(data)\n",
    "print(df)\n"
   ]
  },
  {
   "cell_type": "markdown",
   "metadata": {},
   "source": [
    "使用 groupby 來根據指定的欄位進行分組，然後計算各組工資欄位的平均數"
   ]
  },
  {
   "cell_type": "code",
   "execution_count": 2,
   "metadata": {},
   "outputs": [
    {
     "name": "stdout",
     "output_type": "stream",
     "text": [
      "City\n",
      "Los Angeles       92500.000000\n",
      "New York          98333.333333\n",
      "San Francisco    101666.666667\n",
      "Name: Salary, dtype: float64\n"
     ]
    }
   ],
   "source": [
    "# 以 'City' \n",
    "grouped = df.groupby('City')\n",
    "\n",
    "# 計算分組後的平均工資\n",
    "average_salary = grouped['Salary'].mean()\n",
    "# 輸出\n",
    "print(average_salary)\n"
   ]
  },
  {
   "cell_type": "markdown",
   "metadata": {},
   "source": [
    "展示更進階的數據內容"
   ]
  },
  {
   "cell_type": "code",
   "execution_count": 3,
   "metadata": {},
   "outputs": [
    {
     "name": "stdout",
     "output_type": "stream",
     "text": [
      "                        mean    min     max\n",
      "City                                       \n",
      "Los Angeles     92500.000000  90000   95000\n",
      "New York        98333.333333  85000  110000\n",
      "San Francisco  101666.666667  70000  120000\n"
     ]
    }
   ],
   "source": [
    "# 使用聚合方法 agg() 進行更多的操作：平均值、最小值、最大值\n",
    "result = grouped['Salary'].agg(['mean', 'min', 'max'])\n",
    "# 輸出\n",
    "print(result)\n"
   ]
  },
  {
   "cell_type": "markdown",
   "metadata": {},
   "source": [
    "使用 transform 進行數據轉換"
   ]
  },
  {
   "cell_type": "code",
   "execution_count": 4,
   "metadata": {},
   "outputs": [
    {
     "name": "stdout",
     "output_type": "stream",
     "text": [
      "            City  Employee  Salary  Standardized Salary\n",
      "0       New York      John  100000             0.132453\n",
      "1  San Francisco     Daisy   70000            -1.149932\n",
      "2       New York      Luke   85000            -1.059626\n",
      "3    Los Angeles      Ryan   90000            -0.707107\n",
      "4  San Francisco    Jordan  120000             0.665750\n",
      "5    Los Angeles     Bruce   95000             0.707107\n",
      "6       New York  Samantha  110000             0.927173\n",
      "7  San Francisco      Tina  115000             0.484182\n"
     ]
    }
   ],
   "source": [
    "# 使用 transform() 標準化工資\n",
    "# 標準化就是平均數為 0、標準差為 1 的資料集\n",
    "standardized_salary = grouped['Salary'].transform(lambda x: (x - x.mean()) / x.std())\n",
    "# 新增一個標準化的欄位\n",
    "df['Standardized Salary'] = standardized_salary\n",
    "print(df)\n"
   ]
  }
 ],
 "metadata": {
  "kernelspec": {
   "display_name": "envST",
   "language": "python",
   "name": "python3"
  },
  "language_info": {
   "codemirror_mode": {
    "name": "ipython",
    "version": 3
   },
   "file_extension": ".py",
   "mimetype": "text/x-python",
   "name": "python",
   "nbconvert_exporter": "python",
   "pygments_lexer": "ipython3",
   "version": "3.10.11"
  }
 },
 "nbformat": 4,
 "nbformat_minor": 2
}
