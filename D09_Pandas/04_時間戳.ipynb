{
 "cells": [
  {
   "cell_type": "markdown",
   "metadata": {},
   "source": [
    "時間戳"
   ]
  },
  {
   "cell_type": "markdown",
   "metadata": {},
   "source": [
    "使用 pandas"
   ]
  },
  {
   "cell_type": "code",
   "execution_count": 26,
   "metadata": {},
   "outputs": [],
   "source": [
    "import pandas as pd"
   ]
  },
  {
   "cell_type": "markdown",
   "metadata": {},
   "source": [
    "當前時間戳，可用 now 或是 today"
   ]
  },
  {
   "cell_type": "code",
   "execution_count": 27,
   "metadata": {},
   "outputs": [
    {
     "name": "stdout",
     "output_type": "stream",
     "text": [
      "2024-04-29 08:29:58.813590\n",
      "2024-04-29 08:29:58.813655\n"
     ]
    }
   ],
   "source": [
    "# now\n",
    "ts_now = pd.Timestamp.now()\n",
    "print(ts_now)\n",
    "# today\n",
    "ts_today = pd.Timestamp.today()\n",
    "print(ts_today)"
   ]
  },
  {
   "cell_type": "markdown",
   "metadata": {},
   "source": [
    "取出時間戳的日期"
   ]
  },
  {
   "cell_type": "code",
   "execution_count": 28,
   "metadata": {},
   "outputs": [
    {
     "name": "stdout",
     "output_type": "stream",
     "text": [
      "2024-04-29\n",
      "2024-04-29\n"
     ]
    }
   ],
   "source": [
    "# 時間戳：日期\n",
    "today_date = pd.Timestamp.today().date()\n",
    "print(today_date)\n",
    "\n",
    "# 時間戳：日期\n",
    "today_date = pd.Timestamp.now().date()\n",
    "print(today_date)"
   ]
  },
  {
   "cell_type": "markdown",
   "metadata": {},
   "source": [
    "Unix 時間戳"
   ]
  },
  {
   "cell_type": "code",
   "execution_count": 29,
   "metadata": {},
   "outputs": [
    {
     "name": "stdout",
     "output_type": "stream",
     "text": [
      "1714379398.829701\n",
      "1714379398829770000\n",
      "1714379398\n",
      "2024-04-29 08:29:58\n"
     ]
    }
   ],
   "source": [
    "# Unix 時間戳\n",
    "ts_unix = pd.Timestamp.now().timestamp()\n",
    "print(ts_unix)\n",
    "\n",
    "# Unix 時間戳完整數值\n",
    "ts_unix_value = pd.Timestamp.now().value\n",
    "print(ts_unix_value)\n",
    "\n",
    "# Unix 整數時間戳\n",
    "ts_unix_int = int(pd.Timestamp.now().timestamp())\n",
    "print(ts_unix_int)\n",
    "\n",
    "# 將整數時間戳轉換為秒\n",
    "ts_ms = pd.Timestamp(ts_unix_int, unit='s')\n",
    "print(ts_ms)"
   ]
  }
 ],
 "metadata": {
  "kernelspec": {
   "display_name": "envST",
   "language": "python",
   "name": "python3"
  },
  "language_info": {
   "codemirror_mode": {
    "name": "ipython",
    "version": 3
   },
   "file_extension": ".py",
   "mimetype": "text/x-python",
   "name": "python",
   "nbconvert_exporter": "python",
   "pygments_lexer": "ipython3",
   "version": "3.10.11"
  }
 },
 "nbformat": 4,
 "nbformat_minor": 2
}
