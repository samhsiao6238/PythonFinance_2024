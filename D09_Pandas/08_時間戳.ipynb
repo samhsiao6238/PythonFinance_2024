{
 "cells": [
  {
   "cell_type": "markdown",
   "metadata": {},
   "source": [
    "時間戳"
   ]
  },
  {
   "cell_type": "markdown",
   "metadata": {},
   "source": [
    "使用 pandas"
   ]
  },
  {
   "cell_type": "code",
   "execution_count": null,
   "metadata": {},
   "outputs": [],
   "source": [
    "import pandas as pd"
   ]
  },
  {
   "cell_type": "markdown",
   "metadata": {},
   "source": [
    "當前時間戳，可用 now 或是 today"
   ]
  },
  {
   "cell_type": "code",
   "execution_count": null,
   "metadata": {},
   "outputs": [],
   "source": [
    "# now\n",
    "ts_now = pd.Timestamp.now()\n",
    "print(ts_now)\n",
    "# today\n",
    "ts_today = pd.Timestamp.today()\n",
    "print(ts_today)"
   ]
  },
  {
   "cell_type": "markdown",
   "metadata": {},
   "source": [
    "取出時間戳的日期"
   ]
  },
  {
   "cell_type": "code",
   "execution_count": null,
   "metadata": {},
   "outputs": [],
   "source": [
    "# 時間戳：日期\n",
    "today_date = pd.Timestamp.today().date()\n",
    "print(today_date)\n",
    "\n",
    "# 時間戳：日期\n",
    "today_date = pd.Timestamp.now().date()\n",
    "print(today_date)"
   ]
  },
  {
   "cell_type": "markdown",
   "metadata": {},
   "source": [
    "Unix 時間戳"
   ]
  },
  {
   "cell_type": "code",
   "execution_count": null,
   "metadata": {},
   "outputs": [],
   "source": [
    "# Unix 時間戳\n",
    "ts_unix = pd.Timestamp.now().timestamp()\n",
    "print(ts_unix)\n",
    "\n",
    "# Unix 時間戳完整數值\n",
    "ts_unix_value = pd.Timestamp.now().value\n",
    "print(ts_unix_value)\n",
    "\n",
    "# Unix 整數時間戳\n",
    "ts_unix_int = int(pd.Timestamp.now().timestamp())\n",
    "print(ts_unix_int)\n",
    "\n",
    "# 將整數時間戳轉換為秒\n",
    "ts_ms = pd.Timestamp(ts_unix_int, unit='s')\n",
    "print(ts_ms)"
   ]
  }
 ],
 "metadata": {
  "kernelspec": {
   "display_name": "envST",
   "language": "python",
   "name": "python3"
  },
  "language_info": {
   "codemirror_mode": {
    "name": "ipython",
    "version": 3
   },
   "file_extension": ".py",
   "mimetype": "text/x-python",
   "name": "python",
   "nbconvert_exporter": "python",
   "pygments_lexer": "ipython3",
   "version": "3.10.11"
  }
 },
 "nbformat": 4,
 "nbformat_minor": 2
}
