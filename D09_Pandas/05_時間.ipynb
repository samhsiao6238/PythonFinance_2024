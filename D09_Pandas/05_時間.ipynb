{
 "cells": [
  {
   "cell_type": "markdown",
   "metadata": {},
   "source": [
    "輸出時間範圍內指定間隔的時間列表"
   ]
  },
  {
   "cell_type": "code",
   "execution_count": 12,
   "metadata": {},
   "outputs": [
    {
     "name": "stdout",
     "output_type": "stream",
     "text": [
      "DatetimeIndex(['2024-04-29 09:00:00', '2024-04-29 09:15:00',\n",
      "               '2024-04-29 09:30:00', '2024-04-29 09:45:00',\n",
      "               '2024-04-29 10:00:00', '2024-04-29 10:15:00',\n",
      "               '2024-04-29 10:30:00', '2024-04-29 10:45:00',\n",
      "               '2024-04-29 11:00:00', '2024-04-29 11:15:00',\n",
      "               '2024-04-29 11:30:00', '2024-04-29 11:45:00',\n",
      "               '2024-04-29 12:00:00'],\n",
      "              dtype='datetime64[ns]', freq='15T') \n",
      "\n"
     ]
    }
   ],
   "source": [
    "import pandas as pd\n",
    "\n",
    "# 時間範圍\n",
    "_range = pd.date_range('9:00', '12:00', freq='15min')\n",
    "print(_range, '\\n')"
   ]
  },
  {
   "cell_type": "code",
   "execution_count": 13,
   "metadata": {},
   "outputs": [
    {
     "name": "stdout",
     "output_type": "stream",
     "text": [
      "DatetimeIndex(['2024-04-29 09:00:00', '2024-04-29 10:00:00',\n",
      "               '2024-04-29 11:00:00', '2024-04-29 12:00:00'],\n",
      "              dtype='datetime64[ns]', freq='H')\n",
      "Int64Index([9, 10, 11, 12], dtype='int64') \n",
      "\n"
     ]
    }
   ],
   "source": [
    "# 指定間隔1小時\n",
    "_range = pd.date_range('9:00', '12:00', freq='H')\n",
    "print(_range)\n",
    "# 取出其中的時數部分\n",
    "print(_range.hour, '\\n')"
   ]
  },
  {
   "cell_type": "code",
   "execution_count": 14,
   "metadata": {},
   "outputs": [
    {
     "name": "stdout",
     "output_type": "stream",
     "text": [
      "DatetimeIndex(['2024-04-29 09:00:00', '2024-04-29 09:00:30',\n",
      "               '2024-04-29 09:01:00', '2024-04-29 09:01:30',\n",
      "               '2024-04-29 09:02:00', '2024-04-29 09:02:30',\n",
      "               '2024-04-29 09:03:00'],\n",
      "              dtype='datetime64[ns]', freq='30S') \n",
      "\n",
      "Int64Index([0, 30, 0, 30, 0, 30, 0], dtype='int64')\n",
      "Int64Index([0, 0, 1, 1, 2, 2, 3], dtype='int64')\n"
     ]
    }
   ],
   "source": [
    "# 指定間隔30秒\n",
    "_range = pd.date_range('9:00', '9:03', freq='30S')\n",
    "print(_range, '\\n')\n",
    "# 取出其中的秒數\n",
    "print(_range.second)\n",
    "# 取出其中的分\n",
    "print(_range.minute)"
   ]
  }
 ],
 "metadata": {
  "kernelspec": {
   "display_name": "envST",
   "language": "python",
   "name": "python3"
  },
  "language_info": {
   "codemirror_mode": {
    "name": "ipython",
    "version": 3
   },
   "file_extension": ".py",
   "mimetype": "text/x-python",
   "name": "python",
   "nbconvert_exporter": "python",
   "pygments_lexer": "ipython3",
   "version": "3.10.11"
  }
 },
 "nbformat": 4,
 "nbformat_minor": 2
}
