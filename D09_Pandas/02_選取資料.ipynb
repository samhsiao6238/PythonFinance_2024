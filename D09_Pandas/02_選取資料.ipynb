{
 "cells": [
  {
   "cell_type": "markdown",
   "metadata": {},
   "source": [
    "透過 iloc 取出列與欄索引範圍的值"
   ]
  },
  {
   "cell_type": "code",
   "execution_count": 7,
   "metadata": {},
   "outputs": [
    {
     "name": "stdout",
     "output_type": "stream",
     "text": [
      "原始資料：\n",
      "   data2  data1  data3  data4  data5\n",
      "0     13     33     11     12     31\n",
      "1     22     27      9      4     44\n",
      "2     43     65     13      3     23\n",
      "3     18     29     63     17      4\n",
      "4     66      1      5     38     51 \n",
      "\n",
      "選取範圍：列 0-3、欄 1-3：\n",
      "   data1  data3  data4\n",
      "0     33     11     12\n",
      "1     27      9      4\n",
      "2     65     13      3\n",
      "3     29     63     17\n"
     ]
    }
   ],
   "source": [
    "import pandas as pd\n",
    "\n",
    "# 建立字典\n",
    "data = {\n",
    "    'data2': [13, 22, 43, 18, 66],\n",
    "    'data1': [33, 27, 65, 29, 1],\n",
    "    'data3': [11, 9, 13, 63, 5],\n",
    "    'data4': [12, 4, 3, 17, 38],\n",
    "    'data5': [31, 44, 23, 4, 51]\n",
    "}\n",
    "\n",
    "# 轉換\n",
    "data = pd.DataFrame(data)\n",
    "print('原始資料：')\n",
    "print(data, '\\n')\n",
    "\n",
    "# 選取範圍：列 0-3、欄 1－3\n",
    "print('選取範圍：列 0-3、欄 1-3：')\n",
    "data_select = data.iloc[:4, 1:4]\n",
    "print(data_select)"
   ]
  },
  {
   "cell_type": "markdown",
   "metadata": {},
   "source": [
    "透過 loc 取出指定索引的值"
   ]
  },
  {
   "cell_type": "code",
   "execution_count": 11,
   "metadata": {},
   "outputs": [
    {
     "name": "stdout",
     "output_type": "stream",
     "text": [
      "原始資料：\n",
      "   data2  data1  data3  data4  data5\n",
      "0     13     33     11     12     31\n",
      "1     22     27      9      4     44\n",
      "2     43     65     13      3     23\n",
      "3     18     29     63     17      4\n",
      "4     66      1      5     38     51 \n",
      "\n",
      "取出每個欄位指定列索引的值：\n",
      "data2    43\n",
      "data1    65\n",
      "data3    13\n",
      "data4     3\n",
      "data5    23\n",
      "Name: 2, dtype: int64 \n",
      "\n",
      "取出每個欄位指定列索引的值並作布林判斷：\n",
      "data2     True\n",
      "data1     True\n",
      "data3    False\n",
      "data4    False\n",
      "data5     True\n",
      "Name: 2, dtype: bool\n"
     ]
    }
   ],
   "source": [
    "import pandas as pd\n",
    "\n",
    "# 建立字典\n",
    "data = {\n",
    "    'data2': [13, 22, 43, 18, 66],\n",
    "    'data1': [33, 27, 65, 29, 1],\n",
    "    'data3': [11, 9, 13, 63, 5],\n",
    "    'data4': [12, 4, 3, 17, 38],\n",
    "    'data5': [31, 44, 23, 4, 51]\n",
    "}\n",
    "\n",
    "# 轉換\n",
    "data = pd.DataFrame(data)\n",
    "print('原始資料：')\n",
    "print(data, '\\n')\n",
    "\n",
    "# 取出每個欄位指定列索引的值\n",
    "print('取出每個欄位指定列索引的值：')\n",
    "value_1 = data.loc[2]\n",
    "print(value_1, '\\n')\n",
    "\n",
    "# 取值並作判斷\n",
    "print('取出每個欄位指定列索引的值並作布林判斷：')\n",
    "value_2 = data.loc[2] > 13\n",
    "print(value_2)"
   ]
  },
  {
   "cell_type": "markdown",
   "metadata": {},
   "source": [
    "透過索引列表取值"
   ]
  },
  {
   "cell_type": "code",
   "execution_count": 13,
   "metadata": {},
   "outputs": [
    {
     "name": "stdout",
     "output_type": "stream",
     "text": [
      "原始資料：\n",
      "   data2  data1  data3  data4  data5\n",
      "0     13     33     11     12     31\n",
      "1     22     27      9      4     44\n",
      "2     43     65     13      3     23\n",
      "3     18     29     63     17      4\n",
      "4     66      1      5     38     51 \n",
      "\n",
      "透過 iloc 取出範圍索引的值：\n",
      "   data2  data1  data3  data4  data5\n",
      "0     13     33     11     12     31\n",
      "1     22     27      9      4     44\n",
      "2     43     65     13      3     23 \n",
      "\n",
      "透過傳入索引列表取值：\n",
      "   data1  data2  data5\n",
      "0     33     13     31\n",
      "2     65     43     23\n",
      "4      1     66     51\n"
     ]
    }
   ],
   "source": [
    "import pandas as pd\n",
    "\n",
    "# 建立字典\n",
    "data = {\n",
    "    'data2': [13, 22, 43, 18, 66],\n",
    "    'data1': [33, 27, 65, 29, 1],\n",
    "    'data3': [11, 9, 13, 63, 5],\n",
    "    'data4': [12, 4, 3, 17, 38],\n",
    "    'data5': [31, 44, 23, 4, 51]\n",
    "}\n",
    "\n",
    "# 轉換\n",
    "data = pd.DataFrame(data)\n",
    "print('原始資料：')\n",
    "print(data, '\\n')\n",
    "\n",
    "# 透過 iloc 取出範圍索引的值\n",
    "print('透過 iloc 取出範圍索引的值：')\n",
    "data1 = data.iloc[0:3, :]\n",
    "print(data1, '\\n')\n",
    "\n",
    "# 透過傳入索引列表取值\n",
    "print('透過傳入索引列表取值：')\n",
    "data2 = data.loc[[0, 2, 4], ['data1', 'data2', 'data5']]\n",
    "print(data2)"
   ]
  }
 ],
 "metadata": {
  "kernelspec": {
   "display_name": "envST",
   "language": "python",
   "name": "python3"
  },
  "language_info": {
   "codemirror_mode": {
    "name": "ipython",
    "version": 3
   },
   "file_extension": ".py",
   "mimetype": "text/x-python",
   "name": "python",
   "nbconvert_exporter": "python",
   "pygments_lexer": "ipython3",
   "version": "3.10.11"
  }
 },
 "nbformat": 4,
 "nbformat_minor": 2
}
