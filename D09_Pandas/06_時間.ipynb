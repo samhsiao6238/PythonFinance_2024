{
 "cells": [
  {
   "cell_type": "markdown",
   "metadata": {},
   "source": [
    "輸出時間範圍內指定間隔的時間列表"
   ]
  },
  {
   "cell_type": "code",
   "execution_count": 12,
   "metadata": {},
   "outputs": [
    {
     "name": "stdout",
     "output_type": "stream",
     "text": [
      "DatetimeIndex(['2024-04-29 09:00:00', '2024-04-29 09:15:00',\n",
      "               '2024-04-29 09:30:00', '2024-04-29 09:45:00',\n",
      "               '2024-04-29 10:00:00', '2024-04-29 10:15:00',\n",
      "               '2024-04-29 10:30:00', '2024-04-29 10:45:00',\n",
      "               '2024-04-29 11:00:00', '2024-04-29 11:15:00',\n",
      "               '2024-04-29 11:30:00', '2024-04-29 11:45:00',\n",
      "               '2024-04-29 12:00:00'],\n",
      "              dtype='datetime64[ns]', freq='15T') \n",
      "\n"
     ]
    }
   ],
   "source": [
    "import pandas as pd\n",
    "\n",
    "# 時間範圍\n",
    "_range = pd.date_range('9:00', '12:00', freq='15min')\n",
    "print(_range, '\\n')"
   ]
  },
  {
   "cell_type": "code",
   "execution_count": 13,
   "metadata": {},
   "outputs": [
    {
     "name": "stdout",
     "output_type": "stream",
     "text": [
      "DatetimeIndex(['2024-04-29 09:00:00', '2024-04-29 10:00:00',\n",
      "               '2024-04-29 11:00:00', '2024-04-29 12:00:00'],\n",
      "              dtype='datetime64[ns]', freq='H')\n",
      "Int64Index([9, 10, 11, 12], dtype='int64') \n",
      "\n"
     ]
    }
   ],
   "source": [
    "# 指定間隔1小時\n",
    "_range = pd.date_range('9:00', '12:00', freq='H')\n",
    "print(_range)\n",
    "# 取出其中的時數部分\n",
    "print(_range.hour, '\\n')"
   ]
  },
  {
   "cell_type": "code",
   "execution_count": 14,
   "metadata": {},
   "outputs": [
    {
     "name": "stdout",
     "output_type": "stream",
     "text": [
      "DatetimeIndex(['2024-04-29 09:00:00', '2024-04-29 09:00:30',\n",
      "               '2024-04-29 09:01:00', '2024-04-29 09:01:30',\n",
      "               '2024-04-29 09:02:00', '2024-04-29 09:02:30',\n",
      "               '2024-04-29 09:03:00'],\n",
      "              dtype='datetime64[ns]', freq='30S') \n",
      "\n",
      "Int64Index([0, 30, 0, 30, 0, 30, 0], dtype='int64')\n",
      "Int64Index([0, 0, 1, 1, 2, 2, 3], dtype='int64')\n"
     ]
    }
   ],
   "source": [
    "# 指定間隔30秒\n",
    "_range = pd.date_range('9:00', '9:03', freq='30S')\n",
    "print(_range, '\\n')\n",
    "# 取出其中的秒數\n",
    "print(_range.second)\n",
    "# 取出其中的分\n",
    "print(_range.minute)"
   ]
  },
  {
   "cell_type": "markdown",
   "metadata": {},
   "source": [
    "### 陣列轉時間\n",
    "\n",
    "_to_datetime_"
   ]
  },
  {
   "cell_type": "code",
   "execution_count": 4,
   "metadata": {},
   "outputs": [
    {
     "name": "stdout",
     "output_type": "stream",
     "text": [
      "0   2023-01-01\n",
      "1   2023-02-01\n",
      "2   2023-03-01\n",
      "Name: date, dtype: datetime64[ns]\n"
     ]
    }
   ],
   "source": [
    "import pandas as pd\n",
    "\n",
    "# 建立資料\n",
    "dates = {\n",
    "    'date': ['2023-01-01', '2023-02-01', '2023-03-01'],\n",
    "    'value': [10, 20, 30]\n",
    "}\n",
    "# 轉換為 DataFrame\n",
    "dates = pd.DataFrame(dates)\n",
    "# 轉換\n",
    "dates['date'] = pd.to_datetime(dates['date'])\n",
    "# 輸出\n",
    "print(dates['date'])\n"
   ]
  },
  {
   "cell_type": "markdown",
   "metadata": {},
   "source": [
    "### 重新採樣\n",
    "\n",
    "_resample_"
   ]
  },
  {
   "cell_type": "code",
   "execution_count": 6,
   "metadata": {},
   "outputs": [
    {
     "name": "stdout",
     "output_type": "stream",
     "text": [
      "重新採樣並計算平均數：\n",
      "            Sales\n",
      "Date             \n",
      "2023-01-31  225.0 \n",
      "\n",
      "重新採樣並計算加總\n",
      "            Sales\n",
      "Date             \n",
      "2023-01-31   6975 \n",
      "\n"
     ]
    }
   ],
   "source": [
    "import pandas as pd\n",
    "\n",
    "# 一月每日銷售額\n",
    "data = {\n",
    "    'Date': pd.date_range(start='2023-01-01', end='2023-01-31'),\n",
    "    'Sales': [200, 220, 210, 210, 190, 200, 230, 250, 240, 230, 220, 210, 205, 215, 225, 235, 230, 210, 215, 220, 225, 210, 215, 210, 220, 230, 240, 250, 260, 270, 280]\n",
    "}\n",
    "\n",
    "# 建立 DataFrame\n",
    "df = pd.DataFrame(data)\n",
    "df.set_index('Date', inplace=True)\n",
    "\n",
    "# 重新採樣並計算平均數\n",
    "monthly_average = df.resample('M').mean()\n",
    "print('重新採樣並計算平均數：')\n",
    "print(monthly_average, '\\n')\n",
    "\n",
    "# 重新採樣並計算加總\n",
    "monthly_total = df.resample('M').sum()\n",
    "print('重新採樣並計算加總：')\n",
    "print(monthly_total, '\\n')\n"
   ]
  },
  {
   "cell_type": "markdown",
   "metadata": {},
   "source": [
    "### 進階範例\n",
    "\n",
    "1. 下面程式碼中，resample 提供數據聚合和時間頻率轉換的功能，resample 根據指定的時間頻率將原始的日銷售數據進行重新組織和聚合。\n",
    "\n",
    "2. 處理時間序列數據時常見的步驟，可將數據從一個較高頻率（每天）轉換到一個較低頻率（月或年）。"
   ]
  },
  {
   "cell_type": "code",
   "execution_count": 9,
   "metadata": {},
   "outputs": [
    {
     "name": "stdout",
     "output_type": "stream",
     "text": [
      "每日銷售額：\n",
      "            Sales\n",
      "Date             \n",
      "2023-01-01    224\n",
      "2023-01-02    170\n",
      "2023-01-03    254\n",
      "2023-01-04    188\n",
      "2023-01-05    285 \n",
      "\n",
      "每月平均銷售額：\n",
      "                 Sales\n",
      "Date                  \n",
      "2023-01-31  214.354839\n",
      "2023-02-28  201.000000\n",
      "2023-03-31  188.580645\n",
      "2023-04-30  181.866667\n",
      "2023-05-31  204.580645 \n",
      "\n",
      "每年總銷售額：\n",
      "            Sales\n",
      "Date             \n",
      "2023-12-31  71955\n",
      "2024-12-31  74079\n",
      "2025-12-31  52295 \n",
      "\n"
     ]
    }
   ],
   "source": [
    "import pandas as pd\n",
    "import numpy as np\n",
    "\n",
    "# 假設跨多年的日銷售數據，採用隨機模擬生成\n",
    "data = {\n",
    "    'Date': pd.date_range(start='2023-01-01', periods=1000, freq='D'),\n",
    "    'Sales': np.random.randint(100, 300, size=1000)\n",
    "}\n",
    "# 轉換\n",
    "df = pd.DataFrame(data)\n",
    "df.set_index('Date', inplace=True)\n",
    "\n",
    "# 輸出每日銷售額\n",
    "print('每日銷售額：')\n",
    "# 只展示前幾行\n",
    "print(df.head(), '\\n')\n",
    "\n",
    "# 計算每月平均銷售額\n",
    "monthly_average = df.resample('M').mean()\n",
    "print('每月平均銷售額：')\n",
    "# 只展示前幾行\n",
    "print(monthly_average.head(), '\\n')\n",
    "\n",
    "# 計算每年總銷售額\n",
    "# 'A'代表年度\n",
    "annual_total = df.resample('A').sum()\n",
    "print('每年總銷售額：')\n",
    "print(annual_total.head(), '\\n')"
   ]
  },
  {
   "cell_type": "markdown",
   "metadata": {},
   "source": [
    "### 資料平移\n",
    "\n",
    "_shift_"
   ]
  },
  {
   "cell_type": "code",
   "execution_count": 10,
   "metadata": {},
   "outputs": [
    {
     "name": "stdout",
     "output_type": "stream",
     "text": [
      "原始數據:\n",
      "            Sales\n",
      "2023-01-01    200\n",
      "2023-01-02    220\n",
      "2023-01-03    210\n",
      "2023-01-04    210\n",
      "2023-01-05    190\n",
      "2023-01-06    200\n",
      "2023-01-07    230\n",
      "2023-01-08    250\n",
      "2023-01-09    240\n",
      "2023-01-10    230\n",
      "\n",
      "向後平移三天的數據:\n",
      "            Sales\n",
      "2023-01-01    NaN\n",
      "2023-01-02    NaN\n",
      "2023-01-03    NaN\n",
      "2023-01-04  200.0\n",
      "2023-01-05  220.0\n",
      "2023-01-06  210.0\n",
      "2023-01-07  210.0\n",
      "2023-01-08  190.0\n",
      "2023-01-09  200.0\n",
      "2023-01-10  230.0\n"
     ]
    }
   ],
   "source": [
    "import pandas as pd\n",
    "\n",
    "# 建立日期範圍和相應的數據\n",
    "date_range = pd.date_range(start='2023-01-01', periods=10, freq='D')\n",
    "data = {\n",
    "    'Sales': [200, 220, 210, 210, 190, 200, 230, 250, 240, 230]\n",
    "}\n",
    "df = pd.DataFrame(data, index=date_range)\n",
    "\n",
    "# 顯示原始數據\n",
    "print(\"原始數據:\")\n",
    "print(df)\n",
    "\n",
    "# 使用 shift 將數據向後平移三天\n",
    "shifted_df = df.shift(3)\n",
    "\n",
    "# 顯示平移後的數據\n",
    "print(\"\\n向後平移三天的數據:\")\n",
    "print(shifted_df)\n"
   ]
  },
  {
   "cell_type": "markdown",
   "metadata": {},
   "source": [
    "### 差值\n",
    "\n",
    "_diff_"
   ]
  },
  {
   "cell_type": "code",
   "execution_count": 11,
   "metadata": {},
   "outputs": [
    {
     "name": "stdout",
     "output_type": "stream",
     "text": [
      "原始收盤價數據:\n",
      "            Close\n",
      "Date             \n",
      "2023-10-01    100\n",
      "2023-10-02    102\n",
      "2023-10-03    101\n",
      "2023-10-04    105\n",
      "2023-10-05    107\n",
      "\n",
      "含日收益率的數據:\n",
      "            Close  Daily Change\n",
      "Date                           \n",
      "2023-10-01    100           NaN\n",
      "2023-10-02    102           2.0\n",
      "2023-10-03    101          -1.0\n",
      "2023-10-04    105           4.0\n",
      "2023-10-05    107           2.0\n",
      "\n",
      "含百分比收益率的數據:\n",
      "            Close  Daily Change  Percentage Change\n",
      "Date                                              \n",
      "2023-10-01    100           NaN                NaN\n",
      "2023-10-02    102           2.0           2.000000\n",
      "2023-10-03    101          -1.0          -0.980392\n",
      "2023-10-04    105           4.0           3.960396\n",
      "2023-10-05    107           2.0           1.904762\n"
     ]
    }
   ],
   "source": [
    "import pandas as pd\n",
    "\n",
    "# 假設這是某股票的收盤價數據\n",
    "data = {\n",
    "    'Date': pd.date_range(start='2023-10-01', periods=5, freq='D'),\n",
    "    'Close': [100, 102, 101, 105, 107]\n",
    "}\n",
    "df = pd.DataFrame(data)\n",
    "df.set_index('Date', inplace=True)\n",
    "\n",
    "# 顯示原始收盤價數據\n",
    "print(\"原始收盤價數據:\")\n",
    "print(df)\n",
    "\n",
    "# 使用 diff() 計算日收益率\n",
    "df['Daily Change'] = df['Close'].diff()\n",
    "\n",
    "# 顯示含日收益率的數據\n",
    "print(\"\\n含日收益率的數據:\")\n",
    "print(df)\n",
    "\n",
    "# 計算百分比收益率，將差分結果除以前一天的價格\n",
    "# 計算百分比收益率\n",
    "df['Percentage Change'] = df['Close'].diff() / df['Close'].shift(1) * 100\n",
    "\n",
    "# 顯示含百分比收益率的數據\n",
    "print(\"\\n含百分比收益率的數據:\")\n",
    "print(df)"
   ]
  },
  {
   "cell_type": "markdown",
   "metadata": {},
   "source": [
    "滾動數據\n",
    "\n",
    "_rolling_\n",
    "\n",
    "1. 在金融分析中，移動平均線（Moving Average, MA）和移動標準差是用來平滑數據序列和識別趨勢的常見工具，在 Pandas 中，可以使用 rolling() 來計算。\n",
    "2. 除了以下平均數 `mean()`、標準差 `std()` 的方法外，還有滾動的加總 `sum()`、最大值 `max()`、最小值 `min()`、變異數 `var()`、計次 `count()`、相關係數 `corr()`、共變數 `cov()`。"
   ]
  },
  {
   "cell_type": "code",
   "execution_count": 12,
   "metadata": {},
   "outputs": [
    {
     "name": "stdout",
     "output_type": "stream",
     "text": [
      "原始收盤價數據:\n",
      "            Close\n",
      "Date             \n",
      "2023-10-01    100\n",
      "2023-10-02    102\n",
      "2023-10-03    101\n",
      "2023-10-04    105\n",
      "2023-10-05    107\n",
      "2023-10-06    108\n",
      "2023-10-07    110\n",
      "2023-10-08    109\n",
      "2023-10-09    111\n",
      "2023-10-10    115\n",
      "\n",
      "含移動平均線和移動標準差的數據:\n",
      "            Close  5-Day MA  5-Day Std\n",
      "Date                                  \n",
      "2023-10-01    100       NaN        NaN\n",
      "2023-10-02    102       NaN        NaN\n",
      "2023-10-03    101       NaN        NaN\n",
      "2023-10-04    105       NaN        NaN\n",
      "2023-10-05    107     103.0   2.915476\n",
      "2023-10-06    108     104.6   3.049590\n",
      "2023-10-07    110     106.2   3.420526\n",
      "2023-10-08    109     107.8   1.923538\n",
      "2023-10-09    111     109.0   1.581139\n",
      "2023-10-10    115     110.6   2.701851\n"
     ]
    }
   ],
   "source": [
    "import pandas as pd\n",
    "\n",
    "# 假設這是某股票的收盤價數據\n",
    "data = {\n",
    "    'Date': pd.date_range(start='2023-10-01', periods=10, freq='D'),\n",
    "    'Close': [100, 102, 101, 105, 107, 108, 110, 109, 111, 115]\n",
    "}\n",
    "df = pd.DataFrame(data)\n",
    "df.set_index('Date', inplace=True)\n",
    "\n",
    "# 顯示原始收盤價數據\n",
    "print(\"原始收盤價數據:\")\n",
    "print(df)\n",
    "\n",
    "# 計算5天移動平均線\n",
    "df['5-Day MA'] = df['Close'].rolling(window=5).mean()\n",
    "\n",
    "# 計算5天移動標準差\n",
    "df['5-Day Std'] = df['Close'].rolling(window=5).std()\n",
    "\n",
    "# 顯示含移動平均線和移動標準差的數據\n",
    "print(\"\\n含移動平均線和移動標準差的數據:\")\n",
    "print(df)\n",
    "\n"
   ]
  }
 ],
 "metadata": {
  "kernelspec": {
   "display_name": "envST",
   "language": "python",
   "name": "python3"
  },
  "language_info": {
   "codemirror_mode": {
    "name": "ipython",
    "version": 3
   },
   "file_extension": ".py",
   "mimetype": "text/x-python",
   "name": "python",
   "nbconvert_exporter": "python",
   "pygments_lexer": "ipython3",
   "version": "3.10.11"
  }
 },
 "nbformat": 4,
 "nbformat_minor": 2
}
