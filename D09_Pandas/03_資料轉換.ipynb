{
 "cells": [
  {
   "cell_type": "markdown",
   "metadata": {},
   "source": [
    "# 資料轉換\n",
    "\n",
    "1. 字串轉文件\n",
    "2. 將 Series 或 DataFrame 的資料轉換為數值型態\n",
    "3. 將 pandas 物件中的資料轉換成指定的類型\n",
    "4. 將數據轉換為日期和時間格式\n",
    "5. 建立虛擬變數\n",
    "6. 替換\n",
    "7. 類別數據編碼\n",
    "8. 數據標準化\n",
    "9. 數據歸一化\n",
    "\n",
    "<br>"
   ]
  },
  {
   "cell_type": "markdown",
   "metadata": {},
   "source": [
    "### 1. 字串轉文件\n",
    "\n",
    "_StringIO_"
   ]
  },
  {
   "cell_type": "code",
   "execution_count": 2,
   "metadata": {},
   "outputs": [
    {
     "name": "stdout",
     "output_type": "stream",
     "text": [
      "<class 'str'> <class '_io.StringIO'>\n",
      "   編號  名稱  銷售量\n",
      "0   1  蘋果   30\n",
      "1   2  橙子   45\n",
      "2   3  香蕉   50\n",
      "\n",
      "\n",
      "\n"
     ]
    }
   ],
   "source": [
    "\n",
    "import pandas as pd\n",
    "from io import StringIO\n",
    "\n",
    "# 字串\n",
    "_str = \"\"\"\n",
    "編號,名稱,銷售量\n",
    "1,蘋果,30\n",
    "2,橙子,45\n",
    "3,香蕉,50\n",
    "\"\"\"\n",
    "\n",
    "# 使用 StringIO 將字串轉換為文件對象\n",
    "data_io = StringIO(_str)\n",
    "\n",
    "# 型別\n",
    "print(type(_str), type(data_io))\n",
    "\n",
    "# 使用 pandas 的 read_csv 函數從 StringIO 讀取數據\n",
    "df = pd.read_csv(data_io)\n",
    "\n",
    "# 輸出 DataFrame\n",
    "print(df)\n",
    "\n",
    "#############\n",
    "# 提供一點間隔\n",
    "print('\\n\\n')\n",
    "#############"
   ]
  },
  {
   "cell_type": "markdown",
   "metadata": {},
   "source": [
    "### 2. 將 Series 或 DataFrame 的資料轉換為數值型態\n",
    "\n",
    "_to_numeric_\n",
    "\n",
    "1. 內置參數 `errors` 提供了三種選項來處理無法轉換時的異常。\n",
    "\n",
    "2. `raise`：這是預設值，在無法轉換的值直接引發錯誤。\n",
    "\n",
    "3. `coerce`：將無法轉換的值設置為 `NaN`。\n",
    "\n",
    "4. `ignore`：如果存在無法轉換的值，則保留原值不變。"
   ]
  },
  {
   "cell_type": "code",
   "execution_count": 3,
   "metadata": {},
   "outputs": [
    {
     "name": "stdout",
     "output_type": "stream",
     "text": [
      "   產品    價格\n",
      "0  蘋果  10.0\n",
      "1  橙子  20.0\n",
      "2  香蕉   NaN\n",
      "3   梨  40.0\n",
      "\n",
      "\n",
      "\n"
     ]
    }
   ],
   "source": [
    "import pandas as pd\n",
    "\n",
    "# 建立一個包含數字和非數字數據的 DataFrame\n",
    "data = {\n",
    "    '產品': ['蘋果', '橙子', '香蕉', '梨'],\n",
    "    '價格': ['10', '20', '三十', '40']\n",
    "}\n",
    "# 建立 DataFrame\n",
    "df = pd.DataFrame(data)\n",
    "\n",
    "# 嘗試將 '價格' 列轉換為數字\n",
    "# 使用 errors='coerce' 參數將無法轉換的值設置為 NaN\n",
    "df['價格'] = pd.to_numeric(\n",
    "    df['價格'],\n",
    "    errors='coerce'\n",
    ")\n",
    "\n",
    "# 輸出轉換後的 DataFrame\n",
    "print(df)\n",
    "\n",
    "#############\n",
    "# 提供一點間隔\n",
    "print('\\n\\n')\n",
    "#############"
   ]
  },
  {
   "cell_type": "markdown",
   "metadata": {},
   "source": [
    "### 3. 將 pandas 物件中的資料轉換成指定的類型\n",
    "\n",
    "_astype_\n",
    "\n",
    "1. _確保數據類型一致性_。\n",
    "2. astype() 是 pandas Series 和 DataFrame 用於類型轉換的方法，不僅限於數值型態，也可以轉換為 str、float 等 Python 標準數據類型。\n",
    "3. 跟 `to_numeric()` 不同在於 `astype()` 並無內置例外處理的參數，需另外透過 `try-except` 進行捕捉。"
   ]
  },
  {
   "cell_type": "code",
   "execution_count": 4,
   "metadata": {},
   "outputs": [
    {
     "name": "stdout",
     "output_type": "stream",
     "text": [
      "   名稱  價格\n",
      "0  蘋果  10\n",
      "1  橙子  20\n",
      "2  香蕉  30\n",
      "\n",
      "\n",
      "\n"
     ]
    }
   ],
   "source": [
    "\n",
    "import pandas as pd\n",
    "\n",
    "# 建立一個 DataFrame\n",
    "data = {\n",
    "    '名稱': ['蘋果', '橙子', '香蕉'],\n",
    "    '價格': ['10', '20', '30']\n",
    "}\n",
    "#\n",
    "df = pd.DataFrame(data)\n",
    "\n",
    "# 將價格轉換為整數型別\n",
    "df['價格'] = df['價格'].astype(int)\n",
    "\n",
    "# 輸出轉換後的 DataFrame\n",
    "print(df)\n",
    "\n",
    "#############\n",
    "# 提供一點間隔\n",
    "print('\\n\\n')\n",
    "#############\n"
   ]
  },
  {
   "cell_type": "markdown",
   "metadata": {},
   "source": [
    "### "
   ]
  },
  {
   "cell_type": "markdown",
   "metadata": {},
   "source": [
    "### 4. 將數據轉換為日期和時間格式\n",
    "\n",
    "_to_datetime_"
   ]
  },
  {
   "cell_type": "code",
   "execution_count": 9,
   "metadata": {},
   "outputs": [
    {
     "name": "stdout",
     "output_type": "stream",
     "text": [
      "轉換前 '日期' 列的數據型別： object\n",
      "轉換後 '日期' 列的數據型別： datetime64[ns]\n",
      "          日期   銷量\n",
      "0 2021-01-01  100\n",
      "1 2021-02-01  150\n",
      "2 2021-03-01  200\n",
      "\n",
      "\n",
      "\n"
     ]
    }
   ],
   "source": [
    "\n",
    "import pandas as pd\n",
    "\n",
    "# 建立一個包含日期的 DataFrame\n",
    "data = {\n",
    "    '日期': ['2021-01-01', '2021-02-01', '2021-03-01'],\n",
    "    '銷量': [100, 150, 200]\n",
    "}\n",
    "# 轉換為 DataFrame 物件\n",
    "df = pd.DataFrame(data)\n",
    "\n",
    "# 輸出轉換前的 '日期' 列的數據型別\n",
    "# 因為是從字串列表建立的，此時的類型會是 `object`\n",
    "print(\"轉換前 '日期' 列的數據型別：\", df['日期'].dtype)\n",
    "\n",
    "# 將日期列轉換為 datetime 對象\n",
    "df['日期'] = pd.to_datetime(df['日期'])\n",
    "\n",
    "# 輸出轉換後的 '日期' 列的數據型別\n",
    "print(\"轉換後 '日期' 列的數據型別：\", df['日期'].dtype)\n",
    "\n",
    "# 輸出轉換後的 DataFrame\n",
    "print(df)\n",
    "\n",
    "#############\n",
    "# 提供一點間隔\n",
    "print('\\n\\n')\n",
    "#############"
   ]
  },
  {
   "cell_type": "markdown",
   "metadata": {},
   "source": [
    "### 5. 建立虛擬變數\n",
    "\n",
    "_get_dummies()，應用在機器學習、統計研究等領域_"
   ]
  },
  {
   "cell_type": "code",
   "execution_count": 11,
   "metadata": {},
   "outputs": [
    {
     "name": "stdout",
     "output_type": "stream",
     "text": [
      "   水果\n",
      "0  蘋果\n",
      "1  橙子\n",
      "2  香蕉\n",
      "3  蘋果\n",
      "   橙子  蘋果  香蕉\n",
      "0   0   1   0\n",
      "1   1   0   0\n",
      "2   0   0   1\n",
      "3   0   1   0\n",
      "\n",
      "\n",
      "\n"
     ]
    }
   ],
   "source": [
    "\n",
    "import pandas as pd\n",
    "\n",
    "# 建立一個包含類別型數據的 DataFrame\n",
    "data = {\n",
    "    '水果': ['蘋果', '橙子', '香蕉', '蘋果']\n",
    "}\n",
    "# \n",
    "df = pd.DataFrame(data)\n",
    "\n",
    "#\n",
    "print(df)\n",
    "\n",
    "# 將水果類別轉換為虛擬變數\n",
    "dummies = pd.get_dummies(df['水果'])\n",
    "\n",
    "# 輸出虛擬變數\n",
    "print(dummies)\n",
    "\n",
    "#############\n",
    "# 提供一點間隔\n",
    "print('\\n\\n')\n",
    "#############"
   ]
  },
  {
   "cell_type": "markdown",
   "metadata": {},
   "source": [
    "### 6. 替換\n",
    "\n",
    "_replace_\n",
    "\n",
    "1. 用於在 DataFrame 中替換一個值或一系列值。這非常適合進行數據標準化或對特定數據進行清理。"
   ]
  },
  {
   "cell_type": "code",
   "execution_count": 16,
   "metadata": {},
   "outputs": [
    {
     "name": "stdout",
     "output_type": "stream",
     "text": [
      "原始 DataFrame：\n",
      "       水果  價格\n",
      "0      蘋果  10\n",
      "1  orange  20\n",
      "2  banana  30\n",
      "3      蘋果  40 \n",
      "\n",
      "替換後的 DataFrame：\n",
      "   水果  價格\n",
      "0  蘋果  10\n",
      "1  橙子  20\n",
      "2  香蕉  30\n",
      "3  蘋果  40\n",
      "\n",
      "\n",
      "\n"
     ]
    }
   ],
   "source": [
    "\n",
    "import pandas as pd\n",
    "\n",
    "# 建立一個 DataFrame\n",
    "data = {\n",
    "    '水果': ['蘋果', 'orange', 'banana', '蘋果'],\n",
    "    '價格': [10, 20, 30, 40]\n",
    "}\n",
    "df = pd.DataFrame(data)\n",
    "\n",
    "#\n",
    "print('原始 DataFrame：')\n",
    "print(df, '\\n')\n",
    "\n",
    "# 替換某些英文名稱為中文\n",
    "df.replace({\n",
    "    'orange': '橙子',\n",
    "    'banana': '香蕉'\n",
    "}, inplace=True)\n",
    "\n",
    "# 輸出替換後的 DataFrame\n",
    "print('替換後的 DataFrame：')\n",
    "print(df)\n",
    "\n",
    "#############\n",
    "# 提供一點間隔\n",
    "print('\\n\\n')\n",
    "#############"
   ]
  },
  {
   "cell_type": "markdown",
   "metadata": {},
   "source": [
    "### 7. 類別數據編碼\n",
    "\n",
    "_LabelEncoder 標籤編碼_\n",
    "\n",
    "1. 需要安裝 `scikit-learn`，可參考 [官方說明](https://scikit-learn.org/stable/index.html)。\n",
    "\n",
    "    ```bash\n",
    "    pip install scikit-learn\n",
    "    ```"
   ]
  },
  {
   "cell_type": "code",
   "execution_count": 17,
   "metadata": {},
   "outputs": [
    {
     "name": "stdout",
     "output_type": "stream",
     "text": [
      "   品牌\n",
      "0   0\n",
      "1   1\n",
      "2   0\n",
      "3   2\n",
      "\n",
      "\n",
      "\n"
     ]
    }
   ],
   "source": [
    "from sklearn.preprocessing import LabelEncoder\n",
    "import pandas as pd\n",
    "\n",
    "# 建立一個包含類別型數據的 DataFrame\n",
    "data = {\n",
    "    '品牌': ['Apple', 'Samsung', 'Apple', 'Xiaomi']\n",
    "}\n",
    "# \n",
    "df = pd.DataFrame(data)\n",
    "\n",
    "# 建立標籤編碼器\n",
    "label_encoder = LabelEncoder()\n",
    "\n",
    "# 將品牌進行標籤編碼\n",
    "df['品牌'] = label_encoder.fit_transform(df['品牌'])\n",
    "\n",
    "# 輸出編碼後的 DataFrame\n",
    "print(df)\n",
    "\n",
    "#############\n",
    "# 提供一點間隔\n",
    "print('\\n\\n')\n",
    "#############"
   ]
  },
  {
   "cell_type": "markdown",
   "metadata": {},
   "source": [
    "### 8. 數據標準化"
   ]
  },
  {
   "cell_type": "code",
   "execution_count": 20,
   "metadata": {},
   "outputs": [
    {
     "name": "stdout",
     "output_type": "stream",
     "text": [
      "   分數     標準化分數\n",
      "0  90  0.582816\n",
      "1  82 -0.349689\n",
      "2  70 -1.748447\n",
      "3  88  0.349689\n",
      "4  95  1.165631\n",
      "\n",
      "\n",
      "\n"
     ]
    }
   ],
   "source": [
    "\n",
    "from sklearn.preprocessing import StandardScaler\n",
    "import pandas as pd\n",
    "\n",
    "# 建立一個 DataFrame\n",
    "data = {\n",
    "    '分數': [90, 82, 70, 88, 95]\n",
    "}\n",
    "df = pd.DataFrame(data)\n",
    "\n",
    "# 建立標準化器\n",
    "scaler = StandardScaler()\n",
    "\n",
    "# 對數據進行標準化\n",
    "df['標準化分數'] = scaler.fit_transform(df[['分數']])\n",
    "\n",
    "# 輸出標準化後的 DataFrame\n",
    "print(df)\n",
    "\n",
    "#############\n",
    "# 提供一點間隔\n",
    "print('\\n\\n')\n",
    "#############"
   ]
  },
  {
   "cell_type": "markdown",
   "metadata": {},
   "source": [
    "### 數據的歸一化\n",
    "\n",
    "_待續_"
   ]
  }
 ],
 "metadata": {
  "kernelspec": {
   "display_name": "envST",
   "language": "python",
   "name": "python3"
  },
  "language_info": {
   "codemirror_mode": {
    "name": "ipython",
    "version": 3
   },
   "file_extension": ".py",
   "mimetype": "text/x-python",
   "name": "python",
   "nbconvert_exporter": "python",
   "pygments_lexer": "ipython3",
   "version": "3.10.11"
  }
 },
 "nbformat": 4,
 "nbformat_minor": 2
}
