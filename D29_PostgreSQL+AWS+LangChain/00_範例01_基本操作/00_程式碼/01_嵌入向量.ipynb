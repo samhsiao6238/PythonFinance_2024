{
 "cells": [
  {
   "cell_type": "markdown",
   "metadata": {},
   "source": [
    "# 開始探索嵌入 `embeddings`"
   ]
  },
  {
   "cell_type": "code",
   "execution_count": 1,
   "metadata": {},
   "outputs": [],
   "source": [
    "# BedrockEmbeddings 類別是用來將文本轉換成嵌入向量的工具\n",
    "from langchain.embeddings import BedrockEmbeddings"
   ]
  },
  {
   "cell_type": "markdown",
   "metadata": {},
   "source": [
    "## 嵌入一個句子"
   ]
  },
  {
   "cell_type": "code",
   "execution_count": 2,
   "metadata": {},
   "outputs": [
    {
     "name": "stdout",
     "output_type": "stream",
     "text": [
      "1536\n"
     ]
    }
   ],
   "source": [
    "#\n",
    "embeddings = BedrockEmbeddings()\n",
    "text = \"新德里是印度的首都\"\n",
    "# 將 text 變數中的文字轉換為嵌入向量\n",
    "query_result = embeddings.embed_query(text)\n",
    "# 向量的長度就是向量的維度\n",
    "print(len(query_result))"
   ]
  },
  {
   "cell_type": "markdown",
   "metadata": {},
   "source": [
    "## 嵌入字串列表"
   ]
  },
  {
   "cell_type": "code",
   "execution_count": 3,
   "metadata": {},
   "outputs": [
    {
     "name": "stdout",
     "output_type": "stream",
     "text": [
      "每個向量的維度： [1536, 1536, 1536]\n"
     ]
    }
   ],
   "source": [
    "# 創建一個 BedrockEmbeddings 類別的實例\n",
    "embeddings = BedrockEmbeddings()\n",
    "texts = [\"新德里是印度的首都\", \"歡迎來到印度\", \"我今天要去踢足球\"]\n",
    "# 改用 embed_documents 將列表轉換為嵌入向量\n",
    "doc_vectors = embeddings.embed_documents(texts)\n",
    "# 向量的長度就是向量的維度\n",
    "print(f\"每個向量的維度： {[len(i) for i in doc_vectors]}\")"
   ]
  }
 ],
 "metadata": {
  "kernelspec": {
   "display_name": "envllmChatBot",
   "language": "python",
   "name": "python3"
  },
  "language_info": {
   "codemirror_mode": {
    "name": "ipython",
    "version": 3
   },
   "file_extension": ".py",
   "mimetype": "text/x-python",
   "name": "python",
   "nbconvert_exporter": "python",
   "pygments_lexer": "ipython3",
   "version": "3.11.7"
  }
 },
 "nbformat": 4,
 "nbformat_minor": 2
}
