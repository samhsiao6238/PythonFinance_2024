{
 "cells": [
  {
   "cell_type": "markdown",
   "id": "81555d2e-76bc-4738-a06f-4e1d421d8108",
   "metadata": {
    "tags": []
   },
   "source": [
    "# 向量儲存 Vector datastore\n"
   ]
  },
  {
   "cell_type": "markdown",
   "id": "621b91c0-f5f4-49f1-9a44-f53d8338f63f",
   "metadata": {
    "tags": []
   },
   "source": [
    "使用語法查詢\n"
   ]
  },
  {
   "cell_type": "markdown",
   "id": "982876f2-fce3-4af7-ae2d-4061a35e2915",
   "metadata": {
    "tags": []
   },
   "source": [
    "```sql\n",
    "-- 顯示當前資料庫\n",
    "SELECT current_database();\n",
    "\n",
    "-- 顯示資料庫中的資料表\n",
    "SELECT table_name\n",
    "FROM postgres.information_schema.tables\n",
    "WHERE table_schema = 'public';\n",
    "```\n"
   ]
  },
  {
   "cell_type": "markdown",
   "id": "d436e685-01d0-4ba5-8807-b0527d3e462d",
   "metadata": {
    "tags": []
   },
   "source": [
    "導入函式庫\n"
   ]
  },
  {
   "cell_type": "code",
   "execution_count": 73,
   "id": "adfe5d1b-554c-43af-b1b5-df181ddf5efc",
   "metadata": {
    "tags": []
   },
   "outputs": [
    {
     "data": {
      "text/plain": [
       "True"
      ]
     },
     "execution_count": 73,
     "metadata": {},
     "output_type": "execute_result"
    }
   ],
   "source": [
    "# BedrockEmbeddings 類別是用來將文本轉換成嵌入向量的工具\n",
    "from langchain.embeddings import BedrockEmbeddings\n",
    "from langchain.vectorstores.pgvector import PGVector, DistanceStrategy\n",
    "import pandas as pd\n",
    "from sqlalchemy import create_engine, text\n",
    "import os\n",
    "from dotenv import load_dotenv\n",
    "\n",
    "# 載入環境參數\n",
    "load_dotenv()"
   ]
  },
  {
   "cell_type": "markdown",
   "id": "d94c137f-2a55-4d87-8cb3-ea0bbd2df59a",
   "metadata": {
    "tags": []
   },
   "source": [
    "設定連線資訊"
   ]
  },
  {
   "cell_type": "code",
   "execution_count": 74,
   "id": "86c1240c-4765-4837-8737-64a3a4cb634e",
   "metadata": {
    "tags": []
   },
   "outputs": [],
   "source": [
    "# 集合名稱\n",
    "COLLECTION_NAME = \"my_collection\"\n",
    "\n",
    "# 連線參數\n",
    "CONNECTION_STRING = PGVector.connection_string_from_db_params(\n",
    "    driver=os.getenv(\"PGVECTOR_DRIVER\"),\n",
    "    user=os.getenv(\"PGVECTOR_USER\"),\n",
    "    password=os.getenv(\"PGVECTOR_PASSWORD\"),\n",
    "    host=os.getenv(\"PGVECTOR_HOST\"),\n",
    "    port=os.getenv(\"PGVECTOR_PORT\"),\n",
    "    database=os.getenv(\"PGVECTOR_DATABASE\"),\n",
    ")"
   ]
  },
  {
   "cell_type": "markdown",
   "id": "00e87cee",
   "metadata": {},
   "source": [
    "連線並查詢"
   ]
  },
  {
   "cell_type": "code",
   "execution_count": 75,
   "id": "e9443816",
   "metadata": {},
   "outputs": [
    {
     "name": "stdout",
     "output_type": "stream",
     "text": [
      "當前資料庫名稱：mydatabase\n"
     ]
    }
   ],
   "source": [
    "# 建立 SQLAlchemy 引擎\n",
    "engine = create_engine(CONNECTION_STRING)\n",
    "\n",
    "# 執行查詢來獲取當前資料庫名稱\n",
    "query = \"SELECT current_database();\"\n",
    "\n",
    "with engine.connect() as connection:\n",
    "    result = connection.execute(text(query))\n",
    "    current_database = result.fetchone()[0]\n",
    "\n",
    "print(f\"當前資料庫名稱：{current_database}\")"
   ]
  },
  {
   "cell_type": "markdown",
   "id": "4e12ebde",
   "metadata": {},
   "source": [
    "查詢當前資料表"
   ]
  },
  {
   "cell_type": "code",
   "execution_count": 76,
   "id": "32a1f9b7",
   "metadata": {},
   "outputs": [
    {
     "name": "stdout",
     "output_type": "stream",
     "text": [
      "                table_name\n",
      "0  langchain_pg_collection\n",
      "1   langchain_pg_embedding\n"
     ]
    }
   ],
   "source": [
    "# 查詢資料表名稱\n",
    "query = \"\"\"\n",
    "    SELECT table_name\n",
    "    FROM information_schema.tables\n",
    "    WHERE table_schema = 'public';\n",
    "\"\"\"\n",
    "\n",
    "# 建立與資料庫的連接並執行查詢\n",
    "with engine.connect() as connection:\n",
    "    result = connection.execute(text(query))\n",
    "    tables = result.fetchall()\n",
    "\n",
    "# 將結果轉換為 DataFrame 並顯示\n",
    "df = pd.DataFrame(tables, columns=['table_name'])\n",
    "print(df)"
   ]
  },
  {
   "cell_type": "markdown",
   "id": "87cad049",
   "metadata": {},
   "source": [
    "## 建立向量"
   ]
  },
  {
   "cell_type": "markdown",
   "id": "634b02f6",
   "metadata": {},
   "source": [
    "建立操作向量的實體"
   ]
  },
  {
   "cell_type": "code",
   "execution_count": 77,
   "id": "761bf7c4",
   "metadata": {},
   "outputs": [
    {
     "name": "stderr",
     "output_type": "stream",
     "text": [
      "/Users/samhsiao/Documents/PythonVenv/envllmChatBot/lib/python3.11/site-packages/langchain_community/vectorstores/pgvector.py:322: LangChainPendingDeprecationWarning: Please use JSONB instead of JSON for metadata. This change will allow for more efficient querying that involves filtering based on metadata.Please note that filtering operators have been changed when using JSOB metadata to be prefixed with a $ sign to avoid name collisions with columns. If you're using an existing database, you will need to create adb migration for your metadata column to be JSONB and update your queries to use the new operators. \n",
      "  warn_deprecated(\n"
     ]
    }
   ],
   "source": [
    "# 創建一個實例，用來將文本轉換成嵌入向量\n",
    "embeddings = BedrockEmbeddings()\n",
    "\n",
    "# 建立 VectorDB 儲存實例\n",
    "my_vector_store = PGVector(\n",
    "    collection_name=COLLECTION_NAME,\n",
    "    connection_string=CONNECTION_STRING,\n",
    "    embedding_function=embeddings,\n",
    "    distance_strategy=DistanceStrategy.EUCLIDEAN,\n",
    ")"
   ]
  },
  {
   "cell_type": "markdown",
   "id": "1650de41-3b6b-4dbd-b4e1-084b4f574222",
   "metadata": {
    "tags": []
   },
   "source": [
    "查詢集合 `langchain_pg_collection` 的內容"
   ]
  },
  {
   "cell_type": "code",
   "execution_count": 78,
   "id": "e98c917e",
   "metadata": {},
   "outputs": [
    {
     "name": "stdout",
     "output_type": "stream",
     "text": [
      "            name cmetadata                                  uuid\n",
      "0  my_collection      None  30286ce9-1967-4266-96f7-1b9ee9630add\n"
     ]
    }
   ],
   "source": [
    "# 取得環境參數\n",
    "_DATABASE=os.getenv(\"PGVECTOR_DATABASE\")\n",
    "_USER=os.getenv(\"PGVECTOR_USER\")\n",
    "_PASSWORD=os.getenv(\"PGVECTOR_PASSWORD\")\n",
    "_HOST=os.getenv(\"PGVECTOR_HOST\")\n",
    "_PORT=os.getenv(\"PGVECTOR_PORT\")\n",
    "\n",
    "# 連接到 PostgreSQL 資料庫\n",
    "engine = create_engine(\n",
    "    f'postgresql+psycopg2://{_USER}:{_PASSWORD}@{_HOST}:{_PORT}/{_DATABASE}'\n",
    ")\n",
    "\n",
    "# 查詢資料表內容並將結果儲存在 DataFrame 中\n",
    "query = \"SELECT * FROM langchain_pg_collection;\"\n",
    "\n",
    "# 建立與資料庫的連接並執行查詢\n",
    "with engine.connect() as connection:\n",
    "    df = pd.read_sql(query, connection)\n",
    "# 結果\n",
    "print(df)"
   ]
  },
  {
   "cell_type": "markdown",
   "id": "ee035992",
   "metadata": {},
   "source": [
    "查詢資料表 `langchain_pg_embedding` 的內容"
   ]
  },
  {
   "cell_type": "code",
   "execution_count": 81,
   "id": "4b2b8b28",
   "metadata": {},
   "outputs": [
    {
     "name": "stdout",
     "output_type": "stream",
     "text": [
      "                          collection_id  \\\n",
      "0  30286ce9-1967-4266-96f7-1b9ee9630add   \n",
      "1  30286ce9-1967-4266-96f7-1b9ee9630add   \n",
      "2  30286ce9-1967-4266-96f7-1b9ee9630add   \n",
      "\n",
      "                                           embedding   document cmetadata  \\\n",
      "0  [1.46875,0.099609375,0.4609375,-0.038085938,-1...  新德里是印度的首都        {}   \n",
      "1  [1.296875,-0.41992188,0.18457031,0.2578125,-0....     歡迎來到印度        {}   \n",
      "2  [1.125,-0.20507812,-0.47070312,-0.103027344,0....   我今天要去踢足球        {}   \n",
      "\n",
      "                              custom_id                                  uuid  \n",
      "0  6eeb987e-ae83-4ac2-acd3-e502a063fe98  7c152885-a511-42f9-92c4-41237dfbc145  \n",
      "1  5af37314-c3aa-4a96-92f8-3939168cce4a  8bc7792e-a58f-46d8-ae93-dfa50e34e482  \n",
      "2  f95128c4-470d-4a01-9ad7-e556c4ea158f  aa60aee3-0a80-4b5c-9021-c27c52d4c8c3  \n"
     ]
    }
   ],
   "source": [
    "# 查詢資料表內容並將結果儲存在 DataFrame 中\n",
    "query = \"Select * from langchain_pg_embedding;\"\n",
    "\n",
    "# 建立與資料庫的連接並執行查詢\n",
    "with engine.connect() as connection:\n",
    "    df = pd.read_sql(query, connection)\n",
    "# 結果\n",
    "print(df)"
   ]
  },
  {
   "cell_type": "markdown",
   "id": "e307ce9e",
   "metadata": {},
   "source": [
    "## 查詢資料表"
   ]
  },
  {
   "cell_type": "markdown",
   "id": "0825d1bc",
   "metadata": {},
   "source": [
    "使用 `psycopg2`"
   ]
  },
  {
   "cell_type": "code",
   "execution_count": null,
   "id": "91f66b84",
   "metadata": {},
   "outputs": [],
   "source": [
    "import psycopg2\n",
    "import pandas as pd\n",
    "import os\n",
    "from dotenv import load_dotenv\n",
    "\n",
    "load_dotenv()\n",
    "\n",
    "# 連接到 PostgreSQL 資料庫\n",
    "conn = psycopg2.connect(\n",
    "    dbname=os.getenv(\"PGVECTOR_DATABASE\"),\n",
    "    user=os.getenv(\"PGVECTOR_USER\"),\n",
    "    password=os.getenv(\"PGVECTOR_PASSWORD\"),\n",
    "    host=os.getenv(\"PGVECTOR_HOST\"),\n",
    "    port=os.getenv(\"PGVECTOR_PORT\")\n",
    ")\n",
    "\n",
    "# 建立游標物件\n",
    "cur = conn.cursor()\n",
    "# 執行 SQL 查詢\n",
    "cur.execute(\"\"\"\n",
    "    SELECT table_name\n",
    "    FROM information_schema.tables\n",
    "    WHERE table_schema = 'public';\n",
    "\"\"\")\n",
    "# 獲取查詢結果\n",
    "tables = cur.fetchall()\n",
    "# 將結果轉換為 DataFrame（可選）\n",
    "df = pd.DataFrame(tables, columns=['table_name'])\n",
    "# 關閉游標和連接\n",
    "cur.close()\n",
    "conn.close()\n",
    "# 結果\n",
    "print(df)"
   ]
  },
  {
   "cell_type": "markdown",
   "id": "89b5a24b",
   "metadata": {},
   "source": [
    "使用 `SQLAlchemy`"
   ]
  },
  {
   "cell_type": "code",
   "execution_count": null,
   "id": "540a1ada",
   "metadata": {},
   "outputs": [],
   "source": [
    "from sqlalchemy import create_engine\n",
    "import pandas as pd\n",
    "import os\n",
    "from dotenv import load_dotenv\n",
    "\n",
    "load_dotenv()\n",
    "\n",
    "_DATABASE=os.getenv(\"PGVECTOR_DATABASE\")\n",
    "_USER=os.getenv(\"PGVECTOR_USER\")\n",
    "_PASSWORD=os.getenv(\"PGVECTOR_PASSWORD\")\n",
    "_HOST=os.getenv(\"PGVECTOR_HOST\")\n",
    "_PORT=os.getenv(\"PGVECTOR_PORT\")\n",
    "\n",
    "# 連接到 PostgreSQL 資料庫\n",
    "engine = create_engine(\n",
    "    f'postgresql+psycopg2://{_USER}:'\n",
    "    f'{_PASSWORD}@{_HOST}:{_PORT}/{_DATABASE}'\n",
    ")\n",
    "# 執行 SQL 查詢並將結果儲存在 DataFrame 中\n",
    "query = \"\"\"\n",
    "    SELECT table_name\n",
    "    FROM information_schema.tables\n",
    "    WHERE table_schema = 'public';\n",
    "\"\"\"\n",
    "# 執行 SQL 查詢並將結果儲存在 DataFrame 中\n",
    "df = pd.read_sql(query, engine)\n",
    "# 結果\n",
    "print(df)"
   ]
  },
  {
   "cell_type": "markdown",
   "id": "38c17c5f",
   "metadata": {},
   "source": [
    "## 建立向量資料"
   ]
  },
  {
   "cell_type": "markdown",
   "id": "51e4c17f",
   "metadata": {},
   "source": [
    "建立三筆向量數據"
   ]
  },
  {
   "cell_type": "code",
   "execution_count": 80,
   "id": "39a3c8ea-d196-42d3-9b91-f2db18a0d586",
   "metadata": {
    "tags": []
   },
   "outputs": [
    {
     "name": "stderr",
     "output_type": "stream",
     "text": [
      "/Users/samhsiao/Documents/PythonVenv/envllmChatBot/lib/python3.11/site-packages/langchain_community/vectorstores/pgvector.py:322: LangChainPendingDeprecationWarning: Please use JSONB instead of JSON for metadata. This change will allow for more efficient querying that involves filtering based on metadata.Please note that filtering operators have been changed when using JSOB metadata to be prefixed with a $ sign to avoid name collisions with columns. If you're using an existing database, you will need to create adb migration for your metadata column to be JSONB and update your queries to use the new operators. \n",
      "  warn_deprecated(\n"
     ]
    },
    {
     "data": {
      "text/plain": [
       "<langchain_community.vectorstores.pgvector.PGVector at 0x15a2c59d0>"
      ]
     },
     "execution_count": 80,
     "metadata": {},
     "output_type": "execute_result"
    }
   ],
   "source": [
    "texts = [\"新德里是印度的首都\", \"歡迎來到印度\", \"我今天要去踢足球\"]\n",
    "\n",
    "# Text --> Embeddings --> Vectors --> Aurora\n",
    "my_vector_store.from_texts(\n",
    "    texts=texts,\n",
    "    collection_name=COLLECTION_NAME,\n",
    "    connection_string=CONNECTION_STRING,\n",
    "    embedding=embeddings,\n",
    ")"
   ]
  },
  {
   "cell_type": "markdown",
   "id": "00d08b1c-a47f-451b-b0ea-93717f3ff453",
   "metadata": {},
   "source": [
    "建立更多向量"
   ]
  },
  {
   "cell_type": "code",
   "execution_count": 82,
   "id": "6fdc0bfc-6748-484d-9a89-83944a4f8106",
   "metadata": {
    "tags": []
   },
   "outputs": [
    {
     "name": "stderr",
     "output_type": "stream",
     "text": [
      "/Users/samhsiao/Documents/PythonVenv/envllmChatBot/lib/python3.11/site-packages/langchain_community/vectorstores/pgvector.py:322: LangChainPendingDeprecationWarning: Please use JSONB instead of JSON for metadata. This change will allow for more efficient querying that involves filtering based on metadata.Please note that filtering operators have been changed when using JSOB metadata to be prefixed with a $ sign to avoid name collisions with columns. If you're using an existing database, you will need to create adb migration for your metadata column to be JSONB and update your queries to use the new operators. \n",
      "  warn_deprecated(\n"
     ]
    },
    {
     "data": {
      "text/plain": [
       "<langchain_community.vectorstores.pgvector.PGVector at 0x159ba0710>"
      ]
     },
     "execution_count": 82,
     "metadata": {},
     "output_type": "execute_result"
    }
   ],
   "source": [
    "texts = [\n",
    "    \"今晚的天空晴朗\",\n",
    "    \"貓是好奇的動物\",\n",
    "    \"巴黎正在下雨\",\n",
    "    \"學習 Python 可以很有趣\",\n",
    "    \"和朋友一起喝咖啡味道更好\",\n",
    "    \"我住在波士頓，這是一個美麗的城市\",\n",
    "    \"我家旁邊有一個博物館\",\n",
    "    \"音樂將人們聚集在一起\",\n",
    "    \"博物館在少數地方週一休館\",\n",
    "    \"很少有地方博物館每週開放 7 天，就像在我的城市一樣\"\n",
    "]\n",
    "\n",
    "# Text --> Embeddings --> Vectors --> Aurora\n",
    "my_vector_store.from_texts(\n",
    "    texts=texts,\n",
    "    collection_name=COLLECTION_NAME,\n",
    "    connection_string=CONNECTION_STRING,\n",
    "    embedding=embeddings,\n",
    ")"
   ]
  },
  {
   "cell_type": "markdown",
   "id": "bff3e51e-0919-4823-87b4-9fff4b81d5a2",
   "metadata": {
    "tags": []
   },
   "source": [
    "## 使用 `PGVector` 進行 `相似度搜尋`\n"
   ]
  },
  {
   "cell_type": "code",
   "execution_count": 83,
   "id": "c2c1c245-6e5b-4afa-baf6-c630e6dd804f",
   "metadata": {
    "tags": []
   },
   "outputs": [
    {
     "data": {
      "text/plain": [
       "[Document(page_content='很少有地方博物館每週開放 7 天，就像在我的城市一樣'),\n",
       " Document(page_content='博物館在少數地方週一休館'),\n",
       " Document(page_content='我家旁邊有一個博物館'),\n",
       " Document(page_content='我住在波士頓，這是一個美麗的城市')]"
      ]
     },
     "execution_count": 83,
     "metadata": {},
     "output_type": "execute_result"
    }
   ],
   "source": [
    "my_vector_store.similarity_search(\n",
    "    query=\"任何城市的博物館都是全天開放嗎\",\n",
    "    # 從搜索結果中返回最相似的4個結果\n",
    "    k=4\n",
    ")"
   ]
  },
  {
   "cell_type": "markdown",
   "id": "5b502c6b",
   "metadata": {},
   "source": [
    "## 建立新的集合"
   ]
  },
  {
   "cell_type": "markdown",
   "id": "dd753949",
   "metadata": {},
   "source": [
    "需要建立一個 uuid 作為識別符"
   ]
  },
  {
   "cell_type": "code",
   "execution_count": 84,
   "id": "3b7c6cf3",
   "metadata": {},
   "outputs": [
    {
     "name": "stdout",
     "output_type": "stream",
     "text": [
      "新集合已創建，集合 UUID 為：f09b2d2f-8599-44dc-9e85-7d13cc72f277\n"
     ]
    }
   ],
   "source": [
    "# 生成新的 UUID\n",
    "new_uuid = str(uuid.uuid4())\n",
    "\n",
    "# 插入新集合的 SQL 語句\n",
    "insert_collection_query = \"\"\"\n",
    "INSERT INTO langchain_pg_collection (name, cmetadata, uuid)\n",
    "VALUES ('new_collection', '{\"info\": \"some metadata\"}', :uuid)\n",
    "RETURNING uuid;\n",
    "\"\"\"\n",
    "\n",
    "# 執行插入集合並獲取新集合的 UUID\n",
    "with engine.begin() as connection:  # 使用 begin() 確保提交\n",
    "    result = connection.execute(text(insert_collection_query), {\"uuid\": new_uuid})\n",
    "    new_collection_id = result.fetchone()[0]\n",
    "\n",
    "print(f\"新集合已創建，集合 UUID 為：{new_collection_id}\")"
   ]
  },
  {
   "cell_type": "markdown",
   "id": "a3e41e0a",
   "metadata": {},
   "source": [
    "查詢所有集合"
   ]
  },
  {
   "cell_type": "code",
   "execution_count": 85,
   "id": "046d2032",
   "metadata": {},
   "outputs": [
    {
     "name": "stdout",
     "output_type": "stream",
     "text": [
      "             name                  cmetadata  \\\n",
      "0   my_collection                       None   \n",
      "1  new_collection  {'info': 'some metadata'}   \n",
      "\n",
      "                                   uuid  \n",
      "0  30286ce9-1967-4266-96f7-1b9ee9630add  \n",
      "1  f09b2d2f-8599-44dc-9e85-7d13cc72f277  \n"
     ]
    }
   ],
   "source": [
    "# 查詢所有集合的 SQL 語句\n",
    "query_collections = \"SELECT * FROM langchain_pg_collection;\"\n",
    "\n",
    "# 建立與資料庫的連接並執行查詢\n",
    "with engine.connect() as connection:\n",
    "    collections_df = pd.read_sql(query_collections, connection)\n",
    "\n",
    "# 顯示結果\n",
    "print(collections_df)"
   ]
  },
  {
   "cell_type": "markdown",
   "id": "99dc4c96",
   "metadata": {},
   "source": [
    "先進行刪除"
   ]
  },
  {
   "cell_type": "code",
   "execution_count": null,
   "id": "cdf3f9fe",
   "metadata": {},
   "outputs": [],
   "source": [
    "# 刪除所有名為 `new_collection` 的集合\n",
    "delete_query = \"\"\"\n",
    "DELETE FROM langchain_pg_collection\n",
    "WHERE name = 'new_collection';\n",
    "\"\"\"\n",
    "\n",
    "with engine.begin() as connection:\n",
    "    connection.execute(text(delete_query))\n",
    "    print(\"所有名為 'new_collection' 的集合已刪除。\")"
   ]
  },
  {
   "cell_type": "markdown",
   "id": "75d25da7",
   "metadata": {},
   "source": [
    "刪除指定名稱的集合"
   ]
  },
  {
   "cell_type": "code",
   "execution_count": null,
   "id": "73e01cc2",
   "metadata": {},
   "outputs": [],
   "source": [
    "# 指定名稱\n",
    "_collection = 'my_collection'\n",
    "# 刪除\n",
    "delete_query = 'DELETE FROM langchain_pg_collection'\n",
    "f'WHERE name = {_collection};'\n",
    "\n",
    "with engine.begin() as connection:\n",
    "    connection.execute(text(delete_query))\n",
    "    print(f\"所有名為 {_collection} 的集合已刪除。\")"
   ]
  },
  {
   "cell_type": "markdown",
   "id": "5c88d3ed",
   "metadata": {},
   "source": [
    "建立時會先檢查"
   ]
  },
  {
   "cell_type": "code",
   "execution_count": 86,
   "id": "a8f7680e",
   "metadata": {},
   "outputs": [
    {
     "name": "stdout",
     "output_type": "stream",
     "text": [
      "集合 'new_collection' 已經存在，未進行插入操作。\n"
     ]
    }
   ],
   "source": [
    "# 先檢查是否存在名為 `new_collection` 的集合\n",
    "check_query = \"\"\"\n",
    "SELECT COUNT(*)\n",
    "FROM langchain_pg_collection\n",
    "WHERE name = 'new_collection';\n",
    "\"\"\"\n",
    "\n",
    "with engine.connect() as connection:\n",
    "    result = connection.execute(text(check_query))\n",
    "    count = result.scalar()\n",
    "\n",
    "if count == 0:\n",
    "    # 生成新的 UUID\n",
    "    new_uuid = str(uuid.uuid4())\n",
    "\n",
    "    # 插入新集合的 SQL 語句\n",
    "    insert_collection_query = \"\"\"\n",
    "    INSERT INTO langchain_pg_collection (name, cmetadata, uuid)\n",
    "    VALUES ('new_collection', '{\"info\": \"some metadata\"}', :uuid)\n",
    "    RETURNING uuid;\n",
    "    \"\"\"\n",
    "\n",
    "    # 執行插入集合並獲取新集合的 UUID\n",
    "    with engine.begin() as connection:  # 使用 begin() 確保提交\n",
    "        result = connection.execute(text(insert_collection_query), {\"uuid\": new_uuid})\n",
    "        new_collection_id = result.fetchone()[0]\n",
    "\n",
    "    print(f\"新集合已創建，集合 UUID 為：{new_collection_id}\")\n",
    "else:\n",
    "    print(\"集合 'new_collection' 已經存在，未進行插入操作。\")"
   ]
  }
 ],
 "metadata": {
  "kernelspec": {
   "display_name": "envllmChatBot",
   "language": "python",
   "name": "python3"
  },
  "language_info": {
   "codemirror_mode": {
    "name": "ipython",
    "version": 3
   },
   "file_extension": ".py",
   "mimetype": "text/x-python",
   "name": "python",
   "nbconvert_exporter": "python",
   "pygments_lexer": "ipython3",
   "version": "3.11.7"
  }
 },
 "nbformat": 4,
 "nbformat_minor": 5
}
