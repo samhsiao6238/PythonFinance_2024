{
 "cells": [
  {
   "cell_type": "code",
   "execution_count": 1,
   "metadata": {},
   "outputs": [
    {
     "name": "stdout",
     "output_type": "stream",
     "text": [
      " Anthropic 是一家人工智能安全公司。\n"
     ]
    }
   ],
   "source": [
    "import anthropic\n",
    "import requests\n",
    "from dotenv import load_dotenv\n",
    "import os\n",
    "\n",
    "# 加載環境變量\n",
    "load_dotenv()\n",
    "\n",
    "# 設置 API 金鑰\n",
    "API_KEY = os.getenv('ANTHROP_API_KEY')\n",
    "\n",
    "# 建立 Anthropic 客戶端實例\n",
    "client = anthropic.Client(api_key=API_KEY)\n",
    "\n",
    "# 發送消息請求\n",
    "response = client.completions.create(\n",
    "    # 使用支持的模型名稱\n",
    "    model=\"claude-v1\",\n",
    "    max_tokens_to_sample=100,\n",
    "    temperature=0.7,\n",
    "    prompt=\"\\n\\nHuman:請用一句話介紹 Anthropic。\\n\\nAssistant:\"\n",
    ")\n",
    "\n",
    "# 輸出生成的文本\n",
    "print(response.completion)\n"
   ]
  }
 ],
 "metadata": {
  "kernelspec": {
   "display_name": "envllmChatBot",
   "language": "python",
   "name": "python3"
  },
  "language_info": {
   "codemirror_mode": {
    "name": "ipython",
    "version": 3
   },
   "file_extension": ".py",
   "mimetype": "text/x-python",
   "name": "python",
   "nbconvert_exporter": "python",
   "pygments_lexer": "ipython3",
   "version": "3.11.7"
  }
 },
 "nbformat": 4,
 "nbformat_minor": 2
}
