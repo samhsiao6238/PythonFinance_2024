{
 "cells": [
  {
   "cell_type": "code",
   "execution_count": 8,
   "metadata": {},
   "outputs": [],
   "source": [
    "# from haystack.components.embedders import SentenceTransformersTextEmbedder\n",
    "from haystack.components.embedders import SentenceTransformersDocumentEmbedder\n",
    "\n",
    "# 建立嵌入器，並指定要嵌入的元數據欄位\n",
    "embedder = SentenceTransformersDocumentEmbedder(\n",
    "    meta_fields_to_embed=[\"url\"]\n",
    ")"
   ]
  },
  {
   "cell_type": "code",
   "execution_count": 9,
   "metadata": {},
   "outputs": [],
   "source": [
    "from haystack import Pipeline\n",
    "from haystack.components.preprocessors import DocumentCleaner, DocumentSplitter\n",
    "from haystack.components.embedders import SentenceTransformersDocumentEmbedder\n",
    "from haystack.components.writers import DocumentWriter\n",
    "from haystack.document_stores.types import DuplicatePolicy\n",
    "from haystack.utils import ComponentDevice"
   ]
  },
  {
   "cell_type": "markdown",
   "metadata": {},
   "source": [
    "若要使用中文"
   ]
  },
  {
   "cell_type": "code",
   "execution_count": 10,
   "metadata": {},
   "outputs": [],
   "source": [
    "# 設置維基百科語言為中文\n",
    "wikipedia.set_lang(\"zh\")"
   ]
  },
  {
   "cell_type": "code",
   "execution_count": 11,
   "metadata": {},
   "outputs": [],
   "source": [
    "# 定義一個輔助函數：建立索引管道\n",
    "def create_indexing_pipeline(\n",
    "    document_store, metadata_fields_to_embed=None\n",
    "):\n",
    "    # 建立文件清理器\n",
    "    document_cleaner = DocumentCleaner()\n",
    "    # 建立文件分割器，按句子分割\n",
    "    document_splitter = DocumentSplitter(\n",
    "        split_by=\"sentence\", split_length=2\n",
    "    )\n",
    "    # 建立文件嵌入器，並指定要嵌入的元數據欄位\n",
    "    document_embedder = SentenceTransformersDocumentEmbedder(\n",
    "        model=\"thenlper/gte-large\",\n",
    "        meta_fields_to_embed=metadata_fields_to_embed\n",
    "    )\n",
    "    # 建立文件寫入器，使用覆寫策略\n",
    "    document_writer = DocumentWriter(\n",
    "        document_store=document_store,\n",
    "        policy=DuplicatePolicy.OVERWRITE\n",
    "    )\n",
    "    # 建立管道\n",
    "    indexing_pipeline = Pipeline()\n",
    "    # 添加文件清理器\n",
    "    indexing_pipeline.add_component(\n",
    "        \"cleaner\", document_cleaner\n",
    "    )\n",
    "    # 添加文件分割器\n",
    "    indexing_pipeline.add_component(\n",
    "        \"splitter\", document_splitter\n",
    "    )\n",
    "    # 添加文件嵌入器\n",
    "    indexing_pipeline.add_component(\n",
    "        \"embedder\", document_embedder\n",
    "    )\n",
    "    # 添加文件寫入器\n",
    "    indexing_pipeline.add_component(\n",
    "        \"writer\", document_writer\n",
    "    )\n",
    "\n",
    "    # 連接管道組件\n",
    "    indexing_pipeline.connect(\"cleaner\", \"splitter\")\n",
    "    indexing_pipeline.connect(\"splitter\", \"embedder\")\n",
    "    indexing_pipeline.connect(\"embedder\", \"writer\")\n",
    "    # 返回配置好的管道\n",
    "    return indexing_pipeline"
   ]
  },
  {
   "cell_type": "code",
   "execution_count": 12,
   "metadata": {},
   "outputs": [
    {
     "name": "stderr",
     "output_type": "stream",
     "text": [
      "Batches: 100%|██████████| 1/1 [00:02<00:00,  2.93s/it]\n",
      "Batches: 100%|██████████| 1/1 [00:02<00:00,  2.17s/it]\n"
     ]
    },
    {
     "data": {
      "text/plain": [
       "{'writer': {'documents_written': 12}}"
      ]
     },
     "execution_count": 12,
     "metadata": {},
     "output_type": "execute_result"
    }
   ],
   "source": [
    "import wikipedia\n",
    "from haystack import Document\n",
    "from haystack.document_stores.in_memory import InMemoryDocumentStore\n",
    "\n",
    "# 定義需要檢索的樂隊名稱 `披頭四、怪人合唱團（治療樂隊）`\n",
    "# some_bands = \"\"\"The Beatles,The Cure\"\"\".split(\",\")\n",
    "some_bands = \"\"\"五月天,信樂團\"\"\".split(\",\")\n",
    "\n",
    "raw_docs = []\n",
    "\n",
    "# 從維基百科取得每個樂隊的頁面，並建立文件\n",
    "for title in some_bands:\n",
    "    page = wikipedia.page(\n",
    "        title=title, auto_suggest=False\n",
    "    )\n",
    "    doc = Document(\n",
    "        content=page.content,\n",
    "        meta={\n",
    "            \"title\": page.title,\n",
    "            \"url\": page.url\n",
    "        }\n",
    "    )\n",
    "    # 將建立的文件添加到列表中\n",
    "    raw_docs.append(doc)\n",
    "\n",
    "# 建立記憶體文件儲存\n",
    "document_store = InMemoryDocumentStore(\n",
    "    embedding_similarity_function=\"cosine\"\n",
    ")\n",
    "document_store_with_embedded_metadata = InMemoryDocumentStore(\n",
    "    embedding_similarity_function=\"cosine\"\n",
    ")\n",
    "\n",
    "# 建立僅索引內容的管道\n",
    "indexing_pipeline = create_indexing_pipeline(\n",
    "    document_store=document_store\n",
    ")\n",
    "\n",
    "# 建立索引內容和元數據的管道\n",
    "indexing_with_metadata_pipeline = create_indexing_pipeline(\n",
    "    document_store=document_store_with_embedded_metadata,\n",
    "    metadata_fields_to_embed=[\"title\"]\n",
    ")\n",
    "\n",
    "# 執行管道以索引文件\n",
    "indexing_pipeline.run({\n",
    "    \"cleaner\": {\"documents\": raw_docs}\n",
    "})\n",
    "indexing_with_metadata_pipeline.run({\n",
    "    \"cleaner\": {\"documents\": raw_docs}\n",
    "})"
   ]
  },
  {
   "cell_type": "code",
   "execution_count": 13,
   "metadata": {},
   "outputs": [
    {
     "name": "stderr",
     "output_type": "stream",
     "text": [
      "Batches: 100%|██████████| 1/1 [00:00<00:00, 16.39it/s]"
     ]
    },
    {
     "name": "stdout",
     "output_type": "stream",
     "text": [
      "Retriever Results:\n",
      "\n",
      "Document(id=50e230c396fddb360d4ef76f7c715285ad7824d8ca9d758237d67c71a51b83f6, content: 'E、徐佳瑩、梁靜茹、鄧紫棋、家家、艾怡良、魏如萱、黃韻玲 。\n",
      "8月底，五月天對外發佈他們將閉關半年至一年，甚至中斷參與跨年演唱會的十三年紀錄，全心投入新專輯的籌備製作。 === 2016年：第九張錄音...', meta: {'title': '五月天', 'url': 'https://zh.wikipedia.org/wiki/%E4%BA%94%E6%9C%88%E5%A4%A9', 'source_id': '7c9844c6bb95b87986ea230d2b1de1e32fe0f010e2298411f48d13a300823299', 'page_number': 1}, score: 0.745767090764684)\n",
      "Document(id=ae47234e93b13929ddd33b4dc2a5436316ff2f8dab5ebd8551d0a07ffdc57df3, content: 'N.A創造世界巡迴演唱會」最終場後，五月天開始籌備新專輯，短期內沒有大型巡迴演出。由於相信音樂旗下藝人梁靜茹合約轉出，臺北小巨蛋的演唱會無法如期舉行，討論後改由五月天領軍八組樂團，於2010年8月14...', meta: {'title': '五月天', 'url': 'https://zh.wikipedia.org/wiki/%E4%BA%94%E6%9C%88%E5%A4%A9', 'source_id': '7c9844c6bb95b87986ea230d2b1de1e32fe0f010e2298411f48d13a300823299', 'page_number': 1}, score: 0.7401567288991424)\n",
      "Document(id=75efd8c6575f7168129e409aaf417e958166df9535a9e36be27282a7349b93b4, content: 'N.D」來自「D.', meta: {'title': '五月天', 'url': 'https://zh.wikipedia.org/wiki/%E4%BA%94%E6%9C%88%E5%A4%A9', 'source_id': '7c9844c6bb95b87986ea230d2b1de1e32fe0f010e2298411f48d13a300823299', 'page_number': 1}, score: 0.7380219320238993)\n",
      "Retriever with Embeddings Results:\n",
      "\n",
      "Document(id=50e230c396fddb360d4ef76f7c715285ad7824d8ca9d758237d67c71a51b83f6, content: 'E、徐佳瑩、梁靜茹、鄧紫棋、家家、艾怡良、魏如萱、黃韻玲 。\n",
      "8月底，五月天對外發佈他們將閉關半年至一年，甚至中斷參與跨年演唱會的十三年紀錄，全心投入新專輯的籌備製作。 === 2016年：第九張錄音...', meta: {'title': '五月天', 'url': 'https://zh.wikipedia.org/wiki/%E4%BA%94%E6%9C%88%E5%A4%A9', 'source_id': '7c9844c6bb95b87986ea230d2b1de1e32fe0f010e2298411f48d13a300823299', 'page_number': 1}, score: 0.7424754223594707)\n",
      "Document(id=ae47234e93b13929ddd33b4dc2a5436316ff2f8dab5ebd8551d0a07ffdc57df3, content: 'N.A創造世界巡迴演唱會」最終場後，五月天開始籌備新專輯，短期內沒有大型巡迴演出。由於相信音樂旗下藝人梁靜茹合約轉出，臺北小巨蛋的演唱會無法如期舉行，討論後改由五月天領軍八組樂團，於2010年8月14...', meta: {'title': '五月天', 'url': 'https://zh.wikipedia.org/wiki/%E4%BA%94%E6%9C%88%E5%A4%A9', 'source_id': '7c9844c6bb95b87986ea230d2b1de1e32fe0f010e2298411f48d13a300823299', 'page_number': 1}, score: 0.7376775282334427)\n",
      "Document(id=72eb93231351a7798a26d8b1712db275fe080010d424daeab13e166bd70c2bb3, content: '五月天（英語：MayDay） 是於1999年出道的臺灣樂團，由主唱阿信、團長暨吉他手怪獸、吉他手石頭、貝斯手瑪莎和鼓手冠佑共五人組成；除冠佑外，其餘四人皆畢業自臺北市國立臺灣師大附中。樂團前身為「So...', meta: {'title': '五月天', 'url': 'https://zh.wikipedia.org/wiki/%E4%BA%94%E6%9C%88%E5%A4%A9', 'source_id': '7c9844c6bb95b87986ea230d2b1de1e32fe0f010e2298411f48d13a300823299', 'page_number': 1}, score: 0.7330486598602522)\n"
     ]
    },
    {
     "name": "stderr",
     "output_type": "stream",
     "text": [
      "\n"
     ]
    }
   ],
   "source": [
    "from haystack.components.embedders import SentenceTransformersTextEmbedder\n",
    "from haystack.components.retrievers.in_memory import InMemoryEmbeddingRetriever\n",
    "\n",
    "# 建立檢索管道\n",
    "retrieval_pipeline = Pipeline()\n",
    "retrieval_pipeline.add_component(\n",
    "    \"text_embedder\",\n",
    "    SentenceTransformersTextEmbedder(model=\"thenlper/gte-large\")\n",
    ")\n",
    "retrieval_pipeline.add_component(\n",
    "    \"retriever\", InMemoryEmbeddingRetriever(\n",
    "        document_store=document_store,\n",
    "        scale_score=False,\n",
    "        top_k=3\n",
    "    )\n",
    ")\n",
    "retrieval_pipeline.add_component(\n",
    "    \"retriever_with_embeddings\",\n",
    "    InMemoryEmbeddingRetriever(\n",
    "        document_store=document_store_with_embedded_metadata,\n",
    "        scale_score=False, top_k=3\n",
    "    )\n",
    ")\n",
    "\n",
    "# 連接檢索管道組件\n",
    "retrieval_pipeline.connect(\n",
    "    \"text_embedder\", \"retriever\"\n",
    ")\n",
    "retrieval_pipeline.connect(\n",
    "    \"text_embedder\", \"retriever_with_embeddings\"\n",
    ")\n",
    "\n",
    "# 執行檢索並比較結果\n",
    "result = retrieval_pipeline.run({\n",
    "    \"text_embedder\": {\"text\": \"Have the Beatles ever been to Bangor?\"}\n",
    "})\n",
    "# 輸出結果一\n",
    "print(\"Retriever Results:\\n\")\n",
    "# 遍歷\n",
    "for doc in result[\"retriever\"][\"documents\"]:\n",
    "    print(doc)\n",
    "# 輸出結果二\n",
    "print(\"Retriever with Embeddings Results:\\n\")\n",
    "# 遍歷\n",
    "for doc in result[\"retriever_with_embeddings\"][\"documents\"]:\n",
    "    print(doc)"
   ]
  },
  {
   "cell_type": "markdown",
   "metadata": {},
   "source": [
    "優化輸出"
   ]
  },
  {
   "cell_type": "code",
   "execution_count": 14,
   "metadata": {},
   "outputs": [
    {
     "name": "stdout",
     "output_type": "stream",
     "text": [
      "Retriever Results:\n",
      "\n",
      "Document ID: 50e230c396fddb360d4ef76f7c715285ad7824d8ca9d758237d67c71a51b83f6\n",
      "Content: E、徐佳瑩、梁靜茹、鄧紫棋、家家、艾怡良、魏如萱、黃韻玲 。\n",
      "8月底，五月天對外發佈他們將閉關半年至一年，甚至中斷參與跨年演唱會的十三年紀錄，全心投入新專輯的籌備製作。 === 2016年：第九張錄音室專輯《自傳》 ===\n",
      "2016年5月20日至6月1日，五月天在香港紅磡體育館連續舉辦了十場「Just Rock It!!! 就是」世界巡迴演唱會，打破了海外歌手在該場地演出場次最多的記錄。同日，公佈...\n",
      "Metadata: {'title': '五月天', 'url': 'https://zh.wikipedia.org/wiki/%E4%BA%94%E6%9C%88%E5%A4%A9', 'source_id': '7c9844c6bb95b87986ea230d2b1de1e32fe0f010e2298411f48d13a300823299', 'page_number': 1}\n",
      "Score: 0.745767090764684\n",
      "\n",
      "--------------------------------------------------------------------------------\n",
      "Document ID: ae47234e93b13929ddd33b4dc2a5436316ff2f8dab5ebd8551d0a07ffdc57df3\n",
      "Content: N.A創造世界巡迴演唱會」最終場後，五月天開始籌備新專輯，短期內沒有大型巡迴演出。由於相信音樂旗下藝人梁靜茹合約轉出，臺北小巨蛋的演唱會無法如期舉行，討論後改由五月天領軍八組樂團，於2010年8月14日舉行「超犀利趴」演唱會。九個小時馬拉松式的演唱會，引領觀眾穿人字拖入場，亦開放在館內飲食，均造成話題，再創紀錄。 === 2011年：電影「追夢3DNA」與《第二人生》 ===\n",
      "2011年5月20日...\n",
      "Metadata: {'title': '五月天', 'url': 'https://zh.wikipedia.org/wiki/%E4%BA%94%E6%9C%88%E5%A4%A9', 'source_id': '7c9844c6bb95b87986ea230d2b1de1e32fe0f010e2298411f48d13a300823299', 'page_number': 1}\n",
      "Score: 0.7401567288991424\n",
      "\n",
      "--------------------------------------------------------------------------------\n",
      "Document ID: 75efd8c6575f7168129e409aaf417e958166df9535a9e36be27282a7349b93b4\n",
      "Content: N.D」來自「D....\n",
      "Metadata: {'title': '五月天', 'url': 'https://zh.wikipedia.org/wiki/%E4%BA%94%E6%9C%88%E5%A4%A9', 'source_id': '7c9844c6bb95b87986ea230d2b1de1e32fe0f010e2298411f48d13a300823299', 'page_number': 1}\n",
      "Score: 0.7380219320238993\n",
      "\n",
      "--------------------------------------------------------------------------------\n",
      "Retriever with Embeddings Results:\n",
      "\n",
      "Document ID: 50e230c396fddb360d4ef76f7c715285ad7824d8ca9d758237d67c71a51b83f6\n",
      "Content: E、徐佳瑩、梁靜茹、鄧紫棋、家家、艾怡良、魏如萱、黃韻玲 。\n",
      "8月底，五月天對外發佈他們將閉關半年至一年，甚至中斷參與跨年演唱會的十三年紀錄，全心投入新專輯的籌備製作。 === 2016年：第九張錄音室專輯《自傳》 ===\n",
      "2016年5月20日至6月1日，五月天在香港紅磡體育館連續舉辦了十場「Just Rock It!!! 就是」世界巡迴演唱會，打破了海外歌手在該場地演出場次最多的記錄。同日，公佈...\n",
      "Metadata: {'title': '五月天', 'url': 'https://zh.wikipedia.org/wiki/%E4%BA%94%E6%9C%88%E5%A4%A9', 'source_id': '7c9844c6bb95b87986ea230d2b1de1e32fe0f010e2298411f48d13a300823299', 'page_number': 1}\n",
      "Score: 0.7424754223594707\n",
      "\n",
      "--------------------------------------------------------------------------------\n",
      "Document ID: ae47234e93b13929ddd33b4dc2a5436316ff2f8dab5ebd8551d0a07ffdc57df3\n",
      "Content: N.A創造世界巡迴演唱會」最終場後，五月天開始籌備新專輯，短期內沒有大型巡迴演出。由於相信音樂旗下藝人梁靜茹合約轉出，臺北小巨蛋的演唱會無法如期舉行，討論後改由五月天領軍八組樂團，於2010年8月14日舉行「超犀利趴」演唱會。九個小時馬拉松式的演唱會，引領觀眾穿人字拖入場，亦開放在館內飲食，均造成話題，再創紀錄。 === 2011年：電影「追夢3DNA」與《第二人生》 ===\n",
      "2011年5月20日...\n",
      "Metadata: {'title': '五月天', 'url': 'https://zh.wikipedia.org/wiki/%E4%BA%94%E6%9C%88%E5%A4%A9', 'source_id': '7c9844c6bb95b87986ea230d2b1de1e32fe0f010e2298411f48d13a300823299', 'page_number': 1}\n",
      "Score: 0.7376775282334427\n",
      "\n",
      "--------------------------------------------------------------------------------\n",
      "Document ID: 72eb93231351a7798a26d8b1712db275fe080010d424daeab13e166bd70c2bb3\n",
      "Content: 五月天（英語：MayDay） 是於1999年出道的臺灣樂團，由主唱阿信、團長暨吉他手怪獸、吉他手石頭、貝斯手瑪莎和鼓手冠佑共五人組成；除冠佑外，其餘四人皆畢業自臺北市國立臺灣師大附中。樂團前身為「So Band」樂團，於1997年3月29日改為現名，其名稱取自瑪莎在BBS的代號「MayDay」。 == 成員介紹 ==\n",
      "五月天最早由阿信、怪獸和當時的鼓手錢佑達在國立臺灣師範大學附屬高級中學組成（當時...\n",
      "Metadata: {'title': '五月天', 'url': 'https://zh.wikipedia.org/wiki/%E4%BA%94%E6%9C%88%E5%A4%A9', 'source_id': '7c9844c6bb95b87986ea230d2b1de1e32fe0f010e2298411f48d13a300823299', 'page_number': 1}\n",
      "Score: 0.7330486598602522\n",
      "\n",
      "--------------------------------------------------------------------------------\n"
     ]
    }
   ],
   "source": [
    "# 格式化輸出\n",
    "def format_document_output(documents, title):\n",
    "    print(f\"{title} Results:\\n\")\n",
    "    for doc in documents:\n",
    "        print(f\"Document ID: {doc.id}\")\n",
    "        print(f\"Content: {doc.content[:200]}...\")  # 只顯示前200個字元\n",
    "        print(f\"Metadata: {doc.meta}\")\n",
    "        print(f\"Score: {doc.score}\\n\")\n",
    "        print(\"-\" * 80)\n",
    "\n",
    "# 輸出結果一\n",
    "format_document_output(result[\"retriever\"][\"documents\"], \"Retriever\")\n",
    "\n",
    "# 輸出結果二\n",
    "format_document_output(result[\"retriever_with_embeddings\"][\"documents\"], \"Retriever with Embeddings\")"
   ]
  }
 ],
 "metadata": {
  "kernelspec": {
   "display_name": "envHaystack",
   "language": "python",
   "name": "python3"
  },
  "language_info": {
   "codemirror_mode": {
    "name": "ipython",
    "version": 3
   },
   "file_extension": ".py",
   "mimetype": "text/x-python",
   "name": "python",
   "nbconvert_exporter": "python",
   "pygments_lexer": "ipython3",
   "version": "3.10.11"
  }
 },
 "nbformat": 4,
 "nbformat_minor": 2
}
