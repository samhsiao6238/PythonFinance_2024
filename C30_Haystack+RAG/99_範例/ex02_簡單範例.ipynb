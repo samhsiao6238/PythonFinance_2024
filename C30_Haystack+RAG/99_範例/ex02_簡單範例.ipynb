{
 "cells": [
  {
   "cell_type": "markdown",
   "metadata": {},
   "source": [
    "從網絡下載文件"
   ]
  },
  {
   "cell_type": "code",
   "execution_count": 1,
   "metadata": {},
   "outputs": [
    {
     "name": "stderr",
     "output_type": "stream",
     "text": [
      "/Users/samhsiao/Documents/PythonVenv/envHaystack/lib/python3.10/site-packages/tqdm/auto.py:21: TqdmWarning: IProgress not found. Please update jupyter and ipywidgets. See https://ipywidgets.readthedocs.io/en/stable/user_install.html\n",
      "  from .autonotebook import tqdm as notebook_tqdm\n",
      "Calculating embeddings: 100%|██████████| 2/2 [00:01<00:00,  1.02it/s]\n"
     ]
    },
    {
     "data": {
      "text/plain": [
       "{'embedder': {'meta': {'model': 'text-embedding-ada-002',\n",
       "   'usage': {'prompt_tokens': 12972, 'total_tokens': 12972}}},\n",
       " 'writer': {'documents_written': 50}}"
      ]
     },
     "execution_count": 1,
     "metadata": {},
     "output_type": "execute_result"
    }
   ],
   "source": [
    "import urllib.request\n",
    "from haystack import Pipeline, PredefinedPipeline\n",
    "import os\n",
    "from dotenv import load_dotenv\n",
    "\n",
    "load_dotenv()\n",
    "\n",
    "os.environ[\"OPENAI_API_KEY\"] = os.getenv(\"OPENAI_API_KEY\")\n",
    "\n",
    "# 下載範例電子書文件\n",
    "urllib.request.urlretrieve(\n",
    "    \"https://www.gutenberg.org/cache/epub/7785/pg7785.txt\",\n",
    "    \"davinci.txt\"\n",
    ")\n",
    "\n",
    "# 使用預定義的索引管道\n",
    "indexing_pipeline = Pipeline.from_template(PredefinedPipeline.INDEXING)\n",
    "indexing_pipeline.run(data={\"sources\": [\"davinci.txt\"]})"
   ]
  },
  {
   "cell_type": "markdown",
   "metadata": {},
   "source": [
    "建立 RAG 管道：使用預定義的 RAG 管道來回答問題。"
   ]
  },
  {
   "cell_type": "code",
   "execution_count": 3,
   "metadata": {},
   "outputs": [
    {
     "name": "stdout",
     "output_type": "stream",
     "text": [
      "他是利安納多‧達‧文西（Leonardo da Vinci），出生在意大利的小鎮文奇（Vinci），在1519年的復活節前夕去世，享年67歲。\"\n"
     ]
    }
   ],
   "source": [
    "from haystack import Pipeline, PredefinedPipeline\n",
    "\n",
    "# 建立 RAG 管道\n",
    "rag_pipeline = Pipeline.from_template(PredefinedPipeline.RAG)\n",
    "\n",
    "# 提出問題\n",
    "query = \"他是誰？叫什麼名字？出生地在哪裡？他往生的時候是幾歲？\"\n",
    "# 結果\n",
    "result = rag_pipeline.run(\n",
    "    data={\n",
    "        \"prompt_builder\": {\"query\": query},\n",
    "        \"text_embedder\": {\"text\": query}\n",
    "    }\n",
    ")\n",
    "\n",
    "# 輸出答案\n",
    "print(result[\"llm\"][\"replies\"][0])"
   ]
  }
 ],
 "metadata": {
  "kernelspec": {
   "display_name": "envHaystack",
   "language": "python",
   "name": "python3"
  },
  "language_info": {
   "codemirror_mode": {
    "name": "ipython",
    "version": 3
   },
   "file_extension": ".py",
   "mimetype": "text/x-python",
   "name": "python",
   "nbconvert_exporter": "python",
   "pygments_lexer": "ipython3",
   "version": "3.10.11"
  }
 },
 "nbformat": 4,
 "nbformat_minor": 2
}
