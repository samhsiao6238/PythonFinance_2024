{
 "cells": [
  {
   "cell_type": "markdown",
   "metadata": {},
   "source": [
    "官方範例"
   ]
  },
  {
   "cell_type": "code",
   "execution_count": null,
   "metadata": {},
   "outputs": [],
   "source": [
    "from neo4j import GraphDatabase\n",
    "\n",
    "# URI examples: \"neo4j://localhost\", \"neo4j+s://xxx.databases.neo4j.io\"\n",
    "URI = \"neo4j+s://bfc46ed1.databases.neo4j.io\"\n",
    "AUTH = (\"neo4j\", \"8Yc-sCEfoQN5XjrKlV4VqqMilhv6HM4jLrwzLf2P-Ic\")\n",
    "\n",
    "with GraphDatabase.driver(URI, auth=AUTH) as driver:\n",
    "    driver.verify_connectivity()"
   ]
  },
  {
   "cell_type": "markdown",
   "metadata": {},
   "source": [
    "發出請求：查詢符合特定條件的節點"
   ]
  },
  {
   "cell_type": "code",
   "execution_count": null,
   "metadata": {},
   "outputs": [],
   "source": [
    "# 取得年紀是42歲的全部名字 name\n",
    "records, summary, keys = driver.execute_query(\n",
    "    \"MATCH (p:Person {age: $age}) RETURN p.name AS name\",\n",
    "    age=42,\n",
    "    database_=\"neo4j\",\n",
    ")\n",
    "\n",
    "# 遍歷並輸出\n",
    "for person in records:\n",
    "    print(person)\n",
    "\n",
    "# Summary information\n",
    "print(\"The query `{query}` returned {records_count} records in {time} ms.\".format(\n",
    "    query=summary.query, records_count=len(records),\n",
    "    time=summary.result_available_after,\n",
    "))"
   ]
  },
  {
   "cell_type": "markdown",
   "metadata": {},
   "source": [
    "自行修改腳本：取得第一個節點資訊"
   ]
  },
  {
   "cell_type": "code",
   "execution_count": null,
   "metadata": {},
   "outputs": [],
   "source": [
    "from neo4j import GraphDatabase\n",
    "\n",
    "# 設定Neo4j的URI和認證資訊\n",
    "URI = \"neo4j+s://bfc46ed1.databases.neo4j.io\"\n",
    "AUTH = (\"neo4j\", \"8Yc-sCEfoQN5XjrKlV4VqqMilhv6HM4jLrwzLf2P-Ic\")\n",
    "\n",
    "# 連接到Neo4j資料庫\n",
    "driver = GraphDatabase.driver(URI, auth=AUTH)\n",
    "\n",
    "# 執行查詢，獲取第一條 Person 節點的完整內容\n",
    "def get_first_person():\n",
    "    with driver.session(database=\"neo4j\") as session:\n",
    "        result = session.run(\"MATCH (p:Person) RETURN p LIMIT 1\")\n",
    "        record = result.single()\n",
    "        if record:\n",
    "            person_node = record[\"p\"]\n",
    "            return person_node\n",
    "        else:\n",
    "            return None\n",
    "\n",
    "# 獲取第一條 Person 節點的內容並輸出\n",
    "first_person = get_first_person()\n",
    "if first_person:\n",
    "    print(\"First person node data:\", first_person)\n",
    "else:\n",
    "    print(\"No person nodes found.\")\n",
    "\n",
    "driver.close()\n"
   ]
  },
  {
   "cell_type": "markdown",
   "metadata": {},
   "source": [
    "傳回第一個節點"
   ]
  },
  {
   "cell_type": "code",
   "execution_count": null,
   "metadata": {},
   "outputs": [],
   "source": [
    "from neo4j import GraphDatabase\n",
    "\n",
    "# 設定Neo4j的URI和認證資訊\n",
    "URI = \"neo4j+s://bfc46ed1.databases.neo4j.io\"\n",
    "AUTH = (\"neo4j\", \"8Yc-sCEfoQN5XjrKlV4VqqMilhv6HM4jLrwzLf2P-Ic\")\n",
    "\n",
    "# 連接到Neo4j資料庫\n",
    "driver = GraphDatabase.driver(URI, auth=AUTH)\n",
    "\n",
    "# 執行查詢，獲取資料庫中的第一個節點的完整內容\n",
    "def get_first_node():\n",
    "    with driver.session(database=\"neo4j\") as session:\n",
    "        result = session.run(\"MATCH (n) RETURN n LIMIT 1\")\n",
    "        record = result.single()\n",
    "        if record:\n",
    "            node = record[\"n\"]\n",
    "            return node\n",
    "        else:\n",
    "            return None\n",
    "\n",
    "# 獲取第一個節點的內容並輸出\n",
    "first_node = get_first_node()\n",
    "if first_node:\n",
    "    print(\"第一個節點：\", first_node)\n",
    "else:\n",
    "    print(\"資料庫中沒有找到任何節點。\")\n",
    "\n",
    "driver.close()\n"
   ]
  },
  {
   "cell_type": "markdown",
   "metadata": {},
   "source": [
    "自行插入數據"
   ]
  },
  {
   "cell_type": "code",
   "execution_count": null,
   "metadata": {},
   "outputs": [],
   "source": [
    "def insert_test_data():\n",
    "    cypher_query = \"\"\"\n",
    "    CREATE (p1:Person {name: 'Alice', age: 30})\n",
    "    CREATE (p2:Person {name: 'Bob', age: 42})\n",
    "    CREATE (p3:Person {name: 'Tom', age: 33})\n",
    "    CREATE (p4:Person {name: 'Albert', age: 42})\n",
    "    CREATE (p5:Person {name: 'Golden', age: 21})\n",
    "    CREATE (p6:Person {name: 'Kevin', age: 55})\n",
    "    CREATE (p7:Person {name: 'Robert', age: 52})\n",
    "    \"\"\"\n",
    "    with driver.session(database=\"neo4j\") as session:\n",
    "        session.run(cypher_query)\n",
    "        print(\"插入測試資料.\")\n",
    "\n",
    "# 插入測試資料\n",
    "insert_test_data()\n",
    "\n",
    "# 再次獲取第一個節點的內容並輸出\n",
    "first_node = get_first_node()\n",
    "if first_node:\n",
    "    print(\"第一個節點資料: \", first_node)\n",
    "else:\n",
    "    print(\"資料庫中.\")\n",
    "\n",
    "driver.close()\n"
   ]
  }
 ],
 "metadata": {
  "kernelspec": {
   "display_name": "neo4j0514",
   "language": "python",
   "name": "python3"
  },
  "language_info": {
   "codemirror_mode": {
    "name": "ipython",
    "version": 3
   },
   "file_extension": ".py",
   "mimetype": "text/x-python",
   "name": "python",
   "nbconvert_exporter": "python",
   "pygments_lexer": "ipython3",
   "version": "3.10.11"
  }
 },
 "nbformat": 4,
 "nbformat_minor": 2
}
