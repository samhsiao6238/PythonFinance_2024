{
 "cells": [
  {
   "cell_type": "code",
   "execution_count": 5,
   "metadata": {},
   "outputs": [
    {
     "name": "stdout",
     "output_type": "stream",
     "text": [
      "集合 'StockData2' 不存在於資料庫 'TaiwanStockDatabase2' 中。\n"
     ]
    }
   ],
   "source": [
    "import os\n",
    "from pymongo import MongoClient\n",
    "import certifi\n",
    "import streamlit as st\n",
    "\n",
    "# 設置環境變數\n",
    "os.environ[\"OPENAI_API_KEY\"] = st.secrets[\"OPENAI_API_KEY\"]\n",
    "ATLAS_CONNECTION_STRING = st.secrets[\"MONGODB_URL\"]\n",
    "\n",
    "# 連接到 MongoDB Atlas\n",
    "client = MongoClient(ATLAS_CONNECTION_STRING, tlsCAFile=certifi.where())\n",
    "db_name = \"TaiwanStockDatabase\"\n",
    "collection_name = \"StockData\"\n",
    "\n",
    "# 連接到指定資料庫\n",
    "db = client[db_name]\n",
    "\n",
    "# 檢查集合是否存在的函數\n",
    "def check_collection_exists(database, collection_name):\n",
    "    collection_list = database.list_collection_names()\n",
    "    return collection_name in collection_list\n",
    "\n",
    "# 檢查指定的集合是否存在\n",
    "if check_collection_exists(db, collection_name):\n",
    "    print(f\"集合 '{collection_name}' 已存在於資料庫 '{db_name}' 中。\")\n",
    "else:\n",
    "    print(f\"集合 '{collection_name}' 不存在於資料庫 '{db_name}' 中。\")\n"
   ]
  },
  {
   "cell_type": "markdown",
   "metadata": {},
   "source": [
    "先檢查資料庫、再檢查集合"
   ]
  },
  {
   "cell_type": "code",
   "execution_count": 8,
   "metadata": {},
   "outputs": [
    {
     "name": "stdout",
     "output_type": "stream",
     "text": [
      "資料庫 'TaiwanStockDatabase2' 不存在。\n"
     ]
    }
   ],
   "source": [
    "import os\n",
    "from pymongo import MongoClient\n",
    "import certifi\n",
    "import streamlit as st\n",
    "\n",
    "# 設置環境變數\n",
    "os.environ[\"OPENAI_API_KEY\"] = st.secrets[\"OPENAI_API_KEY\"]\n",
    "ATLAS_CONNECTION_STRING = st.secrets[\"MONGODB_URL\"]\n",
    "\n",
    "# 連接到 MongoDB Atlas\n",
    "client = MongoClient(\n",
    "    ATLAS_CONNECTION_STRING, tlsCAFile=certifi.where()\n",
    ")\n",
    "db_name = \"TaiwanStockDatabase2\"\n",
    "collection_name = \"StockData\"\n",
    "\n",
    "# 檢查資料庫是否存在的函數\n",
    "def check_database_exists(client, db_name):\n",
    "    database_list = client.list_database_names()\n",
    "    return db_name in database_list\n",
    "\n",
    "# 檢查集合是否存在的函數\n",
    "def check_collection_exists(database, collection_name):\n",
    "    collection_list = database.list_collection_names()\n",
    "    return collection_name in collection_list\n",
    "\n",
    "# 檢查資料庫和集合是否存在\n",
    "database_exists = check_database_exists(client, db_name)\n",
    "collection_exists = False\n",
    "\n",
    "if database_exists:\n",
    "    db = client[db_name]\n",
    "    collection_exists = check_collection_exists(db, collection_name)\n",
    "\n",
    "# 打印結果\n",
    "if database_exists:\n",
    "    print(f\"資料庫 '{db_name}' 已存在。\")\n",
    "    if collection_exists:\n",
    "        print(f\"集合 '{collection_name}' 已存在於資料庫 '{db_name}' 中。\")\n",
    "    else:\n",
    "        print(f\"集合 '{collection_name}' 不存在於資料庫 '{db_name}' 中。\")\n",
    "else:\n",
    "    print(f\"資料庫 '{db_name}' 不存在。\")\n",
    "\n",
    "# 可選的 Streamlit 顯示結果\n",
    "st.title(\"檢查 MongoDB 資料庫和集合\")\n",
    "if database_exists:\n",
    "    st.write(f\"資料庫 '{db_name}' 已存在。\")\n",
    "    if collection_exists:\n",
    "        st.write(f\"集合 '{collection_name}' 已存在於資料庫 '{db_name}' 中。\")\n",
    "    else:\n",
    "        st.write(f\"集合 '{collection_name}' 不存在於資料庫 '{db_name}' 中。\")\n",
    "else:\n",
    "    st.write(f\"資料庫 '{db_name}' 不存在。\")\n"
   ]
  }
 ],
 "metadata": {
  "kernelspec": {
   "display_name": "env0521",
   "language": "python",
   "name": "python3"
  },
  "language_info": {
   "codemirror_mode": {
    "name": "ipython",
    "version": 3
   },
   "file_extension": ".py",
   "mimetype": "text/x-python",
   "name": "python",
   "nbconvert_exporter": "python",
   "pygments_lexer": "ipython3",
   "version": "3.11.7"
  }
 },
 "nbformat": 4,
 "nbformat_minor": 2
}
