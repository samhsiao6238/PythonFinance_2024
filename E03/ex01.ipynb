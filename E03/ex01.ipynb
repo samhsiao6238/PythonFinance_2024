{
 "cells": [
  {
   "cell_type": "markdown",
   "metadata": {},
   "source": [
    "參考 https://havocfuture.tw/blog/python-stock-history"
   ]
  },
  {
   "cell_type": "markdown",
   "metadata": {},
   "source": [
    "關於 yfinance、ffn、FinMind"
   ]
  },
  {
   "cell_type": "code",
   "execution_count": null,
   "metadata": {},
   "outputs": [],
   "source": []
  }
 ],
 "metadata": {
  "language_info": {
   "name": "python"
  }
 },
 "nbformat": 4,
 "nbformat_minor": 2
}
