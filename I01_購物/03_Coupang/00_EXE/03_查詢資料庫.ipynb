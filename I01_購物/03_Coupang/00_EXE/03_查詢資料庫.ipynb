{
 "cells": [
  {
   "cell_type": "markdown",
   "id": "637d0162",
   "metadata": {},
   "source": [
    "# 查詢資料庫"
   ]
  },
  {
   "cell_type": "code",
   "execution_count": null,
   "id": "ec6a73e8",
   "metadata": {},
   "outputs": [],
   "source": []
  }
 ],
 "metadata": {
  "kernelspec": {
   "display_name": "envStock",
   "language": "python",
   "name": "python3"
  },
  "language_info": {
   "name": "python",
   "version": "3.10.11"
  }
 },
 "nbformat": 4,
 "nbformat_minor": 5
}
