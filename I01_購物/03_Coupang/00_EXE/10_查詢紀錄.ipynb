{
 "cells": [
  {
   "cell_type": "markdown",
   "id": "abca9dcb",
   "metadata": {},
   "source": [
    "# 查詢搜尋紀錄"
   ]
  },
  {
   "cell_type": "code",
   "execution_count": 5,
   "id": "9b64e56d",
   "metadata": {},
   "outputs": [
    {
     "name": "stdout",
     "output_type": "stream",
     "text": [
      "🔍 曾經搜尋過的關鍵字（依照出現次數排序）：\n",
      "🔹 BLUE BAY 倍力 Sense（964 筆）\n",
      "🔹 BLUE BAY 倍力 Animate（300 筆）\n",
      "🔹 INABA CIAO 啾嚕（150 筆）\n",
      "🔹 味丹 MORE氣泡水（150 筆）\n",
      "🔹 kose 洗面乳（128 筆）\n",
      "🔹 味丹 氣泡水（120 筆）\n",
      "🔹 DORO CAT 豆乳貓（90 筆）\n",
      "🔹 YOLOMi 悠樂米（90 筆）\n",
      "🔹 ROYAL CANIN（90 筆）\n",
      "🔹 uno 洗面乳（37 筆）\n",
      "🔹 法國皇家（30 筆）\n",
      "🔹 法國皇家 ROYAL CANIN（10 筆）\n"
     ]
    }
   ],
   "source": [
    "# 導入庫\n",
    "import os\n",
    "import pymysql\n",
    "from dotenv import load_dotenv\n",
    "from collections import Counter\n",
    "\n",
    "# 載入環境變數\n",
    "load_dotenv()\n",
    "\n",
    "# 資料庫設定\n",
    "DB_CONFIG = {\n",
    "    \"host\": os.getenv(\"DB_HOST\"),\n",
    "    \"port\": int(os.getenv(\"DB_PORT\", 3306)),\n",
    "    \"user\": os.getenv(\"DB_USER\"),\n",
    "    \"password\": os.getenv(\"DB_PASSWORD\"),\n",
    "    \"database\": os.getenv(\"DB_NAME\")\n",
    "}\n",
    "\n",
    "# SQL：查詢所有關鍵字，不重複\n",
    "sql = \"\"\"\n",
    "    SELECT search_keyword\n",
    "    FROM coupang_products\n",
    "\"\"\"\n",
    "\n",
    "# 建立連線並查詢\n",
    "connection = pymysql.connect(\n",
    "    host=DB_CONFIG[\"host\"],\n",
    "    port=DB_CONFIG[\"port\"],\n",
    "    user=DB_CONFIG[\"user\"],\n",
    "    password=DB_CONFIG[\"password\"],\n",
    "    database=DB_CONFIG[\"database\"],\n",
    "    charset=\"utf8mb4\",\n",
    "    cursorclass=pymysql.cursors.DictCursor\n",
    ")\n",
    "\n",
    "with connection:\n",
    "    with connection.cursor() as cursor:\n",
    "        cursor.execute(sql)\n",
    "        rows = cursor.fetchall()\n",
    "\n",
    "# 統計出現次數並去重排序\n",
    "keyword_list = [row[\"search_keyword\"] for row in rows if row[\"search_keyword\"]]\n",
    "counter = Counter(keyword_list)\n",
    "sorted_keywords = sorted(counter.items(), key=lambda x: x[1], reverse=True)\n",
    "\n",
    "# 輸出結果\n",
    "print(\"🔍 曾經搜尋過的關鍵字（依照出現次數排序）：\")\n",
    "for keyword, count in sorted_keywords:\n",
    "    print(f\"🔹 {keyword}（{count} 筆）\")"
   ]
  }
 ],
 "metadata": {
  "kernelspec": {
   "display_name": "envStock",
   "language": "python",
   "name": "python3"
  },
  "language_info": {
   "codemirror_mode": {
    "name": "ipython",
    "version": 3
   },
   "file_extension": ".py",
   "mimetype": "text/x-python",
   "name": "python",
   "nbconvert_exporter": "python",
   "pygments_lexer": "ipython3",
   "version": "3.10.11"
  }
 },
 "nbformat": 4,
 "nbformat_minor": 5
}
