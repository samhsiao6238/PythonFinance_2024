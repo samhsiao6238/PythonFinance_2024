{
 "cells": [
  {
   "cell_type": "markdown",
   "id": "43a35ca2",
   "metadata": {},
   "source": [
    "# 取得網頁文本"
   ]
  },
  {
   "cell_type": "code",
   "execution_count": 2,
   "id": "b2b252cc",
   "metadata": {},
   "outputs": [
    {
     "name": "stdout",
     "output_type": "stream",
     "text": [
      "HTML 已儲存至 coupang_snapshot.html\n"
     ]
    }
   ],
   "source": [
    "from selenium import webdriver\n",
    "from selenium.webdriver.chrome.service import Service\n",
    "from selenium.webdriver.chrome.options import Options\n",
    "from webdriver_manager.chrome import ChromeDriverManager\n",
    "from urllib.parse import quote\n",
    "import time\n",
    "\n",
    "# 自訂函數：取得搜尋頁面的超文本\n",
    "def snapshot_coupang_html(\n",
    "    search_keyword: str,\n",
    "    output_file: str = \"coupang_snapshot.html\"\n",
    "):\n",
    "    encoded_keyword = quote(search_keyword)\n",
    "    url = f\"https://www.tw.coupang.com/search?q={encoded_keyword}&channel=user\"\n",
    "\n",
    "    options = Options()\n",
    "    options.add_argument(\"--headless=new\")\n",
    "    options.add_argument(\"--disable-gpu\")\n",
    "    options.add_argument(\"--no-sandbox\")\n",
    "    options.add_argument(\"--lang=zh-TW\")\n",
    "\n",
    "    driver = webdriver.Chrome(\n",
    "        service=Service(ChromeDriverManager().install()),\n",
    "        options=options\n",
    "    )\n",
    "\n",
    "    driver.get(url)\n",
    "    # 可依實際網速延長\n",
    "    time.sleep(5)\n",
    "\n",
    "    html = driver.page_source\n",
    "    driver.quit()\n",
    "\n",
    "    with open(output_file, \"w\", encoding=\"utf-8\") as f:\n",
    "        f.write(html)\n",
    "\n",
    "    print(f\"HTML 已儲存至 {output_file}\")\n",
    "\n",
    "if __name__ == \"__main__\":\n",
    "    snapshot_coupang_html(\"uno 洗面乳\")"
   ]
  }
 ],
 "metadata": {
  "kernelspec": {
   "display_name": "envStock",
   "language": "python",
   "name": "python3"
  },
  "language_info": {
   "codemirror_mode": {
    "name": "ipython",
    "version": 3
   },
   "file_extension": ".py",
   "mimetype": "text/x-python",
   "name": "python",
   "nbconvert_exporter": "python",
   "pygments_lexer": "ipython3",
   "version": "3.10.11"
  }
 },
 "nbformat": 4,
 "nbformat_minor": 5
}
