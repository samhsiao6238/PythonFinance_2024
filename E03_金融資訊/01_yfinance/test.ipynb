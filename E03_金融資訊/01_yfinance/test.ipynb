{
 "cells": [
  {
   "cell_type": "code",
   "execution_count": 2,
   "metadata": {},
   "outputs": [],
   "source": [
    "import ssl\n",
    "import yfinance as yf"
   ]
  },
  {
   "cell_type": "code",
   "execution_count": 4,
   "metadata": {},
   "outputs": [
    {
     "data": {
      "text/plain": [
       "('0.2.33',\n",
       " False,\n",
       " ['address1',\n",
       "  'city',\n",
       "  'state',\n",
       "  'zip',\n",
       "  'country',\n",
       "  'phone',\n",
       "  'website',\n",
       "  'industry',\n",
       "  'industryKey',\n",
       "  'industryDisp'])"
      ]
     },
     "execution_count": 4,
     "metadata": {},
     "output_type": "execute_result"
    }
   ],
   "source": [
    "stock = yf.Ticker(\"AAPL\")\n",
    "yf_version = yf.__version__\n",
    "stock_info = stock.info\n",
    "price_available = 'regularMarketPrice' in stock_info\n",
    "yf_version, price_available, list(stock_info.keys())[:10]"
   ]
  },
  {
   "cell_type": "code",
   "execution_count": 5,
   "metadata": {},
   "outputs": [
    {
     "ename": "AttributeError",
     "evalue": "'str' object has no attribute 'ticker'",
     "output_type": "error",
     "traceback": [
      "\u001b[0;31m---------------------------------------------------------------------------\u001b[0m",
      "\u001b[0;31mAttributeError\u001b[0m                            Traceback (most recent call last)",
      "Cell \u001b[0;32mIn[5], line 2\u001b[0m\n\u001b[1;32m      1\u001b[0m stocks \u001b[38;5;241m=\u001b[39m yf\u001b[38;5;241m.\u001b[39mTickers(\u001b[38;5;124m\"\u001b[39m\u001b[38;5;124mAAPL MSFT GOOGL\u001b[39m\u001b[38;5;124m\"\u001b[39m)\n\u001b[0;32m----> 2\u001b[0m prices \u001b[38;5;241m=\u001b[39m {stock\u001b[38;5;241m.\u001b[39mticker: stock\u001b[38;5;241m.\u001b[39minfo[\u001b[38;5;124m'\u001b[39m\u001b[38;5;124mregularMarketPrice\u001b[39m\u001b[38;5;124m'\u001b[39m] \u001b[38;5;28;01mfor\u001b[39;00m stock \u001b[38;5;129;01min\u001b[39;00m stocks\u001b[38;5;241m.\u001b[39mtickers}\n",
      "Cell \u001b[0;32mIn[5], line 2\u001b[0m, in \u001b[0;36m<dictcomp>\u001b[0;34m(.0)\u001b[0m\n\u001b[1;32m      1\u001b[0m stocks \u001b[38;5;241m=\u001b[39m yf\u001b[38;5;241m.\u001b[39mTickers(\u001b[38;5;124m\"\u001b[39m\u001b[38;5;124mAAPL MSFT GOOGL\u001b[39m\u001b[38;5;124m\"\u001b[39m)\n\u001b[0;32m----> 2\u001b[0m prices \u001b[38;5;241m=\u001b[39m {\u001b[43mstock\u001b[49m\u001b[38;5;241;43m.\u001b[39;49m\u001b[43mticker\u001b[49m: stock\u001b[38;5;241m.\u001b[39minfo[\u001b[38;5;124m'\u001b[39m\u001b[38;5;124mregularMarketPrice\u001b[39m\u001b[38;5;124m'\u001b[39m] \u001b[38;5;28;01mfor\u001b[39;00m stock \u001b[38;5;129;01min\u001b[39;00m stocks\u001b[38;5;241m.\u001b[39mtickers}\n",
      "\u001b[0;31mAttributeError\u001b[0m: 'str' object has no attribute 'ticker'"
     ]
    }
   ],
   "source": [
    "stocks = yf.Tickers(\"AAPL MSFT GOOGL\")\n",
    "prices = {stock.ticker: stock.info['regularMarketPrice'] for stock in stocks.tickers}"
   ]
  },
  {
   "cell_type": "code",
   "execution_count": 7,
   "metadata": {},
   "outputs": [
    {
     "name": "stdout",
     "output_type": "stream",
     "text": [
      "{'AAPL': 'Price Not Available', 'MSFT': 'Price Not Available', 'GOOGL': 'Price Not Available'}\n"
     ]
    }
   ],
   "source": [
    "import yfinance as yf\n",
    "\n",
    "# Initialize multiple tickers\n",
    "stocks = yf.Tickers(\"AAPL MSFT GOOGL\")\n",
    "\n",
    "# Extracting prices for each ticker with error handling\n",
    "prices = {}\n",
    "for ticker in stocks.tickers:\n",
    "    try:\n",
    "        price = stocks.tickers[ticker].info.get('regularMarketPrice', 'Price Not Available')\n",
    "        prices[ticker] = price\n",
    "    except KeyError:\n",
    "        prices[ticker] = 'Price Not Available'\n",
    "\n",
    "print(prices)\n"
   ]
  }
 ],
 "metadata": {
  "kernelspec": {
   "display_name": "envDash",
   "language": "python",
   "name": "python3"
  },
  "language_info": {
   "codemirror_mode": {
    "name": "ipython",
    "version": 3
   },
   "file_extension": ".py",
   "mimetype": "text/x-python",
   "name": "python",
   "nbconvert_exporter": "python",
   "pygments_lexer": "ipython3",
   "version": "3.9.6"
  }
 },
 "nbformat": 4,
 "nbformat_minor": 2
}
