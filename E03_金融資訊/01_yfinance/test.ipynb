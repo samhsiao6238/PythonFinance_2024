{
 "cells": [
  {
   "cell_type": "code",
   "execution_count": 13,
   "metadata": {},
   "outputs": [
    {
     "name": "stdout",
     "output_type": "stream",
     "text": [
      "0.2.33\n"
     ]
    },
    {
     "ename": "KeyError",
     "evalue": "'regularMarketPrice'",
     "output_type": "error",
     "traceback": [
      "\u001b[0;31m---------------------------------------------------------------------------\u001b[0m",
      "\u001b[0;31mKeyError\u001b[0m                                  Traceback (most recent call last)",
      "Cell \u001b[0;32mIn[13], line 5\u001b[0m\n\u001b[1;32m      3\u001b[0m \u001b[38;5;28mprint\u001b[39m(yf\u001b[38;5;241m.\u001b[39m__version__)\n\u001b[1;32m      4\u001b[0m stock \u001b[38;5;241m=\u001b[39m yf\u001b[38;5;241m.\u001b[39mTicker(\u001b[38;5;124m\"\u001b[39m\u001b[38;5;124mAAPL\u001b[39m\u001b[38;5;124m\"\u001b[39m)\n\u001b[0;32m----> 5\u001b[0m price \u001b[38;5;241m=\u001b[39m \u001b[43mstock\u001b[49m\u001b[38;5;241;43m.\u001b[39;49m\u001b[43minfo\u001b[49m\u001b[43m[\u001b[49m\u001b[38;5;124;43m'\u001b[39;49m\u001b[38;5;124;43mregularMarketPrice\u001b[39;49m\u001b[38;5;124;43m'\u001b[39;49m\u001b[43m]\u001b[49m\n\u001b[1;32m      6\u001b[0m \u001b[38;5;28mprint\u001b[39m(\u001b[38;5;124m\"\u001b[39m\u001b[38;5;124mApple\u001b[39m\u001b[38;5;124m'\u001b[39m\u001b[38;5;124ms current stock price: $\u001b[39m\u001b[38;5;124m\"\u001b[39m, price)\n",
      "\u001b[0;31mKeyError\u001b[0m: 'regularMarketPrice'"
     ]
    }
   ],
   "source": [
    "import ssl\n",
    "import yfinance as yf \n",
    "print(yf.__version__)\n",
    "stock = yf.Ticker(\"AAPL\")\n",
    "price = stock.info['regularMarketPrice']\n",
    "print(\"Apple's current stock price: $\", price)"
   ]
  },
  {
   "cell_type": "code",
   "execution_count": 14,
   "metadata": {},
   "outputs": [
    {
     "data": {
      "text/plain": [
       "('0.2.33',\n",
       " False,\n",
       " ['address1',\n",
       "  'city',\n",
       "  'state',\n",
       "  'zip',\n",
       "  'country',\n",
       "  'phone',\n",
       "  'website',\n",
       "  'industry',\n",
       "  'industryKey',\n",
       "  'industryDisp'])"
      ]
     },
     "execution_count": 14,
     "metadata": {},
     "output_type": "execute_result"
    }
   ],
   "source": [
    "import yfinance as yf\n",
    "\n",
    "# Check the version of yfinance\n",
    "yf_version = yf.__version__\n",
    "\n",
    "# Fetching the stock information for Apple\n",
    "stock = yf.Ticker(\"AAPL\")\n",
    "stock_info = stock.info\n",
    "\n",
    "# Checking if 'regularMarketPrice' key is in the info dictionary\n",
    "price_available = 'regularMarketPrice' in stock_info\n",
    "\n",
    "yf_version, price_available, list(stock_info.keys())[:10]  # Show first 10 keys for a brief overview\n"
   ]
  }
 ],
 "metadata": {
  "kernelspec": {
   "display_name": "envDash",
   "language": "python",
   "name": "python3"
  },
  "language_info": {
   "codemirror_mode": {
    "name": "ipython",
    "version": 3
   },
   "file_extension": ".py",
   "mimetype": "text/x-python",
   "name": "python",
   "nbconvert_exporter": "python",
   "pygments_lexer": "ipython3",
   "version": "3.9.6"
  }
 },
 "nbformat": 4,
 "nbformat_minor": 2
}
